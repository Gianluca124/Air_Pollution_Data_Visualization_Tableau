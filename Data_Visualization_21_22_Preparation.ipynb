{
 "cells": [
  {
   "cell_type": "markdown",
   "id": "17da6281",
   "metadata": {
    "heading_collapsed": true
   },
   "source": [
    "# Importazione librerie e setup"
   ]
  },
  {
   "cell_type": "code",
   "execution_count": 11,
   "id": "9d3725ae",
   "metadata": {
    "ExecuteTime": {
     "end_time": "2022-01-17T01:04:07.234023Z",
     "start_time": "2022-01-17T01:04:07.224933Z"
    },
    "hidden": true
   },
   "outputs": [
    {
     "data": {
      "text/html": [
       "<style>.container { width:90% !important; }</style>"
      ],
      "text/plain": [
       "<IPython.core.display.HTML object>"
      ]
     },
     "metadata": {},
     "output_type": "display_data"
    }
   ],
   "source": [
    "from IPython.core.display import display, HTML\n",
    "\n",
    "display(HTML(\"<style>.container { width:90% !important; }</style>\"))"
   ]
  },
  {
   "cell_type": "code",
   "execution_count": 12,
   "id": "416c0c91",
   "metadata": {
    "ExecuteTime": {
     "end_time": "2022-01-17T01:04:07.249230Z",
     "start_time": "2022-01-17T01:04:07.235131Z"
    },
    "hidden": true
   },
   "outputs": [],
   "source": [
    "import pandas as pd\n",
    "import numpy as np\n",
    "import seaborn as sns"
   ]
  },
  {
   "cell_type": "code",
   "execution_count": 13,
   "id": "af572608",
   "metadata": {
    "ExecuteTime": {
     "end_time": "2022-01-17T01:04:07.264644Z",
     "start_time": "2022-01-17T01:04:07.250486Z"
    },
    "hidden": true
   },
   "outputs": [],
   "source": [
    "path = './data/'\n",
    "#meteo_21 = pd.read_parquet(f'{path}/data_meteo/Dati_sensori_meteo_2021.parquet')\n",
    "#meteo_21.head()"
   ]
  },
  {
   "cell_type": "markdown",
   "id": "a4193c40",
   "metadata": {},
   "source": [
    "# Conversione files e Importazione datasets"
   ]
  },
  {
   "cell_type": "markdown",
   "id": "e63d95f6",
   "metadata": {
    "heading_collapsed": true
   },
   "source": [
    "## Convesione da `.csv` a `.parquet`"
   ]
  },
  {
   "cell_type": "markdown",
   "id": "f1631d44",
   "metadata": {
    "hidden": true
   },
   "source": [
    "Data la grande dimensione di alcuni dei dataset utilizzati, questi verranno convertiti da `.csv` a `.parquet` (Apache Parquet Format)"
   ]
  },
  {
   "cell_type": "code",
   "execution_count": 14,
   "id": "3ee688d7",
   "metadata": {
    "ExecuteTime": {
     "end_time": "2022-01-17T01:04:07.279910Z",
     "start_time": "2022-01-17T01:04:07.266178Z"
    },
    "hidden": true
   },
   "outputs": [],
   "source": [
    "#df = pd.read_csv('./Datasets/Dati_sensori_meteo_2021.csv', low_memory=False)\n",
    "#df.to_parquet('./Datasets/Dati_sensori_meteo_2021.parquet')"
   ]
  },
  {
   "cell_type": "markdown",
   "id": "35f53d80",
   "metadata": {
    "heading_collapsed": true
   },
   "source": [
    "## Dataset Meteo - rilevazioni"
   ]
  },
  {
   "cell_type": "markdown",
   "id": "2362e611",
   "metadata": {
    "heading_collapsed": true,
    "hidden": true
   },
   "source": [
    "### Attributi"
   ]
  },
  {
   "cell_type": "markdown",
   "id": "ecdfd91b",
   "metadata": {
    "hidden": true
   },
   "source": [
    "- IdSensore: \n",
    "    - Tipologia: Testo normale\n",
    "- Data: \n",
    "    - Data e ora, Marcatura oraria flessibile\n",
    "- Valore: \n",
    "    - Tipologia: numero\n",
    "    - Legenda: 9999 = dato mancante 888, 8888 = direzione vento variabile 777, 7777 = calma (solo per direzione di vento)\n",
    "- idOperatore\t\n",
    "    - *Molto utile per capire la dimensione del dato*\n",
    "    - LEGENDA: 1: Valore medio 3: Valore massimo 4: Valore cumulato (per la pioggia)\n",
    "    - Testo normale\n",
    "- Stato\t\n",
    "    - LEGENDA: VA, VV = dato valido NA, NV, NC = dato invalido NI = dato incerto ND = dato non disponibile\n",
    "    - Testo normale"
   ]
  },
  {
   "cell_type": "markdown",
   "id": "16d41c19",
   "metadata": {
    "hidden": true
   },
   "source": [
    "### Read_csv"
   ]
  },
  {
   "cell_type": "markdown",
   "id": "f8bfa39c",
   "metadata": {
    "heading_collapsed": true
   },
   "source": [
    "## Dataset Meteo - sensori"
   ]
  },
  {
   "cell_type": "markdown",
   "id": "f624b390",
   "metadata": {
    "heading_collapsed": true,
    "hidden": true
   },
   "source": [
    "### Attributi"
   ]
  },
  {
   "cell_type": "markdown",
   "id": "ac4dca40",
   "metadata": {
    "hidden": true
   },
   "source": [
    "- **IdSensore**\n",
    "    - Foreign Key con vincolo di integrità referenziale a `IdSensore` di meteo_21\n",
    "    - Testo normale\n",
    "- **Tipologia**\n",
    "    - Grandezza misurata\n",
    "    - Testo normale\n",
    "- **Unità DiMisura**\n",
    "    - Unità di misura della grandezza\n",
    "    - Testo normale\n",
    "- IdStazione\t\n",
    "    - Numero identificativo della stazione (penso perchè ogni stazione può avere più sensori)\n",
    "    - Testo normale\n",
    "- NomeStazione\t\n",
    "    - Località della stazione (Spesso è 'Comune via' o 'Comune località)'\n",
    "    - Testo normale\n",
    "- Quota\t\n",
    "    - Altitudine\n",
    "    - Numero\n",
    "- Provincia\n",
    "    - Sigla della provincia\n",
    "    - Testo normale\n",
    "- DataStart\t\n",
    "    - Data e ora\n",
    "- DataStop\t\n",
    "    - Data e ora\n",
    "- Storico\t\n",
    "    - Noto che assume valori N e S ma non capisco cosa sia\n",
    "    - Testo normale\n",
    "- UTM_Nord\t\n",
    "    - Coordinata UTM nord (le cordinate utm permettono di individuare univocamente un punto sulla cartina terrestre)\n",
    "    - Testo normale\n",
    "- UTM_Est\t\n",
    "    - Coordinata UTM est\n",
    "    - Testo normale\n",
    "- lng\t\n",
    "    - Longitudine (senza simbolo gradi)\n",
    "    - Numero\n",
    "- lat\t\n",
    "    - Latitudine (senza simbolo gradi)\n",
    "    - Numero\n",
    "- location\t\n",
    "    - (latitudine°, longitudine°)\n",
    "    - Posizione"
   ]
  },
  {
   "cell_type": "markdown",
   "id": "e5c434f2",
   "metadata": {
    "heading_collapsed": true,
    "hidden": true
   },
   "source": [
    "### Caratteristiche"
   ]
  },
  {
   "cell_type": "markdown",
   "id": "a2cebcc0",
   "metadata": {
    "hidden": true
   },
   "source": [
    "Sono disponibili i dati delle grandezze:\n",
    "- Livello Idrometrico (cm)\n",
    "- Altezza neve (cm)\n",
    "- Precipitazione (mm)\n",
    "- Temperatura (°C)\n",
    "- Umidità Relativa (%)\n",
    "- Radiazione Globale (W/m2)\n",
    "- Velocità e Direzione Vento (m/s e gradi).\n",
    "- Velocità e direzione del vento (m/s e gradi N) raffica\n",
    "NB: l’orario del dato è \"ora solare\" e si riferisce alle osservazioni ottenute fino all’orario indicato."
   ]
  },
  {
   "cell_type": "markdown",
   "id": "e80d8a70",
   "metadata": {
    "heading_collapsed": true,
    "hidden": true
   },
   "source": [
    "### Read_csv"
   ]
  },
  {
   "cell_type": "code",
   "execution_count": 15,
   "id": "9c1aee03",
   "metadata": {
    "ExecuteTime": {
     "end_time": "2022-01-17T01:04:07.295178Z",
     "start_time": "2022-01-17T01:04:07.280903Z"
    },
    "hidden": true
   },
   "outputs": [],
   "source": [
    "#sensori_meteo = pd.read_csv(f'{path}Stazioni_Meteorologiche.csv', dtype = {'Tipologia': 'category'})\n",
    "#sensori_meteo.head()\n",
    "#stazioni_meteo['Tipologia'].value_counts()"
   ]
  },
  {
   "cell_type": "markdown",
   "id": "bf2fb482",
   "metadata": {},
   "source": [
    "## Dataset Qualità dell'aria - rilevazioni"
   ]
  },
  {
   "cell_type": "markdown",
   "id": "b4682e9e",
   "metadata": {
    "heading_collapsed": true
   },
   "source": [
    "### Attributi"
   ]
  },
  {
   "cell_type": "markdown",
   "id": "d68299df",
   "metadata": {
    "hidden": true
   },
   "source": [
    "- **IdSensore**: \n",
    "    - Identificativo Univoco che distingue il sensore\n",
    "    - Tipologia: Testo normale\n",
    "- **Data**: \n",
    "    - Data e ora, Marcatura oraria flessibile\n",
    "    - I dati forniti hanno frequenza oraria tranne PM10 e PM2.5 per i quali è fornita la media giornaliera.\n",
    "- **Valore**: \n",
    "    - Tipologia: numero\n",
    "    - LEGENDA:-9999 = dato mancante o invalido\n",
    "- **idOperatore**\n",
    "    - *Molto utile per capire la dimensione del dato*\n",
    "    - LEGENDA: 1: Valore medio \n",
    "    - In realtà: I dati forniti hanno frequenza oraria tranne PM10 e PM2.5 per i quali è fornita la media giornaliera.\n",
    "    - Testo normale\n",
    "- **Stato**\t\n",
    "    - VA = dato valido NA = dato invalido I dati presenti in questo archivio relativi agli ultimi 3-6 mesi, contengono ancora valori incerti che possono subire modifiche da parte degli operatori delle reti (invalidazione manuale). Il processo di validazione dei dati prevede una fase di valutazione finale che si conclude entro il 30.3 dell’anno successivo a quello di misura.\n",
    "    - Testo normale"
   ]
  },
  {
   "cell_type": "markdown",
   "id": "52634b34",
   "metadata": {
    "heading_collapsed": true
   },
   "source": [
    "### Caratteristiche"
   ]
  },
  {
   "cell_type": "markdown",
   "id": "0c30d3ab",
   "metadata": {
    "hidden": true
   },
   "source": [
    "- La rete di rilevamento della qualità dell’aria di ARPA Lombardia è costituita da stazioni fisse che, per mezzo di analizzatori automatici, forniscono dati in continuo ad intervalli temporali regolari. \n",
    "- Le specie di inquinanti monitorate in continuo sono NOX, SO2, CO, O3, PM10, PM2.5 e benzene. A seconda del contesto ambientale nel quale è attivo il monitoraggio, diversa è la tipologia di inquinanti che è necessario rilevare. Pertanto, non tutte le stazioni sono dotate della medesima strumentazione analitica. \n",
    "- Le postazioni regionali sono distribuite su tutto il territorio regionale in funzione della densità abitativa e della tipologia di territorio rispettando i criteri definiti dal D.Lgs. 155/2010.\n",
    "- **I dati forniti hanno frequenza oraria tranne PM10 e PM2.5 per i quali è fornita la media giornaliera.**"
   ]
  },
  {
   "cell_type": "markdown",
   "id": "cec8058d",
   "metadata": {},
   "source": [
    "### Reading"
   ]
  },
  {
   "cell_type": "code",
   "execution_count": 16,
   "id": "d5262d2d",
   "metadata": {
    "ExecuteTime": {
     "end_time": "2022-01-17T01:04:07.309996Z",
     "start_time": "2022-01-17T01:04:07.296170Z"
    }
   },
   "outputs": [],
   "source": [
    "aria_dict = {} #creo dizionario che contiene tutti i dataframe per l'aria\n",
    "\n",
    "# Prendere qualche giorno prima e qualche giorno dopo degli anni considerati cosi da avere valori attendibili delle medie mobili agli estremi"
   ]
  },
  {
   "cell_type": "code",
   "execution_count": 17,
   "id": "9a358cd0",
   "metadata": {
    "ExecuteTime": {
     "end_time": "2022-01-17T01:04:20.165391Z",
     "start_time": "2022-01-17T01:04:07.311062Z"
    }
   },
   "outputs": [
    {
     "data": {
      "text/plain": [
       "IdSensore               int64\n",
       "Data           datetime64[ns]\n",
       "Valore                float64\n",
       "Stato                  object\n",
       "idOperatore             int64\n",
       "dtype: object"
      ]
     },
     "execution_count": 17,
     "metadata": {},
     "output_type": "execute_result"
    }
   ],
   "source": [
    "aria_dict['aria96_00'] = pd.read_csv(f'{path}/data_aria/Dati_sensori_aria_1996_2000.csv',\n",
    "                      na_values=['-9999'],\\\n",
    "                      parse_dates=['Data'],\\\n",
    "                      dayfirst=True,\\\n",
    "                     )\n",
    "aria_dict['aria96_00'].dtypes"
   ]
  },
  {
   "cell_type": "code",
   "execution_count": 18,
   "id": "d3d60c6d",
   "metadata": {
    "ExecuteTime": {
     "end_time": "2022-01-17T01:04:30.119797Z",
     "start_time": "2022-01-17T01:04:20.166908Z"
    }
   },
   "outputs": [
    {
     "data": {
      "text/plain": [
       "IdSensore               int64\n",
       "Data           datetime64[ns]\n",
       "Valore                float64\n",
       "Stato                  object\n",
       "idOperatore             int64\n",
       "dtype: object"
      ]
     },
     "execution_count": 18,
     "metadata": {},
     "output_type": "execute_result"
    }
   ],
   "source": [
    "# Importazione Dataset da 2001 a 2014\n",
    "aria_dict['aria01_04'] = pd.read_csv(f'{path}/data_aria/Dati_sensori_aria_2001_2004.csv',\n",
    "                      na_values=['-9999'],\\\n",
    "                      parse_dates=['Data'],\\\n",
    "                      dayfirst=True,\\\n",
    "                     )\n",
    "aria_dict['aria01_04'].dtypes"
   ]
  },
  {
   "cell_type": "code",
   "execution_count": 19,
   "id": "c2e82fcd",
   "metadata": {
    "ExecuteTime": {
     "end_time": "2022-01-17T01:04:38.855657Z",
     "start_time": "2022-01-17T01:04:30.120807Z"
    }
   },
   "outputs": [
    {
     "data": {
      "text/plain": [
       "IdSensore               int64\n",
       "Data           datetime64[ns]\n",
       "Valore                float64\n",
       "Stato                  object\n",
       "idOperatore             int64\n",
       "dtype: object"
      ]
     },
     "execution_count": 19,
     "metadata": {},
     "output_type": "execute_result"
    }
   ],
   "source": [
    "# Importazione Dataset da 2001 a 2016\n",
    "aria_dict['aria05_07'] = pd.read_csv(f'{path}/data_aria/Dati_sensori_aria_2005_2007.csv',\n",
    "                      na_values=['-9999'],\\\n",
    "                      parse_dates=['Data'],\\\n",
    "                      dayfirst=True,\\\n",
    "                     )\n",
    "aria_dict['aria05_07'].dtypes"
   ]
  },
  {
   "cell_type": "code",
   "execution_count": 20,
   "id": "926ad029",
   "metadata": {
    "ExecuteTime": {
     "end_time": "2022-01-17T01:04:47.989749Z",
     "start_time": "2022-01-17T01:04:38.857648Z"
    }
   },
   "outputs": [
    {
     "data": {
      "text/plain": [
       "IdSensore               int64\n",
       "Data           datetime64[ns]\n",
       "Valore                float64\n",
       "Stato                  object\n",
       "idOperatore             int64\n",
       "dtype: object"
      ]
     },
     "execution_count": 20,
     "metadata": {},
     "output_type": "execute_result"
    }
   ],
   "source": [
    "# Importazione Dataset da 2008 a 2010\n",
    "aria_dict['aria08_10'] = pd.read_csv(f'{path}/data_aria/Dati_sensori_aria_2008_2010.csv',\n",
    "                      na_values=['-9999'],\\\n",
    "                      parse_dates=['Data'],\\\n",
    "                      dayfirst=True,\\\n",
    "                     )\n",
    "aria_dict['aria08_10'].dtypes"
   ]
  },
  {
   "cell_type": "code",
   "execution_count": 21,
   "id": "635d3285",
   "metadata": {
    "ExecuteTime": {
     "end_time": "2022-01-17T01:04:50.697507Z",
     "start_time": "2022-01-17T01:04:47.990750Z"
    }
   },
   "outputs": [
    {
     "data": {
      "text/plain": [
       "IdSensore               int64\n",
       "Data           datetime64[ns]\n",
       "Valore                float64\n",
       "Stato                  object\n",
       "idOperatore             int64\n",
       "dtype: object"
      ]
     },
     "execution_count": 21,
     "metadata": {},
     "output_type": "execute_result"
    }
   ],
   "source": [
    "# Converto in importazione i -9999 in NA\n",
    "aria_dict['aria11'] = pd.read_csv(f'{path}/data_aria/Dati_sensori_aria_2011.csv',\n",
    "                      na_values=['-9999'],\\\n",
    "                      parse_dates=['Data'],\\\n",
    "                      dayfirst=True,\\\n",
    "                     )\n",
    "aria_dict['aria11'].dtypes"
   ]
  },
  {
   "cell_type": "code",
   "execution_count": 22,
   "id": "cb7c13fd",
   "metadata": {
    "ExecuteTime": {
     "end_time": "2022-01-17T01:04:53.625087Z",
     "start_time": "2022-01-17T01:04:50.699030Z"
    }
   },
   "outputs": [
    {
     "data": {
      "text/plain": [
       "IdSensore               int64\n",
       "Data           datetime64[ns]\n",
       "Valore                float64\n",
       "Stato                  object\n",
       "idOperatore             int64\n",
       "dtype: object"
      ]
     },
     "execution_count": 22,
     "metadata": {},
     "output_type": "execute_result"
    }
   ],
   "source": [
    "# Converto in importazione i -9999 in NA\n",
    "aria_dict['aria12'] = pd.read_csv(f'{path}/data_aria/Dati_sensori_aria_2012.csv',\n",
    "                      na_values=['-9999'],\\\n",
    "                      parse_dates=['Data'],\\\n",
    "                      dayfirst=True,\\\n",
    "                     )\n",
    "aria_dict['aria12'].dtypes"
   ]
  },
  {
   "cell_type": "code",
   "execution_count": 23,
   "id": "7a026cf0",
   "metadata": {
    "ExecuteTime": {
     "end_time": "2022-01-17T01:04:57.525003Z",
     "start_time": "2022-01-17T01:04:53.626139Z"
    }
   },
   "outputs": [
    {
     "data": {
      "text/plain": [
       "IdSensore               int64\n",
       "Data           datetime64[ns]\n",
       "Valore                float64\n",
       "Stato                  object\n",
       "idOperatore             int64\n",
       "dtype: object"
      ]
     },
     "execution_count": 23,
     "metadata": {},
     "output_type": "execute_result"
    }
   ],
   "source": [
    "# Converto in importazione i -9999 in NA\n",
    "aria_dict['aria13'] = pd.read_csv(f'{path}/data_aria/Dati_sensori_aria_2013.csv',\n",
    "                      na_values=['-9999'],\\\n",
    "                      parse_dates=['Data'],\\\n",
    "                      dayfirst=True,\\\n",
    "                     )\n",
    "aria_dict['aria13'].dtypes"
   ]
  },
  {
   "cell_type": "code",
   "execution_count": 24,
   "id": "3442e95b",
   "metadata": {
    "ExecuteTime": {
     "end_time": "2022-01-17T01:05:01.197251Z",
     "start_time": "2022-01-17T01:04:57.525952Z"
    }
   },
   "outputs": [
    {
     "data": {
      "text/plain": [
       "IdSensore               int64\n",
       "Data           datetime64[ns]\n",
       "Valore                float64\n",
       "Stato                  object\n",
       "idOperatore             int64\n",
       "dtype: object"
      ]
     },
     "execution_count": 24,
     "metadata": {},
     "output_type": "execute_result"
    }
   ],
   "source": [
    "# Converto in importazione i -9999 in NA\n",
    "aria_dict['aria14'] = pd.read_csv(f'{path}/data_aria/Dati_sensori_aria_2014.csv',\n",
    "                      na_values=['-9999'],\\\n",
    "                      parse_dates=['Data'],\\\n",
    "                      dayfirst=True,\\\n",
    "                     )\n",
    "aria_dict['aria14'].dtypes"
   ]
  },
  {
   "cell_type": "code",
   "execution_count": 25,
   "id": "be55c014",
   "metadata": {
    "ExecuteTime": {
     "end_time": "2022-01-17T01:05:04.599688Z",
     "start_time": "2022-01-17T01:05:01.199261Z"
    }
   },
   "outputs": [
    {
     "data": {
      "text/plain": [
       "IdSensore               int64\n",
       "Data           datetime64[ns]\n",
       "Valore                float64\n",
       "Stato                  object\n",
       "idOperatore             int64\n",
       "dtype: object"
      ]
     },
     "execution_count": 25,
     "metadata": {},
     "output_type": "execute_result"
    }
   ],
   "source": [
    "# Converto in importazione i -9999 in NA\n",
    "aria_dict['aria15'] = pd.read_csv(f'{path}/data_aria/Dati_sensori_aria_2015.csv',\n",
    "                      na_values=['-9999'],\\\n",
    "                      parse_dates=['Data'],\\\n",
    "                      dayfirst=True,\\\n",
    "                     )\n",
    "aria_dict['aria15'].dtypes"
   ]
  },
  {
   "cell_type": "code",
   "execution_count": 26,
   "id": "a6549ab6",
   "metadata": {
    "ExecuteTime": {
     "end_time": "2022-01-17T01:05:07.821988Z",
     "start_time": "2022-01-17T01:05:04.601906Z"
    }
   },
   "outputs": [
    {
     "data": {
      "text/plain": [
       "IdSensore               int64\n",
       "Data           datetime64[ns]\n",
       "Valore                float64\n",
       "Stato                  object\n",
       "idOperatore             int64\n",
       "dtype: object"
      ]
     },
     "execution_count": 26,
     "metadata": {},
     "output_type": "execute_result"
    }
   ],
   "source": [
    "# Converto in importazione i -9999 in NA\n",
    "aria_dict['aria16'] = pd.read_csv(f'{path}/data_aria/Dati_sensori_aria_2016.csv',\n",
    "                      na_values=['-9999'],\\\n",
    "                      parse_dates=['Data'],\\\n",
    "                      dayfirst=True,\\\n",
    "                     )\n",
    "aria_dict['aria16'].dtypes"
   ]
  },
  {
   "cell_type": "code",
   "execution_count": 27,
   "id": "c56a27c2",
   "metadata": {
    "ExecuteTime": {
     "end_time": "2022-01-17T01:05:10.511283Z",
     "start_time": "2022-01-17T01:05:07.823990Z"
    }
   },
   "outputs": [
    {
     "data": {
      "text/plain": [
       "IdSensore               int64\n",
       "Data           datetime64[ns]\n",
       "Valore                float64\n",
       "Stato                  object\n",
       "idOperatore             int64\n",
       "dtype: object"
      ]
     },
     "execution_count": 27,
     "metadata": {},
     "output_type": "execute_result"
    }
   ],
   "source": [
    "# Converto in importazione i -9999 in NA\n",
    "aria_dict['aria17'] = pd.read_csv(f'{path}/data_aria/Dati_sensori_aria_2017.csv',\n",
    "                      na_values=['-9999'],\\\n",
    "                      parse_dates=['Data'],\\\n",
    "                      dayfirst=True,\\\n",
    "                     )\n",
    "aria_dict['aria17'].dtypes"
   ]
  },
  {
   "cell_type": "code",
   "execution_count": 28,
   "id": "173ceeba",
   "metadata": {
    "ExecuteTime": {
     "end_time": "2022-01-17T01:05:12.894433Z",
     "start_time": "2022-01-17T01:05:10.512365Z"
    }
   },
   "outputs": [
    {
     "data": {
      "text/plain": [
       "IdSensore               int64\n",
       "Data           datetime64[ns]\n",
       "Valore                float64\n",
       "Stato                  object\n",
       "idOperatore             int64\n",
       "dtype: object"
      ]
     },
     "execution_count": 28,
     "metadata": {},
     "output_type": "execute_result"
    }
   ],
   "source": [
    "# Converto in importazione i -9999 in NA\n",
    "aria_dict['aria18'] = pd.read_csv(f'{path}/data_aria/Dati_sensori_aria_2018.csv',\n",
    "                      na_values=['-9999'],\\\n",
    "                      parse_dates=['Data'],\\\n",
    "                      dayfirst=True,\\\n",
    "                     )\n",
    "aria_dict['aria18'].dtypes"
   ]
  },
  {
   "cell_type": "code",
   "execution_count": 29,
   "id": "9c3a673f",
   "metadata": {
    "ExecuteTime": {
     "end_time": "2022-01-17T01:05:15.323314Z",
     "start_time": "2022-01-17T01:05:12.895497Z"
    }
   },
   "outputs": [
    {
     "data": {
      "text/plain": [
       "IdSensore               int64\n",
       "Data           datetime64[ns]\n",
       "Valore                float64\n",
       "Stato                  object\n",
       "idOperatore             int64\n",
       "dtype: object"
      ]
     },
     "execution_count": 29,
     "metadata": {},
     "output_type": "execute_result"
    }
   ],
   "source": [
    "# Converto in importazione i -9999 in NA\n",
    "aria_dict['aria19'] = pd.read_csv(f'{path}/data_aria/Dati_sensori_aria_2019.csv',\n",
    "                      na_values=['-9999'],\\\n",
    "                      parse_dates=['Data'],\\\n",
    "                      dayfirst=True,\\\n",
    "                     )\n",
    "aria_dict['aria19'].dtypes"
   ]
  },
  {
   "cell_type": "code",
   "execution_count": 30,
   "id": "caa8b1af",
   "metadata": {
    "ExecuteTime": {
     "end_time": "2022-01-17T01:05:17.766115Z",
     "start_time": "2022-01-17T01:05:15.324356Z"
    }
   },
   "outputs": [
    {
     "data": {
      "text/plain": [
       "IdSensore               int64\n",
       "Data           datetime64[ns]\n",
       "Valore                float64\n",
       "Stato                  object\n",
       "idOperatore             int64\n",
       "dtype: object"
      ]
     },
     "execution_count": 30,
     "metadata": {},
     "output_type": "execute_result"
    }
   ],
   "source": [
    "# Converto in importazione i -9999 in NA\n",
    "aria_dict['aria20'] = pd.read_csv(f'{path}/data_aria/Dati_sensori_aria_2020.csv',\n",
    "                      na_values=['-9999'],\\\n",
    "                      parse_dates=['Data'],\\\n",
    "                      dayfirst=True,\\\n",
    "                     )\n",
    "aria_dict['aria20'].dtypes"
   ]
  },
  {
   "cell_type": "code",
   "execution_count": 31,
   "id": "89a4132a",
   "metadata": {
    "ExecuteTime": {
     "end_time": "2022-01-17T01:05:20.602541Z",
     "start_time": "2022-01-17T01:05:17.767199Z"
    },
    "scrolled": true
   },
   "outputs": [
    {
     "data": {
      "text/plain": [
       "IdSensore               int64\n",
       "Data           datetime64[ns]\n",
       "Valore                float64\n",
       "Stato                  object\n",
       "idOperatore             int64\n",
       "dtype: object"
      ]
     },
     "execution_count": 31,
     "metadata": {},
     "output_type": "execute_result"
    }
   ],
   "source": [
    "# Converto in importazione i -9999 in NA\n",
    "aria_dict['aria21'] = pd.read_csv(f'{path}/data_aria/Dati_sensori_aria_2021.csv',\n",
    "                      na_values=['-9999'],\\\n",
    "                      parse_dates=['Data'],\\\n",
    "                      dayfirst=True,\\\n",
    "                     )\n",
    "aria_dict['aria21'].dtypes"
   ]
  },
  {
   "cell_type": "markdown",
   "id": "ef527439",
   "metadata": {
    "heading_collapsed": true
   },
   "source": [
    "### Concatenazione"
   ]
  },
  {
   "cell_type": "code",
   "execution_count": 32,
   "id": "f379c045",
   "metadata": {
    "ExecuteTime": {
     "end_time": "2022-01-17T01:05:34.639521Z",
     "start_time": "2022-01-17T01:05:20.603631Z"
    },
    "hidden": true
   },
   "outputs": [
    {
     "data": {
      "text/html": [
       "<div>\n",
       "<style scoped>\n",
       "    .dataframe tbody tr th:only-of-type {\n",
       "        vertical-align: middle;\n",
       "    }\n",
       "\n",
       "    .dataframe tbody tr th {\n",
       "        vertical-align: top;\n",
       "    }\n",
       "\n",
       "    .dataframe thead th {\n",
       "        text-align: right;\n",
       "    }\n",
       "</style>\n",
       "<table border=\"1\" class=\"dataframe\">\n",
       "  <thead>\n",
       "    <tr style=\"text-align: right;\">\n",
       "      <th></th>\n",
       "      <th>IdSensore</th>\n",
       "      <th>Data</th>\n",
       "      <th>Valore</th>\n",
       "      <th>Stato</th>\n",
       "      <th>idOperatore</th>\n",
       "    </tr>\n",
       "  </thead>\n",
       "  <tbody>\n",
       "    <tr>\n",
       "      <th>0</th>\n",
       "      <td>5504</td>\n",
       "      <td>1996-01-01 00:00:00</td>\n",
       "      <td>61.0</td>\n",
       "      <td>VA</td>\n",
       "      <td>1</td>\n",
       "    </tr>\n",
       "    <tr>\n",
       "      <th>1</th>\n",
       "      <td>5505</td>\n",
       "      <td>1996-01-01 00:00:00</td>\n",
       "      <td>61.0</td>\n",
       "      <td>VA</td>\n",
       "      <td>1</td>\n",
       "    </tr>\n",
       "    <tr>\n",
       "      <th>2</th>\n",
       "      <td>5506</td>\n",
       "      <td>1996-01-01 00:00:00</td>\n",
       "      <td>53.9</td>\n",
       "      <td>VA</td>\n",
       "      <td>1</td>\n",
       "    </tr>\n",
       "    <tr>\n",
       "      <th>3</th>\n",
       "      <td>5531</td>\n",
       "      <td>1996-01-01 00:00:00</td>\n",
       "      <td>69.2</td>\n",
       "      <td>VA</td>\n",
       "      <td>1</td>\n",
       "    </tr>\n",
       "    <tr>\n",
       "      <th>4</th>\n",
       "      <td>5542</td>\n",
       "      <td>1996-01-01 00:00:00</td>\n",
       "      <td>61.0</td>\n",
       "      <td>VA</td>\n",
       "      <td>1</td>\n",
       "    </tr>\n",
       "    <tr>\n",
       "      <th>...</th>\n",
       "      <td>...</td>\n",
       "      <td>...</td>\n",
       "      <td>...</td>\n",
       "      <td>...</td>\n",
       "      <td>...</td>\n",
       "    </tr>\n",
       "    <tr>\n",
       "      <th>98291917</th>\n",
       "      <td>10331</td>\n",
       "      <td>2021-12-19 03:00:00</td>\n",
       "      <td>45.7</td>\n",
       "      <td>VA</td>\n",
       "      <td>1</td>\n",
       "    </tr>\n",
       "    <tr>\n",
       "      <th>98291918</th>\n",
       "      <td>10333</td>\n",
       "      <td>2021-12-24 19:00:00</td>\n",
       "      <td>39.8</td>\n",
       "      <td>VA</td>\n",
       "      <td>1</td>\n",
       "    </tr>\n",
       "    <tr>\n",
       "      <th>98291919</th>\n",
       "      <td>10331</td>\n",
       "      <td>2021-12-20 18:00:00</td>\n",
       "      <td>27.6</td>\n",
       "      <td>VA</td>\n",
       "      <td>1</td>\n",
       "    </tr>\n",
       "    <tr>\n",
       "      <th>98291920</th>\n",
       "      <td>10333</td>\n",
       "      <td>2021-12-25 11:00:00</td>\n",
       "      <td>84.7</td>\n",
       "      <td>VA</td>\n",
       "      <td>1</td>\n",
       "    </tr>\n",
       "    <tr>\n",
       "      <th>98291921</th>\n",
       "      <td>10331</td>\n",
       "      <td>2021-12-21 04:00:00</td>\n",
       "      <td>34.3</td>\n",
       "      <td>VA</td>\n",
       "      <td>1</td>\n",
       "    </tr>\n",
       "  </tbody>\n",
       "</table>\n",
       "<p>98291922 rows × 5 columns</p>\n",
       "</div>"
      ],
      "text/plain": [
       "          IdSensore                Data  Valore Stato  idOperatore\n",
       "0              5504 1996-01-01 00:00:00    61.0    VA            1\n",
       "1              5505 1996-01-01 00:00:00    61.0    VA            1\n",
       "2              5506 1996-01-01 00:00:00    53.9    VA            1\n",
       "3              5531 1996-01-01 00:00:00    69.2    VA            1\n",
       "4              5542 1996-01-01 00:00:00    61.0    VA            1\n",
       "...             ...                 ...     ...   ...          ...\n",
       "98291917      10331 2021-12-19 03:00:00    45.7    VA            1\n",
       "98291918      10333 2021-12-24 19:00:00    39.8    VA            1\n",
       "98291919      10331 2021-12-20 18:00:00    27.6    VA            1\n",
       "98291920      10333 2021-12-25 11:00:00    84.7    VA            1\n",
       "98291921      10331 2021-12-21 04:00:00    34.3    VA            1\n",
       "\n",
       "[98291922 rows x 5 columns]"
      ]
     },
     "execution_count": 32,
     "metadata": {},
     "output_type": "execute_result"
    }
   ],
   "source": [
    "aria_tot = pd.concat(aria_dict).reset_index(drop=True)\n",
    "aria_tot"
   ]
  },
  {
   "cell_type": "markdown",
   "id": "282888bc",
   "metadata": {
    "heading_collapsed": true
   },
   "source": [
    "## Dataset Qualità dell'aria - sensori"
   ]
  },
  {
   "cell_type": "markdown",
   "id": "bafeeb6a",
   "metadata": {
    "heading_collapsed": true,
    "hidden": true
   },
   "source": [
    "### Attributi"
   ]
  },
  {
   "cell_type": "markdown",
   "id": "9e73521b",
   "metadata": {
    "hidden": true
   },
   "source": [
    "- IdSensore\n",
    "    - Foreign Key con vincolo di integrità referenziale a `IdSensore` di aria_21\n",
    "    - Testo normale\n",
    "- NomeTipoSensore\t\n",
    "    - Grandezza misurata\n",
    "    - Testo normale\n",
    "- Unità DiMisura\t\n",
    "    - Unità di misura della grandezza\n",
    "    - Testo normale\n",
    "- IdStazione\t\n",
    "    - Numero identificativo della stazione (penso perchè ogni stazione può avere più sensori)\n",
    "    - Testo normale\n",
    "- NomeStazione\t\n",
    "    - Località della stazione (Spesso è 'Comune via' o 'Comune località)'\n",
    "    - Testo normale\n",
    "- Quota\t\n",
    "    - Altitudine\n",
    "    - Numero\n",
    "- Provincia\n",
    "    - Sigla della provincia\n",
    "    - Testo normale\n",
    "- DataStart\t\n",
    "    - Data e ora\n",
    "- DataStop\t\n",
    "    - Data e ora\n",
    "- Storico\t\n",
    "    - Noto che assume valori N e S ma non capisco cosa sia\n",
    "    - Testo normale\n",
    "- UTM_Nord\t\n",
    "    - Coordinata UTM nord (le cordinate utm permettono di individuare univocamente un punto sulla cartina terrestre)\n",
    "    - Testo normale\n",
    "- UTM_Est\t\n",
    "    - Coordinata UTM est\n",
    "    - Testo normale\n",
    "- lng\t\n",
    "    - Longitudine (senza simbolo gradi)\n",
    "    - Numero\n",
    "- lat\t\n",
    "    - Latitudine (senza simbolo gradi)\n",
    "    - Numero\n",
    "- location\t\n",
    "    - (latitudine°, longitudine°)\n",
    "    - Posizione"
   ]
  },
  {
   "cell_type": "markdown",
   "id": "15906993",
   "metadata": {
    "heading_collapsed": true,
    "hidden": true
   },
   "source": [
    "### Read_csv"
   ]
  },
  {
   "cell_type": "code",
   "execution_count": 33,
   "id": "5d433113",
   "metadata": {
    "ExecuteTime": {
     "end_time": "2022-01-17T01:05:34.670552Z",
     "start_time": "2022-01-17T01:05:34.640572Z"
    },
    "hidden": true
   },
   "outputs": [
    {
     "data": {
      "text/html": [
       "<div>\n",
       "<style scoped>\n",
       "    .dataframe tbody tr th:only-of-type {\n",
       "        vertical-align: middle;\n",
       "    }\n",
       "\n",
       "    .dataframe tbody tr th {\n",
       "        vertical-align: top;\n",
       "    }\n",
       "\n",
       "    .dataframe thead th {\n",
       "        text-align: right;\n",
       "    }\n",
       "</style>\n",
       "<table border=\"1\" class=\"dataframe\">\n",
       "  <thead>\n",
       "    <tr style=\"text-align: right;\">\n",
       "      <th></th>\n",
       "      <th>IdSensore</th>\n",
       "      <th>NomeTipoSensore</th>\n",
       "      <th>UnitaMisura</th>\n",
       "      <th>Idstazione</th>\n",
       "      <th>NomeStazione</th>\n",
       "      <th>Quota</th>\n",
       "      <th>Provincia</th>\n",
       "      <th>Comune</th>\n",
       "      <th>Storico</th>\n",
       "      <th>DataStart</th>\n",
       "      <th>DataStop</th>\n",
       "      <th>Utm_Nord</th>\n",
       "      <th>UTM_Est</th>\n",
       "      <th>lat</th>\n",
       "      <th>lng</th>\n",
       "      <th>location</th>\n",
       "    </tr>\n",
       "  </thead>\n",
       "  <tbody>\n",
       "    <tr>\n",
       "      <th>961</th>\n",
       "      <td>6606</td>\n",
       "      <td>Particolato Totale Sospeso</td>\n",
       "      <td>µg/m³</td>\n",
       "      <td>591</td>\n",
       "      <td>Seriate v. Garibaldi</td>\n",
       "      <td>256.0</td>\n",
       "      <td>BG</td>\n",
       "      <td>Seriate</td>\n",
       "      <td>S</td>\n",
       "      <td>1991-11-20</td>\n",
       "      <td>2000-01-27</td>\n",
       "      <td>5059449</td>\n",
       "      <td>555672</td>\n",
       "      <td>45.686356</td>\n",
       "      <td>9.714948</td>\n",
       "      <td>(45.68635606439914, 9.714947917631529)</td>\n",
       "    </tr>\n",
       "    <tr>\n",
       "      <th>962</th>\n",
       "      <td>6382</td>\n",
       "      <td>Ossidi di Azoto</td>\n",
       "      <td>µg/m³</td>\n",
       "      <td>569</td>\n",
       "      <td>Sondrio v.Mazzini</td>\n",
       "      <td>307.0</td>\n",
       "      <td>SO</td>\n",
       "      <td>Sondrio</td>\n",
       "      <td>N</td>\n",
       "      <td>1993-01-11</td>\n",
       "      <td>NaT</td>\n",
       "      <td>5113078</td>\n",
       "      <td>567173</td>\n",
       "      <td>46.167967</td>\n",
       "      <td>9.870144</td>\n",
       "      <td>(46.16796681227828, 9.87014407497457)</td>\n",
       "    </tr>\n",
       "    <tr>\n",
       "      <th>963</th>\n",
       "      <td>6607</td>\n",
       "      <td>Particolato Totale Sospeso</td>\n",
       "      <td>µg/m³</td>\n",
       "      <td>591</td>\n",
       "      <td>Seriate v. Garibaldi</td>\n",
       "      <td>256.0</td>\n",
       "      <td>BG</td>\n",
       "      <td>Seriate</td>\n",
       "      <td>S</td>\n",
       "      <td>2000-07-09</td>\n",
       "      <td>2002-04-04</td>\n",
       "      <td>5059449</td>\n",
       "      <td>555672</td>\n",
       "      <td>45.686356</td>\n",
       "      <td>9.714948</td>\n",
       "      <td>(45.68635606439914, 9.714947917631529)</td>\n",
       "    </tr>\n",
       "    <tr>\n",
       "      <th>964</th>\n",
       "      <td>20523</td>\n",
       "      <td>Ammoniaca</td>\n",
       "      <td>µg/m³</td>\n",
       "      <td>583</td>\n",
       "      <td>Bergamo v.Meucci</td>\n",
       "      <td>249.0</td>\n",
       "      <td>BG</td>\n",
       "      <td>Bergamo</td>\n",
       "      <td>N</td>\n",
       "      <td>NaT</td>\n",
       "      <td>NaT</td>\n",
       "      <td>5059922</td>\n",
       "      <td>550116</td>\n",
       "      <td>45.691037</td>\n",
       "      <td>9.643651</td>\n",
       "      <td>(45.69103740547214, 9.643650579461385)</td>\n",
       "    </tr>\n",
       "    <tr>\n",
       "      <th>965</th>\n",
       "      <td>12597</td>\n",
       "      <td>Cadmio</td>\n",
       "      <td>ng/m³</td>\n",
       "      <td>609</td>\n",
       "      <td>Casirate d'Adda v. Cimitero</td>\n",
       "      <td>108.0</td>\n",
       "      <td>BG</td>\n",
       "      <td>Casirate d'Adda</td>\n",
       "      <td>N</td>\n",
       "      <td>2008-04-24</td>\n",
       "      <td>NaT</td>\n",
       "      <td>5038450</td>\n",
       "      <td>543458</td>\n",
       "      <td>45.498227</td>\n",
       "      <td>9.556232</td>\n",
       "      <td>(45.49822713394494, 9.556232262351761)</td>\n",
       "    </tr>\n",
       "  </tbody>\n",
       "</table>\n",
       "</div>"
      ],
      "text/plain": [
       "     IdSensore             NomeTipoSensore UnitaMisura  Idstazione  \\\n",
       "961       6606  Particolato Totale Sospeso       µg/m³         591   \n",
       "962       6382             Ossidi di Azoto       µg/m³         569   \n",
       "963       6607  Particolato Totale Sospeso       µg/m³         591   \n",
       "964      20523                   Ammoniaca       µg/m³         583   \n",
       "965      12597                      Cadmio       ng/m³         609   \n",
       "\n",
       "                    NomeStazione  Quota Provincia           Comune Storico  \\\n",
       "961         Seriate v. Garibaldi  256.0        BG          Seriate       S   \n",
       "962            Sondrio v.Mazzini  307.0        SO          Sondrio       N   \n",
       "963         Seriate v. Garibaldi  256.0        BG          Seriate       S   \n",
       "964             Bergamo v.Meucci  249.0        BG          Bergamo       N   \n",
       "965  Casirate d'Adda v. Cimitero  108.0        BG  Casirate d'Adda       N   \n",
       "\n",
       "     DataStart   DataStop  Utm_Nord  UTM_Est        lat       lng  \\\n",
       "961 1991-11-20 2000-01-27   5059449   555672  45.686356  9.714948   \n",
       "962 1993-01-11        NaT   5113078   567173  46.167967  9.870144   \n",
       "963 2000-07-09 2002-04-04   5059449   555672  45.686356  9.714948   \n",
       "964        NaT        NaT   5059922   550116  45.691037  9.643651   \n",
       "965 2008-04-24        NaT   5038450   543458  45.498227  9.556232   \n",
       "\n",
       "                                   location  \n",
       "961  (45.68635606439914, 9.714947917631529)  \n",
       "962   (46.16796681227828, 9.87014407497457)  \n",
       "963  (45.68635606439914, 9.714947917631529)  \n",
       "964  (45.69103740547214, 9.643650579461385)  \n",
       "965  (45.49822713394494, 9.556232262351761)  "
      ]
     },
     "execution_count": 33,
     "metadata": {},
     "output_type": "execute_result"
    }
   ],
   "source": [
    "sensori_aria = pd.read_csv(f'{path}Stazioni_qualita_dell_aria.csv',\n",
    "                           parse_dates=['DataStart', 'DataStop'])\n",
    "sensori_aria.tail()"
   ]
  },
  {
   "cell_type": "code",
   "execution_count": 34,
   "id": "81dfb734",
   "metadata": {
    "ExecuteTime": {
     "end_time": "2022-01-17T01:05:34.685792Z",
     "start_time": "2022-01-17T01:05:34.671639Z"
    },
    "hidden": true,
    "scrolled": true
   },
   "outputs": [
    {
     "data": {
      "text/plain": [
       "IdSensore                   int64\n",
       "NomeTipoSensore            object\n",
       "UnitaMisura                object\n",
       "Idstazione                  int64\n",
       "NomeStazione               object\n",
       "Quota                     float64\n",
       "Provincia                  object\n",
       "Comune                     object\n",
       "Storico                    object\n",
       "DataStart          datetime64[ns]\n",
       "DataStop           datetime64[ns]\n",
       "Utm_Nord                    int64\n",
       "UTM_Est                     int64\n",
       "lat                       float64\n",
       "lng                       float64\n",
       "location                   object\n",
       "dtype: object"
      ]
     },
     "execution_count": 34,
     "metadata": {},
     "output_type": "execute_result"
    }
   ],
   "source": [
    "sensori_aria.dtypes"
   ]
  },
  {
   "cell_type": "markdown",
   "id": "5e7e09a7",
   "metadata": {},
   "source": [
    "## Dataset Zonizzazione"
   ]
  },
  {
   "cell_type": "code",
   "execution_count": 35,
   "id": "e2b3ff11",
   "metadata": {
    "ExecuteTime": {
     "end_time": "2022-01-17T01:05:34.701828Z",
     "start_time": "2022-01-17T01:05:34.687801Z"
    }
   },
   "outputs": [
    {
     "data": {
      "text/html": [
       "<div>\n",
       "<style scoped>\n",
       "    .dataframe tbody tr th:only-of-type {\n",
       "        vertical-align: middle;\n",
       "    }\n",
       "\n",
       "    .dataframe tbody tr th {\n",
       "        vertical-align: top;\n",
       "    }\n",
       "\n",
       "    .dataframe thead th {\n",
       "        text-align: right;\n",
       "    }\n",
       "</style>\n",
       "<table border=\"1\" class=\"dataframe\">\n",
       "  <thead>\n",
       "    <tr style=\"text-align: right;\">\n",
       "      <th></th>\n",
       "      <th>Provincia</th>\n",
       "      <th>Codice Istat</th>\n",
       "      <th>Comune</th>\n",
       "      <th>Zona</th>\n",
       "      <th>Residenti 2008</th>\n",
       "      <th>Superficie (ha)</th>\n",
       "    </tr>\n",
       "  </thead>\n",
       "  <tbody>\n",
       "    <tr>\n",
       "      <th>0</th>\n",
       "      <td>BG</td>\n",
       "      <td>16009</td>\n",
       "      <td>AMBIVERE</td>\n",
       "      <td>A</td>\n",
       "      <td>2341</td>\n",
       "      <td>327</td>\n",
       "    </tr>\n",
       "    <tr>\n",
       "      <th>1</th>\n",
       "      <td>BG</td>\n",
       "      <td>16013</td>\n",
       "      <td>ARZAGO D'ADDA</td>\n",
       "      <td>A</td>\n",
       "      <td>2836</td>\n",
       "      <td>944</td>\n",
       "    </tr>\n",
       "    <tr>\n",
       "      <th>2</th>\n",
       "      <td>BG</td>\n",
       "      <td>16018</td>\n",
       "      <td>BAGNATICA</td>\n",
       "      <td>A</td>\n",
       "      <td>4119</td>\n",
       "      <td>639</td>\n",
       "    </tr>\n",
       "    <tr>\n",
       "      <th>3</th>\n",
       "      <td>BG</td>\n",
       "      <td>16020</td>\n",
       "      <td>BARIANO</td>\n",
       "      <td>A</td>\n",
       "      <td>4396</td>\n",
       "      <td>714</td>\n",
       "    </tr>\n",
       "    <tr>\n",
       "      <th>4</th>\n",
       "      <td>BG</td>\n",
       "      <td>16021</td>\n",
       "      <td>BARZANO'</td>\n",
       "      <td>A</td>\n",
       "      <td>5178</td>\n",
       "      <td>356</td>\n",
       "    </tr>\n",
       "  </tbody>\n",
       "</table>\n",
       "</div>"
      ],
      "text/plain": [
       "  Provincia  Codice Istat         Comune Zona  Residenti 2008  Superficie (ha)\n",
       "0        BG         16009       AMBIVERE    A            2341              327\n",
       "1        BG         16013  ARZAGO D'ADDA    A            2836              944\n",
       "2        BG         16018      BAGNATICA    A            4119              639\n",
       "3        BG         16020        BARIANO    A            4396              714\n",
       "4        BG         16021       BARZANO'    A            5178              356"
      ]
     },
     "execution_count": 35,
     "metadata": {},
     "output_type": "execute_result"
    }
   ],
   "source": [
    "zonizzazione = pd.read_csv(f'{path}zonizzazione/zonizzazione_ABCD.csv')\n",
    "zonizzazione.head()"
   ]
  },
  {
   "cell_type": "markdown",
   "id": "d83924c3",
   "metadata": {
    "heading_collapsed": true
   },
   "source": [
    "# Data Exploration e Data Cleansing (*superset*)"
   ]
  },
  {
   "cell_type": "markdown",
   "id": "340aaf00",
   "metadata": {
    "heading_collapsed": true,
    "hidden": true
   },
   "source": [
    "## Data Exploration"
   ]
  },
  {
   "cell_type": "markdown",
   "id": "07b67b84",
   "metadata": {
    "hidden": true
   },
   "source": [
    "- verificare quali siano tutte le quantità uniche rilevate dai sensori qualità dell'aria\n",
    "- quali siano i gruppi di inquinanti principali\n",
    "- quali siano i limiti di assunzione umana (gionralieri e annuali)\n",
    "    - Vedi [qui](https://www.arpalombardia.it/Pages/Aria/Inquinanti.aspx) per limiti e piccola descrizione\n",
    "    - Vedi [qui](https://www.regione.lombardia.it/wps/portal/istituzionale/HP/DettaglioRedazionale/servizi-e-informazioni/cittadini/salute-e-prevenzione/Sicurezza-negli-ambienti-di-vita-e-di-lavoro/inquinamento-atmosferico/inquinamento-atmosferico/) per approfondimento"
   ]
  },
  {
   "cell_type": "markdown",
   "id": "94655e3c",
   "metadata": {
    "hidden": true
   },
   "source": [
    "Determino il numero di sensori per ogni tipologia\n",
    "\n",
    "- Si potrebbero considerare solo gli inquinanti **più importanti e con più stazioni**\n",
    "- Ovvero **Biossido di Azoto | PM10 (SM2005) e PM2,5 e/o Particolato totale | Ozono troposferico | Bisossido di Zolfo**\n",
    "- Facoltativi perchè non presenti nella valutazione della qualità dell'aria [qui](https://www.arpalombardia.it/Pages/Aria/Modellistica/Indice-qualit%C3%A0-aria.aspx): Monossido di carbonio e benzene"
   ]
  },
  {
   "cell_type": "code",
   "execution_count": 36,
   "id": "cbca3194",
   "metadata": {
    "ExecuteTime": {
     "end_time": "2022-01-17T01:05:34.717191Z",
     "start_time": "2022-01-17T01:05:34.702851Z"
    },
    "hidden": true
   },
   "outputs": [
    {
     "data": {
      "text/plain": [
       "Biossido di Azoto             166\n",
       "Ossidi di Azoto               166\n",
       "Biossido di Zolfo             125\n",
       "Monossido di Carbonio         101\n",
       "Ozono                          91\n",
       "PM10 (SM2005)                  90\n",
       "Particolato Totale Sospeso     55\n",
       "Particelle sospese PM2.5       40\n",
       "Benzene                        32\n",
       "Benzo(a)pirene                 15\n",
       "Nikel                          15\n",
       "Arsenico                       15\n",
       "Piombo                         15\n",
       "Cadmio                         15\n",
       "Ammoniaca                      14\n",
       "BlackCarbon                     4\n",
       "PM10                            4\n",
       "Monossido di Azoto              3\n",
       "Name: NomeTipoSensore, dtype: int64"
      ]
     },
     "execution_count": 36,
     "metadata": {},
     "output_type": "execute_result"
    }
   ],
   "source": [
    "sensori_aria['NomeTipoSensore'].value_counts()"
   ]
  },
  {
   "cell_type": "markdown",
   "id": "619a353b",
   "metadata": {
    "hidden": true
   },
   "source": [
    "Determino il numero di zone in cui é suddiviso il territorio Lombardo"
   ]
  },
  {
   "cell_type": "code",
   "execution_count": 37,
   "id": "ab0e8872",
   "metadata": {
    "ExecuteTime": {
     "end_time": "2022-01-17T01:05:34.732793Z",
     "start_time": "2022-01-17T01:05:34.718721Z"
    },
    "hidden": true,
    "scrolled": true
   },
   "outputs": [
    {
     "data": {
      "text/plain": [
       "B         448\n",
       "C         423\n",
       "A         406\n",
       "AGG MI    107\n",
       "C D       102\n",
       "AGG BG     37\n",
       "AGG BS     20\n",
       "D           2\n",
       "Name: Zona, dtype: int64"
      ]
     },
     "execution_count": 37,
     "metadata": {},
     "output_type": "execute_result"
    }
   ],
   "source": [
    "zonizzazione['Zona'].value_counts()"
   ]
  },
  {
   "cell_type": "markdown",
   "id": "d0367a29",
   "metadata": {
    "hidden": true
   },
   "source": [
    "## Data Cleansing"
   ]
  },
  {
   "cell_type": "markdown",
   "id": "a26dd232",
   "metadata": {
    "hidden": true
   },
   "source": [
    "### Rimozione righe mancanti"
   ]
  },
  {
   "cell_type": "code",
   "execution_count": 38,
   "id": "94d9b0f4",
   "metadata": {
    "ExecuteTime": {
     "end_time": "2022-01-17T01:05:39.287490Z",
     "start_time": "2022-01-17T01:05:34.735793Z"
    },
    "hidden": true
   },
   "outputs": [
    {
     "data": {
      "text/plain": [
       "VA     87491365\n",
       "NaN    10800557\n",
       "Name: Stato, dtype: int64"
      ]
     },
     "execution_count": 38,
     "metadata": {},
     "output_type": "execute_result"
    }
   ],
   "source": [
    "aria_tot['Stato'].value_counts(dropna = False)"
   ]
  },
  {
   "cell_type": "code",
   "execution_count": 39,
   "id": "9367db0c",
   "metadata": {
    "ExecuteTime": {
     "end_time": "2022-01-17T01:05:39.612119Z",
     "start_time": "2022-01-17T01:05:39.288487Z"
    },
    "hidden": true
   },
   "outputs": [
    {
     "name": "stdout",
     "output_type": "stream",
     "text": [
      "10800557   Numero righe con valori invalidi\n",
      "98291922 Numero righe totali\n",
      "10.99 %   Percentuale righe con valori invalidi\n"
     ]
    }
   ],
   "source": [
    "print(aria_tot['Valore'].isna().sum(), '  Numero righe con valori invalidi')\n",
    "print(len(aria_tot), 'Numero righe totali')\n",
    "print(round(aria_tot['Valore'].isna().sum()/len(aria_tot)*100, 2), '%   Percentuale righe con valori invalidi')"
   ]
  },
  {
   "cell_type": "markdown",
   "id": "e4182041",
   "metadata": {
    "hidden": true
   },
   "source": [
    "- L'invalidità del dato è descritta sia dall'attributo `Stato` che dalla presenza di NaN in `Valore`\n",
    "- MA (VA = dato valido NA = dato invalido I dati presenti in questo archivio relativi agli ultimi 3-6 mesi, contengono ancora valori incerti che possono subire modifiche da parte degli operatori delle reti (invalidazione manuale). Il processo di validazione dei dati prevede una fase di valutazione finale che si conclude entro il 30.3 dell’anno successivo a quello di misura)"
   ]
  },
  {
   "cell_type": "code",
   "execution_count": 40,
   "id": "9fddda11",
   "metadata": {
    "ExecuteTime": {
     "end_time": "2022-01-17T01:05:49.597800Z",
     "start_time": "2022-01-17T01:05:39.614145Z"
    },
    "hidden": true
   },
   "outputs": [
    {
     "data": {
      "text/plain": [
       "(87491365, 5)"
      ]
     },
     "execution_count": 40,
     "metadata": {},
     "output_type": "execute_result"
    }
   ],
   "source": [
    "aria_tot.dropna(subset = ['Valore', 'Stato'], inplace = True)\n",
    "aria_tot.reset_index(drop=True, inplace=True)\n",
    "aria_tot.shape"
   ]
  },
  {
   "cell_type": "markdown",
   "id": "24f4a62c",
   "metadata": {
    "heading_collapsed": true,
    "hidden": true
   },
   "source": [
    "### Rimozione righe con idoperatore assurdo"
   ]
  },
  {
   "cell_type": "code",
   "execution_count": 41,
   "id": "ed8870f6",
   "metadata": {
    "ExecuteTime": {
     "end_time": "2022-01-17T01:05:51.257665Z",
     "start_time": "2022-01-17T01:05:49.598957Z"
    },
    "hidden": true
   },
   "outputs": [
    {
     "data": {
      "text/plain": [
       "idOperatore\n",
       "1        87491364\n",
       "15504           1\n",
       "dtype: int64"
      ]
     },
     "execution_count": 41,
     "metadata": {},
     "output_type": "execute_result"
    }
   ],
   "source": [
    "aria_tot.value_counts('idOperatore')"
   ]
  },
  {
   "cell_type": "code",
   "execution_count": 42,
   "id": "41e4dde3",
   "metadata": {
    "ExecuteTime": {
     "end_time": "2022-01-17T01:05:56.255438Z",
     "start_time": "2022-01-17T01:05:51.259831Z"
    },
    "hidden": true
   },
   "outputs": [],
   "source": [
    "aria_tot.drop(aria_tot[aria_tot.idOperatore == 15504].index, inplace=True)\n",
    "aria_tot.reset_index(drop=True, inplace=True)"
   ]
  },
  {
   "cell_type": "markdown",
   "id": "874e7003",
   "metadata": {
    "hidden": true
   },
   "source": [
    "### Rimozione sensori di grandezze minori"
   ]
  },
  {
   "cell_type": "markdown",
   "id": "bb1a20e3",
   "metadata": {
    "hidden": true
   },
   "source": [
    "- da `stazioni_aria` e `aria_20_21` trovare solo gli `IdSensore` di tipologia utile\n",
    "- Biossido di Azoto | PM10 (SM2005) e PM2,5 e/o Particolato totale | Ozono troposferico | Bisossido di Zolfo \n",
    "- Come categorie minori decido di tenere momentaneamente *Monossido di carbonio, benzene, Ossidi di Azoto e PM10*"
   ]
  },
  {
   "cell_type": "code",
   "execution_count": 43,
   "id": "a8200540",
   "metadata": {
    "ExecuteTime": {
     "end_time": "2022-01-17T01:05:56.270905Z",
     "start_time": "2022-01-17T01:05:56.257909Z"
    },
    "hidden": true
   },
   "outputs": [
    {
     "data": {
      "text/plain": [
       "Biossido di Azoto             166\n",
       "Ossidi di Azoto               166\n",
       "Biossido di Zolfo             125\n",
       "Monossido di Carbonio         101\n",
       "Ozono                          91\n",
       "PM10 (SM2005)                  90\n",
       "Particolato Totale Sospeso     55\n",
       "Particelle sospese PM2.5       40\n",
       "Benzene                        32\n",
       "Benzo(a)pirene                 15\n",
       "Nikel                          15\n",
       "Arsenico                       15\n",
       "Piombo                         15\n",
       "Cadmio                         15\n",
       "Ammoniaca                      14\n",
       "BlackCarbon                     4\n",
       "PM10                            4\n",
       "Monossido di Azoto              3\n",
       "Name: NomeTipoSensore, dtype: int64"
      ]
     },
     "execution_count": 43,
     "metadata": {},
     "output_type": "execute_result"
    }
   ],
   "source": [
    "sensori_aria['NomeTipoSensore'].value_counts()"
   ]
  },
  {
   "cell_type": "code",
   "execution_count": 44,
   "id": "205823f0",
   "metadata": {
    "ExecuteTime": {
     "end_time": "2022-01-17T01:05:56.286994Z",
     "start_time": "2022-01-17T01:05:56.272913Z"
    },
    "hidden": true
   },
   "outputs": [
    {
     "data": {
      "text/html": [
       "<div>\n",
       "<style scoped>\n",
       "    .dataframe tbody tr th:only-of-type {\n",
       "        vertical-align: middle;\n",
       "    }\n",
       "\n",
       "    .dataframe tbody tr th {\n",
       "        vertical-align: top;\n",
       "    }\n",
       "\n",
       "    .dataframe thead th {\n",
       "        text-align: right;\n",
       "    }\n",
       "</style>\n",
       "<table border=\"1\" class=\"dataframe\">\n",
       "  <thead>\n",
       "    <tr style=\"text-align: right;\">\n",
       "      <th></th>\n",
       "      <th>IdSensore</th>\n",
       "      <th>NomeTipoSensore</th>\n",
       "      <th>UnitaMisura</th>\n",
       "      <th>Idstazione</th>\n",
       "      <th>NomeStazione</th>\n",
       "      <th>Quota</th>\n",
       "      <th>Provincia</th>\n",
       "      <th>Comune</th>\n",
       "      <th>Storico</th>\n",
       "      <th>DataStart</th>\n",
       "      <th>DataStop</th>\n",
       "      <th>Utm_Nord</th>\n",
       "      <th>UTM_Est</th>\n",
       "      <th>lat</th>\n",
       "      <th>lng</th>\n",
       "      <th>location</th>\n",
       "    </tr>\n",
       "  </thead>\n",
       "  <tbody>\n",
       "    <tr>\n",
       "      <th>0</th>\n",
       "      <td>17286</td>\n",
       "      <td>Biossido di Azoto</td>\n",
       "      <td>µg/m³</td>\n",
       "      <td>1374</td>\n",
       "      <td>Monza Parco</td>\n",
       "      <td>181.0</td>\n",
       "      <td>MB</td>\n",
       "      <td>Monza</td>\n",
       "      <td>N</td>\n",
       "      <td>2013-01-05</td>\n",
       "      <td>NaT</td>\n",
       "      <td>5049780</td>\n",
       "      <td>521452</td>\n",
       "      <td>45.601232</td>\n",
       "      <td>9.275073</td>\n",
       "      <td>(45.60123219955139, 9.27507265782848)</td>\n",
       "    </tr>\n",
       "    <tr>\n",
       "      <th>1</th>\n",
       "      <td>17290</td>\n",
       "      <td>PM10 (SM2005)</td>\n",
       "      <td>µg/m³</td>\n",
       "      <td>1374</td>\n",
       "      <td>Monza Parco</td>\n",
       "      <td>181.0</td>\n",
       "      <td>MB</td>\n",
       "      <td>Monza</td>\n",
       "      <td>N</td>\n",
       "      <td>2013-02-15</td>\n",
       "      <td>NaT</td>\n",
       "      <td>5049780</td>\n",
       "      <td>521452</td>\n",
       "      <td>45.601232</td>\n",
       "      <td>9.275073</td>\n",
       "      <td>(45.60123219955139, 9.27507265782848)</td>\n",
       "    </tr>\n",
       "    <tr>\n",
       "      <th>2</th>\n",
       "      <td>17285</td>\n",
       "      <td>Ossidi di Azoto</td>\n",
       "      <td>µg/m³</td>\n",
       "      <td>1374</td>\n",
       "      <td>Monza Parco</td>\n",
       "      <td>181.0</td>\n",
       "      <td>MB</td>\n",
       "      <td>Monza</td>\n",
       "      <td>N</td>\n",
       "      <td>2013-01-05</td>\n",
       "      <td>NaT</td>\n",
       "      <td>5049780</td>\n",
       "      <td>521452</td>\n",
       "      <td>45.601232</td>\n",
       "      <td>9.275073</td>\n",
       "      <td>(45.60123219955139, 9.27507265782848)</td>\n",
       "    </tr>\n",
       "    <tr>\n",
       "      <th>3</th>\n",
       "      <td>17288</td>\n",
       "      <td>Ozono</td>\n",
       "      <td>µg/m³</td>\n",
       "      <td>1374</td>\n",
       "      <td>Monza Parco</td>\n",
       "      <td>181.0</td>\n",
       "      <td>MB</td>\n",
       "      <td>Monza</td>\n",
       "      <td>N</td>\n",
       "      <td>2013-09-02</td>\n",
       "      <td>NaT</td>\n",
       "      <td>5049780</td>\n",
       "      <td>521452</td>\n",
       "      <td>45.601232</td>\n",
       "      <td>9.275073</td>\n",
       "      <td>(45.60123219955139, 9.27507265782848)</td>\n",
       "    </tr>\n",
       "    <tr>\n",
       "      <th>4</th>\n",
       "      <td>10112</td>\n",
       "      <td>Ozono</td>\n",
       "      <td>µg/m³</td>\n",
       "      <td>698</td>\n",
       "      <td>Ceneselli v. Moro</td>\n",
       "      <td>13.0</td>\n",
       "      <td>RO</td>\n",
       "      <td>Ceneselli</td>\n",
       "      <td>S</td>\n",
       "      <td>2006-11-28</td>\n",
       "      <td>2017-01-01</td>\n",
       "      <td>4987161</td>\n",
       "      <td>686934</td>\n",
       "      <td>45.013257</td>\n",
       "      <td>11.372345</td>\n",
       "      <td>(45.01325676849334, 11.372344948058235)</td>\n",
       "    </tr>\n",
       "  </tbody>\n",
       "</table>\n",
       "</div>"
      ],
      "text/plain": [
       "   IdSensore    NomeTipoSensore UnitaMisura  Idstazione       NomeStazione  \\\n",
       "0      17286  Biossido di Azoto       µg/m³        1374        Monza Parco   \n",
       "1      17290      PM10 (SM2005)       µg/m³        1374        Monza Parco   \n",
       "2      17285    Ossidi di Azoto       µg/m³        1374        Monza Parco   \n",
       "3      17288              Ozono       µg/m³        1374        Monza Parco   \n",
       "4      10112              Ozono       µg/m³         698  Ceneselli v. Moro   \n",
       "\n",
       "   Quota Provincia     Comune Storico  DataStart   DataStop  Utm_Nord  \\\n",
       "0  181.0        MB      Monza       N 2013-01-05        NaT   5049780   \n",
       "1  181.0        MB      Monza       N 2013-02-15        NaT   5049780   \n",
       "2  181.0        MB      Monza       N 2013-01-05        NaT   5049780   \n",
       "3  181.0        MB      Monza       N 2013-09-02        NaT   5049780   \n",
       "4   13.0        RO  Ceneselli       S 2006-11-28 2017-01-01   4987161   \n",
       "\n",
       "   UTM_Est        lat        lng                                 location  \n",
       "0   521452  45.601232   9.275073    (45.60123219955139, 9.27507265782848)  \n",
       "1   521452  45.601232   9.275073    (45.60123219955139, 9.27507265782848)  \n",
       "2   521452  45.601232   9.275073    (45.60123219955139, 9.27507265782848)  \n",
       "3   521452  45.601232   9.275073    (45.60123219955139, 9.27507265782848)  \n",
       "4   686934  45.013257  11.372345  (45.01325676849334, 11.372344948058235)  "
      ]
     },
     "execution_count": 44,
     "metadata": {},
     "output_type": "execute_result"
    }
   ],
   "source": [
    "grandezze_di_interesse = ['Biossido di Azoto',\n",
    "                          'PM10 (SM2005)',\n",
    "                          'Ossidi di Azoto',\n",
    "                          'Ozono',\n",
    "                          'Biossido di Zolfo',\n",
    "                          'Particolato Totale Sospeso',\n",
    "                          'Monossido di Carbonio',\n",
    "                          'Particelle sospese PM2.5',\n",
    "                          'Benzene']\n",
    "sensori_aria.drop(sensori_aria[~sensori_aria['NomeTipoSensore'].isin(grandezze_di_interesse)].index, inplace = True)\n",
    "sensori_aria.reset_index(drop=True, inplace=True)\n",
    "sensori_aria.head()"
   ]
  },
  {
   "cell_type": "code",
   "execution_count": 45,
   "id": "db569ca1",
   "metadata": {
    "ExecuteTime": {
     "end_time": "2022-01-17T01:05:56.302268Z",
     "start_time": "2022-01-17T01:05:56.288179Z"
    },
    "hidden": true
   },
   "outputs": [
    {
     "data": {
      "text/plain": [
       "Zona\n",
       "A         2862310\n",
       "AGG BG     422629\n",
       "AGG BS     392782\n",
       "AGG MI    3593025\n",
       "B         1461573\n",
       "C          757127\n",
       "C D        328196\n",
       "D            8499\n",
       "Name: Residenti 2008, dtype: int64"
      ]
     },
     "execution_count": 45,
     "metadata": {},
     "output_type": "execute_result"
    }
   ],
   "source": [
    "zonizzazione.groupby('Zona')['Residenti 2008'].sum()"
   ]
  },
  {
   "cell_type": "markdown",
   "id": "c367220f",
   "metadata": {},
   "source": [
    "# Data preparation (group by e join su *superset*)"
   ]
  },
  {
   "cell_type": "markdown",
   "id": "bf3722b4",
   "metadata": {},
   "source": [
    "## GROUP BY `aria__id_day`"
   ]
  },
  {
   "cell_type": "markdown",
   "id": "98217d70",
   "metadata": {},
   "source": [
    "- Raggruppo per `IdSensore` e `Data`(giorno)\n",
    "- Calcolo grandezze aggregate\n",
    "    - Calcolo il valore medio e la deviazione standard del `Valore` registrato dal senbsore\n",
    "    - Importante sottolineare che le funzioni `mean, count e std` di pandas NON tengono conto dei Na, quindi i valori che vediamo sono esatti"
   ]
  },
  {
   "cell_type": "code",
   "execution_count": 46,
   "id": "38d40685",
   "metadata": {
    "ExecuteTime": {
     "end_time": "2022-01-17T01:06:34.386606Z",
     "start_time": "2022-01-17T01:05:56.303570Z"
    }
   },
   "outputs": [
    {
     "data": {
      "text/html": [
       "<div>\n",
       "<style scoped>\n",
       "    .dataframe tbody tr th:only-of-type {\n",
       "        vertical-align: middle;\n",
       "    }\n",
       "\n",
       "    .dataframe tbody tr th {\n",
       "        vertical-align: top;\n",
       "    }\n",
       "\n",
       "    .dataframe thead th {\n",
       "        text-align: right;\n",
       "    }\n",
       "</style>\n",
       "<table border=\"1\" class=\"dataframe\">\n",
       "  <thead>\n",
       "    <tr style=\"text-align: right;\">\n",
       "      <th></th>\n",
       "      <th>IdSensore</th>\n",
       "      <th>Data</th>\n",
       "      <th>Valore_MEAN_id_day</th>\n",
       "      <th>Valore_COUNT_id_day</th>\n",
       "      <th>Valore_STD_id_day</th>\n",
       "    </tr>\n",
       "  </thead>\n",
       "  <tbody>\n",
       "    <tr>\n",
       "      <th>0</th>\n",
       "      <td>5504</td>\n",
       "      <td>1996-01-01</td>\n",
       "      <td>79.504167</td>\n",
       "      <td>24</td>\n",
       "      <td>19.035173</td>\n",
       "    </tr>\n",
       "    <tr>\n",
       "      <th>1</th>\n",
       "      <td>5504</td>\n",
       "      <td>1996-01-02</td>\n",
       "      <td>100.858333</td>\n",
       "      <td>24</td>\n",
       "      <td>18.752528</td>\n",
       "    </tr>\n",
       "    <tr>\n",
       "      <th>2</th>\n",
       "      <td>5504</td>\n",
       "      <td>1996-01-03</td>\n",
       "      <td>91.612500</td>\n",
       "      <td>24</td>\n",
       "      <td>26.257228</td>\n",
       "    </tr>\n",
       "    <tr>\n",
       "      <th>3</th>\n",
       "      <td>5504</td>\n",
       "      <td>1996-01-04</td>\n",
       "      <td>81.270833</td>\n",
       "      <td>24</td>\n",
       "      <td>14.921927</td>\n",
       "    </tr>\n",
       "    <tr>\n",
       "      <th>4</th>\n",
       "      <td>5504</td>\n",
       "      <td>1996-01-05</td>\n",
       "      <td>68.191667</td>\n",
       "      <td>24</td>\n",
       "      <td>6.739108</td>\n",
       "    </tr>\n",
       "    <tr>\n",
       "      <th>...</th>\n",
       "      <td>...</td>\n",
       "      <td>...</td>\n",
       "      <td>...</td>\n",
       "      <td>...</td>\n",
       "      <td>...</td>\n",
       "    </tr>\n",
       "    <tr>\n",
       "      <th>4622706</th>\n",
       "      <td>30166</td>\n",
       "      <td>2021-12-23</td>\n",
       "      <td>3.600000</td>\n",
       "      <td>1</td>\n",
       "      <td>NaN</td>\n",
       "    </tr>\n",
       "    <tr>\n",
       "      <th>4622707</th>\n",
       "      <td>30166</td>\n",
       "      <td>2021-12-24</td>\n",
       "      <td>3.100000</td>\n",
       "      <td>1</td>\n",
       "      <td>NaN</td>\n",
       "    </tr>\n",
       "    <tr>\n",
       "      <th>4622708</th>\n",
       "      <td>30166</td>\n",
       "      <td>2021-12-25</td>\n",
       "      <td>3.300000</td>\n",
       "      <td>1</td>\n",
       "      <td>NaN</td>\n",
       "    </tr>\n",
       "    <tr>\n",
       "      <th>4622709</th>\n",
       "      <td>30166</td>\n",
       "      <td>2021-12-26</td>\n",
       "      <td>3.100000</td>\n",
       "      <td>1</td>\n",
       "      <td>NaN</td>\n",
       "    </tr>\n",
       "    <tr>\n",
       "      <th>4622710</th>\n",
       "      <td>30166</td>\n",
       "      <td>2021-12-27</td>\n",
       "      <td>2.400000</td>\n",
       "      <td>1</td>\n",
       "      <td>NaN</td>\n",
       "    </tr>\n",
       "  </tbody>\n",
       "</table>\n",
       "<p>4622711 rows × 5 columns</p>\n",
       "</div>"
      ],
      "text/plain": [
       "         IdSensore        Data  Valore_MEAN_id_day  Valore_COUNT_id_day  \\\n",
       "0             5504  1996-01-01           79.504167                   24   \n",
       "1             5504  1996-01-02          100.858333                   24   \n",
       "2             5504  1996-01-03           91.612500                   24   \n",
       "3             5504  1996-01-04           81.270833                   24   \n",
       "4             5504  1996-01-05           68.191667                   24   \n",
       "...            ...         ...                 ...                  ...   \n",
       "4622706      30166  2021-12-23            3.600000                    1   \n",
       "4622707      30166  2021-12-24            3.100000                    1   \n",
       "4622708      30166  2021-12-25            3.300000                    1   \n",
       "4622709      30166  2021-12-26            3.100000                    1   \n",
       "4622710      30166  2021-12-27            2.400000                    1   \n",
       "\n",
       "         Valore_STD_id_day  \n",
       "0                19.035173  \n",
       "1                18.752528  \n",
       "2                26.257228  \n",
       "3                14.921927  \n",
       "4                 6.739108  \n",
       "...                    ...  \n",
       "4622706                NaN  \n",
       "4622707                NaN  \n",
       "4622708                NaN  \n",
       "4622709                NaN  \n",
       "4622710                NaN  \n",
       "\n",
       "[4622711 rows x 5 columns]"
      ]
     },
     "execution_count": 46,
     "metadata": {},
     "output_type": "execute_result"
    }
   ],
   "source": [
    "aria__id_day = aria_tot[['IdSensore', 'Data', 'Valore']]\\\n",
    "               .groupby(['IdSensore', aria_tot['Data'].dt.date])\\\n",
    "               .agg({'Valore': ['mean', 'count', 'std']})\\\n",
    "               .reset_index()\n",
    "\n",
    "aria__id_day.columns = ['IdSensore', 'Data', 'Valore_MEAN_id_day', 'Valore_COUNT_id_day', 'Valore_STD_id_day']\n",
    "aria__id_day"
   ]
  },
  {
   "cell_type": "markdown",
   "id": "532a1406",
   "metadata": {
    "heading_collapsed": true
   },
   "source": [
    "## JOIN `aria_sensori__id_day`"
   ]
  },
  {
   "cell_type": "markdown",
   "id": "16a77ed9",
   "metadata": {
    "hidden": true
   },
   "source": [
    "Inner join tra `aria__id_day` e `sensori_aria` a dare `aria_sensori__id_day`"
   ]
  },
  {
   "cell_type": "code",
   "execution_count": 47,
   "id": "c524de53",
   "metadata": {
    "ExecuteTime": {
     "end_time": "2022-01-17T01:06:36.429785Z",
     "start_time": "2022-01-17T01:06:34.388095Z"
    },
    "hidden": true,
    "scrolled": false
   },
   "outputs": [
    {
     "data": {
      "text/html": [
       "<div>\n",
       "<style scoped>\n",
       "    .dataframe tbody tr th:only-of-type {\n",
       "        vertical-align: middle;\n",
       "    }\n",
       "\n",
       "    .dataframe tbody tr th {\n",
       "        vertical-align: top;\n",
       "    }\n",
       "\n",
       "    .dataframe thead th {\n",
       "        text-align: right;\n",
       "    }\n",
       "</style>\n",
       "<table border=\"1\" class=\"dataframe\">\n",
       "  <thead>\n",
       "    <tr style=\"text-align: right;\">\n",
       "      <th></th>\n",
       "      <th>IdSensore</th>\n",
       "      <th>Data</th>\n",
       "      <th>Valore_MEAN_id_day</th>\n",
       "      <th>Valore_COUNT_id_day</th>\n",
       "      <th>Valore_STD_id_day</th>\n",
       "      <th>NomeTipoSensore</th>\n",
       "      <th>UnitaMisura</th>\n",
       "      <th>Idstazione</th>\n",
       "      <th>NomeStazione</th>\n",
       "      <th>Quota</th>\n",
       "      <th>Provincia</th>\n",
       "      <th>Comune</th>\n",
       "      <th>Storico</th>\n",
       "      <th>DataStart</th>\n",
       "      <th>DataStop</th>\n",
       "      <th>Utm_Nord</th>\n",
       "      <th>UTM_Est</th>\n",
       "      <th>lat</th>\n",
       "      <th>lng</th>\n",
       "      <th>location</th>\n",
       "    </tr>\n",
       "  </thead>\n",
       "  <tbody>\n",
       "    <tr>\n",
       "      <th>0</th>\n",
       "      <td>5504</td>\n",
       "      <td>1996-01-01</td>\n",
       "      <td>79.504167</td>\n",
       "      <td>24</td>\n",
       "      <td>19.035173</td>\n",
       "      <td>Biossido di Azoto</td>\n",
       "      <td>µg/m³</td>\n",
       "      <td>501</td>\n",
       "      <td>Milano v.Marche</td>\n",
       "      <td>129.0</td>\n",
       "      <td>MI</td>\n",
       "      <td>Milano</td>\n",
       "      <td>N</td>\n",
       "      <td>1980-09-18</td>\n",
       "      <td>NaT</td>\n",
       "      <td>5038105</td>\n",
       "      <td>514918</td>\n",
       "      <td>45.496316</td>\n",
       "      <td>9.190934</td>\n",
       "      <td>(45.49631644365102, 9.190933555313624)</td>\n",
       "    </tr>\n",
       "    <tr>\n",
       "      <th>1</th>\n",
       "      <td>5504</td>\n",
       "      <td>1996-01-02</td>\n",
       "      <td>100.858333</td>\n",
       "      <td>24</td>\n",
       "      <td>18.752528</td>\n",
       "      <td>Biossido di Azoto</td>\n",
       "      <td>µg/m³</td>\n",
       "      <td>501</td>\n",
       "      <td>Milano v.Marche</td>\n",
       "      <td>129.0</td>\n",
       "      <td>MI</td>\n",
       "      <td>Milano</td>\n",
       "      <td>N</td>\n",
       "      <td>1980-09-18</td>\n",
       "      <td>NaT</td>\n",
       "      <td>5038105</td>\n",
       "      <td>514918</td>\n",
       "      <td>45.496316</td>\n",
       "      <td>9.190934</td>\n",
       "      <td>(45.49631644365102, 9.190933555313624)</td>\n",
       "    </tr>\n",
       "    <tr>\n",
       "      <th>2</th>\n",
       "      <td>5504</td>\n",
       "      <td>1996-01-03</td>\n",
       "      <td>91.612500</td>\n",
       "      <td>24</td>\n",
       "      <td>26.257228</td>\n",
       "      <td>Biossido di Azoto</td>\n",
       "      <td>µg/m³</td>\n",
       "      <td>501</td>\n",
       "      <td>Milano v.Marche</td>\n",
       "      <td>129.0</td>\n",
       "      <td>MI</td>\n",
       "      <td>Milano</td>\n",
       "      <td>N</td>\n",
       "      <td>1980-09-18</td>\n",
       "      <td>NaT</td>\n",
       "      <td>5038105</td>\n",
       "      <td>514918</td>\n",
       "      <td>45.496316</td>\n",
       "      <td>9.190934</td>\n",
       "      <td>(45.49631644365102, 9.190933555313624)</td>\n",
       "    </tr>\n",
       "    <tr>\n",
       "      <th>3</th>\n",
       "      <td>5504</td>\n",
       "      <td>1996-01-04</td>\n",
       "      <td>81.270833</td>\n",
       "      <td>24</td>\n",
       "      <td>14.921927</td>\n",
       "      <td>Biossido di Azoto</td>\n",
       "      <td>µg/m³</td>\n",
       "      <td>501</td>\n",
       "      <td>Milano v.Marche</td>\n",
       "      <td>129.0</td>\n",
       "      <td>MI</td>\n",
       "      <td>Milano</td>\n",
       "      <td>N</td>\n",
       "      <td>1980-09-18</td>\n",
       "      <td>NaT</td>\n",
       "      <td>5038105</td>\n",
       "      <td>514918</td>\n",
       "      <td>45.496316</td>\n",
       "      <td>9.190934</td>\n",
       "      <td>(45.49631644365102, 9.190933555313624)</td>\n",
       "    </tr>\n",
       "    <tr>\n",
       "      <th>4</th>\n",
       "      <td>5504</td>\n",
       "      <td>1996-01-05</td>\n",
       "      <td>68.191667</td>\n",
       "      <td>24</td>\n",
       "      <td>6.739108</td>\n",
       "      <td>Biossido di Azoto</td>\n",
       "      <td>µg/m³</td>\n",
       "      <td>501</td>\n",
       "      <td>Milano v.Marche</td>\n",
       "      <td>129.0</td>\n",
       "      <td>MI</td>\n",
       "      <td>Milano</td>\n",
       "      <td>N</td>\n",
       "      <td>1980-09-18</td>\n",
       "      <td>NaT</td>\n",
       "      <td>5038105</td>\n",
       "      <td>514918</td>\n",
       "      <td>45.496316</td>\n",
       "      <td>9.190934</td>\n",
       "      <td>(45.49631644365102, 9.190933555313624)</td>\n",
       "    </tr>\n",
       "    <tr>\n",
       "      <th>...</th>\n",
       "      <td>...</td>\n",
       "      <td>...</td>\n",
       "      <td>...</td>\n",
       "      <td>...</td>\n",
       "      <td>...</td>\n",
       "      <td>...</td>\n",
       "      <td>...</td>\n",
       "      <td>...</td>\n",
       "      <td>...</td>\n",
       "      <td>...</td>\n",
       "      <td>...</td>\n",
       "      <td>...</td>\n",
       "      <td>...</td>\n",
       "      <td>...</td>\n",
       "      <td>...</td>\n",
       "      <td>...</td>\n",
       "      <td>...</td>\n",
       "      <td>...</td>\n",
       "      <td>...</td>\n",
       "      <td>...</td>\n",
       "    </tr>\n",
       "    <tr>\n",
       "      <th>4495112</th>\n",
       "      <td>30166</td>\n",
       "      <td>2021-12-23</td>\n",
       "      <td>3.600000</td>\n",
       "      <td>1</td>\n",
       "      <td>NaN</td>\n",
       "      <td>Benzene</td>\n",
       "      <td>µg/m³</td>\n",
       "      <td>652</td>\n",
       "      <td>Brescia v.Turati</td>\n",
       "      <td>154.0</td>\n",
       "      <td>BS</td>\n",
       "      <td>Brescia</td>\n",
       "      <td>N</td>\n",
       "      <td>2016-01-01</td>\n",
       "      <td>NaT</td>\n",
       "      <td>5043626</td>\n",
       "      <td>596168</td>\n",
       "      <td>45.539529</td>\n",
       "      <td>10.231786</td>\n",
       "      <td>(45.539529434955995, 10.231785907477223)</td>\n",
       "    </tr>\n",
       "    <tr>\n",
       "      <th>4495113</th>\n",
       "      <td>30166</td>\n",
       "      <td>2021-12-24</td>\n",
       "      <td>3.100000</td>\n",
       "      <td>1</td>\n",
       "      <td>NaN</td>\n",
       "      <td>Benzene</td>\n",
       "      <td>µg/m³</td>\n",
       "      <td>652</td>\n",
       "      <td>Brescia v.Turati</td>\n",
       "      <td>154.0</td>\n",
       "      <td>BS</td>\n",
       "      <td>Brescia</td>\n",
       "      <td>N</td>\n",
       "      <td>2016-01-01</td>\n",
       "      <td>NaT</td>\n",
       "      <td>5043626</td>\n",
       "      <td>596168</td>\n",
       "      <td>45.539529</td>\n",
       "      <td>10.231786</td>\n",
       "      <td>(45.539529434955995, 10.231785907477223)</td>\n",
       "    </tr>\n",
       "    <tr>\n",
       "      <th>4495114</th>\n",
       "      <td>30166</td>\n",
       "      <td>2021-12-25</td>\n",
       "      <td>3.300000</td>\n",
       "      <td>1</td>\n",
       "      <td>NaN</td>\n",
       "      <td>Benzene</td>\n",
       "      <td>µg/m³</td>\n",
       "      <td>652</td>\n",
       "      <td>Brescia v.Turati</td>\n",
       "      <td>154.0</td>\n",
       "      <td>BS</td>\n",
       "      <td>Brescia</td>\n",
       "      <td>N</td>\n",
       "      <td>2016-01-01</td>\n",
       "      <td>NaT</td>\n",
       "      <td>5043626</td>\n",
       "      <td>596168</td>\n",
       "      <td>45.539529</td>\n",
       "      <td>10.231786</td>\n",
       "      <td>(45.539529434955995, 10.231785907477223)</td>\n",
       "    </tr>\n",
       "    <tr>\n",
       "      <th>4495115</th>\n",
       "      <td>30166</td>\n",
       "      <td>2021-12-26</td>\n",
       "      <td>3.100000</td>\n",
       "      <td>1</td>\n",
       "      <td>NaN</td>\n",
       "      <td>Benzene</td>\n",
       "      <td>µg/m³</td>\n",
       "      <td>652</td>\n",
       "      <td>Brescia v.Turati</td>\n",
       "      <td>154.0</td>\n",
       "      <td>BS</td>\n",
       "      <td>Brescia</td>\n",
       "      <td>N</td>\n",
       "      <td>2016-01-01</td>\n",
       "      <td>NaT</td>\n",
       "      <td>5043626</td>\n",
       "      <td>596168</td>\n",
       "      <td>45.539529</td>\n",
       "      <td>10.231786</td>\n",
       "      <td>(45.539529434955995, 10.231785907477223)</td>\n",
       "    </tr>\n",
       "    <tr>\n",
       "      <th>4495116</th>\n",
       "      <td>30166</td>\n",
       "      <td>2021-12-27</td>\n",
       "      <td>2.400000</td>\n",
       "      <td>1</td>\n",
       "      <td>NaN</td>\n",
       "      <td>Benzene</td>\n",
       "      <td>µg/m³</td>\n",
       "      <td>652</td>\n",
       "      <td>Brescia v.Turati</td>\n",
       "      <td>154.0</td>\n",
       "      <td>BS</td>\n",
       "      <td>Brescia</td>\n",
       "      <td>N</td>\n",
       "      <td>2016-01-01</td>\n",
       "      <td>NaT</td>\n",
       "      <td>5043626</td>\n",
       "      <td>596168</td>\n",
       "      <td>45.539529</td>\n",
       "      <td>10.231786</td>\n",
       "      <td>(45.539529434955995, 10.231785907477223)</td>\n",
       "    </tr>\n",
       "  </tbody>\n",
       "</table>\n",
       "<p>4495117 rows × 20 columns</p>\n",
       "</div>"
      ],
      "text/plain": [
       "         IdSensore        Data  Valore_MEAN_id_day  Valore_COUNT_id_day  \\\n",
       "0             5504  1996-01-01           79.504167                   24   \n",
       "1             5504  1996-01-02          100.858333                   24   \n",
       "2             5504  1996-01-03           91.612500                   24   \n",
       "3             5504  1996-01-04           81.270833                   24   \n",
       "4             5504  1996-01-05           68.191667                   24   \n",
       "...            ...         ...                 ...                  ...   \n",
       "4495112      30166  2021-12-23            3.600000                    1   \n",
       "4495113      30166  2021-12-24            3.100000                    1   \n",
       "4495114      30166  2021-12-25            3.300000                    1   \n",
       "4495115      30166  2021-12-26            3.100000                    1   \n",
       "4495116      30166  2021-12-27            2.400000                    1   \n",
       "\n",
       "         Valore_STD_id_day    NomeTipoSensore UnitaMisura  Idstazione  \\\n",
       "0                19.035173  Biossido di Azoto       µg/m³         501   \n",
       "1                18.752528  Biossido di Azoto       µg/m³         501   \n",
       "2                26.257228  Biossido di Azoto       µg/m³         501   \n",
       "3                14.921927  Biossido di Azoto       µg/m³         501   \n",
       "4                 6.739108  Biossido di Azoto       µg/m³         501   \n",
       "...                    ...                ...         ...         ...   \n",
       "4495112                NaN            Benzene       µg/m³         652   \n",
       "4495113                NaN            Benzene       µg/m³         652   \n",
       "4495114                NaN            Benzene       µg/m³         652   \n",
       "4495115                NaN            Benzene       µg/m³         652   \n",
       "4495116                NaN            Benzene       µg/m³         652   \n",
       "\n",
       "             NomeStazione  Quota Provincia   Comune Storico  DataStart  \\\n",
       "0         Milano v.Marche  129.0        MI   Milano       N 1980-09-18   \n",
       "1         Milano v.Marche  129.0        MI   Milano       N 1980-09-18   \n",
       "2         Milano v.Marche  129.0        MI   Milano       N 1980-09-18   \n",
       "3         Milano v.Marche  129.0        MI   Milano       N 1980-09-18   \n",
       "4         Milano v.Marche  129.0        MI   Milano       N 1980-09-18   \n",
       "...                   ...    ...       ...      ...     ...        ...   \n",
       "4495112  Brescia v.Turati  154.0        BS  Brescia       N 2016-01-01   \n",
       "4495113  Brescia v.Turati  154.0        BS  Brescia       N 2016-01-01   \n",
       "4495114  Brescia v.Turati  154.0        BS  Brescia       N 2016-01-01   \n",
       "4495115  Brescia v.Turati  154.0        BS  Brescia       N 2016-01-01   \n",
       "4495116  Brescia v.Turati  154.0        BS  Brescia       N 2016-01-01   \n",
       "\n",
       "        DataStop  Utm_Nord  UTM_Est        lat        lng  \\\n",
       "0            NaT   5038105   514918  45.496316   9.190934   \n",
       "1            NaT   5038105   514918  45.496316   9.190934   \n",
       "2            NaT   5038105   514918  45.496316   9.190934   \n",
       "3            NaT   5038105   514918  45.496316   9.190934   \n",
       "4            NaT   5038105   514918  45.496316   9.190934   \n",
       "...          ...       ...      ...        ...        ...   \n",
       "4495112      NaT   5043626   596168  45.539529  10.231786   \n",
       "4495113      NaT   5043626   596168  45.539529  10.231786   \n",
       "4495114      NaT   5043626   596168  45.539529  10.231786   \n",
       "4495115      NaT   5043626   596168  45.539529  10.231786   \n",
       "4495116      NaT   5043626   596168  45.539529  10.231786   \n",
       "\n",
       "                                         location  \n",
       "0          (45.49631644365102, 9.190933555313624)  \n",
       "1          (45.49631644365102, 9.190933555313624)  \n",
       "2          (45.49631644365102, 9.190933555313624)  \n",
       "3          (45.49631644365102, 9.190933555313624)  \n",
       "4          (45.49631644365102, 9.190933555313624)  \n",
       "...                                           ...  \n",
       "4495112  (45.539529434955995, 10.231785907477223)  \n",
       "4495113  (45.539529434955995, 10.231785907477223)  \n",
       "4495114  (45.539529434955995, 10.231785907477223)  \n",
       "4495115  (45.539529434955995, 10.231785907477223)  \n",
       "4495116  (45.539529434955995, 10.231785907477223)  \n",
       "\n",
       "[4495117 rows x 20 columns]"
      ]
     },
     "execution_count": 47,
     "metadata": {},
     "output_type": "execute_result"
    }
   ],
   "source": [
    "aria_sensori__id_day = pd.merge(aria__id_day, sensori_aria, how = 'inner', on = 'IdSensore')\n",
    "aria_sensori__id_day"
   ]
  },
  {
   "cell_type": "markdown",
   "id": "097950f4",
   "metadata": {
    "heading_collapsed": true,
    "hidden": true
   },
   "source": [
    "#### Perchè si perdono delle medie facendo il JOIN ?\n",
    "Si perdono delle righe con il merge, questo è dovuto al fatto che:\n",
    "- Praticamente ci sono **88 sensori** che compaiono solo in **aria_20_21 ma non sono registrati** in **sensori_aria** (controllato manualente)"
   ]
  },
  {
   "cell_type": "code",
   "execution_count": 48,
   "id": "df852392",
   "metadata": {
    "ExecuteTime": {
     "end_time": "2022-01-17T01:06:37.771064Z",
     "start_time": "2022-01-17T01:06:36.429785Z"
    },
    "hidden": true
   },
   "outputs": [
    {
     "name": "stdout",
     "output_type": "stream",
     "text": [
      "98    Numero di sensori che non compaiono in sensori_aria\n",
      "127594 Numero di righe di aria__id_day relative a quei sensori\n",
      "127594 Numero di righe perse nel join\n"
     ]
    }
   ],
   "source": [
    "print(len(aria_tot[~aria_tot.IdSensore.isin(sensori_aria.IdSensore)]['IdSensore'].unique()), '   Numero di sensori che non compaiono in sensori_aria')\n",
    "lista = aria_tot[~aria_tot.IdSensore.isin(sensori_aria.IdSensore)]['IdSensore'].unique()\n",
    "print(aria__id_day[aria__id_day.IdSensore.isin(lista)].shape[0], 'Numero di righe di aria__id_day relative a quei sensori')\n",
    "print(aria__id_day.shape[0] - aria_sensori__id_day.shape[0], 'Numero di righe perse nel join')"
   ]
  },
  {
   "cell_type": "markdown",
   "id": "d2e191f7",
   "metadata": {},
   "source": [
    "## Controllo significativitá medie e unitá di misura"
   ]
  },
  {
   "cell_type": "markdown",
   "id": "5ce26265",
   "metadata": {},
   "source": [
    "### Medie ottenute da piú di un'osservazione"
   ]
  },
  {
   "cell_type": "markdown",
   "id": "4a7f8a6e",
   "metadata": {},
   "source": [
    "Cerco di determinare quali medie Idsensore-giorno, siano significative, quindi siano ottenute da un numero sufficiente di misurazioni\n",
    "- Per prima cosa verifico il numero di di medie giornaliere per sensore ottenute dal **numero massimo di misurazioni (24**, una misurazione ogni ora)"
   ]
  },
  {
   "cell_type": "code",
   "execution_count": 49,
   "id": "6a9e3243",
   "metadata": {
    "ExecuteTime": {
     "end_time": "2022-01-17T01:06:38.856692Z",
     "start_time": "2022-01-17T01:06:37.772117Z"
    }
   },
   "outputs": [
    {
     "data": {
      "text/plain": [
       "2935827"
      ]
     },
     "execution_count": 49,
     "metadata": {},
     "output_type": "execute_result"
    }
   ],
   "source": [
    "aria_sensori__id_day[aria_sensori__id_day.Valore_COUNT_id_day == 24].shape[0]"
   ]
  },
  {
   "cell_type": "markdown",
   "id": "65ca2aa5",
   "metadata": {},
   "source": [
    "- Ora verifico quante di queste siano ottenute da un **solo valore**\n",
    "    - Queste potrebbero avere senso, perchè alcune misurazioni sono fornite dai sensori già mediate sull'intera giornata (o almeno dovrebbero)\n",
    "    - Come PM2.5 e PM10\n",
    "- Per questo per ora direi di non toglierle, valutiamo bene la casistica una volta effettuato il join con il dataset delle stazioni"
   ]
  },
  {
   "cell_type": "code",
   "execution_count": 50,
   "id": "4d0b760b",
   "metadata": {
    "ExecuteTime": {
     "end_time": "2022-01-17T01:06:38.996486Z",
     "start_time": "2022-01-17T01:06:38.857548Z"
    }
   },
   "outputs": [
    {
     "data": {
      "text/plain": [
       "801388"
      ]
     },
     "execution_count": 50,
     "metadata": {},
     "output_type": "execute_result"
    }
   ],
   "source": [
    "aria_sensori__id_day[aria_sensori__id_day.Valore_COUNT_id_day == 1].shape[0]"
   ]
  },
  {
   "cell_type": "markdown",
   "id": "b3110630",
   "metadata": {},
   "source": [
    "- Verifico quali medie sono ottenute da **meno di 8 misurazioni** ma **piú di 1 misurazione**\n",
    "    - Secondo me 8 ore, anche se fossero di fila e non sparse, è un dato ottimo. UNa concentrazione più o meno stabile di inquinante per 8 ore è significativa.\n",
    "    - Inoltre con 8 osservazioni penso che eventuali outliers vengano abbastanza spenti in media, comunque l’effetto non è troppo diverso da averne 15 in termini di effetto degli outliers,"
   ]
  },
  {
   "cell_type": "code",
   "execution_count": 51,
   "id": "c2b42de9",
   "metadata": {
    "ExecuteTime": {
     "end_time": "2022-01-17T01:06:39.027425Z",
     "start_time": "2022-01-17T01:06:38.998507Z"
    }
   },
   "outputs": [
    {
     "data": {
      "text/plain": [
       "15015"
      ]
     },
     "execution_count": 51,
     "metadata": {},
     "output_type": "execute_result"
    }
   ],
   "source": [
    "aria_sensori__id_day[(aria_sensori__id_day.Valore_COUNT_id_day < 8) & (aria_sensori__id_day.Valore_COUNT_id_day > 1)].shape[0]"
   ]
  },
  {
   "cell_type": "markdown",
   "id": "31867bb5",
   "metadata": {},
   "source": [
    "- Verifico quali medie sono ottenute da **meno di 15 misurazioni** ma **piú di 1 misurazione** (considero un cutoff significativo)"
   ]
  },
  {
   "cell_type": "code",
   "execution_count": 52,
   "id": "325138d0",
   "metadata": {
    "ExecuteTime": {
     "end_time": "2022-01-17T01:06:39.074060Z",
     "start_time": "2022-01-17T01:06:39.028464Z"
    }
   },
   "outputs": [
    {
     "data": {
      "text/plain": [
       "85796"
      ]
     },
     "execution_count": 52,
     "metadata": {},
     "output_type": "execute_result"
    }
   ],
   "source": [
    "aria_sensori__id_day[(aria_sensori__id_day.Valore_COUNT_id_day < 15) & (aria_sensori__id_day.Valore_COUNT_id_day > 1)].shape[0]"
   ]
  },
  {
   "cell_type": "markdown",
   "id": "410bb5dd",
   "metadata": {},
   "source": [
    "- Verifico quali sono ottenute da 0 osservazioni"
   ]
  },
  {
   "cell_type": "code",
   "execution_count": 53,
   "id": "c7756d75",
   "metadata": {
    "ExecuteTime": {
     "end_time": "2022-01-17T01:06:39.088885Z",
     "start_time": "2022-01-17T01:06:39.075590Z"
    }
   },
   "outputs": [
    {
     "data": {
      "text/plain": [
       "0"
      ]
     },
     "execution_count": 53,
     "metadata": {},
     "output_type": "execute_result"
    }
   ],
   "source": [
    "aria_sensori__id_day[aria_sensori__id_day.Valore_COUNT_id_day == 0].shape[0]"
   ]
  },
  {
   "cell_type": "markdown",
   "id": "b65aab0f",
   "metadata": {
    "heading_collapsed": true
   },
   "source": [
    "#### Rimozione medie ottenute da meno di 8 osservazioni"
   ]
  },
  {
   "cell_type": "code",
   "execution_count": 54,
   "id": "93645e4b",
   "metadata": {
    "ExecuteTime": {
     "end_time": "2022-01-17T01:06:39.835259Z",
     "start_time": "2022-01-17T01:06:39.089898Z"
    },
    "hidden": true
   },
   "outputs": [],
   "source": [
    "aria_sensori__id_day.drop(aria_sensori__id_day[(aria_sensori__id_day.Valore_COUNT_id_day < 8) & (aria_sensori__id_day.Valore_COUNT_id_day > 1)].index, inplace=True)\n",
    "aria_sensori__id_day.reset_index(drop=True, inplace=True)"
   ]
  },
  {
   "cell_type": "markdown",
   "id": "e0ab4d56",
   "metadata": {
    "heading_collapsed": true
   },
   "source": [
    "### Medie ottenute da un'osservazione "
   ]
  },
  {
   "cell_type": "code",
   "execution_count": 55,
   "id": "b42bc3a2",
   "metadata": {
    "ExecuteTime": {
     "end_time": "2022-01-17T01:06:40.329301Z",
     "start_time": "2022-01-17T01:06:39.836501Z"
    },
    "hidden": true,
    "scrolled": false
   },
   "outputs": [
    {
     "name": "stdout",
     "output_type": "stream",
     "text": [
      "NomeTipoSensore\n",
      "Benzene                        129918\n",
      "Biossido di Azoto             1038138\n",
      "Biossido di Zolfo              509934\n",
      "Monossido di Carbonio          600823\n",
      "Ossidi di Azoto               1019628\n",
      "Ozono                          522509\n",
      "PM10 (SM2005)                  452398\n",
      "Particelle sospese PM2.5       145733\n",
      "Particolato Totale Sospeso      61021\n",
      "dtype: int64 \n",
      "\n",
      "NomeTipoSensore\n",
      "Benzene                       129621\n",
      "Biossido di Azoto               3371\n",
      "Biossido di Zolfo               1995\n",
      "Monossido di Carbonio           1606\n",
      "Ossidi di Azoto                 4152\n",
      "Ozono                           1810\n",
      "PM10 (SM2005)                 452307\n",
      "Particelle sospese PM2.5      145505\n",
      "Particolato Totale Sospeso     61021\n",
      "dtype: int64\n"
     ]
    }
   ],
   "source": [
    "print(aria_sensori__id_day.value_counts('NomeTipoSensore').sort_index(), '\\n')\n",
    "print(aria_sensori__id_day[(aria_sensori__id_day.Valore_COUNT_id_day == 1)].value_counts('NomeTipoSensore').sort_index())"
   ]
  },
  {
   "cell_type": "markdown",
   "id": "3e0903a2",
   "metadata": {
    "hidden": true
   },
   "source": [
    "**Molte di queste sono PM10 e PM2.5**\n",
    "- giustificate dal fatto che sono già fornite in quanto medie (ecco perchè solo una misurazione !)\n",
    "- Non le elimino"
   ]
  },
  {
   "cell_type": "code",
   "execution_count": 56,
   "id": "fea749be",
   "metadata": {
    "ExecuteTime": {
     "end_time": "2022-01-17T01:06:41.610682Z",
     "start_time": "2022-01-17T01:06:40.330339Z"
    },
    "hidden": true
   },
   "outputs": [
    {
     "name": "stdout",
     "output_type": "stream",
     "text": [
      "NomeTipoSensore\n",
      "PM10 (SM2005)                 452307\n",
      "Particelle sospese PM2.5      145505\n",
      "Particolato Totale Sospeso     61021\n",
      "dtype: int64\n",
      "(658833, 20)\n"
     ]
    }
   ],
   "source": [
    "print(aria_sensori__id_day[\n",
    "    ((aria_sensori__id_day.NomeTipoSensore == 'PM10 (SM2005)')\n",
    "    | (aria_sensori__id_day.NomeTipoSensore == 'Particolato Totale Sospeso')\n",
    "    | (aria_sensori__id_day.NomeTipoSensore == 'Particelle sospese PM2.5')) & (aria_sensori__id_day.Valore_COUNT_id_day == 1)].value_counts('NomeTipoSensore'))\n",
    "print(aria_sensori__id_day[\n",
    "    ((aria_sensori__id_day.NomeTipoSensore == 'PM10 (SM2005)')\n",
    "    | (aria_sensori__id_day.NomeTipoSensore == 'Particolato Totale Sospeso')\n",
    "    | (aria_sensori__id_day.NomeTipoSensore == 'Particelle sospese PM2.5')) & (aria_sensori__id_day.Valore_COUNT_id_day == 1)].shape)"
   ]
  },
  {
   "cell_type": "markdown",
   "id": "8c860b96",
   "metadata": {
    "heading_collapsed": true,
    "hidden": true
   },
   "source": [
    "#### Quali medie non sono relative al particolato ma comunque hanno una sola misurazione ? Perchè ?\n",
    "- Quasi tutte le misurazioni del benzene sono da una misurazione, deduco anche qui allora che sia un valore mediato"
   ]
  },
  {
   "cell_type": "code",
   "execution_count": 57,
   "id": "eaf92178",
   "metadata": {
    "ExecuteTime": {
     "end_time": "2022-01-17T01:06:42.318378Z",
     "start_time": "2022-01-17T01:06:41.612022Z"
    },
    "hidden": true
   },
   "outputs": [
    {
     "data": {
      "text/plain": [
       "NomeTipoSensore\n",
       "Benzene                  129621\n",
       "Ossidi di Azoto            4152\n",
       "Biossido di Azoto          3371\n",
       "Biossido di Zolfo          1995\n",
       "Ozono                      1810\n",
       "Monossido di Carbonio      1606\n",
       "dtype: int64"
      ]
     },
     "execution_count": 57,
     "metadata": {},
     "output_type": "execute_result"
    }
   ],
   "source": [
    "aria_sensori__id_day[\n",
    "    ((aria_sensori__id_day.NomeTipoSensore != 'PM10 (SM2005)')\n",
    "    & (aria_sensori__id_day.NomeTipoSensore != 'Particolato Totale Sospeso')\n",
    "    & (aria_sensori__id_day.NomeTipoSensore != 'Particelle sospese PM2.5')) & (aria_sensori__id_day.Valore_COUNT_id_day == 1)].value_counts('NomeTipoSensore')"
   ]
  },
  {
   "cell_type": "code",
   "execution_count": 58,
   "id": "c81791bf",
   "metadata": {
    "ExecuteTime": {
     "end_time": "2022-01-17T01:06:43.783328Z",
     "start_time": "2022-01-17T01:06:42.319390Z"
    },
    "hidden": true
   },
   "outputs": [
    {
     "data": {
      "text/plain": [
       "NomeTipoSensore\n",
       "Biossido di Azoto        1038138\n",
       "Ossidi di Azoto          1019628\n",
       "Monossido di Carbonio     600823\n",
       "Ozono                     522509\n",
       "Biossido di Zolfo         509934\n",
       "Benzene                   129918\n",
       "dtype: int64"
      ]
     },
     "execution_count": 58,
     "metadata": {},
     "output_type": "execute_result"
    }
   ],
   "source": [
    "aria_sensori__id_day[\n",
    "    ((aria_sensori__id_day.NomeTipoSensore != 'PM10 (SM2005)')\n",
    "    & (aria_sensori__id_day.NomeTipoSensore != 'Particolato Totale Sospeso')\n",
    "    & (aria_sensori__id_day.NomeTipoSensore != 'Particelle sospese PM2.5'))].value_counts('NomeTipoSensore')"
   ]
  },
  {
   "cell_type": "markdown",
   "id": "e3745812",
   "metadata": {
    "heading_collapsed": true,
    "hidden": true
   },
   "source": [
    "#### Mentre per le altre grandezze sembrano effettivamente errori, queste le RIMUOVO"
   ]
  },
  {
   "cell_type": "code",
   "execution_count": 59,
   "id": "ce3a00c2",
   "metadata": {
    "ExecuteTime": {
     "end_time": "2022-01-17T01:06:44.697600Z",
     "start_time": "2022-01-17T01:06:43.784694Z"
    },
    "hidden": true,
    "scrolled": false
   },
   "outputs": [
    {
     "data": {
      "text/plain": [
       "12934"
      ]
     },
     "execution_count": 59,
     "metadata": {},
     "output_type": "execute_result"
    }
   ],
   "source": [
    "aria_sensori__id_day[\n",
    "    ((aria_sensori__id_day.NomeTipoSensore != 'PM10 (SM2005)')\n",
    "    & (aria_sensori__id_day.NomeTipoSensore != 'Particolato Totale Sospeso')\n",
    "    & (aria_sensori__id_day.NomeTipoSensore != 'Particelle sospese PM2.5')\n",
    "    & (aria_sensori__id_day.NomeTipoSensore != 'Benzene') & (aria_sensori__id_day.Valore_COUNT_id_day == 1))].shape[0]"
   ]
  },
  {
   "cell_type": "code",
   "execution_count": 60,
   "id": "69177411",
   "metadata": {
    "ExecuteTime": {
     "end_time": "2022-01-17T01:06:46.427721Z",
     "start_time": "2022-01-17T01:06:44.698645Z"
    },
    "hidden": true,
    "scrolled": false
   },
   "outputs": [
    {
     "data": {
      "text/html": [
       "<div>\n",
       "<style scoped>\n",
       "    .dataframe tbody tr th:only-of-type {\n",
       "        vertical-align: middle;\n",
       "    }\n",
       "\n",
       "    .dataframe tbody tr th {\n",
       "        vertical-align: top;\n",
       "    }\n",
       "\n",
       "    .dataframe thead th {\n",
       "        text-align: right;\n",
       "    }\n",
       "</style>\n",
       "<table border=\"1\" class=\"dataframe\">\n",
       "  <thead>\n",
       "    <tr style=\"text-align: right;\">\n",
       "      <th></th>\n",
       "      <th>IdSensore</th>\n",
       "      <th>Data</th>\n",
       "      <th>Valore_MEAN_id_day</th>\n",
       "      <th>Valore_COUNT_id_day</th>\n",
       "      <th>Valore_STD_id_day</th>\n",
       "      <th>NomeTipoSensore</th>\n",
       "      <th>UnitaMisura</th>\n",
       "      <th>Idstazione</th>\n",
       "      <th>NomeStazione</th>\n",
       "      <th>Quota</th>\n",
       "      <th>Provincia</th>\n",
       "      <th>Comune</th>\n",
       "      <th>Storico</th>\n",
       "      <th>DataStart</th>\n",
       "      <th>DataStop</th>\n",
       "      <th>Utm_Nord</th>\n",
       "      <th>UTM_Est</th>\n",
       "      <th>lat</th>\n",
       "      <th>lng</th>\n",
       "      <th>location</th>\n",
       "    </tr>\n",
       "  </thead>\n",
       "  <tbody>\n",
       "    <tr>\n",
       "      <th>0</th>\n",
       "      <td>5504</td>\n",
       "      <td>1996-01-01</td>\n",
       "      <td>79.504167</td>\n",
       "      <td>24</td>\n",
       "      <td>19.035173</td>\n",
       "      <td>Biossido di Azoto</td>\n",
       "      <td>µg/m³</td>\n",
       "      <td>501</td>\n",
       "      <td>Milano v.Marche</td>\n",
       "      <td>129.0</td>\n",
       "      <td>MI</td>\n",
       "      <td>Milano</td>\n",
       "      <td>N</td>\n",
       "      <td>1980-09-18</td>\n",
       "      <td>NaT</td>\n",
       "      <td>5038105</td>\n",
       "      <td>514918</td>\n",
       "      <td>45.496316</td>\n",
       "      <td>9.190934</td>\n",
       "      <td>(45.49631644365102, 9.190933555313624)</td>\n",
       "    </tr>\n",
       "    <tr>\n",
       "      <th>1</th>\n",
       "      <td>5504</td>\n",
       "      <td>1996-01-02</td>\n",
       "      <td>100.858333</td>\n",
       "      <td>24</td>\n",
       "      <td>18.752528</td>\n",
       "      <td>Biossido di Azoto</td>\n",
       "      <td>µg/m³</td>\n",
       "      <td>501</td>\n",
       "      <td>Milano v.Marche</td>\n",
       "      <td>129.0</td>\n",
       "      <td>MI</td>\n",
       "      <td>Milano</td>\n",
       "      <td>N</td>\n",
       "      <td>1980-09-18</td>\n",
       "      <td>NaT</td>\n",
       "      <td>5038105</td>\n",
       "      <td>514918</td>\n",
       "      <td>45.496316</td>\n",
       "      <td>9.190934</td>\n",
       "      <td>(45.49631644365102, 9.190933555313624)</td>\n",
       "    </tr>\n",
       "    <tr>\n",
       "      <th>2</th>\n",
       "      <td>5504</td>\n",
       "      <td>1996-01-03</td>\n",
       "      <td>91.612500</td>\n",
       "      <td>24</td>\n",
       "      <td>26.257228</td>\n",
       "      <td>Biossido di Azoto</td>\n",
       "      <td>µg/m³</td>\n",
       "      <td>501</td>\n",
       "      <td>Milano v.Marche</td>\n",
       "      <td>129.0</td>\n",
       "      <td>MI</td>\n",
       "      <td>Milano</td>\n",
       "      <td>N</td>\n",
       "      <td>1980-09-18</td>\n",
       "      <td>NaT</td>\n",
       "      <td>5038105</td>\n",
       "      <td>514918</td>\n",
       "      <td>45.496316</td>\n",
       "      <td>9.190934</td>\n",
       "      <td>(45.49631644365102, 9.190933555313624)</td>\n",
       "    </tr>\n",
       "    <tr>\n",
       "      <th>3</th>\n",
       "      <td>5504</td>\n",
       "      <td>1996-01-04</td>\n",
       "      <td>81.270833</td>\n",
       "      <td>24</td>\n",
       "      <td>14.921927</td>\n",
       "      <td>Biossido di Azoto</td>\n",
       "      <td>µg/m³</td>\n",
       "      <td>501</td>\n",
       "      <td>Milano v.Marche</td>\n",
       "      <td>129.0</td>\n",
       "      <td>MI</td>\n",
       "      <td>Milano</td>\n",
       "      <td>N</td>\n",
       "      <td>1980-09-18</td>\n",
       "      <td>NaT</td>\n",
       "      <td>5038105</td>\n",
       "      <td>514918</td>\n",
       "      <td>45.496316</td>\n",
       "      <td>9.190934</td>\n",
       "      <td>(45.49631644365102, 9.190933555313624)</td>\n",
       "    </tr>\n",
       "    <tr>\n",
       "      <th>4</th>\n",
       "      <td>5504</td>\n",
       "      <td>1996-01-05</td>\n",
       "      <td>68.191667</td>\n",
       "      <td>24</td>\n",
       "      <td>6.739108</td>\n",
       "      <td>Biossido di Azoto</td>\n",
       "      <td>µg/m³</td>\n",
       "      <td>501</td>\n",
       "      <td>Milano v.Marche</td>\n",
       "      <td>129.0</td>\n",
       "      <td>MI</td>\n",
       "      <td>Milano</td>\n",
       "      <td>N</td>\n",
       "      <td>1980-09-18</td>\n",
       "      <td>NaT</td>\n",
       "      <td>5038105</td>\n",
       "      <td>514918</td>\n",
       "      <td>45.496316</td>\n",
       "      <td>9.190934</td>\n",
       "      <td>(45.49631644365102, 9.190933555313624)</td>\n",
       "    </tr>\n",
       "    <tr>\n",
       "      <th>...</th>\n",
       "      <td>...</td>\n",
       "      <td>...</td>\n",
       "      <td>...</td>\n",
       "      <td>...</td>\n",
       "      <td>...</td>\n",
       "      <td>...</td>\n",
       "      <td>...</td>\n",
       "      <td>...</td>\n",
       "      <td>...</td>\n",
       "      <td>...</td>\n",
       "      <td>...</td>\n",
       "      <td>...</td>\n",
       "      <td>...</td>\n",
       "      <td>...</td>\n",
       "      <td>...</td>\n",
       "      <td>...</td>\n",
       "      <td>...</td>\n",
       "      <td>...</td>\n",
       "      <td>...</td>\n",
       "      <td>...</td>\n",
       "    </tr>\n",
       "    <tr>\n",
       "      <th>4467163</th>\n",
       "      <td>30166</td>\n",
       "      <td>2021-12-23</td>\n",
       "      <td>3.600000</td>\n",
       "      <td>1</td>\n",
       "      <td>NaN</td>\n",
       "      <td>Benzene</td>\n",
       "      <td>µg/m³</td>\n",
       "      <td>652</td>\n",
       "      <td>Brescia v.Turati</td>\n",
       "      <td>154.0</td>\n",
       "      <td>BS</td>\n",
       "      <td>Brescia</td>\n",
       "      <td>N</td>\n",
       "      <td>2016-01-01</td>\n",
       "      <td>NaT</td>\n",
       "      <td>5043626</td>\n",
       "      <td>596168</td>\n",
       "      <td>45.539529</td>\n",
       "      <td>10.231786</td>\n",
       "      <td>(45.539529434955995, 10.231785907477223)</td>\n",
       "    </tr>\n",
       "    <tr>\n",
       "      <th>4467164</th>\n",
       "      <td>30166</td>\n",
       "      <td>2021-12-24</td>\n",
       "      <td>3.100000</td>\n",
       "      <td>1</td>\n",
       "      <td>NaN</td>\n",
       "      <td>Benzene</td>\n",
       "      <td>µg/m³</td>\n",
       "      <td>652</td>\n",
       "      <td>Brescia v.Turati</td>\n",
       "      <td>154.0</td>\n",
       "      <td>BS</td>\n",
       "      <td>Brescia</td>\n",
       "      <td>N</td>\n",
       "      <td>2016-01-01</td>\n",
       "      <td>NaT</td>\n",
       "      <td>5043626</td>\n",
       "      <td>596168</td>\n",
       "      <td>45.539529</td>\n",
       "      <td>10.231786</td>\n",
       "      <td>(45.539529434955995, 10.231785907477223)</td>\n",
       "    </tr>\n",
       "    <tr>\n",
       "      <th>4467165</th>\n",
       "      <td>30166</td>\n",
       "      <td>2021-12-25</td>\n",
       "      <td>3.300000</td>\n",
       "      <td>1</td>\n",
       "      <td>NaN</td>\n",
       "      <td>Benzene</td>\n",
       "      <td>µg/m³</td>\n",
       "      <td>652</td>\n",
       "      <td>Brescia v.Turati</td>\n",
       "      <td>154.0</td>\n",
       "      <td>BS</td>\n",
       "      <td>Brescia</td>\n",
       "      <td>N</td>\n",
       "      <td>2016-01-01</td>\n",
       "      <td>NaT</td>\n",
       "      <td>5043626</td>\n",
       "      <td>596168</td>\n",
       "      <td>45.539529</td>\n",
       "      <td>10.231786</td>\n",
       "      <td>(45.539529434955995, 10.231785907477223)</td>\n",
       "    </tr>\n",
       "    <tr>\n",
       "      <th>4467166</th>\n",
       "      <td>30166</td>\n",
       "      <td>2021-12-26</td>\n",
       "      <td>3.100000</td>\n",
       "      <td>1</td>\n",
       "      <td>NaN</td>\n",
       "      <td>Benzene</td>\n",
       "      <td>µg/m³</td>\n",
       "      <td>652</td>\n",
       "      <td>Brescia v.Turati</td>\n",
       "      <td>154.0</td>\n",
       "      <td>BS</td>\n",
       "      <td>Brescia</td>\n",
       "      <td>N</td>\n",
       "      <td>2016-01-01</td>\n",
       "      <td>NaT</td>\n",
       "      <td>5043626</td>\n",
       "      <td>596168</td>\n",
       "      <td>45.539529</td>\n",
       "      <td>10.231786</td>\n",
       "      <td>(45.539529434955995, 10.231785907477223)</td>\n",
       "    </tr>\n",
       "    <tr>\n",
       "      <th>4467167</th>\n",
       "      <td>30166</td>\n",
       "      <td>2021-12-27</td>\n",
       "      <td>2.400000</td>\n",
       "      <td>1</td>\n",
       "      <td>NaN</td>\n",
       "      <td>Benzene</td>\n",
       "      <td>µg/m³</td>\n",
       "      <td>652</td>\n",
       "      <td>Brescia v.Turati</td>\n",
       "      <td>154.0</td>\n",
       "      <td>BS</td>\n",
       "      <td>Brescia</td>\n",
       "      <td>N</td>\n",
       "      <td>2016-01-01</td>\n",
       "      <td>NaT</td>\n",
       "      <td>5043626</td>\n",
       "      <td>596168</td>\n",
       "      <td>45.539529</td>\n",
       "      <td>10.231786</td>\n",
       "      <td>(45.539529434955995, 10.231785907477223)</td>\n",
       "    </tr>\n",
       "  </tbody>\n",
       "</table>\n",
       "<p>4467168 rows × 20 columns</p>\n",
       "</div>"
      ],
      "text/plain": [
       "         IdSensore        Data  Valore_MEAN_id_day  Valore_COUNT_id_day  \\\n",
       "0             5504  1996-01-01           79.504167                   24   \n",
       "1             5504  1996-01-02          100.858333                   24   \n",
       "2             5504  1996-01-03           91.612500                   24   \n",
       "3             5504  1996-01-04           81.270833                   24   \n",
       "4             5504  1996-01-05           68.191667                   24   \n",
       "...            ...         ...                 ...                  ...   \n",
       "4467163      30166  2021-12-23            3.600000                    1   \n",
       "4467164      30166  2021-12-24            3.100000                    1   \n",
       "4467165      30166  2021-12-25            3.300000                    1   \n",
       "4467166      30166  2021-12-26            3.100000                    1   \n",
       "4467167      30166  2021-12-27            2.400000                    1   \n",
       "\n",
       "         Valore_STD_id_day    NomeTipoSensore UnitaMisura  Idstazione  \\\n",
       "0                19.035173  Biossido di Azoto       µg/m³         501   \n",
       "1                18.752528  Biossido di Azoto       µg/m³         501   \n",
       "2                26.257228  Biossido di Azoto       µg/m³         501   \n",
       "3                14.921927  Biossido di Azoto       µg/m³         501   \n",
       "4                 6.739108  Biossido di Azoto       µg/m³         501   \n",
       "...                    ...                ...         ...         ...   \n",
       "4467163                NaN            Benzene       µg/m³         652   \n",
       "4467164                NaN            Benzene       µg/m³         652   \n",
       "4467165                NaN            Benzene       µg/m³         652   \n",
       "4467166                NaN            Benzene       µg/m³         652   \n",
       "4467167                NaN            Benzene       µg/m³         652   \n",
       "\n",
       "             NomeStazione  Quota Provincia   Comune Storico  DataStart  \\\n",
       "0         Milano v.Marche  129.0        MI   Milano       N 1980-09-18   \n",
       "1         Milano v.Marche  129.0        MI   Milano       N 1980-09-18   \n",
       "2         Milano v.Marche  129.0        MI   Milano       N 1980-09-18   \n",
       "3         Milano v.Marche  129.0        MI   Milano       N 1980-09-18   \n",
       "4         Milano v.Marche  129.0        MI   Milano       N 1980-09-18   \n",
       "...                   ...    ...       ...      ...     ...        ...   \n",
       "4467163  Brescia v.Turati  154.0        BS  Brescia       N 2016-01-01   \n",
       "4467164  Brescia v.Turati  154.0        BS  Brescia       N 2016-01-01   \n",
       "4467165  Brescia v.Turati  154.0        BS  Brescia       N 2016-01-01   \n",
       "4467166  Brescia v.Turati  154.0        BS  Brescia       N 2016-01-01   \n",
       "4467167  Brescia v.Turati  154.0        BS  Brescia       N 2016-01-01   \n",
       "\n",
       "        DataStop  Utm_Nord  UTM_Est        lat        lng  \\\n",
       "0            NaT   5038105   514918  45.496316   9.190934   \n",
       "1            NaT   5038105   514918  45.496316   9.190934   \n",
       "2            NaT   5038105   514918  45.496316   9.190934   \n",
       "3            NaT   5038105   514918  45.496316   9.190934   \n",
       "4            NaT   5038105   514918  45.496316   9.190934   \n",
       "...          ...       ...      ...        ...        ...   \n",
       "4467163      NaT   5043626   596168  45.539529  10.231786   \n",
       "4467164      NaT   5043626   596168  45.539529  10.231786   \n",
       "4467165      NaT   5043626   596168  45.539529  10.231786   \n",
       "4467166      NaT   5043626   596168  45.539529  10.231786   \n",
       "4467167      NaT   5043626   596168  45.539529  10.231786   \n",
       "\n",
       "                                         location  \n",
       "0          (45.49631644365102, 9.190933555313624)  \n",
       "1          (45.49631644365102, 9.190933555313624)  \n",
       "2          (45.49631644365102, 9.190933555313624)  \n",
       "3          (45.49631644365102, 9.190933555313624)  \n",
       "4          (45.49631644365102, 9.190933555313624)  \n",
       "...                                           ...  \n",
       "4467163  (45.539529434955995, 10.231785907477223)  \n",
       "4467164  (45.539529434955995, 10.231785907477223)  \n",
       "4467165  (45.539529434955995, 10.231785907477223)  \n",
       "4467166  (45.539529434955995, 10.231785907477223)  \n",
       "4467167  (45.539529434955995, 10.231785907477223)  \n",
       "\n",
       "[4467168 rows x 20 columns]"
      ]
     },
     "execution_count": 60,
     "metadata": {},
     "output_type": "execute_result"
    }
   ],
   "source": [
    "aria_sensori__id_day.drop(aria_sensori__id_day[\n",
    "    ((aria_sensori__id_day.NomeTipoSensore != 'PM10 (SM2005)')\n",
    "    & (aria_sensori__id_day.NomeTipoSensore != 'Particolato Totale Sospeso')\n",
    "    & (aria_sensori__id_day.NomeTipoSensore != 'Particelle sospese PM2.5') \n",
    "    & (aria_sensori__id_day.NomeTipoSensore != 'Benzene') & (aria_sensori__id_day.Valore_COUNT_id_day == 1))].index, inplace=True)\n",
    "aria_sensori__id_day.reset_index(drop=True, inplace=True)\n",
    "aria_sensori__id_day"
   ]
  },
  {
   "cell_type": "markdown",
   "id": "1e308f9c",
   "metadata": {
    "heading_collapsed": true
   },
   "source": [
    "### Verifica consistenza unitá di misura e creazione dataset `unita_misura`"
   ]
  },
  {
   "cell_type": "code",
   "execution_count": 61,
   "id": "568c3460",
   "metadata": {
    "ExecuteTime": {
     "end_time": "2022-01-17T01:06:49.785148Z",
     "start_time": "2022-01-17T01:06:46.429757Z"
    },
    "hidden": true
   },
   "outputs": [
    {
     "name": "stdout",
     "output_type": "stream",
     "text": [
      "['µg/m³'] Biossido di Azoto\n",
      "['µg/m³'] Biossido di Zolfo\n",
      "['µg/m³'] Ozono\n",
      "['mg/m³'] Monossido di Carbonio\n",
      "['µg/m³'] Benzene\n",
      "['µg/m³'] Ossidi di Azoto\n",
      "['µg/m³'] Particolato Totale Sospeso\n",
      "['µg/m³'] PM10 (SM2005)\n",
      "['µg/m³'] Particelle sospese PM2.5\n"
     ]
    }
   ],
   "source": [
    "lista_tipi = aria_sensori__id_day.NomeTipoSensore.unique()\n",
    "for tipo in lista_tipi:\n",
    "    unita = aria_sensori__id_day[aria_sensori__id_day['NomeTipoSensore'] == tipo]['UnitaMisura'].unique()\n",
    "    print(unita, tipo)\n",
    "    \n",
    "    if len(unita) > 1:  #blocco di controllo\n",
    "        raise ValueError('ERROR: ci sono piú unita di misura per un inquinante')"
   ]
  },
  {
   "cell_type": "code",
   "execution_count": 62,
   "id": "9d76a8f2",
   "metadata": {
    "ExecuteTime": {
     "end_time": "2022-01-17T01:06:52.327544Z",
     "start_time": "2022-01-17T01:06:49.787667Z"
    },
    "hidden": true
   },
   "outputs": [
    {
     "data": {
      "text/html": [
       "<div>\n",
       "<style scoped>\n",
       "    .dataframe tbody tr th:only-of-type {\n",
       "        vertical-align: middle;\n",
       "    }\n",
       "\n",
       "    .dataframe tbody tr th {\n",
       "        vertical-align: top;\n",
       "    }\n",
       "\n",
       "    .dataframe thead th {\n",
       "        text-align: right;\n",
       "    }\n",
       "</style>\n",
       "<table border=\"1\" class=\"dataframe\">\n",
       "  <thead>\n",
       "    <tr style=\"text-align: right;\">\n",
       "      <th></th>\n",
       "      <th>NomeTipoSensore</th>\n",
       "      <th>UnitaMisura</th>\n",
       "    </tr>\n",
       "  </thead>\n",
       "  <tbody>\n",
       "    <tr>\n",
       "      <th>0</th>\n",
       "      <td>Biossido di Azoto</td>\n",
       "      <td>µg/m³</td>\n",
       "    </tr>\n",
       "    <tr>\n",
       "      <th>1</th>\n",
       "      <td>Biossido di Zolfo</td>\n",
       "      <td>µg/m³</td>\n",
       "    </tr>\n",
       "    <tr>\n",
       "      <th>2</th>\n",
       "      <td>Ozono</td>\n",
       "      <td>µg/m³</td>\n",
       "    </tr>\n",
       "    <tr>\n",
       "      <th>3</th>\n",
       "      <td>Monossido di Carbonio</td>\n",
       "      <td>mg/m³</td>\n",
       "    </tr>\n",
       "    <tr>\n",
       "      <th>4</th>\n",
       "      <td>Benzene</td>\n",
       "      <td>µg/m³</td>\n",
       "    </tr>\n",
       "    <tr>\n",
       "      <th>5</th>\n",
       "      <td>Ossidi di Azoto</td>\n",
       "      <td>µg/m³</td>\n",
       "    </tr>\n",
       "    <tr>\n",
       "      <th>6</th>\n",
       "      <td>Particolato Totale Sospeso</td>\n",
       "      <td>µg/m³</td>\n",
       "    </tr>\n",
       "    <tr>\n",
       "      <th>7</th>\n",
       "      <td>PM10 (SM2005)</td>\n",
       "      <td>µg/m³</td>\n",
       "    </tr>\n",
       "    <tr>\n",
       "      <th>8</th>\n",
       "      <td>Particelle sospese PM2.5</td>\n",
       "      <td>µg/m³</td>\n",
       "    </tr>\n",
       "  </tbody>\n",
       "</table>\n",
       "</div>"
      ],
      "text/plain": [
       "              NomeTipoSensore UnitaMisura\n",
       "0           Biossido di Azoto       µg/m³\n",
       "1           Biossido di Zolfo       µg/m³\n",
       "2                       Ozono       µg/m³\n",
       "3       Monossido di Carbonio       mg/m³\n",
       "4                     Benzene       µg/m³\n",
       "5             Ossidi di Azoto       µg/m³\n",
       "6  Particolato Totale Sospeso       µg/m³\n",
       "7               PM10 (SM2005)       µg/m³\n",
       "8    Particelle sospese PM2.5       µg/m³"
      ]
     },
     "execution_count": 62,
     "metadata": {},
     "output_type": "execute_result"
    }
   ],
   "source": [
    "unita_misura = pd.DataFrame([[tipo, aria_sensori__id_day[aria_sensori__id_day['NomeTipoSensore'] == tipo]['UnitaMisura'].unique()[0]] for tipo in lista_tipi], columns=[\"NomeTipoSensore\", \"UnitaMisura\"])\n",
    "unita_misura"
   ]
  },
  {
   "cell_type": "markdown",
   "id": "35c20862",
   "metadata": {
    "heading_collapsed": true
   },
   "source": [
    "## JOIN `aria_sensori_zone__id_day`"
   ]
  },
  {
   "cell_type": "markdown",
   "id": "2ea3a415",
   "metadata": {
    "hidden": true
   },
   "source": [
    "- Inner joint tra `aria_sensori__id_day` e `zonizzazione` a dare `aria_sensori_zone__id_day`\n",
    "- Non perdo nessuna riga con l'inner joint perché sono presenti tutti i comuni nel dataset `zonizzazione`"
   ]
  },
  {
   "cell_type": "code",
   "execution_count": 63,
   "id": "07bf353e",
   "metadata": {
    "ExecuteTime": {
     "end_time": "2022-01-17T01:06:59.280444Z",
     "start_time": "2022-01-17T01:06:52.328535Z"
    },
    "hidden": true
   },
   "outputs": [
    {
     "data": {
      "text/html": [
       "<div>\n",
       "<style scoped>\n",
       "    .dataframe tbody tr th:only-of-type {\n",
       "        vertical-align: middle;\n",
       "    }\n",
       "\n",
       "    .dataframe tbody tr th {\n",
       "        vertical-align: top;\n",
       "    }\n",
       "\n",
       "    .dataframe thead th {\n",
       "        text-align: right;\n",
       "    }\n",
       "</style>\n",
       "<table border=\"1\" class=\"dataframe\">\n",
       "  <thead>\n",
       "    <tr style=\"text-align: right;\">\n",
       "      <th></th>\n",
       "      <th>key_0</th>\n",
       "      <th>IdSensore</th>\n",
       "      <th>Data</th>\n",
       "      <th>Valore_MEAN_id_day</th>\n",
       "      <th>Valore_COUNT_id_day</th>\n",
       "      <th>Valore_STD_id_day</th>\n",
       "      <th>NomeTipoSensore</th>\n",
       "      <th>UnitaMisura</th>\n",
       "      <th>Idstazione</th>\n",
       "      <th>NomeStazione</th>\n",
       "      <th>...</th>\n",
       "      <th>DataStart</th>\n",
       "      <th>DataStop</th>\n",
       "      <th>Utm_Nord</th>\n",
       "      <th>UTM_Est</th>\n",
       "      <th>lat</th>\n",
       "      <th>lng</th>\n",
       "      <th>location</th>\n",
       "      <th>Zona</th>\n",
       "      <th>Residenti 2008</th>\n",
       "      <th>Superficie (ha)</th>\n",
       "    </tr>\n",
       "  </thead>\n",
       "  <tbody>\n",
       "    <tr>\n",
       "      <th>0</th>\n",
       "      <td>milano</td>\n",
       "      <td>5504</td>\n",
       "      <td>1996-01-01</td>\n",
       "      <td>79.504167</td>\n",
       "      <td>24</td>\n",
       "      <td>19.035173</td>\n",
       "      <td>Biossido di Azoto</td>\n",
       "      <td>µg/m³</td>\n",
       "      <td>501</td>\n",
       "      <td>Milano v.Marche</td>\n",
       "      <td>...</td>\n",
       "      <td>1980-09-18</td>\n",
       "      <td>NaT</td>\n",
       "      <td>5038105</td>\n",
       "      <td>514918</td>\n",
       "      <td>45.496316</td>\n",
       "      <td>9.190934</td>\n",
       "      <td>(45.49631644365102, 9.190933555313624)</td>\n",
       "      <td>AGG MI</td>\n",
       "      <td>1307495</td>\n",
       "      <td>18175</td>\n",
       "    </tr>\n",
       "    <tr>\n",
       "      <th>1</th>\n",
       "      <td>milano</td>\n",
       "      <td>5504</td>\n",
       "      <td>1996-01-02</td>\n",
       "      <td>100.858333</td>\n",
       "      <td>24</td>\n",
       "      <td>18.752528</td>\n",
       "      <td>Biossido di Azoto</td>\n",
       "      <td>µg/m³</td>\n",
       "      <td>501</td>\n",
       "      <td>Milano v.Marche</td>\n",
       "      <td>...</td>\n",
       "      <td>1980-09-18</td>\n",
       "      <td>NaT</td>\n",
       "      <td>5038105</td>\n",
       "      <td>514918</td>\n",
       "      <td>45.496316</td>\n",
       "      <td>9.190934</td>\n",
       "      <td>(45.49631644365102, 9.190933555313624)</td>\n",
       "      <td>AGG MI</td>\n",
       "      <td>1307495</td>\n",
       "      <td>18175</td>\n",
       "    </tr>\n",
       "    <tr>\n",
       "      <th>2</th>\n",
       "      <td>milano</td>\n",
       "      <td>5504</td>\n",
       "      <td>1996-01-03</td>\n",
       "      <td>91.612500</td>\n",
       "      <td>24</td>\n",
       "      <td>26.257228</td>\n",
       "      <td>Biossido di Azoto</td>\n",
       "      <td>µg/m³</td>\n",
       "      <td>501</td>\n",
       "      <td>Milano v.Marche</td>\n",
       "      <td>...</td>\n",
       "      <td>1980-09-18</td>\n",
       "      <td>NaT</td>\n",
       "      <td>5038105</td>\n",
       "      <td>514918</td>\n",
       "      <td>45.496316</td>\n",
       "      <td>9.190934</td>\n",
       "      <td>(45.49631644365102, 9.190933555313624)</td>\n",
       "      <td>AGG MI</td>\n",
       "      <td>1307495</td>\n",
       "      <td>18175</td>\n",
       "    </tr>\n",
       "    <tr>\n",
       "      <th>3</th>\n",
       "      <td>milano</td>\n",
       "      <td>5504</td>\n",
       "      <td>1996-01-04</td>\n",
       "      <td>81.270833</td>\n",
       "      <td>24</td>\n",
       "      <td>14.921927</td>\n",
       "      <td>Biossido di Azoto</td>\n",
       "      <td>µg/m³</td>\n",
       "      <td>501</td>\n",
       "      <td>Milano v.Marche</td>\n",
       "      <td>...</td>\n",
       "      <td>1980-09-18</td>\n",
       "      <td>NaT</td>\n",
       "      <td>5038105</td>\n",
       "      <td>514918</td>\n",
       "      <td>45.496316</td>\n",
       "      <td>9.190934</td>\n",
       "      <td>(45.49631644365102, 9.190933555313624)</td>\n",
       "      <td>AGG MI</td>\n",
       "      <td>1307495</td>\n",
       "      <td>18175</td>\n",
       "    </tr>\n",
       "    <tr>\n",
       "      <th>4</th>\n",
       "      <td>milano</td>\n",
       "      <td>5504</td>\n",
       "      <td>1996-01-05</td>\n",
       "      <td>68.191667</td>\n",
       "      <td>24</td>\n",
       "      <td>6.739108</td>\n",
       "      <td>Biossido di Azoto</td>\n",
       "      <td>µg/m³</td>\n",
       "      <td>501</td>\n",
       "      <td>Milano v.Marche</td>\n",
       "      <td>...</td>\n",
       "      <td>1980-09-18</td>\n",
       "      <td>NaT</td>\n",
       "      <td>5038105</td>\n",
       "      <td>514918</td>\n",
       "      <td>45.496316</td>\n",
       "      <td>9.190934</td>\n",
       "      <td>(45.49631644365102, 9.190933555313624)</td>\n",
       "      <td>AGG MI</td>\n",
       "      <td>1307495</td>\n",
       "      <td>18175</td>\n",
       "    </tr>\n",
       "    <tr>\n",
       "      <th>...</th>\n",
       "      <td>...</td>\n",
       "      <td>...</td>\n",
       "      <td>...</td>\n",
       "      <td>...</td>\n",
       "      <td>...</td>\n",
       "      <td>...</td>\n",
       "      <td>...</td>\n",
       "      <td>...</td>\n",
       "      <td>...</td>\n",
       "      <td>...</td>\n",
       "      <td>...</td>\n",
       "      <td>...</td>\n",
       "      <td>...</td>\n",
       "      <td>...</td>\n",
       "      <td>...</td>\n",
       "      <td>...</td>\n",
       "      <td>...</td>\n",
       "      <td>...</td>\n",
       "      <td>...</td>\n",
       "      <td>...</td>\n",
       "      <td>...</td>\n",
       "    </tr>\n",
       "    <tr>\n",
       "      <th>4412277</th>\n",
       "      <td>mezzana bigli</td>\n",
       "      <td>20216</td>\n",
       "      <td>2021-12-20</td>\n",
       "      <td>4.041667</td>\n",
       "      <td>24</td>\n",
       "      <td>1.878000</td>\n",
       "      <td>Biossido di Zolfo</td>\n",
       "      <td>µg/m³</td>\n",
       "      <td>690</td>\n",
       "      <td>Mezzana Bigli loc. Casoni</td>\n",
       "      <td>...</td>\n",
       "      <td>2006-01-20</td>\n",
       "      <td>NaT</td>\n",
       "      <td>4990697</td>\n",
       "      <td>489679</td>\n",
       "      <td>45.069659</td>\n",
       "      <td>8.868889</td>\n",
       "      <td>(45.069658641385914, 8.86888929943922)</td>\n",
       "      <td>B</td>\n",
       "      <td>1144</td>\n",
       "      <td>1872</td>\n",
       "    </tr>\n",
       "    <tr>\n",
       "      <th>4412278</th>\n",
       "      <td>mezzana bigli</td>\n",
       "      <td>20216</td>\n",
       "      <td>2021-12-21</td>\n",
       "      <td>2.995833</td>\n",
       "      <td>24</td>\n",
       "      <td>0.760709</td>\n",
       "      <td>Biossido di Zolfo</td>\n",
       "      <td>µg/m³</td>\n",
       "      <td>690</td>\n",
       "      <td>Mezzana Bigli loc. Casoni</td>\n",
       "      <td>...</td>\n",
       "      <td>2006-01-20</td>\n",
       "      <td>NaT</td>\n",
       "      <td>4990697</td>\n",
       "      <td>489679</td>\n",
       "      <td>45.069659</td>\n",
       "      <td>8.868889</td>\n",
       "      <td>(45.069658641385914, 8.86888929943922)</td>\n",
       "      <td>B</td>\n",
       "      <td>1144</td>\n",
       "      <td>1872</td>\n",
       "    </tr>\n",
       "    <tr>\n",
       "      <th>4412279</th>\n",
       "      <td>mezzana bigli</td>\n",
       "      <td>20216</td>\n",
       "      <td>2021-12-22</td>\n",
       "      <td>1.729167</td>\n",
       "      <td>24</td>\n",
       "      <td>0.393953</td>\n",
       "      <td>Biossido di Zolfo</td>\n",
       "      <td>µg/m³</td>\n",
       "      <td>690</td>\n",
       "      <td>Mezzana Bigli loc. Casoni</td>\n",
       "      <td>...</td>\n",
       "      <td>2006-01-20</td>\n",
       "      <td>NaT</td>\n",
       "      <td>4990697</td>\n",
       "      <td>489679</td>\n",
       "      <td>45.069659</td>\n",
       "      <td>8.868889</td>\n",
       "      <td>(45.069658641385914, 8.86888929943922)</td>\n",
       "      <td>B</td>\n",
       "      <td>1144</td>\n",
       "      <td>1872</td>\n",
       "    </tr>\n",
       "    <tr>\n",
       "      <th>4412280</th>\n",
       "      <td>mezzana bigli</td>\n",
       "      <td>20216</td>\n",
       "      <td>2021-12-23</td>\n",
       "      <td>2.329167</td>\n",
       "      <td>24</td>\n",
       "      <td>0.591593</td>\n",
       "      <td>Biossido di Zolfo</td>\n",
       "      <td>µg/m³</td>\n",
       "      <td>690</td>\n",
       "      <td>Mezzana Bigli loc. Casoni</td>\n",
       "      <td>...</td>\n",
       "      <td>2006-01-20</td>\n",
       "      <td>NaT</td>\n",
       "      <td>4990697</td>\n",
       "      <td>489679</td>\n",
       "      <td>45.069659</td>\n",
       "      <td>8.868889</td>\n",
       "      <td>(45.069658641385914, 8.86888929943922)</td>\n",
       "      <td>B</td>\n",
       "      <td>1144</td>\n",
       "      <td>1872</td>\n",
       "    </tr>\n",
       "    <tr>\n",
       "      <th>4412281</th>\n",
       "      <td>mezzana bigli</td>\n",
       "      <td>20216</td>\n",
       "      <td>2021-12-24</td>\n",
       "      <td>0.976923</td>\n",
       "      <td>13</td>\n",
       "      <td>0.527816</td>\n",
       "      <td>Biossido di Zolfo</td>\n",
       "      <td>µg/m³</td>\n",
       "      <td>690</td>\n",
       "      <td>Mezzana Bigli loc. Casoni</td>\n",
       "      <td>...</td>\n",
       "      <td>2006-01-20</td>\n",
       "      <td>NaT</td>\n",
       "      <td>4990697</td>\n",
       "      <td>489679</td>\n",
       "      <td>45.069659</td>\n",
       "      <td>8.868889</td>\n",
       "      <td>(45.069658641385914, 8.86888929943922)</td>\n",
       "      <td>B</td>\n",
       "      <td>1144</td>\n",
       "      <td>1872</td>\n",
       "    </tr>\n",
       "  </tbody>\n",
       "</table>\n",
       "<p>4412282 rows × 24 columns</p>\n",
       "</div>"
      ],
      "text/plain": [
       "                 key_0  IdSensore        Data  Valore_MEAN_id_day  \\\n",
       "0               milano       5504  1996-01-01           79.504167   \n",
       "1               milano       5504  1996-01-02          100.858333   \n",
       "2               milano       5504  1996-01-03           91.612500   \n",
       "3               milano       5504  1996-01-04           81.270833   \n",
       "4               milano       5504  1996-01-05           68.191667   \n",
       "...                ...        ...         ...                 ...   \n",
       "4412277  mezzana bigli      20216  2021-12-20            4.041667   \n",
       "4412278  mezzana bigli      20216  2021-12-21            2.995833   \n",
       "4412279  mezzana bigli      20216  2021-12-22            1.729167   \n",
       "4412280  mezzana bigli      20216  2021-12-23            2.329167   \n",
       "4412281  mezzana bigli      20216  2021-12-24            0.976923   \n",
       "\n",
       "         Valore_COUNT_id_day  Valore_STD_id_day    NomeTipoSensore  \\\n",
       "0                         24          19.035173  Biossido di Azoto   \n",
       "1                         24          18.752528  Biossido di Azoto   \n",
       "2                         24          26.257228  Biossido di Azoto   \n",
       "3                         24          14.921927  Biossido di Azoto   \n",
       "4                         24           6.739108  Biossido di Azoto   \n",
       "...                      ...                ...                ...   \n",
       "4412277                   24           1.878000  Biossido di Zolfo   \n",
       "4412278                   24           0.760709  Biossido di Zolfo   \n",
       "4412279                   24           0.393953  Biossido di Zolfo   \n",
       "4412280                   24           0.591593  Biossido di Zolfo   \n",
       "4412281                   13           0.527816  Biossido di Zolfo   \n",
       "\n",
       "        UnitaMisura  Idstazione               NomeStazione  ...  DataStart  \\\n",
       "0             µg/m³         501            Milano v.Marche  ... 1980-09-18   \n",
       "1             µg/m³         501            Milano v.Marche  ... 1980-09-18   \n",
       "2             µg/m³         501            Milano v.Marche  ... 1980-09-18   \n",
       "3             µg/m³         501            Milano v.Marche  ... 1980-09-18   \n",
       "4             µg/m³         501            Milano v.Marche  ... 1980-09-18   \n",
       "...             ...         ...                        ...  ...        ...   \n",
       "4412277       µg/m³         690  Mezzana Bigli loc. Casoni  ... 2006-01-20   \n",
       "4412278       µg/m³         690  Mezzana Bigli loc. Casoni  ... 2006-01-20   \n",
       "4412279       µg/m³         690  Mezzana Bigli loc. Casoni  ... 2006-01-20   \n",
       "4412280       µg/m³         690  Mezzana Bigli loc. Casoni  ... 2006-01-20   \n",
       "4412281       µg/m³         690  Mezzana Bigli loc. Casoni  ... 2006-01-20   \n",
       "\n",
       "        DataStop Utm_Nord UTM_Est        lat       lng  \\\n",
       "0            NaT  5038105  514918  45.496316  9.190934   \n",
       "1            NaT  5038105  514918  45.496316  9.190934   \n",
       "2            NaT  5038105  514918  45.496316  9.190934   \n",
       "3            NaT  5038105  514918  45.496316  9.190934   \n",
       "4            NaT  5038105  514918  45.496316  9.190934   \n",
       "...          ...      ...     ...        ...       ...   \n",
       "4412277      NaT  4990697  489679  45.069659  8.868889   \n",
       "4412278      NaT  4990697  489679  45.069659  8.868889   \n",
       "4412279      NaT  4990697  489679  45.069659  8.868889   \n",
       "4412280      NaT  4990697  489679  45.069659  8.868889   \n",
       "4412281      NaT  4990697  489679  45.069659  8.868889   \n",
       "\n",
       "                                       location    Zona  Residenti 2008  \\\n",
       "0        (45.49631644365102, 9.190933555313624)  AGG MI         1307495   \n",
       "1        (45.49631644365102, 9.190933555313624)  AGG MI         1307495   \n",
       "2        (45.49631644365102, 9.190933555313624)  AGG MI         1307495   \n",
       "3        (45.49631644365102, 9.190933555313624)  AGG MI         1307495   \n",
       "4        (45.49631644365102, 9.190933555313624)  AGG MI         1307495   \n",
       "...                                         ...     ...             ...   \n",
       "4412277  (45.069658641385914, 8.86888929943922)       B            1144   \n",
       "4412278  (45.069658641385914, 8.86888929943922)       B            1144   \n",
       "4412279  (45.069658641385914, 8.86888929943922)       B            1144   \n",
       "4412280  (45.069658641385914, 8.86888929943922)       B            1144   \n",
       "4412281  (45.069658641385914, 8.86888929943922)       B            1144   \n",
       "\n",
       "         Superficie (ha)  \n",
       "0                  18175  \n",
       "1                  18175  \n",
       "2                  18175  \n",
       "3                  18175  \n",
       "4                  18175  \n",
       "...                  ...  \n",
       "4412277             1872  \n",
       "4412278             1872  \n",
       "4412279             1872  \n",
       "4412280             1872  \n",
       "4412281             1872  \n",
       "\n",
       "[4412282 rows x 24 columns]"
      ]
     },
     "execution_count": 63,
     "metadata": {},
     "output_type": "execute_result"
    }
   ],
   "source": [
    "aria_sensori_zone__id_day = pd.merge(aria_sensori__id_day, zonizzazione[['Zona', 'Residenti 2008', 'Superficie (ha)']], left_on = aria_sensori__id_day['Comune'].str.lower(), right_on = zonizzazione['Comune'].str.lower())\n",
    "aria_sensori_zone__id_day"
   ]
  },
  {
   "cell_type": "code",
   "execution_count": 64,
   "id": "470609a4",
   "metadata": {
    "ExecuteTime": {
     "end_time": "2022-01-17T01:06:59.419596Z",
     "start_time": "2022-01-17T01:06:59.281598Z"
    },
    "hidden": true
   },
   "outputs": [
    {
     "data": {
      "text/plain": [
       "A         1381086\n",
       "AGG MI    1231554\n",
       "B          767908\n",
       "AGG BG     378734\n",
       "C D        247341\n",
       "AGG BS     215407\n",
       "C          190252\n",
       "Name: Zona, dtype: int64"
      ]
     },
     "execution_count": 64,
     "metadata": {},
     "output_type": "execute_result"
    }
   ],
   "source": [
    "aria_sensori_zone__id_day['Zona'].value_counts()"
   ]
  },
  {
   "cell_type": "markdown",
   "id": "f7005841",
   "metadata": {
    "hidden": true
   },
   "source": [
    "L'attributo `quota` delle stazioni in 'C D' indica che si trovano nel fondovalle quindi associo queste stazioni alla zona D"
   ]
  },
  {
   "cell_type": "code",
   "execution_count": 65,
   "id": "90a24c95",
   "metadata": {
    "ExecuteTime": {
     "end_time": "2022-01-17T01:07:00.643384Z",
     "start_time": "2022-01-17T01:06:59.421660Z"
    },
    "hidden": true
   },
   "outputs": [
    {
     "data": {
      "text/plain": [
       "IdSensore\n",
       "5570     333.0\n",
       "5572     307.0\n",
       "5573     439.0\n",
       "5575     262.0\n",
       "5589     192.0\n",
       "5590     514.0\n",
       "5672     192.0\n",
       "5673     514.0\n",
       "5701     333.0\n",
       "5703     262.0\n",
       "5704     307.0\n",
       "5705     439.0\n",
       "5740     333.0\n",
       "5742     262.0\n",
       "5743     307.0\n",
       "5796     192.0\n",
       "5844     262.0\n",
       "5845     307.0\n",
       "5846     439.0\n",
       "6224     192.0\n",
       "6226     514.0\n",
       "6376     333.0\n",
       "6380     262.0\n",
       "6382     307.0\n",
       "6384     439.0\n",
       "6654     307.0\n",
       "6675     333.0\n",
       "6744     342.0\n",
       "6745     342.0\n",
       "6748     342.0\n",
       "6807     221.0\n",
       "6810     221.0\n",
       "6924     439.0\n",
       "6926     262.0\n",
       "6958     307.0\n",
       "10259    307.0\n",
       "10270    221.0\n",
       "10431    290.0\n",
       "10432    290.0\n",
       "10433    290.0\n",
       "10437    290.0\n",
       "10438    290.0\n",
       "10450    221.0\n",
       "10501    221.0\n",
       "17163    221.0\n",
       "17293    290.0\n",
       "30159    221.0\n",
       "30160    221.0\n",
       "Name: Quota, dtype: float64"
      ]
     },
     "execution_count": 65,
     "metadata": {},
     "output_type": "execute_result"
    }
   ],
   "source": [
    "aria_sensori_zone__id_day[aria_sensori_zone__id_day['Zona'] == 'C D'].groupby('IdSensore')['Quota'].mean()"
   ]
  },
  {
   "cell_type": "code",
   "execution_count": 66,
   "id": "d7a46a26",
   "metadata": {
    "ExecuteTime": {
     "end_time": "2022-01-17T01:07:00.704531Z",
     "start_time": "2022-01-17T01:07:00.644474Z"
    },
    "hidden": true
   },
   "outputs": [],
   "source": [
    "aria_sensori_zone__id_day['Zona'].replace('C D', 'D', inplace = True)"
   ]
  },
  {
   "cell_type": "code",
   "execution_count": 67,
   "id": "cb577375",
   "metadata": {
    "ExecuteTime": {
     "end_time": "2022-01-17T01:07:00.828106Z",
     "start_time": "2022-01-17T01:07:00.705540Z"
    },
    "hidden": true
   },
   "outputs": [
    {
     "data": {
      "text/plain": [
       "A         1381086\n",
       "AGG MI    1231554\n",
       "B          767908\n",
       "AGG BG     378734\n",
       "D          247341\n",
       "AGG BS     215407\n",
       "C          190252\n",
       "Name: Zona, dtype: int64"
      ]
     },
     "execution_count": 67,
     "metadata": {},
     "output_type": "execute_result"
    }
   ],
   "source": [
    "aria_sensori_zone__id_day['Zona'].value_counts()"
   ]
  },
  {
   "cell_type": "code",
   "execution_count": 68,
   "id": "5a89caee",
   "metadata": {
    "ExecuteTime": {
     "end_time": "2022-01-17T01:07:00.843434Z",
     "start_time": "2022-01-17T01:07:00.828106Z"
    },
    "hidden": true
   },
   "outputs": [],
   "source": [
    "#location_sensori_MI = aria_sensori_zone__id_day[(aria_sensori_zone__id_day['Zona'] == 'AGG MI') & (aria_sensori_zone__id_day['NomeTipoSensore'].isin(['PM10 (SM2005)', 'Particelle sospese PM2.5']))].groupby(['IdSensore', 'NomeTipoSensore', 'lat', 'lng', 'DataStart'], as_index = False)[['Zona']].count()\n",
    "#location_sensori_MI\n",
    "#location_sensori_MI.to_csv('location_sensori_MI.csv')"
   ]
  },
  {
   "cell_type": "markdown",
   "id": "2e8659e8",
   "metadata": {},
   "source": [
    "## GROUP BY `aria_sensori_zone__day_zona_tipo`"
   ]
  },
  {
   "cell_type": "markdown",
   "id": "d48091be",
   "metadata": {},
   "source": [
    "- Raggruppo per `Data` (giorno), `Zona`, `NomeTipoSensore`\n",
    "- Calcolo grandezze aggregate\n",
    "    - Calcolo il valore medio e la deviazione standard del `Valore_MEAN_id_day`, cioé il valore mediato di un sensore sull'intera giornata\n",
    "    - Importante sottolineare che le funzioni `mean, count e std` di pandas NON tengono conto dei Na, quindi i valori che vediamo sono esatti\n",
    "- Si perdono le colonne `Valore_COUNT_id_day` e `Valore_STD_id_day` ma non sono importanti, sono piú importanti quelle che ricalcoliamo (chiamate `Valore_COUNT_day_zona_tipo` e `Valore_STD_day_zona_tipo`)"
   ]
  },
  {
   "cell_type": "code",
   "execution_count": 69,
   "id": "224e2409",
   "metadata": {
    "ExecuteTime": {
     "end_time": "2022-01-17T01:07:02.584012Z",
     "start_time": "2022-01-17T01:07:00.844554Z"
    },
    "scrolled": false
   },
   "outputs": [
    {
     "data": {
      "text/html": [
       "<div>\n",
       "<style scoped>\n",
       "    .dataframe tbody tr th:only-of-type {\n",
       "        vertical-align: middle;\n",
       "    }\n",
       "\n",
       "    .dataframe tbody tr th {\n",
       "        vertical-align: top;\n",
       "    }\n",
       "\n",
       "    .dataframe thead th {\n",
       "        text-align: right;\n",
       "    }\n",
       "</style>\n",
       "<table border=\"1\" class=\"dataframe\">\n",
       "  <thead>\n",
       "    <tr style=\"text-align: right;\">\n",
       "      <th></th>\n",
       "      <th>Data</th>\n",
       "      <th>Zona</th>\n",
       "      <th>NomeTipoSensore</th>\n",
       "      <th>Valore_MEAN_day_zona_tipo</th>\n",
       "      <th>Valore_COUNT_day_zona_tipo</th>\n",
       "      <th>Valore_STD_day_zona_tipo</th>\n",
       "    </tr>\n",
       "  </thead>\n",
       "  <tbody>\n",
       "    <tr>\n",
       "      <th>0</th>\n",
       "      <td>1996-01-01</td>\n",
       "      <td>A</td>\n",
       "      <td>Biossido di Azoto</td>\n",
       "      <td>57.920338</td>\n",
       "      <td>16</td>\n",
       "      <td>21.191842</td>\n",
       "    </tr>\n",
       "    <tr>\n",
       "      <th>1</th>\n",
       "      <td>1996-01-01</td>\n",
       "      <td>A</td>\n",
       "      <td>Biossido di Zolfo</td>\n",
       "      <td>10.891367</td>\n",
       "      <td>17</td>\n",
       "      <td>7.596592</td>\n",
       "    </tr>\n",
       "    <tr>\n",
       "      <th>2</th>\n",
       "      <td>1996-01-01</td>\n",
       "      <td>A</td>\n",
       "      <td>Monossido di Carbonio</td>\n",
       "      <td>3.912746</td>\n",
       "      <td>6</td>\n",
       "      <td>3.328044</td>\n",
       "    </tr>\n",
       "    <tr>\n",
       "      <th>3</th>\n",
       "      <td>1996-01-01</td>\n",
       "      <td>A</td>\n",
       "      <td>Ossidi di Azoto</td>\n",
       "      <td>144.781939</td>\n",
       "      <td>15</td>\n",
       "      <td>55.006756</td>\n",
       "    </tr>\n",
       "    <tr>\n",
       "      <th>4</th>\n",
       "      <td>1996-01-01</td>\n",
       "      <td>A</td>\n",
       "      <td>Ozono</td>\n",
       "      <td>6.155435</td>\n",
       "      <td>4</td>\n",
       "      <td>6.103628</td>\n",
       "    </tr>\n",
       "    <tr>\n",
       "      <th>...</th>\n",
       "      <td>...</td>\n",
       "      <td>...</td>\n",
       "      <td>...</td>\n",
       "      <td>...</td>\n",
       "      <td>...</td>\n",
       "      <td>...</td>\n",
       "    </tr>\n",
       "    <tr>\n",
       "      <th>491762</th>\n",
       "      <td>2021-12-27</td>\n",
       "      <td>D</td>\n",
       "      <td>Ozono</td>\n",
       "      <td>5.448611</td>\n",
       "      <td>3</td>\n",
       "      <td>1.730774</td>\n",
       "    </tr>\n",
       "    <tr>\n",
       "      <th>491763</th>\n",
       "      <td>2021-12-27</td>\n",
       "      <td>D</td>\n",
       "      <td>PM10 (SM2005)</td>\n",
       "      <td>55.750000</td>\n",
       "      <td>4</td>\n",
       "      <td>15.261608</td>\n",
       "    </tr>\n",
       "    <tr>\n",
       "      <th>491764</th>\n",
       "      <td>2021-12-27</td>\n",
       "      <td>D</td>\n",
       "      <td>Particelle sospese PM2.5</td>\n",
       "      <td>59.000000</td>\n",
       "      <td>2</td>\n",
       "      <td>8.485281</td>\n",
       "    </tr>\n",
       "    <tr>\n",
       "      <th>491765</th>\n",
       "      <td>2021-12-28</td>\n",
       "      <td>AGG BS</td>\n",
       "      <td>Benzene</td>\n",
       "      <td>1.500000</td>\n",
       "      <td>1</td>\n",
       "      <td>NaN</td>\n",
       "    </tr>\n",
       "    <tr>\n",
       "      <th>491766</th>\n",
       "      <td>2021-12-28</td>\n",
       "      <td>B</td>\n",
       "      <td>Particelle sospese PM2.5</td>\n",
       "      <td>58.900000</td>\n",
       "      <td>1</td>\n",
       "      <td>NaN</td>\n",
       "    </tr>\n",
       "  </tbody>\n",
       "</table>\n",
       "<p>491767 rows × 6 columns</p>\n",
       "</div>"
      ],
      "text/plain": [
       "              Data    Zona           NomeTipoSensore  \\\n",
       "0       1996-01-01       A         Biossido di Azoto   \n",
       "1       1996-01-01       A         Biossido di Zolfo   \n",
       "2       1996-01-01       A     Monossido di Carbonio   \n",
       "3       1996-01-01       A           Ossidi di Azoto   \n",
       "4       1996-01-01       A                     Ozono   \n",
       "...            ...     ...                       ...   \n",
       "491762  2021-12-27       D                     Ozono   \n",
       "491763  2021-12-27       D             PM10 (SM2005)   \n",
       "491764  2021-12-27       D  Particelle sospese PM2.5   \n",
       "491765  2021-12-28  AGG BS                   Benzene   \n",
       "491766  2021-12-28       B  Particelle sospese PM2.5   \n",
       "\n",
       "        Valore_MEAN_day_zona_tipo  Valore_COUNT_day_zona_tipo  \\\n",
       "0                       57.920338                          16   \n",
       "1                       10.891367                          17   \n",
       "2                        3.912746                           6   \n",
       "3                      144.781939                          15   \n",
       "4                        6.155435                           4   \n",
       "...                           ...                         ...   \n",
       "491762                   5.448611                           3   \n",
       "491763                  55.750000                           4   \n",
       "491764                  59.000000                           2   \n",
       "491765                   1.500000                           1   \n",
       "491766                  58.900000                           1   \n",
       "\n",
       "        Valore_STD_day_zona_tipo  \n",
       "0                      21.191842  \n",
       "1                       7.596592  \n",
       "2                       3.328044  \n",
       "3                      55.006756  \n",
       "4                       6.103628  \n",
       "...                          ...  \n",
       "491762                  1.730774  \n",
       "491763                 15.261608  \n",
       "491764                  8.485281  \n",
       "491765                       NaN  \n",
       "491766                       NaN  \n",
       "\n",
       "[491767 rows x 6 columns]"
      ]
     },
     "execution_count": 69,
     "metadata": {},
     "output_type": "execute_result"
    }
   ],
   "source": [
    "aria_sensori_zone__day_zona_tipo = aria_sensori_zone__id_day.groupby([\n",
    "    'Data',\n",
    "    'Zona',\n",
    "    'NomeTipoSensore'\n",
    "]).agg({\n",
    "    'Valore_MEAN_id_day': ['mean', 'count', 'std']\n",
    "}).reset_index()\n",
    "\n",
    "aria_sensori_zone__day_zona_tipo.columns = ['Data', 'Zona', 'NomeTipoSensore', 'Valore_MEAN_day_zona_tipo', 'Valore_COUNT_day_zona_tipo', 'Valore_STD_day_zona_tipo']\n",
    "aria_sensori_zone__day_zona_tipo"
   ]
  },
  {
   "cell_type": "markdown",
   "id": "5c184df7",
   "metadata": {},
   "source": [
    "# Controlli (*superset*)"
   ]
  },
  {
   "cell_type": "markdown",
   "id": "e1564594",
   "metadata": {},
   "source": [
    "### Valori mancanti per ogni coppia `Zona` - `NomeTipoSensore`"
   ]
  },
  {
   "cell_type": "markdown",
   "id": "fe774f61",
   "metadata": {},
   "source": [
    "#### Numero valori mancanti e valori NaN"
   ]
  },
  {
   "cell_type": "markdown",
   "id": "81ce0bd8",
   "metadata": {},
   "source": [
    "I valori delle medie mancanti sono dovuti a:\n",
    "\n",
    "- righe effettivamente mancanti\n",
    "- righe con Valore_MEAN uguale a NaN"
   ]
  },
  {
   "cell_type": "code",
   "execution_count": 70,
   "id": "910f3762",
   "metadata": {
    "ExecuteTime": {
     "end_time": "2022-01-17T01:07:02.709162Z",
     "start_time": "2022-01-17T01:07:02.584920Z"
    }
   },
   "outputs": [
    {
     "name": "stdout",
     "output_type": "stream",
     "text": [
      "598122 Numero righe teoriche -\n",
      "491767 Numero righe reali    =\n",
      "106355   Numero righe mancanti\n"
     ]
    }
   ],
   "source": [
    "lista_date = pd.date_range(aria_sensori_zone__day_zona_tipo.Data.min(), aria_sensori_zone__day_zona_tipo.Data.max())\n",
    "lista_zone = aria_sensori_zone__day_zona_tipo.Zona.unique()\n",
    "lista_tipi = aria_sensori_zone__day_zona_tipo.NomeTipoSensore.unique()\n",
    "\n",
    "print(len(lista_date) * len(lista_zone) * len(lista_tipi),'Numero righe teoriche -') #giori * zone * tipi sensori\n",
    "print(len(aria_sensori_zone__day_zona_tipo),'Numero righe reali    =')\n",
    "print(len(lista_date) * len(lista_zone) * len(lista_tipi)-len(aria_sensori_zone__day_zona_tipo),'  Numero righe mancanti')"
   ]
  },
  {
   "cell_type": "code",
   "execution_count": 71,
   "id": "2883d657",
   "metadata": {
    "ExecuteTime": {
     "end_time": "2022-01-17T01:07:02.755620Z",
     "start_time": "2022-01-17T01:07:02.710180Z"
    },
    "scrolled": true
   },
   "outputs": [
    {
     "name": "stdout",
     "output_type": "stream",
     "text": [
      "0 Numero righe con valore NaN\n"
     ]
    }
   ],
   "source": [
    "print(sum(aria_sensori_zone__day_zona_tipo['Valore_MEAN_day_zona_tipo'].isna()), 'Numero righe con valore NaN')"
   ]
  },
  {
   "cell_type": "markdown",
   "id": "221a1d90",
   "metadata": {},
   "source": [
    "#### Aggiunta valori NaN per giorni mancanti"
   ]
  },
  {
   "cell_type": "markdown",
   "id": "2c3f4723",
   "metadata": {},
   "source": [
    "Serve dopo quando si compie la media mobile (per mediare i giorni contigui e non le righe contigue)"
   ]
  },
  {
   "cell_type": "code",
   "execution_count": 72,
   "id": "05b22c7d",
   "metadata": {
    "ExecuteTime": {
     "end_time": "2022-01-17T01:07:07.725783Z",
     "start_time": "2022-01-17T01:07:02.756526Z"
    }
   },
   "outputs": [
    {
     "data": {
      "text/html": [
       "<div>\n",
       "<style scoped>\n",
       "    .dataframe tbody tr th:only-of-type {\n",
       "        vertical-align: middle;\n",
       "    }\n",
       "\n",
       "    .dataframe tbody tr th {\n",
       "        vertical-align: top;\n",
       "    }\n",
       "\n",
       "    .dataframe thead th {\n",
       "        text-align: right;\n",
       "    }\n",
       "</style>\n",
       "<table border=\"1\" class=\"dataframe\">\n",
       "  <thead>\n",
       "    <tr style=\"text-align: right;\">\n",
       "      <th></th>\n",
       "      <th>Data</th>\n",
       "      <th>Zona</th>\n",
       "      <th>NomeTipoSensore</th>\n",
       "      <th>Valore_MEAN_day_zona_tipo</th>\n",
       "      <th>Valore_COUNT_day_zona_tipo</th>\n",
       "      <th>Valore_STD_day_zona_tipo</th>\n",
       "    </tr>\n",
       "  </thead>\n",
       "  <tbody>\n",
       "    <tr>\n",
       "      <th>0</th>\n",
       "      <td>1996-01-01</td>\n",
       "      <td>A</td>\n",
       "      <td>Biossido di Azoto</td>\n",
       "      <td>57.920338</td>\n",
       "      <td>16.0</td>\n",
       "      <td>21.191842</td>\n",
       "    </tr>\n",
       "    <tr>\n",
       "      <th>1</th>\n",
       "      <td>1996-01-01</td>\n",
       "      <td>A</td>\n",
       "      <td>Biossido di Zolfo</td>\n",
       "      <td>10.891367</td>\n",
       "      <td>17.0</td>\n",
       "      <td>7.596592</td>\n",
       "    </tr>\n",
       "    <tr>\n",
       "      <th>2</th>\n",
       "      <td>1996-01-01</td>\n",
       "      <td>A</td>\n",
       "      <td>Monossido di Carbonio</td>\n",
       "      <td>3.912746</td>\n",
       "      <td>6.0</td>\n",
       "      <td>3.328044</td>\n",
       "    </tr>\n",
       "    <tr>\n",
       "      <th>3</th>\n",
       "      <td>1996-01-01</td>\n",
       "      <td>A</td>\n",
       "      <td>Ossidi di Azoto</td>\n",
       "      <td>144.781939</td>\n",
       "      <td>15.0</td>\n",
       "      <td>55.006756</td>\n",
       "    </tr>\n",
       "    <tr>\n",
       "      <th>4</th>\n",
       "      <td>1996-01-01</td>\n",
       "      <td>A</td>\n",
       "      <td>Ozono</td>\n",
       "      <td>6.155435</td>\n",
       "      <td>4.0</td>\n",
       "      <td>6.103628</td>\n",
       "    </tr>\n",
       "    <tr>\n",
       "      <th>...</th>\n",
       "      <td>...</td>\n",
       "      <td>...</td>\n",
       "      <td>...</td>\n",
       "      <td>...</td>\n",
       "      <td>...</td>\n",
       "      <td>...</td>\n",
       "    </tr>\n",
       "    <tr>\n",
       "      <th>598117</th>\n",
       "      <td>2021-12-28</td>\n",
       "      <td>D</td>\n",
       "      <td>Ozono</td>\n",
       "      <td>NaN</td>\n",
       "      <td>NaN</td>\n",
       "      <td>NaN</td>\n",
       "    </tr>\n",
       "    <tr>\n",
       "      <th>598118</th>\n",
       "      <td>2021-12-28</td>\n",
       "      <td>D</td>\n",
       "      <td>PM10 (SM2005)</td>\n",
       "      <td>NaN</td>\n",
       "      <td>NaN</td>\n",
       "      <td>NaN</td>\n",
       "    </tr>\n",
       "    <tr>\n",
       "      <th>598119</th>\n",
       "      <td>2021-12-28</td>\n",
       "      <td>D</td>\n",
       "      <td>Particolato Totale Sospeso</td>\n",
       "      <td>NaN</td>\n",
       "      <td>NaN</td>\n",
       "      <td>NaN</td>\n",
       "    </tr>\n",
       "    <tr>\n",
       "      <th>598120</th>\n",
       "      <td>2021-12-28</td>\n",
       "      <td>D</td>\n",
       "      <td>Benzene</td>\n",
       "      <td>NaN</td>\n",
       "      <td>NaN</td>\n",
       "      <td>NaN</td>\n",
       "    </tr>\n",
       "    <tr>\n",
       "      <th>598121</th>\n",
       "      <td>2021-12-28</td>\n",
       "      <td>D</td>\n",
       "      <td>Particelle sospese PM2.5</td>\n",
       "      <td>NaN</td>\n",
       "      <td>NaN</td>\n",
       "      <td>NaN</td>\n",
       "    </tr>\n",
       "  </tbody>\n",
       "</table>\n",
       "<p>598122 rows × 6 columns</p>\n",
       "</div>"
      ],
      "text/plain": [
       "             Data Zona             NomeTipoSensore  Valore_MEAN_day_zona_tipo  \\\n",
       "0      1996-01-01    A           Biossido di Azoto                  57.920338   \n",
       "1      1996-01-01    A           Biossido di Zolfo                  10.891367   \n",
       "2      1996-01-01    A       Monossido di Carbonio                   3.912746   \n",
       "3      1996-01-01    A             Ossidi di Azoto                 144.781939   \n",
       "4      1996-01-01    A                       Ozono                   6.155435   \n",
       "...           ...  ...                         ...                        ...   \n",
       "598117 2021-12-28    D                       Ozono                        NaN   \n",
       "598118 2021-12-28    D               PM10 (SM2005)                        NaN   \n",
       "598119 2021-12-28    D  Particolato Totale Sospeso                        NaN   \n",
       "598120 2021-12-28    D                     Benzene                        NaN   \n",
       "598121 2021-12-28    D    Particelle sospese PM2.5                        NaN   \n",
       "\n",
       "        Valore_COUNT_day_zona_tipo  Valore_STD_day_zona_tipo  \n",
       "0                             16.0                 21.191842  \n",
       "1                             17.0                  7.596592  \n",
       "2                              6.0                  3.328044  \n",
       "3                             15.0                 55.006756  \n",
       "4                              4.0                  6.103628  \n",
       "...                            ...                       ...  \n",
       "598117                         NaN                       NaN  \n",
       "598118                         NaN                       NaN  \n",
       "598119                         NaN                       NaN  \n",
       "598120                         NaN                       NaN  \n",
       "598121                         NaN                       NaN  \n",
       "\n",
       "[598122 rows x 6 columns]"
      ]
     },
     "execution_count": 72,
     "metadata": {},
     "output_type": "execute_result"
    }
   ],
   "source": [
    "colonne = ['Data', 'Zona', 'NomeTipoSensore']\n",
    "idx = pd.MultiIndex.from_product([lista_date, lista_zone, lista_tipi], names=colonne)\n",
    "\n",
    "aria_sensori_zone__day_zona_tipo = aria_sensori_zone__day_zona_tipo.set_index(colonne).reindex(idx, fill_value=np.NaN).reset_index()\n",
    "aria_sensori_zone__day_zona_tipo"
   ]
  },
  {
   "cell_type": "markdown",
   "id": "3817c50f",
   "metadata": {},
   "source": [
    "Abbiamo ottenuto un numero di righe uguale a quelle teoriche con presenti dei NaN"
   ]
  },
  {
   "cell_type": "code",
   "execution_count": 73,
   "id": "88e26a3f",
   "metadata": {
    "ExecuteTime": {
     "end_time": "2022-01-17T01:07:07.772539Z",
     "start_time": "2022-01-17T01:07:07.726953Z"
    }
   },
   "outputs": [
    {
     "name": "stdout",
     "output_type": "stream",
     "text": [
      "106355 Numero totale di valori medi mancanti\n"
     ]
    }
   ],
   "source": [
    "print(sum(aria_sensori_zone__day_zona_tipo['Valore_MEAN_day_zona_tipo'].isna()), 'Numero totale di valori medi mancanti')"
   ]
  },
  {
   "cell_type": "markdown",
   "id": "dd347b52",
   "metadata": {},
   "source": [
    "#### Heatmap `Zona` - `NomeTipoSensore`"
   ]
  },
  {
   "cell_type": "markdown",
   "id": "cd0b322e",
   "metadata": {},
   "source": [
    "- Ora valuto il numero di osservazioni per ogni coppia `NomeTipoSensore` - `Zona`.\n",
    "- Con il dataset aggiornato dovrebbe risultare per tutte le coppie 365gg x numero anni + 1gg(bisestile il 2020)"
   ]
  },
  {
   "cell_type": "code",
   "execution_count": 74,
   "id": "d8c5f507",
   "metadata": {
    "ExecuteTime": {
     "end_time": "2022-01-17T01:07:08.381081Z",
     "start_time": "2022-01-17T01:07:07.773481Z"
    }
   },
   "outputs": [
    {
     "data": {
      "text/plain": [
       "<AxesSubplot:xlabel='Zona', ylabel='NomeTipoSensore'>"
      ]
     },
     "execution_count": 74,
     "metadata": {},
     "output_type": "execute_result"
    },
    {
     "data": {
      "image/png": "[encoded data removed]",
      "text/plain": [
       "<Figure size 432x360 with 2 Axes>"
      ]
     },
     "metadata": {},
     "output_type": "display_data"
    }
   ],
   "source": [
    "controllo1 = aria_sensori_zone__day_zona_tipo.groupby(['Zona', 'NomeTipoSensore'], as_index = False)[['Valore_MEAN_day_zona_tipo']].count()\n",
    "controllo1 = controllo1.pivot('NomeTipoSensore', 'Zona', 'Valore_MEAN_day_zona_tipo')\n",
    "\n",
    "sns.set(rc={'figure.figsize':(6,5)})\n",
    "sns.heatmap(controllo1, annot=True, fmt=\"d\", cmap=\"YlGnBu_r\")"
   ]
  },
  {
   "cell_type": "markdown",
   "id": "85d04f97",
   "metadata": {},
   "source": [
    "### Valori mancanti per ogni coppia `Data` - `NomeTipoSensore`"
   ]
  },
  {
   "cell_type": "code",
   "execution_count": 75,
   "id": "5fc8f10d",
   "metadata": {
    "ExecuteTime": {
     "end_time": "2022-01-17T01:10:57.384135Z",
     "start_time": "2022-01-17T01:10:53.334447Z"
    }
   },
   "outputs": [
    {
     "data": {
      "text/plain": [
       "<AxesSubplot:xlabel='Data', ylabel='NomeTipoSensore'>"
      ]
     },
     "execution_count": 75,
     "metadata": {},
     "output_type": "execute_result"
    },
    {
     "data": {
      "image/png": "[encoded data removed]",
      "text/plain": [
       "<Figure size 1224x360 with 2 Axes>"
      ]
     },
     "metadata": {},
     "output_type": "display_data"
    }
   ],
   "source": [
    "controllo2 = aria_sensori_zone__day_zona_tipo.groupby(['NomeTipoSensore', 'Data'], as_index = False)[['Valore_MEAN_day_zona_tipo']].count()\n",
    "controllo2 = controllo2.pivot('NomeTipoSensore', 'Data', 'Valore_MEAN_day_zona_tipo')\n",
    "\n",
    "sns.set(rc={'figure.figsize':(17,5)})\n",
    "sns.heatmap(controllo2, cmap=\"YlGnBu_r\", vmin=6, vmax=7)"
   ]
  },
  {
   "cell_type": "markdown",
   "id": "e3f86e88",
   "metadata": {},
   "source": [
    "### Numero medio sensori"
   ]
  },
  {
   "cell_type": "code",
   "execution_count": 65,
   "id": "215ef4e3",
   "metadata": {
    "ExecuteTime": {
     "end_time": "2022-01-16T23:01:11.201077Z",
     "start_time": "2022-01-16T23:01:10.896433Z"
    }
   },
   "outputs": [
    {
     "data": {
      "text/plain": [
       "<AxesSubplot:xlabel='Zona', ylabel='NomeTipoSensore'>"
      ]
     },
     "execution_count": 65,
     "metadata": {},
     "output_type": "execute_result"
    },
    {
     "data": {
      "image/png": "[encoded data removed]",
      "text/plain": [
       "<Figure size 432x360 with 2 Axes>"
      ]
     },
     "metadata": {},
     "output_type": "display_data"
    }
   ],
   "source": [
    "controllo = aria_sensori_zone__day_zona_tipo.groupby(['Zona', 'NomeTipoSensore'], as_index = False)[['Valore_COUNT_day_zona_tipo']].mean()\n",
    "controllo = controllo.pivot('NomeTipoSensore', 'Zona', 'Valore_COUNT_day_zona_tipo')\n",
    "\n",
    "sns.set(rc={'figure.figsize':(6,5)})\n",
    "sns.heatmap(controllo, annot=True, cmap=\"YlGnBu\")"
   ]
  },
  {
   "cell_type": "markdown",
   "id": "dd94ada4",
   "metadata": {},
   "source": [
    "# Dataset per heatmap (*subset*)"
   ]
  },
  {
   "cell_type": "markdown",
   "id": "f61a306d",
   "metadata": {},
   "source": [
    "## Subsetting (solo zona di milano `AGG MI`)"
   ]
  },
  {
   "cell_type": "markdown",
   "id": "e32d6805",
   "metadata": {},
   "source": [
    "Tengo solo le righe di `aria_sensori_zone__day_zona_tipo` relative all'aggregato di Milano `AGG MI`"
   ]
  },
  {
   "cell_type": "code",
   "execution_count": 76,
   "id": "f688509a",
   "metadata": {
    "ExecuteTime": {
     "end_time": "2022-01-17T01:16:48.898562Z",
     "start_time": "2022-01-17T01:16:48.845201Z"
    }
   },
   "outputs": [],
   "source": [
    "aria_milano = aria_sensori_zone__day_zona_tipo[\n",
    "    aria_sensori_zone__day_zona_tipo['Zona'] == 'AGG MI'].drop(\n",
    "        columns=['Zona']).reset_index(drop=True)"
   ]
  },
  {
   "cell_type": "code",
   "execution_count": 73,
   "id": "eb7dc97b",
   "metadata": {
    "ExecuteTime": {
     "end_time": "2022-01-16T23:13:07.396577Z",
     "start_time": "2022-01-16T23:13:07.373102Z"
    }
   },
   "outputs": [
    {
     "data": {
      "text/html": [
       "<div>\n",
       "<style scoped>\n",
       "    .dataframe tbody tr th:only-of-type {\n",
       "        vertical-align: middle;\n",
       "    }\n",
       "\n",
       "    .dataframe tbody tr th {\n",
       "        vertical-align: top;\n",
       "    }\n",
       "\n",
       "    .dataframe thead th {\n",
       "        text-align: right;\n",
       "    }\n",
       "</style>\n",
       "<table border=\"1\" class=\"dataframe\">\n",
       "  <thead>\n",
       "    <tr style=\"text-align: right;\">\n",
       "      <th></th>\n",
       "      <th>Data</th>\n",
       "      <th>NomeTipoSensore</th>\n",
       "      <th>Valore_MEAN_day_zona_tipo</th>\n",
       "      <th>Valore_COUNT_day_zona_tipo</th>\n",
       "      <th>Valore_STD_day_zona_tipo</th>\n",
       "    </tr>\n",
       "  </thead>\n",
       "  <tbody>\n",
       "    <tr>\n",
       "      <th>0</th>\n",
       "      <td>2001-01-01</td>\n",
       "      <td>Biossido di Azoto</td>\n",
       "      <td>71.864524</td>\n",
       "      <td>34.0</td>\n",
       "      <td>13.968620</td>\n",
       "    </tr>\n",
       "    <tr>\n",
       "      <th>1</th>\n",
       "      <td>2001-01-01</td>\n",
       "      <td>Biossido di Zolfo</td>\n",
       "      <td>13.926929</td>\n",
       "      <td>22.0</td>\n",
       "      <td>11.145590</td>\n",
       "    </tr>\n",
       "    <tr>\n",
       "      <th>2</th>\n",
       "      <td>2001-01-01</td>\n",
       "      <td>Monossido di Carbonio</td>\n",
       "      <td>2.528201</td>\n",
       "      <td>31.0</td>\n",
       "      <td>0.826181</td>\n",
       "    </tr>\n",
       "    <tr>\n",
       "      <th>3</th>\n",
       "      <td>2001-01-01</td>\n",
       "      <td>Ossidi di Azoto</td>\n",
       "      <td>230.153608</td>\n",
       "      <td>34.0</td>\n",
       "      <td>71.889506</td>\n",
       "    </tr>\n",
       "    <tr>\n",
       "      <th>4</th>\n",
       "      <td>2001-01-01</td>\n",
       "      <td>Ozono</td>\n",
       "      <td>10.412080</td>\n",
       "      <td>17.0</td>\n",
       "      <td>3.100986</td>\n",
       "    </tr>\n",
       "    <tr>\n",
       "      <th>...</th>\n",
       "      <td>...</td>\n",
       "      <td>...</td>\n",
       "      <td>...</td>\n",
       "      <td>...</td>\n",
       "      <td>...</td>\n",
       "    </tr>\n",
       "    <tr>\n",
       "      <th>68998</th>\n",
       "      <td>2021-12-28</td>\n",
       "      <td>Ozono</td>\n",
       "      <td>NaN</td>\n",
       "      <td>NaN</td>\n",
       "      <td>NaN</td>\n",
       "    </tr>\n",
       "    <tr>\n",
       "      <th>68999</th>\n",
       "      <td>2021-12-28</td>\n",
       "      <td>PM10 (SM2005)</td>\n",
       "      <td>NaN</td>\n",
       "      <td>NaN</td>\n",
       "      <td>NaN</td>\n",
       "    </tr>\n",
       "    <tr>\n",
       "      <th>69000</th>\n",
       "      <td>2021-12-28</td>\n",
       "      <td>Particelle sospese PM2.5</td>\n",
       "      <td>NaN</td>\n",
       "      <td>NaN</td>\n",
       "      <td>NaN</td>\n",
       "    </tr>\n",
       "    <tr>\n",
       "      <th>69001</th>\n",
       "      <td>2021-12-28</td>\n",
       "      <td>Particolato Totale Sospeso</td>\n",
       "      <td>NaN</td>\n",
       "      <td>NaN</td>\n",
       "      <td>NaN</td>\n",
       "    </tr>\n",
       "    <tr>\n",
       "      <th>69002</th>\n",
       "      <td>2021-12-28</td>\n",
       "      <td>Benzene</td>\n",
       "      <td>NaN</td>\n",
       "      <td>NaN</td>\n",
       "      <td>NaN</td>\n",
       "    </tr>\n",
       "  </tbody>\n",
       "</table>\n",
       "<p>69003 rows × 5 columns</p>\n",
       "</div>"
      ],
      "text/plain": [
       "            Data             NomeTipoSensore  Valore_MEAN_day_zona_tipo  \\\n",
       "0     2001-01-01           Biossido di Azoto                  71.864524   \n",
       "1     2001-01-01           Biossido di Zolfo                  13.926929   \n",
       "2     2001-01-01       Monossido di Carbonio                   2.528201   \n",
       "3     2001-01-01             Ossidi di Azoto                 230.153608   \n",
       "4     2001-01-01                       Ozono                  10.412080   \n",
       "...          ...                         ...                        ...   \n",
       "68998 2021-12-28                       Ozono                        NaN   \n",
       "68999 2021-12-28               PM10 (SM2005)                        NaN   \n",
       "69000 2021-12-28    Particelle sospese PM2.5                        NaN   \n",
       "69001 2021-12-28  Particolato Totale Sospeso                        NaN   \n",
       "69002 2021-12-28                     Benzene                        NaN   \n",
       "\n",
       "       Valore_COUNT_day_zona_tipo  Valore_STD_day_zona_tipo  \n",
       "0                            34.0                 13.968620  \n",
       "1                            22.0                 11.145590  \n",
       "2                            31.0                  0.826181  \n",
       "3                            34.0                 71.889506  \n",
       "4                            17.0                  3.100986  \n",
       "...                           ...                       ...  \n",
       "68998                         NaN                       NaN  \n",
       "68999                         NaN                       NaN  \n",
       "69000                         NaN                       NaN  \n",
       "69001                         NaN                       NaN  \n",
       "69002                         NaN                       NaN  \n",
       "\n",
       "[69003 rows x 5 columns]"
      ]
     },
     "execution_count": 73,
     "metadata": {},
     "output_type": "execute_result"
    }
   ],
   "source": [
    "aria_milano"
   ]
  },
  {
   "cell_type": "code",
   "execution_count": 75,
   "id": "ca88cf6f",
   "metadata": {
    "ExecuteTime": {
     "end_time": "2022-01-16T23:13:38.545399Z",
     "start_time": "2022-01-16T23:13:38.528031Z"
    }
   },
   "outputs": [
    {
     "data": {
      "text/plain": [
       "Data                          datetime64[ns]\n",
       "NomeTipoSensore                       object\n",
       "Valore_MEAN_day_zona_tipo            float64\n",
       "Valore_COUNT_day_zona_tipo           float64\n",
       "Valore_STD_day_zona_tipo             float64\n",
       "dtype: object"
      ]
     },
     "execution_count": 75,
     "metadata": {},
     "output_type": "execute_result"
    }
   ],
   "source": [
    "aria_milano.dtypes"
   ]
  },
  {
   "cell_type": "markdown",
   "id": "b0befb0e",
   "metadata": {
    "heading_collapsed": true
   },
   "source": [
    "## Missing Values"
   ]
  },
  {
   "cell_type": "markdown",
   "id": "07987ae9",
   "metadata": {
    "heading_collapsed": true,
    "hidden": true
   },
   "source": [
    "### Valori mancanti per ogni coppia `Data` - `NomeTipoSensore`"
   ]
  },
  {
   "cell_type": "code",
   "execution_count": 171,
   "id": "2509fae2",
   "metadata": {
    "ExecuteTime": {
     "end_time": "2022-01-16T22:30:25.961372Z",
     "start_time": "2022-01-16T22:30:23.730923Z"
    },
    "hidden": true
   },
   "outputs": [
    {
     "data": {
      "text/plain": [
       "<AxesSubplot:xlabel='Data', ylabel='NomeTipoSensore'>"
      ]
     },
     "execution_count": 171,
     "metadata": {},
     "output_type": "execute_result"
    },
    {
     "data": {
      "image/png": "[encoded data removed]",
      "text/plain": [
       "<Figure size 1224x360 with 2 Axes>"
      ]
     },
     "metadata": {},
     "output_type": "display_data"
    }
   ],
   "source": [
    "controllo3 = aria_milano.groupby(['NomeTipoSensore', 'Data'], as_index = False)[['Valore_MEAN_day_zona_tipo']].count()\n",
    "controllo3 = controllo3.pivot('NomeTipoSensore', 'Data', 'Valore_MEAN_day_zona_tipo')\n",
    "\n",
    "sns.set(rc={'figure.figsize':(17,5)})\n",
    "sns.heatmap(controllo3, cmap=\"YlGnBu_r\", vmin=0, vmax=1)"
   ]
  },
  {
   "cell_type": "code",
   "execution_count": 163,
   "id": "d66f6984",
   "metadata": {
    "ExecuteTime": {
     "end_time": "2022-01-16T22:23:49.473255Z",
     "start_time": "2022-01-16T22:23:49.457606Z"
    },
    "hidden": true
   },
   "outputs": [
    {
     "data": {
      "text/plain": [
       "Data                             0\n",
       "NomeTipoSensore                  0\n",
       "Valore_MEAN_day_zona_tipo     5091\n",
       "Valore_COUNT_day_zona_tipo    5091\n",
       "Valore_STD_day_zona_tipo      8927\n",
       "dtype: int64"
      ]
     },
     "execution_count": 163,
     "metadata": {},
     "output_type": "execute_result"
    }
   ],
   "source": [
    "aria_milano.isna().sum()"
   ]
  },
  {
   "cell_type": "markdown",
   "id": "8ba2be5c",
   "metadata": {
    "heading_collapsed": true,
    "hidden": true
   },
   "source": [
    "### Numero medio di sensori"
   ]
  },
  {
   "cell_type": "code",
   "execution_count": 183,
   "id": "9825a34a",
   "metadata": {
    "ExecuteTime": {
     "end_time": "2022-01-16T22:46:54.514720Z",
     "start_time": "2022-01-16T22:46:54.497597Z"
    },
    "hidden": true
   },
   "outputs": [
    {
     "name": "stdout",
     "output_type": "stream",
     "text": [
      "              NomeTipoSensore  Valore_COUNT_day_zona_tipo\n",
      "0                     Benzene                    2.575139\n",
      "1           Biossido di Azoto                   29.645532\n",
      "2           Biossido di Zolfo                    7.535099\n",
      "3       Monossido di Carbonio                   21.844357\n",
      "4             Ossidi di Azoto                   29.332029\n",
      "5                       Ozono                   17.196477\n",
      "6               PM10 (SM2005)                   11.910491\n",
      "7    Particelle sospese PM2.5                    4.854468\n",
      "8  Particolato Totale Sospeso                    2.225849\n"
     ]
    }
   ],
   "source": [
    "controllo4 = aria_milano.groupby(['NomeTipoSensore'], as_index = False)[['Valore_COUNT_day_zona_tipo']].mean()\n",
    "print(controllo4)"
   ]
  },
  {
   "cell_type": "markdown",
   "id": "5fbacc14",
   "metadata": {},
   "source": [
    "## Esportazione"
   ]
  },
  {
   "cell_type": "code",
   "execution_count": 77,
   "id": "28f814c7",
   "metadata": {
    "ExecuteTime": {
     "end_time": "2022-01-17T01:16:57.000424Z",
     "start_time": "2022-01-17T01:16:55.954404Z"
    }
   },
   "outputs": [],
   "source": [
    "aria_milano.to_csv(f'{path}data_viz/aria_milano_96_21.csv')"
   ]
  },
  {
   "cell_type": "markdown",
   "id": "6cc3f3d5",
   "metadata": {
    "heading_collapsed": true
   },
   "source": [
    "# Dataset per line chart"
   ]
  },
  {
   "cell_type": "markdown",
   "id": "838ffdf3",
   "metadata": {
    "heading_collapsed": true,
    "hidden": true
   },
   "source": [
    "## Campi calcolati"
   ]
  },
  {
   "cell_type": "markdown",
   "id": "cfaaa3f8",
   "metadata": {
    "heading_collapsed": true,
    "hidden": true
   },
   "source": [
    "### Media mobile 7 giorni"
   ]
  },
  {
   "cell_type": "markdown",
   "id": "149391fb",
   "metadata": {
    "hidden": true
   },
   "source": [
    "- In fase di lettura dei csv prendere qualche giorno prima e qualche giorno dopo degli anni considerati cosi da avere valori attendibili agli estremi!! (in fase di importazione)\n",
    "- La calcolo su 7 giorni e setto il parametro del numero minimo di valori non nulli da avere per calcolare la media a 3\n",
    "- L'avevo calcolata anche sui 21 giorni ma é eccessiva perché genera degli andamenti che non sono presenti nei dati"
   ]
  },
  {
   "cell_type": "code",
   "execution_count": 57,
   "id": "69554c1d",
   "metadata": {
    "ExecuteTime": {
     "end_time": "2022-01-16T16:31:23.379807Z",
     "start_time": "2022-01-16T16:31:21.621715Z"
    },
    "code_folding": [],
    "hidden": true
   },
   "outputs": [],
   "source": [
    "ROLL_WINDOW = 7   #media mobile 7 giorni\n",
    "\n",
    "mean7gg = pd.Series(dtype =  np.float64) #inizializzo un nuovo array che sará la nuova colonna con la medie\n",
    "std7gg = pd.Series(dtype =  np.float64) #inizializzo un nuovo array che sará la nuova colonna con lo std\n",
    "\n",
    "for zona in lista_zone:\n",
    "    for tipo in lista_tipi:\n",
    "\n",
    "        temp1 = aria_sensori_zone__day_zona_tipo[(aria_sensori_zone__day_zona_tipo['NomeTipoSensore'] == tipo) & (aria_sensori_zone__day_zona_tipo['Zona'] == zona)]['Valore_MEAN_day_zona_tipo']\\\n",
    "                .rolling(window=ROLL_WINDOW, center = True, min_periods = 3)\\\n",
    "                .mean()\n",
    "        temp2 = aria_sensori_zone__day_zona_tipo[(aria_sensori_zone__day_zona_tipo['NomeTipoSensore'] == tipo) & (aria_sensori_zone__day_zona_tipo['Zona'] == zona)]['Valore_STD_day_zona_tipo']\\\n",
    "                .rolling(window=ROLL_WINDOW, center = True, min_periods = 3)\\\n",
    "                .mean()\n",
    "        mean7gg = mean7gg.append(temp1)\n",
    "        std7gg = std7gg.append(temp2)\n",
    "        \n",
    "aria_sensori_zone__day_zona_tipo = pd.merge(aria_sensori_zone__day_zona_tipo, mean7gg.rename('Valore_ROLLMEAN7_day_zona_tipo'), left_index=True, right_index=True)\n",
    "aria_sensori_zone__day_zona_tipo = pd.merge(aria_sensori_zone__day_zona_tipo, std7gg.rename('Valore_ROLLSTD7_day_zona_tipo'), left_index=True, right_index=True)"
   ]
  },
  {
   "cell_type": "markdown",
   "id": "feb667b6",
   "metadata": {
    "hidden": true
   },
   "source": [
    "Stampo una coppia `NomeTipoSensore` e `Zona` specifica come esempio"
   ]
  },
  {
   "cell_type": "code",
   "execution_count": 58,
   "id": "eb17001f",
   "metadata": {
    "ExecuteTime": {
     "end_time": "2022-01-16T16:31:23.427918Z",
     "start_time": "2022-01-16T16:31:23.381744Z"
    },
    "hidden": true
   },
   "outputs": [
    {
     "data": {
      "text/html": [
       "<div>\n",
       "<style scoped>\n",
       "    .dataframe tbody tr th:only-of-type {\n",
       "        vertical-align: middle;\n",
       "    }\n",
       "\n",
       "    .dataframe tbody tr th {\n",
       "        vertical-align: top;\n",
       "    }\n",
       "\n",
       "    .dataframe thead th {\n",
       "        text-align: right;\n",
       "    }\n",
       "</style>\n",
       "<table border=\"1\" class=\"dataframe\">\n",
       "  <thead>\n",
       "    <tr style=\"text-align: right;\">\n",
       "      <th></th>\n",
       "      <th>Data</th>\n",
       "      <th>Zona</th>\n",
       "      <th>NomeTipoSensore</th>\n",
       "      <th>Valore_MEAN_day_zona_tipo</th>\n",
       "      <th>Valore_COUNT_day_zona_tipo</th>\n",
       "      <th>Valore_STD_day_zona_tipo</th>\n",
       "      <th>Valore_ROLLMEAN7_day_zona_tipo</th>\n",
       "      <th>Valore_ROLLSTD7_day_zona_tipo</th>\n",
       "    </tr>\n",
       "  </thead>\n",
       "  <tbody>\n",
       "    <tr>\n",
       "      <th>6</th>\n",
       "      <td>2017-01-01</td>\n",
       "      <td>A</td>\n",
       "      <td>PM10 (SM2005)</td>\n",
       "      <td>77.347826</td>\n",
       "      <td>23.0</td>\n",
       "      <td>24.679046</td>\n",
       "      <td>63.022233</td>\n",
       "      <td>20.298282</td>\n",
       "    </tr>\n",
       "    <tr>\n",
       "      <th>62</th>\n",
       "      <td>2017-01-02</td>\n",
       "      <td>A</td>\n",
       "      <td>PM10 (SM2005)</td>\n",
       "      <td>66.727273</td>\n",
       "      <td>22.0</td>\n",
       "      <td>24.142793</td>\n",
       "      <td>53.808696</td>\n",
       "      <td>18.342117</td>\n",
       "    </tr>\n",
       "    <tr>\n",
       "      <th>118</th>\n",
       "      <td>2017-01-03</td>\n",
       "      <td>A</td>\n",
       "      <td>PM10 (SM2005)</td>\n",
       "      <td>60.318182</td>\n",
       "      <td>22.0</td>\n",
       "      <td>17.321570</td>\n",
       "      <td>47.934783</td>\n",
       "      <td>16.489913</td>\n",
       "    </tr>\n",
       "    <tr>\n",
       "      <th>174</th>\n",
       "      <td>2017-01-04</td>\n",
       "      <td>A</td>\n",
       "      <td>PM10 (SM2005)</td>\n",
       "      <td>47.695652</td>\n",
       "      <td>23.0</td>\n",
       "      <td>15.049720</td>\n",
       "      <td>47.322981</td>\n",
       "      <td>15.873002</td>\n",
       "    </tr>\n",
       "    <tr>\n",
       "      <th>230</th>\n",
       "      <td>2017-01-05</td>\n",
       "      <td>A</td>\n",
       "      <td>PM10 (SM2005)</td>\n",
       "      <td>16.954545</td>\n",
       "      <td>22.0</td>\n",
       "      <td>10.517456</td>\n",
       "      <td>43.006211</td>\n",
       "      <td>13.753285</td>\n",
       "    </tr>\n",
       "  </tbody>\n",
       "</table>\n",
       "</div>"
      ],
      "text/plain": [
       "          Data Zona NomeTipoSensore  Valore_MEAN_day_zona_tipo  \\\n",
       "6   2017-01-01    A   PM10 (SM2005)                  77.347826   \n",
       "62  2017-01-02    A   PM10 (SM2005)                  66.727273   \n",
       "118 2017-01-03    A   PM10 (SM2005)                  60.318182   \n",
       "174 2017-01-04    A   PM10 (SM2005)                  47.695652   \n",
       "230 2017-01-05    A   PM10 (SM2005)                  16.954545   \n",
       "\n",
       "     Valore_COUNT_day_zona_tipo  Valore_STD_day_zona_tipo  \\\n",
       "6                          23.0                 24.679046   \n",
       "62                         22.0                 24.142793   \n",
       "118                        22.0                 17.321570   \n",
       "174                        23.0                 15.049720   \n",
       "230                        22.0                 10.517456   \n",
       "\n",
       "     Valore_ROLLMEAN7_day_zona_tipo  Valore_ROLLSTD7_day_zona_tipo  \n",
       "6                         63.022233                      20.298282  \n",
       "62                        53.808696                      18.342117  \n",
       "118                       47.934783                      16.489913  \n",
       "174                       47.322981                      15.873002  \n",
       "230                       43.006211                      13.753285  "
      ]
     },
     "execution_count": 58,
     "metadata": {},
     "output_type": "execute_result"
    }
   ],
   "source": [
    "aria_sensori_zone__day_zona_tipo.loc[(aria_sensori_zone__day_zona_tipo['NomeTipoSensore'] == 'PM10 (SM2005)') & (aria_sensori_zone__day_zona_tipo['Zona'] == 'A')].head()"
   ]
  },
  {
   "cell_type": "markdown",
   "id": "adae75e2",
   "metadata": {
    "hidden": true
   },
   "source": [
    "- Risolve quasi completamente il problema di qualche media mancante"
   ]
  },
  {
   "cell_type": "code",
   "execution_count": 59,
   "id": "882fb75b",
   "metadata": {
    "ExecuteTime": {
     "end_time": "2022-01-16T16:31:23.459925Z",
     "start_time": "2022-01-16T16:31:23.429949Z"
    },
    "hidden": true
   },
   "outputs": [
    {
     "name": "stdout",
     "output_type": "stream",
     "text": [
      "980 Valori mancanti media giornaliera\n",
      "230  Valori mancanti media mobile 7gg\n"
     ]
    }
   ],
   "source": [
    "print(sum(aria_sensori_zone__day_zona_tipo.Valore_MEAN_day_zona_tipo.isna()), 'Valori mancanti media giornaliera')\n",
    "print(sum(aria_sensori_zone__day_zona_tipo.Valore_ROLLMEAN7_day_zona_tipo.isna()), ' Valori mancanti media mobile 7gg')"
   ]
  },
  {
   "cell_type": "markdown",
   "id": "24ea855b",
   "metadata": {
    "hidden": true
   },
   "source": [
    "#### Plot esempio con media giornaliera  media mobile 7gg (PM10 zona A)"
   ]
  },
  {
   "cell_type": "code",
   "execution_count": 60,
   "id": "f844f4d8",
   "metadata": {
    "ExecuteTime": {
     "end_time": "2022-01-16T16:31:24.035928Z",
     "start_time": "2022-01-16T16:31:23.460927Z"
    },
    "hidden": true,
    "scrolled": false
   },
   "outputs": [
    {
     "data": {
      "text/plain": [
       "<AxesSubplot:xlabel='Data', ylabel='Valore_MEAN_day_zona_tipo'>"
      ]
     },
     "execution_count": 60,
     "metadata": {},
     "output_type": "execute_result"
    },
    {
     "data": {
      "image/png": "[encoded data removed]",
      "text/plain": [
       "<Figure size 1440x504 with 1 Axes>"
      ]
     },
     "metadata": {},
     "output_type": "display_data"
    }
   ],
   "source": [
    "sns.set(rc={'figure.figsize':(20,7)})\n",
    "sns.lineplot(x=\"Data\", y='Valore_MEAN_day_zona_tipo', data=aria_sensori_zone__day_zona_tipo.loc[(aria_sensori_zone__day_zona_tipo['NomeTipoSensore'] == 'PM10 (SM2005)') & (aria_sensori_zone__day_zona_tipo['Zona'] == 'A')])\n",
    "sns.lineplot(x=\"Data\", y='Valore_ROLLMEAN7_day_zona_tipo', data=aria_sensori_zone__day_zona_tipo.loc[(aria_sensori_zone__day_zona_tipo['NomeTipoSensore'] == 'PM10 (SM2005)') & (aria_sensori_zone__day_zona_tipo['Zona'] == 'A')])"
   ]
  },
  {
   "cell_type": "markdown",
   "id": "cc9f74f4",
   "metadata": {
    "heading_collapsed": true,
    "hidden": true
   },
   "source": [
    "### Normalizzazione grandezze rispetto ai limiti"
   ]
  },
  {
   "cell_type": "markdown",
   "id": "c5cb4c72",
   "metadata": {
    "hidden": true
   },
   "source": [
    "#### Definizione limiti"
   ]
  },
  {
   "cell_type": "markdown",
   "id": "a08eec20",
   "metadata": {
    "hidden": true
   },
   "source": [
    "##### Limiti del sito ARPA Lombardia (WHO 2005)"
   ]
  },
  {
   "cell_type": "markdown",
   "id": "b8c1a367",
   "metadata": {
    "hidden": true
   },
   "source": [
    "É un mix tra massimi su medie orarie, 8 ore, giornaliere e annuali"
   ]
  },
  {
   "cell_type": "code",
   "execution_count": 61,
   "id": "22c4551b",
   "metadata": {
    "ExecuteTime": {
     "end_time": "2022-01-16T16:31:24.050928Z",
     "start_time": "2022-01-16T16:31:24.036927Z"
    },
    "hidden": true
   },
   "outputs": [
    {
     "data": {
      "text/html": [
       "<div>\n",
       "<style scoped>\n",
       "    .dataframe tbody tr th:only-of-type {\n",
       "        vertical-align: middle;\n",
       "    }\n",
       "\n",
       "    .dataframe tbody tr th {\n",
       "        vertical-align: top;\n",
       "    }\n",
       "\n",
       "    .dataframe thead th {\n",
       "        text-align: right;\n",
       "    }\n",
       "</style>\n",
       "<table border=\"1\" class=\"dataframe\">\n",
       "  <thead>\n",
       "    <tr style=\"text-align: right;\">\n",
       "      <th></th>\n",
       "      <th>Limite</th>\n",
       "    </tr>\n",
       "  </thead>\n",
       "  <tbody>\n",
       "    <tr>\n",
       "      <th>Benzene</th>\n",
       "      <td>NaN</td>\n",
       "    </tr>\n",
       "    <tr>\n",
       "      <th>Biossido di Azoto</th>\n",
       "      <td>200.0</td>\n",
       "    </tr>\n",
       "    <tr>\n",
       "      <th>Biossido di Zolfo</th>\n",
       "      <td>350.0</td>\n",
       "    </tr>\n",
       "    <tr>\n",
       "      <th>Monossido di Carbonio</th>\n",
       "      <td>NaN</td>\n",
       "    </tr>\n",
       "    <tr>\n",
       "      <th>Ossidi di Azoto</th>\n",
       "      <td>NaN</td>\n",
       "    </tr>\n",
       "    <tr>\n",
       "      <th>Ozono</th>\n",
       "      <td>180.0</td>\n",
       "    </tr>\n",
       "    <tr>\n",
       "      <th>PM10 (SM2005)</th>\n",
       "      <td>50.0</td>\n",
       "    </tr>\n",
       "    <tr>\n",
       "      <th>Particelle sospese PM2.5</th>\n",
       "      <td>25.0</td>\n",
       "    </tr>\n",
       "  </tbody>\n",
       "</table>\n",
       "</div>"
      ],
      "text/plain": [
       "                          Limite\n",
       "Benzene                      NaN\n",
       "Biossido di Azoto          200.0\n",
       "Biossido di Zolfo          350.0\n",
       "Monossido di Carbonio        NaN\n",
       "Ossidi di Azoto              NaN\n",
       "Ozono                      180.0\n",
       "PM10 (SM2005)               50.0\n",
       "Particelle sospese PM2.5    25.0"
      ]
     },
     "execution_count": 61,
     "metadata": {},
     "output_type": "execute_result"
    }
   ],
   "source": [
    "limitiARPA_vari = pd.DataFrame({'Benzene': np.NaN,\n",
    "                            'Biossido di Azoto': 200,\n",
    "                            'Biossido di Zolfo': 350,\n",
    "                            'Monossido di Carbonio': np.NaN,\n",
    "                            'Ossidi di Azoto': np.NaN,\n",
    "                            'Ozono': 180,\n",
    "                            'PM10 (SM2005)': 50,\n",
    "                            'Particelle sospese PM2.5': 25},\n",
    "                           index = ['Limite']).transpose()\n",
    "limitiARPA_vari"
   ]
  },
  {
   "cell_type": "markdown",
   "id": "ad3ae7ed",
   "metadata": {
    "hidden": true
   },
   "source": [
    "##### Nuovi limiti WHO sulle 24h del 2021"
   ]
  },
  {
   "cell_type": "markdown",
   "id": "61886b81",
   "metadata": {
    "hidden": true
   },
   "source": [
    "- Nuove guidelines del **22 September 2021** dalla WHO [qui](https://www.who.int/news/item/22-09-2021-new-who-global-air-quality-guidelines-aim-to-save-millions-of-lives-from-air-pollution) ad aggiornare le guidelines del 2005 \n",
    "- The updated WHO Global Air Quality Guidelines (AQGs) provide recommendations on air quality guideline levels as well as interim targets for **six key air pollutants**. The guidelines focus on so-called classical pollutants, particulate matter (PM₂.₅ and PM₁₀), ozone (O₃), nitrogen dioxide (NO₂), sulfur dioxide (SO₂) and carbon monoxide (CO). When action is taken to reduce these classical pollutants it also has an impact on other pollutants. [qui](https://www.who.int/news-room/questions-and-answers/item/who-global-air-quality-guidelines)\n",
    "- Nuovi limiti SOLO sulle 24 ore (Recommended AQG levels), dati ricavati da [qui](https://apps.who.int/iris/bitstream/handle/10665/345334/9789240034433-eng.pdf)\n",
    "- I limiti sulle 24h sono quelli per ridurre i short-term exposure effects (da mettere nel titolo/ context)\n",
    "- Le unitá di misura rispecchiano quelle dei sensori\n",
    "- Puo' essere utile calcoare per ogni inquinante anche una dose? (Dose di inquinante = concentrazione normalizzata *  numero giorni) Edit: forse no perché non ha senso con le quantita normalizzate"
   ]
  },
  {
   "cell_type": "code",
   "execution_count": 62,
   "id": "1cda92e9",
   "metadata": {
    "ExecuteTime": {
     "end_time": "2022-01-16T16:31:24.066929Z",
     "start_time": "2022-01-16T16:31:24.052928Z"
    },
    "hidden": true,
    "scrolled": true
   },
   "outputs": [
    {
     "data": {
      "text/html": [
       "<div>\n",
       "<style scoped>\n",
       "    .dataframe tbody tr th:only-of-type {\n",
       "        vertical-align: middle;\n",
       "    }\n",
       "\n",
       "    .dataframe tbody tr th {\n",
       "        vertical-align: top;\n",
       "    }\n",
       "\n",
       "    .dataframe thead th {\n",
       "        text-align: right;\n",
       "    }\n",
       "</style>\n",
       "<table border=\"1\" class=\"dataframe\">\n",
       "  <thead>\n",
       "    <tr style=\"text-align: right;\">\n",
       "      <th></th>\n",
       "      <th>Limite</th>\n",
       "    </tr>\n",
       "  </thead>\n",
       "  <tbody>\n",
       "    <tr>\n",
       "      <th>Benzene</th>\n",
       "      <td>NaN</td>\n",
       "    </tr>\n",
       "    <tr>\n",
       "      <th>Biossido di Azoto</th>\n",
       "      <td>25.0</td>\n",
       "    </tr>\n",
       "    <tr>\n",
       "      <th>Biossido di Zolfo</th>\n",
       "      <td>40.0</td>\n",
       "    </tr>\n",
       "    <tr>\n",
       "      <th>Monossido di Carbonio</th>\n",
       "      <td>4.0</td>\n",
       "    </tr>\n",
       "    <tr>\n",
       "      <th>Ossidi di Azoto</th>\n",
       "      <td>NaN</td>\n",
       "    </tr>\n",
       "    <tr>\n",
       "      <th>Ozono</th>\n",
       "      <td>NaN</td>\n",
       "    </tr>\n",
       "    <tr>\n",
       "      <th>PM10 (SM2005)</th>\n",
       "      <td>45.0</td>\n",
       "    </tr>\n",
       "    <tr>\n",
       "      <th>Particelle sospese PM2.5</th>\n",
       "      <td>15.0</td>\n",
       "    </tr>\n",
       "  </tbody>\n",
       "</table>\n",
       "</div>"
      ],
      "text/plain": [
       "                          Limite\n",
       "Benzene                      NaN\n",
       "Biossido di Azoto           25.0\n",
       "Biossido di Zolfo           40.0\n",
       "Monossido di Carbonio        4.0\n",
       "Ossidi di Azoto              NaN\n",
       "Ozono                        NaN\n",
       "PM10 (SM2005)               45.0\n",
       "Particelle sospese PM2.5    15.0"
      ]
     },
     "execution_count": 62,
     "metadata": {},
     "output_type": "execute_result"
    }
   ],
   "source": [
    "limitiWHO_24h = pd.DataFrame({'Benzene': np.NaN,\n",
    "                               'Biossido di Azoto': 25, #ug/m3\n",
    "                               'Biossido di Zolfo': 40, #ug/m3\n",
    "                               'Monossido di Carbonio': 4, #mg/m3\n",
    "                               'Ossidi di Azoto': np.NaN,\n",
    "                               'Ozono': np.NaN, #ci sarebbe un valore anche per l'ozono ma é sulle 8 ore\n",
    "                               'PM10 (SM2005)': 45, #ug/m3\n",
    "                               'Particelle sospese PM2.5': 15 #ug/m3\n",
    "                             }, index = ['Limite']).transpose()\n",
    "limitiWHO_24h"
   ]
  },
  {
   "cell_type": "markdown",
   "id": "e16a66ad",
   "metadata": {
    "hidden": true
   },
   "source": [
    "#### Aggiungo colonne al dataframe con le grandezze scalate rispetto al loro limite sulle 24h"
   ]
  },
  {
   "cell_type": "markdown",
   "id": "5f67071d",
   "metadata": {
    "hidden": true
   },
   "source": [
    "Scalo la `ROLLMEAN7` e la `ROLLSTD7`"
   ]
  },
  {
   "cell_type": "code",
   "execution_count": 63,
   "id": "4620b290",
   "metadata": {
    "ExecuteTime": {
     "end_time": "2022-01-16T16:31:24.384926Z",
     "start_time": "2022-01-16T16:31:24.067929Z"
    },
    "hidden": true,
    "scrolled": false
   },
   "outputs": [
    {
     "data": {
      "text/html": [
       "<div>\n",
       "<style scoped>\n",
       "    .dataframe tbody tr th:only-of-type {\n",
       "        vertical-align: middle;\n",
       "    }\n",
       "\n",
       "    .dataframe tbody tr th {\n",
       "        vertical-align: top;\n",
       "    }\n",
       "\n",
       "    .dataframe thead th {\n",
       "        text-align: right;\n",
       "    }\n",
       "</style>\n",
       "<table border=\"1\" class=\"dataframe\">\n",
       "  <thead>\n",
       "    <tr style=\"text-align: right;\">\n",
       "      <th></th>\n",
       "      <th>Data</th>\n",
       "      <th>Zona</th>\n",
       "      <th>NomeTipoSensore</th>\n",
       "      <th>Valore_MEAN_day_zona_tipo</th>\n",
       "      <th>Valore_COUNT_day_zona_tipo</th>\n",
       "      <th>Valore_STD_day_zona_tipo</th>\n",
       "      <th>Valore_ROLLMEAN7_day_zona_tipo</th>\n",
       "      <th>Valore_ROLLSTD7_day_zona_tipo</th>\n",
       "      <th>Valore_ROLLMEAN7_day_zona_tipo_NORM</th>\n",
       "      <th>Valore_ROLLSTD7_day_zona_tipo_NORM</th>\n",
       "    </tr>\n",
       "  </thead>\n",
       "  <tbody>\n",
       "    <tr>\n",
       "      <th>0</th>\n",
       "      <td>2017-01-01</td>\n",
       "      <td>A</td>\n",
       "      <td>Biossido di Azoto</td>\n",
       "      <td>40.901994</td>\n",
       "      <td>26.0</td>\n",
       "      <td>10.758609</td>\n",
       "      <td>43.367318</td>\n",
       "      <td>12.018080</td>\n",
       "      <td>173.469273</td>\n",
       "      <td>48.072320</td>\n",
       "    </tr>\n",
       "    <tr>\n",
       "      <th>1</th>\n",
       "      <td>2017-01-01</td>\n",
       "      <td>A</td>\n",
       "      <td>Biossido di Zolfo</td>\n",
       "      <td>3.080280</td>\n",
       "      <td>14.0</td>\n",
       "      <td>1.571802</td>\n",
       "      <td>3.537009</td>\n",
       "      <td>2.186940</td>\n",
       "      <td>8.842522</td>\n",
       "      <td>5.467350</td>\n",
       "    </tr>\n",
       "    <tr>\n",
       "      <th>2</th>\n",
       "      <td>2017-01-01</td>\n",
       "      <td>A</td>\n",
       "      <td>Monossido di Carbonio</td>\n",
       "      <td>1.150833</td>\n",
       "      <td>15.0</td>\n",
       "      <td>0.506121</td>\n",
       "      <td>1.015253</td>\n",
       "      <td>0.471750</td>\n",
       "      <td>25.381324</td>\n",
       "      <td>11.793757</td>\n",
       "    </tr>\n",
       "    <tr>\n",
       "      <th>3</th>\n",
       "      <td>2017-01-01</td>\n",
       "      <td>A</td>\n",
       "      <td>PM10 (SM2005)</td>\n",
       "      <td>77.347826</td>\n",
       "      <td>23.0</td>\n",
       "      <td>24.679046</td>\n",
       "      <td>63.022233</td>\n",
       "      <td>20.298282</td>\n",
       "      <td>140.049407</td>\n",
       "      <td>45.107294</td>\n",
       "    </tr>\n",
       "    <tr>\n",
       "      <th>4</th>\n",
       "      <td>2017-01-01</td>\n",
       "      <td>A</td>\n",
       "      <td>Particelle sospese PM2.5</td>\n",
       "      <td>66.000000</td>\n",
       "      <td>11.0</td>\n",
       "      <td>21.104502</td>\n",
       "      <td>55.265909</td>\n",
       "      <td>19.505325</td>\n",
       "      <td>368.439394</td>\n",
       "      <td>130.035500</td>\n",
       "    </tr>\n",
       "  </tbody>\n",
       "</table>\n",
       "</div>"
      ],
      "text/plain": [
       "        Data Zona           NomeTipoSensore  Valore_MEAN_day_zona_tipo  \\\n",
       "0 2017-01-01    A         Biossido di Azoto                  40.901994   \n",
       "1 2017-01-01    A         Biossido di Zolfo                   3.080280   \n",
       "2 2017-01-01    A     Monossido di Carbonio                   1.150833   \n",
       "3 2017-01-01    A             PM10 (SM2005)                  77.347826   \n",
       "4 2017-01-01    A  Particelle sospese PM2.5                  66.000000   \n",
       "\n",
       "   Valore_COUNT_day_zona_tipo  Valore_STD_day_zona_tipo  \\\n",
       "0                        26.0                 10.758609   \n",
       "1                        14.0                  1.571802   \n",
       "2                        15.0                  0.506121   \n",
       "3                        23.0                 24.679046   \n",
       "4                        11.0                 21.104502   \n",
       "\n",
       "   Valore_ROLLMEAN7_day_zona_tipo  Valore_ROLLSTD7_day_zona_tipo  \\\n",
       "0                       43.367318                      12.018080   \n",
       "1                        3.537009                       2.186940   \n",
       "2                        1.015253                       0.471750   \n",
       "3                       63.022233                      20.298282   \n",
       "4                       55.265909                      19.505325   \n",
       "\n",
       "   Valore_ROLLMEAN7_day_zona_tipo_NORM  Valore_ROLLSTD7_day_zona_tipo_NORM  \n",
       "0                           173.469273                           48.072320  \n",
       "1                             8.842522                            5.467350  \n",
       "2                            25.381324                           11.793757  \n",
       "3                           140.049407                           45.107294  \n",
       "4                           368.439394                          130.035500  "
      ]
     },
     "execution_count": 63,
     "metadata": {},
     "output_type": "execute_result"
    }
   ],
   "source": [
    "limiti = limitiWHO_24h #scegliere i limiti da usare\n",
    "\n",
    "mean7gg_norm = pd.Series(dtype =  np.float64) #inizializzo un nuovo array che sará la nuova colonna con la media normalizzata\n",
    "std7gg_norm = pd.Series(dtype =  np.float64) #inizializzo un nuovo array che sará la nuova colonna con lo std normalizzato\n",
    "\n",
    "for tipo in lista_tipi:\n",
    "    temp1 = aria_sensori_zone__day_zona_tipo[aria_sensori_zone__day_zona_tipo.NomeTipoSensore == tipo]['Valore_ROLLMEAN7_day_zona_tipo'] / limiti.loc[tipo, 'Limite'] * 100\n",
    "    temp2 = aria_sensori_zone__day_zona_tipo[aria_sensori_zone__day_zona_tipo.NomeTipoSensore == tipo]['Valore_ROLLSTD7_day_zona_tipo'] / limiti.loc[tipo, 'Limite'] * 100\n",
    "    mean7gg_norm = mean7gg_norm.append(temp1)\n",
    "    std7gg_norm = std7gg_norm.append(temp2)\n",
    "\n",
    "aria_sensori_zone__day_zona_tipo = pd.merge(aria_sensori_zone__day_zona_tipo, mean7gg_norm.rename('Valore_ROLLMEAN7_day_zona_tipo_NORM'), left_index=True, right_index=True)\n",
    "aria_sensori_zone__day_zona_tipo = pd.merge(aria_sensori_zone__day_zona_tipo, std7gg_norm.rename('Valore_ROLLSTD7_day_zona_tipo_NORM'), left_index=True, right_index=True)\n",
    "\n",
    "#escludo righe appartenti ai sensori di cui non ho i limiti\n",
    "aria_sensori_zone__day_zona_tipo.drop(aria_sensori_zone__day_zona_tipo[aria_sensori_zone__day_zona_tipo['NomeTipoSensore'].isin(limiti[limiti['Limite'].isna()].index)].index, inplace = True)\n",
    "aria_sensori_zone__day_zona_tipo.reset_index(drop=True, inplace=True)\n",
    "aria_sensori_zone__day_zona_tipo.head()"
   ]
  },
  {
   "cell_type": "markdown",
   "id": "48add5fa",
   "metadata": {
    "hidden": true
   },
   "source": [
    "## Esportazione"
   ]
  },
  {
   "cell_type": "markdown",
   "id": "8edd6b0a",
   "metadata": {
    "heading_collapsed": true,
    "hidden": true
   },
   "source": [
    "### Droppo le colonne inutili"
   ]
  },
  {
   "cell_type": "code",
   "execution_count": 64,
   "id": "f16298ab",
   "metadata": {
    "ExecuteTime": {
     "end_time": "2022-01-16T16:31:24.416927Z",
     "start_time": "2022-01-16T16:31:24.386927Z"
    },
    "hidden": true
   },
   "outputs": [
    {
     "data": {
      "text/html": [
       "<div>\n",
       "<style scoped>\n",
       "    .dataframe tbody tr th:only-of-type {\n",
       "        vertical-align: middle;\n",
       "    }\n",
       "\n",
       "    .dataframe tbody tr th {\n",
       "        vertical-align: top;\n",
       "    }\n",
       "\n",
       "    .dataframe thead th {\n",
       "        text-align: right;\n",
       "    }\n",
       "</style>\n",
       "<table border=\"1\" class=\"dataframe\">\n",
       "  <thead>\n",
       "    <tr style=\"text-align: right;\">\n",
       "      <th></th>\n",
       "      <th>Data</th>\n",
       "      <th>Zona</th>\n",
       "      <th>NomeTipoSensore</th>\n",
       "      <th>Valore_ROLLMEAN7_day_zona_tipo</th>\n",
       "      <th>Valore_ROLLMEAN7_day_zona_tipo_NORM</th>\n",
       "      <th>Valore_ROLLSTD7_day_zona_tipo_NORM</th>\n",
       "    </tr>\n",
       "  </thead>\n",
       "  <tbody>\n",
       "    <tr>\n",
       "      <th>0</th>\n",
       "      <td>2017-01-01</td>\n",
       "      <td>A</td>\n",
       "      <td>Biossido di Azoto</td>\n",
       "      <td>43.367318</td>\n",
       "      <td>173.469273</td>\n",
       "      <td>48.072320</td>\n",
       "    </tr>\n",
       "    <tr>\n",
       "      <th>1</th>\n",
       "      <td>2017-01-01</td>\n",
       "      <td>A</td>\n",
       "      <td>Biossido di Zolfo</td>\n",
       "      <td>3.537009</td>\n",
       "      <td>8.842522</td>\n",
       "      <td>5.467350</td>\n",
       "    </tr>\n",
       "    <tr>\n",
       "      <th>2</th>\n",
       "      <td>2017-01-01</td>\n",
       "      <td>A</td>\n",
       "      <td>Monossido di Carbonio</td>\n",
       "      <td>1.015253</td>\n",
       "      <td>25.381324</td>\n",
       "      <td>11.793757</td>\n",
       "    </tr>\n",
       "    <tr>\n",
       "      <th>3</th>\n",
       "      <td>2017-01-01</td>\n",
       "      <td>A</td>\n",
       "      <td>PM10 (SM2005)</td>\n",
       "      <td>63.022233</td>\n",
       "      <td>140.049407</td>\n",
       "      <td>45.107294</td>\n",
       "    </tr>\n",
       "    <tr>\n",
       "      <th>4</th>\n",
       "      <td>2017-01-01</td>\n",
       "      <td>A</td>\n",
       "      <td>Particelle sospese PM2.5</td>\n",
       "      <td>55.265909</td>\n",
       "      <td>368.439394</td>\n",
       "      <td>130.035500</td>\n",
       "    </tr>\n",
       "  </tbody>\n",
       "</table>\n",
       "</div>"
      ],
      "text/plain": [
       "        Data Zona           NomeTipoSensore  Valore_ROLLMEAN7_day_zona_tipo  \\\n",
       "0 2017-01-01    A         Biossido di Azoto                       43.367318   \n",
       "1 2017-01-01    A         Biossido di Zolfo                        3.537009   \n",
       "2 2017-01-01    A     Monossido di Carbonio                        1.015253   \n",
       "3 2017-01-01    A             PM10 (SM2005)                       63.022233   \n",
       "4 2017-01-01    A  Particelle sospese PM2.5                       55.265909   \n",
       "\n",
       "   Valore_ROLLMEAN7_day_zona_tipo_NORM  Valore_ROLLSTD7_day_zona_tipo_NORM  \n",
       "0                           173.469273                           48.072320  \n",
       "1                             8.842522                            5.467350  \n",
       "2                            25.381324                           11.793757  \n",
       "3                           140.049407                           45.107294  \n",
       "4                           368.439394                          130.035500  "
      ]
     },
     "execution_count": 64,
     "metadata": {},
     "output_type": "execute_result"
    }
   ],
   "source": [
    "dataset_norm = aria_sensori_zone__day_zona_tipo.drop(['Valore_MEAN_day_zona_tipo', 'Valore_COUNT_day_zona_tipo', 'Valore_STD_day_zona_tipo', 'Valore_ROLLSTD7_day_zona_tipo'], axis = 1)\n",
    "dataset_norm.head()"
   ]
  },
  {
   "cell_type": "markdown",
   "id": "fa59bf27",
   "metadata": {
    "heading_collapsed": true,
    "hidden": true
   },
   "source": [
    "### Esporto csv"
   ]
  },
  {
   "cell_type": "code",
   "execution_count": 184,
   "id": "8bc9a28e",
   "metadata": {
    "ExecuteTime": {
     "end_time": "2022-01-16T22:50:46.291867Z",
     "start_time": "2022-01-16T22:50:46.280751Z"
    },
    "hidden": true
   },
   "outputs": [],
   "source": [
    "#dataset_norm.to_csv('dataset_norm.csv')"
   ]
  }
 ],
 "metadata": {
  "kernelspec": {
   "display_name": "Python 3 (ipykernel)",
   "language": "python",
   "name": "python3"
  },
  "language_info": {
   "codemirror_mode": {
    "name": "ipython",
    "version": 3
   },
   "file_extension": ".py",
   "mimetype": "text/x-python",
   "name": "python",
   "nbconvert_exporter": "python",
   "pygments_lexer": "ipython3",
   "version": "3.9.7"
  },
  "toc": {
   "base_numbering": 1,
   "nav_menu": {},
   "number_sections": true,
   "sideBar": true,
   "skip_h1_title": false,
   "title_cell": "Table of Contents",
   "title_sidebar": "Contents",
   "toc_cell": false,
   "toc_position": {
    "height": "calc(100% - 180px)",
    "left": "10px",
    "top": "150px",
    "width": "174.825px"
   },
   "toc_section_display": true,
   "toc_window_display": false
  },
  "varInspector": {
   "cols": {
    "lenName": 16,
    "lenType": 16,
    "lenVar": 40
   },
   "kernels_config": {
    "python": {
     "delete_cmd_postfix": "",
     "delete_cmd_prefix": "del ",
     "library": "var_list.py",
     "varRefreshCmd": "print(var_dic_list())"
    },
    "r": {
     "delete_cmd_postfix": ") ",
     "delete_cmd_prefix": "rm(",
     "library": "var_list.r",
     "varRefreshCmd": "cat(var_dic_list()) "
    }
   },
   "position": {
    "height": "695.85px",
    "left": "1184.2px",
    "right": "20px",
    "top": "87px",
    "width": "313px"
   },
   "types_to_exclude": [
    "module",
    "function",
    "builtin_function_or_method",
    "instance",
    "_Feature"
   ],
   "window_display": false
  }
 },
 "nbformat": 4,
 "nbformat_minor": 5
}
