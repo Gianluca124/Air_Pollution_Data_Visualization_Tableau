{
 "cells": [
  {
   "cell_type": "markdown",
   "id": "613ad79d",
   "metadata": {},
   "source": [
    "# Importazione librerie e setup"
   ]
  },
  {
   "cell_type": "markdown",
   "id": "cd97d744",
   "metadata": {
    "heading_collapsed": true
   },
   "source": [
    "## Setup grafico"
   ]
  },
  {
   "cell_type": "code",
   "execution_count": 13,
   "id": "28fb5b73",
   "metadata": {
    "ExecuteTime": {
     "end_time": "2022-01-16T23:18:41.035691Z",
     "start_time": "2022-01-16T23:18:41.019545Z"
    },
    "hidden": true
   },
   "outputs": [
    {
     "data": {
      "text/html": [
       "<style>.container { width:90% !important; }</style>"
      ],
      "text/plain": [
       "<IPython.core.display.HTML object>"
      ]
     },
     "metadata": {},
     "output_type": "display_data"
    }
   ],
   "source": [
    "from IPython.core.display import display, HTML\n",
    "\n",
    "display(HTML(\"<style>.container { width:90% !important; }</style>\"))"
   ]
  },
  {
   "cell_type": "markdown",
   "id": "c24a7b64",
   "metadata": {},
   "source": [
    "## Importazione librerie"
   ]
  },
  {
   "cell_type": "code",
   "execution_count": 15,
   "id": "4552d11f",
   "metadata": {
    "ExecuteTime": {
     "end_time": "2022-01-16T23:53:33.596288Z",
     "start_time": "2022-01-16T23:53:33.576689Z"
    }
   },
   "outputs": [],
   "source": [
    "import pandas as pd\n",
    "import plotly.graph_objects as go\n",
    "import datetime\n",
    "import numpy as np"
   ]
  },
  {
   "cell_type": "markdown",
   "id": "d0c2321a",
   "metadata": {
    "heading_collapsed": true
   },
   "source": [
    "# Datasets"
   ]
  },
  {
   "cell_type": "markdown",
   "id": "b7eb9db1",
   "metadata": {
    "heading_collapsed": true,
    "hidden": true
   },
   "source": [
    "## Lettura"
   ]
  },
  {
   "cell_type": "code",
   "execution_count": 10,
   "id": "4f0c8580",
   "metadata": {
    "ExecuteTime": {
     "end_time": "2022-01-16T23:14:56.835428Z",
     "start_time": "2022-01-16T23:14:56.763305Z"
    },
    "hidden": true
   },
   "outputs": [],
   "source": [
    "aria_milano_01_21 = pd.read_csv('./data/data_viz/aria_milano_01_21.csv',\n",
    "                      parse_dates=['Data'],\n",
    "                      dayfirst=True,\n",
    "                      index_col = 0\n",
    "                     )"
   ]
  },
  {
   "cell_type": "code",
   "execution_count": 11,
   "id": "4da8da6c",
   "metadata": {
    "ExecuteTime": {
     "end_time": "2022-01-16T23:14:57.930593Z",
     "start_time": "2022-01-16T23:14:57.919270Z"
    },
    "hidden": true
   },
   "outputs": [
    {
     "data": {
      "text/plain": [
       "Data                          datetime64[ns]\n",
       "NomeTipoSensore                       object\n",
       "Valore_MEAN_day_zona_tipo            float64\n",
       "Valore_COUNT_day_zona_tipo           float64\n",
       "Valore_STD_day_zona_tipo             float64\n",
       "dtype: object"
      ]
     },
     "execution_count": 11,
     "metadata": {},
     "output_type": "execute_result"
    }
   ],
   "source": [
    "aria_milano_01_21.dtypes"
   ]
  },
  {
   "cell_type": "code",
   "execution_count": 12,
   "id": "8fb071ac",
   "metadata": {
    "ExecuteTime": {
     "end_time": "2022-01-16T23:14:59.290567Z",
     "start_time": "2022-01-16T23:14:59.269132Z"
    },
    "hidden": true
   },
   "outputs": [
    {
     "data": {
      "text/html": [
       "<div>\n",
       "<style scoped>\n",
       "    .dataframe tbody tr th:only-of-type {\n",
       "        vertical-align: middle;\n",
       "    }\n",
       "\n",
       "    .dataframe tbody tr th {\n",
       "        vertical-align: top;\n",
       "    }\n",
       "\n",
       "    .dataframe thead th {\n",
       "        text-align: right;\n",
       "    }\n",
       "</style>\n",
       "<table border=\"1\" class=\"dataframe\">\n",
       "  <thead>\n",
       "    <tr style=\"text-align: right;\">\n",
       "      <th></th>\n",
       "      <th>Data</th>\n",
       "      <th>NomeTipoSensore</th>\n",
       "      <th>Valore_MEAN_day_zona_tipo</th>\n",
       "      <th>Valore_COUNT_day_zona_tipo</th>\n",
       "      <th>Valore_STD_day_zona_tipo</th>\n",
       "    </tr>\n",
       "  </thead>\n",
       "  <tbody>\n",
       "    <tr>\n",
       "      <th>0</th>\n",
       "      <td>2001-01-01</td>\n",
       "      <td>Biossido di Azoto</td>\n",
       "      <td>71.864524</td>\n",
       "      <td>34.0</td>\n",
       "      <td>13.968620</td>\n",
       "    </tr>\n",
       "    <tr>\n",
       "      <th>1</th>\n",
       "      <td>2001-01-01</td>\n",
       "      <td>Biossido di Zolfo</td>\n",
       "      <td>13.926929</td>\n",
       "      <td>22.0</td>\n",
       "      <td>11.145590</td>\n",
       "    </tr>\n",
       "    <tr>\n",
       "      <th>2</th>\n",
       "      <td>2001-01-01</td>\n",
       "      <td>Monossido di Carbonio</td>\n",
       "      <td>2.528201</td>\n",
       "      <td>31.0</td>\n",
       "      <td>0.826181</td>\n",
       "    </tr>\n",
       "    <tr>\n",
       "      <th>3</th>\n",
       "      <td>2001-01-01</td>\n",
       "      <td>Ossidi di Azoto</td>\n",
       "      <td>230.153608</td>\n",
       "      <td>34.0</td>\n",
       "      <td>71.889506</td>\n",
       "    </tr>\n",
       "    <tr>\n",
       "      <th>4</th>\n",
       "      <td>2001-01-01</td>\n",
       "      <td>Ozono</td>\n",
       "      <td>10.412080</td>\n",
       "      <td>17.0</td>\n",
       "      <td>3.100986</td>\n",
       "    </tr>\n",
       "    <tr>\n",
       "      <th>...</th>\n",
       "      <td>...</td>\n",
       "      <td>...</td>\n",
       "      <td>...</td>\n",
       "      <td>...</td>\n",
       "      <td>...</td>\n",
       "    </tr>\n",
       "    <tr>\n",
       "      <th>68998</th>\n",
       "      <td>2021-12-28</td>\n",
       "      <td>Ozono</td>\n",
       "      <td>NaN</td>\n",
       "      <td>NaN</td>\n",
       "      <td>NaN</td>\n",
       "    </tr>\n",
       "    <tr>\n",
       "      <th>68999</th>\n",
       "      <td>2021-12-28</td>\n",
       "      <td>PM10 (SM2005)</td>\n",
       "      <td>NaN</td>\n",
       "      <td>NaN</td>\n",
       "      <td>NaN</td>\n",
       "    </tr>\n",
       "    <tr>\n",
       "      <th>69000</th>\n",
       "      <td>2021-12-28</td>\n",
       "      <td>Particelle sospese PM2.5</td>\n",
       "      <td>NaN</td>\n",
       "      <td>NaN</td>\n",
       "      <td>NaN</td>\n",
       "    </tr>\n",
       "    <tr>\n",
       "      <th>69001</th>\n",
       "      <td>2021-12-28</td>\n",
       "      <td>Particolato Totale Sospeso</td>\n",
       "      <td>NaN</td>\n",
       "      <td>NaN</td>\n",
       "      <td>NaN</td>\n",
       "    </tr>\n",
       "    <tr>\n",
       "      <th>69002</th>\n",
       "      <td>2021-12-28</td>\n",
       "      <td>Benzene</td>\n",
       "      <td>NaN</td>\n",
       "      <td>NaN</td>\n",
       "      <td>NaN</td>\n",
       "    </tr>\n",
       "  </tbody>\n",
       "</table>\n",
       "<p>69003 rows × 5 columns</p>\n",
       "</div>"
      ],
      "text/plain": [
       "            Data             NomeTipoSensore  Valore_MEAN_day_zona_tipo  \\\n",
       "0     2001-01-01           Biossido di Azoto                  71.864524   \n",
       "1     2001-01-01           Biossido di Zolfo                  13.926929   \n",
       "2     2001-01-01       Monossido di Carbonio                   2.528201   \n",
       "3     2001-01-01             Ossidi di Azoto                 230.153608   \n",
       "4     2001-01-01                       Ozono                  10.412080   \n",
       "...          ...                         ...                        ...   \n",
       "68998 2021-12-28                       Ozono                        NaN   \n",
       "68999 2021-12-28               PM10 (SM2005)                        NaN   \n",
       "69000 2021-12-28    Particelle sospese PM2.5                        NaN   \n",
       "69001 2021-12-28  Particolato Totale Sospeso                        NaN   \n",
       "69002 2021-12-28                     Benzene                        NaN   \n",
       "\n",
       "       Valore_COUNT_day_zona_tipo  Valore_STD_day_zona_tipo  \n",
       "0                            34.0                 13.968620  \n",
       "1                            22.0                 11.145590  \n",
       "2                            31.0                  0.826181  \n",
       "3                            34.0                 71.889506  \n",
       "4                            17.0                  3.100986  \n",
       "...                           ...                       ...  \n",
       "68998                         NaN                       NaN  \n",
       "68999                         NaN                       NaN  \n",
       "69000                         NaN                       NaN  \n",
       "69001                         NaN                       NaN  \n",
       "69002                         NaN                       NaN  \n",
       "\n",
       "[69003 rows x 5 columns]"
      ]
     },
     "execution_count": 12,
     "metadata": {},
     "output_type": "execute_result"
    }
   ],
   "source": [
    "aria_milano_01_21"
   ]
  },
  {
   "cell_type": "markdown",
   "id": "8d6a2605",
   "metadata": {},
   "source": [
    "# Visualizzazioni"
   ]
  },
  {
   "cell_type": "markdown",
   "id": "df19a189",
   "metadata": {},
   "source": [
    "## Heatmap"
   ]
  },
  {
   "cell_type": "code",
   "execution_count": 19,
   "id": "7988da2f",
   "metadata": {
    "ExecuteTime": {
     "end_time": "2022-01-17T00:04:33.196322Z",
     "start_time": "2022-01-17T00:04:33.180964Z"
    }
   },
   "outputs": [
    {
     "data": {
      "text/plain": [
       "0        2001\n",
       "1        2001\n",
       "2        2001\n",
       "3        2001\n",
       "4        2001\n",
       "         ... \n",
       "68998    2021\n",
       "68999    2021\n",
       "69000    2021\n",
       "69001    2021\n",
       "69002    2021\n",
       "Name: Data, Length: 69003, dtype: int64"
      ]
     },
     "execution_count": 19,
     "metadata": {},
     "output_type": "execute_result"
    }
   ],
   "source": [
    "aria_milano_01_21['Data'].dt.year"
   ]
  },
  {
   "cell_type": "code",
   "execution_count": null,
   "id": "c86293da",
   "metadata": {},
   "outputs": [],
   "source": [
    "#programmers = ['Alex','Nicole','Sara','Etienne','Chelsea','Jody','Marianne']\n",
    "#base = datetime.datetime.today()\n",
    "#z = np.random.poisson(size=(len(programmers), len(dates)))\n",
    "\n",
    "fig = go.Figure(data=go.Heatmap(\n",
    "        z=z,\n",
    "        x=aria_milano_01_21['Data'].dt.d,\n",
    "        y=aria_milano_01_21['Data'].dt.year,\n",
    "        colorscale='Viridis'))\n",
    "\n",
    "fig.update_layout(\n",
    "    title='GitHub commits per day',\n",
    "    xaxis_nticks=36)\n",
    "\n",
    "fig.show()"
   ]
  }
 ],
 "metadata": {
  "kernelspec": {
   "display_name": "Python 3 (ipykernel)",
   "language": "python",
   "name": "python3"
  },
  "language_info": {
   "codemirror_mode": {
    "name": "ipython",
    "version": 3
   },
   "file_extension": ".py",
   "mimetype": "text/x-python",
   "name": "python",
   "nbconvert_exporter": "python",
   "pygments_lexer": "ipython3",
   "version": "3.9.7"
  },
  "varInspector": {
   "cols": {
    "lenName": 16,
    "lenType": 16,
    "lenVar": 40
   },
   "kernels_config": {
    "python": {
     "delete_cmd_postfix": "",
     "delete_cmd_prefix": "del ",
     "library": "var_list.py",
     "varRefreshCmd": "print(var_dic_list())"
    },
    "r": {
     "delete_cmd_postfix": ") ",
     "delete_cmd_prefix": "rm(",
     "library": "var_list.r",
     "varRefreshCmd": "cat(var_dic_list()) "
    }
   },
   "types_to_exclude": [
    "module",
    "function",
    "builtin_function_or_method",
    "instance",
    "_Feature"
   ],
   "window_display": false
  }
 },
 "nbformat": 4,
 "nbformat_minor": 5
}
