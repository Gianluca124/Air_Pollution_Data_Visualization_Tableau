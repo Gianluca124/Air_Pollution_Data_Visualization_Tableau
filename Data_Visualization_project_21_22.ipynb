{
 "cells": [
  {
   "cell_type": "markdown",
   "id": "17da6281",
   "metadata": {
    "heading_collapsed": true
   },
   "source": [
    "# Importazione librerie"
   ]
  },
  {
   "cell_type": "code",
   "execution_count": 1,
   "id": "9d3725ae",
   "metadata": {
    "ExecuteTime": {
     "end_time": "2022-01-13T16:53:43.521495Z",
     "start_time": "2022-01-13T16:53:43.495497Z"
    },
    "hidden": true
   },
   "outputs": [
    {
     "data": {
      "text/html": [
       "<style>.container { width:90% !important; }</style>"
      ],
      "text/plain": [
       "<IPython.core.display.HTML object>"
      ]
     },
     "metadata": {},
     "output_type": "display_data"
    }
   ],
   "source": [
    "from IPython.core.display import display, HTML\n",
    "\n",
    "display(HTML(\"<style>.container { width:90% !important; }</style>\"))"
   ]
  },
  {
   "cell_type": "code",
   "execution_count": 2,
   "id": "416c0c91",
   "metadata": {
    "ExecuteTime": {
     "end_time": "2022-01-13T16:53:45.061500Z",
     "start_time": "2022-01-13T16:53:43.523497Z"
    },
    "hidden": true
   },
   "outputs": [],
   "source": [
    "import pandas as pd\n",
    "import numpy as np\n",
    "import seaborn as sns"
   ]
  },
  {
   "cell_type": "markdown",
   "id": "a4193c40",
   "metadata": {},
   "source": [
    "# Conversione files e Importazione datasets"
   ]
  },
  {
   "cell_type": "markdown",
   "id": "e63d95f6",
   "metadata": {
    "heading_collapsed": true
   },
   "source": [
    "## Convesione da `.csv` a `.parquet`"
   ]
  },
  {
   "cell_type": "markdown",
   "id": "f1631d44",
   "metadata": {
    "hidden": true
   },
   "source": [
    "Data la grande dimensione di alcuni dei dataset utilizzati, questi verranno convertiti da `.csv` a `.parquet` (Apache Parquet Format)"
   ]
  },
  {
   "cell_type": "code",
   "execution_count": 3,
   "id": "3ee688d7",
   "metadata": {
    "ExecuteTime": {
     "end_time": "2022-01-13T16:53:45.077493Z",
     "start_time": "2022-01-13T16:53:45.063496Z"
    },
    "hidden": true
   },
   "outputs": [],
   "source": [
    "#df = pd.read_csv('./Datasets/Dati_sensori_meteo_2021.csv', low_memory=False)\n",
    "#df.to_parquet('./Datasets/Dati_sensori_meteo_2021.parquet')"
   ]
  },
  {
   "cell_type": "markdown",
   "id": "86fef283",
   "metadata": {
    "hidden": true
   },
   "source": [
    "Il codice sotto funziona ma riempie la RAM"
   ]
  },
  {
   "cell_type": "code",
   "execution_count": 4,
   "id": "6a813f34",
   "metadata": {
    "ExecuteTime": {
     "end_time": "2022-01-13T16:53:45.093494Z",
     "start_time": "2022-01-13T16:53:45.078495Z"
    },
    "hidden": true
   },
   "outputs": [],
   "source": [
    "#dtypes = {'IdSensore': 'string', 'Valore': 'string'}\n",
    "#parse_dates\n",
    "#meteo = pd.concat(\n",
    "#    map(pd.read_parquet, [\n",
    "#        f'{path}Dati_sensori_meteo_2021_parte_1.parquet',\n",
    "#        f'{path}Dati_sensori_meteo_2021_parte_2.parquet'\n",
    "#    ]))\n",
    "#meteo.head()"
   ]
  },
  {
   "cell_type": "markdown",
   "id": "ebf630b9",
   "metadata": {
    "hidden": true
   },
   "source": [
    "Importazione datasets convertiti"
   ]
  },
  {
   "cell_type": "code",
   "execution_count": 5,
   "id": "0a548d31",
   "metadata": {
    "ExecuteTime": {
     "end_time": "2022-01-13T16:53:45.108494Z",
     "start_time": "2022-01-13T16:53:45.094496Z"
    },
    "hidden": true
   },
   "outputs": [],
   "source": [
    "path = './data/'"
   ]
  },
  {
   "cell_type": "markdown",
   "id": "35f53d80",
   "metadata": {
    "heading_collapsed": true
   },
   "source": [
    "## Rilevazioni sensori metereologici 2020 e 2021"
   ]
  },
  {
   "cell_type": "markdown",
   "id": "2362e611",
   "metadata": {
    "hidden": true
   },
   "source": [
    "#### Attributi: \n",
    "- IdSensore: \n",
    "    - Tipologia: Testo normale\n",
    "- Data: \n",
    "    - Data e ora, Marcatura oraria flessibile\n",
    "- Valore: \n",
    "    - Tipologia: numero\n",
    "    - Legenda: 9999 = dato mancante 888, 8888 = direzione vento variabile 777, 7777 = calma (solo per direzione di vento)\n",
    "- idOperatore\t\n",
    "    - *Molto utile per capire la dimensione del dato*\n",
    "    - LEGENDA: 1: Valore medio 3: Valore massimo 4: Valore cumulato (per la pioggia)\n",
    "    - Testo normale\n",
    "- Stato\t\n",
    "    - LEGENDA: VA, VV = dato valido NA, NV, NC = dato invalido NI = dato incerto ND = dato non disponibile\n",
    "    - Testo normale"
   ]
  },
  {
   "cell_type": "code",
   "execution_count": 6,
   "id": "af572608",
   "metadata": {
    "ExecuteTime": {
     "end_time": "2022-01-13T16:53:45.124494Z",
     "start_time": "2022-01-13T16:53:45.110496Z"
    },
    "hidden": true
   },
   "outputs": [],
   "source": [
    "#meteo_21 = pd.read_parquet(f'{path}/data_meteo/Dati_sensori_meteo_2021.parquet')\n",
    "#meteo_21.head()"
   ]
  },
  {
   "cell_type": "markdown",
   "id": "f8bfa39c",
   "metadata": {
    "heading_collapsed": true
   },
   "source": [
    "## Sensori metereologici"
   ]
  },
  {
   "cell_type": "markdown",
   "id": "f624b390",
   "metadata": {
    "hidden": true
   },
   "source": [
    "#### Attributi: \n",
    "- **IdSensore**\n",
    "    - Foreign Key con vincolo di integrità referenziale a `IdSensore` di meteo_21\n",
    "    - Testo normale\n",
    "- **Tipologia**\n",
    "    - Grandezza misurata\n",
    "    - Testo normale\n",
    "- **Unità DiMisura**\n",
    "    - Unità di misura della grandezza\n",
    "    - Testo normale\n",
    "- IdStazione\t\n",
    "    - Numero identificativo della stazione (penso perchè ogni stazione può avere più sensori)\n",
    "    - Testo normale\n",
    "- NomeStazione\t\n",
    "    - Località della stazione (Spesso è 'Comune via' o 'Comune località)'\n",
    "    - Testo normale\n",
    "- Quota\t\n",
    "    - Altitudine\n",
    "    - Numero\n",
    "- Provincia\n",
    "    - Sigla della provincia\n",
    "    - Testo normale\n",
    "- DataStart\t\n",
    "    - Data e ora\n",
    "- DataStop\t\n",
    "    - Data e ora\n",
    "- Storico\t\n",
    "    - Noto che assume valori N e S ma non capisco cosa sia\n",
    "    - Testo normale\n",
    "- UTM_Nord\t\n",
    "    - Coordinata UTM nord (le cordinate utm permettono di individuare univocamente un punto sulla cartina terrestre)\n",
    "    - Testo normale\n",
    "- UTM_Est\t\n",
    "    - Coordinata UTM est\n",
    "    - Testo normale\n",
    "- lng\t\n",
    "    - Longitudine (senza simbolo gradi)\n",
    "    - Numero\n",
    "- lat\t\n",
    "    - Latitudine (senza simbolo gradi)\n",
    "    - Numero\n",
    "- location\t\n",
    "    - (latitudine°, longitudine°)\n",
    "    - Posizione\n",
    "    \n",
    "##### Grandezze disponibili\n",
    "Sono disponibili i dati delle grandezze:\n",
    "- Livello Idrometrico (cm)\n",
    "- Altezza neve (cm)\n",
    "- Precipitazione (mm)\n",
    "- Temperatura (°C)\n",
    "- Umidità Relativa (%)\n",
    "- Radiazione Globale (W/m2)\n",
    "- Velocità e Direzione Vento (m/s e gradi).\n",
    "- Velocità e direzione del vento (m/s e gradi N) raffica\n",
    "NB: l’orario del dato è \"ora solare\" e si riferisce alle osservazioni ottenute fino all’orario indicato."
   ]
  },
  {
   "cell_type": "code",
   "execution_count": 7,
   "id": "9c1aee03",
   "metadata": {
    "ExecuteTime": {
     "end_time": "2022-01-13T16:53:45.140494Z",
     "start_time": "2022-01-13T16:53:45.125496Z"
    },
    "hidden": true
   },
   "outputs": [],
   "source": [
    "#sensori_meteo = pd.read_csv(f'{path}Stazioni_Meteorologiche.csv', dtype = {'Tipologia': 'category'})\n",
    "#sensori_meteo.head()\n",
    "#stazioni_meteo['Tipologia'].value_counts()"
   ]
  },
  {
   "cell_type": "markdown",
   "id": "bf2fb482",
   "metadata": {
    "heading_collapsed": true
   },
   "source": [
    "## Rilevazioni sensori qualità dell'aria 2020 e 2021\n",
    "\n",
    "- Prendere qualche giorno prima e qualche giorno dopo degli anni considerati cosi da avere valori attendibili delle medie mobili agli estremi"
   ]
  },
  {
   "cell_type": "markdown",
   "id": "b4682e9e",
   "metadata": {
    "hidden": true
   },
   "source": [
    "#### Attributi: \n",
    "- **IdSensore**: \n",
    "    - Identificativo Univoco che distingue il sensore\n",
    "    - Tipologia: Testo normale\n",
    "- **Data**: \n",
    "    - Data e ora, Marcatura oraria flessibile\n",
    "    - I dati forniti hanno frequenza oraria tranne PM10 e PM2.5 per i quali è fornita la media giornaliera.\n",
    "- **Valore**: \n",
    "    - Tipologia: numero\n",
    "    - LEGENDA:-9999 = dato mancante o invalido\n",
    "- **idOperatore**\n",
    "    - *Molto utile per capire la dimensione del dato*\n",
    "    - LEGENDA: 1: Valore medio \n",
    "    - In realtà: I dati forniti hanno frequenza oraria tranne PM10 e PM2.5 per i quali è fornita la media giornaliera.\n",
    "    - Testo normale\n",
    "- **Stato**\t\n",
    "    - VA = dato valido NA = dato invalido I dati presenti in questo archivio relativi agli ultimi 3-6 mesi, contengono ancora valori incerti che possono subire modifiche da parte degli operatori delle reti (invalidazione manuale). Il processo di validazione dei dati prevede una fase di valutazione finale che si conclude entro il 30.3 dell’anno successivo a quello di misura.\n",
    "    - Testo normale"
   ]
  },
  {
   "cell_type": "markdown",
   "id": "52634b34",
   "metadata": {
    "hidden": true
   },
   "source": [
    "#### Caratteristiche\n",
    "\n",
    "- La rete di rilevamento della qualità dell’aria di ARPA Lombardia è costituita da stazioni fisse che, per mezzo di analizzatori automatici, forniscono dati in continuo ad intervalli temporali regolari. \n",
    "- Le specie di inquinanti monitorate in continuo sono NOX, SO2, CO, O3, PM10, PM2.5 e benzene. A seconda del contesto ambientale nel quale è attivo il monitoraggio, diversa è la tipologia di inquinanti che è necessario rilevare. Pertanto, non tutte le stazioni sono dotate della medesima strumentazione analitica. \n",
    "- Le postazioni regionali sono distribuite su tutto il territorio regionale in funzione della densità abitativa e della tipologia di territorio rispettando i criteri definiti dal D.Lgs. 155/2010.\n",
    "- **I dati forniti hanno frequenza oraria tranne PM10 e PM2.5 per i quali è fornita la media giornaliera.**"
   ]
  },
  {
   "cell_type": "code",
   "execution_count": 8,
   "id": "caa8b1af",
   "metadata": {
    "ExecuteTime": {
     "end_time": "2022-01-13T16:53:48.202498Z",
     "start_time": "2022-01-13T16:53:45.143496Z"
    },
    "hidden": true
   },
   "outputs": [
    {
     "data": {
      "text/plain": [
       "IdSensore               int64\n",
       "Data           datetime64[ns]\n",
       "Valore                float64\n",
       "Stato                  object\n",
       "idOperatore             int64\n",
       "dtype: object"
      ]
     },
     "execution_count": 8,
     "metadata": {},
     "output_type": "execute_result"
    }
   ],
   "source": [
    "# Converto in importazione i -9999 in NA\n",
    "aria_20 = pd.read_csv(f'{path}/data_aria/Dati_sensori_aria_2020.csv',\n",
    "                      na_values=['-9999'],\\\n",
    "                      parse_dates=['Data'],\\\n",
    "                      dayfirst=True,\\\n",
    "                     )\n",
    "aria_20.dtypes"
   ]
  },
  {
   "cell_type": "code",
   "execution_count": 9,
   "id": "89a4132a",
   "metadata": {
    "ExecuteTime": {
     "end_time": "2022-01-13T16:53:51.508528Z",
     "start_time": "2022-01-13T16:53:48.204496Z"
    },
    "hidden": true,
    "scrolled": true
   },
   "outputs": [
    {
     "data": {
      "text/plain": [
       "IdSensore               int64\n",
       "Data           datetime64[ns]\n",
       "Valore                float64\n",
       "Stato                  object\n",
       "idOperatore             int64\n",
       "dtype: object"
      ]
     },
     "execution_count": 9,
     "metadata": {},
     "output_type": "execute_result"
    }
   ],
   "source": [
    "# Converto in importazione i -9999 in NA\n",
    "aria_21 = pd.read_csv(f'{path}/data_aria/Dati_sensori_aria_2021.csv',\n",
    "                      na_values=['-9999'],\\\n",
    "                      parse_dates=['Data'],\\\n",
    "                      dayfirst=True,\\\n",
    "                     )\n",
    "aria_20.dtypes"
   ]
  },
  {
   "cell_type": "code",
   "execution_count": 10,
   "id": "f379c045",
   "metadata": {
    "ExecuteTime": {
     "end_time": "2022-01-13T16:53:51.747527Z",
     "start_time": "2022-01-13T16:53:51.509496Z"
    },
    "hidden": true
   },
   "outputs": [
    {
     "data": {
      "text/html": [
       "<div>\n",
       "<style scoped>\n",
       "    .dataframe tbody tr th:only-of-type {\n",
       "        vertical-align: middle;\n",
       "    }\n",
       "\n",
       "    .dataframe tbody tr th {\n",
       "        vertical-align: top;\n",
       "    }\n",
       "\n",
       "    .dataframe thead th {\n",
       "        text-align: right;\n",
       "    }\n",
       "</style>\n",
       "<table border=\"1\" class=\"dataframe\">\n",
       "  <thead>\n",
       "    <tr style=\"text-align: right;\">\n",
       "      <th></th>\n",
       "      <th>IdSensore</th>\n",
       "      <th>Data</th>\n",
       "      <th>Valore</th>\n",
       "      <th>Stato</th>\n",
       "      <th>idOperatore</th>\n",
       "    </tr>\n",
       "  </thead>\n",
       "  <tbody>\n",
       "    <tr>\n",
       "      <th>5246071</th>\n",
       "      <td>10331</td>\n",
       "      <td>2021-12-19 03:00:00</td>\n",
       "      <td>45.7</td>\n",
       "      <td>VA</td>\n",
       "      <td>1</td>\n",
       "    </tr>\n",
       "    <tr>\n",
       "      <th>5246072</th>\n",
       "      <td>10333</td>\n",
       "      <td>2021-12-24 19:00:00</td>\n",
       "      <td>39.8</td>\n",
       "      <td>VA</td>\n",
       "      <td>1</td>\n",
       "    </tr>\n",
       "    <tr>\n",
       "      <th>5246073</th>\n",
       "      <td>10331</td>\n",
       "      <td>2021-12-20 18:00:00</td>\n",
       "      <td>27.6</td>\n",
       "      <td>VA</td>\n",
       "      <td>1</td>\n",
       "    </tr>\n",
       "    <tr>\n",
       "      <th>5246074</th>\n",
       "      <td>10333</td>\n",
       "      <td>2021-12-25 11:00:00</td>\n",
       "      <td>84.7</td>\n",
       "      <td>VA</td>\n",
       "      <td>1</td>\n",
       "    </tr>\n",
       "    <tr>\n",
       "      <th>5246075</th>\n",
       "      <td>10331</td>\n",
       "      <td>2021-12-21 04:00:00</td>\n",
       "      <td>34.3</td>\n",
       "      <td>VA</td>\n",
       "      <td>1</td>\n",
       "    </tr>\n",
       "  </tbody>\n",
       "</table>\n",
       "</div>"
      ],
      "text/plain": [
       "         IdSensore                Data  Valore Stato  idOperatore\n",
       "5246071      10331 2021-12-19 03:00:00    45.7    VA            1\n",
       "5246072      10333 2021-12-24 19:00:00    39.8    VA            1\n",
       "5246073      10331 2021-12-20 18:00:00    27.6    VA            1\n",
       "5246074      10333 2021-12-25 11:00:00    84.7    VA            1\n",
       "5246075      10331 2021-12-21 04:00:00    34.3    VA            1"
      ]
     },
     "execution_count": 10,
     "metadata": {},
     "output_type": "execute_result"
    }
   ],
   "source": [
    "aria_20_21 = pd.concat([aria_20, aria_21]).reset_index(drop=True)\n",
    "aria_20_21.tail()"
   ]
  },
  {
   "cell_type": "markdown",
   "id": "282888bc",
   "metadata": {
    "heading_collapsed": true
   },
   "source": [
    "## Sensori qualità dell'aria"
   ]
  },
  {
   "cell_type": "markdown",
   "id": "bafeeb6a",
   "metadata": {
    "hidden": true
   },
   "source": [
    "##### Attributi: \n",
    "- IdSensore\n",
    "    - Foreign Key con vincolo di integrità referenziale a `IdSensore` di aria_21\n",
    "    - Testo normale\n",
    "- NomeTipoSensore\t\n",
    "    - Grandezza misurata\n",
    "    - Testo normale\n",
    "- Unità DiMisura\t\n",
    "    - Unità di misura della grandezza\n",
    "    - Testo normale\n",
    "- IdStazione\t\n",
    "    - Numero identificativo della stazione (penso perchè ogni stazione può avere più sensori)\n",
    "    - Testo normale\n",
    "- NomeStazione\t\n",
    "    - Località della stazione (Spesso è 'Comune via' o 'Comune località)'\n",
    "    - Testo normale\n",
    "- Quota\t\n",
    "    - Altitudine\n",
    "    - Numero\n",
    "- Provincia\n",
    "    - Sigla della provincia\n",
    "    - Testo normale\n",
    "- DataStart\t\n",
    "    - Data e ora\n",
    "- DataStop\t\n",
    "    - Data e ora\n",
    "- Storico\t\n",
    "    - Noto che assume valori N e S ma non capisco cosa sia\n",
    "    - Testo normale\n",
    "- UTM_Nord\t\n",
    "    - Coordinata UTM nord (le cordinate utm permettono di individuare univocamente un punto sulla cartina terrestre)\n",
    "    - Testo normale\n",
    "- UTM_Est\t\n",
    "    - Coordinata UTM est\n",
    "    - Testo normale\n",
    "- lng\t\n",
    "    - Longitudine (senza simbolo gradi)\n",
    "    - Numero\n",
    "- lat\t\n",
    "    - Latitudine (senza simbolo gradi)\n",
    "    - Numero\n",
    "- location\t\n",
    "    - (latitudine°, longitudine°)\n",
    "    - Posizione"
   ]
  },
  {
   "cell_type": "code",
   "execution_count": 11,
   "id": "5d433113",
   "metadata": {
    "ExecuteTime": {
     "end_time": "2022-01-13T16:53:51.779496Z",
     "start_time": "2022-01-13T16:53:51.748496Z"
    },
    "hidden": true
   },
   "outputs": [
    {
     "data": {
      "text/html": [
       "<div>\n",
       "<style scoped>\n",
       "    .dataframe tbody tr th:only-of-type {\n",
       "        vertical-align: middle;\n",
       "    }\n",
       "\n",
       "    .dataframe tbody tr th {\n",
       "        vertical-align: top;\n",
       "    }\n",
       "\n",
       "    .dataframe thead th {\n",
       "        text-align: right;\n",
       "    }\n",
       "</style>\n",
       "<table border=\"1\" class=\"dataframe\">\n",
       "  <thead>\n",
       "    <tr style=\"text-align: right;\">\n",
       "      <th></th>\n",
       "      <th>IdSensore</th>\n",
       "      <th>NomeTipoSensore</th>\n",
       "      <th>UnitaMisura</th>\n",
       "      <th>Idstazione</th>\n",
       "      <th>NomeStazione</th>\n",
       "      <th>Quota</th>\n",
       "      <th>Provincia</th>\n",
       "      <th>Comune</th>\n",
       "      <th>Storico</th>\n",
       "      <th>DataStart</th>\n",
       "      <th>DataStop</th>\n",
       "      <th>Utm_Nord</th>\n",
       "      <th>UTM_Est</th>\n",
       "      <th>lat</th>\n",
       "      <th>lng</th>\n",
       "      <th>location</th>\n",
       "    </tr>\n",
       "  </thead>\n",
       "  <tbody>\n",
       "    <tr>\n",
       "      <th>961</th>\n",
       "      <td>6606</td>\n",
       "      <td>Particolato Totale Sospeso</td>\n",
       "      <td>µg/m³</td>\n",
       "      <td>591</td>\n",
       "      <td>Seriate v. Garibaldi</td>\n",
       "      <td>256.0</td>\n",
       "      <td>BG</td>\n",
       "      <td>Seriate</td>\n",
       "      <td>S</td>\n",
       "      <td>1991-11-20</td>\n",
       "      <td>2000-01-27</td>\n",
       "      <td>5059449</td>\n",
       "      <td>555672</td>\n",
       "      <td>45.686356</td>\n",
       "      <td>9.714948</td>\n",
       "      <td>(45.68635606439914, 9.714947917631529)</td>\n",
       "    </tr>\n",
       "    <tr>\n",
       "      <th>962</th>\n",
       "      <td>6382</td>\n",
       "      <td>Ossidi di Azoto</td>\n",
       "      <td>µg/m³</td>\n",
       "      <td>569</td>\n",
       "      <td>Sondrio v.Mazzini</td>\n",
       "      <td>307.0</td>\n",
       "      <td>SO</td>\n",
       "      <td>Sondrio</td>\n",
       "      <td>N</td>\n",
       "      <td>1993-01-11</td>\n",
       "      <td>NaT</td>\n",
       "      <td>5113078</td>\n",
       "      <td>567173</td>\n",
       "      <td>46.167967</td>\n",
       "      <td>9.870144</td>\n",
       "      <td>(46.16796681227828, 9.87014407497457)</td>\n",
       "    </tr>\n",
       "    <tr>\n",
       "      <th>963</th>\n",
       "      <td>6607</td>\n",
       "      <td>Particolato Totale Sospeso</td>\n",
       "      <td>µg/m³</td>\n",
       "      <td>591</td>\n",
       "      <td>Seriate v. Garibaldi</td>\n",
       "      <td>256.0</td>\n",
       "      <td>BG</td>\n",
       "      <td>Seriate</td>\n",
       "      <td>S</td>\n",
       "      <td>2000-07-09</td>\n",
       "      <td>2002-04-04</td>\n",
       "      <td>5059449</td>\n",
       "      <td>555672</td>\n",
       "      <td>45.686356</td>\n",
       "      <td>9.714948</td>\n",
       "      <td>(45.68635606439914, 9.714947917631529)</td>\n",
       "    </tr>\n",
       "    <tr>\n",
       "      <th>964</th>\n",
       "      <td>20523</td>\n",
       "      <td>Ammoniaca</td>\n",
       "      <td>µg/m³</td>\n",
       "      <td>583</td>\n",
       "      <td>Bergamo v.Meucci</td>\n",
       "      <td>249.0</td>\n",
       "      <td>BG</td>\n",
       "      <td>Bergamo</td>\n",
       "      <td>N</td>\n",
       "      <td>NaT</td>\n",
       "      <td>NaT</td>\n",
       "      <td>5059922</td>\n",
       "      <td>550116</td>\n",
       "      <td>45.691037</td>\n",
       "      <td>9.643651</td>\n",
       "      <td>(45.69103740547214, 9.643650579461385)</td>\n",
       "    </tr>\n",
       "    <tr>\n",
       "      <th>965</th>\n",
       "      <td>12597</td>\n",
       "      <td>Cadmio</td>\n",
       "      <td>ng/m³</td>\n",
       "      <td>609</td>\n",
       "      <td>Casirate d'Adda v. Cimitero</td>\n",
       "      <td>108.0</td>\n",
       "      <td>BG</td>\n",
       "      <td>Casirate d'Adda</td>\n",
       "      <td>N</td>\n",
       "      <td>2008-04-24</td>\n",
       "      <td>NaT</td>\n",
       "      <td>5038450</td>\n",
       "      <td>543458</td>\n",
       "      <td>45.498227</td>\n",
       "      <td>9.556232</td>\n",
       "      <td>(45.49822713394494, 9.556232262351761)</td>\n",
       "    </tr>\n",
       "  </tbody>\n",
       "</table>\n",
       "</div>"
      ],
      "text/plain": [
       "     IdSensore             NomeTipoSensore UnitaMisura  Idstazione  \\\n",
       "961       6606  Particolato Totale Sospeso       µg/m³         591   \n",
       "962       6382             Ossidi di Azoto       µg/m³         569   \n",
       "963       6607  Particolato Totale Sospeso       µg/m³         591   \n",
       "964      20523                   Ammoniaca       µg/m³         583   \n",
       "965      12597                      Cadmio       ng/m³         609   \n",
       "\n",
       "                    NomeStazione  Quota Provincia           Comune Storico  \\\n",
       "961         Seriate v. Garibaldi  256.0        BG          Seriate       S   \n",
       "962            Sondrio v.Mazzini  307.0        SO          Sondrio       N   \n",
       "963         Seriate v. Garibaldi  256.0        BG          Seriate       S   \n",
       "964             Bergamo v.Meucci  249.0        BG          Bergamo       N   \n",
       "965  Casirate d'Adda v. Cimitero  108.0        BG  Casirate d'Adda       N   \n",
       "\n",
       "     DataStart   DataStop  Utm_Nord  UTM_Est        lat       lng  \\\n",
       "961 1991-11-20 2000-01-27   5059449   555672  45.686356  9.714948   \n",
       "962 1993-01-11        NaT   5113078   567173  46.167967  9.870144   \n",
       "963 2000-07-09 2002-04-04   5059449   555672  45.686356  9.714948   \n",
       "964        NaT        NaT   5059922   550116  45.691037  9.643651   \n",
       "965 2008-04-24        NaT   5038450   543458  45.498227  9.556232   \n",
       "\n",
       "                                   location  \n",
       "961  (45.68635606439914, 9.714947917631529)  \n",
       "962   (46.16796681227828, 9.87014407497457)  \n",
       "963  (45.68635606439914, 9.714947917631529)  \n",
       "964  (45.69103740547214, 9.643650579461385)  \n",
       "965  (45.49822713394494, 9.556232262351761)  "
      ]
     },
     "execution_count": 11,
     "metadata": {},
     "output_type": "execute_result"
    }
   ],
   "source": [
    "sensori_aria = pd.read_csv(f'{path}Stazioni_qualita_dell_aria.csv',\n",
    "                           parse_dates=['DataStart', 'DataStop'])\n",
    "sensori_aria.tail()"
   ]
  },
  {
   "cell_type": "code",
   "execution_count": 12,
   "id": "81dfb734",
   "metadata": {
    "ExecuteTime": {
     "end_time": "2022-01-13T16:53:51.795494Z",
     "start_time": "2022-01-13T16:53:51.780499Z"
    },
    "hidden": true,
    "scrolled": true
   },
   "outputs": [
    {
     "data": {
      "text/plain": [
       "IdSensore                   int64\n",
       "NomeTipoSensore            object\n",
       "UnitaMisura                object\n",
       "Idstazione                  int64\n",
       "NomeStazione               object\n",
       "Quota                     float64\n",
       "Provincia                  object\n",
       "Comune                     object\n",
       "Storico                    object\n",
       "DataStart          datetime64[ns]\n",
       "DataStop           datetime64[ns]\n",
       "Utm_Nord                    int64\n",
       "UTM_Est                     int64\n",
       "lat                       float64\n",
       "lng                       float64\n",
       "location                   object\n",
       "dtype: object"
      ]
     },
     "execution_count": 12,
     "metadata": {},
     "output_type": "execute_result"
    }
   ],
   "source": [
    "sensori_aria.dtypes"
   ]
  },
  {
   "cell_type": "markdown",
   "id": "5e7e09a7",
   "metadata": {
    "heading_collapsed": true
   },
   "source": [
    "## Zonizzazione"
   ]
  },
  {
   "cell_type": "code",
   "execution_count": 13,
   "id": "e2b3ff11",
   "metadata": {
    "ExecuteTime": {
     "end_time": "2022-01-13T16:53:51.827494Z",
     "start_time": "2022-01-13T16:53:51.796495Z"
    },
    "hidden": true
   },
   "outputs": [
    {
     "data": {
      "text/html": [
       "<div>\n",
       "<style scoped>\n",
       "    .dataframe tbody tr th:only-of-type {\n",
       "        vertical-align: middle;\n",
       "    }\n",
       "\n",
       "    .dataframe tbody tr th {\n",
       "        vertical-align: top;\n",
       "    }\n",
       "\n",
       "    .dataframe thead th {\n",
       "        text-align: right;\n",
       "    }\n",
       "</style>\n",
       "<table border=\"1\" class=\"dataframe\">\n",
       "  <thead>\n",
       "    <tr style=\"text-align: right;\">\n",
       "      <th></th>\n",
       "      <th>Provincia</th>\n",
       "      <th>Codice Istat</th>\n",
       "      <th>Comune</th>\n",
       "      <th>Zona</th>\n",
       "      <th>Residenti 2008</th>\n",
       "      <th>Superficie (ha)</th>\n",
       "    </tr>\n",
       "  </thead>\n",
       "  <tbody>\n",
       "    <tr>\n",
       "      <th>0</th>\n",
       "      <td>BG</td>\n",
       "      <td>16009</td>\n",
       "      <td>AMBIVERE</td>\n",
       "      <td>A</td>\n",
       "      <td>2341</td>\n",
       "      <td>327</td>\n",
       "    </tr>\n",
       "    <tr>\n",
       "      <th>1</th>\n",
       "      <td>BG</td>\n",
       "      <td>16013</td>\n",
       "      <td>ARZAGO D'ADDA</td>\n",
       "      <td>A</td>\n",
       "      <td>2836</td>\n",
       "      <td>944</td>\n",
       "    </tr>\n",
       "    <tr>\n",
       "      <th>2</th>\n",
       "      <td>BG</td>\n",
       "      <td>16018</td>\n",
       "      <td>BAGNATICA</td>\n",
       "      <td>A</td>\n",
       "      <td>4119</td>\n",
       "      <td>639</td>\n",
       "    </tr>\n",
       "    <tr>\n",
       "      <th>3</th>\n",
       "      <td>BG</td>\n",
       "      <td>16020</td>\n",
       "      <td>BARIANO</td>\n",
       "      <td>A</td>\n",
       "      <td>4396</td>\n",
       "      <td>714</td>\n",
       "    </tr>\n",
       "    <tr>\n",
       "      <th>4</th>\n",
       "      <td>BG</td>\n",
       "      <td>16021</td>\n",
       "      <td>BARZANO'</td>\n",
       "      <td>A</td>\n",
       "      <td>5178</td>\n",
       "      <td>356</td>\n",
       "    </tr>\n",
       "  </tbody>\n",
       "</table>\n",
       "</div>"
      ],
      "text/plain": [
       "  Provincia  Codice Istat         Comune Zona  Residenti 2008  Superficie (ha)\n",
       "0        BG         16009       AMBIVERE    A            2341              327\n",
       "1        BG         16013  ARZAGO D'ADDA    A            2836              944\n",
       "2        BG         16018      BAGNATICA    A            4119              639\n",
       "3        BG         16020        BARIANO    A            4396              714\n",
       "4        BG         16021       BARZANO'    A            5178              356"
      ]
     },
     "execution_count": 13,
     "metadata": {},
     "output_type": "execute_result"
    }
   ],
   "source": [
    "zonizzazione = pd.read_csv(f'{path}zonizzazione/zonizzazione_ABCD.csv')\n",
    "zonizzazione.head()"
   ]
  },
  {
   "cell_type": "code",
   "execution_count": 14,
   "id": "ab0e8872",
   "metadata": {
    "ExecuteTime": {
     "end_time": "2022-01-13T16:53:51.843497Z",
     "start_time": "2022-01-13T16:53:51.828496Z"
    },
    "hidden": true,
    "scrolled": true
   },
   "outputs": [
    {
     "data": {
      "text/plain": [
       "B         448\n",
       "C         423\n",
       "A         406\n",
       "AGG MI    107\n",
       "C D       102\n",
       "AGG BG     37\n",
       "AGG BS     20\n",
       "D           2\n",
       "Name: Zona, dtype: int64"
      ]
     },
     "execution_count": 14,
     "metadata": {},
     "output_type": "execute_result"
    }
   ],
   "source": [
    "zonizzazione['Zona'].value_counts()"
   ]
  },
  {
   "cell_type": "markdown",
   "id": "d83924c3",
   "metadata": {},
   "source": [
    "## Exploratory Data Analysis and Data Cleansing"
   ]
  },
  {
   "cell_type": "markdown",
   "id": "07b67b84",
   "metadata": {},
   "source": [
    "- verificare quali siano tutte le quantità uniche rilevate dai sensori qualità dell'aria\n",
    "- quali siano i gruppi di inquinanti principali\n",
    "- quali siano i limiti di assunzione umana (gionralieri e annuali)\n",
    "    - Vedi [qui](https://www.arpalombardia.it/Pages/Aria/Inquinanti.aspx) per limiti e piccola descrizione\n",
    "    - Vedi [qui](https://www.regione.lombardia.it/wps/portal/istituzionale/HP/DettaglioRedazionale/servizi-e-informazioni/cittadini/salute-e-prevenzione/Sicurezza-negli-ambienti-di-vita-e-di-lavoro/inquinamento-atmosferico/inquinamento-atmosferico/) per approfondimento"
   ]
  },
  {
   "cell_type": "markdown",
   "id": "94655e3c",
   "metadata": {},
   "source": [
    "Determino il numero di sensori per ogni tipologia"
   ]
  },
  {
   "cell_type": "code",
   "execution_count": 15,
   "id": "cbca3194",
   "metadata": {
    "ExecuteTime": {
     "end_time": "2022-01-13T16:53:51.859497Z",
     "start_time": "2022-01-13T16:53:51.845497Z"
    }
   },
   "outputs": [
    {
     "data": {
      "text/plain": [
       "Biossido di Azoto             166\n",
       "Ossidi di Azoto               166\n",
       "Biossido di Zolfo             125\n",
       "Monossido di Carbonio         101\n",
       "Ozono                          91\n",
       "PM10 (SM2005)                  90\n",
       "Particolato Totale Sospeso     55\n",
       "Particelle sospese PM2.5       40\n",
       "Benzene                        32\n",
       "Cadmio                         15\n",
       "Nikel                          15\n",
       "Piombo                         15\n",
       "Arsenico                       15\n",
       "Benzo(a)pirene                 15\n",
       "Ammoniaca                      14\n",
       "BlackCarbon                     4\n",
       "PM10                            4\n",
       "Monossido di Azoto              3\n",
       "Name: NomeTipoSensore, dtype: int64"
      ]
     },
     "execution_count": 15,
     "metadata": {},
     "output_type": "execute_result"
    }
   ],
   "source": [
    "sensori_aria['NomeTipoSensore'].value_counts()"
   ]
  },
  {
   "cell_type": "markdown",
   "id": "619a353b",
   "metadata": {},
   "source": [
    "- Si potrebbero considerare solo gli inquinanti **più importanti e con più stazioni**\n",
    "- Ovvero **Biossido di Azoto | PM10 (SM2005) e PM2,5 e/o Particolato totale | Ozono troposferico | Bisossido di Zolfo**\n",
    "- Facoltativi perchè non presenti nella valutazione della qualità dell'aria [qui](https://www.arpalombardia.it/Pages/Aria/Modellistica/Indice-qualit%C3%A0-aria.aspx): Monossido di carbonio e benzene"
   ]
  },
  {
   "cell_type": "markdown",
   "id": "8e7c8737",
   "metadata": {},
   "source": [
    "## Missing value e valori non validi"
   ]
  },
  {
   "cell_type": "markdown",
   "id": "b8a8e8a9",
   "metadata": {},
   "source": [
    "Voglio verificare i *dati invalidi* presenti nei due dataset dei dati"
   ]
  },
  {
   "cell_type": "code",
   "execution_count": 16,
   "id": "9367db0c",
   "metadata": {
    "ExecuteTime": {
     "end_time": "2022-01-13T16:53:51.890501Z",
     "start_time": "2022-01-13T16:53:51.861497Z"
    }
   },
   "outputs": [
    {
     "data": {
      "text/plain": [
       "108373"
      ]
     },
     "execution_count": 16,
     "metadata": {},
     "output_type": "execute_result"
    }
   ],
   "source": [
    "aria_20_21['Valore'].isna().sum()"
   ]
  },
  {
   "cell_type": "markdown",
   "id": "e4f9fc26",
   "metadata": {},
   "source": [
    "- C'é circa un 2% di NaN (c'è congruenza tra i NaN di stato e di valore)"
   ]
  },
  {
   "cell_type": "code",
   "execution_count": 17,
   "id": "94d9b0f4",
   "metadata": {
    "ExecuteTime": {
     "end_time": "2022-01-13T16:53:52.411495Z",
     "start_time": "2022-01-13T16:53:51.891495Z"
    }
   },
   "outputs": [
    {
     "data": {
      "text/plain": [
       "VA     5137703\n",
       "NaN     108373\n",
       "Name: Stato, dtype: int64"
      ]
     },
     "execution_count": 17,
     "metadata": {},
     "output_type": "execute_result"
    }
   ],
   "source": [
    "aria_20_21['Stato'].value_counts(dropna = False)"
   ]
  },
  {
   "cell_type": "markdown",
   "id": "d0367a29",
   "metadata": {},
   "source": [
    "## Riduzione dimensioni\n",
    "\n",
    "Meteo: 343 stazioni con 1262 sensori\n",
    "\n",
    "Aria: 174 stazioni con 966 sensori\n",
    "\n",
    "Zonizzazione: 9 826 141 abitanti in 1546 comuni divisi in 7 o 8 zone"
   ]
  },
  {
   "cell_type": "markdown",
   "id": "1070f28d",
   "metadata": {},
   "source": [
    "### Riduzione dimensioni `aria_20_21` (eventuale `meteo_21`)"
   ]
  },
  {
   "cell_type": "markdown",
   "id": "a26dd232",
   "metadata": {},
   "source": [
    "#### Rimozione righe mancanti\n",
    "- L'invalidità del dato è descritta sia dall'attributo `Stato` che dalla presenza di NaN in `Valore`\n",
    "- MA (VA = dato valido NA = dato invalido I dati presenti in questo archivio relativi agli ultimi 3-6 mesi, contengono ancora valori incerti che possono subire modifiche da parte degli operatori delle reti (invalidazione manuale). Il processo di validazione dei dati prevede una fase di valutazione finale che si conclude entro il 30.3 dell’anno successivo a quello di misura)"
   ]
  },
  {
   "cell_type": "code",
   "execution_count": 18,
   "id": "9fddda11",
   "metadata": {
    "ExecuteTime": {
     "end_time": "2022-01-13T16:53:52.427497Z",
     "start_time": "2022-01-13T16:53:52.412495Z"
    }
   },
   "outputs": [
    {
     "data": {
      "text/plain": [
       "(5246076, 5)"
      ]
     },
     "execution_count": 18,
     "metadata": {},
     "output_type": "execute_result"
    }
   ],
   "source": [
    "#aria_20_21.dropna(subset = ['Valore', 'Stato'], inplace = True) #é meglio non farla cosi le avg possono restituire anche NaN\n",
    "#aria_20_21.reset_index(drop=True, inplace=True)\n",
    "aria_20_21.shape"
   ]
  },
  {
   "cell_type": "markdown",
   "id": "874e7003",
   "metadata": {},
   "source": [
    "#### Rimozione sensori di grandezze minori\n",
    "- da `stazioni_aria` e `aria_20_21` trovare solo gli `IdSensore` di tipologia utile\n",
    "- Biossido di Azoto | PM10 (SM2005) e PM2,5 e/o Particolato totale | Ozono troposferico | Bisossido di Zolfo \n",
    "- Come categorie minori decido di tenere momentaneamente *Monossido di carbonio, benzene, Ossidi di Azoto e PM10*"
   ]
  },
  {
   "cell_type": "code",
   "execution_count": 19,
   "id": "a8200540",
   "metadata": {
    "ExecuteTime": {
     "end_time": "2022-01-13T16:53:52.443497Z",
     "start_time": "2022-01-13T16:53:52.429495Z"
    }
   },
   "outputs": [
    {
     "data": {
      "text/plain": [
       "Biossido di Azoto             166\n",
       "Ossidi di Azoto               166\n",
       "Biossido di Zolfo             125\n",
       "Monossido di Carbonio         101\n",
       "Ozono                          91\n",
       "PM10 (SM2005)                  90\n",
       "Particolato Totale Sospeso     55\n",
       "Particelle sospese PM2.5       40\n",
       "Benzene                        32\n",
       "Cadmio                         15\n",
       "Nikel                          15\n",
       "Piombo                         15\n",
       "Arsenico                       15\n",
       "Benzo(a)pirene                 15\n",
       "Ammoniaca                      14\n",
       "BlackCarbon                     4\n",
       "PM10                            4\n",
       "Monossido di Azoto              3\n",
       "Name: NomeTipoSensore, dtype: int64"
      ]
     },
     "execution_count": 19,
     "metadata": {},
     "output_type": "execute_result"
    }
   ],
   "source": [
    "sensori_aria['NomeTipoSensore'].value_counts()"
   ]
  },
  {
   "cell_type": "code",
   "execution_count": 20,
   "id": "205823f0",
   "metadata": {
    "ExecuteTime": {
     "end_time": "2022-01-13T16:53:52.491495Z",
     "start_time": "2022-01-13T16:53:52.445498Z"
    }
   },
   "outputs": [
    {
     "data": {
      "text/html": [
       "<div>\n",
       "<style scoped>\n",
       "    .dataframe tbody tr th:only-of-type {\n",
       "        vertical-align: middle;\n",
       "    }\n",
       "\n",
       "    .dataframe tbody tr th {\n",
       "        vertical-align: top;\n",
       "    }\n",
       "\n",
       "    .dataframe thead th {\n",
       "        text-align: right;\n",
       "    }\n",
       "</style>\n",
       "<table border=\"1\" class=\"dataframe\">\n",
       "  <thead>\n",
       "    <tr style=\"text-align: right;\">\n",
       "      <th></th>\n",
       "      <th>IdSensore</th>\n",
       "      <th>NomeTipoSensore</th>\n",
       "      <th>UnitaMisura</th>\n",
       "      <th>Idstazione</th>\n",
       "      <th>NomeStazione</th>\n",
       "      <th>Quota</th>\n",
       "      <th>Provincia</th>\n",
       "      <th>Comune</th>\n",
       "      <th>Storico</th>\n",
       "      <th>DataStart</th>\n",
       "      <th>DataStop</th>\n",
       "      <th>Utm_Nord</th>\n",
       "      <th>UTM_Est</th>\n",
       "      <th>lat</th>\n",
       "      <th>lng</th>\n",
       "      <th>location</th>\n",
       "    </tr>\n",
       "  </thead>\n",
       "  <tbody>\n",
       "    <tr>\n",
       "      <th>0</th>\n",
       "      <td>17286</td>\n",
       "      <td>Biossido di Azoto</td>\n",
       "      <td>µg/m³</td>\n",
       "      <td>1374</td>\n",
       "      <td>Monza Parco</td>\n",
       "      <td>181.0</td>\n",
       "      <td>MB</td>\n",
       "      <td>Monza</td>\n",
       "      <td>N</td>\n",
       "      <td>2013-01-05</td>\n",
       "      <td>NaT</td>\n",
       "      <td>5049780</td>\n",
       "      <td>521452</td>\n",
       "      <td>45.601232</td>\n",
       "      <td>9.275073</td>\n",
       "      <td>(45.60123219955139, 9.27507265782848)</td>\n",
       "    </tr>\n",
       "    <tr>\n",
       "      <th>1</th>\n",
       "      <td>17290</td>\n",
       "      <td>PM10 (SM2005)</td>\n",
       "      <td>µg/m³</td>\n",
       "      <td>1374</td>\n",
       "      <td>Monza Parco</td>\n",
       "      <td>181.0</td>\n",
       "      <td>MB</td>\n",
       "      <td>Monza</td>\n",
       "      <td>N</td>\n",
       "      <td>2013-02-15</td>\n",
       "      <td>NaT</td>\n",
       "      <td>5049780</td>\n",
       "      <td>521452</td>\n",
       "      <td>45.601232</td>\n",
       "      <td>9.275073</td>\n",
       "      <td>(45.60123219955139, 9.27507265782848)</td>\n",
       "    </tr>\n",
       "    <tr>\n",
       "      <th>2</th>\n",
       "      <td>17285</td>\n",
       "      <td>Ossidi di Azoto</td>\n",
       "      <td>µg/m³</td>\n",
       "      <td>1374</td>\n",
       "      <td>Monza Parco</td>\n",
       "      <td>181.0</td>\n",
       "      <td>MB</td>\n",
       "      <td>Monza</td>\n",
       "      <td>N</td>\n",
       "      <td>2013-01-05</td>\n",
       "      <td>NaT</td>\n",
       "      <td>5049780</td>\n",
       "      <td>521452</td>\n",
       "      <td>45.601232</td>\n",
       "      <td>9.275073</td>\n",
       "      <td>(45.60123219955139, 9.27507265782848)</td>\n",
       "    </tr>\n",
       "    <tr>\n",
       "      <th>3</th>\n",
       "      <td>17288</td>\n",
       "      <td>Ozono</td>\n",
       "      <td>µg/m³</td>\n",
       "      <td>1374</td>\n",
       "      <td>Monza Parco</td>\n",
       "      <td>181.0</td>\n",
       "      <td>MB</td>\n",
       "      <td>Monza</td>\n",
       "      <td>N</td>\n",
       "      <td>2013-09-02</td>\n",
       "      <td>NaT</td>\n",
       "      <td>5049780</td>\n",
       "      <td>521452</td>\n",
       "      <td>45.601232</td>\n",
       "      <td>9.275073</td>\n",
       "      <td>(45.60123219955139, 9.27507265782848)</td>\n",
       "    </tr>\n",
       "    <tr>\n",
       "      <th>4</th>\n",
       "      <td>10112</td>\n",
       "      <td>Ozono</td>\n",
       "      <td>µg/m³</td>\n",
       "      <td>698</td>\n",
       "      <td>Ceneselli v. Moro</td>\n",
       "      <td>13.0</td>\n",
       "      <td>RO</td>\n",
       "      <td>Ceneselli</td>\n",
       "      <td>S</td>\n",
       "      <td>2006-11-28</td>\n",
       "      <td>2017-01-01</td>\n",
       "      <td>4987161</td>\n",
       "      <td>686934</td>\n",
       "      <td>45.013257</td>\n",
       "      <td>11.372345</td>\n",
       "      <td>(45.01325676849334, 11.372344948058235)</td>\n",
       "    </tr>\n",
       "    <tr>\n",
       "      <th>...</th>\n",
       "      <td>...</td>\n",
       "      <td>...</td>\n",
       "      <td>...</td>\n",
       "      <td>...</td>\n",
       "      <td>...</td>\n",
       "      <td>...</td>\n",
       "      <td>...</td>\n",
       "      <td>...</td>\n",
       "      <td>...</td>\n",
       "      <td>...</td>\n",
       "      <td>...</td>\n",
       "      <td>...</td>\n",
       "      <td>...</td>\n",
       "      <td>...</td>\n",
       "      <td>...</td>\n",
       "      <td>...</td>\n",
       "    </tr>\n",
       "    <tr>\n",
       "      <th>861</th>\n",
       "      <td>6288</td>\n",
       "      <td>Ossidi di Azoto</td>\n",
       "      <td>µg/m³</td>\n",
       "      <td>551</td>\n",
       "      <td>Arconate v. De Gasperi</td>\n",
       "      <td>182.0</td>\n",
       "      <td>MI</td>\n",
       "      <td>Arconate</td>\n",
       "      <td>N</td>\n",
       "      <td>1999-01-20</td>\n",
       "      <td>NaT</td>\n",
       "      <td>5043898</td>\n",
       "      <td>488082</td>\n",
       "      <td>45.548517</td>\n",
       "      <td>8.847322</td>\n",
       "      <td>(45.54851735741946, 8.847321929216262)</td>\n",
       "    </tr>\n",
       "    <tr>\n",
       "      <th>862</th>\n",
       "      <td>6614</td>\n",
       "      <td>Particolato Totale Sospeso</td>\n",
       "      <td>µg/m³</td>\n",
       "      <td>584</td>\n",
       "      <td>Bergamo v.Garibaldi</td>\n",
       "      <td>249.0</td>\n",
       "      <td>BG</td>\n",
       "      <td>Bergamo</td>\n",
       "      <td>S</td>\n",
       "      <td>1994-06-15</td>\n",
       "      <td>2005-10-21</td>\n",
       "      <td>5060449</td>\n",
       "      <td>551482</td>\n",
       "      <td>45.695680</td>\n",
       "      <td>9.661249</td>\n",
       "      <td>(45.69568034432694, 9.66124914606551)</td>\n",
       "    </tr>\n",
       "    <tr>\n",
       "      <th>863</th>\n",
       "      <td>6606</td>\n",
       "      <td>Particolato Totale Sospeso</td>\n",
       "      <td>µg/m³</td>\n",
       "      <td>591</td>\n",
       "      <td>Seriate v. Garibaldi</td>\n",
       "      <td>256.0</td>\n",
       "      <td>BG</td>\n",
       "      <td>Seriate</td>\n",
       "      <td>S</td>\n",
       "      <td>1991-11-20</td>\n",
       "      <td>2000-01-27</td>\n",
       "      <td>5059449</td>\n",
       "      <td>555672</td>\n",
       "      <td>45.686356</td>\n",
       "      <td>9.714948</td>\n",
       "      <td>(45.68635606439914, 9.714947917631529)</td>\n",
       "    </tr>\n",
       "    <tr>\n",
       "      <th>864</th>\n",
       "      <td>6382</td>\n",
       "      <td>Ossidi di Azoto</td>\n",
       "      <td>µg/m³</td>\n",
       "      <td>569</td>\n",
       "      <td>Sondrio v.Mazzini</td>\n",
       "      <td>307.0</td>\n",
       "      <td>SO</td>\n",
       "      <td>Sondrio</td>\n",
       "      <td>N</td>\n",
       "      <td>1993-01-11</td>\n",
       "      <td>NaT</td>\n",
       "      <td>5113078</td>\n",
       "      <td>567173</td>\n",
       "      <td>46.167967</td>\n",
       "      <td>9.870144</td>\n",
       "      <td>(46.16796681227828, 9.87014407497457)</td>\n",
       "    </tr>\n",
       "    <tr>\n",
       "      <th>865</th>\n",
       "      <td>6607</td>\n",
       "      <td>Particolato Totale Sospeso</td>\n",
       "      <td>µg/m³</td>\n",
       "      <td>591</td>\n",
       "      <td>Seriate v. Garibaldi</td>\n",
       "      <td>256.0</td>\n",
       "      <td>BG</td>\n",
       "      <td>Seriate</td>\n",
       "      <td>S</td>\n",
       "      <td>2000-07-09</td>\n",
       "      <td>2002-04-04</td>\n",
       "      <td>5059449</td>\n",
       "      <td>555672</td>\n",
       "      <td>45.686356</td>\n",
       "      <td>9.714948</td>\n",
       "      <td>(45.68635606439914, 9.714947917631529)</td>\n",
       "    </tr>\n",
       "  </tbody>\n",
       "</table>\n",
       "<p>866 rows × 16 columns</p>\n",
       "</div>"
      ],
      "text/plain": [
       "     IdSensore             NomeTipoSensore UnitaMisura  Idstazione  \\\n",
       "0        17286           Biossido di Azoto       µg/m³        1374   \n",
       "1        17290               PM10 (SM2005)       µg/m³        1374   \n",
       "2        17285             Ossidi di Azoto       µg/m³        1374   \n",
       "3        17288                       Ozono       µg/m³        1374   \n",
       "4        10112                       Ozono       µg/m³         698   \n",
       "..         ...                         ...         ...         ...   \n",
       "861       6288             Ossidi di Azoto       µg/m³         551   \n",
       "862       6614  Particolato Totale Sospeso       µg/m³         584   \n",
       "863       6606  Particolato Totale Sospeso       µg/m³         591   \n",
       "864       6382             Ossidi di Azoto       µg/m³         569   \n",
       "865       6607  Particolato Totale Sospeso       µg/m³         591   \n",
       "\n",
       "               NomeStazione  Quota Provincia     Comune Storico  DataStart  \\\n",
       "0               Monza Parco  181.0        MB      Monza       N 2013-01-05   \n",
       "1               Monza Parco  181.0        MB      Monza       N 2013-02-15   \n",
       "2               Monza Parco  181.0        MB      Monza       N 2013-01-05   \n",
       "3               Monza Parco  181.0        MB      Monza       N 2013-09-02   \n",
       "4         Ceneselli v. Moro   13.0        RO  Ceneselli       S 2006-11-28   \n",
       "..                      ...    ...       ...        ...     ...        ...   \n",
       "861  Arconate v. De Gasperi  182.0        MI   Arconate       N 1999-01-20   \n",
       "862     Bergamo v.Garibaldi  249.0        BG    Bergamo       S 1994-06-15   \n",
       "863    Seriate v. Garibaldi  256.0        BG    Seriate       S 1991-11-20   \n",
       "864       Sondrio v.Mazzini  307.0        SO    Sondrio       N 1993-01-11   \n",
       "865    Seriate v. Garibaldi  256.0        BG    Seriate       S 2000-07-09   \n",
       "\n",
       "      DataStop  Utm_Nord  UTM_Est        lat        lng  \\\n",
       "0          NaT   5049780   521452  45.601232   9.275073   \n",
       "1          NaT   5049780   521452  45.601232   9.275073   \n",
       "2          NaT   5049780   521452  45.601232   9.275073   \n",
       "3          NaT   5049780   521452  45.601232   9.275073   \n",
       "4   2017-01-01   4987161   686934  45.013257  11.372345   \n",
       "..         ...       ...      ...        ...        ...   \n",
       "861        NaT   5043898   488082  45.548517   8.847322   \n",
       "862 2005-10-21   5060449   551482  45.695680   9.661249   \n",
       "863 2000-01-27   5059449   555672  45.686356   9.714948   \n",
       "864        NaT   5113078   567173  46.167967   9.870144   \n",
       "865 2002-04-04   5059449   555672  45.686356   9.714948   \n",
       "\n",
       "                                    location  \n",
       "0      (45.60123219955139, 9.27507265782848)  \n",
       "1      (45.60123219955139, 9.27507265782848)  \n",
       "2      (45.60123219955139, 9.27507265782848)  \n",
       "3      (45.60123219955139, 9.27507265782848)  \n",
       "4    (45.01325676849334, 11.372344948058235)  \n",
       "..                                       ...  \n",
       "861   (45.54851735741946, 8.847321929216262)  \n",
       "862    (45.69568034432694, 9.66124914606551)  \n",
       "863   (45.68635606439914, 9.714947917631529)  \n",
       "864    (46.16796681227828, 9.87014407497457)  \n",
       "865   (45.68635606439914, 9.714947917631529)  \n",
       "\n",
       "[866 rows x 16 columns]"
      ]
     },
     "execution_count": 20,
     "metadata": {},
     "output_type": "execute_result"
    }
   ],
   "source": [
    "grandezze_di_interesse = ['Biossido di Azoto',\n",
    " 'PM10 (SM2005)',\n",
    " 'Ossidi di Azoto',\n",
    " 'Ozono',\n",
    " 'Biossido di Zolfo',\n",
    " 'Particolato Totale Sospeso',\n",
    " 'Monossido di Carbonio',\n",
    " 'Particelle sospese PM2.5',\n",
    " 'Benzene']\n",
    "sensori_aria.drop(sensori_aria[~sensori_aria['NomeTipoSensore'].isin(grandezze_di_interesse)].index, inplace = True)\n",
    "sensori_aria.reset_index(drop=True, inplace=True)\n",
    "sensori_aria"
   ]
  },
  {
   "cell_type": "markdown",
   "id": "24f4a62c",
   "metadata": {},
   "source": [
    "#### Rimozione righe con idoperatore assurdo"
   ]
  },
  {
   "cell_type": "code",
   "execution_count": 21,
   "id": "ed8870f6",
   "metadata": {
    "ExecuteTime": {
     "end_time": "2022-01-13T16:53:52.634497Z",
     "start_time": "2022-01-13T16:53:52.492495Z"
    }
   },
   "outputs": [
    {
     "data": {
      "text/plain": [
       "idOperatore\n",
       "1        5246075\n",
       "15504          1\n",
       "dtype: int64"
      ]
     },
     "execution_count": 21,
     "metadata": {},
     "output_type": "execute_result"
    }
   ],
   "source": [
    "aria_20_21.value_counts('idOperatore')"
   ]
  },
  {
   "cell_type": "code",
   "execution_count": 22,
   "id": "41e4dde3",
   "metadata": {
    "ExecuteTime": {
     "end_time": "2022-01-13T16:53:53.081590Z",
     "start_time": "2022-01-13T16:53:52.635498Z"
    }
   },
   "outputs": [],
   "source": [
    "aria_20_21.drop(aria_20_21[aria_20_21.idOperatore == 15504].index, inplace=True)\n",
    "aria_20_21.reset_index(drop=True, inplace=True)"
   ]
  },
  {
   "cell_type": "markdown",
   "id": "c367220f",
   "metadata": {},
   "source": [
    "# Data preparation"
   ]
  },
  {
   "cell_type": "markdown",
   "id": "bf3722b4",
   "metadata": {},
   "source": [
    "## Grouping e calcolo grandezze aggegate (GROUP by per id_sensore e giorno)\n",
    "\n",
    "- Raggruppo per `IdSensore` e `Data`(giorno)\n",
    "- Calcolo grandezze aggregate\n",
    "    - Calcolo il valore medio e la deviazione standard del `Valore` registrato dal senbsore\n",
    "    - Importante sottolineare che le funzioni `mean, count e std` di pandas NON tengono conto dei Na, quindi i valori che vediamo sono esatti\n"
   ]
  },
  {
   "cell_type": "code",
   "execution_count": 23,
   "id": "38d40685",
   "metadata": {
    "ExecuteTime": {
     "end_time": "2022-01-13T16:53:56.228496Z",
     "start_time": "2022-01-13T16:53:53.086495Z"
    }
   },
   "outputs": [
    {
     "data": {
      "text/html": [
       "<div>\n",
       "<style scoped>\n",
       "    .dataframe tbody tr th:only-of-type {\n",
       "        vertical-align: middle;\n",
       "    }\n",
       "\n",
       "    .dataframe tbody tr th {\n",
       "        vertical-align: top;\n",
       "    }\n",
       "\n",
       "    .dataframe thead th {\n",
       "        text-align: right;\n",
       "    }\n",
       "</style>\n",
       "<table border=\"1\" class=\"dataframe\">\n",
       "  <thead>\n",
       "    <tr style=\"text-align: right;\">\n",
       "      <th></th>\n",
       "      <th>IdSensore</th>\n",
       "      <th>Data</th>\n",
       "      <th>Valore_MEAN_id_day</th>\n",
       "      <th>Valore_COUNT_id_day</th>\n",
       "      <th>Valore_STD_id_day</th>\n",
       "    </tr>\n",
       "  </thead>\n",
       "  <tbody>\n",
       "    <tr>\n",
       "      <th>0</th>\n",
       "      <td>5504</td>\n",
       "      <td>2020-01-01</td>\n",
       "      <td>107.595833</td>\n",
       "      <td>24</td>\n",
       "      <td>20.571624</td>\n",
       "    </tr>\n",
       "    <tr>\n",
       "      <th>1</th>\n",
       "      <td>5504</td>\n",
       "      <td>2020-01-02</td>\n",
       "      <td>79.170833</td>\n",
       "      <td>24</td>\n",
       "      <td>20.404613</td>\n",
       "    </tr>\n",
       "    <tr>\n",
       "      <th>2</th>\n",
       "      <td>5504</td>\n",
       "      <td>2020-01-03</td>\n",
       "      <td>72.254167</td>\n",
       "      <td>24</td>\n",
       "      <td>9.209729</td>\n",
       "    </tr>\n",
       "    <tr>\n",
       "      <th>3</th>\n",
       "      <td>5504</td>\n",
       "      <td>2020-01-04</td>\n",
       "      <td>55.854167</td>\n",
       "      <td>24</td>\n",
       "      <td>11.673343</td>\n",
       "    </tr>\n",
       "    <tr>\n",
       "      <th>4</th>\n",
       "      <td>5504</td>\n",
       "      <td>2020-01-05</td>\n",
       "      <td>68.937500</td>\n",
       "      <td>24</td>\n",
       "      <td>13.724171</td>\n",
       "    </tr>\n",
       "    <tr>\n",
       "      <th>...</th>\n",
       "      <td>...</td>\n",
       "      <td>...</td>\n",
       "      <td>...</td>\n",
       "      <td>...</td>\n",
       "      <td>...</td>\n",
       "    </tr>\n",
       "    <tr>\n",
       "      <th>313943</th>\n",
       "      <td>30166</td>\n",
       "      <td>2021-12-23</td>\n",
       "      <td>3.600000</td>\n",
       "      <td>1</td>\n",
       "      <td>NaN</td>\n",
       "    </tr>\n",
       "    <tr>\n",
       "      <th>313944</th>\n",
       "      <td>30166</td>\n",
       "      <td>2021-12-24</td>\n",
       "      <td>3.100000</td>\n",
       "      <td>1</td>\n",
       "      <td>NaN</td>\n",
       "    </tr>\n",
       "    <tr>\n",
       "      <th>313945</th>\n",
       "      <td>30166</td>\n",
       "      <td>2021-12-25</td>\n",
       "      <td>3.300000</td>\n",
       "      <td>1</td>\n",
       "      <td>NaN</td>\n",
       "    </tr>\n",
       "    <tr>\n",
       "      <th>313946</th>\n",
       "      <td>30166</td>\n",
       "      <td>2021-12-26</td>\n",
       "      <td>3.100000</td>\n",
       "      <td>1</td>\n",
       "      <td>NaN</td>\n",
       "    </tr>\n",
       "    <tr>\n",
       "      <th>313947</th>\n",
       "      <td>30166</td>\n",
       "      <td>2021-12-27</td>\n",
       "      <td>2.400000</td>\n",
       "      <td>1</td>\n",
       "      <td>NaN</td>\n",
       "    </tr>\n",
       "  </tbody>\n",
       "</table>\n",
       "<p>313948 rows × 5 columns</p>\n",
       "</div>"
      ],
      "text/plain": [
       "        IdSensore        Data  Valore_MEAN_id_day  Valore_COUNT_id_day  \\\n",
       "0            5504  2020-01-01          107.595833                   24   \n",
       "1            5504  2020-01-02           79.170833                   24   \n",
       "2            5504  2020-01-03           72.254167                   24   \n",
       "3            5504  2020-01-04           55.854167                   24   \n",
       "4            5504  2020-01-05           68.937500                   24   \n",
       "...           ...         ...                 ...                  ...   \n",
       "313943      30166  2021-12-23            3.600000                    1   \n",
       "313944      30166  2021-12-24            3.100000                    1   \n",
       "313945      30166  2021-12-25            3.300000                    1   \n",
       "313946      30166  2021-12-26            3.100000                    1   \n",
       "313947      30166  2021-12-27            2.400000                    1   \n",
       "\n",
       "        Valore_STD_id_day  \n",
       "0               20.571624  \n",
       "1               20.404613  \n",
       "2                9.209729  \n",
       "3               11.673343  \n",
       "4               13.724171  \n",
       "...                   ...  \n",
       "313943                NaN  \n",
       "313944                NaN  \n",
       "313945                NaN  \n",
       "313946                NaN  \n",
       "313947                NaN  \n",
       "\n",
       "[313948 rows x 5 columns]"
      ]
     },
     "execution_count": 23,
     "metadata": {},
     "output_type": "execute_result"
    }
   ],
   "source": [
    "aria__id_day = aria_20_21[['IdSensore', 'Data', 'Valore']]\\\n",
    "               .groupby(['IdSensore', aria_20_21['Data'].dt.date])\\\n",
    "               .agg({'Valore': ['mean', 'count', 'std']})\\\n",
    "               .reset_index()\n",
    "\n",
    "aria__id_day.columns = ['IdSensore', 'Data', 'Valore_MEAN_id_day', 'Valore_COUNT_id_day', 'Valore_STD_id_day']\n",
    "aria__id_day"
   ]
  },
  {
   "cell_type": "markdown",
   "id": "d2e191f7",
   "metadata": {},
   "source": [
    "## Quali  medie sono significative ?"
   ]
  },
  {
   "cell_type": "markdown",
   "id": "4a7f8a6e",
   "metadata": {},
   "source": [
    "Cerco di determinare quali medie sensore/giorno, siano significative, quindi siano ottenute da un numero sufficiente di misurazioni\n",
    "- Per prima cosa verifico il numero di di medie giornaliere per sensore ottenute dal **numero massimo di misurazioni (24**, una misurazione ogni ora)"
   ]
  },
  {
   "cell_type": "code",
   "execution_count": 24,
   "id": "6a9e3243",
   "metadata": {
    "ExecuteTime": {
     "end_time": "2022-01-13T16:53:56.259497Z",
     "start_time": "2022-01-13T16:53:56.232497Z"
    }
   },
   "outputs": [
    {
     "data": {
      "text/plain": [
       "200009"
      ]
     },
     "execution_count": 24,
     "metadata": {},
     "output_type": "execute_result"
    }
   ],
   "source": [
    "aria__id_day[aria__id_day.Valore_COUNT_id_day == 24].shape[0]"
   ]
  },
  {
   "cell_type": "markdown",
   "id": "65ca2aa5",
   "metadata": {},
   "source": [
    "- Ora verifico quante di queste siano ottenute da un **solo valore**\n",
    "    - Queste potrebbero avere senso, perchè alcune misurazioni sono fornite dai sensori già mediate sull'intera giornata (o almeno dovrebbero)\n",
    "    - Come PM2.5 e PM10\n",
    "- Per questo per ora direi di non toglierle, valutiamo bene la casistica una volta effettuato il join con il dataset delle stazioni"
   ]
  },
  {
   "cell_type": "code",
   "execution_count": 25,
   "id": "4d0b760b",
   "metadata": {
    "ExecuteTime": {
     "end_time": "2022-01-13T16:53:56.275496Z",
     "start_time": "2022-01-13T16:53:56.261498Z"
    }
   },
   "outputs": [
    {
     "data": {
      "text/plain": [
       "93813"
      ]
     },
     "execution_count": 25,
     "metadata": {},
     "output_type": "execute_result"
    }
   ],
   "source": [
    "aria__id_day[aria__id_day.Valore_COUNT_id_day == 1].shape[0]"
   ]
  },
  {
   "cell_type": "markdown",
   "id": "b3110630",
   "metadata": {},
   "source": [
    "- Verifico quali medie sono ottenute da **meno di 7 misurazioni** ma **piú di 1 misurazione**\n",
    "    - Secondo me 7 ore, anche se fossero di fila e non sparse, è un dato ottimo. UNa concentrazione più o meno stabile di inquinante per 7 ore è significativa.\n",
    "    - Inoltre con 7 osservazioni penso che eventuali outliers vengano abbastanza spenti in media, comunque l’effetto non è troppo diverso da averne 15 in termini di effetto degli outliers,"
   ]
  },
  {
   "cell_type": "code",
   "execution_count": 26,
   "id": "c2b42de9",
   "metadata": {
    "ExecuteTime": {
     "end_time": "2022-01-13T16:53:56.291493Z",
     "start_time": "2022-01-13T16:53:56.276497Z"
    }
   },
   "outputs": [
    {
     "data": {
      "text/plain": [
       "311"
      ]
     },
     "execution_count": 26,
     "metadata": {},
     "output_type": "execute_result"
    }
   ],
   "source": [
    "aria__id_day[(aria__id_day.Valore_COUNT_id_day < 7) & (aria__id_day.Valore_COUNT_id_day > 1)].shape[0]"
   ]
  },
  {
   "cell_type": "markdown",
   "id": "31867bb5",
   "metadata": {},
   "source": [
    "- Verifico quali medie sono ottenute da **meno di 15 misurazioni** ma **piú di 1 misurazione** (considero un cutoff significativo)"
   ]
  },
  {
   "cell_type": "code",
   "execution_count": 27,
   "id": "325138d0",
   "metadata": {
    "ExecuteTime": {
     "end_time": "2022-01-13T16:53:56.306494Z",
     "start_time": "2022-01-13T16:53:56.293493Z"
    }
   },
   "outputs": [
    {
     "data": {
      "text/plain": [
       "3425"
      ]
     },
     "execution_count": 27,
     "metadata": {},
     "output_type": "execute_result"
    }
   ],
   "source": [
    "aria__id_day[(aria__id_day.Valore_COUNT_id_day < 15) & (aria__id_day.Valore_COUNT_id_day > 1)].shape[0]"
   ]
  },
  {
   "cell_type": "markdown",
   "id": "410bb5dd",
   "metadata": {},
   "source": [
    "- Verifico quali sono ottenute da 0 osservazioni"
   ]
  },
  {
   "cell_type": "code",
   "execution_count": 28,
   "id": "c7756d75",
   "metadata": {
    "ExecuteTime": {
     "end_time": "2022-01-13T16:53:56.322495Z",
     "start_time": "2022-01-13T16:53:56.308496Z"
    }
   },
   "outputs": [
    {
     "data": {
      "text/plain": [
       "7201"
      ]
     },
     "execution_count": 28,
     "metadata": {},
     "output_type": "execute_result"
    }
   ],
   "source": [
    "aria__id_day[aria__id_day.Valore_COUNT_id_day == 0].shape[0]"
   ]
  },
  {
   "cell_type": "markdown",
   "id": "b65aab0f",
   "metadata": {},
   "source": [
    "#### Rimozione medie ottenute da meno di 7 osservazioni"
   ]
  },
  {
   "cell_type": "code",
   "execution_count": 29,
   "id": "93645e4b",
   "metadata": {
    "ExecuteTime": {
     "end_time": "2022-01-13T16:53:56.354500Z",
     "start_time": "2022-01-13T16:53:56.323496Z"
    }
   },
   "outputs": [],
   "source": [
    "aria__id_day.drop(aria__id_day[(aria__id_day.Valore_COUNT_id_day < 7) & (aria__id_day.Valore_COUNT_id_day > 1)].index, inplace=True)\n",
    "aria__id_day.reset_index(drop=True, inplace=True)"
   ]
  },
  {
   "cell_type": "markdown",
   "id": "532a1406",
   "metadata": {},
   "source": [
    "## JOIN (aria, sensori)"
   ]
  },
  {
   "cell_type": "markdown",
   "id": "16a77ed9",
   "metadata": {},
   "source": [
    "Inner join tra `aria__id_day` e `sensori_aria` a dare `aria_sensori__id_day`"
   ]
  },
  {
   "cell_type": "code",
   "execution_count": 30,
   "id": "c524de53",
   "metadata": {
    "ExecuteTime": {
     "end_time": "2022-01-13T16:53:56.592529Z",
     "start_time": "2022-01-13T16:53:56.355496Z"
    },
    "scrolled": false
   },
   "outputs": [
    {
     "data": {
      "text/html": [
       "<div>\n",
       "<style scoped>\n",
       "    .dataframe tbody tr th:only-of-type {\n",
       "        vertical-align: middle;\n",
       "    }\n",
       "\n",
       "    .dataframe tbody tr th {\n",
       "        vertical-align: top;\n",
       "    }\n",
       "\n",
       "    .dataframe thead th {\n",
       "        text-align: right;\n",
       "    }\n",
       "</style>\n",
       "<table border=\"1\" class=\"dataframe\">\n",
       "  <thead>\n",
       "    <tr style=\"text-align: right;\">\n",
       "      <th></th>\n",
       "      <th>IdSensore</th>\n",
       "      <th>Data</th>\n",
       "      <th>Valore_MEAN_id_day</th>\n",
       "      <th>Valore_COUNT_id_day</th>\n",
       "      <th>Valore_STD_id_day</th>\n",
       "      <th>NomeTipoSensore</th>\n",
       "      <th>UnitaMisura</th>\n",
       "      <th>Idstazione</th>\n",
       "      <th>NomeStazione</th>\n",
       "      <th>Quota</th>\n",
       "      <th>Provincia</th>\n",
       "      <th>Comune</th>\n",
       "      <th>Storico</th>\n",
       "      <th>DataStart</th>\n",
       "      <th>DataStop</th>\n",
       "      <th>Utm_Nord</th>\n",
       "      <th>UTM_Est</th>\n",
       "      <th>lat</th>\n",
       "      <th>lng</th>\n",
       "      <th>location</th>\n",
       "    </tr>\n",
       "  </thead>\n",
       "  <tbody>\n",
       "    <tr>\n",
       "      <th>0</th>\n",
       "      <td>5504</td>\n",
       "      <td>2020-01-01</td>\n",
       "      <td>107.595833</td>\n",
       "      <td>24</td>\n",
       "      <td>20.571624</td>\n",
       "      <td>Biossido di Azoto</td>\n",
       "      <td>µg/m³</td>\n",
       "      <td>501</td>\n",
       "      <td>Milano v.Marche</td>\n",
       "      <td>129.0</td>\n",
       "      <td>MI</td>\n",
       "      <td>Milano</td>\n",
       "      <td>N</td>\n",
       "      <td>1980-09-18</td>\n",
       "      <td>NaT</td>\n",
       "      <td>5038105</td>\n",
       "      <td>514918</td>\n",
       "      <td>45.496316</td>\n",
       "      <td>9.190934</td>\n",
       "      <td>(45.49631644365102, 9.190933555313624)</td>\n",
       "    </tr>\n",
       "    <tr>\n",
       "      <th>1</th>\n",
       "      <td>5504</td>\n",
       "      <td>2020-01-02</td>\n",
       "      <td>79.170833</td>\n",
       "      <td>24</td>\n",
       "      <td>20.404613</td>\n",
       "      <td>Biossido di Azoto</td>\n",
       "      <td>µg/m³</td>\n",
       "      <td>501</td>\n",
       "      <td>Milano v.Marche</td>\n",
       "      <td>129.0</td>\n",
       "      <td>MI</td>\n",
       "      <td>Milano</td>\n",
       "      <td>N</td>\n",
       "      <td>1980-09-18</td>\n",
       "      <td>NaT</td>\n",
       "      <td>5038105</td>\n",
       "      <td>514918</td>\n",
       "      <td>45.496316</td>\n",
       "      <td>9.190934</td>\n",
       "      <td>(45.49631644365102, 9.190933555313624)</td>\n",
       "    </tr>\n",
       "    <tr>\n",
       "      <th>2</th>\n",
       "      <td>5504</td>\n",
       "      <td>2020-01-03</td>\n",
       "      <td>72.254167</td>\n",
       "      <td>24</td>\n",
       "      <td>9.209729</td>\n",
       "      <td>Biossido di Azoto</td>\n",
       "      <td>µg/m³</td>\n",
       "      <td>501</td>\n",
       "      <td>Milano v.Marche</td>\n",
       "      <td>129.0</td>\n",
       "      <td>MI</td>\n",
       "      <td>Milano</td>\n",
       "      <td>N</td>\n",
       "      <td>1980-09-18</td>\n",
       "      <td>NaT</td>\n",
       "      <td>5038105</td>\n",
       "      <td>514918</td>\n",
       "      <td>45.496316</td>\n",
       "      <td>9.190934</td>\n",
       "      <td>(45.49631644365102, 9.190933555313624)</td>\n",
       "    </tr>\n",
       "    <tr>\n",
       "      <th>3</th>\n",
       "      <td>5504</td>\n",
       "      <td>2020-01-04</td>\n",
       "      <td>55.854167</td>\n",
       "      <td>24</td>\n",
       "      <td>11.673343</td>\n",
       "      <td>Biossido di Azoto</td>\n",
       "      <td>µg/m³</td>\n",
       "      <td>501</td>\n",
       "      <td>Milano v.Marche</td>\n",
       "      <td>129.0</td>\n",
       "      <td>MI</td>\n",
       "      <td>Milano</td>\n",
       "      <td>N</td>\n",
       "      <td>1980-09-18</td>\n",
       "      <td>NaT</td>\n",
       "      <td>5038105</td>\n",
       "      <td>514918</td>\n",
       "      <td>45.496316</td>\n",
       "      <td>9.190934</td>\n",
       "      <td>(45.49631644365102, 9.190933555313624)</td>\n",
       "    </tr>\n",
       "    <tr>\n",
       "      <th>4</th>\n",
       "      <td>5504</td>\n",
       "      <td>2020-01-05</td>\n",
       "      <td>68.937500</td>\n",
       "      <td>24</td>\n",
       "      <td>13.724171</td>\n",
       "      <td>Biossido di Azoto</td>\n",
       "      <td>µg/m³</td>\n",
       "      <td>501</td>\n",
       "      <td>Milano v.Marche</td>\n",
       "      <td>129.0</td>\n",
       "      <td>MI</td>\n",
       "      <td>Milano</td>\n",
       "      <td>N</td>\n",
       "      <td>1980-09-18</td>\n",
       "      <td>NaT</td>\n",
       "      <td>5038105</td>\n",
       "      <td>514918</td>\n",
       "      <td>45.496316</td>\n",
       "      <td>9.190934</td>\n",
       "      <td>(45.49631644365102, 9.190933555313624)</td>\n",
       "    </tr>\n",
       "    <tr>\n",
       "      <th>...</th>\n",
       "      <td>...</td>\n",
       "      <td>...</td>\n",
       "      <td>...</td>\n",
       "      <td>...</td>\n",
       "      <td>...</td>\n",
       "      <td>...</td>\n",
       "      <td>...</td>\n",
       "      <td>...</td>\n",
       "      <td>...</td>\n",
       "      <td>...</td>\n",
       "      <td>...</td>\n",
       "      <td>...</td>\n",
       "      <td>...</td>\n",
       "      <td>...</td>\n",
       "      <td>...</td>\n",
       "      <td>...</td>\n",
       "      <td>...</td>\n",
       "      <td>...</td>\n",
       "      <td>...</td>\n",
       "      <td>...</td>\n",
       "    </tr>\n",
       "    <tr>\n",
       "      <th>300978</th>\n",
       "      <td>30166</td>\n",
       "      <td>2021-12-23</td>\n",
       "      <td>3.600000</td>\n",
       "      <td>1</td>\n",
       "      <td>NaN</td>\n",
       "      <td>Benzene</td>\n",
       "      <td>µg/m³</td>\n",
       "      <td>652</td>\n",
       "      <td>Brescia v.Turati</td>\n",
       "      <td>154.0</td>\n",
       "      <td>BS</td>\n",
       "      <td>Brescia</td>\n",
       "      <td>N</td>\n",
       "      <td>2016-01-01</td>\n",
       "      <td>NaT</td>\n",
       "      <td>5043626</td>\n",
       "      <td>596168</td>\n",
       "      <td>45.539529</td>\n",
       "      <td>10.231786</td>\n",
       "      <td>(45.539529434955995, 10.231785907477223)</td>\n",
       "    </tr>\n",
       "    <tr>\n",
       "      <th>300979</th>\n",
       "      <td>30166</td>\n",
       "      <td>2021-12-24</td>\n",
       "      <td>3.100000</td>\n",
       "      <td>1</td>\n",
       "      <td>NaN</td>\n",
       "      <td>Benzene</td>\n",
       "      <td>µg/m³</td>\n",
       "      <td>652</td>\n",
       "      <td>Brescia v.Turati</td>\n",
       "      <td>154.0</td>\n",
       "      <td>BS</td>\n",
       "      <td>Brescia</td>\n",
       "      <td>N</td>\n",
       "      <td>2016-01-01</td>\n",
       "      <td>NaT</td>\n",
       "      <td>5043626</td>\n",
       "      <td>596168</td>\n",
       "      <td>45.539529</td>\n",
       "      <td>10.231786</td>\n",
       "      <td>(45.539529434955995, 10.231785907477223)</td>\n",
       "    </tr>\n",
       "    <tr>\n",
       "      <th>300980</th>\n",
       "      <td>30166</td>\n",
       "      <td>2021-12-25</td>\n",
       "      <td>3.300000</td>\n",
       "      <td>1</td>\n",
       "      <td>NaN</td>\n",
       "      <td>Benzene</td>\n",
       "      <td>µg/m³</td>\n",
       "      <td>652</td>\n",
       "      <td>Brescia v.Turati</td>\n",
       "      <td>154.0</td>\n",
       "      <td>BS</td>\n",
       "      <td>Brescia</td>\n",
       "      <td>N</td>\n",
       "      <td>2016-01-01</td>\n",
       "      <td>NaT</td>\n",
       "      <td>5043626</td>\n",
       "      <td>596168</td>\n",
       "      <td>45.539529</td>\n",
       "      <td>10.231786</td>\n",
       "      <td>(45.539529434955995, 10.231785907477223)</td>\n",
       "    </tr>\n",
       "    <tr>\n",
       "      <th>300981</th>\n",
       "      <td>30166</td>\n",
       "      <td>2021-12-26</td>\n",
       "      <td>3.100000</td>\n",
       "      <td>1</td>\n",
       "      <td>NaN</td>\n",
       "      <td>Benzene</td>\n",
       "      <td>µg/m³</td>\n",
       "      <td>652</td>\n",
       "      <td>Brescia v.Turati</td>\n",
       "      <td>154.0</td>\n",
       "      <td>BS</td>\n",
       "      <td>Brescia</td>\n",
       "      <td>N</td>\n",
       "      <td>2016-01-01</td>\n",
       "      <td>NaT</td>\n",
       "      <td>5043626</td>\n",
       "      <td>596168</td>\n",
       "      <td>45.539529</td>\n",
       "      <td>10.231786</td>\n",
       "      <td>(45.539529434955995, 10.231785907477223)</td>\n",
       "    </tr>\n",
       "    <tr>\n",
       "      <th>300982</th>\n",
       "      <td>30166</td>\n",
       "      <td>2021-12-27</td>\n",
       "      <td>2.400000</td>\n",
       "      <td>1</td>\n",
       "      <td>NaN</td>\n",
       "      <td>Benzene</td>\n",
       "      <td>µg/m³</td>\n",
       "      <td>652</td>\n",
       "      <td>Brescia v.Turati</td>\n",
       "      <td>154.0</td>\n",
       "      <td>BS</td>\n",
       "      <td>Brescia</td>\n",
       "      <td>N</td>\n",
       "      <td>2016-01-01</td>\n",
       "      <td>NaT</td>\n",
       "      <td>5043626</td>\n",
       "      <td>596168</td>\n",
       "      <td>45.539529</td>\n",
       "      <td>10.231786</td>\n",
       "      <td>(45.539529434955995, 10.231785907477223)</td>\n",
       "    </tr>\n",
       "  </tbody>\n",
       "</table>\n",
       "<p>300983 rows × 20 columns</p>\n",
       "</div>"
      ],
      "text/plain": [
       "        IdSensore        Data  Valore_MEAN_id_day  Valore_COUNT_id_day  \\\n",
       "0            5504  2020-01-01          107.595833                   24   \n",
       "1            5504  2020-01-02           79.170833                   24   \n",
       "2            5504  2020-01-03           72.254167                   24   \n",
       "3            5504  2020-01-04           55.854167                   24   \n",
       "4            5504  2020-01-05           68.937500                   24   \n",
       "...           ...         ...                 ...                  ...   \n",
       "300978      30166  2021-12-23            3.600000                    1   \n",
       "300979      30166  2021-12-24            3.100000                    1   \n",
       "300980      30166  2021-12-25            3.300000                    1   \n",
       "300981      30166  2021-12-26            3.100000                    1   \n",
       "300982      30166  2021-12-27            2.400000                    1   \n",
       "\n",
       "        Valore_STD_id_day    NomeTipoSensore UnitaMisura  Idstazione  \\\n",
       "0               20.571624  Biossido di Azoto       µg/m³         501   \n",
       "1               20.404613  Biossido di Azoto       µg/m³         501   \n",
       "2                9.209729  Biossido di Azoto       µg/m³         501   \n",
       "3               11.673343  Biossido di Azoto       µg/m³         501   \n",
       "4               13.724171  Biossido di Azoto       µg/m³         501   \n",
       "...                   ...                ...         ...         ...   \n",
       "300978                NaN            Benzene       µg/m³         652   \n",
       "300979                NaN            Benzene       µg/m³         652   \n",
       "300980                NaN            Benzene       µg/m³         652   \n",
       "300981                NaN            Benzene       µg/m³         652   \n",
       "300982                NaN            Benzene       µg/m³         652   \n",
       "\n",
       "            NomeStazione  Quota Provincia   Comune Storico  DataStart  \\\n",
       "0        Milano v.Marche  129.0        MI   Milano       N 1980-09-18   \n",
       "1        Milano v.Marche  129.0        MI   Milano       N 1980-09-18   \n",
       "2        Milano v.Marche  129.0        MI   Milano       N 1980-09-18   \n",
       "3        Milano v.Marche  129.0        MI   Milano       N 1980-09-18   \n",
       "4        Milano v.Marche  129.0        MI   Milano       N 1980-09-18   \n",
       "...                  ...    ...       ...      ...     ...        ...   \n",
       "300978  Brescia v.Turati  154.0        BS  Brescia       N 2016-01-01   \n",
       "300979  Brescia v.Turati  154.0        BS  Brescia       N 2016-01-01   \n",
       "300980  Brescia v.Turati  154.0        BS  Brescia       N 2016-01-01   \n",
       "300981  Brescia v.Turati  154.0        BS  Brescia       N 2016-01-01   \n",
       "300982  Brescia v.Turati  154.0        BS  Brescia       N 2016-01-01   \n",
       "\n",
       "       DataStop  Utm_Nord  UTM_Est        lat        lng  \\\n",
       "0           NaT   5038105   514918  45.496316   9.190934   \n",
       "1           NaT   5038105   514918  45.496316   9.190934   \n",
       "2           NaT   5038105   514918  45.496316   9.190934   \n",
       "3           NaT   5038105   514918  45.496316   9.190934   \n",
       "4           NaT   5038105   514918  45.496316   9.190934   \n",
       "...         ...       ...      ...        ...        ...   \n",
       "300978      NaT   5043626   596168  45.539529  10.231786   \n",
       "300979      NaT   5043626   596168  45.539529  10.231786   \n",
       "300980      NaT   5043626   596168  45.539529  10.231786   \n",
       "300981      NaT   5043626   596168  45.539529  10.231786   \n",
       "300982      NaT   5043626   596168  45.539529  10.231786   \n",
       "\n",
       "                                        location  \n",
       "0         (45.49631644365102, 9.190933555313624)  \n",
       "1         (45.49631644365102, 9.190933555313624)  \n",
       "2         (45.49631644365102, 9.190933555313624)  \n",
       "3         (45.49631644365102, 9.190933555313624)  \n",
       "4         (45.49631644365102, 9.190933555313624)  \n",
       "...                                          ...  \n",
       "300978  (45.539529434955995, 10.231785907477223)  \n",
       "300979  (45.539529434955995, 10.231785907477223)  \n",
       "300980  (45.539529434955995, 10.231785907477223)  \n",
       "300981  (45.539529434955995, 10.231785907477223)  \n",
       "300982  (45.539529434955995, 10.231785907477223)  \n",
       "\n",
       "[300983 rows x 20 columns]"
      ]
     },
     "execution_count": 30,
     "metadata": {},
     "output_type": "execute_result"
    }
   ],
   "source": [
    "aria_sensori__id_day = pd.merge(aria__id_day, sensori_aria, how = 'inner', on = 'IdSensore')\n",
    "aria_sensori__id_day"
   ]
  },
  {
   "cell_type": "markdown",
   "id": "097950f4",
   "metadata": {},
   "source": [
    "#### Perchè si perdono delle medie facendo il JOIN ?\n",
    "Si passa da 314000 a 301000 righe circa dopo il merge, questo è dovuto al fatto che:\n",
    "- Praticamente ci sono **88 sensori** che compaiono solo in **aria_20_21 ma non sono registrati** in **sensori_aria** (controllato manualente)\n",
    "- Nel join quindi **PERDIAMO CIRCA 13000 medie**"
   ]
  },
  {
   "cell_type": "code",
   "execution_count": 31,
   "id": "df852392",
   "metadata": {
    "ExecuteTime": {
     "end_time": "2022-01-13T16:53:56.751531Z",
     "start_time": "2022-01-13T16:53:56.593496Z"
    }
   },
   "outputs": [
    {
     "name": "stdout",
     "output_type": "stream",
     "text": [
      "88\n",
      "12654\n",
      "12654\n"
     ]
    }
   ],
   "source": [
    "# Numero di sensori che non compaiono in sensori_aria\n",
    "print(len(aria_20_21[~aria_20_21.IdSensore.isin(sensori_aria.IdSensore)]['IdSensore'].unique()))\n",
    "lista = aria_20_21[~aria_20_21.IdSensore.isin(sensori_aria.IdSensore)]['IdSensore'].unique()\n",
    "# Numero di righe di aria__id_day relative a quei sensori\n",
    "print(aria__id_day[aria__id_day.IdSensore.isin(lista)].shape[0])\n",
    "# Numero di righe perse nel join \n",
    "print(aria__id_day.shape[0] - aria_sensori__id_day.shape[0])"
   ]
  },
  {
   "cell_type": "markdown",
   "id": "e0ab4d56",
   "metadata": {},
   "source": [
    "#### Verifica significato MEDIE ottenuti da UNA SOLA MISURAZIONE (93000 su 313948)"
   ]
  },
  {
   "cell_type": "code",
   "execution_count": 32,
   "id": "b42bc3a2",
   "metadata": {
    "ExecuteTime": {
     "end_time": "2022-01-13T16:53:56.863497Z",
     "start_time": "2022-01-13T16:53:56.752496Z"
    },
    "scrolled": false
   },
   "outputs": [
    {
     "name": "stdout",
     "output_type": "stream",
     "text": [
      "NomeTipoSensore\n",
      "Biossido di Azoto           61355\n",
      "Ossidi di Azoto             60623\n",
      "PM10 (SM2005)               45757\n",
      "Ozono                       36881\n",
      "Monossido di Carbonio       32325\n",
      "Biossido di Zolfo           23920\n",
      "Particelle sospese PM2.5    23294\n",
      "Benzene                     16828\n",
      "dtype: int64 \n",
      "\n",
      "NomeTipoSensore\n",
      "PM10 (SM2005)               44765\n",
      "Particelle sospese PM2.5    22414\n",
      "Benzene                     15689\n",
      "Biossido di Azoto             520\n",
      "Ossidi di Azoto               489\n",
      "Ozono                         287\n",
      "Monossido di Carbonio         237\n",
      "Biossido di Zolfo             155\n",
      "dtype: int64\n"
     ]
    }
   ],
   "source": [
    "print(aria_sensori__id_day.value_counts('NomeTipoSensore'), '\\n')\n",
    "print(aria_sensori__id_day[(aria_sensori__id_day.Valore_COUNT_id_day == 1)].value_counts('NomeTipoSensore'))"
   ]
  },
  {
   "cell_type": "markdown",
   "id": "3e0903a2",
   "metadata": {},
   "source": [
    "**67000 di queste sono PM10 e PM2.5**\n",
    "- giustificate dal fatto che sono già fornite in quanto medie (ecco perchè solo una misurazione !)\n",
    "- Non le elimino"
   ]
  },
  {
   "cell_type": "code",
   "execution_count": 33,
   "id": "fea749be",
   "metadata": {
    "ExecuteTime": {
     "end_time": "2022-01-13T16:53:57.038496Z",
     "start_time": "2022-01-13T16:53:56.864498Z"
    }
   },
   "outputs": [
    {
     "name": "stdout",
     "output_type": "stream",
     "text": [
      "NomeTipoSensore\n",
      "PM10 (SM2005)               44765\n",
      "Particelle sospese PM2.5    22414\n",
      "dtype: int64\n",
      "(67179, 20)\n"
     ]
    }
   ],
   "source": [
    "print(aria_sensori__id_day[\n",
    "    ((aria_sensori__id_day.NomeTipoSensore == 'PM10 (SM2005)')\n",
    "    | (aria_sensori__id_day.NomeTipoSensore == 'Particolato Totale Sospeso')\n",
    "    | (aria_sensori__id_day.NomeTipoSensore == 'Particelle sospese PM2.5')) & (aria_sensori__id_day.Valore_COUNT_id_day == 1)].value_counts('NomeTipoSensore'))\n",
    "print(aria_sensori__id_day[\n",
    "    ((aria_sensori__id_day.NomeTipoSensore == 'PM10 (SM2005)')\n",
    "    | (aria_sensori__id_day.NomeTipoSensore == 'Particolato Totale Sospeso')\n",
    "    | (aria_sensori__id_day.NomeTipoSensore == 'Particelle sospese PM2.5')) & (aria_sensori__id_day.Valore_COUNT_id_day == 1)].shape)"
   ]
  },
  {
   "cell_type": "markdown",
   "id": "8c860b96",
   "metadata": {},
   "source": [
    "#### Quali medie non sono relative al particolato ma comunque hanno una sola misurazione ? Perchè ?\n",
    "- Quasi tutte le misurazioni del benzene (15689 su 16828) son oda una misurazione, deduco anche qui allora che sia un valore mediato"
   ]
  },
  {
   "cell_type": "code",
   "execution_count": 34,
   "id": "eaf92178",
   "metadata": {
    "ExecuteTime": {
     "end_time": "2022-01-13T16:53:57.118497Z",
     "start_time": "2022-01-13T16:53:57.039496Z"
    }
   },
   "outputs": [
    {
     "data": {
      "text/plain": [
       "NomeTipoSensore\n",
       "Benzene                  15689\n",
       "Biossido di Azoto          520\n",
       "Ossidi di Azoto            489\n",
       "Ozono                      287\n",
       "Monossido di Carbonio      237\n",
       "Biossido di Zolfo          155\n",
       "dtype: int64"
      ]
     },
     "execution_count": 34,
     "metadata": {},
     "output_type": "execute_result"
    }
   ],
   "source": [
    "aria_sensori__id_day[\n",
    "    ((aria_sensori__id_day.NomeTipoSensore != 'PM10 (SM2005)')\n",
    "    & (aria_sensori__id_day.NomeTipoSensore != 'Particolato Totale Sospeso')\n",
    "    & (aria_sensori__id_day.NomeTipoSensore != 'Particelle sospese PM2.5')) & (aria_sensori__id_day.Valore_COUNT_id_day == 1)].value_counts('NomeTipoSensore')"
   ]
  },
  {
   "cell_type": "code",
   "execution_count": 35,
   "id": "c81791bf",
   "metadata": {
    "ExecuteTime": {
     "end_time": "2022-01-13T16:53:57.261591Z",
     "start_time": "2022-01-13T16:53:57.119496Z"
    }
   },
   "outputs": [
    {
     "data": {
      "text/plain": [
       "NomeTipoSensore\n",
       "Biossido di Azoto        61355\n",
       "Ossidi di Azoto          60623\n",
       "Ozono                    36881\n",
       "Monossido di Carbonio    32325\n",
       "Biossido di Zolfo        23920\n",
       "Benzene                  16828\n",
       "dtype: int64"
      ]
     },
     "execution_count": 35,
     "metadata": {},
     "output_type": "execute_result"
    }
   ],
   "source": [
    "aria_sensori__id_day[\n",
    "    ((aria_sensori__id_day.NomeTipoSensore != 'PM10 (SM2005)')\n",
    "    & (aria_sensori__id_day.NomeTipoSensore != 'Particolato Totale Sospeso')\n",
    "    & (aria_sensori__id_day.NomeTipoSensore != 'Particelle sospese PM2.5'))].value_counts('NomeTipoSensore')"
   ]
  },
  {
   "cell_type": "markdown",
   "id": "e3745812",
   "metadata": {},
   "source": [
    "#### Mentre per le altre grandezze sembrano effettivamente errori, queste le RIMUOVO\n",
    "    - Un totale di 1688 righe"
   ]
  },
  {
   "cell_type": "code",
   "execution_count": 36,
   "id": "ce3a00c2",
   "metadata": {
    "ExecuteTime": {
     "end_time": "2022-01-13T16:53:57.356501Z",
     "start_time": "2022-01-13T16:53:57.263497Z"
    },
    "scrolled": false
   },
   "outputs": [
    {
     "data": {
      "text/plain": [
       "1688"
      ]
     },
     "execution_count": 36,
     "metadata": {},
     "output_type": "execute_result"
    }
   ],
   "source": [
    "aria_sensori__id_day[\n",
    "    ((aria_sensori__id_day.NomeTipoSensore != 'PM10 (SM2005)')\n",
    "    & (aria_sensori__id_day.NomeTipoSensore != 'Particolato Totale Sospeso')\n",
    "    & (aria_sensori__id_day.NomeTipoSensore != 'Particelle sospese PM2.5')\n",
    "    & (aria_sensori__id_day.NomeTipoSensore != 'Benzene') & (aria_sensori__id_day.Valore_COUNT_id_day == 1))].shape[0]"
   ]
  },
  {
   "cell_type": "code",
   "execution_count": 37,
   "id": "69177411",
   "metadata": {
    "ExecuteTime": {
     "end_time": "2022-01-13T16:53:57.546527Z",
     "start_time": "2022-01-13T16:53:57.357495Z"
    },
    "scrolled": false
   },
   "outputs": [
    {
     "data": {
      "text/html": [
       "<div>\n",
       "<style scoped>\n",
       "    .dataframe tbody tr th:only-of-type {\n",
       "        vertical-align: middle;\n",
       "    }\n",
       "\n",
       "    .dataframe tbody tr th {\n",
       "        vertical-align: top;\n",
       "    }\n",
       "\n",
       "    .dataframe thead th {\n",
       "        text-align: right;\n",
       "    }\n",
       "</style>\n",
       "<table border=\"1\" class=\"dataframe\">\n",
       "  <thead>\n",
       "    <tr style=\"text-align: right;\">\n",
       "      <th></th>\n",
       "      <th>IdSensore</th>\n",
       "      <th>Data</th>\n",
       "      <th>Valore_MEAN_id_day</th>\n",
       "      <th>Valore_COUNT_id_day</th>\n",
       "      <th>Valore_STD_id_day</th>\n",
       "      <th>NomeTipoSensore</th>\n",
       "      <th>UnitaMisura</th>\n",
       "      <th>Idstazione</th>\n",
       "      <th>NomeStazione</th>\n",
       "      <th>Quota</th>\n",
       "      <th>Provincia</th>\n",
       "      <th>Comune</th>\n",
       "      <th>Storico</th>\n",
       "      <th>DataStart</th>\n",
       "      <th>DataStop</th>\n",
       "      <th>Utm_Nord</th>\n",
       "      <th>UTM_Est</th>\n",
       "      <th>lat</th>\n",
       "      <th>lng</th>\n",
       "      <th>location</th>\n",
       "    </tr>\n",
       "  </thead>\n",
       "  <tbody>\n",
       "    <tr>\n",
       "      <th>0</th>\n",
       "      <td>5504</td>\n",
       "      <td>2020-01-01</td>\n",
       "      <td>107.595833</td>\n",
       "      <td>24</td>\n",
       "      <td>20.571624</td>\n",
       "      <td>Biossido di Azoto</td>\n",
       "      <td>µg/m³</td>\n",
       "      <td>501</td>\n",
       "      <td>Milano v.Marche</td>\n",
       "      <td>129.0</td>\n",
       "      <td>MI</td>\n",
       "      <td>Milano</td>\n",
       "      <td>N</td>\n",
       "      <td>1980-09-18</td>\n",
       "      <td>NaT</td>\n",
       "      <td>5038105</td>\n",
       "      <td>514918</td>\n",
       "      <td>45.496316</td>\n",
       "      <td>9.190934</td>\n",
       "      <td>(45.49631644365102, 9.190933555313624)</td>\n",
       "    </tr>\n",
       "    <tr>\n",
       "      <th>1</th>\n",
       "      <td>5504</td>\n",
       "      <td>2020-01-02</td>\n",
       "      <td>79.170833</td>\n",
       "      <td>24</td>\n",
       "      <td>20.404613</td>\n",
       "      <td>Biossido di Azoto</td>\n",
       "      <td>µg/m³</td>\n",
       "      <td>501</td>\n",
       "      <td>Milano v.Marche</td>\n",
       "      <td>129.0</td>\n",
       "      <td>MI</td>\n",
       "      <td>Milano</td>\n",
       "      <td>N</td>\n",
       "      <td>1980-09-18</td>\n",
       "      <td>NaT</td>\n",
       "      <td>5038105</td>\n",
       "      <td>514918</td>\n",
       "      <td>45.496316</td>\n",
       "      <td>9.190934</td>\n",
       "      <td>(45.49631644365102, 9.190933555313624)</td>\n",
       "    </tr>\n",
       "    <tr>\n",
       "      <th>2</th>\n",
       "      <td>5504</td>\n",
       "      <td>2020-01-03</td>\n",
       "      <td>72.254167</td>\n",
       "      <td>24</td>\n",
       "      <td>9.209729</td>\n",
       "      <td>Biossido di Azoto</td>\n",
       "      <td>µg/m³</td>\n",
       "      <td>501</td>\n",
       "      <td>Milano v.Marche</td>\n",
       "      <td>129.0</td>\n",
       "      <td>MI</td>\n",
       "      <td>Milano</td>\n",
       "      <td>N</td>\n",
       "      <td>1980-09-18</td>\n",
       "      <td>NaT</td>\n",
       "      <td>5038105</td>\n",
       "      <td>514918</td>\n",
       "      <td>45.496316</td>\n",
       "      <td>9.190934</td>\n",
       "      <td>(45.49631644365102, 9.190933555313624)</td>\n",
       "    </tr>\n",
       "    <tr>\n",
       "      <th>3</th>\n",
       "      <td>5504</td>\n",
       "      <td>2020-01-04</td>\n",
       "      <td>55.854167</td>\n",
       "      <td>24</td>\n",
       "      <td>11.673343</td>\n",
       "      <td>Biossido di Azoto</td>\n",
       "      <td>µg/m³</td>\n",
       "      <td>501</td>\n",
       "      <td>Milano v.Marche</td>\n",
       "      <td>129.0</td>\n",
       "      <td>MI</td>\n",
       "      <td>Milano</td>\n",
       "      <td>N</td>\n",
       "      <td>1980-09-18</td>\n",
       "      <td>NaT</td>\n",
       "      <td>5038105</td>\n",
       "      <td>514918</td>\n",
       "      <td>45.496316</td>\n",
       "      <td>9.190934</td>\n",
       "      <td>(45.49631644365102, 9.190933555313624)</td>\n",
       "    </tr>\n",
       "    <tr>\n",
       "      <th>4</th>\n",
       "      <td>5504</td>\n",
       "      <td>2020-01-05</td>\n",
       "      <td>68.937500</td>\n",
       "      <td>24</td>\n",
       "      <td>13.724171</td>\n",
       "      <td>Biossido di Azoto</td>\n",
       "      <td>µg/m³</td>\n",
       "      <td>501</td>\n",
       "      <td>Milano v.Marche</td>\n",
       "      <td>129.0</td>\n",
       "      <td>MI</td>\n",
       "      <td>Milano</td>\n",
       "      <td>N</td>\n",
       "      <td>1980-09-18</td>\n",
       "      <td>NaT</td>\n",
       "      <td>5038105</td>\n",
       "      <td>514918</td>\n",
       "      <td>45.496316</td>\n",
       "      <td>9.190934</td>\n",
       "      <td>(45.49631644365102, 9.190933555313624)</td>\n",
       "    </tr>\n",
       "    <tr>\n",
       "      <th>...</th>\n",
       "      <td>...</td>\n",
       "      <td>...</td>\n",
       "      <td>...</td>\n",
       "      <td>...</td>\n",
       "      <td>...</td>\n",
       "      <td>...</td>\n",
       "      <td>...</td>\n",
       "      <td>...</td>\n",
       "      <td>...</td>\n",
       "      <td>...</td>\n",
       "      <td>...</td>\n",
       "      <td>...</td>\n",
       "      <td>...</td>\n",
       "      <td>...</td>\n",
       "      <td>...</td>\n",
       "      <td>...</td>\n",
       "      <td>...</td>\n",
       "      <td>...</td>\n",
       "      <td>...</td>\n",
       "      <td>...</td>\n",
       "    </tr>\n",
       "    <tr>\n",
       "      <th>299290</th>\n",
       "      <td>30166</td>\n",
       "      <td>2021-12-23</td>\n",
       "      <td>3.600000</td>\n",
       "      <td>1</td>\n",
       "      <td>NaN</td>\n",
       "      <td>Benzene</td>\n",
       "      <td>µg/m³</td>\n",
       "      <td>652</td>\n",
       "      <td>Brescia v.Turati</td>\n",
       "      <td>154.0</td>\n",
       "      <td>BS</td>\n",
       "      <td>Brescia</td>\n",
       "      <td>N</td>\n",
       "      <td>2016-01-01</td>\n",
       "      <td>NaT</td>\n",
       "      <td>5043626</td>\n",
       "      <td>596168</td>\n",
       "      <td>45.539529</td>\n",
       "      <td>10.231786</td>\n",
       "      <td>(45.539529434955995, 10.231785907477223)</td>\n",
       "    </tr>\n",
       "    <tr>\n",
       "      <th>299291</th>\n",
       "      <td>30166</td>\n",
       "      <td>2021-12-24</td>\n",
       "      <td>3.100000</td>\n",
       "      <td>1</td>\n",
       "      <td>NaN</td>\n",
       "      <td>Benzene</td>\n",
       "      <td>µg/m³</td>\n",
       "      <td>652</td>\n",
       "      <td>Brescia v.Turati</td>\n",
       "      <td>154.0</td>\n",
       "      <td>BS</td>\n",
       "      <td>Brescia</td>\n",
       "      <td>N</td>\n",
       "      <td>2016-01-01</td>\n",
       "      <td>NaT</td>\n",
       "      <td>5043626</td>\n",
       "      <td>596168</td>\n",
       "      <td>45.539529</td>\n",
       "      <td>10.231786</td>\n",
       "      <td>(45.539529434955995, 10.231785907477223)</td>\n",
       "    </tr>\n",
       "    <tr>\n",
       "      <th>299292</th>\n",
       "      <td>30166</td>\n",
       "      <td>2021-12-25</td>\n",
       "      <td>3.300000</td>\n",
       "      <td>1</td>\n",
       "      <td>NaN</td>\n",
       "      <td>Benzene</td>\n",
       "      <td>µg/m³</td>\n",
       "      <td>652</td>\n",
       "      <td>Brescia v.Turati</td>\n",
       "      <td>154.0</td>\n",
       "      <td>BS</td>\n",
       "      <td>Brescia</td>\n",
       "      <td>N</td>\n",
       "      <td>2016-01-01</td>\n",
       "      <td>NaT</td>\n",
       "      <td>5043626</td>\n",
       "      <td>596168</td>\n",
       "      <td>45.539529</td>\n",
       "      <td>10.231786</td>\n",
       "      <td>(45.539529434955995, 10.231785907477223)</td>\n",
       "    </tr>\n",
       "    <tr>\n",
       "      <th>299293</th>\n",
       "      <td>30166</td>\n",
       "      <td>2021-12-26</td>\n",
       "      <td>3.100000</td>\n",
       "      <td>1</td>\n",
       "      <td>NaN</td>\n",
       "      <td>Benzene</td>\n",
       "      <td>µg/m³</td>\n",
       "      <td>652</td>\n",
       "      <td>Brescia v.Turati</td>\n",
       "      <td>154.0</td>\n",
       "      <td>BS</td>\n",
       "      <td>Brescia</td>\n",
       "      <td>N</td>\n",
       "      <td>2016-01-01</td>\n",
       "      <td>NaT</td>\n",
       "      <td>5043626</td>\n",
       "      <td>596168</td>\n",
       "      <td>45.539529</td>\n",
       "      <td>10.231786</td>\n",
       "      <td>(45.539529434955995, 10.231785907477223)</td>\n",
       "    </tr>\n",
       "    <tr>\n",
       "      <th>299294</th>\n",
       "      <td>30166</td>\n",
       "      <td>2021-12-27</td>\n",
       "      <td>2.400000</td>\n",
       "      <td>1</td>\n",
       "      <td>NaN</td>\n",
       "      <td>Benzene</td>\n",
       "      <td>µg/m³</td>\n",
       "      <td>652</td>\n",
       "      <td>Brescia v.Turati</td>\n",
       "      <td>154.0</td>\n",
       "      <td>BS</td>\n",
       "      <td>Brescia</td>\n",
       "      <td>N</td>\n",
       "      <td>2016-01-01</td>\n",
       "      <td>NaT</td>\n",
       "      <td>5043626</td>\n",
       "      <td>596168</td>\n",
       "      <td>45.539529</td>\n",
       "      <td>10.231786</td>\n",
       "      <td>(45.539529434955995, 10.231785907477223)</td>\n",
       "    </tr>\n",
       "  </tbody>\n",
       "</table>\n",
       "<p>299295 rows × 20 columns</p>\n",
       "</div>"
      ],
      "text/plain": [
       "        IdSensore        Data  Valore_MEAN_id_day  Valore_COUNT_id_day  \\\n",
       "0            5504  2020-01-01          107.595833                   24   \n",
       "1            5504  2020-01-02           79.170833                   24   \n",
       "2            5504  2020-01-03           72.254167                   24   \n",
       "3            5504  2020-01-04           55.854167                   24   \n",
       "4            5504  2020-01-05           68.937500                   24   \n",
       "...           ...         ...                 ...                  ...   \n",
       "299290      30166  2021-12-23            3.600000                    1   \n",
       "299291      30166  2021-12-24            3.100000                    1   \n",
       "299292      30166  2021-12-25            3.300000                    1   \n",
       "299293      30166  2021-12-26            3.100000                    1   \n",
       "299294      30166  2021-12-27            2.400000                    1   \n",
       "\n",
       "        Valore_STD_id_day    NomeTipoSensore UnitaMisura  Idstazione  \\\n",
       "0               20.571624  Biossido di Azoto       µg/m³         501   \n",
       "1               20.404613  Biossido di Azoto       µg/m³         501   \n",
       "2                9.209729  Biossido di Azoto       µg/m³         501   \n",
       "3               11.673343  Biossido di Azoto       µg/m³         501   \n",
       "4               13.724171  Biossido di Azoto       µg/m³         501   \n",
       "...                   ...                ...         ...         ...   \n",
       "299290                NaN            Benzene       µg/m³         652   \n",
       "299291                NaN            Benzene       µg/m³         652   \n",
       "299292                NaN            Benzene       µg/m³         652   \n",
       "299293                NaN            Benzene       µg/m³         652   \n",
       "299294                NaN            Benzene       µg/m³         652   \n",
       "\n",
       "            NomeStazione  Quota Provincia   Comune Storico  DataStart  \\\n",
       "0        Milano v.Marche  129.0        MI   Milano       N 1980-09-18   \n",
       "1        Milano v.Marche  129.0        MI   Milano       N 1980-09-18   \n",
       "2        Milano v.Marche  129.0        MI   Milano       N 1980-09-18   \n",
       "3        Milano v.Marche  129.0        MI   Milano       N 1980-09-18   \n",
       "4        Milano v.Marche  129.0        MI   Milano       N 1980-09-18   \n",
       "...                  ...    ...       ...      ...     ...        ...   \n",
       "299290  Brescia v.Turati  154.0        BS  Brescia       N 2016-01-01   \n",
       "299291  Brescia v.Turati  154.0        BS  Brescia       N 2016-01-01   \n",
       "299292  Brescia v.Turati  154.0        BS  Brescia       N 2016-01-01   \n",
       "299293  Brescia v.Turati  154.0        BS  Brescia       N 2016-01-01   \n",
       "299294  Brescia v.Turati  154.0        BS  Brescia       N 2016-01-01   \n",
       "\n",
       "       DataStop  Utm_Nord  UTM_Est        lat        lng  \\\n",
       "0           NaT   5038105   514918  45.496316   9.190934   \n",
       "1           NaT   5038105   514918  45.496316   9.190934   \n",
       "2           NaT   5038105   514918  45.496316   9.190934   \n",
       "3           NaT   5038105   514918  45.496316   9.190934   \n",
       "4           NaT   5038105   514918  45.496316   9.190934   \n",
       "...         ...       ...      ...        ...        ...   \n",
       "299290      NaT   5043626   596168  45.539529  10.231786   \n",
       "299291      NaT   5043626   596168  45.539529  10.231786   \n",
       "299292      NaT   5043626   596168  45.539529  10.231786   \n",
       "299293      NaT   5043626   596168  45.539529  10.231786   \n",
       "299294      NaT   5043626   596168  45.539529  10.231786   \n",
       "\n",
       "                                        location  \n",
       "0         (45.49631644365102, 9.190933555313624)  \n",
       "1         (45.49631644365102, 9.190933555313624)  \n",
       "2         (45.49631644365102, 9.190933555313624)  \n",
       "3         (45.49631644365102, 9.190933555313624)  \n",
       "4         (45.49631644365102, 9.190933555313624)  \n",
       "...                                          ...  \n",
       "299290  (45.539529434955995, 10.231785907477223)  \n",
       "299291  (45.539529434955995, 10.231785907477223)  \n",
       "299292  (45.539529434955995, 10.231785907477223)  \n",
       "299293  (45.539529434955995, 10.231785907477223)  \n",
       "299294  (45.539529434955995, 10.231785907477223)  \n",
       "\n",
       "[299295 rows x 20 columns]"
      ]
     },
     "execution_count": 37,
     "metadata": {},
     "output_type": "execute_result"
    }
   ],
   "source": [
    "aria_sensori__id_day.drop(aria_sensori__id_day[\n",
    "    ((aria_sensori__id_day.NomeTipoSensore != 'PM10 (SM2005)')\n",
    "    & (aria_sensori__id_day.NomeTipoSensore != 'Particolato Totale Sospeso')\n",
    "    & (aria_sensori__id_day.NomeTipoSensore != 'Particelle sospese PM2.5') \n",
    "    & (aria_sensori__id_day.NomeTipoSensore != 'Benzene') & (aria_sensori__id_day.Valore_COUNT_id_day == 1))].index, inplace=True)\n",
    "aria_sensori__id_day.reset_index(drop=True, inplace=True)\n",
    "aria_sensori__id_day"
   ]
  },
  {
   "cell_type": "markdown",
   "id": "1e308f9c",
   "metadata": {},
   "source": [
    "#### Verifico che ci sia solo un'unitá di misura per ogni tipo di sensore e creo df `unita_misura`"
   ]
  },
  {
   "cell_type": "code",
   "execution_count": 38,
   "id": "568c3460",
   "metadata": {
    "ExecuteTime": {
     "end_time": "2022-01-13T16:53:57.816497Z",
     "start_time": "2022-01-13T16:53:57.547497Z"
    }
   },
   "outputs": [
    {
     "name": "stdout",
     "output_type": "stream",
     "text": [
      "['µg/m³'] Biossido di Azoto\n",
      "['µg/m³'] Biossido di Zolfo\n",
      "['µg/m³'] Ozono\n",
      "['mg/m³'] Monossido di Carbonio\n",
      "['µg/m³'] Benzene\n",
      "['µg/m³'] Ossidi di Azoto\n",
      "['µg/m³'] PM10 (SM2005)\n",
      "['µg/m³'] Particelle sospese PM2.5\n"
     ]
    }
   ],
   "source": [
    "lista_tipi = aria_sensori__id_day.NomeTipoSensore.unique()\n",
    "for tipo in lista_tipi:\n",
    "    unita = aria_sensori__id_day[aria_sensori__id_day['NomeTipoSensore'] == tipo]['UnitaMisura'].unique()\n",
    "    print(unita, tipo)\n",
    "    \n",
    "    if len(unita) > 1:  #blocco di controllo\n",
    "        raise ValueError('ERROR: ci sono piú unita di misura per un inquinante')"
   ]
  },
  {
   "cell_type": "code",
   "execution_count": 39,
   "id": "9d76a8f2",
   "metadata": {
    "ExecuteTime": {
     "end_time": "2022-01-13T16:53:58.065494Z",
     "start_time": "2022-01-13T16:53:57.817496Z"
    }
   },
   "outputs": [
    {
     "data": {
      "text/html": [
       "<div>\n",
       "<style scoped>\n",
       "    .dataframe tbody tr th:only-of-type {\n",
       "        vertical-align: middle;\n",
       "    }\n",
       "\n",
       "    .dataframe tbody tr th {\n",
       "        vertical-align: top;\n",
       "    }\n",
       "\n",
       "    .dataframe thead th {\n",
       "        text-align: right;\n",
       "    }\n",
       "</style>\n",
       "<table border=\"1\" class=\"dataframe\">\n",
       "  <thead>\n",
       "    <tr style=\"text-align: right;\">\n",
       "      <th></th>\n",
       "      <th>NomeTipoSensore</th>\n",
       "      <th>UnitaMisura</th>\n",
       "    </tr>\n",
       "  </thead>\n",
       "  <tbody>\n",
       "    <tr>\n",
       "      <th>0</th>\n",
       "      <td>Biossido di Azoto</td>\n",
       "      <td>µg/m³</td>\n",
       "    </tr>\n",
       "    <tr>\n",
       "      <th>1</th>\n",
       "      <td>Biossido di Zolfo</td>\n",
       "      <td>µg/m³</td>\n",
       "    </tr>\n",
       "    <tr>\n",
       "      <th>2</th>\n",
       "      <td>Ozono</td>\n",
       "      <td>µg/m³</td>\n",
       "    </tr>\n",
       "    <tr>\n",
       "      <th>3</th>\n",
       "      <td>Monossido di Carbonio</td>\n",
       "      <td>mg/m³</td>\n",
       "    </tr>\n",
       "    <tr>\n",
       "      <th>4</th>\n",
       "      <td>Benzene</td>\n",
       "      <td>µg/m³</td>\n",
       "    </tr>\n",
       "    <tr>\n",
       "      <th>5</th>\n",
       "      <td>Ossidi di Azoto</td>\n",
       "      <td>µg/m³</td>\n",
       "    </tr>\n",
       "    <tr>\n",
       "      <th>6</th>\n",
       "      <td>PM10 (SM2005)</td>\n",
       "      <td>µg/m³</td>\n",
       "    </tr>\n",
       "    <tr>\n",
       "      <th>7</th>\n",
       "      <td>Particelle sospese PM2.5</td>\n",
       "      <td>µg/m³</td>\n",
       "    </tr>\n",
       "  </tbody>\n",
       "</table>\n",
       "</div>"
      ],
      "text/plain": [
       "            NomeTipoSensore UnitaMisura\n",
       "0         Biossido di Azoto       µg/m³\n",
       "1         Biossido di Zolfo       µg/m³\n",
       "2                     Ozono       µg/m³\n",
       "3     Monossido di Carbonio       mg/m³\n",
       "4                   Benzene       µg/m³\n",
       "5           Ossidi di Azoto       µg/m³\n",
       "6             PM10 (SM2005)       µg/m³\n",
       "7  Particelle sospese PM2.5       µg/m³"
      ]
     },
     "execution_count": 39,
     "metadata": {},
     "output_type": "execute_result"
    }
   ],
   "source": [
    "unita_misura = pd.DataFrame([[tipo, aria_sensori__id_day[aria_sensori__id_day['NomeTipoSensore'] == tipo]['UnitaMisura'].unique()[0]] for tipo in lista_tipi], columns=[\"NomeTipoSensore\", \"UnitaMisura\"])\n",
    "unita_misura"
   ]
  },
  {
   "cell_type": "markdown",
   "id": "085b8937",
   "metadata": {},
   "source": [
    "#### Verifico il numero sensori con `DataStart` dopo il `2019-12-31` e li rimuovo (edited)"
   ]
  },
  {
   "cell_type": "code",
   "execution_count": 40,
   "id": "43271e44",
   "metadata": {
    "ExecuteTime": {
     "end_time": "2022-01-13T16:53:58.081496Z",
     "start_time": "2022-01-13T16:53:58.066496Z"
    }
   },
   "outputs": [],
   "source": [
    "#sum(aria_sensori__id_day['DataStart'] > '2019-12-31')"
   ]
  },
  {
   "cell_type": "code",
   "execution_count": 41,
   "id": "26870905",
   "metadata": {
    "ExecuteTime": {
     "end_time": "2022-01-13T16:53:58.096497Z",
     "start_time": "2022-01-13T16:53:58.083497Z"
    }
   },
   "outputs": [],
   "source": [
    "#aria_sensori__id_day = aria_sensori__id_day.drop(aria_sensori__id_day[aria_sensori__id_day['DataStart'] > '2019-12-31'].index)\n",
    "#aria_sensori__id_day.reset_index(drop=True, inplace=True)"
   ]
  },
  {
   "cell_type": "markdown",
   "id": "3ae08617",
   "metadata": {},
   "source": [
    "Numero sensori con `DataStop` diversa da NA"
   ]
  },
  {
   "cell_type": "code",
   "execution_count": 42,
   "id": "641f6ad4",
   "metadata": {
    "ExecuteTime": {
     "end_time": "2022-01-13T16:53:58.112494Z",
     "start_time": "2022-01-13T16:53:58.098499Z"
    }
   },
   "outputs": [],
   "source": [
    "#sum(~aria_sensori__id_day['DataStop'].isna())"
   ]
  },
  {
   "cell_type": "markdown",
   "id": "35c20862",
   "metadata": {},
   "source": [
    "## JOIN con zonizzazione\n",
    "\n",
    "- Inner joint tra `aria_sensori__id_day` e `zonizzazione` a dare `aria_sensori_zone__id_day`\n",
    "- Non perdo nessuna riga con l'inner joint perché sono presenti tutti i comuni nel dataset `zonizzazione`"
   ]
  },
  {
   "cell_type": "code",
   "execution_count": 43,
   "id": "07bf353e",
   "metadata": {
    "ExecuteTime": {
     "end_time": "2022-01-13T16:53:58.844494Z",
     "start_time": "2022-01-13T16:53:58.114495Z"
    }
   },
   "outputs": [
    {
     "data": {
      "text/html": [
       "<div>\n",
       "<style scoped>\n",
       "    .dataframe tbody tr th:only-of-type {\n",
       "        vertical-align: middle;\n",
       "    }\n",
       "\n",
       "    .dataframe tbody tr th {\n",
       "        vertical-align: top;\n",
       "    }\n",
       "\n",
       "    .dataframe thead th {\n",
       "        text-align: right;\n",
       "    }\n",
       "</style>\n",
       "<table border=\"1\" class=\"dataframe\">\n",
       "  <thead>\n",
       "    <tr style=\"text-align: right;\">\n",
       "      <th></th>\n",
       "      <th>key_0</th>\n",
       "      <th>IdSensore</th>\n",
       "      <th>Data</th>\n",
       "      <th>Valore_MEAN_id_day</th>\n",
       "      <th>Valore_COUNT_id_day</th>\n",
       "      <th>Valore_STD_id_day</th>\n",
       "      <th>NomeTipoSensore</th>\n",
       "      <th>UnitaMisura</th>\n",
       "      <th>Idstazione</th>\n",
       "      <th>NomeStazione</th>\n",
       "      <th>...</th>\n",
       "      <th>DataStart</th>\n",
       "      <th>DataStop</th>\n",
       "      <th>Utm_Nord</th>\n",
       "      <th>UTM_Est</th>\n",
       "      <th>lat</th>\n",
       "      <th>lng</th>\n",
       "      <th>location</th>\n",
       "      <th>Zona</th>\n",
       "      <th>Residenti 2008</th>\n",
       "      <th>Superficie (ha)</th>\n",
       "    </tr>\n",
       "  </thead>\n",
       "  <tbody>\n",
       "    <tr>\n",
       "      <th>0</th>\n",
       "      <td>milano</td>\n",
       "      <td>5504</td>\n",
       "      <td>2020-01-01</td>\n",
       "      <td>107.595833</td>\n",
       "      <td>24</td>\n",
       "      <td>20.571624</td>\n",
       "      <td>Biossido di Azoto</td>\n",
       "      <td>µg/m³</td>\n",
       "      <td>501</td>\n",
       "      <td>Milano v.Marche</td>\n",
       "      <td>...</td>\n",
       "      <td>1980-09-18</td>\n",
       "      <td>NaT</td>\n",
       "      <td>5038105</td>\n",
       "      <td>514918</td>\n",
       "      <td>45.496316</td>\n",
       "      <td>9.190934</td>\n",
       "      <td>(45.49631644365102, 9.190933555313624)</td>\n",
       "      <td>AGG MI</td>\n",
       "      <td>1307495</td>\n",
       "      <td>18175</td>\n",
       "    </tr>\n",
       "    <tr>\n",
       "      <th>1</th>\n",
       "      <td>milano</td>\n",
       "      <td>5504</td>\n",
       "      <td>2020-01-02</td>\n",
       "      <td>79.170833</td>\n",
       "      <td>24</td>\n",
       "      <td>20.404613</td>\n",
       "      <td>Biossido di Azoto</td>\n",
       "      <td>µg/m³</td>\n",
       "      <td>501</td>\n",
       "      <td>Milano v.Marche</td>\n",
       "      <td>...</td>\n",
       "      <td>1980-09-18</td>\n",
       "      <td>NaT</td>\n",
       "      <td>5038105</td>\n",
       "      <td>514918</td>\n",
       "      <td>45.496316</td>\n",
       "      <td>9.190934</td>\n",
       "      <td>(45.49631644365102, 9.190933555313624)</td>\n",
       "      <td>AGG MI</td>\n",
       "      <td>1307495</td>\n",
       "      <td>18175</td>\n",
       "    </tr>\n",
       "    <tr>\n",
       "      <th>2</th>\n",
       "      <td>milano</td>\n",
       "      <td>5504</td>\n",
       "      <td>2020-01-03</td>\n",
       "      <td>72.254167</td>\n",
       "      <td>24</td>\n",
       "      <td>9.209729</td>\n",
       "      <td>Biossido di Azoto</td>\n",
       "      <td>µg/m³</td>\n",
       "      <td>501</td>\n",
       "      <td>Milano v.Marche</td>\n",
       "      <td>...</td>\n",
       "      <td>1980-09-18</td>\n",
       "      <td>NaT</td>\n",
       "      <td>5038105</td>\n",
       "      <td>514918</td>\n",
       "      <td>45.496316</td>\n",
       "      <td>9.190934</td>\n",
       "      <td>(45.49631644365102, 9.190933555313624)</td>\n",
       "      <td>AGG MI</td>\n",
       "      <td>1307495</td>\n",
       "      <td>18175</td>\n",
       "    </tr>\n",
       "    <tr>\n",
       "      <th>3</th>\n",
       "      <td>milano</td>\n",
       "      <td>5504</td>\n",
       "      <td>2020-01-04</td>\n",
       "      <td>55.854167</td>\n",
       "      <td>24</td>\n",
       "      <td>11.673343</td>\n",
       "      <td>Biossido di Azoto</td>\n",
       "      <td>µg/m³</td>\n",
       "      <td>501</td>\n",
       "      <td>Milano v.Marche</td>\n",
       "      <td>...</td>\n",
       "      <td>1980-09-18</td>\n",
       "      <td>NaT</td>\n",
       "      <td>5038105</td>\n",
       "      <td>514918</td>\n",
       "      <td>45.496316</td>\n",
       "      <td>9.190934</td>\n",
       "      <td>(45.49631644365102, 9.190933555313624)</td>\n",
       "      <td>AGG MI</td>\n",
       "      <td>1307495</td>\n",
       "      <td>18175</td>\n",
       "    </tr>\n",
       "    <tr>\n",
       "      <th>4</th>\n",
       "      <td>milano</td>\n",
       "      <td>5504</td>\n",
       "      <td>2020-01-05</td>\n",
       "      <td>68.937500</td>\n",
       "      <td>24</td>\n",
       "      <td>13.724171</td>\n",
       "      <td>Biossido di Azoto</td>\n",
       "      <td>µg/m³</td>\n",
       "      <td>501</td>\n",
       "      <td>Milano v.Marche</td>\n",
       "      <td>...</td>\n",
       "      <td>1980-09-18</td>\n",
       "      <td>NaT</td>\n",
       "      <td>5038105</td>\n",
       "      <td>514918</td>\n",
       "      <td>45.496316</td>\n",
       "      <td>9.190934</td>\n",
       "      <td>(45.49631644365102, 9.190933555313624)</td>\n",
       "      <td>AGG MI</td>\n",
       "      <td>1307495</td>\n",
       "      <td>18175</td>\n",
       "    </tr>\n",
       "    <tr>\n",
       "      <th>...</th>\n",
       "      <td>...</td>\n",
       "      <td>...</td>\n",
       "      <td>...</td>\n",
       "      <td>...</td>\n",
       "      <td>...</td>\n",
       "      <td>...</td>\n",
       "      <td>...</td>\n",
       "      <td>...</td>\n",
       "      <td>...</td>\n",
       "      <td>...</td>\n",
       "      <td>...</td>\n",
       "      <td>...</td>\n",
       "      <td>...</td>\n",
       "      <td>...</td>\n",
       "      <td>...</td>\n",
       "      <td>...</td>\n",
       "      <td>...</td>\n",
       "      <td>...</td>\n",
       "      <td>...</td>\n",
       "      <td>...</td>\n",
       "      <td>...</td>\n",
       "    </tr>\n",
       "    <tr>\n",
       "      <th>299290</th>\n",
       "      <td>mezzana bigli</td>\n",
       "      <td>20216</td>\n",
       "      <td>2021-12-21</td>\n",
       "      <td>2.995833</td>\n",
       "      <td>24</td>\n",
       "      <td>0.760709</td>\n",
       "      <td>Biossido di Zolfo</td>\n",
       "      <td>µg/m³</td>\n",
       "      <td>690</td>\n",
       "      <td>Mezzana Bigli loc. Casoni</td>\n",
       "      <td>...</td>\n",
       "      <td>2006-01-20</td>\n",
       "      <td>NaT</td>\n",
       "      <td>4990697</td>\n",
       "      <td>489679</td>\n",
       "      <td>45.069659</td>\n",
       "      <td>8.868889</td>\n",
       "      <td>(45.069658641385914, 8.86888929943922)</td>\n",
       "      <td>B</td>\n",
       "      <td>1144</td>\n",
       "      <td>1872</td>\n",
       "    </tr>\n",
       "    <tr>\n",
       "      <th>299291</th>\n",
       "      <td>mezzana bigli</td>\n",
       "      <td>20216</td>\n",
       "      <td>2021-12-22</td>\n",
       "      <td>1.729167</td>\n",
       "      <td>24</td>\n",
       "      <td>0.393953</td>\n",
       "      <td>Biossido di Zolfo</td>\n",
       "      <td>µg/m³</td>\n",
       "      <td>690</td>\n",
       "      <td>Mezzana Bigli loc. Casoni</td>\n",
       "      <td>...</td>\n",
       "      <td>2006-01-20</td>\n",
       "      <td>NaT</td>\n",
       "      <td>4990697</td>\n",
       "      <td>489679</td>\n",
       "      <td>45.069659</td>\n",
       "      <td>8.868889</td>\n",
       "      <td>(45.069658641385914, 8.86888929943922)</td>\n",
       "      <td>B</td>\n",
       "      <td>1144</td>\n",
       "      <td>1872</td>\n",
       "    </tr>\n",
       "    <tr>\n",
       "      <th>299292</th>\n",
       "      <td>mezzana bigli</td>\n",
       "      <td>20216</td>\n",
       "      <td>2021-12-23</td>\n",
       "      <td>2.329167</td>\n",
       "      <td>24</td>\n",
       "      <td>0.591593</td>\n",
       "      <td>Biossido di Zolfo</td>\n",
       "      <td>µg/m³</td>\n",
       "      <td>690</td>\n",
       "      <td>Mezzana Bigli loc. Casoni</td>\n",
       "      <td>...</td>\n",
       "      <td>2006-01-20</td>\n",
       "      <td>NaT</td>\n",
       "      <td>4990697</td>\n",
       "      <td>489679</td>\n",
       "      <td>45.069659</td>\n",
       "      <td>8.868889</td>\n",
       "      <td>(45.069658641385914, 8.86888929943922)</td>\n",
       "      <td>B</td>\n",
       "      <td>1144</td>\n",
       "      <td>1872</td>\n",
       "    </tr>\n",
       "    <tr>\n",
       "      <th>299293</th>\n",
       "      <td>mezzana bigli</td>\n",
       "      <td>20216</td>\n",
       "      <td>2021-12-24</td>\n",
       "      <td>0.976923</td>\n",
       "      <td>13</td>\n",
       "      <td>0.527816</td>\n",
       "      <td>Biossido di Zolfo</td>\n",
       "      <td>µg/m³</td>\n",
       "      <td>690</td>\n",
       "      <td>Mezzana Bigli loc. Casoni</td>\n",
       "      <td>...</td>\n",
       "      <td>2006-01-20</td>\n",
       "      <td>NaT</td>\n",
       "      <td>4990697</td>\n",
       "      <td>489679</td>\n",
       "      <td>45.069659</td>\n",
       "      <td>8.868889</td>\n",
       "      <td>(45.069658641385914, 8.86888929943922)</td>\n",
       "      <td>B</td>\n",
       "      <td>1144</td>\n",
       "      <td>1872</td>\n",
       "    </tr>\n",
       "    <tr>\n",
       "      <th>299294</th>\n",
       "      <td>mezzana bigli</td>\n",
       "      <td>20216</td>\n",
       "      <td>2021-12-28</td>\n",
       "      <td>NaN</td>\n",
       "      <td>0</td>\n",
       "      <td>NaN</td>\n",
       "      <td>Biossido di Zolfo</td>\n",
       "      <td>µg/m³</td>\n",
       "      <td>690</td>\n",
       "      <td>Mezzana Bigli loc. Casoni</td>\n",
       "      <td>...</td>\n",
       "      <td>2006-01-20</td>\n",
       "      <td>NaT</td>\n",
       "      <td>4990697</td>\n",
       "      <td>489679</td>\n",
       "      <td>45.069659</td>\n",
       "      <td>8.868889</td>\n",
       "      <td>(45.069658641385914, 8.86888929943922)</td>\n",
       "      <td>B</td>\n",
       "      <td>1144</td>\n",
       "      <td>1872</td>\n",
       "    </tr>\n",
       "  </tbody>\n",
       "</table>\n",
       "<p>299295 rows × 24 columns</p>\n",
       "</div>"
      ],
      "text/plain": [
       "                key_0  IdSensore        Data  Valore_MEAN_id_day  \\\n",
       "0              milano       5504  2020-01-01          107.595833   \n",
       "1              milano       5504  2020-01-02           79.170833   \n",
       "2              milano       5504  2020-01-03           72.254167   \n",
       "3              milano       5504  2020-01-04           55.854167   \n",
       "4              milano       5504  2020-01-05           68.937500   \n",
       "...               ...        ...         ...                 ...   \n",
       "299290  mezzana bigli      20216  2021-12-21            2.995833   \n",
       "299291  mezzana bigli      20216  2021-12-22            1.729167   \n",
       "299292  mezzana bigli      20216  2021-12-23            2.329167   \n",
       "299293  mezzana bigli      20216  2021-12-24            0.976923   \n",
       "299294  mezzana bigli      20216  2021-12-28                 NaN   \n",
       "\n",
       "        Valore_COUNT_id_day  Valore_STD_id_day    NomeTipoSensore UnitaMisura  \\\n",
       "0                        24          20.571624  Biossido di Azoto       µg/m³   \n",
       "1                        24          20.404613  Biossido di Azoto       µg/m³   \n",
       "2                        24           9.209729  Biossido di Azoto       µg/m³   \n",
       "3                        24          11.673343  Biossido di Azoto       µg/m³   \n",
       "4                        24          13.724171  Biossido di Azoto       µg/m³   \n",
       "...                     ...                ...                ...         ...   \n",
       "299290                   24           0.760709  Biossido di Zolfo       µg/m³   \n",
       "299291                   24           0.393953  Biossido di Zolfo       µg/m³   \n",
       "299292                   24           0.591593  Biossido di Zolfo       µg/m³   \n",
       "299293                   13           0.527816  Biossido di Zolfo       µg/m³   \n",
       "299294                    0                NaN  Biossido di Zolfo       µg/m³   \n",
       "\n",
       "        Idstazione               NomeStazione  ...  DataStart DataStop  \\\n",
       "0              501            Milano v.Marche  ... 1980-09-18      NaT   \n",
       "1              501            Milano v.Marche  ... 1980-09-18      NaT   \n",
       "2              501            Milano v.Marche  ... 1980-09-18      NaT   \n",
       "3              501            Milano v.Marche  ... 1980-09-18      NaT   \n",
       "4              501            Milano v.Marche  ... 1980-09-18      NaT   \n",
       "...            ...                        ...  ...        ...      ...   \n",
       "299290         690  Mezzana Bigli loc. Casoni  ... 2006-01-20      NaT   \n",
       "299291         690  Mezzana Bigli loc. Casoni  ... 2006-01-20      NaT   \n",
       "299292         690  Mezzana Bigli loc. Casoni  ... 2006-01-20      NaT   \n",
       "299293         690  Mezzana Bigli loc. Casoni  ... 2006-01-20      NaT   \n",
       "299294         690  Mezzana Bigli loc. Casoni  ... 2006-01-20      NaT   \n",
       "\n",
       "       Utm_Nord UTM_Est        lat       lng  \\\n",
       "0       5038105  514918  45.496316  9.190934   \n",
       "1       5038105  514918  45.496316  9.190934   \n",
       "2       5038105  514918  45.496316  9.190934   \n",
       "3       5038105  514918  45.496316  9.190934   \n",
       "4       5038105  514918  45.496316  9.190934   \n",
       "...         ...     ...        ...       ...   \n",
       "299290  4990697  489679  45.069659  8.868889   \n",
       "299291  4990697  489679  45.069659  8.868889   \n",
       "299292  4990697  489679  45.069659  8.868889   \n",
       "299293  4990697  489679  45.069659  8.868889   \n",
       "299294  4990697  489679  45.069659  8.868889   \n",
       "\n",
       "                                      location    Zona  Residenti 2008  \\\n",
       "0       (45.49631644365102, 9.190933555313624)  AGG MI         1307495   \n",
       "1       (45.49631644365102, 9.190933555313624)  AGG MI         1307495   \n",
       "2       (45.49631644365102, 9.190933555313624)  AGG MI         1307495   \n",
       "3       (45.49631644365102, 9.190933555313624)  AGG MI         1307495   \n",
       "4       (45.49631644365102, 9.190933555313624)  AGG MI         1307495   \n",
       "...                                        ...     ...             ...   \n",
       "299290  (45.069658641385914, 8.86888929943922)       B            1144   \n",
       "299291  (45.069658641385914, 8.86888929943922)       B            1144   \n",
       "299292  (45.069658641385914, 8.86888929943922)       B            1144   \n",
       "299293  (45.069658641385914, 8.86888929943922)       B            1144   \n",
       "299294  (45.069658641385914, 8.86888929943922)       B            1144   \n",
       "\n",
       "        Superficie (ha)  \n",
       "0                 18175  \n",
       "1                 18175  \n",
       "2                 18175  \n",
       "3                 18175  \n",
       "4                 18175  \n",
       "...                 ...  \n",
       "299290             1872  \n",
       "299291             1872  \n",
       "299292             1872  \n",
       "299293             1872  \n",
       "299294             1872  \n",
       "\n",
       "[299295 rows x 24 columns]"
      ]
     },
     "execution_count": 43,
     "metadata": {},
     "output_type": "execute_result"
    }
   ],
   "source": [
    "aria_sensori_zone__id_day = pd.merge(aria_sensori__id_day, zonizzazione[['Zona', 'Residenti 2008', 'Superficie (ha)']], left_on = aria_sensori__id_day['Comune'].str.lower(), right_on = zonizzazione['Comune'].str.lower())\n",
    "aria_sensori_zone__id_day"
   ]
  },
  {
   "cell_type": "code",
   "execution_count": 44,
   "id": "470609a4",
   "metadata": {
    "ExecuteTime": {
     "end_time": "2022-01-13T16:53:58.891496Z",
     "start_time": "2022-01-13T16:53:58.845496Z"
    }
   },
   "outputs": [
    {
     "data": {
      "text/plain": [
       "A         101798\n",
       "AGG MI     62281\n",
       "B          60247\n",
       "AGG BG     22956\n",
       "AGG BS     19254\n",
       "C          17124\n",
       "C D        15635\n",
       "Name: Zona, dtype: int64"
      ]
     },
     "execution_count": 44,
     "metadata": {},
     "output_type": "execute_result"
    }
   ],
   "source": [
    "aria_sensori_zone__id_day['Zona'].value_counts()"
   ]
  },
  {
   "cell_type": "markdown",
   "id": "f7005841",
   "metadata": {},
   "source": [
    "L'attributo `quota` delle stazioni in 'C D' indica che si trovano nel fondovalle quindi associo queste stazioni alla zona D"
   ]
  },
  {
   "cell_type": "code",
   "execution_count": 45,
   "id": "d7a46a26",
   "metadata": {
    "ExecuteTime": {
     "end_time": "2022-01-13T16:53:58.907498Z",
     "start_time": "2022-01-13T16:53:58.893496Z"
    }
   },
   "outputs": [],
   "source": [
    "aria_sensori_zone__id_day['Zona'].replace('C D', 'D', inplace = True)"
   ]
  },
  {
   "cell_type": "code",
   "execution_count": 46,
   "id": "cb577375",
   "metadata": {
    "ExecuteTime": {
     "end_time": "2022-01-13T16:53:58.955497Z",
     "start_time": "2022-01-13T16:53:58.909496Z"
    }
   },
   "outputs": [
    {
     "data": {
      "text/plain": [
       "A         101798\n",
       "AGG MI     62281\n",
       "B          60247\n",
       "AGG BG     22956\n",
       "AGG BS     19254\n",
       "C          17124\n",
       "D          15635\n",
       "Name: Zona, dtype: int64"
      ]
     },
     "execution_count": 46,
     "metadata": {},
     "output_type": "execute_result"
    }
   ],
   "source": [
    "aria_sensori_zone__id_day['Zona'].value_counts()"
   ]
  },
  {
   "cell_type": "markdown",
   "id": "2e8659e8",
   "metadata": {},
   "source": [
    "## Grouping e calcolo grandezze aggegate (GROUP by per Data, Zona e NomeTipoSensore)\n",
    "\n",
    "- Raggruppo per `Data` (giorno), `Zona`, `NomeTipoSensore`\n",
    "- Calcolo grandezze aggregate\n",
    "    - Calcolo il valore medio e la deviazione standard del `Valore_MEAN_id_day`, cioé il valore mediato di un sensore sull'intera giornata\n",
    "    - Importante sottolineare che le funzioni `mean, count e std` di pandas NON tengono conto dei Na, quindi i valori che vediamo sono esatti\n",
    "- Si perdono le colonne `Valore_COUNT_id_day` e `Valore_STD_id_day` ma non sono importanti, sono piú importanti quelle che ricalcoliamo (chiamate `Valore_COUNT_day_zona_tipo` e `Valore_STD_day_zona_tipo`)"
   ]
  },
  {
   "cell_type": "code",
   "execution_count": 47,
   "id": "224e2409",
   "metadata": {
    "ExecuteTime": {
     "end_time": "2022-01-13T16:53:59.162532Z",
     "start_time": "2022-01-13T16:53:58.956496Z"
    },
    "scrolled": false
   },
   "outputs": [
    {
     "data": {
      "text/html": [
       "<div>\n",
       "<style scoped>\n",
       "    .dataframe tbody tr th:only-of-type {\n",
       "        vertical-align: middle;\n",
       "    }\n",
       "\n",
       "    .dataframe tbody tr th {\n",
       "        vertical-align: top;\n",
       "    }\n",
       "\n",
       "    .dataframe thead th {\n",
       "        text-align: right;\n",
       "    }\n",
       "</style>\n",
       "<table border=\"1\" class=\"dataframe\">\n",
       "  <thead>\n",
       "    <tr style=\"text-align: right;\">\n",
       "      <th></th>\n",
       "      <th>Data</th>\n",
       "      <th>Zona</th>\n",
       "      <th>NomeTipoSensore</th>\n",
       "      <th>Valore_MEAN_day_zona_tipo</th>\n",
       "      <th>Valore_COUNT_day_zona_tipo</th>\n",
       "      <th>Valore_STD_day_zona_tipo</th>\n",
       "    </tr>\n",
       "  </thead>\n",
       "  <tbody>\n",
       "    <tr>\n",
       "      <th>0</th>\n",
       "      <td>2020-01-01</td>\n",
       "      <td>A</td>\n",
       "      <td>Benzene</td>\n",
       "      <td>1.888889</td>\n",
       "      <td>9</td>\n",
       "      <td>0.964941</td>\n",
       "    </tr>\n",
       "    <tr>\n",
       "      <th>1</th>\n",
       "      <td>2020-01-01</td>\n",
       "      <td>A</td>\n",
       "      <td>Biossido di Azoto</td>\n",
       "      <td>41.363580</td>\n",
       "      <td>27</td>\n",
       "      <td>8.871595</td>\n",
       "    </tr>\n",
       "    <tr>\n",
       "      <th>2</th>\n",
       "      <td>2020-01-01</td>\n",
       "      <td>A</td>\n",
       "      <td>Biossido di Zolfo</td>\n",
       "      <td>2.647024</td>\n",
       "      <td>14</td>\n",
       "      <td>1.138938</td>\n",
       "    </tr>\n",
       "    <tr>\n",
       "      <th>3</th>\n",
       "      <td>2020-01-01</td>\n",
       "      <td>A</td>\n",
       "      <td>Monossido di Carbonio</td>\n",
       "      <td>1.178611</td>\n",
       "      <td>15</td>\n",
       "      <td>0.370830</td>\n",
       "    </tr>\n",
       "    <tr>\n",
       "      <th>4</th>\n",
       "      <td>2020-01-01</td>\n",
       "      <td>A</td>\n",
       "      <td>Ossidi di Azoto</td>\n",
       "      <td>101.363117</td>\n",
       "      <td>27</td>\n",
       "      <td>41.988203</td>\n",
       "    </tr>\n",
       "    <tr>\n",
       "      <th>...</th>\n",
       "      <td>...</td>\n",
       "      <td>...</td>\n",
       "      <td>...</td>\n",
       "      <td>...</td>\n",
       "      <td>...</td>\n",
       "      <td>...</td>\n",
       "    </tr>\n",
       "    <tr>\n",
       "      <th>40550</th>\n",
       "      <td>2021-12-28</td>\n",
       "      <td>AGG BS</td>\n",
       "      <td>Benzene</td>\n",
       "      <td>1.500000</td>\n",
       "      <td>1</td>\n",
       "      <td>NaN</td>\n",
       "    </tr>\n",
       "    <tr>\n",
       "      <th>40551</th>\n",
       "      <td>2021-12-28</td>\n",
       "      <td>AGG BS</td>\n",
       "      <td>Ozono</td>\n",
       "      <td>0.042857</td>\n",
       "      <td>1</td>\n",
       "      <td>NaN</td>\n",
       "    </tr>\n",
       "    <tr>\n",
       "      <th>40552</th>\n",
       "      <td>2021-12-28</td>\n",
       "      <td>B</td>\n",
       "      <td>Biossido di Zolfo</td>\n",
       "      <td>NaN</td>\n",
       "      <td>0</td>\n",
       "      <td>NaN</td>\n",
       "    </tr>\n",
       "    <tr>\n",
       "      <th>40553</th>\n",
       "      <td>2021-12-28</td>\n",
       "      <td>B</td>\n",
       "      <td>Ozono</td>\n",
       "      <td>NaN</td>\n",
       "      <td>0</td>\n",
       "      <td>NaN</td>\n",
       "    </tr>\n",
       "    <tr>\n",
       "      <th>40554</th>\n",
       "      <td>2021-12-28</td>\n",
       "      <td>B</td>\n",
       "      <td>Particelle sospese PM2.5</td>\n",
       "      <td>58.900000</td>\n",
       "      <td>1</td>\n",
       "      <td>NaN</td>\n",
       "    </tr>\n",
       "  </tbody>\n",
       "</table>\n",
       "<p>40555 rows × 6 columns</p>\n",
       "</div>"
      ],
      "text/plain": [
       "             Data    Zona           NomeTipoSensore  \\\n",
       "0      2020-01-01       A                   Benzene   \n",
       "1      2020-01-01       A         Biossido di Azoto   \n",
       "2      2020-01-01       A         Biossido di Zolfo   \n",
       "3      2020-01-01       A     Monossido di Carbonio   \n",
       "4      2020-01-01       A           Ossidi di Azoto   \n",
       "...           ...     ...                       ...   \n",
       "40550  2021-12-28  AGG BS                   Benzene   \n",
       "40551  2021-12-28  AGG BS                     Ozono   \n",
       "40552  2021-12-28       B         Biossido di Zolfo   \n",
       "40553  2021-12-28       B                     Ozono   \n",
       "40554  2021-12-28       B  Particelle sospese PM2.5   \n",
       "\n",
       "       Valore_MEAN_day_zona_tipo  Valore_COUNT_day_zona_tipo  \\\n",
       "0                       1.888889                           9   \n",
       "1                      41.363580                          27   \n",
       "2                       2.647024                          14   \n",
       "3                       1.178611                          15   \n",
       "4                     101.363117                          27   \n",
       "...                          ...                         ...   \n",
       "40550                   1.500000                           1   \n",
       "40551                   0.042857                           1   \n",
       "40552                        NaN                           0   \n",
       "40553                        NaN                           0   \n",
       "40554                  58.900000                           1   \n",
       "\n",
       "       Valore_STD_day_zona_tipo  \n",
       "0                      0.964941  \n",
       "1                      8.871595  \n",
       "2                      1.138938  \n",
       "3                      0.370830  \n",
       "4                     41.988203  \n",
       "...                         ...  \n",
       "40550                       NaN  \n",
       "40551                       NaN  \n",
       "40552                       NaN  \n",
       "40553                       NaN  \n",
       "40554                       NaN  \n",
       "\n",
       "[40555 rows x 6 columns]"
      ]
     },
     "execution_count": 47,
     "metadata": {},
     "output_type": "execute_result"
    }
   ],
   "source": [
    "aria_sensori_zone__day_zona_tipo = aria_sensori_zone__id_day.groupby([\n",
    "    'Data',\n",
    "    'Zona',\n",
    "    'NomeTipoSensore'\n",
    "]).agg({\n",
    "    'Valore_MEAN_id_day': ['mean', 'count', 'std']\n",
    "}).reset_index()\n",
    "\n",
    "aria_sensori_zone__day_zona_tipo.columns = ['Data', 'Zona', 'NomeTipoSensore', 'Valore_MEAN_day_zona_tipo', 'Valore_COUNT_day_zona_tipo', 'Valore_STD_day_zona_tipo']\n",
    "aria_sensori_zone__day_zona_tipo"
   ]
  },
  {
   "cell_type": "markdown",
   "id": "e1564594",
   "metadata": {},
   "source": [
    "## Controllo valori mancanti nelle medie giornaliere per zona e tipo\n",
    "\n",
    "I valori delle medie mancanti sono dovuti a:\n",
    "\n",
    "- righe effettivamente mancanti\n",
    "- righe con Valore_MEAN uguale a NaN"
   ]
  },
  {
   "cell_type": "code",
   "execution_count": 48,
   "id": "910f3762",
   "metadata": {
    "ExecuteTime": {
     "end_time": "2022-01-13T16:53:59.194496Z",
     "start_time": "2022-01-13T16:53:59.163496Z"
    }
   },
   "outputs": [
    {
     "name": "stdout",
     "output_type": "stream",
     "text": [
      "40768 Numero righe teoriche -\n",
      "40555 Numero righe reali    =\n",
      "213   Numero righe mancanti\n"
     ]
    }
   ],
   "source": [
    "lista_date = pd.date_range(aria_sensori_zone__day_zona_tipo.Data.min(), aria_sensori_zone__day_zona_tipo.Data.max())\n",
    "lista_zone = aria_sensori_zone__day_zona_tipo.Zona.unique()\n",
    "lista_tipi = aria_sensori_zone__day_zona_tipo.NomeTipoSensore.unique()\n",
    "\n",
    "print(len(lista_date) * len(lista_zone) * len(lista_tipi),'Numero righe teoriche -') #giori * zone * tipi sensori\n",
    "print(len(aria_sensori_zone__day_zona_tipo),'Numero righe reali    =')\n",
    "print(len(lista_date) * len(lista_zone) * len(lista_tipi)-len(aria_sensori_zone__day_zona_tipo),'  Numero righe mancanti')"
   ]
  },
  {
   "cell_type": "code",
   "execution_count": 49,
   "id": "2883d657",
   "metadata": {
    "ExecuteTime": {
     "end_time": "2022-01-13T16:53:59.210494Z",
     "start_time": "2022-01-13T16:53:59.195498Z"
    }
   },
   "outputs": [
    {
     "name": "stdout",
     "output_type": "stream",
     "text": [
      "110 Numero righe con valore NaN\n"
     ]
    }
   ],
   "source": [
    "print(sum(aria_sensori_zone__day_zona_tipo['Valore_MEAN_day_zona_tipo'].isna()), 'Numero righe con valore NaN')"
   ]
  },
  {
   "cell_type": "markdown",
   "id": "0ee141de",
   "metadata": {},
   "source": [
    "#### Aggiungo i NaN  nei giorni mancanti per ogni coppia `Zona` e `NomeTipoSensore`\n",
    "\n",
    "Serve dopo quando si compie la media mobile (per mediare i giorni contigui e non le righe contigue)"
   ]
  },
  {
   "cell_type": "code",
   "execution_count": 50,
   "id": "05b22c7d",
   "metadata": {
    "ExecuteTime": {
     "end_time": "2022-01-13T16:53:59.545508Z",
     "start_time": "2022-01-13T16:53:59.212497Z"
    }
   },
   "outputs": [
    {
     "data": {
      "text/html": [
       "<div>\n",
       "<style scoped>\n",
       "    .dataframe tbody tr th:only-of-type {\n",
       "        vertical-align: middle;\n",
       "    }\n",
       "\n",
       "    .dataframe tbody tr th {\n",
       "        vertical-align: top;\n",
       "    }\n",
       "\n",
       "    .dataframe thead th {\n",
       "        text-align: right;\n",
       "    }\n",
       "</style>\n",
       "<table border=\"1\" class=\"dataframe\">\n",
       "  <thead>\n",
       "    <tr style=\"text-align: right;\">\n",
       "      <th></th>\n",
       "      <th>Data</th>\n",
       "      <th>Zona</th>\n",
       "      <th>NomeTipoSensore</th>\n",
       "      <th>Valore_MEAN_day_zona_tipo</th>\n",
       "      <th>Valore_COUNT_day_zona_tipo</th>\n",
       "      <th>Valore_STD_day_zona_tipo</th>\n",
       "    </tr>\n",
       "  </thead>\n",
       "  <tbody>\n",
       "    <tr>\n",
       "      <th>0</th>\n",
       "      <td>2020-01-01</td>\n",
       "      <td>A</td>\n",
       "      <td>Benzene</td>\n",
       "      <td>1.888889</td>\n",
       "      <td>9.0</td>\n",
       "      <td>0.964941</td>\n",
       "    </tr>\n",
       "    <tr>\n",
       "      <th>1</th>\n",
       "      <td>2020-01-01</td>\n",
       "      <td>A</td>\n",
       "      <td>Biossido di Azoto</td>\n",
       "      <td>41.363580</td>\n",
       "      <td>27.0</td>\n",
       "      <td>8.871595</td>\n",
       "    </tr>\n",
       "    <tr>\n",
       "      <th>2</th>\n",
       "      <td>2020-01-01</td>\n",
       "      <td>A</td>\n",
       "      <td>Biossido di Zolfo</td>\n",
       "      <td>2.647024</td>\n",
       "      <td>14.0</td>\n",
       "      <td>1.138938</td>\n",
       "    </tr>\n",
       "    <tr>\n",
       "      <th>3</th>\n",
       "      <td>2020-01-01</td>\n",
       "      <td>A</td>\n",
       "      <td>Monossido di Carbonio</td>\n",
       "      <td>1.178611</td>\n",
       "      <td>15.0</td>\n",
       "      <td>0.370830</td>\n",
       "    </tr>\n",
       "    <tr>\n",
       "      <th>4</th>\n",
       "      <td>2020-01-01</td>\n",
       "      <td>A</td>\n",
       "      <td>Ossidi di Azoto</td>\n",
       "      <td>101.363117</td>\n",
       "      <td>27.0</td>\n",
       "      <td>41.988203</td>\n",
       "    </tr>\n",
       "    <tr>\n",
       "      <th>...</th>\n",
       "      <td>...</td>\n",
       "      <td>...</td>\n",
       "      <td>...</td>\n",
       "      <td>...</td>\n",
       "      <td>...</td>\n",
       "      <td>...</td>\n",
       "    </tr>\n",
       "    <tr>\n",
       "      <th>40763</th>\n",
       "      <td>2021-12-28</td>\n",
       "      <td>D</td>\n",
       "      <td>Monossido di Carbonio</td>\n",
       "      <td>NaN</td>\n",
       "      <td>NaN</td>\n",
       "      <td>NaN</td>\n",
       "    </tr>\n",
       "    <tr>\n",
       "      <th>40764</th>\n",
       "      <td>2021-12-28</td>\n",
       "      <td>D</td>\n",
       "      <td>Ossidi di Azoto</td>\n",
       "      <td>NaN</td>\n",
       "      <td>NaN</td>\n",
       "      <td>NaN</td>\n",
       "    </tr>\n",
       "    <tr>\n",
       "      <th>40765</th>\n",
       "      <td>2021-12-28</td>\n",
       "      <td>D</td>\n",
       "      <td>Ozono</td>\n",
       "      <td>NaN</td>\n",
       "      <td>NaN</td>\n",
       "      <td>NaN</td>\n",
       "    </tr>\n",
       "    <tr>\n",
       "      <th>40766</th>\n",
       "      <td>2021-12-28</td>\n",
       "      <td>D</td>\n",
       "      <td>PM10 (SM2005)</td>\n",
       "      <td>NaN</td>\n",
       "      <td>NaN</td>\n",
       "      <td>NaN</td>\n",
       "    </tr>\n",
       "    <tr>\n",
       "      <th>40767</th>\n",
       "      <td>2021-12-28</td>\n",
       "      <td>D</td>\n",
       "      <td>Particelle sospese PM2.5</td>\n",
       "      <td>NaN</td>\n",
       "      <td>NaN</td>\n",
       "      <td>NaN</td>\n",
       "    </tr>\n",
       "  </tbody>\n",
       "</table>\n",
       "<p>40768 rows × 6 columns</p>\n",
       "</div>"
      ],
      "text/plain": [
       "            Data Zona           NomeTipoSensore  Valore_MEAN_day_zona_tipo  \\\n",
       "0     2020-01-01    A                   Benzene                   1.888889   \n",
       "1     2020-01-01    A         Biossido di Azoto                  41.363580   \n",
       "2     2020-01-01    A         Biossido di Zolfo                   2.647024   \n",
       "3     2020-01-01    A     Monossido di Carbonio                   1.178611   \n",
       "4     2020-01-01    A           Ossidi di Azoto                 101.363117   \n",
       "...          ...  ...                       ...                        ...   \n",
       "40763 2021-12-28    D     Monossido di Carbonio                        NaN   \n",
       "40764 2021-12-28    D           Ossidi di Azoto                        NaN   \n",
       "40765 2021-12-28    D                     Ozono                        NaN   \n",
       "40766 2021-12-28    D             PM10 (SM2005)                        NaN   \n",
       "40767 2021-12-28    D  Particelle sospese PM2.5                        NaN   \n",
       "\n",
       "       Valore_COUNT_day_zona_tipo  Valore_STD_day_zona_tipo  \n",
       "0                             9.0                  0.964941  \n",
       "1                            27.0                  8.871595  \n",
       "2                            14.0                  1.138938  \n",
       "3                            15.0                  0.370830  \n",
       "4                            27.0                 41.988203  \n",
       "...                           ...                       ...  \n",
       "40763                         NaN                       NaN  \n",
       "40764                         NaN                       NaN  \n",
       "40765                         NaN                       NaN  \n",
       "40766                         NaN                       NaN  \n",
       "40767                         NaN                       NaN  \n",
       "\n",
       "[40768 rows x 6 columns]"
      ]
     },
     "execution_count": 50,
     "metadata": {},
     "output_type": "execute_result"
    }
   ],
   "source": [
    "colonne = ['Data', 'Zona', 'NomeTipoSensore']\n",
    "idx = pd.MultiIndex.from_product([lista_date, lista_zone, lista_tipi], names=colonne)\n",
    "\n",
    "aria_sensori_zone__day_zona_tipo = aria_sensori_zone__day_zona_tipo.set_index(colonne).reindex(idx, fill_value=np.NaN).reset_index()\n",
    "aria_sensori_zone__day_zona_tipo"
   ]
  },
  {
   "cell_type": "markdown",
   "id": "3817c50f",
   "metadata": {},
   "source": [
    "Abbiamo ottenuto un numero di righe uguale a quelle teoriche con presenti dei NaN"
   ]
  },
  {
   "cell_type": "code",
   "execution_count": 51,
   "id": "88e26a3f",
   "metadata": {
    "ExecuteTime": {
     "end_time": "2022-01-13T16:53:59.561497Z",
     "start_time": "2022-01-13T16:53:59.546497Z"
    }
   },
   "outputs": [
    {
     "name": "stdout",
     "output_type": "stream",
     "text": [
      "323 Numero totale di valori medi mancanti\n"
     ]
    }
   ],
   "source": [
    "print(sum(aria_sensori_zone__day_zona_tipo['Valore_MEAN_day_zona_tipo'].isna()), 'Numero totale di valori medi mancanti')"
   ]
  },
  {
   "cell_type": "markdown",
   "id": "e3f86e88",
   "metadata": {},
   "source": [
    "### Numero medio sensori e numero valori mancanti per ogni coppia `Zona` - `NomeTipoSensore`"
   ]
  },
  {
   "cell_type": "code",
   "execution_count": 52,
   "id": "215ef4e3",
   "metadata": {
    "ExecuteTime": {
     "end_time": "2022-01-13T16:54:00.406494Z",
     "start_time": "2022-01-13T16:53:59.563496Z"
    }
   },
   "outputs": [
    {
     "data": {
      "text/plain": [
       "<AxesSubplot:xlabel='Zona', ylabel='NomeTipoSensore'>"
      ]
     },
     "execution_count": 52,
     "metadata": {},
     "output_type": "execute_result"
    },
    {
     "data": {
      "image/png": "[encoded data removed]",
      "text/plain": [
       "<Figure size 432x360 with 2 Axes>"
      ]
     },
     "metadata": {},
     "output_type": "display_data"
    }
   ],
   "source": [
    "controllo = aria_sensori_zone__day_zona_tipo.groupby(['Zona', 'NomeTipoSensore'], as_index = False)[['Valore_COUNT_day_zona_tipo']].mean()\n",
    "controllo = controllo.pivot('NomeTipoSensore', 'Zona', 'Valore_COUNT_day_zona_tipo')\n",
    "\n",
    "sns.set(rc={'figure.figsize':(6,5)})\n",
    "sns.heatmap(controllo, annot=True, cmap=\"YlGnBu\")"
   ]
  },
  {
   "cell_type": "markdown",
   "id": "cd0b322e",
   "metadata": {},
   "source": [
    "- Ora valuto il numero di osservazioni per ogni coppia `NomeTipoSensore` - `Zona`.\n",
    "- Con il dataset aggiornato dovrebbe risultare per tutte le coppie 365gg x numero anni + 1gg(bisestile il 2020)"
   ]
  },
  {
   "cell_type": "code",
   "execution_count": 53,
   "id": "d8c5f507",
   "metadata": {
    "ExecuteTime": {
     "end_time": "2022-01-13T16:54:01.236528Z",
     "start_time": "2022-01-13T16:54:00.408496Z"
    }
   },
   "outputs": [
    {
     "data": {
      "text/plain": [
       "<AxesSubplot:xlabel='Zona', ylabel='NomeTipoSensore'>"
      ]
     },
     "execution_count": 53,
     "metadata": {},
     "output_type": "execute_result"
    },
    {
     "data": {
      "image/png": "[encoded data removed]",
      "text/plain": [
       "<Figure size 432x360 with 2 Axes>"
      ]
     },
     "metadata": {},
     "output_type": "display_data"
    }
   ],
   "source": [
    "controllo1 = aria_sensori_zone__day_zona_tipo.groupby(['Zona', 'NomeTipoSensore'], as_index = False)[['Valore_MEAN_day_zona_tipo']].count()\n",
    "controllo1 = controllo1.pivot('NomeTipoSensore', 'Zona', 'Valore_MEAN_day_zona_tipo')\n",
    "\n",
    "sns.heatmap(controllo1, annot=True, fmt=\"d\", cmap=\"YlGnBu_r\")"
   ]
  },
  {
   "cell_type": "markdown",
   "id": "85d04f97",
   "metadata": {},
   "source": [
    "### Valori mancanti per ogni coppia `Data` - `NomeTipoSensore`\n",
    "\n",
    "Il grafico é commentato perché é un po' pesante"
   ]
  },
  {
   "cell_type": "code",
   "execution_count": 54,
   "id": "5fc8f10d",
   "metadata": {
    "ExecuteTime": {
     "end_time": "2022-01-13T16:54:01.268499Z",
     "start_time": "2022-01-13T16:54:01.237499Z"
    }
   },
   "outputs": [],
   "source": [
    "controllo2 = aria_sensori_zone__day_zona_tipo.groupby(['NomeTipoSensore', 'Data'], as_index = False)[['Valore_MEAN_day_zona_tipo']].count()\n",
    "controllo2 = controllo2.pivot('NomeTipoSensore', 'Data', 'Valore_MEAN_day_zona_tipo')\n",
    "\n",
    "#sns.set(rc={'figure.figsize':(17,5)})\n",
    "#sns.heatmap(controllo2, cmap=\"YlGnBu_r\", vmin=6, vmax=7)"
   ]
  },
  {
   "cell_type": "markdown",
   "id": "cfaaa3f8",
   "metadata": {},
   "source": [
    "## Media mobile\n",
    "\n",
    "- In fase di lettura dei csv prendere qualche giorno prima e qualche giorno dopo degli anni considerati cosi da avere valori attendibili agli estremi!! (in fase di importazione)\n",
    "- La calcolo su 7 e su 21 giorni\n",
    "- Setto il parametro del numero minimo di valori da avere per calcolare la media (3 per media 7gg e 10 per media 21gg)"
   ]
  },
  {
   "cell_type": "code",
   "execution_count": 55,
   "id": "69554c1d",
   "metadata": {
    "ExecuteTime": {
     "end_time": "2022-01-13T16:54:02.066552Z",
     "start_time": "2022-01-13T16:54:01.269497Z"
    },
    "code_folding": []
   },
   "outputs": [],
   "source": [
    "ROLL_WINDOW1 = 7   #media mobile 7 giorni\n",
    "ROLL_WINDOW2 = 21  #media mobile 21 giorni\n",
    "\n",
    "new_col1 = pd.Series(dtype =  np.float64) #inizializzo un nuovo array che sará la nuova colonna con le medie\n",
    "new_col2 = pd.Series(dtype =  np.float64) #inizializzo un nuovo array che sará la nuova colonna con le medie\n",
    "\n",
    "for zona in lista_zone:\n",
    "    for tipo in lista_tipi:\n",
    "\n",
    "        temp1 = aria_sensori_zone__day_zona_tipo[(aria_sensori_zone__day_zona_tipo['NomeTipoSensore'] == tipo) & (aria_sensori_zone__day_zona_tipo['Zona'] == zona)]['Valore_MEAN_day_zona_tipo']\\\n",
    "                .rolling(window=ROLL_WINDOW1, center = True, min_periods = 3)\\\n",
    "                .mean()\n",
    "        temp2 = aria_sensori_zone__day_zona_tipo[(aria_sensori_zone__day_zona_tipo['NomeTipoSensore'] == tipo) & (aria_sensori_zone__day_zona_tipo['Zona'] == zona)]['Valore_MEAN_day_zona_tipo']\\\n",
    "                .rolling(window=ROLL_WINDOW2, center = True, min_periods = 10)\\\n",
    "                .mean()\n",
    "        new_col1 = new_col1.append(temp1)\n",
    "        new_col2 = new_col2.append(temp2)\n",
    "        \n",
    "aria_sensori_zone__day_zona_tipo = pd.merge(aria_sensori_zone__day_zona_tipo, new_col1.rename('Valore_ROLLMEAN7_day_zona_tipo'), left_index=True, right_index=True)\n",
    "aria_sensori_zone__day_zona_tipo = pd.merge(aria_sensori_zone__day_zona_tipo, new_col2.rename('Valore_ROLLMEAN21_day_zona_tipo'), left_index=True, right_index=True)"
   ]
  },
  {
   "cell_type": "markdown",
   "id": "feb667b6",
   "metadata": {},
   "source": [
    "Stampo una coppia `NomeTipoSensore` e `Zona` specifica come esempio"
   ]
  },
  {
   "cell_type": "code",
   "execution_count": 56,
   "id": "eb17001f",
   "metadata": {
    "ExecuteTime": {
     "end_time": "2022-01-13T16:54:02.097495Z",
     "start_time": "2022-01-13T16:54:02.067531Z"
    }
   },
   "outputs": [
    {
     "data": {
      "text/html": [
       "<div>\n",
       "<style scoped>\n",
       "    .dataframe tbody tr th:only-of-type {\n",
       "        vertical-align: middle;\n",
       "    }\n",
       "\n",
       "    .dataframe tbody tr th {\n",
       "        vertical-align: top;\n",
       "    }\n",
       "\n",
       "    .dataframe thead th {\n",
       "        text-align: right;\n",
       "    }\n",
       "</style>\n",
       "<table border=\"1\" class=\"dataframe\">\n",
       "  <thead>\n",
       "    <tr style=\"text-align: right;\">\n",
       "      <th></th>\n",
       "      <th>Data</th>\n",
       "      <th>Zona</th>\n",
       "      <th>NomeTipoSensore</th>\n",
       "      <th>Valore_MEAN_day_zona_tipo</th>\n",
       "      <th>Valore_COUNT_day_zona_tipo</th>\n",
       "      <th>Valore_STD_day_zona_tipo</th>\n",
       "      <th>Valore_ROLLMEAN7_day_zona_tipo</th>\n",
       "      <th>Valore_ROLLMEAN21_day_zona_tipo</th>\n",
       "    </tr>\n",
       "  </thead>\n",
       "  <tbody>\n",
       "    <tr>\n",
       "      <th>6</th>\n",
       "      <td>2020-01-01</td>\n",
       "      <td>A</td>\n",
       "      <td>PM10 (SM2005)</td>\n",
       "      <td>77.681818</td>\n",
       "      <td>22.0</td>\n",
       "      <td>25.302713</td>\n",
       "      <td>61.659585</td>\n",
       "      <td>53.516529</td>\n",
       "    </tr>\n",
       "    <tr>\n",
       "      <th>62</th>\n",
       "      <td>2020-01-02</td>\n",
       "      <td>A</td>\n",
       "      <td>PM10 (SM2005)</td>\n",
       "      <td>62.043478</td>\n",
       "      <td>23.0</td>\n",
       "      <td>20.184328</td>\n",
       "      <td>57.658103</td>\n",
       "      <td>52.915514</td>\n",
       "    </tr>\n",
       "    <tr>\n",
       "      <th>118</th>\n",
       "      <td>2020-01-03</td>\n",
       "      <td>A</td>\n",
       "      <td>PM10 (SM2005)</td>\n",
       "      <td>59.652174</td>\n",
       "      <td>23.0</td>\n",
       "      <td>17.517806</td>\n",
       "      <td>55.186100</td>\n",
       "      <td>53.584220</td>\n",
       "    </tr>\n",
       "    <tr>\n",
       "      <th>174</th>\n",
       "      <td>2020-01-04</td>\n",
       "      <td>A</td>\n",
       "      <td>PM10 (SM2005)</td>\n",
       "      <td>47.260870</td>\n",
       "      <td>23.0</td>\n",
       "      <td>13.325360</td>\n",
       "      <td>54.352061</td>\n",
       "      <td>54.630152</td>\n",
       "    </tr>\n",
       "    <tr>\n",
       "      <th>230</th>\n",
       "      <td>2020-01-05</td>\n",
       "      <td>A</td>\n",
       "      <td>PM10 (SM2005)</td>\n",
       "      <td>41.652174</td>\n",
       "      <td>23.0</td>\n",
       "      <td>14.398891</td>\n",
       "      <td>49.950311</td>\n",
       "      <td>56.927273</td>\n",
       "    </tr>\n",
       "  </tbody>\n",
       "</table>\n",
       "</div>"
      ],
      "text/plain": [
       "          Data Zona NomeTipoSensore  Valore_MEAN_day_zona_tipo  \\\n",
       "6   2020-01-01    A   PM10 (SM2005)                  77.681818   \n",
       "62  2020-01-02    A   PM10 (SM2005)                  62.043478   \n",
       "118 2020-01-03    A   PM10 (SM2005)                  59.652174   \n",
       "174 2020-01-04    A   PM10 (SM2005)                  47.260870   \n",
       "230 2020-01-05    A   PM10 (SM2005)                  41.652174   \n",
       "\n",
       "     Valore_COUNT_day_zona_tipo  Valore_STD_day_zona_tipo  \\\n",
       "6                          22.0                 25.302713   \n",
       "62                         23.0                 20.184328   \n",
       "118                        23.0                 17.517806   \n",
       "174                        23.0                 13.325360   \n",
       "230                        23.0                 14.398891   \n",
       "\n",
       "     Valore_ROLLMEAN7_day_zona_tipo  Valore_ROLLMEAN21_day_zona_tipo  \n",
       "6                         61.659585                        53.516529  \n",
       "62                        57.658103                        52.915514  \n",
       "118                       55.186100                        53.584220  \n",
       "174                       54.352061                        54.630152  \n",
       "230                       49.950311                        56.927273  "
      ]
     },
     "execution_count": 56,
     "metadata": {},
     "output_type": "execute_result"
    }
   ],
   "source": [
    "aria_sensori_zone__day_zona_tipo.loc[(aria_sensori_zone__day_zona_tipo['NomeTipoSensore'] == 'PM10 (SM2005)') & (aria_sensori_zone__day_zona_tipo['Zona'] == 'A')].head()"
   ]
  },
  {
   "cell_type": "markdown",
   "id": "adae75e2",
   "metadata": {},
   "source": [
    "- Risolve quasi completamente il problema di qualche media mancante"
   ]
  },
  {
   "cell_type": "code",
   "execution_count": 57,
   "id": "882fb75b",
   "metadata": {
    "ExecuteTime": {
     "end_time": "2022-01-13T16:54:02.129497Z",
     "start_time": "2022-01-13T16:54:02.098495Z"
    }
   },
   "outputs": [
    {
     "name": "stdout",
     "output_type": "stream",
     "text": [
      "323 Valori mancanti media giornaliera\n",
      "51  Valori mancanti media mobile 7gg\n",
      "20  Valori mancanti media mobile 21gg\n"
     ]
    }
   ],
   "source": [
    "print(sum(aria_sensori_zone__day_zona_tipo.Valore_MEAN_day_zona_tipo.isna()), 'Valori mancanti media giornaliera')\n",
    "print(sum(aria_sensori_zone__day_zona_tipo.Valore_ROLLMEAN7_day_zona_tipo.isna()), ' Valori mancanti media mobile 7gg')\n",
    "print(sum(aria_sensori_zone__day_zona_tipo.Valore_ROLLMEAN21_day_zona_tipo.isna()), ' Valori mancanti media mobile 21gg')"
   ]
  },
  {
   "cell_type": "markdown",
   "id": "24ea855b",
   "metadata": {},
   "source": [
    "#### Plot esempio con media giornaliera, media mobile 7gg e media mobile 21gg (PM10 zona A)"
   ]
  },
  {
   "cell_type": "code",
   "execution_count": 58,
   "id": "f844f4d8",
   "metadata": {
    "ExecuteTime": {
     "end_time": "2022-01-13T16:54:02.720493Z",
     "start_time": "2022-01-13T16:54:02.131502Z"
    },
    "scrolled": false
   },
   "outputs": [
    {
     "data": {
      "text/plain": [
       "<AxesSubplot:xlabel='Data', ylabel='Valore_MEAN_day_zona_tipo'>"
      ]
     },
     "execution_count": 58,
     "metadata": {},
     "output_type": "execute_result"
    },
    {
     "data": {
      "image/png": "[encoded data removed]",
      "text/plain": [
       "<Figure size 1440x504 with 1 Axes>"
      ]
     },
     "metadata": {},
     "output_type": "display_data"
    }
   ],
   "source": [
    "sns.set(rc={'figure.figsize':(20,7)})\n",
    "sns.lineplot(x=\"Data\", y='Valore_MEAN_day_zona_tipo', data=aria_sensori_zone__day_zona_tipo.loc[(aria_sensori_zone__day_zona_tipo['NomeTipoSensore'] == 'PM10 (SM2005)') & (aria_sensori_zone__day_zona_tipo['Zona'] == 'A')])\n",
    "sns.lineplot(x=\"Data\", y='Valore_ROLLMEAN7_day_zona_tipo', data=aria_sensori_zone__day_zona_tipo.loc[(aria_sensori_zone__day_zona_tipo['NomeTipoSensore'] == 'PM10 (SM2005)') & (aria_sensori_zone__day_zona_tipo['Zona'] == 'A')])\n",
    "sns.lineplot(x=\"Data\", y='Valore_ROLLMEAN21_day_zona_tipo', data=aria_sensori_zone__day_zona_tipo.loc[(aria_sensori_zone__day_zona_tipo['NomeTipoSensore'] == 'PM10 (SM2005)') & (aria_sensori_zone__day_zona_tipo['Zona'] == 'A')])"
   ]
  },
  {
   "cell_type": "markdown",
   "id": "79ac5d38",
   "metadata": {},
   "source": [
    "La media sui 21 giorni é eccessiva perché genera degli andamenti che non sono presenti nei dati"
   ]
  },
  {
   "cell_type": "markdown",
   "id": "cc9f74f4",
   "metadata": {},
   "source": [
    "## Scalare grandezze rispetto alla soglia per renderle confrontabili\n",
    "\n",
    "#### Limiti del sito ARPA Lombardia (WHO 2005)\n",
    "\n",
    "É un mix tra massimi su medie orarie, 8 ore, giornaliere e annuali"
   ]
  },
  {
   "cell_type": "code",
   "execution_count": 59,
   "id": "22c4551b",
   "metadata": {
    "ExecuteTime": {
     "end_time": "2022-01-13T16:54:02.736496Z",
     "start_time": "2022-01-13T16:54:02.721494Z"
    }
   },
   "outputs": [
    {
     "data": {
      "text/html": [
       "<div>\n",
       "<style scoped>\n",
       "    .dataframe tbody tr th:only-of-type {\n",
       "        vertical-align: middle;\n",
       "    }\n",
       "\n",
       "    .dataframe tbody tr th {\n",
       "        vertical-align: top;\n",
       "    }\n",
       "\n",
       "    .dataframe thead th {\n",
       "        text-align: right;\n",
       "    }\n",
       "</style>\n",
       "<table border=\"1\" class=\"dataframe\">\n",
       "  <thead>\n",
       "    <tr style=\"text-align: right;\">\n",
       "      <th></th>\n",
       "      <th>Limite</th>\n",
       "    </tr>\n",
       "  </thead>\n",
       "  <tbody>\n",
       "    <tr>\n",
       "      <th>Benzene</th>\n",
       "      <td>NaN</td>\n",
       "    </tr>\n",
       "    <tr>\n",
       "      <th>Biossido di Azoto</th>\n",
       "      <td>200.0</td>\n",
       "    </tr>\n",
       "    <tr>\n",
       "      <th>Biossido di Zolfo</th>\n",
       "      <td>350.0</td>\n",
       "    </tr>\n",
       "    <tr>\n",
       "      <th>Monossido di Carbonio</th>\n",
       "      <td>NaN</td>\n",
       "    </tr>\n",
       "    <tr>\n",
       "      <th>Ossidi di Azoto</th>\n",
       "      <td>NaN</td>\n",
       "    </tr>\n",
       "    <tr>\n",
       "      <th>Ozono</th>\n",
       "      <td>180.0</td>\n",
       "    </tr>\n",
       "    <tr>\n",
       "      <th>PM10 (SM2005)</th>\n",
       "      <td>50.0</td>\n",
       "    </tr>\n",
       "    <tr>\n",
       "      <th>Particelle sospese PM2.5</th>\n",
       "      <td>25.0</td>\n",
       "    </tr>\n",
       "  </tbody>\n",
       "</table>\n",
       "</div>"
      ],
      "text/plain": [
       "                          Limite\n",
       "Benzene                      NaN\n",
       "Biossido di Azoto          200.0\n",
       "Biossido di Zolfo          350.0\n",
       "Monossido di Carbonio        NaN\n",
       "Ossidi di Azoto              NaN\n",
       "Ozono                      180.0\n",
       "PM10 (SM2005)               50.0\n",
       "Particelle sospese PM2.5    25.0"
      ]
     },
     "execution_count": 59,
     "metadata": {},
     "output_type": "execute_result"
    }
   ],
   "source": [
    "limitiARPA_vari = pd.DataFrame({'Benzene': np.NaN,\n",
    "                            'Biossido di Azoto': 200,\n",
    "                            'Biossido di Zolfo': 350,\n",
    "                            'Monossido di Carbonio': np.NaN,\n",
    "                            'Ossidi di Azoto': np.NaN,\n",
    "                            'Ozono': 180,\n",
    "                            'PM10 (SM2005)': 50,\n",
    "                            'Particelle sospese PM2.5': 25},\n",
    "                           index = ['Limite']).transpose()\n",
    "limitiARPA_vari"
   ]
  },
  {
   "cell_type": "markdown",
   "id": "ad3ae7ed",
   "metadata": {},
   "source": [
    "#### Nuovi limiti WHO sulle 24h del 2021\n",
    "\n",
    "\n",
    "- Nuove guidelines del **22 September 2021** dalla WHO [qui](https://www.who.int/news/item/22-09-2021-new-who-global-air-quality-guidelines-aim-to-save-millions-of-lives-from-air-pollution) ad aggiornare le guidelines del 2005 \n",
    "- The updated WHO Global Air Quality Guidelines (AQGs) provide recommendations on air quality guideline levels as well as interim targets for **six key air pollutants**. The guidelines focus on so-called classical pollutants, particulate matter (PM₂.₅ and PM₁₀), ozone (O₃), nitrogen dioxide (NO₂), sulfur dioxide (SO₂) and carbon monoxide (CO). When action is taken to reduce these classical pollutants it also has an impact on other pollutants. [qui](https://www.who.int/news-room/questions-and-answers/item/who-global-air-quality-guidelines)\n",
    "- Nuovi limiti SOLO sulle 24 ore (Recommended AQG levels), dati ricavati da [qui](https://apps.who.int/iris/bitstream/handle/10665/345334/9789240034433-eng.pdf)\n",
    "- I limiti sulle 24h sono quelli per ridurre i short-term exposure effects (da mettere nel titolo/ context)\n",
    "- Le unitá di misura rispecchiano quelle dei sensori\n",
    "- Puo' essere utile calcoare per ogni inquinante anche una dose? (Dose di inquinante = concentrazione normalizzata *  numero giorni) Edit: forse no perché non ha senso con le quantita normalizzate"
   ]
  },
  {
   "cell_type": "code",
   "execution_count": 60,
   "id": "1cda92e9",
   "metadata": {
    "ExecuteTime": {
     "end_time": "2022-01-13T16:54:02.752527Z",
     "start_time": "2022-01-13T16:54:02.738498Z"
    }
   },
   "outputs": [
    {
     "data": {
      "text/html": [
       "<div>\n",
       "<style scoped>\n",
       "    .dataframe tbody tr th:only-of-type {\n",
       "        vertical-align: middle;\n",
       "    }\n",
       "\n",
       "    .dataframe tbody tr th {\n",
       "        vertical-align: top;\n",
       "    }\n",
       "\n",
       "    .dataframe thead th {\n",
       "        text-align: right;\n",
       "    }\n",
       "</style>\n",
       "<table border=\"1\" class=\"dataframe\">\n",
       "  <thead>\n",
       "    <tr style=\"text-align: right;\">\n",
       "      <th></th>\n",
       "      <th>Limite</th>\n",
       "    </tr>\n",
       "  </thead>\n",
       "  <tbody>\n",
       "    <tr>\n",
       "      <th>Benzene</th>\n",
       "      <td>NaN</td>\n",
       "    </tr>\n",
       "    <tr>\n",
       "      <th>Biossido di Azoto</th>\n",
       "      <td>25.0</td>\n",
       "    </tr>\n",
       "    <tr>\n",
       "      <th>Biossido di Zolfo</th>\n",
       "      <td>40.0</td>\n",
       "    </tr>\n",
       "    <tr>\n",
       "      <th>Monossido di Carbonio</th>\n",
       "      <td>4.0</td>\n",
       "    </tr>\n",
       "    <tr>\n",
       "      <th>Ossidi di Azoto</th>\n",
       "      <td>NaN</td>\n",
       "    </tr>\n",
       "    <tr>\n",
       "      <th>Ozono</th>\n",
       "      <td>NaN</td>\n",
       "    </tr>\n",
       "    <tr>\n",
       "      <th>PM10 (SM2005)</th>\n",
       "      <td>45.0</td>\n",
       "    </tr>\n",
       "    <tr>\n",
       "      <th>Particelle sospese PM2.5</th>\n",
       "      <td>15.0</td>\n",
       "    </tr>\n",
       "  </tbody>\n",
       "</table>\n",
       "</div>"
      ],
      "text/plain": [
       "                          Limite\n",
       "Benzene                      NaN\n",
       "Biossido di Azoto           25.0\n",
       "Biossido di Zolfo           40.0\n",
       "Monossido di Carbonio        4.0\n",
       "Ossidi di Azoto              NaN\n",
       "Ozono                        NaN\n",
       "PM10 (SM2005)               45.0\n",
       "Particelle sospese PM2.5    15.0"
      ]
     },
     "execution_count": 60,
     "metadata": {},
     "output_type": "execute_result"
    }
   ],
   "source": [
    "limitiWHO_24h = pd.DataFrame({'Benzene': np.NaN,\n",
    "                               'Biossido di Azoto': 25,\n",
    "                               'Biossido di Zolfo': 40,\n",
    "                               'Monossido di Carbonio': 4, #mg/m3\n",
    "                               'Ossidi di Azoto': np.NaN,\n",
    "                               'Ozono': np.NaN,\n",
    "                               'PM10 (SM2005)': 45,\n",
    "                               'Particelle sospese PM2.5': 15},\n",
    "                              index = ['Limite']).transpose()\n",
    "limitiWHO_24h"
   ]
  },
  {
   "cell_type": "markdown",
   "id": "e16a66ad",
   "metadata": {},
   "source": [
    "Aggiungo colonne al dataframe con le grandezze scalate rispetto al loro limite sulle 24h"
   ]
  },
  {
   "cell_type": "code",
   "execution_count": 61,
   "id": "4620b290",
   "metadata": {
    "ExecuteTime": {
     "end_time": "2022-01-13T16:54:02.816588Z",
     "start_time": "2022-01-13T16:54:02.754498Z"
    }
   },
   "outputs": [],
   "source": [
    "norm = aria_sensori_zone__day_zona_tipo\n",
    "new_col1 = pd.Series(dtype =  np.float64) #inizializzo un nuovo array che sará la nuova colonna con le medie\n",
    "\n",
    "for tipo in lista_tipi:\n",
    "    temp1 = norm[norm.NomeTipoSensore == tipo]['Valore_ROLLMEAN7_day_zona_tipo'] / limitiWHO_24h.loc[tipo, 'Limite'] #scegliere i limiti da usare\n",
    "    new_col1 = new_col1.append(temp1)\n",
    "\n",
    "norm = pd.merge(norm, new_col1.rename('Valore_ROLLMEAN7_day_zona_tipo_NORM'), left_index=True, right_index=True)"
   ]
  },
  {
   "cell_type": "markdown",
   "id": "14c51546",
   "metadata": {},
   "source": [
    "## Media delle zone pesata sul numero di residenti(?)"
   ]
  },
  {
   "cell_type": "code",
   "execution_count": 62,
   "id": "db569ca1",
   "metadata": {
    "ExecuteTime": {
     "end_time": "2022-01-13T16:54:02.832531Z",
     "start_time": "2022-01-13T16:54:02.818499Z"
    }
   },
   "outputs": [
    {
     "data": {
      "text/plain": [
       "Zona\n",
       "A         2862310\n",
       "AGG BG     422629\n",
       "AGG BS     392782\n",
       "AGG MI    3593025\n",
       "B         1461573\n",
       "C          757127\n",
       "C D        328196\n",
       "D            8499\n",
       "Name: Residenti 2008, dtype: int64"
      ]
     },
     "execution_count": 62,
     "metadata": {},
     "output_type": "execute_result"
    }
   ],
   "source": [
    "zonizzazione.groupby('Zona')['Residenti 2008'].sum()"
   ]
  },
  {
   "cell_type": "markdown",
   "id": "ffc4c79c",
   "metadata": {},
   "source": [
    "## Esporto il dataframe"
   ]
  },
  {
   "cell_type": "code",
   "execution_count": 63,
   "id": "8bc9a28e",
   "metadata": {
    "ExecuteTime": {
     "end_time": "2022-01-13T16:54:02.848498Z",
     "start_time": "2022-01-13T16:54:02.834512Z"
    }
   },
   "outputs": [],
   "source": [
    "#aria_sensori_zone__day_zona_tipo.to_csv('aria_sensori_zone__day_zona_tipo.csv')"
   ]
  }
 ],
 "metadata": {
  "kernelspec": {
   "display_name": "Python 3",
   "language": "python",
   "name": "python3"
  },
  "language_info": {
   "codemirror_mode": {
    "name": "ipython",
    "version": 3
   },
   "file_extension": ".py",
   "mimetype": "text/x-python",
   "name": "python",
   "nbconvert_exporter": "python",
   "pygments_lexer": "ipython3",
   "version": "3.8.8"
  }
 },
 "nbformat": 4,
 "nbformat_minor": 5
}
