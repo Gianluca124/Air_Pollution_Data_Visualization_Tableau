{
 "cells": [
  {
   "cell_type": "markdown",
   "id": "17da6281",
   "metadata": {
    "heading_collapsed": true
   },
   "source": [
    "# Importazione librerie"
   ]
  },
  {
   "cell_type": "code",
   "execution_count": 72,
   "id": "9d3725ae",
   "metadata": {
    "ExecuteTime": {
     "end_time": "2022-01-14T20:41:24.035464Z",
     "start_time": "2022-01-14T20:41:24.022459Z"
    },
    "hidden": true
   },
   "outputs": [
    {
     "data": {
      "text/html": [
       "<style>.container { width:90% !important; }</style>"
      ],
      "text/plain": [
       "<IPython.core.display.HTML object>"
      ]
     },
     "metadata": {},
     "output_type": "display_data"
    }
   ],
   "source": [
    "from IPython.core.display import display, HTML\n",
    "\n",
    "display(HTML(\"<style>.container { width:90% !important; }</style>\"))"
   ]
  },
  {
   "cell_type": "code",
   "execution_count": 73,
   "id": "416c0c91",
   "metadata": {
    "ExecuteTime": {
     "end_time": "2022-01-14T20:41:24.051460Z",
     "start_time": "2022-01-14T20:41:24.037459Z"
    },
    "hidden": true
   },
   "outputs": [],
   "source": [
    "import pandas as pd\n",
    "import numpy as np\n",
    "import seaborn as sns"
   ]
  },
  {
   "cell_type": "markdown",
   "id": "a4193c40",
   "metadata": {
    "heading_collapsed": true
   },
   "source": [
    "# Conversione files e Importazione datasets"
   ]
  },
  {
   "cell_type": "markdown",
   "id": "e63d95f6",
   "metadata": {
    "heading_collapsed": true,
    "hidden": true
   },
   "source": [
    "## Convesione da `.csv` a `.parquet`"
   ]
  },
  {
   "cell_type": "markdown",
   "id": "f1631d44",
   "metadata": {
    "hidden": true
   },
   "source": [
    "Data la grande dimensione di alcuni dei dataset utilizzati, questi verranno convertiti da `.csv` a `.parquet` (Apache Parquet Format)"
   ]
  },
  {
   "cell_type": "code",
   "execution_count": 74,
   "id": "3ee688d7",
   "metadata": {
    "ExecuteTime": {
     "end_time": "2022-01-14T20:41:24.066459Z",
     "start_time": "2022-01-14T20:41:24.053462Z"
    },
    "hidden": true
   },
   "outputs": [],
   "source": [
    "#df = pd.read_csv('./Datasets/Dati_sensori_meteo_2021.csv', low_memory=False)\n",
    "#df.to_parquet('./Datasets/Dati_sensori_meteo_2021.parquet')"
   ]
  },
  {
   "cell_type": "markdown",
   "id": "35f53d80",
   "metadata": {
    "heading_collapsed": true,
    "hidden": true
   },
   "source": [
    "## Dataset Meteo - rilevazioni"
   ]
  },
  {
   "cell_type": "markdown",
   "id": "2362e611",
   "metadata": {
    "heading_collapsed": true,
    "hidden": true
   },
   "source": [
    "### Attributi"
   ]
  },
  {
   "cell_type": "markdown",
   "id": "ecdfd91b",
   "metadata": {
    "hidden": true
   },
   "source": [
    "- IdSensore: \n",
    "    - Tipologia: Testo normale\n",
    "- Data: \n",
    "    - Data e ora, Marcatura oraria flessibile\n",
    "- Valore: \n",
    "    - Tipologia: numero\n",
    "    - Legenda: 9999 = dato mancante 888, 8888 = direzione vento variabile 777, 7777 = calma (solo per direzione di vento)\n",
    "- idOperatore\t\n",
    "    - *Molto utile per capire la dimensione del dato*\n",
    "    - LEGENDA: 1: Valore medio 3: Valore massimo 4: Valore cumulato (per la pioggia)\n",
    "    - Testo normale\n",
    "- Stato\t\n",
    "    - LEGENDA: VA, VV = dato valido NA, NV, NC = dato invalido NI = dato incerto ND = dato non disponibile\n",
    "    - Testo normale"
   ]
  },
  {
   "cell_type": "markdown",
   "id": "16d41c19",
   "metadata": {
    "heading_collapsed": true,
    "hidden": true
   },
   "source": [
    "### Read_csv"
   ]
  },
  {
   "cell_type": "code",
   "execution_count": 75,
   "id": "af572608",
   "metadata": {
    "ExecuteTime": {
     "end_time": "2022-01-14T20:41:24.082489Z",
     "start_time": "2022-01-14T20:41:24.068462Z"
    },
    "hidden": true
   },
   "outputs": [],
   "source": [
    "path = './data/'\n",
    "#meteo_21 = pd.read_parquet(f'{path}/data_meteo/Dati_sensori_meteo_2021.parquet')\n",
    "#meteo_21.head()"
   ]
  },
  {
   "cell_type": "markdown",
   "id": "f8bfa39c",
   "metadata": {
    "heading_collapsed": true,
    "hidden": true
   },
   "source": [
    "## Dataset Meteo - sensori"
   ]
  },
  {
   "cell_type": "markdown",
   "id": "f624b390",
   "metadata": {
    "heading_collapsed": true,
    "hidden": true
   },
   "source": [
    "### Attributi"
   ]
  },
  {
   "cell_type": "markdown",
   "id": "ac4dca40",
   "metadata": {
    "hidden": true
   },
   "source": [
    "- **IdSensore**\n",
    "    - Foreign Key con vincolo di integrità referenziale a `IdSensore` di meteo_21\n",
    "    - Testo normale\n",
    "- **Tipologia**\n",
    "    - Grandezza misurata\n",
    "    - Testo normale\n",
    "- **Unità DiMisura**\n",
    "    - Unità di misura della grandezza\n",
    "    - Testo normale\n",
    "- IdStazione\t\n",
    "    - Numero identificativo della stazione (penso perchè ogni stazione può avere più sensori)\n",
    "    - Testo normale\n",
    "- NomeStazione\t\n",
    "    - Località della stazione (Spesso è 'Comune via' o 'Comune località)'\n",
    "    - Testo normale\n",
    "- Quota\t\n",
    "    - Altitudine\n",
    "    - Numero\n",
    "- Provincia\n",
    "    - Sigla della provincia\n",
    "    - Testo normale\n",
    "- DataStart\t\n",
    "    - Data e ora\n",
    "- DataStop\t\n",
    "    - Data e ora\n",
    "- Storico\t\n",
    "    - Noto che assume valori N e S ma non capisco cosa sia\n",
    "    - Testo normale\n",
    "- UTM_Nord\t\n",
    "    - Coordinata UTM nord (le cordinate utm permettono di individuare univocamente un punto sulla cartina terrestre)\n",
    "    - Testo normale\n",
    "- UTM_Est\t\n",
    "    - Coordinata UTM est\n",
    "    - Testo normale\n",
    "- lng\t\n",
    "    - Longitudine (senza simbolo gradi)\n",
    "    - Numero\n",
    "- lat\t\n",
    "    - Latitudine (senza simbolo gradi)\n",
    "    - Numero\n",
    "- location\t\n",
    "    - (latitudine°, longitudine°)\n",
    "    - Posizione"
   ]
  },
  {
   "cell_type": "markdown",
   "id": "e5c434f2",
   "metadata": {
    "heading_collapsed": true,
    "hidden": true
   },
   "source": [
    "### Caratteristiche"
   ]
  },
  {
   "cell_type": "markdown",
   "id": "a2cebcc0",
   "metadata": {
    "hidden": true
   },
   "source": [
    "Sono disponibili i dati delle grandezze:\n",
    "- Livello Idrometrico (cm)\n",
    "- Altezza neve (cm)\n",
    "- Precipitazione (mm)\n",
    "- Temperatura (°C)\n",
    "- Umidità Relativa (%)\n",
    "- Radiazione Globale (W/m2)\n",
    "- Velocità e Direzione Vento (m/s e gradi).\n",
    "- Velocità e direzione del vento (m/s e gradi N) raffica\n",
    "NB: l’orario del dato è \"ora solare\" e si riferisce alle osservazioni ottenute fino all’orario indicato."
   ]
  },
  {
   "cell_type": "markdown",
   "id": "e80d8a70",
   "metadata": {
    "heading_collapsed": true,
    "hidden": true
   },
   "source": [
    "### Read_csv"
   ]
  },
  {
   "cell_type": "code",
   "execution_count": 76,
   "id": "9c1aee03",
   "metadata": {
    "ExecuteTime": {
     "end_time": "2022-01-14T20:41:24.098068Z",
     "start_time": "2022-01-14T20:41:24.084465Z"
    },
    "hidden": true
   },
   "outputs": [],
   "source": [
    "#sensori_meteo = pd.read_csv(f'{path}Stazioni_Meteorologiche.csv', dtype = {'Tipologia': 'category'})\n",
    "#sensori_meteo.head()\n",
    "#stazioni_meteo['Tipologia'].value_counts()"
   ]
  },
  {
   "cell_type": "markdown",
   "id": "bf2fb482",
   "metadata": {
    "heading_collapsed": true,
    "hidden": true
   },
   "source": [
    "## Dataset Qualità dell'aria - rilevazioni"
   ]
  },
  {
   "cell_type": "markdown",
   "id": "b4682e9e",
   "metadata": {
    "heading_collapsed": true,
    "hidden": true
   },
   "source": [
    "### Attributi"
   ]
  },
  {
   "cell_type": "markdown",
   "id": "d68299df",
   "metadata": {
    "hidden": true
   },
   "source": [
    "- **IdSensore**: \n",
    "    - Identificativo Univoco che distingue il sensore\n",
    "    - Tipologia: Testo normale\n",
    "- **Data**: \n",
    "    - Data e ora, Marcatura oraria flessibile\n",
    "    - I dati forniti hanno frequenza oraria tranne PM10 e PM2.5 per i quali è fornita la media giornaliera.\n",
    "- **Valore**: \n",
    "    - Tipologia: numero\n",
    "    - LEGENDA:-9999 = dato mancante o invalido\n",
    "- **idOperatore**\n",
    "    - *Molto utile per capire la dimensione del dato*\n",
    "    - LEGENDA: 1: Valore medio \n",
    "    - In realtà: I dati forniti hanno frequenza oraria tranne PM10 e PM2.5 per i quali è fornita la media giornaliera.\n",
    "    - Testo normale\n",
    "- **Stato**\t\n",
    "    - VA = dato valido NA = dato invalido I dati presenti in questo archivio relativi agli ultimi 3-6 mesi, contengono ancora valori incerti che possono subire modifiche da parte degli operatori delle reti (invalidazione manuale). Il processo di validazione dei dati prevede una fase di valutazione finale che si conclude entro il 30.3 dell’anno successivo a quello di misura.\n",
    "    - Testo normale"
   ]
  },
  {
   "cell_type": "markdown",
   "id": "52634b34",
   "metadata": {
    "heading_collapsed": true,
    "hidden": true
   },
   "source": [
    "### Caratteristiche"
   ]
  },
  {
   "cell_type": "markdown",
   "id": "0c30d3ab",
   "metadata": {
    "hidden": true
   },
   "source": [
    "- La rete di rilevamento della qualità dell’aria di ARPA Lombardia è costituita da stazioni fisse che, per mezzo di analizzatori automatici, forniscono dati in continuo ad intervalli temporali regolari. \n",
    "- Le specie di inquinanti monitorate in continuo sono NOX, SO2, CO, O3, PM10, PM2.5 e benzene. A seconda del contesto ambientale nel quale è attivo il monitoraggio, diversa è la tipologia di inquinanti che è necessario rilevare. Pertanto, non tutte le stazioni sono dotate della medesima strumentazione analitica. \n",
    "- Le postazioni regionali sono distribuite su tutto il territorio regionale in funzione della densità abitativa e della tipologia di territorio rispettando i criteri definiti dal D.Lgs. 155/2010.\n",
    "- **I dati forniti hanno frequenza oraria tranne PM10 e PM2.5 per i quali è fornita la media giornaliera.**"
   ]
  },
  {
   "cell_type": "markdown",
   "id": "cec8058d",
   "metadata": {
    "heading_collapsed": true,
    "hidden": true
   },
   "source": [
    "### Read_csv"
   ]
  },
  {
   "cell_type": "code",
   "execution_count": 77,
   "id": "d5262d2d",
   "metadata": {
    "ExecuteTime": {
     "end_time": "2022-01-14T20:41:24.256038Z",
     "start_time": "2022-01-14T20:41:24.100041Z"
    },
    "hidden": true
   },
   "outputs": [],
   "source": [
    "aria_dict = {} #creo dizionario che contiene tutti i dataframe per l'aria\n",
    "\n",
    "# Prendere qualche giorno prima e qualche giorno dopo degli anni considerati cosi da avere valori attendibili delle medie mobili agli estremi"
   ]
  },
  {
   "cell_type": "code",
   "execution_count": 78,
   "id": "c56a27c2",
   "metadata": {
    "ExecuteTime": {
     "end_time": "2022-01-14T20:41:27.349897Z",
     "start_time": "2022-01-14T20:41:24.258033Z"
    },
    "hidden": true
   },
   "outputs": [
    {
     "data": {
      "text/plain": [
       "IdSensore               int64\n",
       "Data           datetime64[ns]\n",
       "Valore                float64\n",
       "Stato                  object\n",
       "idOperatore             int64\n",
       "dtype: object"
      ]
     },
     "execution_count": 78,
     "metadata": {},
     "output_type": "execute_result"
    }
   ],
   "source": [
    "# Converto in importazione i -9999 in NA\n",
    "aria_dict['aria17'] = pd.read_csv(f'{path}/data_aria/Dati_sensori_aria_2017.csv',\n",
    "                      na_values=['-9999'],\\\n",
    "                      parse_dates=['Data'],\\\n",
    "                      dayfirst=True,\\\n",
    "                     )\n",
    "aria_dict['aria17'].dtypes"
   ]
  },
  {
   "cell_type": "code",
   "execution_count": 79,
   "id": "173ceeba",
   "metadata": {
    "ExecuteTime": {
     "end_time": "2022-01-14T20:41:30.372900Z",
     "start_time": "2022-01-14T20:41:27.352898Z"
    },
    "hidden": true
   },
   "outputs": [
    {
     "data": {
      "text/plain": [
       "IdSensore               int64\n",
       "Data           datetime64[ns]\n",
       "Valore                float64\n",
       "Stato                  object\n",
       "idOperatore             int64\n",
       "dtype: object"
      ]
     },
     "execution_count": 79,
     "metadata": {},
     "output_type": "execute_result"
    }
   ],
   "source": [
    "# Converto in importazione i -9999 in NA\n",
    "aria_dict['aria18'] = pd.read_csv(f'{path}/data_aria/Dati_sensori_aria_2018.csv',\n",
    "                      na_values=['-9999'],\\\n",
    "                      parse_dates=['Data'],\\\n",
    "                      dayfirst=True,\\\n",
    "                     )\n",
    "aria_dict['aria18'].dtypes"
   ]
  },
  {
   "cell_type": "code",
   "execution_count": 80,
   "id": "9c3a673f",
   "metadata": {
    "ExecuteTime": {
     "end_time": "2022-01-14T20:41:33.409898Z",
     "start_time": "2022-01-14T20:41:30.375901Z"
    },
    "hidden": true
   },
   "outputs": [
    {
     "data": {
      "text/plain": [
       "IdSensore               int64\n",
       "Data           datetime64[ns]\n",
       "Valore                float64\n",
       "Stato                  object\n",
       "idOperatore             int64\n",
       "dtype: object"
      ]
     },
     "execution_count": 80,
     "metadata": {},
     "output_type": "execute_result"
    }
   ],
   "source": [
    "# Converto in importazione i -9999 in NA\n",
    "aria_dict['aria19'] = pd.read_csv(f'{path}/data_aria/Dati_sensori_aria_2019.csv',\n",
    "                      na_values=['-9999'],\\\n",
    "                      parse_dates=['Data'],\\\n",
    "                      dayfirst=True,\\\n",
    "                     )\n",
    "aria_dict['aria19'].dtypes"
   ]
  },
  {
   "cell_type": "code",
   "execution_count": 81,
   "id": "caa8b1af",
   "metadata": {
    "ExecuteTime": {
     "end_time": "2022-01-14T20:41:36.503971Z",
     "start_time": "2022-01-14T20:41:33.411901Z"
    },
    "hidden": true
   },
   "outputs": [
    {
     "data": {
      "text/plain": [
       "IdSensore               int64\n",
       "Data           datetime64[ns]\n",
       "Valore                float64\n",
       "Stato                  object\n",
       "idOperatore             int64\n",
       "dtype: object"
      ]
     },
     "execution_count": 81,
     "metadata": {},
     "output_type": "execute_result"
    }
   ],
   "source": [
    "# Converto in importazione i -9999 in NA\n",
    "aria_dict['aria20'] = pd.read_csv(f'{path}/data_aria/Dati_sensori_aria_2020.csv',\n",
    "                      na_values=['-9999'],\\\n",
    "                      parse_dates=['Data'],\\\n",
    "                      dayfirst=True,\\\n",
    "                     )\n",
    "aria_dict['aria20'].dtypes"
   ]
  },
  {
   "cell_type": "code",
   "execution_count": 82,
   "id": "89a4132a",
   "metadata": {
    "ExecuteTime": {
     "end_time": "2022-01-14T20:41:39.903934Z",
     "start_time": "2022-01-14T20:41:36.505897Z"
    },
    "hidden": true,
    "scrolled": true
   },
   "outputs": [
    {
     "data": {
      "text/plain": [
       "IdSensore               int64\n",
       "Data           datetime64[ns]\n",
       "Valore                float64\n",
       "Stato                  object\n",
       "idOperatore             int64\n",
       "dtype: object"
      ]
     },
     "execution_count": 82,
     "metadata": {},
     "output_type": "execute_result"
    }
   ],
   "source": [
    "# Converto in importazione i -9999 in NA\n",
    "aria_dict['aria21'] = pd.read_csv(f'{path}/data_aria/Dati_sensori_aria_2021.csv',\n",
    "                      na_values=['-9999'],\\\n",
    "                      parse_dates=['Data'],\\\n",
    "                      dayfirst=True,\\\n",
    "                     )\n",
    "aria_dict['aria21'].dtypes"
   ]
  },
  {
   "cell_type": "code",
   "execution_count": 83,
   "id": "f379c045",
   "metadata": {
    "ExecuteTime": {
     "end_time": "2022-01-14T20:41:41.637899Z",
     "start_time": "2022-01-14T20:41:39.905900Z"
    },
    "hidden": true
   },
   "outputs": [
    {
     "data": {
      "text/html": [
       "<div>\n",
       "<style scoped>\n",
       "    .dataframe tbody tr th:only-of-type {\n",
       "        vertical-align: middle;\n",
       "    }\n",
       "\n",
       "    .dataframe tbody tr th {\n",
       "        vertical-align: top;\n",
       "    }\n",
       "\n",
       "    .dataframe thead th {\n",
       "        text-align: right;\n",
       "    }\n",
       "</style>\n",
       "<table border=\"1\" class=\"dataframe\">\n",
       "  <thead>\n",
       "    <tr style=\"text-align: right;\">\n",
       "      <th></th>\n",
       "      <th>IdSensore</th>\n",
       "      <th>Data</th>\n",
       "      <th>Valore</th>\n",
       "      <th>Stato</th>\n",
       "      <th>idOperatore</th>\n",
       "    </tr>\n",
       "  </thead>\n",
       "  <tbody>\n",
       "    <tr>\n",
       "      <th>0</th>\n",
       "      <td>10001</td>\n",
       "      <td>2017-01-01 00:00:00</td>\n",
       "      <td>189.3</td>\n",
       "      <td>VA</td>\n",
       "      <td>1</td>\n",
       "    </tr>\n",
       "    <tr>\n",
       "      <th>1</th>\n",
       "      <td>10002</td>\n",
       "      <td>2017-01-01 00:00:00</td>\n",
       "      <td>2.4</td>\n",
       "      <td>VA</td>\n",
       "      <td>1</td>\n",
       "    </tr>\n",
       "    <tr>\n",
       "      <th>2</th>\n",
       "      <td>10013</td>\n",
       "      <td>2017-01-01 00:00:00</td>\n",
       "      <td>50.0</td>\n",
       "      <td>VA</td>\n",
       "      <td>1</td>\n",
       "    </tr>\n",
       "    <tr>\n",
       "      <th>3</th>\n",
       "      <td>10016</td>\n",
       "      <td>2017-01-01 00:00:00</td>\n",
       "      <td>4.8</td>\n",
       "      <td>VA</td>\n",
       "      <td>1</td>\n",
       "    </tr>\n",
       "    <tr>\n",
       "      <th>4</th>\n",
       "      <td>10017</td>\n",
       "      <td>2017-01-01 00:00:00</td>\n",
       "      <td>55.0</td>\n",
       "      <td>VA</td>\n",
       "      <td>1</td>\n",
       "    </tr>\n",
       "    <tr>\n",
       "      <th>...</th>\n",
       "      <td>...</td>\n",
       "      <td>...</td>\n",
       "      <td>...</td>\n",
       "      <td>...</td>\n",
       "      <td>...</td>\n",
       "    </tr>\n",
       "    <tr>\n",
       "      <th>13000377</th>\n",
       "      <td>10331</td>\n",
       "      <td>2021-12-19 03:00:00</td>\n",
       "      <td>45.7</td>\n",
       "      <td>VA</td>\n",
       "      <td>1</td>\n",
       "    </tr>\n",
       "    <tr>\n",
       "      <th>13000378</th>\n",
       "      <td>10333</td>\n",
       "      <td>2021-12-24 19:00:00</td>\n",
       "      <td>39.8</td>\n",
       "      <td>VA</td>\n",
       "      <td>1</td>\n",
       "    </tr>\n",
       "    <tr>\n",
       "      <th>13000379</th>\n",
       "      <td>10331</td>\n",
       "      <td>2021-12-20 18:00:00</td>\n",
       "      <td>27.6</td>\n",
       "      <td>VA</td>\n",
       "      <td>1</td>\n",
       "    </tr>\n",
       "    <tr>\n",
       "      <th>13000380</th>\n",
       "      <td>10333</td>\n",
       "      <td>2021-12-25 11:00:00</td>\n",
       "      <td>84.7</td>\n",
       "      <td>VA</td>\n",
       "      <td>1</td>\n",
       "    </tr>\n",
       "    <tr>\n",
       "      <th>13000381</th>\n",
       "      <td>10331</td>\n",
       "      <td>2021-12-21 04:00:00</td>\n",
       "      <td>34.3</td>\n",
       "      <td>VA</td>\n",
       "      <td>1</td>\n",
       "    </tr>\n",
       "  </tbody>\n",
       "</table>\n",
       "<p>13000382 rows × 5 columns</p>\n",
       "</div>"
      ],
      "text/plain": [
       "          IdSensore                Data  Valore Stato  idOperatore\n",
       "0             10001 2017-01-01 00:00:00   189.3    VA            1\n",
       "1             10002 2017-01-01 00:00:00     2.4    VA            1\n",
       "2             10013 2017-01-01 00:00:00    50.0    VA            1\n",
       "3             10016 2017-01-01 00:00:00     4.8    VA            1\n",
       "4             10017 2017-01-01 00:00:00    55.0    VA            1\n",
       "...             ...                 ...     ...   ...          ...\n",
       "13000377      10331 2021-12-19 03:00:00    45.7    VA            1\n",
       "13000378      10333 2021-12-24 19:00:00    39.8    VA            1\n",
       "13000379      10331 2021-12-20 18:00:00    27.6    VA            1\n",
       "13000380      10333 2021-12-25 11:00:00    84.7    VA            1\n",
       "13000381      10331 2021-12-21 04:00:00    34.3    VA            1\n",
       "\n",
       "[13000382 rows x 5 columns]"
      ]
     },
     "execution_count": 83,
     "metadata": {},
     "output_type": "execute_result"
    }
   ],
   "source": [
    "aria_tot = pd.concat(aria_dict).reset_index(drop=True)\n",
    "aria_tot"
   ]
  },
  {
   "cell_type": "markdown",
   "id": "282888bc",
   "metadata": {
    "heading_collapsed": true,
    "hidden": true
   },
   "source": [
    "## Dataset Qualità dell'aria - sensori"
   ]
  },
  {
   "cell_type": "markdown",
   "id": "bafeeb6a",
   "metadata": {
    "heading_collapsed": true,
    "hidden": true
   },
   "source": [
    "### Attributi"
   ]
  },
  {
   "cell_type": "markdown",
   "id": "9e73521b",
   "metadata": {
    "hidden": true
   },
   "source": [
    "- IdSensore\n",
    "    - Foreign Key con vincolo di integrità referenziale a `IdSensore` di aria_21\n",
    "    - Testo normale\n",
    "- NomeTipoSensore\t\n",
    "    - Grandezza misurata\n",
    "    - Testo normale\n",
    "- Unità DiMisura\t\n",
    "    - Unità di misura della grandezza\n",
    "    - Testo normale\n",
    "- IdStazione\t\n",
    "    - Numero identificativo della stazione (penso perchè ogni stazione può avere più sensori)\n",
    "    - Testo normale\n",
    "- NomeStazione\t\n",
    "    - Località della stazione (Spesso è 'Comune via' o 'Comune località)'\n",
    "    - Testo normale\n",
    "- Quota\t\n",
    "    - Altitudine\n",
    "    - Numero\n",
    "- Provincia\n",
    "    - Sigla della provincia\n",
    "    - Testo normale\n",
    "- DataStart\t\n",
    "    - Data e ora\n",
    "- DataStop\t\n",
    "    - Data e ora\n",
    "- Storico\t\n",
    "    - Noto che assume valori N e S ma non capisco cosa sia\n",
    "    - Testo normale\n",
    "- UTM_Nord\t\n",
    "    - Coordinata UTM nord (le cordinate utm permettono di individuare univocamente un punto sulla cartina terrestre)\n",
    "    - Testo normale\n",
    "- UTM_Est\t\n",
    "    - Coordinata UTM est\n",
    "    - Testo normale\n",
    "- lng\t\n",
    "    - Longitudine (senza simbolo gradi)\n",
    "    - Numero\n",
    "- lat\t\n",
    "    - Latitudine (senza simbolo gradi)\n",
    "    - Numero\n",
    "- location\t\n",
    "    - (latitudine°, longitudine°)\n",
    "    - Posizione"
   ]
  },
  {
   "cell_type": "markdown",
   "id": "15906993",
   "metadata": {
    "heading_collapsed": true,
    "hidden": true
   },
   "source": [
    "### Read_csv"
   ]
  },
  {
   "cell_type": "code",
   "execution_count": 84,
   "id": "5d433113",
   "metadata": {
    "ExecuteTime": {
     "end_time": "2022-01-14T20:41:41.683934Z",
     "start_time": "2022-01-14T20:41:41.639897Z"
    },
    "hidden": true
   },
   "outputs": [
    {
     "data": {
      "text/html": [
       "<div>\n",
       "<style scoped>\n",
       "    .dataframe tbody tr th:only-of-type {\n",
       "        vertical-align: middle;\n",
       "    }\n",
       "\n",
       "    .dataframe tbody tr th {\n",
       "        vertical-align: top;\n",
       "    }\n",
       "\n",
       "    .dataframe thead th {\n",
       "        text-align: right;\n",
       "    }\n",
       "</style>\n",
       "<table border=\"1\" class=\"dataframe\">\n",
       "  <thead>\n",
       "    <tr style=\"text-align: right;\">\n",
       "      <th></th>\n",
       "      <th>IdSensore</th>\n",
       "      <th>NomeTipoSensore</th>\n",
       "      <th>UnitaMisura</th>\n",
       "      <th>Idstazione</th>\n",
       "      <th>NomeStazione</th>\n",
       "      <th>Quota</th>\n",
       "      <th>Provincia</th>\n",
       "      <th>Comune</th>\n",
       "      <th>Storico</th>\n",
       "      <th>DataStart</th>\n",
       "      <th>DataStop</th>\n",
       "      <th>Utm_Nord</th>\n",
       "      <th>UTM_Est</th>\n",
       "      <th>lat</th>\n",
       "      <th>lng</th>\n",
       "      <th>location</th>\n",
       "    </tr>\n",
       "  </thead>\n",
       "  <tbody>\n",
       "    <tr>\n",
       "      <th>961</th>\n",
       "      <td>6606</td>\n",
       "      <td>Particolato Totale Sospeso</td>\n",
       "      <td>µg/m³</td>\n",
       "      <td>591</td>\n",
       "      <td>Seriate v. Garibaldi</td>\n",
       "      <td>256.0</td>\n",
       "      <td>BG</td>\n",
       "      <td>Seriate</td>\n",
       "      <td>S</td>\n",
       "      <td>1991-11-20</td>\n",
       "      <td>2000-01-27</td>\n",
       "      <td>5059449</td>\n",
       "      <td>555672</td>\n",
       "      <td>45.686356</td>\n",
       "      <td>9.714948</td>\n",
       "      <td>(45.68635606439914, 9.714947917631529)</td>\n",
       "    </tr>\n",
       "    <tr>\n",
       "      <th>962</th>\n",
       "      <td>6382</td>\n",
       "      <td>Ossidi di Azoto</td>\n",
       "      <td>µg/m³</td>\n",
       "      <td>569</td>\n",
       "      <td>Sondrio v.Mazzini</td>\n",
       "      <td>307.0</td>\n",
       "      <td>SO</td>\n",
       "      <td>Sondrio</td>\n",
       "      <td>N</td>\n",
       "      <td>1993-01-11</td>\n",
       "      <td>NaT</td>\n",
       "      <td>5113078</td>\n",
       "      <td>567173</td>\n",
       "      <td>46.167967</td>\n",
       "      <td>9.870144</td>\n",
       "      <td>(46.16796681227828, 9.87014407497457)</td>\n",
       "    </tr>\n",
       "    <tr>\n",
       "      <th>963</th>\n",
       "      <td>6607</td>\n",
       "      <td>Particolato Totale Sospeso</td>\n",
       "      <td>µg/m³</td>\n",
       "      <td>591</td>\n",
       "      <td>Seriate v. Garibaldi</td>\n",
       "      <td>256.0</td>\n",
       "      <td>BG</td>\n",
       "      <td>Seriate</td>\n",
       "      <td>S</td>\n",
       "      <td>2000-07-09</td>\n",
       "      <td>2002-04-04</td>\n",
       "      <td>5059449</td>\n",
       "      <td>555672</td>\n",
       "      <td>45.686356</td>\n",
       "      <td>9.714948</td>\n",
       "      <td>(45.68635606439914, 9.714947917631529)</td>\n",
       "    </tr>\n",
       "    <tr>\n",
       "      <th>964</th>\n",
       "      <td>20523</td>\n",
       "      <td>Ammoniaca</td>\n",
       "      <td>µg/m³</td>\n",
       "      <td>583</td>\n",
       "      <td>Bergamo v.Meucci</td>\n",
       "      <td>249.0</td>\n",
       "      <td>BG</td>\n",
       "      <td>Bergamo</td>\n",
       "      <td>N</td>\n",
       "      <td>NaT</td>\n",
       "      <td>NaT</td>\n",
       "      <td>5059922</td>\n",
       "      <td>550116</td>\n",
       "      <td>45.691037</td>\n",
       "      <td>9.643651</td>\n",
       "      <td>(45.69103740547214, 9.643650579461385)</td>\n",
       "    </tr>\n",
       "    <tr>\n",
       "      <th>965</th>\n",
       "      <td>12597</td>\n",
       "      <td>Cadmio</td>\n",
       "      <td>ng/m³</td>\n",
       "      <td>609</td>\n",
       "      <td>Casirate d'Adda v. Cimitero</td>\n",
       "      <td>108.0</td>\n",
       "      <td>BG</td>\n",
       "      <td>Casirate d'Adda</td>\n",
       "      <td>N</td>\n",
       "      <td>2008-04-24</td>\n",
       "      <td>NaT</td>\n",
       "      <td>5038450</td>\n",
       "      <td>543458</td>\n",
       "      <td>45.498227</td>\n",
       "      <td>9.556232</td>\n",
       "      <td>(45.49822713394494, 9.556232262351761)</td>\n",
       "    </tr>\n",
       "  </tbody>\n",
       "</table>\n",
       "</div>"
      ],
      "text/plain": [
       "     IdSensore             NomeTipoSensore UnitaMisura  Idstazione  \\\n",
       "961       6606  Particolato Totale Sospeso       µg/m³         591   \n",
       "962       6382             Ossidi di Azoto       µg/m³         569   \n",
       "963       6607  Particolato Totale Sospeso       µg/m³         591   \n",
       "964      20523                   Ammoniaca       µg/m³         583   \n",
       "965      12597                      Cadmio       ng/m³         609   \n",
       "\n",
       "                    NomeStazione  Quota Provincia           Comune Storico  \\\n",
       "961         Seriate v. Garibaldi  256.0        BG          Seriate       S   \n",
       "962            Sondrio v.Mazzini  307.0        SO          Sondrio       N   \n",
       "963         Seriate v. Garibaldi  256.0        BG          Seriate       S   \n",
       "964             Bergamo v.Meucci  249.0        BG          Bergamo       N   \n",
       "965  Casirate d'Adda v. Cimitero  108.0        BG  Casirate d'Adda       N   \n",
       "\n",
       "     DataStart   DataStop  Utm_Nord  UTM_Est        lat       lng  \\\n",
       "961 1991-11-20 2000-01-27   5059449   555672  45.686356  9.714948   \n",
       "962 1993-01-11        NaT   5113078   567173  46.167967  9.870144   \n",
       "963 2000-07-09 2002-04-04   5059449   555672  45.686356  9.714948   \n",
       "964        NaT        NaT   5059922   550116  45.691037  9.643651   \n",
       "965 2008-04-24        NaT   5038450   543458  45.498227  9.556232   \n",
       "\n",
       "                                   location  \n",
       "961  (45.68635606439914, 9.714947917631529)  \n",
       "962   (46.16796681227828, 9.87014407497457)  \n",
       "963  (45.68635606439914, 9.714947917631529)  \n",
       "964  (45.69103740547214, 9.643650579461385)  \n",
       "965  (45.49822713394494, 9.556232262351761)  "
      ]
     },
     "execution_count": 84,
     "metadata": {},
     "output_type": "execute_result"
    }
   ],
   "source": [
    "sensori_aria = pd.read_csv(f'{path}Stazioni_qualita_dell_aria.csv',\n",
    "                           parse_dates=['DataStart', 'DataStop'])\n",
    "sensori_aria.tail()"
   ]
  },
  {
   "cell_type": "code",
   "execution_count": 85,
   "id": "81dfb734",
   "metadata": {
    "ExecuteTime": {
     "end_time": "2022-01-14T20:41:41.699895Z",
     "start_time": "2022-01-14T20:41:41.685900Z"
    },
    "hidden": true,
    "scrolled": true
   },
   "outputs": [
    {
     "data": {
      "text/plain": [
       "IdSensore                   int64\n",
       "NomeTipoSensore            object\n",
       "UnitaMisura                object\n",
       "Idstazione                  int64\n",
       "NomeStazione               object\n",
       "Quota                     float64\n",
       "Provincia                  object\n",
       "Comune                     object\n",
       "Storico                    object\n",
       "DataStart          datetime64[ns]\n",
       "DataStop           datetime64[ns]\n",
       "Utm_Nord                    int64\n",
       "UTM_Est                     int64\n",
       "lat                       float64\n",
       "lng                       float64\n",
       "location                   object\n",
       "dtype: object"
      ]
     },
     "execution_count": 85,
     "metadata": {},
     "output_type": "execute_result"
    }
   ],
   "source": [
    "sensori_aria.dtypes"
   ]
  },
  {
   "cell_type": "markdown",
   "id": "5e7e09a7",
   "metadata": {
    "heading_collapsed": true,
    "hidden": true
   },
   "source": [
    "## Dataset Zonizzazione"
   ]
  },
  {
   "cell_type": "code",
   "execution_count": 86,
   "id": "e2b3ff11",
   "metadata": {
    "ExecuteTime": {
     "end_time": "2022-01-14T20:41:41.731927Z",
     "start_time": "2022-01-14T20:41:41.701893Z"
    },
    "hidden": true
   },
   "outputs": [
    {
     "data": {
      "text/html": [
       "<div>\n",
       "<style scoped>\n",
       "    .dataframe tbody tr th:only-of-type {\n",
       "        vertical-align: middle;\n",
       "    }\n",
       "\n",
       "    .dataframe tbody tr th {\n",
       "        vertical-align: top;\n",
       "    }\n",
       "\n",
       "    .dataframe thead th {\n",
       "        text-align: right;\n",
       "    }\n",
       "</style>\n",
       "<table border=\"1\" class=\"dataframe\">\n",
       "  <thead>\n",
       "    <tr style=\"text-align: right;\">\n",
       "      <th></th>\n",
       "      <th>Provincia</th>\n",
       "      <th>Codice Istat</th>\n",
       "      <th>Comune</th>\n",
       "      <th>Zona</th>\n",
       "      <th>Residenti 2008</th>\n",
       "      <th>Superficie (ha)</th>\n",
       "    </tr>\n",
       "  </thead>\n",
       "  <tbody>\n",
       "    <tr>\n",
       "      <th>0</th>\n",
       "      <td>BG</td>\n",
       "      <td>16009</td>\n",
       "      <td>AMBIVERE</td>\n",
       "      <td>A</td>\n",
       "      <td>2341</td>\n",
       "      <td>327</td>\n",
       "    </tr>\n",
       "    <tr>\n",
       "      <th>1</th>\n",
       "      <td>BG</td>\n",
       "      <td>16013</td>\n",
       "      <td>ARZAGO D'ADDA</td>\n",
       "      <td>A</td>\n",
       "      <td>2836</td>\n",
       "      <td>944</td>\n",
       "    </tr>\n",
       "    <tr>\n",
       "      <th>2</th>\n",
       "      <td>BG</td>\n",
       "      <td>16018</td>\n",
       "      <td>BAGNATICA</td>\n",
       "      <td>A</td>\n",
       "      <td>4119</td>\n",
       "      <td>639</td>\n",
       "    </tr>\n",
       "    <tr>\n",
       "      <th>3</th>\n",
       "      <td>BG</td>\n",
       "      <td>16020</td>\n",
       "      <td>BARIANO</td>\n",
       "      <td>A</td>\n",
       "      <td>4396</td>\n",
       "      <td>714</td>\n",
       "    </tr>\n",
       "    <tr>\n",
       "      <th>4</th>\n",
       "      <td>BG</td>\n",
       "      <td>16021</td>\n",
       "      <td>BARZANO'</td>\n",
       "      <td>A</td>\n",
       "      <td>5178</td>\n",
       "      <td>356</td>\n",
       "    </tr>\n",
       "  </tbody>\n",
       "</table>\n",
       "</div>"
      ],
      "text/plain": [
       "  Provincia  Codice Istat         Comune Zona  Residenti 2008  Superficie (ha)\n",
       "0        BG         16009       AMBIVERE    A            2341              327\n",
       "1        BG         16013  ARZAGO D'ADDA    A            2836              944\n",
       "2        BG         16018      BAGNATICA    A            4119              639\n",
       "3        BG         16020        BARIANO    A            4396              714\n",
       "4        BG         16021       BARZANO'    A            5178              356"
      ]
     },
     "execution_count": 86,
     "metadata": {},
     "output_type": "execute_result"
    }
   ],
   "source": [
    "zonizzazione = pd.read_csv(f'{path}zonizzazione/zonizzazione_ABCD.csv')\n",
    "zonizzazione.head()"
   ]
  },
  {
   "cell_type": "markdown",
   "id": "d83924c3",
   "metadata": {
    "heading_collapsed": true
   },
   "source": [
    "# Data Exploration e Data Cleansing"
   ]
  },
  {
   "cell_type": "markdown",
   "id": "340aaf00",
   "metadata": {
    "heading_collapsed": true,
    "hidden": true
   },
   "source": [
    "## Data Exploration"
   ]
  },
  {
   "cell_type": "markdown",
   "id": "07b67b84",
   "metadata": {
    "hidden": true
   },
   "source": [
    "- verificare quali siano tutte le quantità uniche rilevate dai sensori qualità dell'aria\n",
    "- quali siano i gruppi di inquinanti principali\n",
    "- quali siano i limiti di assunzione umana (gionralieri e annuali)\n",
    "    - Vedi [qui](https://www.arpalombardia.it/Pages/Aria/Inquinanti.aspx) per limiti e piccola descrizione\n",
    "    - Vedi [qui](https://www.regione.lombardia.it/wps/portal/istituzionale/HP/DettaglioRedazionale/servizi-e-informazioni/cittadini/salute-e-prevenzione/Sicurezza-negli-ambienti-di-vita-e-di-lavoro/inquinamento-atmosferico/inquinamento-atmosferico/) per approfondimento"
   ]
  },
  {
   "cell_type": "markdown",
   "id": "94655e3c",
   "metadata": {
    "hidden": true
   },
   "source": [
    "Determino il numero di sensori per ogni tipologia\n",
    "\n",
    "- Si potrebbero considerare solo gli inquinanti **più importanti e con più stazioni**\n",
    "- Ovvero **Biossido di Azoto | PM10 (SM2005) e PM2,5 e/o Particolato totale | Ozono troposferico | Bisossido di Zolfo**\n",
    "- Facoltativi perchè non presenti nella valutazione della qualità dell'aria [qui](https://www.arpalombardia.it/Pages/Aria/Modellistica/Indice-qualit%C3%A0-aria.aspx): Monossido di carbonio e benzene"
   ]
  },
  {
   "cell_type": "code",
   "execution_count": 87,
   "id": "cbca3194",
   "metadata": {
    "ExecuteTime": {
     "end_time": "2022-01-14T20:41:41.747896Z",
     "start_time": "2022-01-14T20:41:41.732930Z"
    },
    "hidden": true
   },
   "outputs": [
    {
     "data": {
      "text/plain": [
       "Biossido di Azoto             166\n",
       "Ossidi di Azoto               166\n",
       "Biossido di Zolfo             125\n",
       "Monossido di Carbonio         101\n",
       "Ozono                          91\n",
       "PM10 (SM2005)                  90\n",
       "Particolato Totale Sospeso     55\n",
       "Particelle sospese PM2.5       40\n",
       "Benzene                        32\n",
       "Benzo(a)pirene                 15\n",
       "Arsenico                       15\n",
       "Nikel                          15\n",
       "Piombo                         15\n",
       "Cadmio                         15\n",
       "Ammoniaca                      14\n",
       "BlackCarbon                     4\n",
       "PM10                            4\n",
       "Monossido di Azoto              3\n",
       "Name: NomeTipoSensore, dtype: int64"
      ]
     },
     "execution_count": 87,
     "metadata": {},
     "output_type": "execute_result"
    }
   ],
   "source": [
    "sensori_aria['NomeTipoSensore'].value_counts()"
   ]
  },
  {
   "cell_type": "markdown",
   "id": "619a353b",
   "metadata": {
    "hidden": true
   },
   "source": [
    "Determino il numero di zone in cui é suddiviso il territorio Lombardo"
   ]
  },
  {
   "cell_type": "code",
   "execution_count": 88,
   "id": "ab0e8872",
   "metadata": {
    "ExecuteTime": {
     "end_time": "2022-01-14T20:41:41.762893Z",
     "start_time": "2022-01-14T20:41:41.749894Z"
    },
    "hidden": true,
    "scrolled": true
   },
   "outputs": [
    {
     "data": {
      "text/plain": [
       "B         448\n",
       "C         423\n",
       "A         406\n",
       "AGG MI    107\n",
       "C D       102\n",
       "AGG BG     37\n",
       "AGG BS     20\n",
       "D           2\n",
       "Name: Zona, dtype: int64"
      ]
     },
     "execution_count": 88,
     "metadata": {},
     "output_type": "execute_result"
    }
   ],
   "source": [
    "zonizzazione['Zona'].value_counts()"
   ]
  },
  {
   "cell_type": "markdown",
   "id": "d0367a29",
   "metadata": {
    "heading_collapsed": true,
    "hidden": true
   },
   "source": [
    "## Data Cleansing"
   ]
  },
  {
   "cell_type": "markdown",
   "id": "a26dd232",
   "metadata": {
    "heading_collapsed": true,
    "hidden": true
   },
   "source": [
    "### Rimozione righe mancanti"
   ]
  },
  {
   "cell_type": "code",
   "execution_count": 89,
   "id": "94d9b0f4",
   "metadata": {
    "ExecuteTime": {
     "end_time": "2022-01-14T20:41:43.031896Z",
     "start_time": "2022-01-14T20:41:41.764893Z"
    },
    "hidden": true
   },
   "outputs": [
    {
     "data": {
      "text/plain": [
       "VA     12658685\n",
       "NaN      341697\n",
       "Name: Stato, dtype: int64"
      ]
     },
     "execution_count": 89,
     "metadata": {},
     "output_type": "execute_result"
    }
   ],
   "source": [
    "aria_tot['Stato'].value_counts(dropna = False)"
   ]
  },
  {
   "cell_type": "code",
   "execution_count": 90,
   "id": "9367db0c",
   "metadata": {
    "ExecuteTime": {
     "end_time": "2022-01-14T20:41:43.108931Z",
     "start_time": "2022-01-14T20:41:43.033929Z"
    },
    "hidden": true
   },
   "outputs": [
    {
     "name": "stdout",
     "output_type": "stream",
     "text": [
      "341697   Numero righe con valori invalidi\n",
      "13000382 Numero righe totali\n",
      "2.63 %   Percentuale righe con valori invalidi\n"
     ]
    }
   ],
   "source": [
    "print(aria_tot['Valore'].isna().sum(), '  Numero righe con valori invalidi')\n",
    "print(len(aria_tot), 'Numero righe totali')\n",
    "print(round(aria_tot['Valore'].isna().sum()/len(aria_tot)*100, 2), '%   Percentuale righe con valori invalidi')"
   ]
  },
  {
   "cell_type": "markdown",
   "id": "e4182041",
   "metadata": {
    "hidden": true
   },
   "source": [
    "- L'invalidità del dato è descritta sia dall'attributo `Stato` che dalla presenza di NaN in `Valore`\n",
    "- MA (VA = dato valido NA = dato invalido I dati presenti in questo archivio relativi agli ultimi 3-6 mesi, contengono ancora valori incerti che possono subire modifiche da parte degli operatori delle reti (invalidazione manuale). Il processo di validazione dei dati prevede una fase di valutazione finale che si conclude entro il 30.3 dell’anno successivo a quello di misura)"
   ]
  },
  {
   "cell_type": "code",
   "execution_count": 91,
   "id": "9fddda11",
   "metadata": {
    "ExecuteTime": {
     "end_time": "2022-01-14T20:41:44.941930Z",
     "start_time": "2022-01-14T20:41:43.110895Z"
    },
    "hidden": true
   },
   "outputs": [
    {
     "data": {
      "text/plain": [
       "(12658685, 5)"
      ]
     },
     "execution_count": 91,
     "metadata": {},
     "output_type": "execute_result"
    }
   ],
   "source": [
    "aria_tot.dropna(subset = ['Valore', 'Stato'], inplace = True)\n",
    "aria_tot.reset_index(drop=True, inplace=True)\n",
    "aria_tot.shape"
   ]
  },
  {
   "cell_type": "markdown",
   "id": "24f4a62c",
   "metadata": {
    "heading_collapsed": true,
    "hidden": true
   },
   "source": [
    "### Rimozione righe con idoperatore assurdo"
   ]
  },
  {
   "cell_type": "code",
   "execution_count": 92,
   "id": "ed8870f6",
   "metadata": {
    "ExecuteTime": {
     "end_time": "2022-01-14T20:41:45.273945Z",
     "start_time": "2022-01-14T20:41:44.943902Z"
    },
    "hidden": true
   },
   "outputs": [
    {
     "data": {
      "text/plain": [
       "idOperatore\n",
       "1        12658684\n",
       "15504           1\n",
       "dtype: int64"
      ]
     },
     "execution_count": 92,
     "metadata": {},
     "output_type": "execute_result"
    }
   ],
   "source": [
    "aria_tot.value_counts('idOperatore')"
   ]
  },
  {
   "cell_type": "code",
   "execution_count": 93,
   "id": "41e4dde3",
   "metadata": {
    "ExecuteTime": {
     "end_time": "2022-01-14T20:41:46.285896Z",
     "start_time": "2022-01-14T20:41:45.279908Z"
    },
    "hidden": true
   },
   "outputs": [],
   "source": [
    "aria_tot.drop(aria_tot[aria_tot.idOperatore == 15504].index, inplace=True)\n",
    "aria_tot.reset_index(drop=True, inplace=True)"
   ]
  },
  {
   "cell_type": "markdown",
   "id": "874e7003",
   "metadata": {
    "heading_collapsed": true,
    "hidden": true
   },
   "source": [
    "### Rimozione sensori di grandezze minori"
   ]
  },
  {
   "cell_type": "markdown",
   "id": "bb1a20e3",
   "metadata": {
    "hidden": true
   },
   "source": [
    "- da `stazioni_aria` e `aria_20_21` trovare solo gli `IdSensore` di tipologia utile\n",
    "- Biossido di Azoto | PM10 (SM2005) e PM2,5 e/o Particolato totale | Ozono troposferico | Bisossido di Zolfo \n",
    "- Come categorie minori decido di tenere momentaneamente *Monossido di carbonio, benzene, Ossidi di Azoto e PM10*"
   ]
  },
  {
   "cell_type": "code",
   "execution_count": 94,
   "id": "a8200540",
   "metadata": {
    "ExecuteTime": {
     "end_time": "2022-01-14T20:41:46.301898Z",
     "start_time": "2022-01-14T20:41:46.288902Z"
    },
    "hidden": true
   },
   "outputs": [
    {
     "data": {
      "text/plain": [
       "Biossido di Azoto             166\n",
       "Ossidi di Azoto               166\n",
       "Biossido di Zolfo             125\n",
       "Monossido di Carbonio         101\n",
       "Ozono                          91\n",
       "PM10 (SM2005)                  90\n",
       "Particolato Totale Sospeso     55\n",
       "Particelle sospese PM2.5       40\n",
       "Benzene                        32\n",
       "Benzo(a)pirene                 15\n",
       "Arsenico                       15\n",
       "Nikel                          15\n",
       "Piombo                         15\n",
       "Cadmio                         15\n",
       "Ammoniaca                      14\n",
       "BlackCarbon                     4\n",
       "PM10                            4\n",
       "Monossido di Azoto              3\n",
       "Name: NomeTipoSensore, dtype: int64"
      ]
     },
     "execution_count": 94,
     "metadata": {},
     "output_type": "execute_result"
    }
   ],
   "source": [
    "sensori_aria['NomeTipoSensore'].value_counts()"
   ]
  },
  {
   "cell_type": "code",
   "execution_count": 95,
   "id": "205823f0",
   "metadata": {
    "ExecuteTime": {
     "end_time": "2022-01-14T20:41:46.333896Z",
     "start_time": "2022-01-14T20:41:46.303902Z"
    },
    "hidden": true
   },
   "outputs": [
    {
     "data": {
      "text/html": [
       "<div>\n",
       "<style scoped>\n",
       "    .dataframe tbody tr th:only-of-type {\n",
       "        vertical-align: middle;\n",
       "    }\n",
       "\n",
       "    .dataframe tbody tr th {\n",
       "        vertical-align: top;\n",
       "    }\n",
       "\n",
       "    .dataframe thead th {\n",
       "        text-align: right;\n",
       "    }\n",
       "</style>\n",
       "<table border=\"1\" class=\"dataframe\">\n",
       "  <thead>\n",
       "    <tr style=\"text-align: right;\">\n",
       "      <th></th>\n",
       "      <th>IdSensore</th>\n",
       "      <th>NomeTipoSensore</th>\n",
       "      <th>UnitaMisura</th>\n",
       "      <th>Idstazione</th>\n",
       "      <th>NomeStazione</th>\n",
       "      <th>Quota</th>\n",
       "      <th>Provincia</th>\n",
       "      <th>Comune</th>\n",
       "      <th>Storico</th>\n",
       "      <th>DataStart</th>\n",
       "      <th>DataStop</th>\n",
       "      <th>Utm_Nord</th>\n",
       "      <th>UTM_Est</th>\n",
       "      <th>lat</th>\n",
       "      <th>lng</th>\n",
       "      <th>location</th>\n",
       "    </tr>\n",
       "  </thead>\n",
       "  <tbody>\n",
       "    <tr>\n",
       "      <th>0</th>\n",
       "      <td>17286</td>\n",
       "      <td>Biossido di Azoto</td>\n",
       "      <td>µg/m³</td>\n",
       "      <td>1374</td>\n",
       "      <td>Monza Parco</td>\n",
       "      <td>181.0</td>\n",
       "      <td>MB</td>\n",
       "      <td>Monza</td>\n",
       "      <td>N</td>\n",
       "      <td>2013-01-05</td>\n",
       "      <td>NaT</td>\n",
       "      <td>5049780</td>\n",
       "      <td>521452</td>\n",
       "      <td>45.601232</td>\n",
       "      <td>9.275073</td>\n",
       "      <td>(45.60123219955139, 9.27507265782848)</td>\n",
       "    </tr>\n",
       "    <tr>\n",
       "      <th>1</th>\n",
       "      <td>17290</td>\n",
       "      <td>PM10 (SM2005)</td>\n",
       "      <td>µg/m³</td>\n",
       "      <td>1374</td>\n",
       "      <td>Monza Parco</td>\n",
       "      <td>181.0</td>\n",
       "      <td>MB</td>\n",
       "      <td>Monza</td>\n",
       "      <td>N</td>\n",
       "      <td>2013-02-15</td>\n",
       "      <td>NaT</td>\n",
       "      <td>5049780</td>\n",
       "      <td>521452</td>\n",
       "      <td>45.601232</td>\n",
       "      <td>9.275073</td>\n",
       "      <td>(45.60123219955139, 9.27507265782848)</td>\n",
       "    </tr>\n",
       "    <tr>\n",
       "      <th>2</th>\n",
       "      <td>17285</td>\n",
       "      <td>Ossidi di Azoto</td>\n",
       "      <td>µg/m³</td>\n",
       "      <td>1374</td>\n",
       "      <td>Monza Parco</td>\n",
       "      <td>181.0</td>\n",
       "      <td>MB</td>\n",
       "      <td>Monza</td>\n",
       "      <td>N</td>\n",
       "      <td>2013-01-05</td>\n",
       "      <td>NaT</td>\n",
       "      <td>5049780</td>\n",
       "      <td>521452</td>\n",
       "      <td>45.601232</td>\n",
       "      <td>9.275073</td>\n",
       "      <td>(45.60123219955139, 9.27507265782848)</td>\n",
       "    </tr>\n",
       "    <tr>\n",
       "      <th>3</th>\n",
       "      <td>17288</td>\n",
       "      <td>Ozono</td>\n",
       "      <td>µg/m³</td>\n",
       "      <td>1374</td>\n",
       "      <td>Monza Parco</td>\n",
       "      <td>181.0</td>\n",
       "      <td>MB</td>\n",
       "      <td>Monza</td>\n",
       "      <td>N</td>\n",
       "      <td>2013-09-02</td>\n",
       "      <td>NaT</td>\n",
       "      <td>5049780</td>\n",
       "      <td>521452</td>\n",
       "      <td>45.601232</td>\n",
       "      <td>9.275073</td>\n",
       "      <td>(45.60123219955139, 9.27507265782848)</td>\n",
       "    </tr>\n",
       "    <tr>\n",
       "      <th>4</th>\n",
       "      <td>10112</td>\n",
       "      <td>Ozono</td>\n",
       "      <td>µg/m³</td>\n",
       "      <td>698</td>\n",
       "      <td>Ceneselli v. Moro</td>\n",
       "      <td>13.0</td>\n",
       "      <td>RO</td>\n",
       "      <td>Ceneselli</td>\n",
       "      <td>S</td>\n",
       "      <td>2006-11-28</td>\n",
       "      <td>2017-01-01</td>\n",
       "      <td>4987161</td>\n",
       "      <td>686934</td>\n",
       "      <td>45.013257</td>\n",
       "      <td>11.372345</td>\n",
       "      <td>(45.01325676849334, 11.372344948058235)</td>\n",
       "    </tr>\n",
       "  </tbody>\n",
       "</table>\n",
       "</div>"
      ],
      "text/plain": [
       "   IdSensore    NomeTipoSensore UnitaMisura  Idstazione       NomeStazione  \\\n",
       "0      17286  Biossido di Azoto       µg/m³        1374        Monza Parco   \n",
       "1      17290      PM10 (SM2005)       µg/m³        1374        Monza Parco   \n",
       "2      17285    Ossidi di Azoto       µg/m³        1374        Monza Parco   \n",
       "3      17288              Ozono       µg/m³        1374        Monza Parco   \n",
       "4      10112              Ozono       µg/m³         698  Ceneselli v. Moro   \n",
       "\n",
       "   Quota Provincia     Comune Storico  DataStart   DataStop  Utm_Nord  \\\n",
       "0  181.0        MB      Monza       N 2013-01-05        NaT   5049780   \n",
       "1  181.0        MB      Monza       N 2013-02-15        NaT   5049780   \n",
       "2  181.0        MB      Monza       N 2013-01-05        NaT   5049780   \n",
       "3  181.0        MB      Monza       N 2013-09-02        NaT   5049780   \n",
       "4   13.0        RO  Ceneselli       S 2006-11-28 2017-01-01   4987161   \n",
       "\n",
       "   UTM_Est        lat        lng                                 location  \n",
       "0   521452  45.601232   9.275073    (45.60123219955139, 9.27507265782848)  \n",
       "1   521452  45.601232   9.275073    (45.60123219955139, 9.27507265782848)  \n",
       "2   521452  45.601232   9.275073    (45.60123219955139, 9.27507265782848)  \n",
       "3   521452  45.601232   9.275073    (45.60123219955139, 9.27507265782848)  \n",
       "4   686934  45.013257  11.372345  (45.01325676849334, 11.372344948058235)  "
      ]
     },
     "execution_count": 95,
     "metadata": {},
     "output_type": "execute_result"
    }
   ],
   "source": [
    "grandezze_di_interesse = ['Biossido di Azoto',\n",
    "                          'PM10 (SM2005)',\n",
    "                          'Ossidi di Azoto',\n",
    "                          'Ozono',\n",
    "                          'Biossido di Zolfo',\n",
    "                          'Particolato Totale Sospeso',\n",
    "                          'Monossido di Carbonio',\n",
    "                          'Particelle sospese PM2.5',\n",
    "                          'Benzene']\n",
    "sensori_aria.drop(sensori_aria[~sensori_aria['NomeTipoSensore'].isin(grandezze_di_interesse)].index, inplace = True)\n",
    "sensori_aria.reset_index(drop=True, inplace=True)\n",
    "sensori_aria.head()"
   ]
  },
  {
   "cell_type": "markdown",
   "id": "c367220f",
   "metadata": {
    "heading_collapsed": true
   },
   "source": [
    "# Data preparation"
   ]
  },
  {
   "cell_type": "markdown",
   "id": "bf3722b4",
   "metadata": {
    "heading_collapsed": true,
    "hidden": true
   },
   "source": [
    "## GROUP BY `aria__id_day`"
   ]
  },
  {
   "cell_type": "markdown",
   "id": "98217d70",
   "metadata": {
    "hidden": true
   },
   "source": [
    "- Raggruppo per `IdSensore` e `Data`(giorno)\n",
    "- Calcolo grandezze aggregate\n",
    "    - Calcolo il valore medio e la deviazione standard del `Valore` registrato dal senbsore\n",
    "    - Importante sottolineare che le funzioni `mean, count e std` di pandas NON tengono conto dei Na, quindi i valori che vediamo sono esatti"
   ]
  },
  {
   "cell_type": "code",
   "execution_count": 96,
   "id": "38d40685",
   "metadata": {
    "ExecuteTime": {
     "end_time": "2022-01-14T20:41:54.658903Z",
     "start_time": "2022-01-14T20:41:46.335893Z"
    },
    "hidden": true
   },
   "outputs": [
    {
     "data": {
      "text/html": [
       "<div>\n",
       "<style scoped>\n",
       "    .dataframe tbody tr th:only-of-type {\n",
       "        vertical-align: middle;\n",
       "    }\n",
       "\n",
       "    .dataframe tbody tr th {\n",
       "        vertical-align: top;\n",
       "    }\n",
       "\n",
       "    .dataframe thead th {\n",
       "        text-align: right;\n",
       "    }\n",
       "</style>\n",
       "<table border=\"1\" class=\"dataframe\">\n",
       "  <thead>\n",
       "    <tr style=\"text-align: right;\">\n",
       "      <th></th>\n",
       "      <th>IdSensore</th>\n",
       "      <th>Data</th>\n",
       "      <th>Valore_MEAN_id_day</th>\n",
       "      <th>Valore_COUNT_id_day</th>\n",
       "      <th>Valore_STD_id_day</th>\n",
       "    </tr>\n",
       "  </thead>\n",
       "  <tbody>\n",
       "    <tr>\n",
       "      <th>0</th>\n",
       "      <td>5504</td>\n",
       "      <td>2017-01-01</td>\n",
       "      <td>78.966667</td>\n",
       "      <td>24</td>\n",
       "      <td>12.361288</td>\n",
       "    </tr>\n",
       "    <tr>\n",
       "      <th>1</th>\n",
       "      <td>5504</td>\n",
       "      <td>2017-01-02</td>\n",
       "      <td>74.170833</td>\n",
       "      <td>24</td>\n",
       "      <td>9.821736</td>\n",
       "    </tr>\n",
       "    <tr>\n",
       "      <th>2</th>\n",
       "      <td>5504</td>\n",
       "      <td>2017-01-03</td>\n",
       "      <td>83.945833</td>\n",
       "      <td>24</td>\n",
       "      <td>10.372496</td>\n",
       "    </tr>\n",
       "    <tr>\n",
       "      <th>3</th>\n",
       "      <td>5504</td>\n",
       "      <td>2017-01-04</td>\n",
       "      <td>58.358333</td>\n",
       "      <td>24</td>\n",
       "      <td>11.544165</td>\n",
       "    </tr>\n",
       "    <tr>\n",
       "      <th>4</th>\n",
       "      <td>5504</td>\n",
       "      <td>2017-01-05</td>\n",
       "      <td>43.262500</td>\n",
       "      <td>24</td>\n",
       "      <td>11.635322</td>\n",
       "    </tr>\n",
       "    <tr>\n",
       "      <th>...</th>\n",
       "      <td>...</td>\n",
       "      <td>...</td>\n",
       "      <td>...</td>\n",
       "      <td>...</td>\n",
       "      <td>...</td>\n",
       "    </tr>\n",
       "    <tr>\n",
       "      <th>766920</th>\n",
       "      <td>30166</td>\n",
       "      <td>2021-12-23</td>\n",
       "      <td>3.600000</td>\n",
       "      <td>1</td>\n",
       "      <td>NaN</td>\n",
       "    </tr>\n",
       "    <tr>\n",
       "      <th>766921</th>\n",
       "      <td>30166</td>\n",
       "      <td>2021-12-24</td>\n",
       "      <td>3.100000</td>\n",
       "      <td>1</td>\n",
       "      <td>NaN</td>\n",
       "    </tr>\n",
       "    <tr>\n",
       "      <th>766922</th>\n",
       "      <td>30166</td>\n",
       "      <td>2021-12-25</td>\n",
       "      <td>3.300000</td>\n",
       "      <td>1</td>\n",
       "      <td>NaN</td>\n",
       "    </tr>\n",
       "    <tr>\n",
       "      <th>766923</th>\n",
       "      <td>30166</td>\n",
       "      <td>2021-12-26</td>\n",
       "      <td>3.100000</td>\n",
       "      <td>1</td>\n",
       "      <td>NaN</td>\n",
       "    </tr>\n",
       "    <tr>\n",
       "      <th>766924</th>\n",
       "      <td>30166</td>\n",
       "      <td>2021-12-27</td>\n",
       "      <td>2.400000</td>\n",
       "      <td>1</td>\n",
       "      <td>NaN</td>\n",
       "    </tr>\n",
       "  </tbody>\n",
       "</table>\n",
       "<p>766925 rows × 5 columns</p>\n",
       "</div>"
      ],
      "text/plain": [
       "        IdSensore        Data  Valore_MEAN_id_day  Valore_COUNT_id_day  \\\n",
       "0            5504  2017-01-01           78.966667                   24   \n",
       "1            5504  2017-01-02           74.170833                   24   \n",
       "2            5504  2017-01-03           83.945833                   24   \n",
       "3            5504  2017-01-04           58.358333                   24   \n",
       "4            5504  2017-01-05           43.262500                   24   \n",
       "...           ...         ...                 ...                  ...   \n",
       "766920      30166  2021-12-23            3.600000                    1   \n",
       "766921      30166  2021-12-24            3.100000                    1   \n",
       "766922      30166  2021-12-25            3.300000                    1   \n",
       "766923      30166  2021-12-26            3.100000                    1   \n",
       "766924      30166  2021-12-27            2.400000                    1   \n",
       "\n",
       "        Valore_STD_id_day  \n",
       "0               12.361288  \n",
       "1                9.821736  \n",
       "2               10.372496  \n",
       "3               11.544165  \n",
       "4               11.635322  \n",
       "...                   ...  \n",
       "766920                NaN  \n",
       "766921                NaN  \n",
       "766922                NaN  \n",
       "766923                NaN  \n",
       "766924                NaN  \n",
       "\n",
       "[766925 rows x 5 columns]"
      ]
     },
     "execution_count": 96,
     "metadata": {},
     "output_type": "execute_result"
    }
   ],
   "source": [
    "aria__id_day = aria_tot[['IdSensore', 'Data', 'Valore']]\\\n",
    "               .groupby(['IdSensore', aria_tot['Data'].dt.date])\\\n",
    "               .agg({'Valore': ['mean', 'count', 'std']})\\\n",
    "               .reset_index()\n",
    "\n",
    "aria__id_day.columns = ['IdSensore', 'Data', 'Valore_MEAN_id_day', 'Valore_COUNT_id_day', 'Valore_STD_id_day']\n",
    "aria__id_day"
   ]
  },
  {
   "cell_type": "markdown",
   "id": "532a1406",
   "metadata": {
    "heading_collapsed": true,
    "hidden": true
   },
   "source": [
    "## JOIN `aria_sensori__id_day`"
   ]
  },
  {
   "cell_type": "markdown",
   "id": "16a77ed9",
   "metadata": {
    "hidden": true
   },
   "source": [
    "Inner join tra `aria__id_day` e `sensori_aria` a dare `aria_sensori__id_day`"
   ]
  },
  {
   "cell_type": "code",
   "execution_count": 97,
   "id": "c524de53",
   "metadata": {
    "ExecuteTime": {
     "end_time": "2022-01-14T20:41:55.212954Z",
     "start_time": "2022-01-14T20:41:54.660903Z"
    },
    "hidden": true,
    "scrolled": false
   },
   "outputs": [
    {
     "data": {
      "text/html": [
       "<div>\n",
       "<style scoped>\n",
       "    .dataframe tbody tr th:only-of-type {\n",
       "        vertical-align: middle;\n",
       "    }\n",
       "\n",
       "    .dataframe tbody tr th {\n",
       "        vertical-align: top;\n",
       "    }\n",
       "\n",
       "    .dataframe thead th {\n",
       "        text-align: right;\n",
       "    }\n",
       "</style>\n",
       "<table border=\"1\" class=\"dataframe\">\n",
       "  <thead>\n",
       "    <tr style=\"text-align: right;\">\n",
       "      <th></th>\n",
       "      <th>IdSensore</th>\n",
       "      <th>Data</th>\n",
       "      <th>Valore_MEAN_id_day</th>\n",
       "      <th>Valore_COUNT_id_day</th>\n",
       "      <th>Valore_STD_id_day</th>\n",
       "      <th>NomeTipoSensore</th>\n",
       "      <th>UnitaMisura</th>\n",
       "      <th>Idstazione</th>\n",
       "      <th>NomeStazione</th>\n",
       "      <th>Quota</th>\n",
       "      <th>Provincia</th>\n",
       "      <th>Comune</th>\n",
       "      <th>Storico</th>\n",
       "      <th>DataStart</th>\n",
       "      <th>DataStop</th>\n",
       "      <th>Utm_Nord</th>\n",
       "      <th>UTM_Est</th>\n",
       "      <th>lat</th>\n",
       "      <th>lng</th>\n",
       "      <th>location</th>\n",
       "    </tr>\n",
       "  </thead>\n",
       "  <tbody>\n",
       "    <tr>\n",
       "      <th>0</th>\n",
       "      <td>5504</td>\n",
       "      <td>2017-01-01</td>\n",
       "      <td>78.966667</td>\n",
       "      <td>24</td>\n",
       "      <td>12.361288</td>\n",
       "      <td>Biossido di Azoto</td>\n",
       "      <td>µg/m³</td>\n",
       "      <td>501</td>\n",
       "      <td>Milano v.Marche</td>\n",
       "      <td>129.0</td>\n",
       "      <td>MI</td>\n",
       "      <td>Milano</td>\n",
       "      <td>N</td>\n",
       "      <td>1980-09-18</td>\n",
       "      <td>NaT</td>\n",
       "      <td>5038105</td>\n",
       "      <td>514918</td>\n",
       "      <td>45.496316</td>\n",
       "      <td>9.190934</td>\n",
       "      <td>(45.49631644365102, 9.190933555313624)</td>\n",
       "    </tr>\n",
       "    <tr>\n",
       "      <th>1</th>\n",
       "      <td>5504</td>\n",
       "      <td>2017-01-02</td>\n",
       "      <td>74.170833</td>\n",
       "      <td>24</td>\n",
       "      <td>9.821736</td>\n",
       "      <td>Biossido di Azoto</td>\n",
       "      <td>µg/m³</td>\n",
       "      <td>501</td>\n",
       "      <td>Milano v.Marche</td>\n",
       "      <td>129.0</td>\n",
       "      <td>MI</td>\n",
       "      <td>Milano</td>\n",
       "      <td>N</td>\n",
       "      <td>1980-09-18</td>\n",
       "      <td>NaT</td>\n",
       "      <td>5038105</td>\n",
       "      <td>514918</td>\n",
       "      <td>45.496316</td>\n",
       "      <td>9.190934</td>\n",
       "      <td>(45.49631644365102, 9.190933555313624)</td>\n",
       "    </tr>\n",
       "    <tr>\n",
       "      <th>2</th>\n",
       "      <td>5504</td>\n",
       "      <td>2017-01-03</td>\n",
       "      <td>83.945833</td>\n",
       "      <td>24</td>\n",
       "      <td>10.372496</td>\n",
       "      <td>Biossido di Azoto</td>\n",
       "      <td>µg/m³</td>\n",
       "      <td>501</td>\n",
       "      <td>Milano v.Marche</td>\n",
       "      <td>129.0</td>\n",
       "      <td>MI</td>\n",
       "      <td>Milano</td>\n",
       "      <td>N</td>\n",
       "      <td>1980-09-18</td>\n",
       "      <td>NaT</td>\n",
       "      <td>5038105</td>\n",
       "      <td>514918</td>\n",
       "      <td>45.496316</td>\n",
       "      <td>9.190934</td>\n",
       "      <td>(45.49631644365102, 9.190933555313624)</td>\n",
       "    </tr>\n",
       "    <tr>\n",
       "      <th>3</th>\n",
       "      <td>5504</td>\n",
       "      <td>2017-01-04</td>\n",
       "      <td>58.358333</td>\n",
       "      <td>24</td>\n",
       "      <td>11.544165</td>\n",
       "      <td>Biossido di Azoto</td>\n",
       "      <td>µg/m³</td>\n",
       "      <td>501</td>\n",
       "      <td>Milano v.Marche</td>\n",
       "      <td>129.0</td>\n",
       "      <td>MI</td>\n",
       "      <td>Milano</td>\n",
       "      <td>N</td>\n",
       "      <td>1980-09-18</td>\n",
       "      <td>NaT</td>\n",
       "      <td>5038105</td>\n",
       "      <td>514918</td>\n",
       "      <td>45.496316</td>\n",
       "      <td>9.190934</td>\n",
       "      <td>(45.49631644365102, 9.190933555313624)</td>\n",
       "    </tr>\n",
       "    <tr>\n",
       "      <th>4</th>\n",
       "      <td>5504</td>\n",
       "      <td>2017-01-05</td>\n",
       "      <td>43.262500</td>\n",
       "      <td>24</td>\n",
       "      <td>11.635322</td>\n",
       "      <td>Biossido di Azoto</td>\n",
       "      <td>µg/m³</td>\n",
       "      <td>501</td>\n",
       "      <td>Milano v.Marche</td>\n",
       "      <td>129.0</td>\n",
       "      <td>MI</td>\n",
       "      <td>Milano</td>\n",
       "      <td>N</td>\n",
       "      <td>1980-09-18</td>\n",
       "      <td>NaT</td>\n",
       "      <td>5038105</td>\n",
       "      <td>514918</td>\n",
       "      <td>45.496316</td>\n",
       "      <td>9.190934</td>\n",
       "      <td>(45.49631644365102, 9.190933555313624)</td>\n",
       "    </tr>\n",
       "    <tr>\n",
       "      <th>...</th>\n",
       "      <td>...</td>\n",
       "      <td>...</td>\n",
       "      <td>...</td>\n",
       "      <td>...</td>\n",
       "      <td>...</td>\n",
       "      <td>...</td>\n",
       "      <td>...</td>\n",
       "      <td>...</td>\n",
       "      <td>...</td>\n",
       "      <td>...</td>\n",
       "      <td>...</td>\n",
       "      <td>...</td>\n",
       "      <td>...</td>\n",
       "      <td>...</td>\n",
       "      <td>...</td>\n",
       "      <td>...</td>\n",
       "      <td>...</td>\n",
       "      <td>...</td>\n",
       "      <td>...</td>\n",
       "      <td>...</td>\n",
       "    </tr>\n",
       "    <tr>\n",
       "      <th>731690</th>\n",
       "      <td>30166</td>\n",
       "      <td>2021-12-23</td>\n",
       "      <td>3.600000</td>\n",
       "      <td>1</td>\n",
       "      <td>NaN</td>\n",
       "      <td>Benzene</td>\n",
       "      <td>µg/m³</td>\n",
       "      <td>652</td>\n",
       "      <td>Brescia v.Turati</td>\n",
       "      <td>154.0</td>\n",
       "      <td>BS</td>\n",
       "      <td>Brescia</td>\n",
       "      <td>N</td>\n",
       "      <td>2016-01-01</td>\n",
       "      <td>NaT</td>\n",
       "      <td>5043626</td>\n",
       "      <td>596168</td>\n",
       "      <td>45.539529</td>\n",
       "      <td>10.231786</td>\n",
       "      <td>(45.539529434955995, 10.231785907477223)</td>\n",
       "    </tr>\n",
       "    <tr>\n",
       "      <th>731691</th>\n",
       "      <td>30166</td>\n",
       "      <td>2021-12-24</td>\n",
       "      <td>3.100000</td>\n",
       "      <td>1</td>\n",
       "      <td>NaN</td>\n",
       "      <td>Benzene</td>\n",
       "      <td>µg/m³</td>\n",
       "      <td>652</td>\n",
       "      <td>Brescia v.Turati</td>\n",
       "      <td>154.0</td>\n",
       "      <td>BS</td>\n",
       "      <td>Brescia</td>\n",
       "      <td>N</td>\n",
       "      <td>2016-01-01</td>\n",
       "      <td>NaT</td>\n",
       "      <td>5043626</td>\n",
       "      <td>596168</td>\n",
       "      <td>45.539529</td>\n",
       "      <td>10.231786</td>\n",
       "      <td>(45.539529434955995, 10.231785907477223)</td>\n",
       "    </tr>\n",
       "    <tr>\n",
       "      <th>731692</th>\n",
       "      <td>30166</td>\n",
       "      <td>2021-12-25</td>\n",
       "      <td>3.300000</td>\n",
       "      <td>1</td>\n",
       "      <td>NaN</td>\n",
       "      <td>Benzene</td>\n",
       "      <td>µg/m³</td>\n",
       "      <td>652</td>\n",
       "      <td>Brescia v.Turati</td>\n",
       "      <td>154.0</td>\n",
       "      <td>BS</td>\n",
       "      <td>Brescia</td>\n",
       "      <td>N</td>\n",
       "      <td>2016-01-01</td>\n",
       "      <td>NaT</td>\n",
       "      <td>5043626</td>\n",
       "      <td>596168</td>\n",
       "      <td>45.539529</td>\n",
       "      <td>10.231786</td>\n",
       "      <td>(45.539529434955995, 10.231785907477223)</td>\n",
       "    </tr>\n",
       "    <tr>\n",
       "      <th>731693</th>\n",
       "      <td>30166</td>\n",
       "      <td>2021-12-26</td>\n",
       "      <td>3.100000</td>\n",
       "      <td>1</td>\n",
       "      <td>NaN</td>\n",
       "      <td>Benzene</td>\n",
       "      <td>µg/m³</td>\n",
       "      <td>652</td>\n",
       "      <td>Brescia v.Turati</td>\n",
       "      <td>154.0</td>\n",
       "      <td>BS</td>\n",
       "      <td>Brescia</td>\n",
       "      <td>N</td>\n",
       "      <td>2016-01-01</td>\n",
       "      <td>NaT</td>\n",
       "      <td>5043626</td>\n",
       "      <td>596168</td>\n",
       "      <td>45.539529</td>\n",
       "      <td>10.231786</td>\n",
       "      <td>(45.539529434955995, 10.231785907477223)</td>\n",
       "    </tr>\n",
       "    <tr>\n",
       "      <th>731694</th>\n",
       "      <td>30166</td>\n",
       "      <td>2021-12-27</td>\n",
       "      <td>2.400000</td>\n",
       "      <td>1</td>\n",
       "      <td>NaN</td>\n",
       "      <td>Benzene</td>\n",
       "      <td>µg/m³</td>\n",
       "      <td>652</td>\n",
       "      <td>Brescia v.Turati</td>\n",
       "      <td>154.0</td>\n",
       "      <td>BS</td>\n",
       "      <td>Brescia</td>\n",
       "      <td>N</td>\n",
       "      <td>2016-01-01</td>\n",
       "      <td>NaT</td>\n",
       "      <td>5043626</td>\n",
       "      <td>596168</td>\n",
       "      <td>45.539529</td>\n",
       "      <td>10.231786</td>\n",
       "      <td>(45.539529434955995, 10.231785907477223)</td>\n",
       "    </tr>\n",
       "  </tbody>\n",
       "</table>\n",
       "<p>731695 rows × 20 columns</p>\n",
       "</div>"
      ],
      "text/plain": [
       "        IdSensore        Data  Valore_MEAN_id_day  Valore_COUNT_id_day  \\\n",
       "0            5504  2017-01-01           78.966667                   24   \n",
       "1            5504  2017-01-02           74.170833                   24   \n",
       "2            5504  2017-01-03           83.945833                   24   \n",
       "3            5504  2017-01-04           58.358333                   24   \n",
       "4            5504  2017-01-05           43.262500                   24   \n",
       "...           ...         ...                 ...                  ...   \n",
       "731690      30166  2021-12-23            3.600000                    1   \n",
       "731691      30166  2021-12-24            3.100000                    1   \n",
       "731692      30166  2021-12-25            3.300000                    1   \n",
       "731693      30166  2021-12-26            3.100000                    1   \n",
       "731694      30166  2021-12-27            2.400000                    1   \n",
       "\n",
       "        Valore_STD_id_day    NomeTipoSensore UnitaMisura  Idstazione  \\\n",
       "0               12.361288  Biossido di Azoto       µg/m³         501   \n",
       "1                9.821736  Biossido di Azoto       µg/m³         501   \n",
       "2               10.372496  Biossido di Azoto       µg/m³         501   \n",
       "3               11.544165  Biossido di Azoto       µg/m³         501   \n",
       "4               11.635322  Biossido di Azoto       µg/m³         501   \n",
       "...                   ...                ...         ...         ...   \n",
       "731690                NaN            Benzene       µg/m³         652   \n",
       "731691                NaN            Benzene       µg/m³         652   \n",
       "731692                NaN            Benzene       µg/m³         652   \n",
       "731693                NaN            Benzene       µg/m³         652   \n",
       "731694                NaN            Benzene       µg/m³         652   \n",
       "\n",
       "            NomeStazione  Quota Provincia   Comune Storico  DataStart  \\\n",
       "0        Milano v.Marche  129.0        MI   Milano       N 1980-09-18   \n",
       "1        Milano v.Marche  129.0        MI   Milano       N 1980-09-18   \n",
       "2        Milano v.Marche  129.0        MI   Milano       N 1980-09-18   \n",
       "3        Milano v.Marche  129.0        MI   Milano       N 1980-09-18   \n",
       "4        Milano v.Marche  129.0        MI   Milano       N 1980-09-18   \n",
       "...                  ...    ...       ...      ...     ...        ...   \n",
       "731690  Brescia v.Turati  154.0        BS  Brescia       N 2016-01-01   \n",
       "731691  Brescia v.Turati  154.0        BS  Brescia       N 2016-01-01   \n",
       "731692  Brescia v.Turati  154.0        BS  Brescia       N 2016-01-01   \n",
       "731693  Brescia v.Turati  154.0        BS  Brescia       N 2016-01-01   \n",
       "731694  Brescia v.Turati  154.0        BS  Brescia       N 2016-01-01   \n",
       "\n",
       "       DataStop  Utm_Nord  UTM_Est        lat        lng  \\\n",
       "0           NaT   5038105   514918  45.496316   9.190934   \n",
       "1           NaT   5038105   514918  45.496316   9.190934   \n",
       "2           NaT   5038105   514918  45.496316   9.190934   \n",
       "3           NaT   5038105   514918  45.496316   9.190934   \n",
       "4           NaT   5038105   514918  45.496316   9.190934   \n",
       "...         ...       ...      ...        ...        ...   \n",
       "731690      NaT   5043626   596168  45.539529  10.231786   \n",
       "731691      NaT   5043626   596168  45.539529  10.231786   \n",
       "731692      NaT   5043626   596168  45.539529  10.231786   \n",
       "731693      NaT   5043626   596168  45.539529  10.231786   \n",
       "731694      NaT   5043626   596168  45.539529  10.231786   \n",
       "\n",
       "                                        location  \n",
       "0         (45.49631644365102, 9.190933555313624)  \n",
       "1         (45.49631644365102, 9.190933555313624)  \n",
       "2         (45.49631644365102, 9.190933555313624)  \n",
       "3         (45.49631644365102, 9.190933555313624)  \n",
       "4         (45.49631644365102, 9.190933555313624)  \n",
       "...                                          ...  \n",
       "731690  (45.539529434955995, 10.231785907477223)  \n",
       "731691  (45.539529434955995, 10.231785907477223)  \n",
       "731692  (45.539529434955995, 10.231785907477223)  \n",
       "731693  (45.539529434955995, 10.231785907477223)  \n",
       "731694  (45.539529434955995, 10.231785907477223)  \n",
       "\n",
       "[731695 rows x 20 columns]"
      ]
     },
     "execution_count": 97,
     "metadata": {},
     "output_type": "execute_result"
    }
   ],
   "source": [
    "aria_sensori__id_day = pd.merge(aria__id_day, sensori_aria, how = 'inner', on = 'IdSensore')\n",
    "aria_sensori__id_day"
   ]
  },
  {
   "cell_type": "markdown",
   "id": "097950f4",
   "metadata": {
    "heading_collapsed": true,
    "hidden": true
   },
   "source": [
    "#### Perchè si perdono delle medie facendo il JOIN ?\n",
    "Si perdono delle righe con il merge, questo è dovuto al fatto che:\n",
    "- Praticamente ci sono **88 sensori** che compaiono solo in **aria_20_21 ma non sono registrati** in **sensori_aria** (controllato manualente)"
   ]
  },
  {
   "cell_type": "code",
   "execution_count": 98,
   "id": "df852392",
   "metadata": {
    "ExecuteTime": {
     "end_time": "2022-01-14T20:41:55.576903Z",
     "start_time": "2022-01-14T20:41:55.214897Z"
    },
    "hidden": true
   },
   "outputs": [
    {
     "name": "stdout",
     "output_type": "stream",
     "text": [
      "88    Numero di sensori che non compaiono in sensori_aria\n",
      "35230 Numero di righe di aria__id_day relative a quei sensori\n",
      "35230 Numero di righe perse nel join\n"
     ]
    }
   ],
   "source": [
    "print(len(aria_tot[~aria_tot.IdSensore.isin(sensori_aria.IdSensore)]['IdSensore'].unique()), '   Numero di sensori che non compaiono in sensori_aria')\n",
    "lista = aria_tot[~aria_tot.IdSensore.isin(sensori_aria.IdSensore)]['IdSensore'].unique()\n",
    "print(aria__id_day[aria__id_day.IdSensore.isin(lista)].shape[0], 'Numero di righe di aria__id_day relative a quei sensori')\n",
    "print(aria__id_day.shape[0] - aria_sensori__id_day.shape[0], 'Numero di righe perse nel join')"
   ]
  },
  {
   "cell_type": "markdown",
   "id": "d2e191f7",
   "metadata": {
    "heading_collapsed": true,
    "hidden": true
   },
   "source": [
    "## Controllo significativitá medie e unitá di misura"
   ]
  },
  {
   "cell_type": "markdown",
   "id": "5ce26265",
   "metadata": {
    "heading_collapsed": true,
    "hidden": true
   },
   "source": [
    "### Medie ottenute da piú di un'osservazione"
   ]
  },
  {
   "cell_type": "markdown",
   "id": "4a7f8a6e",
   "metadata": {
    "hidden": true
   },
   "source": [
    "Cerco di determinare quali medie Idsensore-giorno, siano significative, quindi siano ottenute da un numero sufficiente di misurazioni\n",
    "- Per prima cosa verifico il numero di di medie giornaliere per sensore ottenute dal **numero massimo di misurazioni (24**, una misurazione ogni ora)"
   ]
  },
  {
   "cell_type": "code",
   "execution_count": 99,
   "id": "6a9e3243",
   "metadata": {
    "ExecuteTime": {
     "end_time": "2022-01-14T20:41:55.831910Z",
     "start_time": "2022-01-14T20:41:55.578915Z"
    },
    "hidden": true
   },
   "outputs": [
    {
     "data": {
      "text/plain": [
       "490191"
      ]
     },
     "execution_count": 99,
     "metadata": {},
     "output_type": "execute_result"
    }
   ],
   "source": [
    "aria_sensori__id_day[aria_sensori__id_day.Valore_COUNT_id_day == 24].shape[0]"
   ]
  },
  {
   "cell_type": "markdown",
   "id": "65ca2aa5",
   "metadata": {
    "hidden": true
   },
   "source": [
    "- Ora verifico quante di queste siano ottenute da un **solo valore**\n",
    "    - Queste potrebbero avere senso, perchè alcune misurazioni sono fornite dai sensori già mediate sull'intera giornata (o almeno dovrebbero)\n",
    "    - Come PM2.5 e PM10\n",
    "- Per questo per ora direi di non toglierle, valutiamo bene la casistica una volta effettuato il join con il dataset delle stazioni"
   ]
  },
  {
   "cell_type": "code",
   "execution_count": 100,
   "id": "4d0b760b",
   "metadata": {
    "ExecuteTime": {
     "end_time": "2022-01-14T20:41:55.893895Z",
     "start_time": "2022-01-14T20:41:55.833898Z"
    },
    "hidden": true
   },
   "outputs": [
    {
     "data": {
      "text/plain": [
       "208871"
      ]
     },
     "execution_count": 100,
     "metadata": {},
     "output_type": "execute_result"
    }
   ],
   "source": [
    "aria_sensori__id_day[aria_sensori__id_day.Valore_COUNT_id_day == 1].shape[0]"
   ]
  },
  {
   "cell_type": "markdown",
   "id": "b3110630",
   "metadata": {
    "hidden": true
   },
   "source": [
    "- Verifico quali medie sono ottenute da **meno di 8 misurazioni** ma **piú di 1 misurazione**\n",
    "    - Secondo me 8 ore, anche se fossero di fila e non sparse, è un dato ottimo. UNa concentrazione più o meno stabile di inquinante per 8 ore è significativa.\n",
    "    - Inoltre con 8 osservazioni penso che eventuali outliers vengano abbastanza spenti in media, comunque l’effetto non è troppo diverso da averne 15 in termini di effetto degli outliers,"
   ]
  },
  {
   "cell_type": "code",
   "execution_count": 101,
   "id": "c2b42de9",
   "metadata": {
    "ExecuteTime": {
     "end_time": "2022-01-14T20:41:55.908895Z",
     "start_time": "2022-01-14T20:41:55.895899Z"
    },
    "hidden": true
   },
   "outputs": [
    {
     "data": {
      "text/plain": [
       "1167"
      ]
     },
     "execution_count": 101,
     "metadata": {},
     "output_type": "execute_result"
    }
   ],
   "source": [
    "aria_sensori__id_day[(aria_sensori__id_day.Valore_COUNT_id_day < 8) & (aria_sensori__id_day.Valore_COUNT_id_day > 1)].shape[0]"
   ]
  },
  {
   "cell_type": "markdown",
   "id": "31867bb5",
   "metadata": {
    "hidden": true
   },
   "source": [
    "- Verifico quali medie sono ottenute da **meno di 15 misurazioni** ma **piú di 1 misurazione** (considero un cutoff significativo)"
   ]
  },
  {
   "cell_type": "code",
   "execution_count": 102,
   "id": "325138d0",
   "metadata": {
    "ExecuteTime": {
     "end_time": "2022-01-14T20:41:55.924898Z",
     "start_time": "2022-01-14T20:41:55.909894Z"
    },
    "hidden": true
   },
   "outputs": [
    {
     "data": {
      "text/plain": [
       "9735"
      ]
     },
     "execution_count": 102,
     "metadata": {},
     "output_type": "execute_result"
    }
   ],
   "source": [
    "aria_sensori__id_day[(aria_sensori__id_day.Valore_COUNT_id_day < 15) & (aria_sensori__id_day.Valore_COUNT_id_day > 1)].shape[0]"
   ]
  },
  {
   "cell_type": "markdown",
   "id": "410bb5dd",
   "metadata": {
    "hidden": true
   },
   "source": [
    "- Verifico quali sono ottenute da 0 osservazioni"
   ]
  },
  {
   "cell_type": "code",
   "execution_count": 103,
   "id": "c7756d75",
   "metadata": {
    "ExecuteTime": {
     "end_time": "2022-01-14T20:41:55.939893Z",
     "start_time": "2022-01-14T20:41:55.925897Z"
    },
    "hidden": true
   },
   "outputs": [
    {
     "data": {
      "text/plain": [
       "0"
      ]
     },
     "execution_count": 103,
     "metadata": {},
     "output_type": "execute_result"
    }
   ],
   "source": [
    "aria_sensori__id_day[aria_sensori__id_day.Valore_COUNT_id_day == 0].shape[0]"
   ]
  },
  {
   "cell_type": "markdown",
   "id": "b65aab0f",
   "metadata": {
    "heading_collapsed": true,
    "hidden": true
   },
   "source": [
    "#### Rimozione medie ottenute da meno di 8 osservazioni"
   ]
  },
  {
   "cell_type": "code",
   "execution_count": 104,
   "id": "93645e4b",
   "metadata": {
    "ExecuteTime": {
     "end_time": "2022-01-14T20:41:56.146903Z",
     "start_time": "2022-01-14T20:41:55.940895Z"
    },
    "hidden": true
   },
   "outputs": [],
   "source": [
    "aria_sensori__id_day.drop(aria_sensori__id_day[(aria_sensori__id_day.Valore_COUNT_id_day < 8) & (aria_sensori__id_day.Valore_COUNT_id_day > 1)].index, inplace=True)\n",
    "aria_sensori__id_day.reset_index(drop=True, inplace=True)"
   ]
  },
  {
   "cell_type": "markdown",
   "id": "e0ab4d56",
   "metadata": {
    "heading_collapsed": true,
    "hidden": true
   },
   "source": [
    "### Medie ottenute da un'osservazione "
   ]
  },
  {
   "cell_type": "code",
   "execution_count": 105,
   "id": "b42bc3a2",
   "metadata": {
    "ExecuteTime": {
     "end_time": "2022-01-14T20:41:56.303903Z",
     "start_time": "2022-01-14T20:41:56.147903Z"
    },
    "hidden": true,
    "scrolled": false
   },
   "outputs": [
    {
     "name": "stdout",
     "output_type": "stream",
     "text": [
      "NomeTipoSensore\n",
      "Benzene                      38760\n",
      "Biossido di Azoto           149525\n",
      "Biossido di Zolfo            58774\n",
      "Monossido di Carbonio        78425\n",
      "Ossidi di Azoto             147491\n",
      "Ozono                        91118\n",
      "PM10 (SM2005)               111187\n",
      "Particelle sospese PM2.5     55248\n",
      "dtype: int64 \n",
      "\n",
      "NomeTipoSensore\n",
      "Benzene                      38463\n",
      "Biossido di Azoto             1195\n",
      "Biossido di Zolfo              415\n",
      "Monossido di Carbonio          582\n",
      "Ossidi di Azoto               1361\n",
      "Ozono                          739\n",
      "PM10 (SM2005)               111096\n",
      "Particelle sospese PM2.5     55020\n",
      "dtype: int64\n"
     ]
    }
   ],
   "source": [
    "print(aria_sensori__id_day.value_counts('NomeTipoSensore').sort_index(), '\\n')\n",
    "print(aria_sensori__id_day[(aria_sensori__id_day.Valore_COUNT_id_day == 1)].value_counts('NomeTipoSensore').sort_index())"
   ]
  },
  {
   "cell_type": "markdown",
   "id": "3e0903a2",
   "metadata": {
    "hidden": true
   },
   "source": [
    "**Molte di queste sono PM10 e PM2.5**\n",
    "- giustificate dal fatto che sono già fornite in quanto medie (ecco perchè solo una misurazione !)\n",
    "- Non le elimino"
   ]
  },
  {
   "cell_type": "code",
   "execution_count": 106,
   "id": "fea749be",
   "metadata": {
    "ExecuteTime": {
     "end_time": "2022-01-14T20:41:56.696924Z",
     "start_time": "2022-01-14T20:41:56.305899Z"
    },
    "hidden": true
   },
   "outputs": [
    {
     "name": "stdout",
     "output_type": "stream",
     "text": [
      "NomeTipoSensore\n",
      "PM10 (SM2005)               111096\n",
      "Particelle sospese PM2.5     55020\n",
      "dtype: int64\n",
      "(166116, 20)\n"
     ]
    }
   ],
   "source": [
    "print(aria_sensori__id_day[\n",
    "    ((aria_sensori__id_day.NomeTipoSensore == 'PM10 (SM2005)')\n",
    "    | (aria_sensori__id_day.NomeTipoSensore == 'Particolato Totale Sospeso')\n",
    "    | (aria_sensori__id_day.NomeTipoSensore == 'Particelle sospese PM2.5')) & (aria_sensori__id_day.Valore_COUNT_id_day == 1)].value_counts('NomeTipoSensore'))\n",
    "print(aria_sensori__id_day[\n",
    "    ((aria_sensori__id_day.NomeTipoSensore == 'PM10 (SM2005)')\n",
    "    | (aria_sensori__id_day.NomeTipoSensore == 'Particolato Totale Sospeso')\n",
    "    | (aria_sensori__id_day.NomeTipoSensore == 'Particelle sospese PM2.5')) & (aria_sensori__id_day.Valore_COUNT_id_day == 1)].shape)"
   ]
  },
  {
   "cell_type": "markdown",
   "id": "8c860b96",
   "metadata": {
    "heading_collapsed": true,
    "hidden": true
   },
   "source": [
    "#### Quali medie non sono relative al particolato ma comunque hanno una sola misurazione ? Perchè ?\n",
    "- Quasi tutte le misurazioni del benzene sono da una misurazione, deduco anche qui allora che sia un valore mediato"
   ]
  },
  {
   "cell_type": "code",
   "execution_count": 107,
   "id": "eaf92178",
   "metadata": {
    "ExecuteTime": {
     "end_time": "2022-01-14T20:41:56.869897Z",
     "start_time": "2022-01-14T20:41:56.697905Z"
    },
    "hidden": true
   },
   "outputs": [
    {
     "data": {
      "text/plain": [
       "NomeTipoSensore\n",
       "Benzene                  38463\n",
       "Ossidi di Azoto           1361\n",
       "Biossido di Azoto         1195\n",
       "Ozono                      739\n",
       "Monossido di Carbonio      582\n",
       "Biossido di Zolfo          415\n",
       "dtype: int64"
      ]
     },
     "execution_count": 107,
     "metadata": {},
     "output_type": "execute_result"
    }
   ],
   "source": [
    "aria_sensori__id_day[\n",
    "    ((aria_sensori__id_day.NomeTipoSensore != 'PM10 (SM2005)')\n",
    "    & (aria_sensori__id_day.NomeTipoSensore != 'Particolato Totale Sospeso')\n",
    "    & (aria_sensori__id_day.NomeTipoSensore != 'Particelle sospese PM2.5')) & (aria_sensori__id_day.Valore_COUNT_id_day == 1)].value_counts('NomeTipoSensore')"
   ]
  },
  {
   "cell_type": "code",
   "execution_count": 108,
   "id": "c81791bf",
   "metadata": {
    "ExecuteTime": {
     "end_time": "2022-01-14T20:41:57.195936Z",
     "start_time": "2022-01-14T20:41:56.871896Z"
    },
    "hidden": true
   },
   "outputs": [
    {
     "data": {
      "text/plain": [
       "NomeTipoSensore\n",
       "Biossido di Azoto        149525\n",
       "Ossidi di Azoto          147491\n",
       "Ozono                     91118\n",
       "Monossido di Carbonio     78425\n",
       "Biossido di Zolfo         58774\n",
       "Benzene                   38760\n",
       "dtype: int64"
      ]
     },
     "execution_count": 108,
     "metadata": {},
     "output_type": "execute_result"
    }
   ],
   "source": [
    "aria_sensori__id_day[\n",
    "    ((aria_sensori__id_day.NomeTipoSensore != 'PM10 (SM2005)')\n",
    "    & (aria_sensori__id_day.NomeTipoSensore != 'Particolato Totale Sospeso')\n",
    "    & (aria_sensori__id_day.NomeTipoSensore != 'Particelle sospese PM2.5'))].value_counts('NomeTipoSensore')"
   ]
  },
  {
   "cell_type": "markdown",
   "id": "e3745812",
   "metadata": {
    "heading_collapsed": true,
    "hidden": true
   },
   "source": [
    "#### Mentre per le altre grandezze sembrano effettivamente errori, queste le RIMUOVO"
   ]
  },
  {
   "cell_type": "code",
   "execution_count": 109,
   "id": "ce3a00c2",
   "metadata": {
    "ExecuteTime": {
     "end_time": "2022-01-14T20:41:57.401898Z",
     "start_time": "2022-01-14T20:41:57.196925Z"
    },
    "hidden": true,
    "scrolled": false
   },
   "outputs": [
    {
     "data": {
      "text/plain": [
       "4292"
      ]
     },
     "execution_count": 109,
     "metadata": {},
     "output_type": "execute_result"
    }
   ],
   "source": [
    "aria_sensori__id_day[\n",
    "    ((aria_sensori__id_day.NomeTipoSensore != 'PM10 (SM2005)')\n",
    "    & (aria_sensori__id_day.NomeTipoSensore != 'Particolato Totale Sospeso')\n",
    "    & (aria_sensori__id_day.NomeTipoSensore != 'Particelle sospese PM2.5')\n",
    "    & (aria_sensori__id_day.NomeTipoSensore != 'Benzene') & (aria_sensori__id_day.Valore_COUNT_id_day == 1))].shape[0]"
   ]
  },
  {
   "cell_type": "code",
   "execution_count": 110,
   "id": "69177411",
   "metadata": {
    "ExecuteTime": {
     "end_time": "2022-01-14T20:41:57.797929Z",
     "start_time": "2022-01-14T20:41:57.402896Z"
    },
    "hidden": true,
    "scrolled": false
   },
   "outputs": [
    {
     "data": {
      "text/html": [
       "<div>\n",
       "<style scoped>\n",
       "    .dataframe tbody tr th:only-of-type {\n",
       "        vertical-align: middle;\n",
       "    }\n",
       "\n",
       "    .dataframe tbody tr th {\n",
       "        vertical-align: top;\n",
       "    }\n",
       "\n",
       "    .dataframe thead th {\n",
       "        text-align: right;\n",
       "    }\n",
       "</style>\n",
       "<table border=\"1\" class=\"dataframe\">\n",
       "  <thead>\n",
       "    <tr style=\"text-align: right;\">\n",
       "      <th></th>\n",
       "      <th>IdSensore</th>\n",
       "      <th>Data</th>\n",
       "      <th>Valore_MEAN_id_day</th>\n",
       "      <th>Valore_COUNT_id_day</th>\n",
       "      <th>Valore_STD_id_day</th>\n",
       "      <th>NomeTipoSensore</th>\n",
       "      <th>UnitaMisura</th>\n",
       "      <th>Idstazione</th>\n",
       "      <th>NomeStazione</th>\n",
       "      <th>Quota</th>\n",
       "      <th>Provincia</th>\n",
       "      <th>Comune</th>\n",
       "      <th>Storico</th>\n",
       "      <th>DataStart</th>\n",
       "      <th>DataStop</th>\n",
       "      <th>Utm_Nord</th>\n",
       "      <th>UTM_Est</th>\n",
       "      <th>lat</th>\n",
       "      <th>lng</th>\n",
       "      <th>location</th>\n",
       "    </tr>\n",
       "  </thead>\n",
       "  <tbody>\n",
       "    <tr>\n",
       "      <th>0</th>\n",
       "      <td>5504</td>\n",
       "      <td>2017-01-01</td>\n",
       "      <td>78.966667</td>\n",
       "      <td>24</td>\n",
       "      <td>12.361288</td>\n",
       "      <td>Biossido di Azoto</td>\n",
       "      <td>µg/m³</td>\n",
       "      <td>501</td>\n",
       "      <td>Milano v.Marche</td>\n",
       "      <td>129.0</td>\n",
       "      <td>MI</td>\n",
       "      <td>Milano</td>\n",
       "      <td>N</td>\n",
       "      <td>1980-09-18</td>\n",
       "      <td>NaT</td>\n",
       "      <td>5038105</td>\n",
       "      <td>514918</td>\n",
       "      <td>45.496316</td>\n",
       "      <td>9.190934</td>\n",
       "      <td>(45.49631644365102, 9.190933555313624)</td>\n",
       "    </tr>\n",
       "    <tr>\n",
       "      <th>1</th>\n",
       "      <td>5504</td>\n",
       "      <td>2017-01-02</td>\n",
       "      <td>74.170833</td>\n",
       "      <td>24</td>\n",
       "      <td>9.821736</td>\n",
       "      <td>Biossido di Azoto</td>\n",
       "      <td>µg/m³</td>\n",
       "      <td>501</td>\n",
       "      <td>Milano v.Marche</td>\n",
       "      <td>129.0</td>\n",
       "      <td>MI</td>\n",
       "      <td>Milano</td>\n",
       "      <td>N</td>\n",
       "      <td>1980-09-18</td>\n",
       "      <td>NaT</td>\n",
       "      <td>5038105</td>\n",
       "      <td>514918</td>\n",
       "      <td>45.496316</td>\n",
       "      <td>9.190934</td>\n",
       "      <td>(45.49631644365102, 9.190933555313624)</td>\n",
       "    </tr>\n",
       "    <tr>\n",
       "      <th>2</th>\n",
       "      <td>5504</td>\n",
       "      <td>2017-01-03</td>\n",
       "      <td>83.945833</td>\n",
       "      <td>24</td>\n",
       "      <td>10.372496</td>\n",
       "      <td>Biossido di Azoto</td>\n",
       "      <td>µg/m³</td>\n",
       "      <td>501</td>\n",
       "      <td>Milano v.Marche</td>\n",
       "      <td>129.0</td>\n",
       "      <td>MI</td>\n",
       "      <td>Milano</td>\n",
       "      <td>N</td>\n",
       "      <td>1980-09-18</td>\n",
       "      <td>NaT</td>\n",
       "      <td>5038105</td>\n",
       "      <td>514918</td>\n",
       "      <td>45.496316</td>\n",
       "      <td>9.190934</td>\n",
       "      <td>(45.49631644365102, 9.190933555313624)</td>\n",
       "    </tr>\n",
       "    <tr>\n",
       "      <th>3</th>\n",
       "      <td>5504</td>\n",
       "      <td>2017-01-04</td>\n",
       "      <td>58.358333</td>\n",
       "      <td>24</td>\n",
       "      <td>11.544165</td>\n",
       "      <td>Biossido di Azoto</td>\n",
       "      <td>µg/m³</td>\n",
       "      <td>501</td>\n",
       "      <td>Milano v.Marche</td>\n",
       "      <td>129.0</td>\n",
       "      <td>MI</td>\n",
       "      <td>Milano</td>\n",
       "      <td>N</td>\n",
       "      <td>1980-09-18</td>\n",
       "      <td>NaT</td>\n",
       "      <td>5038105</td>\n",
       "      <td>514918</td>\n",
       "      <td>45.496316</td>\n",
       "      <td>9.190934</td>\n",
       "      <td>(45.49631644365102, 9.190933555313624)</td>\n",
       "    </tr>\n",
       "    <tr>\n",
       "      <th>4</th>\n",
       "      <td>5504</td>\n",
       "      <td>2017-01-05</td>\n",
       "      <td>43.262500</td>\n",
       "      <td>24</td>\n",
       "      <td>11.635322</td>\n",
       "      <td>Biossido di Azoto</td>\n",
       "      <td>µg/m³</td>\n",
       "      <td>501</td>\n",
       "      <td>Milano v.Marche</td>\n",
       "      <td>129.0</td>\n",
       "      <td>MI</td>\n",
       "      <td>Milano</td>\n",
       "      <td>N</td>\n",
       "      <td>1980-09-18</td>\n",
       "      <td>NaT</td>\n",
       "      <td>5038105</td>\n",
       "      <td>514918</td>\n",
       "      <td>45.496316</td>\n",
       "      <td>9.190934</td>\n",
       "      <td>(45.49631644365102, 9.190933555313624)</td>\n",
       "    </tr>\n",
       "    <tr>\n",
       "      <th>...</th>\n",
       "      <td>...</td>\n",
       "      <td>...</td>\n",
       "      <td>...</td>\n",
       "      <td>...</td>\n",
       "      <td>...</td>\n",
       "      <td>...</td>\n",
       "      <td>...</td>\n",
       "      <td>...</td>\n",
       "      <td>...</td>\n",
       "      <td>...</td>\n",
       "      <td>...</td>\n",
       "      <td>...</td>\n",
       "      <td>...</td>\n",
       "      <td>...</td>\n",
       "      <td>...</td>\n",
       "      <td>...</td>\n",
       "      <td>...</td>\n",
       "      <td>...</td>\n",
       "      <td>...</td>\n",
       "      <td>...</td>\n",
       "    </tr>\n",
       "    <tr>\n",
       "      <th>726231</th>\n",
       "      <td>30166</td>\n",
       "      <td>2021-12-23</td>\n",
       "      <td>3.600000</td>\n",
       "      <td>1</td>\n",
       "      <td>NaN</td>\n",
       "      <td>Benzene</td>\n",
       "      <td>µg/m³</td>\n",
       "      <td>652</td>\n",
       "      <td>Brescia v.Turati</td>\n",
       "      <td>154.0</td>\n",
       "      <td>BS</td>\n",
       "      <td>Brescia</td>\n",
       "      <td>N</td>\n",
       "      <td>2016-01-01</td>\n",
       "      <td>NaT</td>\n",
       "      <td>5043626</td>\n",
       "      <td>596168</td>\n",
       "      <td>45.539529</td>\n",
       "      <td>10.231786</td>\n",
       "      <td>(45.539529434955995, 10.231785907477223)</td>\n",
       "    </tr>\n",
       "    <tr>\n",
       "      <th>726232</th>\n",
       "      <td>30166</td>\n",
       "      <td>2021-12-24</td>\n",
       "      <td>3.100000</td>\n",
       "      <td>1</td>\n",
       "      <td>NaN</td>\n",
       "      <td>Benzene</td>\n",
       "      <td>µg/m³</td>\n",
       "      <td>652</td>\n",
       "      <td>Brescia v.Turati</td>\n",
       "      <td>154.0</td>\n",
       "      <td>BS</td>\n",
       "      <td>Brescia</td>\n",
       "      <td>N</td>\n",
       "      <td>2016-01-01</td>\n",
       "      <td>NaT</td>\n",
       "      <td>5043626</td>\n",
       "      <td>596168</td>\n",
       "      <td>45.539529</td>\n",
       "      <td>10.231786</td>\n",
       "      <td>(45.539529434955995, 10.231785907477223)</td>\n",
       "    </tr>\n",
       "    <tr>\n",
       "      <th>726233</th>\n",
       "      <td>30166</td>\n",
       "      <td>2021-12-25</td>\n",
       "      <td>3.300000</td>\n",
       "      <td>1</td>\n",
       "      <td>NaN</td>\n",
       "      <td>Benzene</td>\n",
       "      <td>µg/m³</td>\n",
       "      <td>652</td>\n",
       "      <td>Brescia v.Turati</td>\n",
       "      <td>154.0</td>\n",
       "      <td>BS</td>\n",
       "      <td>Brescia</td>\n",
       "      <td>N</td>\n",
       "      <td>2016-01-01</td>\n",
       "      <td>NaT</td>\n",
       "      <td>5043626</td>\n",
       "      <td>596168</td>\n",
       "      <td>45.539529</td>\n",
       "      <td>10.231786</td>\n",
       "      <td>(45.539529434955995, 10.231785907477223)</td>\n",
       "    </tr>\n",
       "    <tr>\n",
       "      <th>726234</th>\n",
       "      <td>30166</td>\n",
       "      <td>2021-12-26</td>\n",
       "      <td>3.100000</td>\n",
       "      <td>1</td>\n",
       "      <td>NaN</td>\n",
       "      <td>Benzene</td>\n",
       "      <td>µg/m³</td>\n",
       "      <td>652</td>\n",
       "      <td>Brescia v.Turati</td>\n",
       "      <td>154.0</td>\n",
       "      <td>BS</td>\n",
       "      <td>Brescia</td>\n",
       "      <td>N</td>\n",
       "      <td>2016-01-01</td>\n",
       "      <td>NaT</td>\n",
       "      <td>5043626</td>\n",
       "      <td>596168</td>\n",
       "      <td>45.539529</td>\n",
       "      <td>10.231786</td>\n",
       "      <td>(45.539529434955995, 10.231785907477223)</td>\n",
       "    </tr>\n",
       "    <tr>\n",
       "      <th>726235</th>\n",
       "      <td>30166</td>\n",
       "      <td>2021-12-27</td>\n",
       "      <td>2.400000</td>\n",
       "      <td>1</td>\n",
       "      <td>NaN</td>\n",
       "      <td>Benzene</td>\n",
       "      <td>µg/m³</td>\n",
       "      <td>652</td>\n",
       "      <td>Brescia v.Turati</td>\n",
       "      <td>154.0</td>\n",
       "      <td>BS</td>\n",
       "      <td>Brescia</td>\n",
       "      <td>N</td>\n",
       "      <td>2016-01-01</td>\n",
       "      <td>NaT</td>\n",
       "      <td>5043626</td>\n",
       "      <td>596168</td>\n",
       "      <td>45.539529</td>\n",
       "      <td>10.231786</td>\n",
       "      <td>(45.539529434955995, 10.231785907477223)</td>\n",
       "    </tr>\n",
       "  </tbody>\n",
       "</table>\n",
       "<p>726236 rows × 20 columns</p>\n",
       "</div>"
      ],
      "text/plain": [
       "        IdSensore        Data  Valore_MEAN_id_day  Valore_COUNT_id_day  \\\n",
       "0            5504  2017-01-01           78.966667                   24   \n",
       "1            5504  2017-01-02           74.170833                   24   \n",
       "2            5504  2017-01-03           83.945833                   24   \n",
       "3            5504  2017-01-04           58.358333                   24   \n",
       "4            5504  2017-01-05           43.262500                   24   \n",
       "...           ...         ...                 ...                  ...   \n",
       "726231      30166  2021-12-23            3.600000                    1   \n",
       "726232      30166  2021-12-24            3.100000                    1   \n",
       "726233      30166  2021-12-25            3.300000                    1   \n",
       "726234      30166  2021-12-26            3.100000                    1   \n",
       "726235      30166  2021-12-27            2.400000                    1   \n",
       "\n",
       "        Valore_STD_id_day    NomeTipoSensore UnitaMisura  Idstazione  \\\n",
       "0               12.361288  Biossido di Azoto       µg/m³         501   \n",
       "1                9.821736  Biossido di Azoto       µg/m³         501   \n",
       "2               10.372496  Biossido di Azoto       µg/m³         501   \n",
       "3               11.544165  Biossido di Azoto       µg/m³         501   \n",
       "4               11.635322  Biossido di Azoto       µg/m³         501   \n",
       "...                   ...                ...         ...         ...   \n",
       "726231                NaN            Benzene       µg/m³         652   \n",
       "726232                NaN            Benzene       µg/m³         652   \n",
       "726233                NaN            Benzene       µg/m³         652   \n",
       "726234                NaN            Benzene       µg/m³         652   \n",
       "726235                NaN            Benzene       µg/m³         652   \n",
       "\n",
       "            NomeStazione  Quota Provincia   Comune Storico  DataStart  \\\n",
       "0        Milano v.Marche  129.0        MI   Milano       N 1980-09-18   \n",
       "1        Milano v.Marche  129.0        MI   Milano       N 1980-09-18   \n",
       "2        Milano v.Marche  129.0        MI   Milano       N 1980-09-18   \n",
       "3        Milano v.Marche  129.0        MI   Milano       N 1980-09-18   \n",
       "4        Milano v.Marche  129.0        MI   Milano       N 1980-09-18   \n",
       "...                  ...    ...       ...      ...     ...        ...   \n",
       "726231  Brescia v.Turati  154.0        BS  Brescia       N 2016-01-01   \n",
       "726232  Brescia v.Turati  154.0        BS  Brescia       N 2016-01-01   \n",
       "726233  Brescia v.Turati  154.0        BS  Brescia       N 2016-01-01   \n",
       "726234  Brescia v.Turati  154.0        BS  Brescia       N 2016-01-01   \n",
       "726235  Brescia v.Turati  154.0        BS  Brescia       N 2016-01-01   \n",
       "\n",
       "       DataStop  Utm_Nord  UTM_Est        lat        lng  \\\n",
       "0           NaT   5038105   514918  45.496316   9.190934   \n",
       "1           NaT   5038105   514918  45.496316   9.190934   \n",
       "2           NaT   5038105   514918  45.496316   9.190934   \n",
       "3           NaT   5038105   514918  45.496316   9.190934   \n",
       "4           NaT   5038105   514918  45.496316   9.190934   \n",
       "...         ...       ...      ...        ...        ...   \n",
       "726231      NaT   5043626   596168  45.539529  10.231786   \n",
       "726232      NaT   5043626   596168  45.539529  10.231786   \n",
       "726233      NaT   5043626   596168  45.539529  10.231786   \n",
       "726234      NaT   5043626   596168  45.539529  10.231786   \n",
       "726235      NaT   5043626   596168  45.539529  10.231786   \n",
       "\n",
       "                                        location  \n",
       "0         (45.49631644365102, 9.190933555313624)  \n",
       "1         (45.49631644365102, 9.190933555313624)  \n",
       "2         (45.49631644365102, 9.190933555313624)  \n",
       "3         (45.49631644365102, 9.190933555313624)  \n",
       "4         (45.49631644365102, 9.190933555313624)  \n",
       "...                                          ...  \n",
       "726231  (45.539529434955995, 10.231785907477223)  \n",
       "726232  (45.539529434955995, 10.231785907477223)  \n",
       "726233  (45.539529434955995, 10.231785907477223)  \n",
       "726234  (45.539529434955995, 10.231785907477223)  \n",
       "726235  (45.539529434955995, 10.231785907477223)  \n",
       "\n",
       "[726236 rows x 20 columns]"
      ]
     },
     "execution_count": 110,
     "metadata": {},
     "output_type": "execute_result"
    }
   ],
   "source": [
    "aria_sensori__id_day.drop(aria_sensori__id_day[\n",
    "    ((aria_sensori__id_day.NomeTipoSensore != 'PM10 (SM2005)')\n",
    "    & (aria_sensori__id_day.NomeTipoSensore != 'Particolato Totale Sospeso')\n",
    "    & (aria_sensori__id_day.NomeTipoSensore != 'Particelle sospese PM2.5') \n",
    "    & (aria_sensori__id_day.NomeTipoSensore != 'Benzene') & (aria_sensori__id_day.Valore_COUNT_id_day == 1))].index, inplace=True)\n",
    "aria_sensori__id_day.reset_index(drop=True, inplace=True)\n",
    "aria_sensori__id_day"
   ]
  },
  {
   "cell_type": "markdown",
   "id": "1e308f9c",
   "metadata": {
    "heading_collapsed": true,
    "hidden": true
   },
   "source": [
    "### Verifica consistenza unitá di misura e creazione dataset `unita_misura`"
   ]
  },
  {
   "cell_type": "code",
   "execution_count": 111,
   "id": "568c3460",
   "metadata": {
    "ExecuteTime": {
     "end_time": "2022-01-14T20:41:58.446940Z",
     "start_time": "2022-01-14T20:41:57.799903Z"
    },
    "hidden": true
   },
   "outputs": [
    {
     "name": "stdout",
     "output_type": "stream",
     "text": [
      "['µg/m³'] Biossido di Azoto\n",
      "['µg/m³'] Biossido di Zolfo\n",
      "['µg/m³'] Ozono\n",
      "['mg/m³'] Monossido di Carbonio\n",
      "['µg/m³'] Benzene\n",
      "['µg/m³'] Ossidi di Azoto\n",
      "['µg/m³'] PM10 (SM2005)\n",
      "['µg/m³'] Particelle sospese PM2.5\n"
     ]
    }
   ],
   "source": [
    "lista_tipi = aria_sensori__id_day.NomeTipoSensore.unique()\n",
    "for tipo in lista_tipi:\n",
    "    unita = aria_sensori__id_day[aria_sensori__id_day['NomeTipoSensore'] == tipo]['UnitaMisura'].unique()\n",
    "    print(unita, tipo)\n",
    "    \n",
    "    if len(unita) > 1:  #blocco di controllo\n",
    "        raise ValueError('ERROR: ci sono piú unita di misura per un inquinante')"
   ]
  },
  {
   "cell_type": "code",
   "execution_count": 112,
   "id": "9d76a8f2",
   "metadata": {
    "ExecuteTime": {
     "end_time": "2022-01-14T20:41:59.033894Z",
     "start_time": "2022-01-14T20:41:58.448928Z"
    },
    "hidden": true
   },
   "outputs": [
    {
     "data": {
      "text/html": [
       "<div>\n",
       "<style scoped>\n",
       "    .dataframe tbody tr th:only-of-type {\n",
       "        vertical-align: middle;\n",
       "    }\n",
       "\n",
       "    .dataframe tbody tr th {\n",
       "        vertical-align: top;\n",
       "    }\n",
       "\n",
       "    .dataframe thead th {\n",
       "        text-align: right;\n",
       "    }\n",
       "</style>\n",
       "<table border=\"1\" class=\"dataframe\">\n",
       "  <thead>\n",
       "    <tr style=\"text-align: right;\">\n",
       "      <th></th>\n",
       "      <th>NomeTipoSensore</th>\n",
       "      <th>UnitaMisura</th>\n",
       "    </tr>\n",
       "  </thead>\n",
       "  <tbody>\n",
       "    <tr>\n",
       "      <th>0</th>\n",
       "      <td>Biossido di Azoto</td>\n",
       "      <td>µg/m³</td>\n",
       "    </tr>\n",
       "    <tr>\n",
       "      <th>1</th>\n",
       "      <td>Biossido di Zolfo</td>\n",
       "      <td>µg/m³</td>\n",
       "    </tr>\n",
       "    <tr>\n",
       "      <th>2</th>\n",
       "      <td>Ozono</td>\n",
       "      <td>µg/m³</td>\n",
       "    </tr>\n",
       "    <tr>\n",
       "      <th>3</th>\n",
       "      <td>Monossido di Carbonio</td>\n",
       "      <td>mg/m³</td>\n",
       "    </tr>\n",
       "    <tr>\n",
       "      <th>4</th>\n",
       "      <td>Benzene</td>\n",
       "      <td>µg/m³</td>\n",
       "    </tr>\n",
       "    <tr>\n",
       "      <th>5</th>\n",
       "      <td>Ossidi di Azoto</td>\n",
       "      <td>µg/m³</td>\n",
       "    </tr>\n",
       "    <tr>\n",
       "      <th>6</th>\n",
       "      <td>PM10 (SM2005)</td>\n",
       "      <td>µg/m³</td>\n",
       "    </tr>\n",
       "    <tr>\n",
       "      <th>7</th>\n",
       "      <td>Particelle sospese PM2.5</td>\n",
       "      <td>µg/m³</td>\n",
       "    </tr>\n",
       "  </tbody>\n",
       "</table>\n",
       "</div>"
      ],
      "text/plain": [
       "            NomeTipoSensore UnitaMisura\n",
       "0         Biossido di Azoto       µg/m³\n",
       "1         Biossido di Zolfo       µg/m³\n",
       "2                     Ozono       µg/m³\n",
       "3     Monossido di Carbonio       mg/m³\n",
       "4                   Benzene       µg/m³\n",
       "5           Ossidi di Azoto       µg/m³\n",
       "6             PM10 (SM2005)       µg/m³\n",
       "7  Particelle sospese PM2.5       µg/m³"
      ]
     },
     "execution_count": 112,
     "metadata": {},
     "output_type": "execute_result"
    }
   ],
   "source": [
    "unita_misura = pd.DataFrame([[tipo, aria_sensori__id_day[aria_sensori__id_day['NomeTipoSensore'] == tipo]['UnitaMisura'].unique()[0]] for tipo in lista_tipi], columns=[\"NomeTipoSensore\", \"UnitaMisura\"])\n",
    "unita_misura"
   ]
  },
  {
   "cell_type": "markdown",
   "id": "35c20862",
   "metadata": {
    "heading_collapsed": true,
    "hidden": true
   },
   "source": [
    "## JOIN `aria_sensori_zone__id_day`"
   ]
  },
  {
   "cell_type": "markdown",
   "id": "2ea3a415",
   "metadata": {
    "hidden": true
   },
   "source": [
    "- Inner joint tra `aria_sensori__id_day` e `zonizzazione` a dare `aria_sensori_zone__id_day`\n",
    "- Non perdo nessuna riga con l'inner joint perché sono presenti tutti i comuni nel dataset `zonizzazione`"
   ]
  },
  {
   "cell_type": "code",
   "execution_count": 113,
   "id": "07bf353e",
   "metadata": {
    "ExecuteTime": {
     "end_time": "2022-01-14T20:42:00.993899Z",
     "start_time": "2022-01-14T20:41:59.034936Z"
    },
    "hidden": true
   },
   "outputs": [
    {
     "data": {
      "text/html": [
       "<div>\n",
       "<style scoped>\n",
       "    .dataframe tbody tr th:only-of-type {\n",
       "        vertical-align: middle;\n",
       "    }\n",
       "\n",
       "    .dataframe tbody tr th {\n",
       "        vertical-align: top;\n",
       "    }\n",
       "\n",
       "    .dataframe thead th {\n",
       "        text-align: right;\n",
       "    }\n",
       "</style>\n",
       "<table border=\"1\" class=\"dataframe\">\n",
       "  <thead>\n",
       "    <tr style=\"text-align: right;\">\n",
       "      <th></th>\n",
       "      <th>key_0</th>\n",
       "      <th>IdSensore</th>\n",
       "      <th>Data</th>\n",
       "      <th>Valore_MEAN_id_day</th>\n",
       "      <th>Valore_COUNT_id_day</th>\n",
       "      <th>Valore_STD_id_day</th>\n",
       "      <th>NomeTipoSensore</th>\n",
       "      <th>UnitaMisura</th>\n",
       "      <th>Idstazione</th>\n",
       "      <th>NomeStazione</th>\n",
       "      <th>...</th>\n",
       "      <th>DataStart</th>\n",
       "      <th>DataStop</th>\n",
       "      <th>Utm_Nord</th>\n",
       "      <th>UTM_Est</th>\n",
       "      <th>lat</th>\n",
       "      <th>lng</th>\n",
       "      <th>location</th>\n",
       "      <th>Zona</th>\n",
       "      <th>Residenti 2008</th>\n",
       "      <th>Superficie (ha)</th>\n",
       "    </tr>\n",
       "  </thead>\n",
       "  <tbody>\n",
       "    <tr>\n",
       "      <th>0</th>\n",
       "      <td>milano</td>\n",
       "      <td>5504</td>\n",
       "      <td>2017-01-01</td>\n",
       "      <td>78.966667</td>\n",
       "      <td>24</td>\n",
       "      <td>12.361288</td>\n",
       "      <td>Biossido di Azoto</td>\n",
       "      <td>µg/m³</td>\n",
       "      <td>501</td>\n",
       "      <td>Milano v.Marche</td>\n",
       "      <td>...</td>\n",
       "      <td>1980-09-18</td>\n",
       "      <td>NaT</td>\n",
       "      <td>5038105</td>\n",
       "      <td>514918</td>\n",
       "      <td>45.496316</td>\n",
       "      <td>9.190934</td>\n",
       "      <td>(45.49631644365102, 9.190933555313624)</td>\n",
       "      <td>AGG MI</td>\n",
       "      <td>1307495</td>\n",
       "      <td>18175</td>\n",
       "    </tr>\n",
       "    <tr>\n",
       "      <th>1</th>\n",
       "      <td>milano</td>\n",
       "      <td>5504</td>\n",
       "      <td>2017-01-02</td>\n",
       "      <td>74.170833</td>\n",
       "      <td>24</td>\n",
       "      <td>9.821736</td>\n",
       "      <td>Biossido di Azoto</td>\n",
       "      <td>µg/m³</td>\n",
       "      <td>501</td>\n",
       "      <td>Milano v.Marche</td>\n",
       "      <td>...</td>\n",
       "      <td>1980-09-18</td>\n",
       "      <td>NaT</td>\n",
       "      <td>5038105</td>\n",
       "      <td>514918</td>\n",
       "      <td>45.496316</td>\n",
       "      <td>9.190934</td>\n",
       "      <td>(45.49631644365102, 9.190933555313624)</td>\n",
       "      <td>AGG MI</td>\n",
       "      <td>1307495</td>\n",
       "      <td>18175</td>\n",
       "    </tr>\n",
       "    <tr>\n",
       "      <th>2</th>\n",
       "      <td>milano</td>\n",
       "      <td>5504</td>\n",
       "      <td>2017-01-03</td>\n",
       "      <td>83.945833</td>\n",
       "      <td>24</td>\n",
       "      <td>10.372496</td>\n",
       "      <td>Biossido di Azoto</td>\n",
       "      <td>µg/m³</td>\n",
       "      <td>501</td>\n",
       "      <td>Milano v.Marche</td>\n",
       "      <td>...</td>\n",
       "      <td>1980-09-18</td>\n",
       "      <td>NaT</td>\n",
       "      <td>5038105</td>\n",
       "      <td>514918</td>\n",
       "      <td>45.496316</td>\n",
       "      <td>9.190934</td>\n",
       "      <td>(45.49631644365102, 9.190933555313624)</td>\n",
       "      <td>AGG MI</td>\n",
       "      <td>1307495</td>\n",
       "      <td>18175</td>\n",
       "    </tr>\n",
       "    <tr>\n",
       "      <th>3</th>\n",
       "      <td>milano</td>\n",
       "      <td>5504</td>\n",
       "      <td>2017-01-04</td>\n",
       "      <td>58.358333</td>\n",
       "      <td>24</td>\n",
       "      <td>11.544165</td>\n",
       "      <td>Biossido di Azoto</td>\n",
       "      <td>µg/m³</td>\n",
       "      <td>501</td>\n",
       "      <td>Milano v.Marche</td>\n",
       "      <td>...</td>\n",
       "      <td>1980-09-18</td>\n",
       "      <td>NaT</td>\n",
       "      <td>5038105</td>\n",
       "      <td>514918</td>\n",
       "      <td>45.496316</td>\n",
       "      <td>9.190934</td>\n",
       "      <td>(45.49631644365102, 9.190933555313624)</td>\n",
       "      <td>AGG MI</td>\n",
       "      <td>1307495</td>\n",
       "      <td>18175</td>\n",
       "    </tr>\n",
       "    <tr>\n",
       "      <th>4</th>\n",
       "      <td>milano</td>\n",
       "      <td>5504</td>\n",
       "      <td>2017-01-05</td>\n",
       "      <td>43.262500</td>\n",
       "      <td>24</td>\n",
       "      <td>11.635322</td>\n",
       "      <td>Biossido di Azoto</td>\n",
       "      <td>µg/m³</td>\n",
       "      <td>501</td>\n",
       "      <td>Milano v.Marche</td>\n",
       "      <td>...</td>\n",
       "      <td>1980-09-18</td>\n",
       "      <td>NaT</td>\n",
       "      <td>5038105</td>\n",
       "      <td>514918</td>\n",
       "      <td>45.496316</td>\n",
       "      <td>9.190934</td>\n",
       "      <td>(45.49631644365102, 9.190933555313624)</td>\n",
       "      <td>AGG MI</td>\n",
       "      <td>1307495</td>\n",
       "      <td>18175</td>\n",
       "    </tr>\n",
       "    <tr>\n",
       "      <th>...</th>\n",
       "      <td>...</td>\n",
       "      <td>...</td>\n",
       "      <td>...</td>\n",
       "      <td>...</td>\n",
       "      <td>...</td>\n",
       "      <td>...</td>\n",
       "      <td>...</td>\n",
       "      <td>...</td>\n",
       "      <td>...</td>\n",
       "      <td>...</td>\n",
       "      <td>...</td>\n",
       "      <td>...</td>\n",
       "      <td>...</td>\n",
       "      <td>...</td>\n",
       "      <td>...</td>\n",
       "      <td>...</td>\n",
       "      <td>...</td>\n",
       "      <td>...</td>\n",
       "      <td>...</td>\n",
       "      <td>...</td>\n",
       "      <td>...</td>\n",
       "    </tr>\n",
       "    <tr>\n",
       "      <th>726231</th>\n",
       "      <td>mezzana bigli</td>\n",
       "      <td>20216</td>\n",
       "      <td>2021-12-20</td>\n",
       "      <td>4.041667</td>\n",
       "      <td>24</td>\n",
       "      <td>1.878000</td>\n",
       "      <td>Biossido di Zolfo</td>\n",
       "      <td>µg/m³</td>\n",
       "      <td>690</td>\n",
       "      <td>Mezzana Bigli loc. Casoni</td>\n",
       "      <td>...</td>\n",
       "      <td>2006-01-20</td>\n",
       "      <td>NaT</td>\n",
       "      <td>4990697</td>\n",
       "      <td>489679</td>\n",
       "      <td>45.069659</td>\n",
       "      <td>8.868889</td>\n",
       "      <td>(45.069658641385914, 8.86888929943922)</td>\n",
       "      <td>B</td>\n",
       "      <td>1144</td>\n",
       "      <td>1872</td>\n",
       "    </tr>\n",
       "    <tr>\n",
       "      <th>726232</th>\n",
       "      <td>mezzana bigli</td>\n",
       "      <td>20216</td>\n",
       "      <td>2021-12-21</td>\n",
       "      <td>2.995833</td>\n",
       "      <td>24</td>\n",
       "      <td>0.760709</td>\n",
       "      <td>Biossido di Zolfo</td>\n",
       "      <td>µg/m³</td>\n",
       "      <td>690</td>\n",
       "      <td>Mezzana Bigli loc. Casoni</td>\n",
       "      <td>...</td>\n",
       "      <td>2006-01-20</td>\n",
       "      <td>NaT</td>\n",
       "      <td>4990697</td>\n",
       "      <td>489679</td>\n",
       "      <td>45.069659</td>\n",
       "      <td>8.868889</td>\n",
       "      <td>(45.069658641385914, 8.86888929943922)</td>\n",
       "      <td>B</td>\n",
       "      <td>1144</td>\n",
       "      <td>1872</td>\n",
       "    </tr>\n",
       "    <tr>\n",
       "      <th>726233</th>\n",
       "      <td>mezzana bigli</td>\n",
       "      <td>20216</td>\n",
       "      <td>2021-12-22</td>\n",
       "      <td>1.729167</td>\n",
       "      <td>24</td>\n",
       "      <td>0.393953</td>\n",
       "      <td>Biossido di Zolfo</td>\n",
       "      <td>µg/m³</td>\n",
       "      <td>690</td>\n",
       "      <td>Mezzana Bigli loc. Casoni</td>\n",
       "      <td>...</td>\n",
       "      <td>2006-01-20</td>\n",
       "      <td>NaT</td>\n",
       "      <td>4990697</td>\n",
       "      <td>489679</td>\n",
       "      <td>45.069659</td>\n",
       "      <td>8.868889</td>\n",
       "      <td>(45.069658641385914, 8.86888929943922)</td>\n",
       "      <td>B</td>\n",
       "      <td>1144</td>\n",
       "      <td>1872</td>\n",
       "    </tr>\n",
       "    <tr>\n",
       "      <th>726234</th>\n",
       "      <td>mezzana bigli</td>\n",
       "      <td>20216</td>\n",
       "      <td>2021-12-23</td>\n",
       "      <td>2.329167</td>\n",
       "      <td>24</td>\n",
       "      <td>0.591593</td>\n",
       "      <td>Biossido di Zolfo</td>\n",
       "      <td>µg/m³</td>\n",
       "      <td>690</td>\n",
       "      <td>Mezzana Bigli loc. Casoni</td>\n",
       "      <td>...</td>\n",
       "      <td>2006-01-20</td>\n",
       "      <td>NaT</td>\n",
       "      <td>4990697</td>\n",
       "      <td>489679</td>\n",
       "      <td>45.069659</td>\n",
       "      <td>8.868889</td>\n",
       "      <td>(45.069658641385914, 8.86888929943922)</td>\n",
       "      <td>B</td>\n",
       "      <td>1144</td>\n",
       "      <td>1872</td>\n",
       "    </tr>\n",
       "    <tr>\n",
       "      <th>726235</th>\n",
       "      <td>mezzana bigli</td>\n",
       "      <td>20216</td>\n",
       "      <td>2021-12-24</td>\n",
       "      <td>0.976923</td>\n",
       "      <td>13</td>\n",
       "      <td>0.527816</td>\n",
       "      <td>Biossido di Zolfo</td>\n",
       "      <td>µg/m³</td>\n",
       "      <td>690</td>\n",
       "      <td>Mezzana Bigli loc. Casoni</td>\n",
       "      <td>...</td>\n",
       "      <td>2006-01-20</td>\n",
       "      <td>NaT</td>\n",
       "      <td>4990697</td>\n",
       "      <td>489679</td>\n",
       "      <td>45.069659</td>\n",
       "      <td>8.868889</td>\n",
       "      <td>(45.069658641385914, 8.86888929943922)</td>\n",
       "      <td>B</td>\n",
       "      <td>1144</td>\n",
       "      <td>1872</td>\n",
       "    </tr>\n",
       "  </tbody>\n",
       "</table>\n",
       "<p>726236 rows × 24 columns</p>\n",
       "</div>"
      ],
      "text/plain": [
       "                key_0  IdSensore        Data  Valore_MEAN_id_day  \\\n",
       "0              milano       5504  2017-01-01           78.966667   \n",
       "1              milano       5504  2017-01-02           74.170833   \n",
       "2              milano       5504  2017-01-03           83.945833   \n",
       "3              milano       5504  2017-01-04           58.358333   \n",
       "4              milano       5504  2017-01-05           43.262500   \n",
       "...               ...        ...         ...                 ...   \n",
       "726231  mezzana bigli      20216  2021-12-20            4.041667   \n",
       "726232  mezzana bigli      20216  2021-12-21            2.995833   \n",
       "726233  mezzana bigli      20216  2021-12-22            1.729167   \n",
       "726234  mezzana bigli      20216  2021-12-23            2.329167   \n",
       "726235  mezzana bigli      20216  2021-12-24            0.976923   \n",
       "\n",
       "        Valore_COUNT_id_day  Valore_STD_id_day    NomeTipoSensore UnitaMisura  \\\n",
       "0                        24          12.361288  Biossido di Azoto       µg/m³   \n",
       "1                        24           9.821736  Biossido di Azoto       µg/m³   \n",
       "2                        24          10.372496  Biossido di Azoto       µg/m³   \n",
       "3                        24          11.544165  Biossido di Azoto       µg/m³   \n",
       "4                        24          11.635322  Biossido di Azoto       µg/m³   \n",
       "...                     ...                ...                ...         ...   \n",
       "726231                   24           1.878000  Biossido di Zolfo       µg/m³   \n",
       "726232                   24           0.760709  Biossido di Zolfo       µg/m³   \n",
       "726233                   24           0.393953  Biossido di Zolfo       µg/m³   \n",
       "726234                   24           0.591593  Biossido di Zolfo       µg/m³   \n",
       "726235                   13           0.527816  Biossido di Zolfo       µg/m³   \n",
       "\n",
       "        Idstazione               NomeStazione  ...  DataStart DataStop  \\\n",
       "0              501            Milano v.Marche  ... 1980-09-18      NaT   \n",
       "1              501            Milano v.Marche  ... 1980-09-18      NaT   \n",
       "2              501            Milano v.Marche  ... 1980-09-18      NaT   \n",
       "3              501            Milano v.Marche  ... 1980-09-18      NaT   \n",
       "4              501            Milano v.Marche  ... 1980-09-18      NaT   \n",
       "...            ...                        ...  ...        ...      ...   \n",
       "726231         690  Mezzana Bigli loc. Casoni  ... 2006-01-20      NaT   \n",
       "726232         690  Mezzana Bigli loc. Casoni  ... 2006-01-20      NaT   \n",
       "726233         690  Mezzana Bigli loc. Casoni  ... 2006-01-20      NaT   \n",
       "726234         690  Mezzana Bigli loc. Casoni  ... 2006-01-20      NaT   \n",
       "726235         690  Mezzana Bigli loc. Casoni  ... 2006-01-20      NaT   \n",
       "\n",
       "       Utm_Nord UTM_Est        lat       lng  \\\n",
       "0       5038105  514918  45.496316  9.190934   \n",
       "1       5038105  514918  45.496316  9.190934   \n",
       "2       5038105  514918  45.496316  9.190934   \n",
       "3       5038105  514918  45.496316  9.190934   \n",
       "4       5038105  514918  45.496316  9.190934   \n",
       "...         ...     ...        ...       ...   \n",
       "726231  4990697  489679  45.069659  8.868889   \n",
       "726232  4990697  489679  45.069659  8.868889   \n",
       "726233  4990697  489679  45.069659  8.868889   \n",
       "726234  4990697  489679  45.069659  8.868889   \n",
       "726235  4990697  489679  45.069659  8.868889   \n",
       "\n",
       "                                      location    Zona  Residenti 2008  \\\n",
       "0       (45.49631644365102, 9.190933555313624)  AGG MI         1307495   \n",
       "1       (45.49631644365102, 9.190933555313624)  AGG MI         1307495   \n",
       "2       (45.49631644365102, 9.190933555313624)  AGG MI         1307495   \n",
       "3       (45.49631644365102, 9.190933555313624)  AGG MI         1307495   \n",
       "4       (45.49631644365102, 9.190933555313624)  AGG MI         1307495   \n",
       "...                                        ...     ...             ...   \n",
       "726231  (45.069658641385914, 8.86888929943922)       B            1144   \n",
       "726232  (45.069658641385914, 8.86888929943922)       B            1144   \n",
       "726233  (45.069658641385914, 8.86888929943922)       B            1144   \n",
       "726234  (45.069658641385914, 8.86888929943922)       B            1144   \n",
       "726235  (45.069658641385914, 8.86888929943922)       B            1144   \n",
       "\n",
       "        Superficie (ha)  \n",
       "0                 18175  \n",
       "1                 18175  \n",
       "2                 18175  \n",
       "3                 18175  \n",
       "4                 18175  \n",
       "...                 ...  \n",
       "726231             1872  \n",
       "726232             1872  \n",
       "726233             1872  \n",
       "726234             1872  \n",
       "726235             1872  \n",
       "\n",
       "[726236 rows x 24 columns]"
      ]
     },
     "execution_count": 113,
     "metadata": {},
     "output_type": "execute_result"
    }
   ],
   "source": [
    "aria_sensori_zone__id_day = pd.merge(aria_sensori__id_day, zonizzazione[['Zona', 'Residenti 2008', 'Superficie (ha)']], left_on = aria_sensori__id_day['Comune'].str.lower(), right_on = zonizzazione['Comune'].str.lower())\n",
    "aria_sensori_zone__id_day"
   ]
  },
  {
   "cell_type": "code",
   "execution_count": 114,
   "id": "470609a4",
   "metadata": {
    "ExecuteTime": {
     "end_time": "2022-01-14T20:42:01.071894Z",
     "start_time": "2022-01-14T20:42:00.995903Z"
    },
    "hidden": true
   },
   "outputs": [
    {
     "data": {
      "text/plain": [
       "A         248772\n",
       "AGG MI    149831\n",
       "B         146923\n",
       "AGG BG     56591\n",
       "AGG BS     43696\n",
       "C          42052\n",
       "C D        38371\n",
       "Name: Zona, dtype: int64"
      ]
     },
     "execution_count": 114,
     "metadata": {},
     "output_type": "execute_result"
    }
   ],
   "source": [
    "aria_sensori_zone__id_day['Zona'].value_counts()"
   ]
  },
  {
   "cell_type": "markdown",
   "id": "f7005841",
   "metadata": {
    "hidden": true
   },
   "source": [
    "L'attributo `quota` delle stazioni in 'C D' indica che si trovano nel fondovalle quindi associo queste stazioni alla zona D"
   ]
  },
  {
   "cell_type": "code",
   "execution_count": 115,
   "id": "90a24c95",
   "metadata": {
    "ExecuteTime": {
     "end_time": "2022-01-14T20:42:01.340894Z",
     "start_time": "2022-01-14T20:42:01.073895Z"
    },
    "hidden": true
   },
   "outputs": [
    {
     "data": {
      "text/plain": [
       "IdSensore\n",
       "5572     307.0\n",
       "5575     262.0\n",
       "5704     307.0\n",
       "5742     262.0\n",
       "5844     262.0\n",
       "5845     307.0\n",
       "6380     262.0\n",
       "6382     307.0\n",
       "6926     262.0\n",
       "6958     307.0\n",
       "10259    307.0\n",
       "10270    221.0\n",
       "10431    290.0\n",
       "10432    290.0\n",
       "10437    290.0\n",
       "10438    290.0\n",
       "10450    221.0\n",
       "10501    221.0\n",
       "17163    221.0\n",
       "17293    290.0\n",
       "30159    221.0\n",
       "30160    221.0\n",
       "Name: Quota, dtype: float64"
      ]
     },
     "execution_count": 115,
     "metadata": {},
     "output_type": "execute_result"
    }
   ],
   "source": [
    "aria_sensori_zone__id_day[aria_sensori_zone__id_day['Zona'] == 'C D'].groupby('IdSensore')['Quota'].mean()"
   ]
  },
  {
   "cell_type": "code",
   "execution_count": 116,
   "id": "d7a46a26",
   "metadata": {
    "ExecuteTime": {
     "end_time": "2022-01-14T20:42:01.372894Z",
     "start_time": "2022-01-14T20:42:01.342895Z"
    },
    "hidden": true
   },
   "outputs": [],
   "source": [
    "aria_sensori_zone__id_day['Zona'].replace('C D', 'D', inplace = True)"
   ]
  },
  {
   "cell_type": "code",
   "execution_count": 117,
   "id": "cb577375",
   "metadata": {
    "ExecuteTime": {
     "end_time": "2022-01-14T20:42:01.451894Z",
     "start_time": "2022-01-14T20:42:01.374894Z"
    },
    "hidden": true
   },
   "outputs": [
    {
     "data": {
      "text/plain": [
       "A         248772\n",
       "AGG MI    149831\n",
       "B         146923\n",
       "AGG BG     56591\n",
       "AGG BS     43696\n",
       "C          42052\n",
       "D          38371\n",
       "Name: Zona, dtype: int64"
      ]
     },
     "execution_count": 117,
     "metadata": {},
     "output_type": "execute_result"
    }
   ],
   "source": [
    "aria_sensori_zone__id_day['Zona'].value_counts()"
   ]
  },
  {
   "cell_type": "markdown",
   "id": "2e8659e8",
   "metadata": {
    "heading_collapsed": true,
    "hidden": true
   },
   "source": [
    "## GROUP BY `aria_sensori_zone__day_zona_tipo`"
   ]
  },
  {
   "cell_type": "markdown",
   "id": "d48091be",
   "metadata": {
    "hidden": true
   },
   "source": [
    "- Raggruppo per `Data` (giorno), `Zona`, `NomeTipoSensore`\n",
    "- Calcolo grandezze aggregate\n",
    "    - Calcolo il valore medio e la deviazione standard del `Valore_MEAN_id_day`, cioé il valore mediato di un sensore sull'intera giornata\n",
    "    - Importante sottolineare che le funzioni `mean, count e std` di pandas NON tengono conto dei Na, quindi i valori che vediamo sono esatti\n",
    "- Si perdono le colonne `Valore_COUNT_id_day` e `Valore_STD_id_day` ma non sono importanti, sono piú importanti quelle che ricalcoliamo (chiamate `Valore_COUNT_day_zona_tipo` e `Valore_STD_day_zona_tipo`)"
   ]
  },
  {
   "cell_type": "code",
   "execution_count": 118,
   "id": "224e2409",
   "metadata": {
    "ExecuteTime": {
     "end_time": "2022-01-14T20:42:01.956914Z",
     "start_time": "2022-01-14T20:42:01.453893Z"
    },
    "hidden": true,
    "scrolled": false
   },
   "outputs": [
    {
     "data": {
      "text/html": [
       "<div>\n",
       "<style scoped>\n",
       "    .dataframe tbody tr th:only-of-type {\n",
       "        vertical-align: middle;\n",
       "    }\n",
       "\n",
       "    .dataframe tbody tr th {\n",
       "        vertical-align: top;\n",
       "    }\n",
       "\n",
       "    .dataframe thead th {\n",
       "        text-align: right;\n",
       "    }\n",
       "</style>\n",
       "<table border=\"1\" class=\"dataframe\">\n",
       "  <thead>\n",
       "    <tr style=\"text-align: right;\">\n",
       "      <th></th>\n",
       "      <th>Data</th>\n",
       "      <th>Zona</th>\n",
       "      <th>NomeTipoSensore</th>\n",
       "      <th>Valore_MEAN_day_zona_tipo</th>\n",
       "      <th>Valore_COUNT_day_zona_tipo</th>\n",
       "      <th>Valore_STD_day_zona_tipo</th>\n",
       "    </tr>\n",
       "  </thead>\n",
       "  <tbody>\n",
       "    <tr>\n",
       "      <th>0</th>\n",
       "      <td>2017-01-01</td>\n",
       "      <td>A</td>\n",
       "      <td>Benzene</td>\n",
       "      <td>2.250000</td>\n",
       "      <td>8</td>\n",
       "      <td>1.007118</td>\n",
       "    </tr>\n",
       "    <tr>\n",
       "      <th>1</th>\n",
       "      <td>2017-01-01</td>\n",
       "      <td>A</td>\n",
       "      <td>Biossido di Azoto</td>\n",
       "      <td>40.901994</td>\n",
       "      <td>26</td>\n",
       "      <td>10.758609</td>\n",
       "    </tr>\n",
       "    <tr>\n",
       "      <th>2</th>\n",
       "      <td>2017-01-01</td>\n",
       "      <td>A</td>\n",
       "      <td>Biossido di Zolfo</td>\n",
       "      <td>3.080280</td>\n",
       "      <td>14</td>\n",
       "      <td>1.571802</td>\n",
       "    </tr>\n",
       "    <tr>\n",
       "      <th>3</th>\n",
       "      <td>2017-01-01</td>\n",
       "      <td>A</td>\n",
       "      <td>Monossido di Carbonio</td>\n",
       "      <td>1.150833</td>\n",
       "      <td>15</td>\n",
       "      <td>0.506121</td>\n",
       "    </tr>\n",
       "    <tr>\n",
       "      <th>4</th>\n",
       "      <td>2017-01-01</td>\n",
       "      <td>A</td>\n",
       "      <td>Ossidi di Azoto</td>\n",
       "      <td>102.908466</td>\n",
       "      <td>26</td>\n",
       "      <td>47.296362</td>\n",
       "    </tr>\n",
       "    <tr>\n",
       "      <th>...</th>\n",
       "      <td>...</td>\n",
       "      <td>...</td>\n",
       "      <td>...</td>\n",
       "      <td>...</td>\n",
       "      <td>...</td>\n",
       "      <td>...</td>\n",
       "    </tr>\n",
       "    <tr>\n",
       "      <th>101103</th>\n",
       "      <td>2021-12-27</td>\n",
       "      <td>D</td>\n",
       "      <td>Ozono</td>\n",
       "      <td>5.448611</td>\n",
       "      <td>3</td>\n",
       "      <td>1.730774</td>\n",
       "    </tr>\n",
       "    <tr>\n",
       "      <th>101104</th>\n",
       "      <td>2021-12-27</td>\n",
       "      <td>D</td>\n",
       "      <td>PM10 (SM2005)</td>\n",
       "      <td>55.750000</td>\n",
       "      <td>4</td>\n",
       "      <td>15.261608</td>\n",
       "    </tr>\n",
       "    <tr>\n",
       "      <th>101105</th>\n",
       "      <td>2021-12-27</td>\n",
       "      <td>D</td>\n",
       "      <td>Particelle sospese PM2.5</td>\n",
       "      <td>59.000000</td>\n",
       "      <td>2</td>\n",
       "      <td>8.485281</td>\n",
       "    </tr>\n",
       "    <tr>\n",
       "      <th>101106</th>\n",
       "      <td>2021-12-28</td>\n",
       "      <td>AGG BS</td>\n",
       "      <td>Benzene</td>\n",
       "      <td>1.500000</td>\n",
       "      <td>1</td>\n",
       "      <td>NaN</td>\n",
       "    </tr>\n",
       "    <tr>\n",
       "      <th>101107</th>\n",
       "      <td>2021-12-28</td>\n",
       "      <td>B</td>\n",
       "      <td>Particelle sospese PM2.5</td>\n",
       "      <td>58.900000</td>\n",
       "      <td>1</td>\n",
       "      <td>NaN</td>\n",
       "    </tr>\n",
       "  </tbody>\n",
       "</table>\n",
       "<p>101108 rows × 6 columns</p>\n",
       "</div>"
      ],
      "text/plain": [
       "              Data    Zona           NomeTipoSensore  \\\n",
       "0       2017-01-01       A                   Benzene   \n",
       "1       2017-01-01       A         Biossido di Azoto   \n",
       "2       2017-01-01       A         Biossido di Zolfo   \n",
       "3       2017-01-01       A     Monossido di Carbonio   \n",
       "4       2017-01-01       A           Ossidi di Azoto   \n",
       "...            ...     ...                       ...   \n",
       "101103  2021-12-27       D                     Ozono   \n",
       "101104  2021-12-27       D             PM10 (SM2005)   \n",
       "101105  2021-12-27       D  Particelle sospese PM2.5   \n",
       "101106  2021-12-28  AGG BS                   Benzene   \n",
       "101107  2021-12-28       B  Particelle sospese PM2.5   \n",
       "\n",
       "        Valore_MEAN_day_zona_tipo  Valore_COUNT_day_zona_tipo  \\\n",
       "0                        2.250000                           8   \n",
       "1                       40.901994                          26   \n",
       "2                        3.080280                          14   \n",
       "3                        1.150833                          15   \n",
       "4                      102.908466                          26   \n",
       "...                           ...                         ...   \n",
       "101103                   5.448611                           3   \n",
       "101104                  55.750000                           4   \n",
       "101105                  59.000000                           2   \n",
       "101106                   1.500000                           1   \n",
       "101107                  58.900000                           1   \n",
       "\n",
       "        Valore_STD_day_zona_tipo  \n",
       "0                       1.007118  \n",
       "1                      10.758609  \n",
       "2                       1.571802  \n",
       "3                       0.506121  \n",
       "4                      47.296362  \n",
       "...                          ...  \n",
       "101103                  1.730774  \n",
       "101104                 15.261608  \n",
       "101105                  8.485281  \n",
       "101106                       NaN  \n",
       "101107                       NaN  \n",
       "\n",
       "[101108 rows x 6 columns]"
      ]
     },
     "execution_count": 118,
     "metadata": {},
     "output_type": "execute_result"
    }
   ],
   "source": [
    "aria_sensori_zone__day_zona_tipo = aria_sensori_zone__id_day.groupby([\n",
    "    'Data',\n",
    "    'Zona',\n",
    "    'NomeTipoSensore'\n",
    "]).agg({\n",
    "    'Valore_MEAN_id_day': ['mean', 'count', 'std']\n",
    "}).reset_index()\n",
    "\n",
    "aria_sensori_zone__day_zona_tipo.columns = ['Data', 'Zona', 'NomeTipoSensore', 'Valore_MEAN_day_zona_tipo', 'Valore_COUNT_day_zona_tipo', 'Valore_STD_day_zona_tipo']\n",
    "aria_sensori_zone__day_zona_tipo"
   ]
  },
  {
   "cell_type": "markdown",
   "id": "5c184df7",
   "metadata": {
    "heading_collapsed": true
   },
   "source": [
    "# Controlli"
   ]
  },
  {
   "cell_type": "markdown",
   "id": "e1564594",
   "metadata": {
    "heading_collapsed": true,
    "hidden": true
   },
   "source": [
    "### Valori mancanti per ogni coppia `Zona` - `NomeTipoSensore`"
   ]
  },
  {
   "cell_type": "markdown",
   "id": "fe774f61",
   "metadata": {
    "heading_collapsed": true,
    "hidden": true
   },
   "source": [
    "#### Numero valori mancanti e valori NaN"
   ]
  },
  {
   "cell_type": "markdown",
   "id": "81ce0bd8",
   "metadata": {
    "hidden": true
   },
   "source": [
    "I valori delle medie mancanti sono dovuti a:\n",
    "\n",
    "- righe effettivamente mancanti\n",
    "- righe con Valore_MEAN uguale a NaN"
   ]
  },
  {
   "cell_type": "code",
   "execution_count": 119,
   "id": "910f3762",
   "metadata": {
    "ExecuteTime": {
     "end_time": "2022-01-14T20:42:02.003895Z",
     "start_time": "2022-01-14T20:42:01.957902Z"
    },
    "hidden": true
   },
   "outputs": [
    {
     "name": "stdout",
     "output_type": "stream",
     "text": [
      "102088 Numero righe teoriche -\n",
      "101108 Numero righe reali    =\n",
      "980   Numero righe mancanti\n"
     ]
    }
   ],
   "source": [
    "lista_date = pd.date_range(aria_sensori_zone__day_zona_tipo.Data.min(), aria_sensori_zone__day_zona_tipo.Data.max())\n",
    "lista_zone = aria_sensori_zone__day_zona_tipo.Zona.unique()\n",
    "lista_tipi = aria_sensori_zone__day_zona_tipo.NomeTipoSensore.unique()\n",
    "\n",
    "print(len(lista_date) * len(lista_zone) * len(lista_tipi),'Numero righe teoriche -') #giori * zone * tipi sensori\n",
    "print(len(aria_sensori_zone__day_zona_tipo),'Numero righe reali    =')\n",
    "print(len(lista_date) * len(lista_zone) * len(lista_tipi)-len(aria_sensori_zone__day_zona_tipo),'  Numero righe mancanti')"
   ]
  },
  {
   "cell_type": "code",
   "execution_count": 120,
   "id": "2883d657",
   "metadata": {
    "ExecuteTime": {
     "end_time": "2022-01-14T20:42:02.034932Z",
     "start_time": "2022-01-14T20:42:02.004899Z"
    },
    "hidden": true
   },
   "outputs": [
    {
     "name": "stdout",
     "output_type": "stream",
     "text": [
      "0 Numero righe con valore NaN\n"
     ]
    }
   ],
   "source": [
    "print(sum(aria_sensori_zone__day_zona_tipo['Valore_MEAN_day_zona_tipo'].isna()), 'Numero righe con valore NaN')"
   ]
  },
  {
   "cell_type": "markdown",
   "id": "221a1d90",
   "metadata": {
    "heading_collapsed": true,
    "hidden": true
   },
   "source": [
    "#### Aggiunta valori NaN per giorni mancanti"
   ]
  },
  {
   "cell_type": "markdown",
   "id": "2c3f4723",
   "metadata": {
    "hidden": true
   },
   "source": [
    "Serve dopo quando si compie la media mobile (per mediare i giorni contigui e non le righe contigue)"
   ]
  },
  {
   "cell_type": "code",
   "execution_count": 121,
   "id": "05b22c7d",
   "metadata": {
    "ExecuteTime": {
     "end_time": "2022-01-14T20:42:03.123894Z",
     "start_time": "2022-01-14T20:42:02.036909Z"
    },
    "hidden": true
   },
   "outputs": [
    {
     "data": {
      "text/html": [
       "<div>\n",
       "<style scoped>\n",
       "    .dataframe tbody tr th:only-of-type {\n",
       "        vertical-align: middle;\n",
       "    }\n",
       "\n",
       "    .dataframe tbody tr th {\n",
       "        vertical-align: top;\n",
       "    }\n",
       "\n",
       "    .dataframe thead th {\n",
       "        text-align: right;\n",
       "    }\n",
       "</style>\n",
       "<table border=\"1\" class=\"dataframe\">\n",
       "  <thead>\n",
       "    <tr style=\"text-align: right;\">\n",
       "      <th></th>\n",
       "      <th>Data</th>\n",
       "      <th>Zona</th>\n",
       "      <th>NomeTipoSensore</th>\n",
       "      <th>Valore_MEAN_day_zona_tipo</th>\n",
       "      <th>Valore_COUNT_day_zona_tipo</th>\n",
       "      <th>Valore_STD_day_zona_tipo</th>\n",
       "    </tr>\n",
       "  </thead>\n",
       "  <tbody>\n",
       "    <tr>\n",
       "      <th>0</th>\n",
       "      <td>2017-01-01</td>\n",
       "      <td>A</td>\n",
       "      <td>Benzene</td>\n",
       "      <td>2.250000</td>\n",
       "      <td>8.0</td>\n",
       "      <td>1.007118</td>\n",
       "    </tr>\n",
       "    <tr>\n",
       "      <th>1</th>\n",
       "      <td>2017-01-01</td>\n",
       "      <td>A</td>\n",
       "      <td>Biossido di Azoto</td>\n",
       "      <td>40.901994</td>\n",
       "      <td>26.0</td>\n",
       "      <td>10.758609</td>\n",
       "    </tr>\n",
       "    <tr>\n",
       "      <th>2</th>\n",
       "      <td>2017-01-01</td>\n",
       "      <td>A</td>\n",
       "      <td>Biossido di Zolfo</td>\n",
       "      <td>3.080280</td>\n",
       "      <td>14.0</td>\n",
       "      <td>1.571802</td>\n",
       "    </tr>\n",
       "    <tr>\n",
       "      <th>3</th>\n",
       "      <td>2017-01-01</td>\n",
       "      <td>A</td>\n",
       "      <td>Monossido di Carbonio</td>\n",
       "      <td>1.150833</td>\n",
       "      <td>15.0</td>\n",
       "      <td>0.506121</td>\n",
       "    </tr>\n",
       "    <tr>\n",
       "      <th>4</th>\n",
       "      <td>2017-01-01</td>\n",
       "      <td>A</td>\n",
       "      <td>Ossidi di Azoto</td>\n",
       "      <td>102.908466</td>\n",
       "      <td>26.0</td>\n",
       "      <td>47.296362</td>\n",
       "    </tr>\n",
       "    <tr>\n",
       "      <th>...</th>\n",
       "      <td>...</td>\n",
       "      <td>...</td>\n",
       "      <td>...</td>\n",
       "      <td>...</td>\n",
       "      <td>...</td>\n",
       "      <td>...</td>\n",
       "    </tr>\n",
       "    <tr>\n",
       "      <th>102083</th>\n",
       "      <td>2021-12-28</td>\n",
       "      <td>D</td>\n",
       "      <td>Monossido di Carbonio</td>\n",
       "      <td>NaN</td>\n",
       "      <td>NaN</td>\n",
       "      <td>NaN</td>\n",
       "    </tr>\n",
       "    <tr>\n",
       "      <th>102084</th>\n",
       "      <td>2021-12-28</td>\n",
       "      <td>D</td>\n",
       "      <td>Ossidi di Azoto</td>\n",
       "      <td>NaN</td>\n",
       "      <td>NaN</td>\n",
       "      <td>NaN</td>\n",
       "    </tr>\n",
       "    <tr>\n",
       "      <th>102085</th>\n",
       "      <td>2021-12-28</td>\n",
       "      <td>D</td>\n",
       "      <td>Ozono</td>\n",
       "      <td>NaN</td>\n",
       "      <td>NaN</td>\n",
       "      <td>NaN</td>\n",
       "    </tr>\n",
       "    <tr>\n",
       "      <th>102086</th>\n",
       "      <td>2021-12-28</td>\n",
       "      <td>D</td>\n",
       "      <td>PM10 (SM2005)</td>\n",
       "      <td>NaN</td>\n",
       "      <td>NaN</td>\n",
       "      <td>NaN</td>\n",
       "    </tr>\n",
       "    <tr>\n",
       "      <th>102087</th>\n",
       "      <td>2021-12-28</td>\n",
       "      <td>D</td>\n",
       "      <td>Particelle sospese PM2.5</td>\n",
       "      <td>NaN</td>\n",
       "      <td>NaN</td>\n",
       "      <td>NaN</td>\n",
       "    </tr>\n",
       "  </tbody>\n",
       "</table>\n",
       "<p>102088 rows × 6 columns</p>\n",
       "</div>"
      ],
      "text/plain": [
       "             Data Zona           NomeTipoSensore  Valore_MEAN_day_zona_tipo  \\\n",
       "0      2017-01-01    A                   Benzene                   2.250000   \n",
       "1      2017-01-01    A         Biossido di Azoto                  40.901994   \n",
       "2      2017-01-01    A         Biossido di Zolfo                   3.080280   \n",
       "3      2017-01-01    A     Monossido di Carbonio                   1.150833   \n",
       "4      2017-01-01    A           Ossidi di Azoto                 102.908466   \n",
       "...           ...  ...                       ...                        ...   \n",
       "102083 2021-12-28    D     Monossido di Carbonio                        NaN   \n",
       "102084 2021-12-28    D           Ossidi di Azoto                        NaN   \n",
       "102085 2021-12-28    D                     Ozono                        NaN   \n",
       "102086 2021-12-28    D             PM10 (SM2005)                        NaN   \n",
       "102087 2021-12-28    D  Particelle sospese PM2.5                        NaN   \n",
       "\n",
       "        Valore_COUNT_day_zona_tipo  Valore_STD_day_zona_tipo  \n",
       "0                              8.0                  1.007118  \n",
       "1                             26.0                 10.758609  \n",
       "2                             14.0                  1.571802  \n",
       "3                             15.0                  0.506121  \n",
       "4                             26.0                 47.296362  \n",
       "...                            ...                       ...  \n",
       "102083                         NaN                       NaN  \n",
       "102084                         NaN                       NaN  \n",
       "102085                         NaN                       NaN  \n",
       "102086                         NaN                       NaN  \n",
       "102087                         NaN                       NaN  \n",
       "\n",
       "[102088 rows x 6 columns]"
      ]
     },
     "execution_count": 121,
     "metadata": {},
     "output_type": "execute_result"
    }
   ],
   "source": [
    "colonne = ['Data', 'Zona', 'NomeTipoSensore']\n",
    "idx = pd.MultiIndex.from_product([lista_date, lista_zone, lista_tipi], names=colonne)\n",
    "\n",
    "aria_sensori_zone__day_zona_tipo = aria_sensori_zone__day_zona_tipo.set_index(colonne).reindex(idx, fill_value=np.NaN).reset_index()\n",
    "aria_sensori_zone__day_zona_tipo"
   ]
  },
  {
   "cell_type": "markdown",
   "id": "3817c50f",
   "metadata": {
    "hidden": true
   },
   "source": [
    "Abbiamo ottenuto un numero di righe uguale a quelle teoriche con presenti dei NaN"
   ]
  },
  {
   "cell_type": "code",
   "execution_count": 122,
   "id": "88e26a3f",
   "metadata": {
    "ExecuteTime": {
     "end_time": "2022-01-14T20:42:03.155894Z",
     "start_time": "2022-01-14T20:42:03.125899Z"
    },
    "hidden": true
   },
   "outputs": [
    {
     "name": "stdout",
     "output_type": "stream",
     "text": [
      "980 Numero totale di valori medi mancanti\n"
     ]
    }
   ],
   "source": [
    "print(sum(aria_sensori_zone__day_zona_tipo['Valore_MEAN_day_zona_tipo'].isna()), 'Numero totale di valori medi mancanti')"
   ]
  },
  {
   "cell_type": "markdown",
   "id": "dd347b52",
   "metadata": {
    "heading_collapsed": true,
    "hidden": true
   },
   "source": [
    "#### Heatmap `Zona` - `NomeTipoSensore`"
   ]
  },
  {
   "cell_type": "markdown",
   "id": "cd0b322e",
   "metadata": {
    "hidden": true
   },
   "source": [
    "- Ora valuto il numero di osservazioni per ogni coppia `NomeTipoSensore` - `Zona`.\n",
    "- Con il dataset aggiornato dovrebbe risultare per tutte le coppie 365gg x numero anni + 1gg(bisestile il 2020)"
   ]
  },
  {
   "cell_type": "code",
   "execution_count": 149,
   "id": "d8c5f507",
   "metadata": {
    "ExecuteTime": {
     "end_time": "2022-01-14T21:11:24.930362Z",
     "start_time": "2022-01-14T21:11:24.306192Z"
    },
    "hidden": true
   },
   "outputs": [
    {
     "data": {
      "text/plain": [
       "<AxesSubplot:xlabel='Zona', ylabel='NomeTipoSensore'>"
      ]
     },
     "execution_count": 149,
     "metadata": {},
     "output_type": "execute_result"
    },
    {
     "data": {
      "image/png": "[encoded data removed]",
      "text/plain": [
       "<Figure size 432x360 with 2 Axes>"
      ]
     },
     "metadata": {},
     "output_type": "display_data"
    }
   ],
   "source": [
    "controllo1 = aria_sensori_zone__day_zona_tipo.groupby(['Zona', 'NomeTipoSensore'], as_index = False)[['Valore_MEAN_day_zona_tipo']].count()\n",
    "controllo1 = controllo1.pivot('NomeTipoSensore', 'Zona', 'Valore_MEAN_day_zona_tipo')\n",
    "\n",
    "sns.set(rc={'figure.figsize':(6,5)})\n",
    "sns.heatmap(controllo1, annot=True, fmt=\"d\", cmap=\"YlGnBu_r\")"
   ]
  },
  {
   "cell_type": "markdown",
   "id": "85d04f97",
   "metadata": {
    "heading_collapsed": true,
    "hidden": true
   },
   "source": [
    "### Valori mancanti per ogni coppia `Data` - `NomeTipoSensore`"
   ]
  },
  {
   "cell_type": "code",
   "execution_count": 124,
   "id": "5fc8f10d",
   "metadata": {
    "ExecuteTime": {
     "end_time": "2022-01-14T20:42:11.529896Z",
     "start_time": "2022-01-14T20:42:04.057895Z"
    },
    "hidden": true
   },
   "outputs": [
    {
     "data": {
      "text/plain": [
       "<AxesSubplot:xlabel='Data', ylabel='NomeTipoSensore'>"
      ]
     },
     "execution_count": 124,
     "metadata": {},
     "output_type": "execute_result"
    },
    {
     "data": {
      "image/png": "[encoded data removed]",
      "text/plain": [
       "<Figure size 1224x360 with 2 Axes>"
      ]
     },
     "metadata": {},
     "output_type": "display_data"
    }
   ],
   "source": [
    "controllo2 = aria_sensori_zone__day_zona_tipo.groupby(['NomeTipoSensore', 'Data'], as_index = False)[['Valore_MEAN_day_zona_tipo']].count()\n",
    "controllo2 = controllo2.pivot('NomeTipoSensore', 'Data', 'Valore_MEAN_day_zona_tipo')\n",
    "\n",
    "sns.set(rc={'figure.figsize':(17,5)})\n",
    "sns.heatmap(controllo2, cmap=\"YlGnBu_r\", vmin=6, vmax=7)"
   ]
  },
  {
   "cell_type": "markdown",
   "id": "e3f86e88",
   "metadata": {
    "heading_collapsed": true,
    "hidden": true
   },
   "source": [
    "### Numero medio sensori"
   ]
  },
  {
   "cell_type": "code",
   "execution_count": 125,
   "id": "215ef4e3",
   "metadata": {
    "ExecuteTime": {
     "end_time": "2022-01-14T20:42:12.369903Z",
     "start_time": "2022-01-14T20:42:11.531901Z"
    },
    "hidden": true
   },
   "outputs": [
    {
     "data": {
      "text/plain": [
       "<AxesSubplot:xlabel='Zona', ylabel='NomeTipoSensore'>"
      ]
     },
     "execution_count": 125,
     "metadata": {},
     "output_type": "execute_result"
    },
    {
     "data": {
      "image/png": "[encoded data removed]",
      "text/plain": [
       "<Figure size 432x360 with 2 Axes>"
      ]
     },
     "metadata": {},
     "output_type": "display_data"
    }
   ],
   "source": [
    "controllo = aria_sensori_zone__day_zona_tipo.groupby(['Zona', 'NomeTipoSensore'], as_index = False)[['Valore_COUNT_day_zona_tipo']].mean()\n",
    "controllo = controllo.pivot('NomeTipoSensore', 'Zona', 'Valore_COUNT_day_zona_tipo')\n",
    "\n",
    "sns.set(rc={'figure.figsize':(6,5)})\n",
    "sns.heatmap(controllo, annot=True, cmap=\"YlGnBu\")"
   ]
  },
  {
   "cell_type": "markdown",
   "id": "838ffdf3",
   "metadata": {
    "heading_collapsed": true
   },
   "source": [
    "# Campi calcolati"
   ]
  },
  {
   "cell_type": "markdown",
   "id": "cfaaa3f8",
   "metadata": {
    "heading_collapsed": true,
    "hidden": true
   },
   "source": [
    "## Media mobile 7 giorni"
   ]
  },
  {
   "cell_type": "markdown",
   "id": "149391fb",
   "metadata": {
    "hidden": true
   },
   "source": [
    "- In fase di lettura dei csv prendere qualche giorno prima e qualche giorno dopo degli anni considerati cosi da avere valori attendibili agli estremi!! (in fase di importazione)\n",
    "- La calcolo su 7 giorni e setto il parametro del numero minimo di valori non nulli da avere per calcolare la media a 3\n",
    "- L'avevo calcolata anche sui 21 giorni ma é eccessiva perché genera degli andamenti che non sono presenti nei dati"
   ]
  },
  {
   "cell_type": "code",
   "execution_count": 126,
   "id": "69554c1d",
   "metadata": {
    "ExecuteTime": {
     "end_time": "2022-01-14T20:42:14.218952Z",
     "start_time": "2022-01-14T20:42:12.371899Z"
    },
    "code_folding": [],
    "hidden": true
   },
   "outputs": [],
   "source": [
    "ROLL_WINDOW = 7   #media mobile 7 giorni\n",
    "\n",
    "mean7gg = pd.Series(dtype =  np.float64) #inizializzo un nuovo array che sará la nuova colonna con la medie\n",
    "std7gg = pd.Series(dtype =  np.float64) #inizializzo un nuovo array che sará la nuova colonna con lo std\n",
    "\n",
    "for zona in lista_zone:\n",
    "    for tipo in lista_tipi:\n",
    "\n",
    "        temp1 = aria_sensori_zone__day_zona_tipo[(aria_sensori_zone__day_zona_tipo['NomeTipoSensore'] == tipo) & (aria_sensori_zone__day_zona_tipo['Zona'] == zona)]['Valore_MEAN_day_zona_tipo']\\\n",
    "                .rolling(window=ROLL_WINDOW, center = True, min_periods = 3)\\\n",
    "                .mean()\n",
    "        temp2 = aria_sensori_zone__day_zona_tipo[(aria_sensori_zone__day_zona_tipo['NomeTipoSensore'] == tipo) & (aria_sensori_zone__day_zona_tipo['Zona'] == zona)]['Valore_STD_day_zona_tipo']\\\n",
    "                .rolling(window=ROLL_WINDOW, center = True, min_periods = 3)\\\n",
    "                .mean()\n",
    "        mean7gg = mean7gg.append(temp1)\n",
    "        std7gg = std7gg.append(temp2)\n",
    "        \n",
    "aria_sensori_zone__day_zona_tipo = pd.merge(aria_sensori_zone__day_zona_tipo, mean7gg.rename('Valore_ROLLMEAN7_day_zona_tipo'), left_index=True, right_index=True)\n",
    "aria_sensori_zone__day_zona_tipo = pd.merge(aria_sensori_zone__day_zona_tipo, std7gg.rename('Valore_ROLLSTD7_day_zona_tipo'), left_index=True, right_index=True)"
   ]
  },
  {
   "cell_type": "markdown",
   "id": "feb667b6",
   "metadata": {
    "hidden": true
   },
   "source": [
    "Stampo una coppia `NomeTipoSensore` e `Zona` specifica come esempio"
   ]
  },
  {
   "cell_type": "code",
   "execution_count": 127,
   "id": "eb17001f",
   "metadata": {
    "ExecuteTime": {
     "end_time": "2022-01-14T20:42:14.265895Z",
     "start_time": "2022-01-14T20:42:14.219896Z"
    },
    "hidden": true
   },
   "outputs": [
    {
     "data": {
      "text/html": [
       "<div>\n",
       "<style scoped>\n",
       "    .dataframe tbody tr th:only-of-type {\n",
       "        vertical-align: middle;\n",
       "    }\n",
       "\n",
       "    .dataframe tbody tr th {\n",
       "        vertical-align: top;\n",
       "    }\n",
       "\n",
       "    .dataframe thead th {\n",
       "        text-align: right;\n",
       "    }\n",
       "</style>\n",
       "<table border=\"1\" class=\"dataframe\">\n",
       "  <thead>\n",
       "    <tr style=\"text-align: right;\">\n",
       "      <th></th>\n",
       "      <th>Data</th>\n",
       "      <th>Zona</th>\n",
       "      <th>NomeTipoSensore</th>\n",
       "      <th>Valore_MEAN_day_zona_tipo</th>\n",
       "      <th>Valore_COUNT_day_zona_tipo</th>\n",
       "      <th>Valore_STD_day_zona_tipo</th>\n",
       "      <th>Valore_ROLLMEAN7_day_zona_tipo</th>\n",
       "      <th>Valore_ROLLSTD7_day_zona_tipo</th>\n",
       "    </tr>\n",
       "  </thead>\n",
       "  <tbody>\n",
       "    <tr>\n",
       "      <th>6</th>\n",
       "      <td>2017-01-01</td>\n",
       "      <td>A</td>\n",
       "      <td>PM10 (SM2005)</td>\n",
       "      <td>77.347826</td>\n",
       "      <td>23.0</td>\n",
       "      <td>24.679046</td>\n",
       "      <td>63.022233</td>\n",
       "      <td>20.298282</td>\n",
       "    </tr>\n",
       "    <tr>\n",
       "      <th>62</th>\n",
       "      <td>2017-01-02</td>\n",
       "      <td>A</td>\n",
       "      <td>PM10 (SM2005)</td>\n",
       "      <td>66.727273</td>\n",
       "      <td>22.0</td>\n",
       "      <td>24.142793</td>\n",
       "      <td>53.808696</td>\n",
       "      <td>18.342117</td>\n",
       "    </tr>\n",
       "    <tr>\n",
       "      <th>118</th>\n",
       "      <td>2017-01-03</td>\n",
       "      <td>A</td>\n",
       "      <td>PM10 (SM2005)</td>\n",
       "      <td>60.318182</td>\n",
       "      <td>22.0</td>\n",
       "      <td>17.321570</td>\n",
       "      <td>47.934783</td>\n",
       "      <td>16.489913</td>\n",
       "    </tr>\n",
       "    <tr>\n",
       "      <th>174</th>\n",
       "      <td>2017-01-04</td>\n",
       "      <td>A</td>\n",
       "      <td>PM10 (SM2005)</td>\n",
       "      <td>47.695652</td>\n",
       "      <td>23.0</td>\n",
       "      <td>15.049720</td>\n",
       "      <td>47.322981</td>\n",
       "      <td>15.873002</td>\n",
       "    </tr>\n",
       "    <tr>\n",
       "      <th>230</th>\n",
       "      <td>2017-01-05</td>\n",
       "      <td>A</td>\n",
       "      <td>PM10 (SM2005)</td>\n",
       "      <td>16.954545</td>\n",
       "      <td>22.0</td>\n",
       "      <td>10.517456</td>\n",
       "      <td>43.006211</td>\n",
       "      <td>13.753285</td>\n",
       "    </tr>\n",
       "  </tbody>\n",
       "</table>\n",
       "</div>"
      ],
      "text/plain": [
       "          Data Zona NomeTipoSensore  Valore_MEAN_day_zona_tipo  \\\n",
       "6   2017-01-01    A   PM10 (SM2005)                  77.347826   \n",
       "62  2017-01-02    A   PM10 (SM2005)                  66.727273   \n",
       "118 2017-01-03    A   PM10 (SM2005)                  60.318182   \n",
       "174 2017-01-04    A   PM10 (SM2005)                  47.695652   \n",
       "230 2017-01-05    A   PM10 (SM2005)                  16.954545   \n",
       "\n",
       "     Valore_COUNT_day_zona_tipo  Valore_STD_day_zona_tipo  \\\n",
       "6                          23.0                 24.679046   \n",
       "62                         22.0                 24.142793   \n",
       "118                        22.0                 17.321570   \n",
       "174                        23.0                 15.049720   \n",
       "230                        22.0                 10.517456   \n",
       "\n",
       "     Valore_ROLLMEAN7_day_zona_tipo  Valore_ROLLSTD7_day_zona_tipo  \n",
       "6                         63.022233                      20.298282  \n",
       "62                        53.808696                      18.342117  \n",
       "118                       47.934783                      16.489913  \n",
       "174                       47.322981                      15.873002  \n",
       "230                       43.006211                      13.753285  "
      ]
     },
     "execution_count": 127,
     "metadata": {},
     "output_type": "execute_result"
    }
   ],
   "source": [
    "aria_sensori_zone__day_zona_tipo.loc[(aria_sensori_zone__day_zona_tipo['NomeTipoSensore'] == 'PM10 (SM2005)') & (aria_sensori_zone__day_zona_tipo['Zona'] == 'A')].head()"
   ]
  },
  {
   "cell_type": "markdown",
   "id": "adae75e2",
   "metadata": {
    "hidden": true
   },
   "source": [
    "- Risolve quasi completamente il problema di qualche media mancante"
   ]
  },
  {
   "cell_type": "code",
   "execution_count": 128,
   "id": "882fb75b",
   "metadata": {
    "ExecuteTime": {
     "end_time": "2022-01-14T20:42:14.297893Z",
     "start_time": "2022-01-14T20:42:14.266894Z"
    },
    "hidden": true
   },
   "outputs": [
    {
     "name": "stdout",
     "output_type": "stream",
     "text": [
      "980 Valori mancanti media giornaliera\n",
      "230  Valori mancanti media mobile 7gg\n"
     ]
    }
   ],
   "source": [
    "print(sum(aria_sensori_zone__day_zona_tipo.Valore_MEAN_day_zona_tipo.isna()), 'Valori mancanti media giornaliera')\n",
    "print(sum(aria_sensori_zone__day_zona_tipo.Valore_ROLLMEAN7_day_zona_tipo.isna()), ' Valori mancanti media mobile 7gg')"
   ]
  },
  {
   "cell_type": "markdown",
   "id": "24ea855b",
   "metadata": {
    "heading_collapsed": true,
    "hidden": true
   },
   "source": [
    "### Plot esempio con media giornaliera  media mobile 7gg (PM10 zona A)"
   ]
  },
  {
   "cell_type": "code",
   "execution_count": 147,
   "id": "f844f4d8",
   "metadata": {
    "ExecuteTime": {
     "end_time": "2022-01-14T21:10:59.326399Z",
     "start_time": "2022-01-14T21:10:58.766240Z"
    },
    "hidden": true,
    "scrolled": false
   },
   "outputs": [
    {
     "data": {
      "text/plain": [
       "<AxesSubplot:xlabel='Data', ylabel='Valore_MEAN_day_zona_tipo'>"
      ]
     },
     "execution_count": 147,
     "metadata": {},
     "output_type": "execute_result"
    },
    {
     "data": {
      "image/png": "[encoded data removed]",
      "text/plain": [
       "<Figure size 1440x504 with 1 Axes>"
      ]
     },
     "metadata": {},
     "output_type": "display_data"
    }
   ],
   "source": [
    "sns.set(rc={'figure.figsize':(20,7)})\n",
    "sns.lineplot(x=\"Data\", y='Valore_MEAN_day_zona_tipo', data=aria_sensori_zone__day_zona_tipo.loc[(aria_sensori_zone__day_zona_tipo['NomeTipoSensore'] == 'PM10 (SM2005)') & (aria_sensori_zone__day_zona_tipo['Zona'] == 'A')])\n",
    "sns.lineplot(x=\"Data\", y='Valore_ROLLMEAN7_day_zona_tipo', data=aria_sensori_zone__day_zona_tipo.loc[(aria_sensori_zone__day_zona_tipo['NomeTipoSensore'] == 'PM10 (SM2005)') & (aria_sensori_zone__day_zona_tipo['Zona'] == 'A')])"
   ]
  },
  {
   "cell_type": "markdown",
   "id": "cc9f74f4",
   "metadata": {
    "heading_collapsed": true,
    "hidden": true
   },
   "source": [
    "## Normalizzazione grandezze rispetto ai limiti"
   ]
  },
  {
   "cell_type": "markdown",
   "id": "c5cb4c72",
   "metadata": {
    "heading_collapsed": true,
    "hidden": true
   },
   "source": [
    "### Definizione limiti"
   ]
  },
  {
   "cell_type": "markdown",
   "id": "a08eec20",
   "metadata": {
    "heading_collapsed": true,
    "hidden": true
   },
   "source": [
    "#### Limiti del sito ARPA Lombardia (WHO 2005)"
   ]
  },
  {
   "cell_type": "markdown",
   "id": "b8c1a367",
   "metadata": {
    "hidden": true
   },
   "source": [
    "É un mix tra massimi su medie orarie, 8 ore, giornaliere e annuali"
   ]
  },
  {
   "cell_type": "code",
   "execution_count": 130,
   "id": "22c4551b",
   "metadata": {
    "ExecuteTime": {
     "end_time": "2022-01-14T20:42:14.899894Z",
     "start_time": "2022-01-14T20:42:14.886895Z"
    },
    "hidden": true
   },
   "outputs": [
    {
     "data": {
      "text/html": [
       "<div>\n",
       "<style scoped>\n",
       "    .dataframe tbody tr th:only-of-type {\n",
       "        vertical-align: middle;\n",
       "    }\n",
       "\n",
       "    .dataframe tbody tr th {\n",
       "        vertical-align: top;\n",
       "    }\n",
       "\n",
       "    .dataframe thead th {\n",
       "        text-align: right;\n",
       "    }\n",
       "</style>\n",
       "<table border=\"1\" class=\"dataframe\">\n",
       "  <thead>\n",
       "    <tr style=\"text-align: right;\">\n",
       "      <th></th>\n",
       "      <th>Limite</th>\n",
       "    </tr>\n",
       "  </thead>\n",
       "  <tbody>\n",
       "    <tr>\n",
       "      <th>Benzene</th>\n",
       "      <td>NaN</td>\n",
       "    </tr>\n",
       "    <tr>\n",
       "      <th>Biossido di Azoto</th>\n",
       "      <td>200.0</td>\n",
       "    </tr>\n",
       "    <tr>\n",
       "      <th>Biossido di Zolfo</th>\n",
       "      <td>350.0</td>\n",
       "    </tr>\n",
       "    <tr>\n",
       "      <th>Monossido di Carbonio</th>\n",
       "      <td>NaN</td>\n",
       "    </tr>\n",
       "    <tr>\n",
       "      <th>Ossidi di Azoto</th>\n",
       "      <td>NaN</td>\n",
       "    </tr>\n",
       "    <tr>\n",
       "      <th>Ozono</th>\n",
       "      <td>180.0</td>\n",
       "    </tr>\n",
       "    <tr>\n",
       "      <th>PM10 (SM2005)</th>\n",
       "      <td>50.0</td>\n",
       "    </tr>\n",
       "    <tr>\n",
       "      <th>Particelle sospese PM2.5</th>\n",
       "      <td>25.0</td>\n",
       "    </tr>\n",
       "  </tbody>\n",
       "</table>\n",
       "</div>"
      ],
      "text/plain": [
       "                          Limite\n",
       "Benzene                      NaN\n",
       "Biossido di Azoto          200.0\n",
       "Biossido di Zolfo          350.0\n",
       "Monossido di Carbonio        NaN\n",
       "Ossidi di Azoto              NaN\n",
       "Ozono                      180.0\n",
       "PM10 (SM2005)               50.0\n",
       "Particelle sospese PM2.5    25.0"
      ]
     },
     "execution_count": 130,
     "metadata": {},
     "output_type": "execute_result"
    }
   ],
   "source": [
    "limitiARPA_vari = pd.DataFrame({'Benzene': np.NaN,\n",
    "                            'Biossido di Azoto': 200,\n",
    "                            'Biossido di Zolfo': 350,\n",
    "                            'Monossido di Carbonio': np.NaN,\n",
    "                            'Ossidi di Azoto': np.NaN,\n",
    "                            'Ozono': 180,\n",
    "                            'PM10 (SM2005)': 50,\n",
    "                            'Particelle sospese PM2.5': 25},\n",
    "                           index = ['Limite']).transpose()\n",
    "limitiARPA_vari"
   ]
  },
  {
   "cell_type": "markdown",
   "id": "ad3ae7ed",
   "metadata": {
    "heading_collapsed": true,
    "hidden": true
   },
   "source": [
    "#### Nuovi limiti WHO sulle 24h del 2021"
   ]
  },
  {
   "cell_type": "markdown",
   "id": "61886b81",
   "metadata": {
    "hidden": true
   },
   "source": [
    "- Nuove guidelines del **22 September 2021** dalla WHO [qui](https://www.who.int/news/item/22-09-2021-new-who-global-air-quality-guidelines-aim-to-save-millions-of-lives-from-air-pollution) ad aggiornare le guidelines del 2005 \n",
    "- The updated WHO Global Air Quality Guidelines (AQGs) provide recommendations on air quality guideline levels as well as interim targets for **six key air pollutants**. The guidelines focus on so-called classical pollutants, particulate matter (PM₂.₅ and PM₁₀), ozone (O₃), nitrogen dioxide (NO₂), sulfur dioxide (SO₂) and carbon monoxide (CO). When action is taken to reduce these classical pollutants it also has an impact on other pollutants. [qui](https://www.who.int/news-room/questions-and-answers/item/who-global-air-quality-guidelines)\n",
    "- Nuovi limiti SOLO sulle 24 ore (Recommended AQG levels), dati ricavati da [qui](https://apps.who.int/iris/bitstream/handle/10665/345334/9789240034433-eng.pdf)\n",
    "- I limiti sulle 24h sono quelli per ridurre i short-term exposure effects (da mettere nel titolo/ context)\n",
    "- Le unitá di misura rispecchiano quelle dei sensori\n",
    "- Puo' essere utile calcoare per ogni inquinante anche una dose? (Dose di inquinante = concentrazione normalizzata *  numero giorni) Edit: forse no perché non ha senso con le quantita normalizzate"
   ]
  },
  {
   "cell_type": "code",
   "execution_count": 131,
   "id": "1cda92e9",
   "metadata": {
    "ExecuteTime": {
     "end_time": "2022-01-14T20:42:14.915895Z",
     "start_time": "2022-01-14T20:42:14.901894Z"
    },
    "hidden": true
   },
   "outputs": [
    {
     "data": {
      "text/html": [
       "<div>\n",
       "<style scoped>\n",
       "    .dataframe tbody tr th:only-of-type {\n",
       "        vertical-align: middle;\n",
       "    }\n",
       "\n",
       "    .dataframe tbody tr th {\n",
       "        vertical-align: top;\n",
       "    }\n",
       "\n",
       "    .dataframe thead th {\n",
       "        text-align: right;\n",
       "    }\n",
       "</style>\n",
       "<table border=\"1\" class=\"dataframe\">\n",
       "  <thead>\n",
       "    <tr style=\"text-align: right;\">\n",
       "      <th></th>\n",
       "      <th>Limite</th>\n",
       "    </tr>\n",
       "  </thead>\n",
       "  <tbody>\n",
       "    <tr>\n",
       "      <th>Benzene</th>\n",
       "      <td>NaN</td>\n",
       "    </tr>\n",
       "    <tr>\n",
       "      <th>Biossido di Azoto</th>\n",
       "      <td>25.0</td>\n",
       "    </tr>\n",
       "    <tr>\n",
       "      <th>Biossido di Zolfo</th>\n",
       "      <td>40.0</td>\n",
       "    </tr>\n",
       "    <tr>\n",
       "      <th>Monossido di Carbonio</th>\n",
       "      <td>4.0</td>\n",
       "    </tr>\n",
       "    <tr>\n",
       "      <th>Ossidi di Azoto</th>\n",
       "      <td>NaN</td>\n",
       "    </tr>\n",
       "    <tr>\n",
       "      <th>Ozono</th>\n",
       "      <td>NaN</td>\n",
       "    </tr>\n",
       "    <tr>\n",
       "      <th>PM10 (SM2005)</th>\n",
       "      <td>45.0</td>\n",
       "    </tr>\n",
       "    <tr>\n",
       "      <th>Particelle sospese PM2.5</th>\n",
       "      <td>15.0</td>\n",
       "    </tr>\n",
       "  </tbody>\n",
       "</table>\n",
       "</div>"
      ],
      "text/plain": [
       "                          Limite\n",
       "Benzene                      NaN\n",
       "Biossido di Azoto           25.0\n",
       "Biossido di Zolfo           40.0\n",
       "Monossido di Carbonio        4.0\n",
       "Ossidi di Azoto              NaN\n",
       "Ozono                        NaN\n",
       "PM10 (SM2005)               45.0\n",
       "Particelle sospese PM2.5    15.0"
      ]
     },
     "execution_count": 131,
     "metadata": {},
     "output_type": "execute_result"
    }
   ],
   "source": [
    "limitiWHO_24h = pd.DataFrame({'Benzene': np.NaN,\n",
    "                               'Biossido di Azoto': 25, #ug/m3\n",
    "                               'Biossido di Zolfo': 40, #ug/m3\n",
    "                               'Monossido di Carbonio': 4, #mg/m3\n",
    "                               'Ossidi di Azoto': np.NaN,\n",
    "                               'Ozono': np.NaN, #ci sarebbe un valore anche per l'ozono ma é sulle 8 ore\n",
    "                               'PM10 (SM2005)': 45, #ug/m3\n",
    "                               'Particelle sospese PM2.5': 15 #ug/m3\n",
    "                             }, index = ['Limite']).transpose()\n",
    "limitiWHO_24h"
   ]
  },
  {
   "cell_type": "markdown",
   "id": "e16a66ad",
   "metadata": {
    "heading_collapsed": true,
    "hidden": true
   },
   "source": [
    "### Aggiungo colonne al dataframe con le grandezze scalate rispetto al loro limite sulle 24h"
   ]
  },
  {
   "cell_type": "markdown",
   "id": "5f67071d",
   "metadata": {
    "hidden": true
   },
   "source": [
    "Scalo la `ROLLMEAN7` e la `ROLLSTD7`"
   ]
  },
  {
   "cell_type": "code",
   "execution_count": 132,
   "id": "4620b290",
   "metadata": {
    "ExecuteTime": {
     "end_time": "2022-01-14T20:42:15.231898Z",
     "start_time": "2022-01-14T20:42:14.917895Z"
    },
    "hidden": true
   },
   "outputs": [
    {
     "data": {
      "text/html": [
       "<div>\n",
       "<style scoped>\n",
       "    .dataframe tbody tr th:only-of-type {\n",
       "        vertical-align: middle;\n",
       "    }\n",
       "\n",
       "    .dataframe tbody tr th {\n",
       "        vertical-align: top;\n",
       "    }\n",
       "\n",
       "    .dataframe thead th {\n",
       "        text-align: right;\n",
       "    }\n",
       "</style>\n",
       "<table border=\"1\" class=\"dataframe\">\n",
       "  <thead>\n",
       "    <tr style=\"text-align: right;\">\n",
       "      <th></th>\n",
       "      <th>Data</th>\n",
       "      <th>Zona</th>\n",
       "      <th>NomeTipoSensore</th>\n",
       "      <th>Valore_MEAN_day_zona_tipo</th>\n",
       "      <th>Valore_COUNT_day_zona_tipo</th>\n",
       "      <th>Valore_STD_day_zona_tipo</th>\n",
       "      <th>Valore_ROLLMEAN7_day_zona_tipo</th>\n",
       "      <th>Valore_ROLLSTD7_day_zona_tipo</th>\n",
       "      <th>Valore_ROLLMEAN7_day_zona_tipo_NORM</th>\n",
       "      <th>Valore_ROLLSTD7_day_zona_tipo_NORM</th>\n",
       "    </tr>\n",
       "  </thead>\n",
       "  <tbody>\n",
       "    <tr>\n",
       "      <th>0</th>\n",
       "      <td>2017-01-01</td>\n",
       "      <td>A</td>\n",
       "      <td>Biossido di Azoto</td>\n",
       "      <td>40.901994</td>\n",
       "      <td>26.0</td>\n",
       "      <td>10.758609</td>\n",
       "      <td>43.367318</td>\n",
       "      <td>12.018080</td>\n",
       "      <td>1.734693</td>\n",
       "      <td>0.480723</td>\n",
       "    </tr>\n",
       "    <tr>\n",
       "      <th>1</th>\n",
       "      <td>2017-01-01</td>\n",
       "      <td>A</td>\n",
       "      <td>Biossido di Zolfo</td>\n",
       "      <td>3.080280</td>\n",
       "      <td>14.0</td>\n",
       "      <td>1.571802</td>\n",
       "      <td>3.537009</td>\n",
       "      <td>2.186940</td>\n",
       "      <td>0.088425</td>\n",
       "      <td>0.054674</td>\n",
       "    </tr>\n",
       "    <tr>\n",
       "      <th>2</th>\n",
       "      <td>2017-01-01</td>\n",
       "      <td>A</td>\n",
       "      <td>Monossido di Carbonio</td>\n",
       "      <td>1.150833</td>\n",
       "      <td>15.0</td>\n",
       "      <td>0.506121</td>\n",
       "      <td>1.015253</td>\n",
       "      <td>0.471750</td>\n",
       "      <td>0.253813</td>\n",
       "      <td>0.117938</td>\n",
       "    </tr>\n",
       "    <tr>\n",
       "      <th>3</th>\n",
       "      <td>2017-01-01</td>\n",
       "      <td>A</td>\n",
       "      <td>PM10 (SM2005)</td>\n",
       "      <td>77.347826</td>\n",
       "      <td>23.0</td>\n",
       "      <td>24.679046</td>\n",
       "      <td>63.022233</td>\n",
       "      <td>20.298282</td>\n",
       "      <td>1.400494</td>\n",
       "      <td>0.451073</td>\n",
       "    </tr>\n",
       "    <tr>\n",
       "      <th>4</th>\n",
       "      <td>2017-01-01</td>\n",
       "      <td>A</td>\n",
       "      <td>Particelle sospese PM2.5</td>\n",
       "      <td>66.000000</td>\n",
       "      <td>11.0</td>\n",
       "      <td>21.104502</td>\n",
       "      <td>55.265909</td>\n",
       "      <td>19.505325</td>\n",
       "      <td>3.684394</td>\n",
       "      <td>1.300355</td>\n",
       "    </tr>\n",
       "  </tbody>\n",
       "</table>\n",
       "</div>"
      ],
      "text/plain": [
       "        Data Zona           NomeTipoSensore  Valore_MEAN_day_zona_tipo  \\\n",
       "0 2017-01-01    A         Biossido di Azoto                  40.901994   \n",
       "1 2017-01-01    A         Biossido di Zolfo                   3.080280   \n",
       "2 2017-01-01    A     Monossido di Carbonio                   1.150833   \n",
       "3 2017-01-01    A             PM10 (SM2005)                  77.347826   \n",
       "4 2017-01-01    A  Particelle sospese PM2.5                  66.000000   \n",
       "\n",
       "   Valore_COUNT_day_zona_tipo  Valore_STD_day_zona_tipo  \\\n",
       "0                        26.0                 10.758609   \n",
       "1                        14.0                  1.571802   \n",
       "2                        15.0                  0.506121   \n",
       "3                        23.0                 24.679046   \n",
       "4                        11.0                 21.104502   \n",
       "\n",
       "   Valore_ROLLMEAN7_day_zona_tipo  Valore_ROLLSTD7_day_zona_tipo  \\\n",
       "0                       43.367318                      12.018080   \n",
       "1                        3.537009                       2.186940   \n",
       "2                        1.015253                       0.471750   \n",
       "3                       63.022233                      20.298282   \n",
       "4                       55.265909                      19.505325   \n",
       "\n",
       "   Valore_ROLLMEAN7_day_zona_tipo_NORM  Valore_ROLLSTD7_day_zona_tipo_NORM  \n",
       "0                             1.734693                            0.480723  \n",
       "1                             0.088425                            0.054674  \n",
       "2                             0.253813                            0.117938  \n",
       "3                             1.400494                            0.451073  \n",
       "4                             3.684394                            1.300355  "
      ]
     },
     "execution_count": 132,
     "metadata": {},
     "output_type": "execute_result"
    }
   ],
   "source": [
    "limiti = limitiWHO_24h #scegliere i limiti da usare\n",
    "\n",
    "mean7gg_norm = pd.Series(dtype =  np.float64) #inizializzo un nuovo array che sará la nuova colonna con la media normalizzata\n",
    "std7gg_norm = pd.Series(dtype =  np.float64) #inizializzo un nuovo array che sará la nuova colonna con lo std normalizzato\n",
    "\n",
    "for tipo in lista_tipi:\n",
    "    temp1 = aria_sensori_zone__day_zona_tipo[aria_sensori_zone__day_zona_tipo.NomeTipoSensore == tipo]['Valore_ROLLMEAN7_day_zona_tipo'] / limiti.loc[tipo, 'Limite']\n",
    "    temp2 = aria_sensori_zone__day_zona_tipo[aria_sensori_zone__day_zona_tipo.NomeTipoSensore == tipo]['Valore_ROLLSTD7_day_zona_tipo'] / limiti.loc[tipo, 'Limite']\n",
    "    mean7gg_norm = mean7gg_norm.append(temp1)\n",
    "    std7gg_norm = std7gg_norm.append(temp2)\n",
    "\n",
    "aria_sensori_zone__day_zona_tipo = pd.merge(aria_sensori_zone__day_zona_tipo, mean7gg_norm.rename('Valore_ROLLMEAN7_day_zona_tipo_NORM'), left_index=True, right_index=True)\n",
    "aria_sensori_zone__day_zona_tipo = pd.merge(aria_sensori_zone__day_zona_tipo, std7gg_norm.rename('Valore_ROLLSTD7_day_zona_tipo_NORM'), left_index=True, right_index=True)\n",
    "\n",
    "#escludo righe appartenti ai sensori di cui non ho i limiti\n",
    "aria_sensori_zone__day_zona_tipo.drop(aria_sensori_zone__day_zona_tipo[aria_sensori_zone__day_zona_tipo['NomeTipoSensore'].isin(limiti[limiti['Limite'].isna()].index)].index, inplace = True)\n",
    "aria_sensori_zone__day_zona_tipo.reset_index(drop=True, inplace=True)\n",
    "aria_sensori_zone__day_zona_tipo.head()"
   ]
  },
  {
   "cell_type": "markdown",
   "id": "8edd6b0a",
   "metadata": {
    "heading_collapsed": true,
    "hidden": true
   },
   "source": [
    "### Droppo le colonne inutili e tengo solo quelle con la media mobile sui 7 giorni normalizzata"
   ]
  },
  {
   "cell_type": "code",
   "execution_count": 133,
   "id": "f16298ab",
   "metadata": {
    "ExecuteTime": {
     "end_time": "2022-01-14T20:42:15.263894Z",
     "start_time": "2022-01-14T20:42:15.233897Z"
    },
    "hidden": true
   },
   "outputs": [
    {
     "data": {
      "text/html": [
       "<div>\n",
       "<style scoped>\n",
       "    .dataframe tbody tr th:only-of-type {\n",
       "        vertical-align: middle;\n",
       "    }\n",
       "\n",
       "    .dataframe tbody tr th {\n",
       "        vertical-align: top;\n",
       "    }\n",
       "\n",
       "    .dataframe thead th {\n",
       "        text-align: right;\n",
       "    }\n",
       "</style>\n",
       "<table border=\"1\" class=\"dataframe\">\n",
       "  <thead>\n",
       "    <tr style=\"text-align: right;\">\n",
       "      <th></th>\n",
       "      <th>Data</th>\n",
       "      <th>Zona</th>\n",
       "      <th>NomeTipoSensore</th>\n",
       "      <th>Valore_ROLLMEAN7_day_zona_tipo_NORM</th>\n",
       "      <th>Valore_ROLLSTD7_day_zona_tipo_NORM</th>\n",
       "    </tr>\n",
       "  </thead>\n",
       "  <tbody>\n",
       "    <tr>\n",
       "      <th>0</th>\n",
       "      <td>2017-01-01</td>\n",
       "      <td>A</td>\n",
       "      <td>Biossido di Azoto</td>\n",
       "      <td>1.734693</td>\n",
       "      <td>0.480723</td>\n",
       "    </tr>\n",
       "    <tr>\n",
       "      <th>1</th>\n",
       "      <td>2017-01-01</td>\n",
       "      <td>A</td>\n",
       "      <td>Biossido di Zolfo</td>\n",
       "      <td>0.088425</td>\n",
       "      <td>0.054674</td>\n",
       "    </tr>\n",
       "    <tr>\n",
       "      <th>2</th>\n",
       "      <td>2017-01-01</td>\n",
       "      <td>A</td>\n",
       "      <td>Monossido di Carbonio</td>\n",
       "      <td>0.253813</td>\n",
       "      <td>0.117938</td>\n",
       "    </tr>\n",
       "    <tr>\n",
       "      <th>3</th>\n",
       "      <td>2017-01-01</td>\n",
       "      <td>A</td>\n",
       "      <td>PM10 (SM2005)</td>\n",
       "      <td>1.400494</td>\n",
       "      <td>0.451073</td>\n",
       "    </tr>\n",
       "    <tr>\n",
       "      <th>4</th>\n",
       "      <td>2017-01-01</td>\n",
       "      <td>A</td>\n",
       "      <td>Particelle sospese PM2.5</td>\n",
       "      <td>3.684394</td>\n",
       "      <td>1.300355</td>\n",
       "    </tr>\n",
       "  </tbody>\n",
       "</table>\n",
       "</div>"
      ],
      "text/plain": [
       "        Data Zona           NomeTipoSensore  \\\n",
       "0 2017-01-01    A         Biossido di Azoto   \n",
       "1 2017-01-01    A         Biossido di Zolfo   \n",
       "2 2017-01-01    A     Monossido di Carbonio   \n",
       "3 2017-01-01    A             PM10 (SM2005)   \n",
       "4 2017-01-01    A  Particelle sospese PM2.5   \n",
       "\n",
       "   Valore_ROLLMEAN7_day_zona_tipo_NORM  Valore_ROLLSTD7_day_zona_tipo_NORM  \n",
       "0                             1.734693                            0.480723  \n",
       "1                             0.088425                            0.054674  \n",
       "2                             0.253813                            0.117938  \n",
       "3                             1.400494                            0.451073  \n",
       "4                             3.684394                            1.300355  "
      ]
     },
     "execution_count": 133,
     "metadata": {},
     "output_type": "execute_result"
    }
   ],
   "source": [
    "dataset_norm = aria_sensori_zone__day_zona_tipo.drop(['Valore_MEAN_day_zona_tipo', 'Valore_COUNT_day_zona_tipo', 'Valore_STD_day_zona_tipo', 'Valore_ROLLMEAN7_day_zona_tipo', 'Valore_ROLLSTD7_day_zona_tipo'], axis = 1)\n",
    "dataset_norm.head()"
   ]
  },
  {
   "cell_type": "markdown",
   "id": "14c51546",
   "metadata": {
    "heading_collapsed": true,
    "hidden": true
   },
   "source": [
    "## Media delle zone pesata sul numero di residenti(?) (per creare una viz riassuntiva)"
   ]
  },
  {
   "cell_type": "code",
   "execution_count": 134,
   "id": "db569ca1",
   "metadata": {
    "ExecuteTime": {
     "end_time": "2022-01-14T20:42:15.278899Z",
     "start_time": "2022-01-14T20:42:15.265896Z"
    },
    "hidden": true
   },
   "outputs": [
    {
     "data": {
      "text/plain": [
       "Zona\n",
       "A         2862310\n",
       "AGG BG     422629\n",
       "AGG BS     392782\n",
       "AGG MI    3593025\n",
       "B         1461573\n",
       "C          757127\n",
       "C D        328196\n",
       "D            8499\n",
       "Name: Residenti 2008, dtype: int64"
      ]
     },
     "execution_count": 134,
     "metadata": {},
     "output_type": "execute_result"
    }
   ],
   "source": [
    "zonizzazione.groupby('Zona')['Residenti 2008'].sum()"
   ]
  },
  {
   "cell_type": "markdown",
   "id": "ffc4c79c",
   "metadata": {
    "heading_collapsed": true
   },
   "source": [
    "# Esportazione"
   ]
  },
  {
   "cell_type": "code",
   "execution_count": 135,
   "id": "8bc9a28e",
   "metadata": {
    "ExecuteTime": {
     "end_time": "2022-01-14T20:42:15.310902Z",
     "start_time": "2022-01-14T20:42:15.291903Z"
    },
    "hidden": true
   },
   "outputs": [],
   "source": [
    "#dataset_norm.to_csv('dataset_norm.csv')"
   ]
  }
 ],
 "metadata": {
  "kernelspec": {
   "display_name": "Python 3",
   "language": "python",
   "name": "python3"
  },
  "language_info": {
   "codemirror_mode": {
    "name": "ipython",
    "version": 3
   },
   "file_extension": ".py",
   "mimetype": "text/x-python",
   "name": "python",
   "nbconvert_exporter": "python",
   "pygments_lexer": "ipython3",
   "version": "3.8.8"
  },
  "toc": {
   "base_numbering": 1,
   "nav_menu": {},
   "number_sections": true,
   "sideBar": true,
   "skip_h1_title": false,
   "title_cell": "Table of Contents",
   "title_sidebar": "Contents",
   "toc_cell": false,
   "toc_position": {
    "height": "calc(100% - 180px)",
    "left": "10px",
    "top": "150px",
    "width": "174.825px"
   },
   "toc_section_display": true,
   "toc_window_display": false
  },
  "varInspector": {
   "cols": {
    "lenName": 16,
    "lenType": 16,
    "lenVar": 40
   },
   "kernels_config": {
    "python": {
     "delete_cmd_postfix": "",
     "delete_cmd_prefix": "del ",
     "library": "var_list.py",
     "varRefreshCmd": "print(var_dic_list())"
    },
    "r": {
     "delete_cmd_postfix": ") ",
     "delete_cmd_prefix": "rm(",
     "library": "var_list.r",
     "varRefreshCmd": "cat(var_dic_list()) "
    }
   },
   "position": {
    "height": "695.85px",
    "left": "1184.2px",
    "right": "20px",
    "top": "87px",
    "width": "313px"
   },
   "types_to_exclude": [
    "module",
    "function",
    "builtin_function_or_method",
    "instance",
    "_Feature"
   ],
   "window_display": false
  }
 },
 "nbformat": 4,
 "nbformat_minor": 5
}
