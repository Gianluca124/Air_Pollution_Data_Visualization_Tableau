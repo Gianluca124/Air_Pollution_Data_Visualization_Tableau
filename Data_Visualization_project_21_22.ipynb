{
 "cells": [
  {
   "cell_type": "markdown",
   "id": "17da6281",
   "metadata": {},
   "source": [
    "# Importazione librerie"
   ]
  },
  {
   "cell_type": "code",
   "execution_count": 1,
   "id": "416c0c91",
   "metadata": {
    "ExecuteTime": {
     "end_time": "2021-12-30T14:01:43.180427Z",
     "start_time": "2021-12-30T14:01:42.095219Z"
    }
   },
   "outputs": [],
   "source": [
    "import pandas as pd"
   ]
  },
  {
   "cell_type": "markdown",
   "id": "a4193c40",
   "metadata": {},
   "source": [
    "# Importazione e conversione datasets"
   ]
  },
  {
   "cell_type": "markdown",
   "id": "f1631d44",
   "metadata": {},
   "source": [
    "Data la grande dimensione di alcuni dei dataset utilizzati, questi verranno convertiti da `.csv` a `.parquet` (Apache Parquet Format)"
   ]
  },
  {
   "cell_type": "code",
   "execution_count": 10,
   "id": "3ee688d7",
   "metadata": {},
   "outputs": [],
   "source": [
    "#df = pd.read_csv('./Datasets/Dati_sensori_meteo_2021_parte_2.csv', low_memory=False)\n",
    "#df.to_parquet('./Datasets/Dati_sensori_meteo_2021_parte_2.parquet')"
   ]
  },
  {
   "cell_type": "code",
   "execution_count": 11,
   "id": "af572608",
   "metadata": {
    "ExecuteTime": {
     "end_time": "2021-12-30T14:38:10.137080Z",
     "start_time": "2021-12-30T14:38:09.025083Z"
    }
   },
   "outputs": [
    {
     "data": {
      "text/html": [
       "<div>\n",
       "<style scoped>\n",
       "    .dataframe tbody tr th:only-of-type {\n",
       "        vertical-align: middle;\n",
       "    }\n",
       "\n",
       "    .dataframe tbody tr th {\n",
       "        vertical-align: top;\n",
       "    }\n",
       "\n",
       "    .dataframe thead th {\n",
       "        text-align: right;\n",
       "    }\n",
       "</style>\n",
       "<table border=\"1\" class=\"dataframe\">\n",
       "  <thead>\n",
       "    <tr style=\"text-align: right;\">\n",
       "      <th></th>\n",
       "      <th>IdSensore</th>\n",
       "      <th>Data</th>\n",
       "      <th>Valore</th>\n",
       "      <th>idOperatore</th>\n",
       "      <th>Stato</th>\n",
       "    </tr>\n",
       "  </thead>\n",
       "  <tbody>\n",
       "    <tr>\n",
       "      <th>0</th>\n",
       "      <td>19088</td>\n",
       "      <td>01/12/2021 01:40:00 AM</td>\n",
       "      <td>2.7</td>\n",
       "      <td>3</td>\n",
       "      <td>VA</td>\n",
       "    </tr>\n",
       "    <tr>\n",
       "      <th>1</th>\n",
       "      <td>9101</td>\n",
       "      <td>01/12/2021 01:10:00 AM</td>\n",
       "      <td>0.0</td>\n",
       "      <td>4</td>\n",
       "      <td>VA</td>\n",
       "    </tr>\n",
       "    <tr>\n",
       "      <th>2</th>\n",
       "      <td>9123</td>\n",
       "      <td>01/12/2021 01:10:00 AM</td>\n",
       "      <td>0.0</td>\n",
       "      <td>4</td>\n",
       "      <td>VA</td>\n",
       "    </tr>\n",
       "    <tr>\n",
       "      <th>3</th>\n",
       "      <td>14047</td>\n",
       "      <td>01/12/2021 02:30:00 AM</td>\n",
       "      <td>250.0</td>\n",
       "      <td>3</td>\n",
       "      <td>VA</td>\n",
       "    </tr>\n",
       "    <tr>\n",
       "      <th>4</th>\n",
       "      <td>2459</td>\n",
       "      <td>01/12/2021 02:50:00 AM</td>\n",
       "      <td>2.0</td>\n",
       "      <td>1</td>\n",
       "      <td>VA</td>\n",
       "    </tr>\n",
       "  </tbody>\n",
       "</table>\n",
       "</div>"
      ],
      "text/plain": [
       "   IdSensore                    Data  Valore  idOperatore Stato\n",
       "0      19088  01/12/2021 01:40:00 AM     2.7            3    VA\n",
       "1       9101  01/12/2021 01:10:00 AM     0.0            4    VA\n",
       "2       9123  01/12/2021 01:10:00 AM     0.0            4    VA\n",
       "3      14047  01/12/2021 02:30:00 AM   250.0            3    VA\n",
       "4       2459  01/12/2021 02:50:00 AM     2.0            1    VA"
      ]
     },
     "execution_count": 11,
     "metadata": {},
     "output_type": "execute_result"
    }
   ],
   "source": [
    "meteo_21 = pd.read_parquet('./Datasets/Dati_sensori_meteo_2021_parte_2.parquet')\n",
    "meteo_21.head()"
   ]
  },
  {
   "cell_type": "code",
   "execution_count": 12,
   "id": "89a4132a",
   "metadata": {
    "ExecuteTime": {
     "end_time": "2021-12-30T14:38:14.393526Z",
     "start_time": "2021-12-30T14:38:12.857497Z"
    }
   },
   "outputs": [
    {
     "data": {
      "text/html": [
       "<div>\n",
       "<style scoped>\n",
       "    .dataframe tbody tr th:only-of-type {\n",
       "        vertical-align: middle;\n",
       "    }\n",
       "\n",
       "    .dataframe tbody tr th {\n",
       "        vertical-align: top;\n",
       "    }\n",
       "\n",
       "    .dataframe thead th {\n",
       "        text-align: right;\n",
       "    }\n",
       "</style>\n",
       "<table border=\"1\" class=\"dataframe\">\n",
       "  <thead>\n",
       "    <tr style=\"text-align: right;\">\n",
       "      <th></th>\n",
       "      <th>IdSensore</th>\n",
       "      <th>Data</th>\n",
       "      <th>Valore</th>\n",
       "      <th>Stato</th>\n",
       "      <th>idOperatore</th>\n",
       "    </tr>\n",
       "  </thead>\n",
       "  <tbody>\n",
       "    <tr>\n",
       "      <th>0</th>\n",
       "      <td>5832</td>\n",
       "      <td>01/01/2021 12:00:00 AM</td>\n",
       "      <td>-9999.0</td>\n",
       "      <td>NaN</td>\n",
       "      <td>1</td>\n",
       "    </tr>\n",
       "    <tr>\n",
       "      <th>1</th>\n",
       "      <td>5832</td>\n",
       "      <td>01/01/2021 04:00:00 AM</td>\n",
       "      <td>-9999.0</td>\n",
       "      <td>NaN</td>\n",
       "      <td>1</td>\n",
       "    </tr>\n",
       "    <tr>\n",
       "      <th>2</th>\n",
       "      <td>6328</td>\n",
       "      <td>01/01/2021 03:00:00 AM</td>\n",
       "      <td>-9999.0</td>\n",
       "      <td>NaN</td>\n",
       "      <td>1</td>\n",
       "    </tr>\n",
       "    <tr>\n",
       "      <th>3</th>\n",
       "      <td>5504</td>\n",
       "      <td>01/01/2021 04:00:00 AM</td>\n",
       "      <td>-9999.0</td>\n",
       "      <td>NaN</td>\n",
       "      <td>1</td>\n",
       "    </tr>\n",
       "    <tr>\n",
       "      <th>4</th>\n",
       "      <td>5504</td>\n",
       "      <td>01/01/2021 03:00:00 AM</td>\n",
       "      <td>-9999.0</td>\n",
       "      <td>NaN</td>\n",
       "      <td>1</td>\n",
       "    </tr>\n",
       "  </tbody>\n",
       "</table>\n",
       "</div>"
      ],
      "text/plain": [
       "   IdSensore                    Data  Valore Stato  idOperatore\n",
       "0       5832  01/01/2021 12:00:00 AM -9999.0   NaN            1\n",
       "1       5832  01/01/2021 04:00:00 AM -9999.0   NaN            1\n",
       "2       6328  01/01/2021 03:00:00 AM -9999.0   NaN            1\n",
       "3       5504  01/01/2021 04:00:00 AM -9999.0   NaN            1\n",
       "4       5504  01/01/2021 03:00:00 AM -9999.0   NaN            1"
      ]
     },
     "execution_count": 12,
     "metadata": {},
     "output_type": "execute_result"
    }
   ],
   "source": [
    "aria_21 = pd.read_csv('./Datasets/Dati_sensori_aria_2021.csv')\n",
    "aria_21.head()"
   ]
  },
  {
   "cell_type": "code",
   "execution_count": 53,
   "id": "df420928",
   "metadata": {
    "ExecuteTime": {
     "end_time": "2021-12-30T15:27:34.815583Z",
     "start_time": "2021-12-30T15:27:34.783536Z"
    }
   },
   "outputs": [
    {
     "data": {
      "text/plain": [
       "Precipitazione         281\n",
       "Temperatura            258\n",
       "Umidità Relativa       199\n",
       "Direzione Vento        144\n",
       "Velocità Vento         144\n",
       "Radiazione Globale     110\n",
       "Livello Idrometrico     85\n",
       "Altezza Neve            41\n",
       "Name: Tipologia, dtype: int64"
      ]
     },
     "execution_count": 53,
     "metadata": {},
     "output_type": "execute_result"
    }
   ],
   "source": [
    "stazioni_meteo = pd.read_csv('./Datasets/Stazioni_Meteorologiche.csv', dtype = {'Tipologia': 'category'})\n",
    "stazioni_meteo.head()\n",
    "#stazioni_meteo['Tipologia'].value_counts()"
   ]
  },
  {
   "cell_type": "code",
   "execution_count": 54,
   "id": "5d433113",
   "metadata": {
    "ExecuteTime": {
     "end_time": "2021-12-30T15:27:53.826314Z",
     "start_time": "2021-12-30T15:27:53.801723Z"
    }
   },
   "outputs": [
    {
     "data": {
      "text/plain": [
       "Biossido di Azoto             166\n",
       "Ossidi di Azoto               166\n",
       "Biossido di Zolfo             125\n",
       "Monossido di Carbonio         101\n",
       "Ozono                          91\n",
       "PM10 (SM2005)                  90\n",
       "Particolato Totale Sospeso     55\n",
       "Particelle sospese PM2.5       40\n",
       "Benzene                        32\n",
       "Nikel                          15\n",
       "Piombo                         15\n",
       "Arsenico                       15\n",
       "Cadmio                         15\n",
       "Benzo(a)pirene                 15\n",
       "Ammoniaca                      14\n",
       "PM10                            4\n",
       "BlackCarbon                     4\n",
       "Monossido di Azoto              3\n",
       "Name: NomeTipoSensore, dtype: int64"
      ]
     },
     "execution_count": 54,
     "metadata": {},
     "output_type": "execute_result"
    }
   ],
   "source": [
    "stazioni_aria = pd.read_csv('./Datasets/Stazioni_qualita__dell_aria.csv', dtype = {'NomeTipoSensore': 'category'})\n",
    "stazioni_aria.head()\n",
    "stazioni_aria['NomeTipoSensore'].value_counts()"
   ]
  },
  {
   "cell_type": "code",
   "execution_count": 58,
   "id": "e2b3ff11",
   "metadata": {
    "ExecuteTime": {
     "end_time": "2021-12-30T15:41:48.105372Z",
     "start_time": "2021-12-30T15:41:48.076325Z"
    }
   },
   "outputs": [
    {
     "data": {
      "text/html": [
       "<div>\n",
       "<style scoped>\n",
       "    .dataframe tbody tr th:only-of-type {\n",
       "        vertical-align: middle;\n",
       "    }\n",
       "\n",
       "    .dataframe tbody tr th {\n",
       "        vertical-align: top;\n",
       "    }\n",
       "\n",
       "    .dataframe thead th {\n",
       "        text-align: right;\n",
       "    }\n",
       "</style>\n",
       "<table border=\"1\" class=\"dataframe\">\n",
       "  <thead>\n",
       "    <tr style=\"text-align: right;\">\n",
       "      <th></th>\n",
       "      <th>Provincia</th>\n",
       "      <th>Codice Istat</th>\n",
       "      <th>Comune</th>\n",
       "      <th>Zona</th>\n",
       "      <th>Residenti 2008</th>\n",
       "      <th>Superficie (ha)</th>\n",
       "    </tr>\n",
       "  </thead>\n",
       "  <tbody>\n",
       "    <tr>\n",
       "      <th>0</th>\n",
       "      <td>BG</td>\n",
       "      <td>16009</td>\n",
       "      <td>AMBIVERE</td>\n",
       "      <td>A</td>\n",
       "      <td>2341</td>\n",
       "      <td>327</td>\n",
       "    </tr>\n",
       "    <tr>\n",
       "      <th>1</th>\n",
       "      <td>BG</td>\n",
       "      <td>16013</td>\n",
       "      <td>ARZAGO D'ADDA</td>\n",
       "      <td>A</td>\n",
       "      <td>2836</td>\n",
       "      <td>944</td>\n",
       "    </tr>\n",
       "    <tr>\n",
       "      <th>2</th>\n",
       "      <td>BG</td>\n",
       "      <td>16018</td>\n",
       "      <td>BAGNATICA</td>\n",
       "      <td>A</td>\n",
       "      <td>4119</td>\n",
       "      <td>639</td>\n",
       "    </tr>\n",
       "    <tr>\n",
       "      <th>3</th>\n",
       "      <td>BG</td>\n",
       "      <td>16020</td>\n",
       "      <td>BARIANO</td>\n",
       "      <td>A</td>\n",
       "      <td>4396</td>\n",
       "      <td>714</td>\n",
       "    </tr>\n",
       "    <tr>\n",
       "      <th>4</th>\n",
       "      <td>BG</td>\n",
       "      <td>16021</td>\n",
       "      <td>BARZANO'</td>\n",
       "      <td>A</td>\n",
       "      <td>5178</td>\n",
       "      <td>356</td>\n",
       "    </tr>\n",
       "  </tbody>\n",
       "</table>\n",
       "</div>"
      ],
      "text/plain": [
       "  Provincia  Codice Istat         Comune Zona  Residenti 2008  Superficie (ha)\n",
       "0        BG         16009       AMBIVERE    A            2341              327\n",
       "1        BG         16013  ARZAGO D'ADDA    A            2836              944\n",
       "2        BG         16018      BAGNATICA    A            4119              639\n",
       "3        BG         16020        BARIANO    A            4396              714\n",
       "4        BG         16021       BARZANO'    A            5178              356"
      ]
     },
     "execution_count": 58,
     "metadata": {},
     "output_type": "execute_result"
    }
   ],
   "source": [
    "zonizzazione = pd.read_csv('./Datasets/classificazione_comuni_ABCD.csv', dtype = {'Zona': 'category'})\n",
    "zonizzazione.head()\n",
    "#sum(zonizzazione['Residenti 2008'])\n",
    "#zonizzazione['Zona'].value_counts()"
   ]
  },
  {
   "cell_type": "markdown",
   "id": "1ae5cecc",
   "metadata": {},
   "source": [
    "### Riduzione dimensioni\n",
    "\n",
    "Meteo: 343 stazioni con 1262 sensori\n",
    "\n",
    "Aria: 174 stazioni con 966 sensori\n",
    "\n",
    "Zonizzazione: 9 718 786 abitanti in 1521 comuni divisi in 7 o 8 zone\n",
    "\n",
    "- in `stazioni_aria` e `stazioni_meteo` tenere solo righe con `Stato == VA`\n",
    "- da `stazioni_aria` e `stazioni_meteo` trovare solo gli `IdSensore` di tipologia utile\n",
    "- tenere solo stazioni meteo dove ci sono stazioni aria (joint su `lat` e `lng`?)\n",
    "- inner joint tra `aria_xx` e `meteo_xx` con stazioni filtrate\n",
    "- left joint (non case sensitive) con dataset `zonizzazione` rispetto a `Comune` tenendo solo la colonna `Zona`\n",
    "- salvare i nuovi dataset in formato parquet"
   ]
  }
 ],
 "metadata": {
  "kernelspec": {
   "display_name": "Python 3",
   "language": "python",
   "name": "python3"
  },
  "language_info": {
   "codemirror_mode": {
    "name": "ipython",
    "version": 3
   },
   "file_extension": ".py",
   "mimetype": "text/x-python",
   "name": "python",
   "nbconvert_exporter": "python",
   "pygments_lexer": "ipython3",
   "version": "3.8.8"
  }
 },
 "nbformat": 4,
 "nbformat_minor": 5
}
