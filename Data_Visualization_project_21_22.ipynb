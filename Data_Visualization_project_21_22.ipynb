{
 "cells": [
  {
   "cell_type": "markdown",
   "id": "17da6281",
   "metadata": {},
   "source": [
    "# Importazione librerie"
   ]
  },
  {
   "cell_type": "code",
   "execution_count": 1,
   "id": "5d25e54d",
   "metadata": {
    "ExecuteTime": {
     "end_time": "2022-01-04T16:50:02.049555Z",
     "start_time": "2022-01-04T16:50:02.015584Z"
    }
   },
   "outputs": [
    {
     "data": {
      "text/html": [
       "<style>.container { width:90% !important; }</style>"
      ],
      "text/plain": [
       "<IPython.core.display.HTML object>"
      ]
     },
     "metadata": {},
     "output_type": "display_data"
    }
   ],
   "source": [
    "from IPython.core.display import display, HTML\n",
    "display(HTML(\"<style>.container { width:90% !important; }</style>\"))"
   ]
  },
  {
   "cell_type": "code",
   "execution_count": 2,
   "id": "416c0c91",
   "metadata": {
    "ExecuteTime": {
     "end_time": "2022-01-04T16:50:03.130680Z",
     "start_time": "2022-01-04T16:50:02.055549Z"
    }
   },
   "outputs": [],
   "source": [
    "import pandas as pd"
   ]
  },
  {
   "cell_type": "markdown",
   "id": "a4193c40",
   "metadata": {},
   "source": [
    "# Importazione e conversione datasets"
   ]
  },
  {
   "cell_type": "markdown",
   "id": "f1631d44",
   "metadata": {},
   "source": [
    "Data la grande dimensione di alcuni dei dataset utilizzati, questi verranno convertiti da `.csv` a `.parquet` (Apache Parquet Format)"
   ]
  },
  {
   "cell_type": "code",
   "execution_count": 3,
   "id": "3ee688d7",
   "metadata": {
    "ExecuteTime": {
     "end_time": "2022-01-04T16:50:03.145682Z",
     "start_time": "2022-01-04T16:50:03.132644Z"
    }
   },
   "outputs": [],
   "source": [
    "#df = pd.read_csv('./Datasets/Dati_sensori_meteo_2021.csv', low_memory=False)\n",
    "#df.to_parquet('./Datasets/Dati_sensori_meteo_2021.parquet')"
   ]
  },
  {
   "cell_type": "markdown",
   "id": "86fef283",
   "metadata": {},
   "source": [
    "Il codice sotto funziona ma riempie la RAM"
   ]
  },
  {
   "cell_type": "code",
   "execution_count": 4,
   "id": "6a813f34",
   "metadata": {
    "ExecuteTime": {
     "end_time": "2022-01-04T16:50:03.161324Z",
     "start_time": "2022-01-04T16:50:03.147676Z"
    }
   },
   "outputs": [],
   "source": [
    "#dtypes = {'IdSensore': 'string', 'Valore':'string'}\n",
    "#parse_dates\n",
    "#meteo = pd.concat(map(pd.read_parquet, [f'{path}Dati_sensori_meteo_2021_parte_1.parquet', f'{path}Dati_sensori_meteo_2021_parte_2.parquet']))\n",
    "#meteo.head()"
   ]
  },
  {
   "cell_type": "markdown",
   "id": "ebf630b9",
   "metadata": {},
   "source": [
    "Importazione datasets convertiti"
   ]
  },
  {
   "cell_type": "code",
   "execution_count": 5,
   "id": "0a548d31",
   "metadata": {
    "ExecuteTime": {
     "end_time": "2022-01-04T16:50:03.177328Z",
     "start_time": "2022-01-04T16:50:03.163324Z"
    }
   },
   "outputs": [],
   "source": [
    "path = './data/'"
   ]
  },
  {
   "cell_type": "markdown",
   "id": "2362e611",
   "metadata": {},
   "source": [
    "#### Rilevazioni sensori metereologiche\n",
    "##### Attributi: \n",
    "- IdSensore: \n",
    "    - Tipologia: Testo normale\n",
    "- Data: \n",
    "    - Data e ora, Marcatura oraria flessibile\n",
    "- Valore: \n",
    "    - Tipologia: numero\n",
    "    - Legenda: 9999 = dato mancante 888, 8888 = direzione vento variabile 777, 7777 = calma (solo per direzione di vento)\n",
    "- idOperatore\t\n",
    "    - *Molto utile per capire la dimensione del dato*\n",
    "    - LEGENDA: 1: Valore medio 3: Valore massimo 4: Valore cumulato (per la pioggia)\n",
    "    - Testo normale\n",
    "- Stato\t\n",
    "    - LEGENDA: VA, VV = dato valido NA, NV, NC = dato invalido NI = dato incerto ND = dato non disponibile\n",
    "    - Testo normale"
   ]
  },
  {
   "cell_type": "code",
   "execution_count": 6,
   "id": "af572608",
   "metadata": {
    "ExecuteTime": {
     "end_time": "2022-01-04T16:50:03.193119Z",
     "start_time": "2022-01-04T16:50:03.178324Z"
    }
   },
   "outputs": [],
   "source": [
    "#meteo_21 = pd.read_parquet(f'{path}/data_meteo/Dati_sensori_meteo_2021.parquet')\n",
    "#meteo_21.head()"
   ]
  },
  {
   "cell_type": "markdown",
   "id": "f624b390",
   "metadata": {},
   "source": [
    "#### Sensori metereologici\n",
    "##### Attributi: \n",
    "- **IdSensore**\n",
    "    - Foreign Key con vincolo di integrità referenziale a `IdSensore` di meteo_21\n",
    "    - Testo normale\n",
    "- **Tipologia**\n",
    "    - Grandezza misurata\n",
    "    - Testo normale\n",
    "- **Unità DiMisura**\n",
    "    - Unità di misura della grandezza\n",
    "    - Testo normale\n",
    "- IdStazione\t\n",
    "    - Numero identificativo della stazione (penso perchè ogni stazione può avere più sensori)\n",
    "    - Testo normale\n",
    "- NomeStazione\t\n",
    "    - Località della stazione (Spesso è 'Comune via' o 'Comune località)'\n",
    "    - Testo normale\n",
    "- Quota\t\n",
    "    - Altitudine\n",
    "    - Numero\n",
    "- Provincia\n",
    "    - Sigla della provincia\n",
    "    - Testo normale\n",
    "- DataStart\t\n",
    "    - Data e ora\n",
    "- DataStop\t\n",
    "    - Data e ora\n",
    "- Storico\t\n",
    "    - Noto che assume valori N e S ma non capisco cosa sia\n",
    "    - Testo normale\n",
    "- UTM_Nord\t\n",
    "    - Coordinata UTM nord (le cordinate utm permettono di individuare univocamente un punto sulla cartina terrestre)\n",
    "    - Testo normale\n",
    "- UTM_Est\t\n",
    "    - Coordinata UTM est\n",
    "    - Testo normale\n",
    "- lng\t\n",
    "    - Longitudine (senza simbolo gradi)\n",
    "    - Numero\n",
    "- lat\t\n",
    "    - Latitudine (senza simbolo gradi)\n",
    "    - Numero\n",
    "- location\t\n",
    "    - (latitudine°, longitudine°)\n",
    "    - Posizione\n",
    "    \n",
    "##### Grandezze disponibili\n",
    "Sono disponibili i dati delle grandezze:\n",
    "- Livello Idrometrico (cm)\n",
    "- Altezza neve (cm)\n",
    "- Precipitazione (mm)\n",
    "- Temperatura (°C)\n",
    "- Umidità Relativa (%)\n",
    "- Radiazione Globale (W/m2)\n",
    "- Velocità e Direzione Vento (m/s e gradi).\n",
    "- Velocità e direzione del vento (m/s e gradi N) raffica\n",
    "NB: l’orario del dato è \"ora solare\" e si riferisce alle osservazioni ottenute fino all’orario indicato."
   ]
  },
  {
   "cell_type": "code",
   "execution_count": 7,
   "id": "9c1aee03",
   "metadata": {
    "ExecuteTime": {
     "end_time": "2022-01-04T16:50:03.208447Z",
     "start_time": "2022-01-04T16:50:03.195124Z"
    }
   },
   "outputs": [],
   "source": [
    "#sensori_meteo = pd.read_csv(f'{path}Stazioni_Meteorologiche.csv', dtype = {'Tipologia': 'category'})\n",
    "#sensori_meteo.head()\n",
    "#stazioni_meteo['Tipologia'].value_counts()"
   ]
  },
  {
   "cell_type": "markdown",
   "id": "52634b34",
   "metadata": {},
   "source": [
    "### Rilevazioni sensori qualità dell'aria\n",
    "##### Attributi: \n",
    "- **IdSensore**: \n",
    "    - Identificativo Univoco che distingue il sensore\n",
    "    - Tipologia: Testo normale\n",
    "- **Data**: \n",
    "    - Data e ora, Marcatura oraria flessibile\n",
    "    - I dati forniti hanno frequenza oraria tranne PM10 e PM2.5 per i quali è fornita la media giornaliera.\n",
    "- **Valore**: \n",
    "    - Tipologia: numero\n",
    "    - LEGENDA:-9999 = dato mancante o invalido\n",
    "- **idOperatore**\n",
    "    - *Molto utile per capire la dimensione del dato*\n",
    "    - LEGENDA: 1: Valore medio \n",
    "    - In realtà: I dati forniti hanno frequenza oraria tranne PM10 e PM2.5 per i quali è fornita la media giornaliera.\n",
    "    - Testo normale\n",
    "- **Stato**\t\n",
    "    - VA = dato valido NA = dato invalido I dati presenti in questo archivio relativi agli ultimi 3-6 mesi, contengono ancora valori incerti che possono subire modifiche da parte degli operatori delle reti (invalidazione manuale). Il processo di validazione dei dati prevede una fase di valutazione finale che si conclude entro il 30.3 dell’anno successivo a quello di misura.\n",
    "    - Testo normale\n",
    "    \n",
    "##### Caratteristiche\n",
    "\n",
    "- La rete di rilevamento della qualità dell’aria di ARPA Lombardia è costituita da stazioni fisse che, per mezzo di analizzatori automatici, forniscono dati in continuo ad intervalli temporali regolari. \n",
    "- Le specie di inquinanti monitorate in continuo sono NOX, SO2, CO, O3, PM10, PM2.5 e benzene. A seconda del contesto ambientale nel quale è attivo il monitoraggio, diversa è la tipologia di inquinanti che è necessario rilevare. Pertanto, non tutte le stazioni sono dotate della medesima strumentazione analitica. \n",
    "- Le postazioni regionali sono distribuite su tutto il territorio regionale in funzione della densità abitativa e della tipologia di territorio rispettando i criteri definiti dal D.Lgs. 155/2010.\n",
    "- **I dati forniti hanno frequenza oraria tranne PM10 e PM2.5 per i quali è fornita la media giornaliera.**"
   ]
  },
  {
   "cell_type": "code",
   "execution_count": 8,
   "id": "89a4132a",
   "metadata": {
    "ExecuteTime": {
     "end_time": "2022-01-04T16:50:04.914413Z",
     "start_time": "2022-01-04T16:50:03.211413Z"
    },
    "scrolled": true
   },
   "outputs": [
    {
     "data": {
      "text/plain": [
       "(2625796, 5)"
      ]
     },
     "execution_count": 8,
     "metadata": {},
     "output_type": "execute_result"
    }
   ],
   "source": [
    "# Converto in importazione i -9999 in NA\n",
    "aria_21 = pd.read_csv(f'{path}/data_aria/Dati_sensori_aria_2021.csv', na_values=['-9999'])\n",
    "aria_21.shape"
   ]
  },
  {
   "cell_type": "code",
   "execution_count": 9,
   "id": "caa8b1af",
   "metadata": {
    "ExecuteTime": {
     "end_time": "2022-01-04T16:50:06.494411Z",
     "start_time": "2022-01-04T16:50:04.916413Z"
    }
   },
   "outputs": [
    {
     "data": {
      "text/plain": [
       "(2620280, 5)"
      ]
     },
     "execution_count": 9,
     "metadata": {},
     "output_type": "execute_result"
    }
   ],
   "source": [
    "# Converto in importazione i -9999 in NA\n",
    "aria_20 = pd.read_csv(f'{path}/data_aria/Dati_sensori_aria_2020.csv', na_values=['-9999'])\n",
    "aria_20.shape"
   ]
  },
  {
   "cell_type": "code",
   "execution_count": 10,
   "id": "f379c045",
   "metadata": {
    "ExecuteTime": {
     "end_time": "2022-01-04T16:50:06.894451Z",
     "start_time": "2022-01-04T16:50:06.496413Z"
    }
   },
   "outputs": [
    {
     "data": {
      "text/html": [
       "<div>\n",
       "<style scoped>\n",
       "    .dataframe tbody tr th:only-of-type {\n",
       "        vertical-align: middle;\n",
       "    }\n",
       "\n",
       "    .dataframe tbody tr th {\n",
       "        vertical-align: top;\n",
       "    }\n",
       "\n",
       "    .dataframe thead th {\n",
       "        text-align: right;\n",
       "    }\n",
       "</style>\n",
       "<table border=\"1\" class=\"dataframe\">\n",
       "  <thead>\n",
       "    <tr style=\"text-align: right;\">\n",
       "      <th></th>\n",
       "      <th>IdSensore</th>\n",
       "      <th>Data</th>\n",
       "      <th>Valore</th>\n",
       "      <th>Stato</th>\n",
       "      <th>idOperatore</th>\n",
       "    </tr>\n",
       "  </thead>\n",
       "  <tbody>\n",
       "    <tr>\n",
       "      <th>5246071</th>\n",
       "      <td>10331</td>\n",
       "      <td>19/12/2021 03:00:00 AM</td>\n",
       "      <td>45.7</td>\n",
       "      <td>VA</td>\n",
       "      <td>1</td>\n",
       "    </tr>\n",
       "    <tr>\n",
       "      <th>5246072</th>\n",
       "      <td>10333</td>\n",
       "      <td>24/12/2021 07:00:00 PM</td>\n",
       "      <td>39.8</td>\n",
       "      <td>VA</td>\n",
       "      <td>1</td>\n",
       "    </tr>\n",
       "    <tr>\n",
       "      <th>5246073</th>\n",
       "      <td>10331</td>\n",
       "      <td>20/12/2021 06:00:00 PM</td>\n",
       "      <td>27.6</td>\n",
       "      <td>VA</td>\n",
       "      <td>1</td>\n",
       "    </tr>\n",
       "    <tr>\n",
       "      <th>5246074</th>\n",
       "      <td>10333</td>\n",
       "      <td>25/12/2021 11:00:00 AM</td>\n",
       "      <td>84.7</td>\n",
       "      <td>VA</td>\n",
       "      <td>1</td>\n",
       "    </tr>\n",
       "    <tr>\n",
       "      <th>5246075</th>\n",
       "      <td>10331</td>\n",
       "      <td>21/12/2021 04:00:00 AM</td>\n",
       "      <td>34.3</td>\n",
       "      <td>VA</td>\n",
       "      <td>1</td>\n",
       "    </tr>\n",
       "  </tbody>\n",
       "</table>\n",
       "</div>"
      ],
      "text/plain": [
       "         IdSensore                    Data  Valore Stato  idOperatore\n",
       "5246071      10331  19/12/2021 03:00:00 AM    45.7    VA            1\n",
       "5246072      10333  24/12/2021 07:00:00 PM    39.8    VA            1\n",
       "5246073      10331  20/12/2021 06:00:00 PM    27.6    VA            1\n",
       "5246074      10333  25/12/2021 11:00:00 AM    84.7    VA            1\n",
       "5246075      10331  21/12/2021 04:00:00 AM    34.3    VA            1"
      ]
     },
     "execution_count": 10,
     "metadata": {},
     "output_type": "execute_result"
    }
   ],
   "source": [
    "aria_20_21 = pd.concat([aria_20, aria_21]).reset_index(drop=True)\n",
    "aria_20_21.tail()"
   ]
  },
  {
   "cell_type": "markdown",
   "id": "63a2d471",
   "metadata": {},
   "source": [
    "Converto la data da stringa a oggetto data"
   ]
  },
  {
   "cell_type": "code",
   "execution_count": 11,
   "id": "5a781475",
   "metadata": {
    "ExecuteTime": {
     "end_time": "2022-01-04T16:50:10.050121Z",
     "start_time": "2022-01-04T16:50:06.895413Z"
    }
   },
   "outputs": [
    {
     "data": {
      "text/html": [
       "<div>\n",
       "<style scoped>\n",
       "    .dataframe tbody tr th:only-of-type {\n",
       "        vertical-align: middle;\n",
       "    }\n",
       "\n",
       "    .dataframe tbody tr th {\n",
       "        vertical-align: top;\n",
       "    }\n",
       "\n",
       "    .dataframe thead th {\n",
       "        text-align: right;\n",
       "    }\n",
       "</style>\n",
       "<table border=\"1\" class=\"dataframe\">\n",
       "  <thead>\n",
       "    <tr style=\"text-align: right;\">\n",
       "      <th></th>\n",
       "      <th>IdSensore</th>\n",
       "      <th>Data</th>\n",
       "      <th>Valore</th>\n",
       "      <th>Stato</th>\n",
       "      <th>idOperatore</th>\n",
       "    </tr>\n",
       "  </thead>\n",
       "  <tbody>\n",
       "    <tr>\n",
       "      <th>5246071</th>\n",
       "      <td>10331</td>\n",
       "      <td>2021-12-19 03:00:00</td>\n",
       "      <td>45.7</td>\n",
       "      <td>VA</td>\n",
       "      <td>1</td>\n",
       "    </tr>\n",
       "    <tr>\n",
       "      <th>5246072</th>\n",
       "      <td>10333</td>\n",
       "      <td>2021-12-24 19:00:00</td>\n",
       "      <td>39.8</td>\n",
       "      <td>VA</td>\n",
       "      <td>1</td>\n",
       "    </tr>\n",
       "    <tr>\n",
       "      <th>5246073</th>\n",
       "      <td>10331</td>\n",
       "      <td>2021-12-20 18:00:00</td>\n",
       "      <td>27.6</td>\n",
       "      <td>VA</td>\n",
       "      <td>1</td>\n",
       "    </tr>\n",
       "    <tr>\n",
       "      <th>5246074</th>\n",
       "      <td>10333</td>\n",
       "      <td>2021-12-25 11:00:00</td>\n",
       "      <td>84.7</td>\n",
       "      <td>VA</td>\n",
       "      <td>1</td>\n",
       "    </tr>\n",
       "    <tr>\n",
       "      <th>5246075</th>\n",
       "      <td>10331</td>\n",
       "      <td>2021-12-21 04:00:00</td>\n",
       "      <td>34.3</td>\n",
       "      <td>VA</td>\n",
       "      <td>1</td>\n",
       "    </tr>\n",
       "  </tbody>\n",
       "</table>\n",
       "</div>"
      ],
      "text/plain": [
       "         IdSensore                Data  Valore Stato  idOperatore\n",
       "5246071      10331 2021-12-19 03:00:00    45.7    VA            1\n",
       "5246072      10333 2021-12-24 19:00:00    39.8    VA            1\n",
       "5246073      10331 2021-12-20 18:00:00    27.6    VA            1\n",
       "5246074      10333 2021-12-25 11:00:00    84.7    VA            1\n",
       "5246075      10331 2021-12-21 04:00:00    34.3    VA            1"
      ]
     },
     "execution_count": 11,
     "metadata": {},
     "output_type": "execute_result"
    }
   ],
   "source": [
    "aria_20_21['Data'] = pd.to_datetime(aria_20_21['Data'])\n",
    "aria_20_21.tail()"
   ]
  },
  {
   "cell_type": "markdown",
   "id": "bafeeb6a",
   "metadata": {},
   "source": [
    "### Sensori qualità dell'aria\n",
    "##### Attributi: \n",
    "- IdSensore\n",
    "    - Foreign Key con vincolo di integrità referenziale a `IdSensore` di aria_21\n",
    "    - Testo normale\n",
    "- NomeTipoSensore\t\n",
    "    - Grandezza misurata\n",
    "    - Testo normale\n",
    "- Unità DiMisura\t\n",
    "    - Unità di misura della grandezza\n",
    "    - Testo normale\n",
    "- IdStazione\t\n",
    "    - Numero identificativo della stazione (penso perchè ogni stazione può avere più sensori)\n",
    "    - Testo normale\n",
    "- NomeStazione\t\n",
    "    - Località della stazione (Spesso è 'Comune via' o 'Comune località)'\n",
    "    - Testo normale\n",
    "- Quota\t\n",
    "    - Altitudine\n",
    "    - Numero\n",
    "- Provincia\n",
    "    - Sigla della provincia\n",
    "    - Testo normale\n",
    "- DataStart\t\n",
    "    - Data e ora\n",
    "- DataStop\t\n",
    "    - Data e ora\n",
    "- Storico\t\n",
    "    - Noto che assume valori N e S ma non capisco cosa sia\n",
    "    - Testo normale\n",
    "- UTM_Nord\t\n",
    "    - Coordinata UTM nord (le cordinate utm permettono di individuare univocamente un punto sulla cartina terrestre)\n",
    "    - Testo normale\n",
    "- UTM_Est\t\n",
    "    - Coordinata UTM est\n",
    "    - Testo normale\n",
    "- lng\t\n",
    "    - Longitudine (senza simbolo gradi)\n",
    "    - Numero\n",
    "- lat\t\n",
    "    - Latitudine (senza simbolo gradi)\n",
    "    - Numero\n",
    "- location\t\n",
    "    - (latitudine°, longitudine°)\n",
    "    - Posizione"
   ]
  },
  {
   "cell_type": "code",
   "execution_count": 12,
   "id": "5d433113",
   "metadata": {
    "ExecuteTime": {
     "end_time": "2022-01-04T16:50:10.098121Z",
     "start_time": "2022-01-04T16:50:10.051086Z"
    }
   },
   "outputs": [
    {
     "data": {
      "text/html": [
       "<div>\n",
       "<style scoped>\n",
       "    .dataframe tbody tr th:only-of-type {\n",
       "        vertical-align: middle;\n",
       "    }\n",
       "\n",
       "    .dataframe tbody tr th {\n",
       "        vertical-align: top;\n",
       "    }\n",
       "\n",
       "    .dataframe thead th {\n",
       "        text-align: right;\n",
       "    }\n",
       "</style>\n",
       "<table border=\"1\" class=\"dataframe\">\n",
       "  <thead>\n",
       "    <tr style=\"text-align: right;\">\n",
       "      <th></th>\n",
       "      <th>IdSensore</th>\n",
       "      <th>NomeTipoSensore</th>\n",
       "      <th>UnitaMisura</th>\n",
       "      <th>Idstazione</th>\n",
       "      <th>NomeStazione</th>\n",
       "      <th>Quota</th>\n",
       "      <th>Provincia</th>\n",
       "      <th>Comune</th>\n",
       "      <th>Storico</th>\n",
       "      <th>DataStart</th>\n",
       "      <th>DataStop</th>\n",
       "      <th>Utm_Nord</th>\n",
       "      <th>UTM_Est</th>\n",
       "      <th>lat</th>\n",
       "      <th>lng</th>\n",
       "      <th>location</th>\n",
       "    </tr>\n",
       "  </thead>\n",
       "  <tbody>\n",
       "    <tr>\n",
       "      <th>961</th>\n",
       "      <td>6606</td>\n",
       "      <td>Particolato Totale Sospeso</td>\n",
       "      <td>µg/m³</td>\n",
       "      <td>591</td>\n",
       "      <td>Seriate v. Garibaldi</td>\n",
       "      <td>256.0</td>\n",
       "      <td>BG</td>\n",
       "      <td>Seriate</td>\n",
       "      <td>S</td>\n",
       "      <td>1991-11-20</td>\n",
       "      <td>2000-01-27</td>\n",
       "      <td>5059449</td>\n",
       "      <td>555672</td>\n",
       "      <td>45.686356</td>\n",
       "      <td>9.714948</td>\n",
       "      <td>(45.68635606439914, 9.714947917631529)</td>\n",
       "    </tr>\n",
       "    <tr>\n",
       "      <th>962</th>\n",
       "      <td>6382</td>\n",
       "      <td>Ossidi di Azoto</td>\n",
       "      <td>µg/m³</td>\n",
       "      <td>569</td>\n",
       "      <td>Sondrio v.Mazzini</td>\n",
       "      <td>307.0</td>\n",
       "      <td>SO</td>\n",
       "      <td>Sondrio</td>\n",
       "      <td>N</td>\n",
       "      <td>1993-01-11</td>\n",
       "      <td>NaT</td>\n",
       "      <td>5113078</td>\n",
       "      <td>567173</td>\n",
       "      <td>46.167967</td>\n",
       "      <td>9.870144</td>\n",
       "      <td>(46.16796681227828, 9.87014407497457)</td>\n",
       "    </tr>\n",
       "    <tr>\n",
       "      <th>963</th>\n",
       "      <td>6607</td>\n",
       "      <td>Particolato Totale Sospeso</td>\n",
       "      <td>µg/m³</td>\n",
       "      <td>591</td>\n",
       "      <td>Seriate v. Garibaldi</td>\n",
       "      <td>256.0</td>\n",
       "      <td>BG</td>\n",
       "      <td>Seriate</td>\n",
       "      <td>S</td>\n",
       "      <td>2000-07-09</td>\n",
       "      <td>2002-04-04</td>\n",
       "      <td>5059449</td>\n",
       "      <td>555672</td>\n",
       "      <td>45.686356</td>\n",
       "      <td>9.714948</td>\n",
       "      <td>(45.68635606439914, 9.714947917631529)</td>\n",
       "    </tr>\n",
       "    <tr>\n",
       "      <th>964</th>\n",
       "      <td>20523</td>\n",
       "      <td>Ammoniaca</td>\n",
       "      <td>µg/m³</td>\n",
       "      <td>583</td>\n",
       "      <td>Bergamo v.Meucci</td>\n",
       "      <td>249.0</td>\n",
       "      <td>BG</td>\n",
       "      <td>Bergamo</td>\n",
       "      <td>N</td>\n",
       "      <td>NaT</td>\n",
       "      <td>NaT</td>\n",
       "      <td>5059922</td>\n",
       "      <td>550116</td>\n",
       "      <td>45.691037</td>\n",
       "      <td>9.643651</td>\n",
       "      <td>(45.69103740547214, 9.643650579461385)</td>\n",
       "    </tr>\n",
       "    <tr>\n",
       "      <th>965</th>\n",
       "      <td>12597</td>\n",
       "      <td>Cadmio</td>\n",
       "      <td>ng/m³</td>\n",
       "      <td>609</td>\n",
       "      <td>Casirate d'Adda v. Cimitero</td>\n",
       "      <td>108.0</td>\n",
       "      <td>BG</td>\n",
       "      <td>Casirate d'Adda</td>\n",
       "      <td>N</td>\n",
       "      <td>2008-04-24</td>\n",
       "      <td>NaT</td>\n",
       "      <td>5038450</td>\n",
       "      <td>543458</td>\n",
       "      <td>45.498227</td>\n",
       "      <td>9.556232</td>\n",
       "      <td>(45.49822713394494, 9.556232262351761)</td>\n",
       "    </tr>\n",
       "  </tbody>\n",
       "</table>\n",
       "</div>"
      ],
      "text/plain": [
       "     IdSensore             NomeTipoSensore UnitaMisura  Idstazione  \\\n",
       "961       6606  Particolato Totale Sospeso       µg/m³         591   \n",
       "962       6382             Ossidi di Azoto       µg/m³         569   \n",
       "963       6607  Particolato Totale Sospeso       µg/m³         591   \n",
       "964      20523                   Ammoniaca       µg/m³         583   \n",
       "965      12597                      Cadmio       ng/m³         609   \n",
       "\n",
       "                    NomeStazione  Quota Provincia           Comune Storico  \\\n",
       "961         Seriate v. Garibaldi  256.0        BG          Seriate       S   \n",
       "962            Sondrio v.Mazzini  307.0        SO          Sondrio       N   \n",
       "963         Seriate v. Garibaldi  256.0        BG          Seriate       S   \n",
       "964             Bergamo v.Meucci  249.0        BG          Bergamo       N   \n",
       "965  Casirate d'Adda v. Cimitero  108.0        BG  Casirate d'Adda       N   \n",
       "\n",
       "     DataStart   DataStop  Utm_Nord  UTM_Est        lat       lng  \\\n",
       "961 1991-11-20 2000-01-27   5059449   555672  45.686356  9.714948   \n",
       "962 1993-01-11        NaT   5113078   567173  46.167967  9.870144   \n",
       "963 2000-07-09 2002-04-04   5059449   555672  45.686356  9.714948   \n",
       "964        NaT        NaT   5059922   550116  45.691037  9.643651   \n",
       "965 2008-04-24        NaT   5038450   543458  45.498227  9.556232   \n",
       "\n",
       "                                   location  \n",
       "961  (45.68635606439914, 9.714947917631529)  \n",
       "962   (46.16796681227828, 9.87014407497457)  \n",
       "963  (45.68635606439914, 9.714947917631529)  \n",
       "964  (45.69103740547214, 9.643650579461385)  \n",
       "965  (45.49822713394494, 9.556232262351761)  "
      ]
     },
     "execution_count": 12,
     "metadata": {},
     "output_type": "execute_result"
    }
   ],
   "source": [
    "sensori_aria = pd.read_csv(f'{path}Stazioni_qualita_dell_aria.csv', dtype = {'NomeTipoSensore': 'category'}, parse_dates = ['DataStart', 'DataStop'])\n",
    "sensori_aria.tail()\n",
    "#stazioni_aria['NomeTipoSensore'].value_counts()"
   ]
  },
  {
   "cell_type": "code",
   "execution_count": 13,
   "id": "81dfb734",
   "metadata": {
    "ExecuteTime": {
     "end_time": "2022-01-04T16:50:10.114118Z",
     "start_time": "2022-01-04T16:50:10.099116Z"
    }
   },
   "outputs": [
    {
     "data": {
      "text/plain": [
       "IdSensore                   int64\n",
       "NomeTipoSensore          category\n",
       "UnitaMisura                object\n",
       "Idstazione                  int64\n",
       "NomeStazione               object\n",
       "Quota                     float64\n",
       "Provincia                  object\n",
       "Comune                     object\n",
       "Storico                    object\n",
       "DataStart          datetime64[ns]\n",
       "DataStop           datetime64[ns]\n",
       "Utm_Nord                    int64\n",
       "UTM_Est                     int64\n",
       "lat                       float64\n",
       "lng                       float64\n",
       "location                   object\n",
       "dtype: object"
      ]
     },
     "execution_count": 13,
     "metadata": {},
     "output_type": "execute_result"
    }
   ],
   "source": [
    "sensori_aria.dtypes"
   ]
  },
  {
   "cell_type": "markdown",
   "id": "5e7e09a7",
   "metadata": {},
   "source": [
    "#### Zonizzazione"
   ]
  },
  {
   "cell_type": "code",
   "execution_count": 14,
   "id": "e2b3ff11",
   "metadata": {
    "ExecuteTime": {
     "end_time": "2022-01-04T16:50:10.146200Z",
     "start_time": "2022-01-04T16:50:10.116084Z"
    }
   },
   "outputs": [
    {
     "data": {
      "text/html": [
       "<div>\n",
       "<style scoped>\n",
       "    .dataframe tbody tr th:only-of-type {\n",
       "        vertical-align: middle;\n",
       "    }\n",
       "\n",
       "    .dataframe tbody tr th {\n",
       "        vertical-align: top;\n",
       "    }\n",
       "\n",
       "    .dataframe thead th {\n",
       "        text-align: right;\n",
       "    }\n",
       "</style>\n",
       "<table border=\"1\" class=\"dataframe\">\n",
       "  <thead>\n",
       "    <tr style=\"text-align: right;\">\n",
       "      <th></th>\n",
       "      <th>Provincia</th>\n",
       "      <th>Codice Istat</th>\n",
       "      <th>Comune</th>\n",
       "      <th>Zona</th>\n",
       "      <th>Residenti 2008</th>\n",
       "      <th>Superficie (ha)</th>\n",
       "    </tr>\n",
       "  </thead>\n",
       "  <tbody>\n",
       "    <tr>\n",
       "      <th>0</th>\n",
       "      <td>BG</td>\n",
       "      <td>16009</td>\n",
       "      <td>AMBIVERE</td>\n",
       "      <td>A</td>\n",
       "      <td>2341</td>\n",
       "      <td>327</td>\n",
       "    </tr>\n",
       "    <tr>\n",
       "      <th>1</th>\n",
       "      <td>BG</td>\n",
       "      <td>16013</td>\n",
       "      <td>ARZAGO D'ADDA</td>\n",
       "      <td>A</td>\n",
       "      <td>2836</td>\n",
       "      <td>944</td>\n",
       "    </tr>\n",
       "    <tr>\n",
       "      <th>2</th>\n",
       "      <td>BG</td>\n",
       "      <td>16018</td>\n",
       "      <td>BAGNATICA</td>\n",
       "      <td>A</td>\n",
       "      <td>4119</td>\n",
       "      <td>639</td>\n",
       "    </tr>\n",
       "    <tr>\n",
       "      <th>3</th>\n",
       "      <td>BG</td>\n",
       "      <td>16020</td>\n",
       "      <td>BARIANO</td>\n",
       "      <td>A</td>\n",
       "      <td>4396</td>\n",
       "      <td>714</td>\n",
       "    </tr>\n",
       "    <tr>\n",
       "      <th>4</th>\n",
       "      <td>BG</td>\n",
       "      <td>16021</td>\n",
       "      <td>BARZANO'</td>\n",
       "      <td>A</td>\n",
       "      <td>5178</td>\n",
       "      <td>356</td>\n",
       "    </tr>\n",
       "  </tbody>\n",
       "</table>\n",
       "</div>"
      ],
      "text/plain": [
       "  Provincia  Codice Istat         Comune Zona  Residenti 2008  Superficie (ha)\n",
       "0        BG         16009       AMBIVERE    A            2341              327\n",
       "1        BG         16013  ARZAGO D'ADDA    A            2836              944\n",
       "2        BG         16018      BAGNATICA    A            4119              639\n",
       "3        BG         16020        BARIANO    A            4396              714\n",
       "4        BG         16021       BARZANO'    A            5178              356"
      ]
     },
     "execution_count": 14,
     "metadata": {},
     "output_type": "execute_result"
    }
   ],
   "source": [
    "zonizzazione = pd.read_csv(f'{path}zonizzazione/zonizzazione_ABCD.csv', dtype = {'Zona': 'category'})\n",
    "zonizzazione.head()\n",
    "#sum(zonizzazione['Residenti 2008'])"
   ]
  },
  {
   "cell_type": "code",
   "execution_count": 15,
   "id": "4de2d2d3",
   "metadata": {
    "ExecuteTime": {
     "end_time": "2022-01-04T16:50:10.162230Z",
     "start_time": "2022-01-04T16:50:10.147200Z"
    }
   },
   "outputs": [
    {
     "data": {
      "text/plain": [
       "B         448\n",
       "C         423\n",
       "A         406\n",
       "AGG MI    107\n",
       "C D       102\n",
       "AGG BG     37\n",
       "AGG BS     20\n",
       "D           2\n",
       "Name: Zona, dtype: int64"
      ]
     },
     "execution_count": 15,
     "metadata": {},
     "output_type": "execute_result"
    }
   ],
   "source": [
    "zonizzazione['Zona'].value_counts()"
   ]
  },
  {
   "cell_type": "markdown",
   "id": "d83924c3",
   "metadata": {},
   "source": [
    "# Analisi esplorativa"
   ]
  },
  {
   "cell_type": "markdown",
   "id": "07b67b84",
   "metadata": {},
   "source": [
    "- verificare quali siano tutte le quantità uniche rilevate dai sensori qualità dell'aria\n",
    "- quali siano i gruppi di inquinanti principali\n",
    "- quali siano i limiti di assunzione umana (gionralieri e annuali)\n",
    "    - Vedi [qui](https://www.arpalombardia.it/Pages/Aria/Inquinanti.aspx) per limiti e piccola descrizione\n",
    "    - Vedi [qui](https://www.regione.lombardia.it/wps/portal/istituzionale/HP/DettaglioRedazionale/servizi-e-informazioni/cittadini/salute-e-prevenzione/Sicurezza-negli-ambienti-di-vita-e-di-lavoro/inquinamento-atmosferico/inquinamento-atmosferico/) per approfondimento"
   ]
  },
  {
   "cell_type": "markdown",
   "id": "5b39d5d1",
   "metadata": {},
   "source": [
    "Numero di sensori per ogni tipologia"
   ]
  },
  {
   "cell_type": "code",
   "execution_count": 16,
   "id": "cbca3194",
   "metadata": {
    "ExecuteTime": {
     "end_time": "2022-01-04T16:50:10.178230Z",
     "start_time": "2022-01-04T16:50:10.163199Z"
    }
   },
   "outputs": [
    {
     "data": {
      "text/plain": [
       "Biossido di Azoto             166\n",
       "Ossidi di Azoto               166\n",
       "Biossido di Zolfo             125\n",
       "Monossido di Carbonio         101\n",
       "Ozono                          91\n",
       "PM10 (SM2005)                  90\n",
       "Particolato Totale Sospeso     55\n",
       "Particelle sospese PM2.5       40\n",
       "Benzene                        32\n",
       "Nikel                          15\n",
       "Piombo                         15\n",
       "Arsenico                       15\n",
       "Cadmio                         15\n",
       "Benzo(a)pirene                 15\n",
       "Ammoniaca                      14\n",
       "PM10                            4\n",
       "BlackCarbon                     4\n",
       "Monossido di Azoto              3\n",
       "Name: NomeTipoSensore, dtype: int64"
      ]
     },
     "execution_count": 16,
     "metadata": {},
     "output_type": "execute_result"
    }
   ],
   "source": [
    "sensori_aria['NomeTipoSensore'].value_counts()"
   ]
  },
  {
   "cell_type": "markdown",
   "id": "619a353b",
   "metadata": {},
   "source": [
    "- Si potrebbero considerare solo gli inquinanti **più importanti e con più stazioni**\n",
    "- Ovvero **Biossido di Azoto | PM10 (SM2005) e PM2,5 e/o Particolato totale | Ozono troposferico | Bisossido di Zolfo**\n",
    "- Facoltativi perchè non presenti nella valutazione della qualità dell'aria [qui](https://www.arpalombardia.it/Pages/Aria/Modellistica/Indice-qualit%C3%A0-aria.aspx): Monossido di carbonio e benzene"
   ]
  },
  {
   "cell_type": "markdown",
   "id": "8e7c8737",
   "metadata": {},
   "source": [
    "## Missing value e valori non validi"
   ]
  },
  {
   "cell_type": "markdown",
   "id": "b8a8e8a9",
   "metadata": {},
   "source": [
    "Voglio verificare i *dati invalidi* presenti nei due dataset dei dati\n",
    "- Solo validi per il meteo"
   ]
  },
  {
   "cell_type": "code",
   "execution_count": 17,
   "id": "9367db0c",
   "metadata": {
    "ExecuteTime": {
     "end_time": "2022-01-04T16:50:10.209374Z",
     "start_time": "2022-01-04T16:50:10.179198Z"
    }
   },
   "outputs": [
    {
     "data": {
      "text/plain": [
       "108373"
      ]
     },
     "execution_count": 17,
     "metadata": {},
     "output_type": "execute_result"
    }
   ],
   "source": [
    "aria_20_21['Valore'].isna().sum()\n",
    "#meteo_21['Stato'].value_counts(dropna = False)"
   ]
  },
  {
   "cell_type": "markdown",
   "id": "e4f9fc26",
   "metadata": {},
   "source": [
    "- Un discreto numero di NaN nei dati sulla qualità dell'aria (c'è congruenza tra i NaN di stato e di valore)"
   ]
  },
  {
   "cell_type": "code",
   "execution_count": 18,
   "id": "94d9b0f4",
   "metadata": {
    "ExecuteTime": {
     "end_time": "2022-01-04T16:50:10.720466Z",
     "start_time": "2022-01-04T16:50:10.210372Z"
    }
   },
   "outputs": [
    {
     "data": {
      "text/plain": [
       "VA     5137703\n",
       "NaN     108373\n",
       "Name: Stato, dtype: int64"
      ]
     },
     "execution_count": 18,
     "metadata": {},
     "output_type": "execute_result"
    }
   ],
   "source": [
    "aria_20_21['Stato'].value_counts(dropna = False)"
   ]
  },
  {
   "cell_type": "code",
   "execution_count": 19,
   "id": "a2609575",
   "metadata": {
    "ExecuteTime": {
     "end_time": "2022-01-04T16:50:10.752377Z",
     "start_time": "2022-01-04T16:50:10.722371Z"
    }
   },
   "outputs": [
    {
     "data": {
      "text/plain": [
       "108373"
      ]
     },
     "execution_count": 19,
     "metadata": {},
     "output_type": "execute_result"
    }
   ],
   "source": [
    "aria_20_21['Valore'].isna().sum()"
   ]
  },
  {
   "cell_type": "markdown",
   "id": "a26dd232",
   "metadata": {},
   "source": [
    "## Riduzione dimensioni\n",
    "\n",
    "Meteo: 343 stazioni con 1262 sensori\n",
    "\n",
    "Aria: 174 stazioni con 966 sensori\n",
    "\n",
    "Zonizzazione: 9 826 141 abitanti in 1546 comuni divisi in 7 o 8 zone\n",
    "\n",
    "#### Riduzione dimensioni `aria_20_21` (eventuale `meteo_21`)\n",
    "##### Rimozione righe mancanti\n",
    "- L'invalidità del dato è descritta sia dall'attributo `Stato` che dalla presenza di NaN in `Valore`\n",
    "- MA (VA = dato valido NA = dato invalido I dati presenti in questo archivio relativi agli ultimi 3-6 mesi, contengono ancora valori incerti che possono subire modifiche da parte degli operatori delle reti (invalidazione manuale). Il processo di validazione dei dati prevede una fase di valutazione finale che si conclude entro il 30.3 dell’anno successivo a quello di misura)"
   ]
  },
  {
   "cell_type": "code",
   "execution_count": 20,
   "id": "9fddda11",
   "metadata": {
    "ExecuteTime": {
     "end_time": "2022-01-04T16:50:11.481435Z",
     "start_time": "2022-01-04T16:50:10.754372Z"
    }
   },
   "outputs": [
    {
     "data": {
      "text/plain": [
       "(5137703, 5)"
      ]
     },
     "execution_count": 20,
     "metadata": {},
     "output_type": "execute_result"
    }
   ],
   "source": [
    "aria_20_21.dropna(subset = ['Valore', 'Stato'], inplace = True)\n",
    "aria_20_21.shape"
   ]
  },
  {
   "cell_type": "markdown",
   "id": "874e7003",
   "metadata": {},
   "source": [
    "#### Rimozione sensori di grandezze minori\n",
    "- da `stazioni_aria` e `aria_20_21` trovare solo gli `IdSensore` di tipologia utile\n",
    "- Biossido di Azoto | PM10 (SM2005) e PM2,5 e/o Particolato totale | Ozono troposferico | Bisossido di Zolfo \n",
    "- Come categorie minori decido di tenere momentaneamente *Monossido di carbonio, benzene, Ossidi di Azoto e PM10*"
   ]
  },
  {
   "cell_type": "code",
   "execution_count": 21,
   "id": "a8200540",
   "metadata": {
    "ExecuteTime": {
     "end_time": "2022-01-04T16:50:11.496373Z",
     "start_time": "2022-01-04T16:50:11.482374Z"
    }
   },
   "outputs": [
    {
     "data": {
      "text/plain": [
       "Biossido di Azoto             166\n",
       "Ossidi di Azoto               166\n",
       "Biossido di Zolfo             125\n",
       "Monossido di Carbonio         101\n",
       "Ozono                          91\n",
       "PM10 (SM2005)                  90\n",
       "Particolato Totale Sospeso     55\n",
       "Particelle sospese PM2.5       40\n",
       "Benzene                        32\n",
       "Nikel                          15\n",
       "Piombo                         15\n",
       "Arsenico                       15\n",
       "Cadmio                         15\n",
       "Benzo(a)pirene                 15\n",
       "Ammoniaca                      14\n",
       "PM10                            4\n",
       "BlackCarbon                     4\n",
       "Monossido di Azoto              3\n",
       "Name: NomeTipoSensore, dtype: int64"
      ]
     },
     "execution_count": 21,
     "metadata": {},
     "output_type": "execute_result"
    }
   ],
   "source": [
    "sensori_aria['NomeTipoSensore'].value_counts()"
   ]
  },
  {
   "cell_type": "code",
   "execution_count": 22,
   "id": "205823f0",
   "metadata": {
    "ExecuteTime": {
     "end_time": "2022-01-04T16:50:11.511380Z",
     "start_time": "2022-01-04T16:50:11.498373Z"
    }
   },
   "outputs": [],
   "source": [
    "grandezze_di_interesse = ['Biossido di Azoto',\n",
    " 'PM10 (SM2005)',\n",
    " 'Ossidi di Azoto',\n",
    " 'Ozono',\n",
    " 'Biossido di Zolfo',\n",
    " 'Particolato Totale Sospeso',\n",
    " 'Monossido di Carbonio',\n",
    " 'Particelle sospese PM2.5',\n",
    " 'PM10',\n",
    " 'Benzene']\n",
    "sensori_aria.drop(sensori_aria[~sensori_aria['NomeTipoSensore'].isin(grandezze_di_interesse)].index, inplace = True)"
   ]
  },
  {
   "cell_type": "markdown",
   "id": "532a1406",
   "metadata": {},
   "source": [
    "## JOIN"
   ]
  },
  {
   "cell_type": "markdown",
   "id": "16a77ed9",
   "metadata": {},
   "source": [
    "Inner join tra `aria_20_21` e `sensori_aria` a dare `aria_e_sensori_20_21`"
   ]
  },
  {
   "cell_type": "code",
   "execution_count": 23,
   "id": "c524de53",
   "metadata": {
    "ExecuteTime": {
     "end_time": "2022-01-04T16:50:15.209593Z",
     "start_time": "2022-01-04T16:50:11.515379Z"
    },
    "scrolled": true
   },
   "outputs": [
    {
     "data": {
      "text/html": [
       "<div>\n",
       "<style scoped>\n",
       "    .dataframe tbody tr th:only-of-type {\n",
       "        vertical-align: middle;\n",
       "    }\n",
       "\n",
       "    .dataframe tbody tr th {\n",
       "        vertical-align: top;\n",
       "    }\n",
       "\n",
       "    .dataframe thead th {\n",
       "        text-align: right;\n",
       "    }\n",
       "</style>\n",
       "<table border=\"1\" class=\"dataframe\">\n",
       "  <thead>\n",
       "    <tr style=\"text-align: right;\">\n",
       "      <th></th>\n",
       "      <th>IdSensore</th>\n",
       "      <th>Data</th>\n",
       "      <th>Valore</th>\n",
       "      <th>Stato</th>\n",
       "      <th>idOperatore</th>\n",
       "      <th>NomeTipoSensore</th>\n",
       "      <th>UnitaMisura</th>\n",
       "      <th>Idstazione</th>\n",
       "      <th>NomeStazione</th>\n",
       "      <th>Quota</th>\n",
       "      <th>Provincia</th>\n",
       "      <th>Comune</th>\n",
       "      <th>Storico</th>\n",
       "      <th>DataStart</th>\n",
       "      <th>DataStop</th>\n",
       "      <th>Utm_Nord</th>\n",
       "      <th>UTM_Est</th>\n",
       "      <th>lat</th>\n",
       "      <th>lng</th>\n",
       "      <th>location</th>\n",
       "    </tr>\n",
       "  </thead>\n",
       "  <tbody>\n",
       "    <tr>\n",
       "      <th>0</th>\n",
       "      <td>6411</td>\n",
       "      <td>2020-01-01 00:00:00</td>\n",
       "      <td>1.0</td>\n",
       "      <td>VA</td>\n",
       "      <td>1</td>\n",
       "      <td>Monossido di Carbonio</td>\n",
       "      <td>mg/m³</td>\n",
       "      <td>627</td>\n",
       "      <td>Cremona P.zza Cadorna</td>\n",
       "      <td>39.0</td>\n",
       "      <td>CR</td>\n",
       "      <td>Cremona</td>\n",
       "      <td>N</td>\n",
       "      <td>1997-12-12</td>\n",
       "      <td>NaT</td>\n",
       "      <td>4998110</td>\n",
       "      <td>579872</td>\n",
       "      <td>45.131947</td>\n",
       "      <td>10.015742</td>\n",
       "      <td>(45.13194691285173, 10.015741513336042)</td>\n",
       "    </tr>\n",
       "    <tr>\n",
       "      <th>1</th>\n",
       "      <td>6411</td>\n",
       "      <td>2020-01-01 01:00:00</td>\n",
       "      <td>1.0</td>\n",
       "      <td>VA</td>\n",
       "      <td>1</td>\n",
       "      <td>Monossido di Carbonio</td>\n",
       "      <td>mg/m³</td>\n",
       "      <td>627</td>\n",
       "      <td>Cremona P.zza Cadorna</td>\n",
       "      <td>39.0</td>\n",
       "      <td>CR</td>\n",
       "      <td>Cremona</td>\n",
       "      <td>N</td>\n",
       "      <td>1997-12-12</td>\n",
       "      <td>NaT</td>\n",
       "      <td>4998110</td>\n",
       "      <td>579872</td>\n",
       "      <td>45.131947</td>\n",
       "      <td>10.015742</td>\n",
       "      <td>(45.13194691285173, 10.015741513336042)</td>\n",
       "    </tr>\n",
       "    <tr>\n",
       "      <th>2</th>\n",
       "      <td>6411</td>\n",
       "      <td>2020-01-01 02:00:00</td>\n",
       "      <td>1.1</td>\n",
       "      <td>VA</td>\n",
       "      <td>1</td>\n",
       "      <td>Monossido di Carbonio</td>\n",
       "      <td>mg/m³</td>\n",
       "      <td>627</td>\n",
       "      <td>Cremona P.zza Cadorna</td>\n",
       "      <td>39.0</td>\n",
       "      <td>CR</td>\n",
       "      <td>Cremona</td>\n",
       "      <td>N</td>\n",
       "      <td>1997-12-12</td>\n",
       "      <td>NaT</td>\n",
       "      <td>4998110</td>\n",
       "      <td>579872</td>\n",
       "      <td>45.131947</td>\n",
       "      <td>10.015742</td>\n",
       "      <td>(45.13194691285173, 10.015741513336042)</td>\n",
       "    </tr>\n",
       "    <tr>\n",
       "      <th>3</th>\n",
       "      <td>6411</td>\n",
       "      <td>2020-01-01 03:00:00</td>\n",
       "      <td>0.9</td>\n",
       "      <td>VA</td>\n",
       "      <td>1</td>\n",
       "      <td>Monossido di Carbonio</td>\n",
       "      <td>mg/m³</td>\n",
       "      <td>627</td>\n",
       "      <td>Cremona P.zza Cadorna</td>\n",
       "      <td>39.0</td>\n",
       "      <td>CR</td>\n",
       "      <td>Cremona</td>\n",
       "      <td>N</td>\n",
       "      <td>1997-12-12</td>\n",
       "      <td>NaT</td>\n",
       "      <td>4998110</td>\n",
       "      <td>579872</td>\n",
       "      <td>45.131947</td>\n",
       "      <td>10.015742</td>\n",
       "      <td>(45.13194691285173, 10.015741513336042)</td>\n",
       "    </tr>\n",
       "    <tr>\n",
       "      <th>4</th>\n",
       "      <td>6411</td>\n",
       "      <td>2020-01-01 04:00:00</td>\n",
       "      <td>0.9</td>\n",
       "      <td>VA</td>\n",
       "      <td>1</td>\n",
       "      <td>Monossido di Carbonio</td>\n",
       "      <td>mg/m³</td>\n",
       "      <td>627</td>\n",
       "      <td>Cremona P.zza Cadorna</td>\n",
       "      <td>39.0</td>\n",
       "      <td>CR</td>\n",
       "      <td>Cremona</td>\n",
       "      <td>N</td>\n",
       "      <td>1997-12-12</td>\n",
       "      <td>NaT</td>\n",
       "      <td>4998110</td>\n",
       "      <td>579872</td>\n",
       "      <td>45.131947</td>\n",
       "      <td>10.015742</td>\n",
       "      <td>(45.13194691285173, 10.015741513336042)</td>\n",
       "    </tr>\n",
       "  </tbody>\n",
       "</table>\n",
       "</div>"
      ],
      "text/plain": [
       "   IdSensore                Data  Valore Stato  idOperatore  \\\n",
       "0       6411 2020-01-01 00:00:00     1.0    VA            1   \n",
       "1       6411 2020-01-01 01:00:00     1.0    VA            1   \n",
       "2       6411 2020-01-01 02:00:00     1.1    VA            1   \n",
       "3       6411 2020-01-01 03:00:00     0.9    VA            1   \n",
       "4       6411 2020-01-01 04:00:00     0.9    VA            1   \n",
       "\n",
       "         NomeTipoSensore UnitaMisura  Idstazione           NomeStazione  \\\n",
       "0  Monossido di Carbonio       mg/m³         627  Cremona P.zza Cadorna   \n",
       "1  Monossido di Carbonio       mg/m³         627  Cremona P.zza Cadorna   \n",
       "2  Monossido di Carbonio       mg/m³         627  Cremona P.zza Cadorna   \n",
       "3  Monossido di Carbonio       mg/m³         627  Cremona P.zza Cadorna   \n",
       "4  Monossido di Carbonio       mg/m³         627  Cremona P.zza Cadorna   \n",
       "\n",
       "   Quota Provincia   Comune Storico  DataStart DataStop  Utm_Nord  UTM_Est  \\\n",
       "0   39.0        CR  Cremona       N 1997-12-12      NaT   4998110   579872   \n",
       "1   39.0        CR  Cremona       N 1997-12-12      NaT   4998110   579872   \n",
       "2   39.0        CR  Cremona       N 1997-12-12      NaT   4998110   579872   \n",
       "3   39.0        CR  Cremona       N 1997-12-12      NaT   4998110   579872   \n",
       "4   39.0        CR  Cremona       N 1997-12-12      NaT   4998110   579872   \n",
       "\n",
       "         lat        lng                                 location  \n",
       "0  45.131947  10.015742  (45.13194691285173, 10.015741513336042)  \n",
       "1  45.131947  10.015742  (45.13194691285173, 10.015741513336042)  \n",
       "2  45.131947  10.015742  (45.13194691285173, 10.015741513336042)  \n",
       "3  45.131947  10.015742  (45.13194691285173, 10.015741513336042)  \n",
       "4  45.131947  10.015742  (45.13194691285173, 10.015741513336042)  "
      ]
     },
     "execution_count": 23,
     "metadata": {},
     "output_type": "execute_result"
    }
   ],
   "source": [
    "aria_e_sensori_20_21 = pd.merge(aria_20_21, sensori_aria, how = 'inner', on = 'IdSensore')\n",
    "aria_e_sensori_20_21.head()"
   ]
  },
  {
   "cell_type": "markdown",
   "id": "df218000",
   "metadata": {},
   "source": [
    "Numero sensori con `DataStart` dopo il `2019-12-31`"
   ]
  },
  {
   "cell_type": "code",
   "execution_count": 24,
   "id": "b640ef48",
   "metadata": {
    "ExecuteTime": {
     "end_time": "2022-01-04T16:50:15.736593Z",
     "start_time": "2022-01-04T16:50:15.211597Z"
    }
   },
   "outputs": [
    {
     "data": {
      "text/plain": [
       "13043"
      ]
     },
     "execution_count": 24,
     "metadata": {},
     "output_type": "execute_result"
    }
   ],
   "source": [
    "sum(aria_e_sensori_20_21['DataStart'] > '2019-12-31')"
   ]
  },
  {
   "cell_type": "markdown",
   "id": "cc4f14b6",
   "metadata": {},
   "source": [
    "Numero sensori con `DataStop` diversa da NA"
   ]
  },
  {
   "cell_type": "code",
   "execution_count": 25,
   "id": "b0a1d601",
   "metadata": {
    "ExecuteTime": {
     "end_time": "2022-01-04T16:50:16.247640Z",
     "start_time": "2022-01-04T16:50:15.737591Z"
    }
   },
   "outputs": [
    {
     "data": {
      "text/plain": [
       "0"
      ]
     },
     "execution_count": 25,
     "metadata": {},
     "output_type": "execute_result"
    }
   ],
   "source": [
    "sum(~aria_e_sensori_20_21['DataStop'].isna())"
   ]
  },
  {
   "cell_type": "markdown",
   "id": "1ae5cecc",
   "metadata": {},
   "source": [
    "- inner joint tra `aria_xx` e `meteo_xx` con stazioni filtrate\n",
    "- left joint (non case sensitive) con dataset `zonizzazione` rispetto a `Comune` tenendo solo la colonna `Zona`\n",
    "- tenere solo stazioni meteo dove ci sono stazioni aria (joint su `lat` e `lng`?)\n",
    "- salvare i nuovi dataset in formato parquet"
   ]
  },
  {
   "cell_type": "markdown",
   "id": "8617ef9b",
   "metadata": {
    "ExecuteTime": {
     "end_time": "2022-01-04T15:50:08.169755Z",
     "start_time": "2022-01-04T15:50:08.157755Z"
    }
   },
   "source": [
    "Inner joint tra `aria_e_sensori_20_21` e `zonizzazione` a dare `aria_e_sensori_e_zone_20_21`"
   ]
  },
  {
   "cell_type": "code",
   "execution_count": 26,
   "id": "5740e406",
   "metadata": {
    "ExecuteTime": {
     "end_time": "2022-01-04T16:50:19.998625Z",
     "start_time": "2022-01-04T16:50:16.248591Z"
    }
   },
   "outputs": [
    {
     "data": {
      "text/html": [
       "<div>\n",
       "<style scoped>\n",
       "    .dataframe tbody tr th:only-of-type {\n",
       "        vertical-align: middle;\n",
       "    }\n",
       "\n",
       "    .dataframe tbody tr th {\n",
       "        vertical-align: top;\n",
       "    }\n",
       "\n",
       "    .dataframe thead th {\n",
       "        text-align: right;\n",
       "    }\n",
       "</style>\n",
       "<table border=\"1\" class=\"dataframe\">\n",
       "  <thead>\n",
       "    <tr style=\"text-align: right;\">\n",
       "      <th></th>\n",
       "      <th>key_0</th>\n",
       "      <th>IdSensore</th>\n",
       "      <th>Data</th>\n",
       "      <th>Valore</th>\n",
       "      <th>Stato</th>\n",
       "      <th>idOperatore</th>\n",
       "      <th>NomeTipoSensore</th>\n",
       "      <th>UnitaMisura</th>\n",
       "      <th>Idstazione</th>\n",
       "      <th>NomeStazione</th>\n",
       "      <th>...</th>\n",
       "      <th>DataStop</th>\n",
       "      <th>Utm_Nord</th>\n",
       "      <th>UTM_Est</th>\n",
       "      <th>lat</th>\n",
       "      <th>lng</th>\n",
       "      <th>location</th>\n",
       "      <th>Codice Istat</th>\n",
       "      <th>Zona</th>\n",
       "      <th>Residenti 2008</th>\n",
       "      <th>Superficie (ha)</th>\n",
       "    </tr>\n",
       "  </thead>\n",
       "  <tbody>\n",
       "    <tr>\n",
       "      <th>0</th>\n",
       "      <td>cremona</td>\n",
       "      <td>6411</td>\n",
       "      <td>2020-01-01 00:00:00</td>\n",
       "      <td>1.0</td>\n",
       "      <td>VA</td>\n",
       "      <td>1</td>\n",
       "      <td>Monossido di Carbonio</td>\n",
       "      <td>mg/m³</td>\n",
       "      <td>627</td>\n",
       "      <td>Cremona P.zza Cadorna</td>\n",
       "      <td>...</td>\n",
       "      <td>NaT</td>\n",
       "      <td>4998110</td>\n",
       "      <td>579872</td>\n",
       "      <td>45.131947</td>\n",
       "      <td>10.015742</td>\n",
       "      <td>(45.13194691285173, 10.015741513336042)</td>\n",
       "      <td>19036</td>\n",
       "      <td>A</td>\n",
       "      <td>72248</td>\n",
       "      <td>7029</td>\n",
       "    </tr>\n",
       "    <tr>\n",
       "      <th>1</th>\n",
       "      <td>cremona</td>\n",
       "      <td>6411</td>\n",
       "      <td>2020-01-01 01:00:00</td>\n",
       "      <td>1.0</td>\n",
       "      <td>VA</td>\n",
       "      <td>1</td>\n",
       "      <td>Monossido di Carbonio</td>\n",
       "      <td>mg/m³</td>\n",
       "      <td>627</td>\n",
       "      <td>Cremona P.zza Cadorna</td>\n",
       "      <td>...</td>\n",
       "      <td>NaT</td>\n",
       "      <td>4998110</td>\n",
       "      <td>579872</td>\n",
       "      <td>45.131947</td>\n",
       "      <td>10.015742</td>\n",
       "      <td>(45.13194691285173, 10.015741513336042)</td>\n",
       "      <td>19036</td>\n",
       "      <td>A</td>\n",
       "      <td>72248</td>\n",
       "      <td>7029</td>\n",
       "    </tr>\n",
       "    <tr>\n",
       "      <th>2</th>\n",
       "      <td>cremona</td>\n",
       "      <td>6411</td>\n",
       "      <td>2020-01-01 02:00:00</td>\n",
       "      <td>1.1</td>\n",
       "      <td>VA</td>\n",
       "      <td>1</td>\n",
       "      <td>Monossido di Carbonio</td>\n",
       "      <td>mg/m³</td>\n",
       "      <td>627</td>\n",
       "      <td>Cremona P.zza Cadorna</td>\n",
       "      <td>...</td>\n",
       "      <td>NaT</td>\n",
       "      <td>4998110</td>\n",
       "      <td>579872</td>\n",
       "      <td>45.131947</td>\n",
       "      <td>10.015742</td>\n",
       "      <td>(45.13194691285173, 10.015741513336042)</td>\n",
       "      <td>19036</td>\n",
       "      <td>A</td>\n",
       "      <td>72248</td>\n",
       "      <td>7029</td>\n",
       "    </tr>\n",
       "    <tr>\n",
       "      <th>3</th>\n",
       "      <td>cremona</td>\n",
       "      <td>6411</td>\n",
       "      <td>2020-01-01 03:00:00</td>\n",
       "      <td>0.9</td>\n",
       "      <td>VA</td>\n",
       "      <td>1</td>\n",
       "      <td>Monossido di Carbonio</td>\n",
       "      <td>mg/m³</td>\n",
       "      <td>627</td>\n",
       "      <td>Cremona P.zza Cadorna</td>\n",
       "      <td>...</td>\n",
       "      <td>NaT</td>\n",
       "      <td>4998110</td>\n",
       "      <td>579872</td>\n",
       "      <td>45.131947</td>\n",
       "      <td>10.015742</td>\n",
       "      <td>(45.13194691285173, 10.015741513336042)</td>\n",
       "      <td>19036</td>\n",
       "      <td>A</td>\n",
       "      <td>72248</td>\n",
       "      <td>7029</td>\n",
       "    </tr>\n",
       "    <tr>\n",
       "      <th>4</th>\n",
       "      <td>cremona</td>\n",
       "      <td>6411</td>\n",
       "      <td>2020-01-01 04:00:00</td>\n",
       "      <td>0.9</td>\n",
       "      <td>VA</td>\n",
       "      <td>1</td>\n",
       "      <td>Monossido di Carbonio</td>\n",
       "      <td>mg/m³</td>\n",
       "      <td>627</td>\n",
       "      <td>Cremona P.zza Cadorna</td>\n",
       "      <td>...</td>\n",
       "      <td>NaT</td>\n",
       "      <td>4998110</td>\n",
       "      <td>579872</td>\n",
       "      <td>45.131947</td>\n",
       "      <td>10.015742</td>\n",
       "      <td>(45.13194691285173, 10.015741513336042)</td>\n",
       "      <td>19036</td>\n",
       "      <td>A</td>\n",
       "      <td>72248</td>\n",
       "      <td>7029</td>\n",
       "    </tr>\n",
       "  </tbody>\n",
       "</table>\n",
       "<p>5 rows × 25 columns</p>\n",
       "</div>"
      ],
      "text/plain": [
       "     key_0  IdSensore                Data  Valore Stato  idOperatore  \\\n",
       "0  cremona       6411 2020-01-01 00:00:00     1.0    VA            1   \n",
       "1  cremona       6411 2020-01-01 01:00:00     1.0    VA            1   \n",
       "2  cremona       6411 2020-01-01 02:00:00     1.1    VA            1   \n",
       "3  cremona       6411 2020-01-01 03:00:00     0.9    VA            1   \n",
       "4  cremona       6411 2020-01-01 04:00:00     0.9    VA            1   \n",
       "\n",
       "         NomeTipoSensore UnitaMisura  Idstazione           NomeStazione  ...  \\\n",
       "0  Monossido di Carbonio       mg/m³         627  Cremona P.zza Cadorna  ...   \n",
       "1  Monossido di Carbonio       mg/m³         627  Cremona P.zza Cadorna  ...   \n",
       "2  Monossido di Carbonio       mg/m³         627  Cremona P.zza Cadorna  ...   \n",
       "3  Monossido di Carbonio       mg/m³         627  Cremona P.zza Cadorna  ...   \n",
       "4  Monossido di Carbonio       mg/m³         627  Cremona P.zza Cadorna  ...   \n",
       "\n",
       "   DataStop Utm_Nord UTM_Est        lat        lng  \\\n",
       "0       NaT  4998110  579872  45.131947  10.015742   \n",
       "1       NaT  4998110  579872  45.131947  10.015742   \n",
       "2       NaT  4998110  579872  45.131947  10.015742   \n",
       "3       NaT  4998110  579872  45.131947  10.015742   \n",
       "4       NaT  4998110  579872  45.131947  10.015742   \n",
       "\n",
       "                                  location  Codice Istat  Zona  \\\n",
       "0  (45.13194691285173, 10.015741513336042)         19036     A   \n",
       "1  (45.13194691285173, 10.015741513336042)         19036     A   \n",
       "2  (45.13194691285173, 10.015741513336042)         19036     A   \n",
       "3  (45.13194691285173, 10.015741513336042)         19036     A   \n",
       "4  (45.13194691285173, 10.015741513336042)         19036     A   \n",
       "\n",
       "   Residenti 2008  Superficie (ha)  \n",
       "0           72248             7029  \n",
       "1           72248             7029  \n",
       "2           72248             7029  \n",
       "3           72248             7029  \n",
       "4           72248             7029  \n",
       "\n",
       "[5 rows x 25 columns]"
      ]
     },
     "execution_count": 26,
     "metadata": {},
     "output_type": "execute_result"
    }
   ],
   "source": [
    "aria_e_sensori_e_zone_20_21 = pd.merge(aria_e_sensori_20_21, zonizzazione[['Codice Istat', 'Zona', 'Residenti 2008', 'Superficie (ha)']], left_on = aria_e_sensori_20_21['Comune'].str.lower(), right_on = zonizzazione['Comune'].str.lower())\n",
    "aria_e_sensori_e_zone_20_21.head()"
   ]
  },
  {
   "cell_type": "code",
   "execution_count": 27,
   "id": "5463d2ff",
   "metadata": {
    "ExecuteTime": {
     "end_time": "2022-01-04T16:50:20.046592Z",
     "start_time": "2022-01-04T16:50:19.999594Z"
    }
   },
   "outputs": [
    {
     "data": {
      "text/plain": [
       "A         1693774\n",
       "AGG MI    1089709\n",
       "B         1059812\n",
       "AGG BG     365611\n",
       "AGG BS     325870\n",
       "C          321329\n",
       "C D        241321\n",
       "D               0\n",
       "Name: Zona, dtype: int64"
      ]
     },
     "execution_count": 27,
     "metadata": {},
     "output_type": "execute_result"
    }
   ],
   "source": [
    "aria_e_sensori_e_zone_20_21['Zona'].value_counts()"
   ]
  }
 ],
 "metadata": {
  "kernelspec": {
   "display_name": "Python 3",
   "language": "python",
   "name": "python3"
  },
  "language_info": {
   "codemirror_mode": {
    "name": "ipython",
    "version": 3
   },
   "file_extension": ".py",
   "mimetype": "text/x-python",
   "name": "python",
   "nbconvert_exporter": "python",
   "pygments_lexer": "ipython3",
   "version": "3.8.8"
  }
 },
 "nbformat": 4,
 "nbformat_minor": 5
}
