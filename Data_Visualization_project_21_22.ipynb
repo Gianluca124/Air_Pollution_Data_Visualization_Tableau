{
 "cells": [
  {
   "cell_type": "markdown",
   "id": "17da6281",
   "metadata": {},
   "source": [
    "# Importazione librerie"
   ]
  },
  {
   "cell_type": "code",
   "execution_count": 1,
   "id": "9d3725ae",
   "metadata": {
    "ExecuteTime": {
     "end_time": "2022-01-05T07:43:03.784377Z",
     "start_time": "2022-01-05T07:43:03.771377Z"
    }
   },
   "outputs": [
    {
     "data": {
      "text/html": [
       "<style>.container { width:90% !important; }</style>"
      ],
      "text/plain": [
       "<IPython.core.display.HTML object>"
      ]
     },
     "metadata": {},
     "output_type": "display_data"
    }
   ],
   "source": [
    "from IPython.core.display import display, HTML\n",
    "display(HTML(\"<style>.container { width:90% !important; }</style>\"))"
   ]
  },
  {
   "cell_type": "code",
   "execution_count": 74,
   "id": "416c0c91",
   "metadata": {
    "ExecuteTime": {
     "end_time": "2022-01-05T08:07:09.255553Z",
     "start_time": "2022-01-05T08:07:09.239547Z"
    }
   },
   "outputs": [],
   "source": [
    "import pandas as pd"
   ]
  },
  {
   "cell_type": "markdown",
   "id": "a4193c40",
   "metadata": {},
   "source": [
    "# Importazione e conversione datasets"
   ]
  },
  {
   "cell_type": "markdown",
   "id": "f1631d44",
   "metadata": {},
   "source": [
    "Data la grande dimensione di alcuni dei dataset utilizzati, questi verranno convertiti da `.csv` a `.parquet` (Apache Parquet Format)"
   ]
  },
  {
   "cell_type": "code",
   "execution_count": 3,
   "id": "3ee688d7",
   "metadata": {
    "ExecuteTime": {
     "end_time": "2022-01-05T07:43:04.338375Z",
     "start_time": "2022-01-05T07:43:04.326381Z"
    }
   },
   "outputs": [],
   "source": [
    "#df = pd.read_csv('./Datasets/Dati_sensori_meteo_2021.csv', low_memory=False)\n",
    "#df.to_parquet('./Datasets/Dati_sensori_meteo_2021.parquet')"
   ]
  },
  {
   "cell_type": "markdown",
   "id": "86fef283",
   "metadata": {},
   "source": [
    "Il codice sotto funziona ma riempie la RAM"
   ]
  },
  {
   "cell_type": "code",
   "execution_count": 4,
   "id": "6a813f34",
   "metadata": {
    "ExecuteTime": {
     "end_time": "2022-01-05T07:43:04.354375Z",
     "start_time": "2022-01-05T07:43:04.340377Z"
    }
   },
   "outputs": [],
   "source": [
    "#dtypes = {'IdSensore': 'string', 'Valore':'string'}\n",
    "#parse_dates\n",
    "#meteo = pd.concat(map(pd.read_parquet, [f'{path}Dati_sensori_meteo_2021_parte_1.parquet', f'{path}Dati_sensori_meteo_2021_parte_2.parquet']))\n",
    "#meteo.head()"
   ]
  },
  {
   "cell_type": "markdown",
   "id": "ebf630b9",
   "metadata": {},
   "source": [
    "Importazione datasets convertiti"
   ]
  },
  {
   "cell_type": "code",
   "execution_count": 5,
   "id": "0a548d31",
   "metadata": {
    "ExecuteTime": {
     "end_time": "2022-01-05T07:43:04.370375Z",
     "start_time": "2022-01-05T07:43:04.356375Z"
    }
   },
   "outputs": [],
   "source": [
    "path = './data/'"
   ]
  },
  {
   "cell_type": "markdown",
   "id": "2362e611",
   "metadata": {},
   "source": [
    "#### Rilevazioni sensori metereologiche\n",
    "##### Attributi: \n",
    "- IdSensore: \n",
    "    - Tipologia: Testo normale\n",
    "- Data: \n",
    "    - Data e ora, Marcatura oraria flessibile\n",
    "- Valore: \n",
    "    - Tipologia: numero\n",
    "    - Legenda: 9999 = dato mancante 888, 8888 = direzione vento variabile 777, 7777 = calma (solo per direzione di vento)\n",
    "- idOperatore\t\n",
    "    - *Molto utile per capire la dimensione del dato*\n",
    "    - LEGENDA: 1: Valore medio 3: Valore massimo 4: Valore cumulato (per la pioggia)\n",
    "    - Testo normale\n",
    "- Stato\t\n",
    "    - LEGENDA: VA, VV = dato valido NA, NV, NC = dato invalido NI = dato incerto ND = dato non disponibile\n",
    "    - Testo normale"
   ]
  },
  {
   "cell_type": "code",
   "execution_count": 6,
   "id": "af572608",
   "metadata": {
    "ExecuteTime": {
     "end_time": "2022-01-05T07:43:04.386376Z",
     "start_time": "2022-01-05T07:43:04.372376Z"
    }
   },
   "outputs": [],
   "source": [
    "#meteo_21 = pd.read_parquet(f'{path}/data_meteo/Dati_sensori_meteo_2021.parquet')\n",
    "#meteo_21.head()"
   ]
  },
  {
   "cell_type": "markdown",
   "id": "f624b390",
   "metadata": {},
   "source": [
    "#### Sensori metereologici\n",
    "##### Attributi: \n",
    "- **IdSensore**\n",
    "    - Foreign Key con vincolo di integrità referenziale a `IdSensore` di meteo_21\n",
    "    - Testo normale\n",
    "- **Tipologia**\n",
    "    - Grandezza misurata\n",
    "    - Testo normale\n",
    "- **Unità DiMisura**\n",
    "    - Unità di misura della grandezza\n",
    "    - Testo normale\n",
    "- IdStazione\t\n",
    "    - Numero identificativo della stazione (penso perchè ogni stazione può avere più sensori)\n",
    "    - Testo normale\n",
    "- NomeStazione\t\n",
    "    - Località della stazione (Spesso è 'Comune via' o 'Comune località)'\n",
    "    - Testo normale\n",
    "- Quota\t\n",
    "    - Altitudine\n",
    "    - Numero\n",
    "- Provincia\n",
    "    - Sigla della provincia\n",
    "    - Testo normale\n",
    "- DataStart\t\n",
    "    - Data e ora\n",
    "- DataStop\t\n",
    "    - Data e ora\n",
    "- Storico\t\n",
    "    - Noto che assume valori N e S ma non capisco cosa sia\n",
    "    - Testo normale\n",
    "- UTM_Nord\t\n",
    "    - Coordinata UTM nord (le cordinate utm permettono di individuare univocamente un punto sulla cartina terrestre)\n",
    "    - Testo normale\n",
    "- UTM_Est\t\n",
    "    - Coordinata UTM est\n",
    "    - Testo normale\n",
    "- lng\t\n",
    "    - Longitudine (senza simbolo gradi)\n",
    "    - Numero\n",
    "- lat\t\n",
    "    - Latitudine (senza simbolo gradi)\n",
    "    - Numero\n",
    "- location\t\n",
    "    - (latitudine°, longitudine°)\n",
    "    - Posizione\n",
    "    \n",
    "##### Grandezze disponibili\n",
    "Sono disponibili i dati delle grandezze:\n",
    "- Livello Idrometrico (cm)\n",
    "- Altezza neve (cm)\n",
    "- Precipitazione (mm)\n",
    "- Temperatura (°C)\n",
    "- Umidità Relativa (%)\n",
    "- Radiazione Globale (W/m2)\n",
    "- Velocità e Direzione Vento (m/s e gradi).\n",
    "- Velocità e direzione del vento (m/s e gradi N) raffica\n",
    "NB: l’orario del dato è \"ora solare\" e si riferisce alle osservazioni ottenute fino all’orario indicato."
   ]
  },
  {
   "cell_type": "code",
   "execution_count": 7,
   "id": "9c1aee03",
   "metadata": {
    "ExecuteTime": {
     "end_time": "2022-01-05T07:43:04.402376Z",
     "start_time": "2022-01-05T07:43:04.388377Z"
    }
   },
   "outputs": [],
   "source": [
    "#sensori_meteo = pd.read_csv(f'{path}Stazioni_Meteorologiche.csv', dtype = {'Tipologia': 'category'})\n",
    "#sensori_meteo.head()\n",
    "#stazioni_meteo['Tipologia'].value_counts()"
   ]
  },
  {
   "cell_type": "markdown",
   "id": "52634b34",
   "metadata": {},
   "source": [
    "### Rilevazioni sensori qualità dell'aria\n",
    "##### Attributi: \n",
    "- **IdSensore**: \n",
    "    - Identificativo Univoco che distingue il sensore\n",
    "    - Tipologia: Testo normale\n",
    "- **Data**: \n",
    "    - Data e ora, Marcatura oraria flessibile\n",
    "    - I dati forniti hanno frequenza oraria tranne PM10 e PM2.5 per i quali è fornita la media giornaliera.\n",
    "- **Valore**: \n",
    "    - Tipologia: numero\n",
    "    - LEGENDA:-9999 = dato mancante o invalido\n",
    "- **idOperatore**\n",
    "    - *Molto utile per capire la dimensione del dato*\n",
    "    - LEGENDA: 1: Valore medio \n",
    "    - In realtà: I dati forniti hanno frequenza oraria tranne PM10 e PM2.5 per i quali è fornita la media giornaliera.\n",
    "    - Testo normale\n",
    "- **Stato**\t\n",
    "    - VA = dato valido NA = dato invalido I dati presenti in questo archivio relativi agli ultimi 3-6 mesi, contengono ancora valori incerti che possono subire modifiche da parte degli operatori delle reti (invalidazione manuale). Il processo di validazione dei dati prevede una fase di valutazione finale che si conclude entro il 30.3 dell’anno successivo a quello di misura.\n",
    "    - Testo normale\n",
    "    \n",
    "##### Caratteristiche\n",
    "\n",
    "- La rete di rilevamento della qualità dell’aria di ARPA Lombardia è costituita da stazioni fisse che, per mezzo di analizzatori automatici, forniscono dati in continuo ad intervalli temporali regolari. \n",
    "- Le specie di inquinanti monitorate in continuo sono NOX, SO2, CO, O3, PM10, PM2.5 e benzene. A seconda del contesto ambientale nel quale è attivo il monitoraggio, diversa è la tipologia di inquinanti che è necessario rilevare. Pertanto, non tutte le stazioni sono dotate della medesima strumentazione analitica. \n",
    "- Le postazioni regionali sono distribuite su tutto il territorio regionale in funzione della densità abitativa e della tipologia di territorio rispettando i criteri definiti dal D.Lgs. 155/2010.\n",
    "- **I dati forniti hanno frequenza oraria tranne PM10 e PM2.5 per i quali è fornita la media giornaliera.**"
   ]
  },
  {
   "cell_type": "code",
   "execution_count": 8,
   "id": "89a4132a",
   "metadata": {
    "ExecuteTime": {
     "end_time": "2022-01-05T07:43:06.084409Z",
     "start_time": "2022-01-05T07:43:04.405376Z"
    },
    "scrolled": true
   },
   "outputs": [
    {
     "data": {
      "text/plain": [
       "(2625796, 5)"
      ]
     },
     "execution_count": 8,
     "metadata": {},
     "output_type": "execute_result"
    }
   ],
   "source": [
    "# Converto in importazione i -9999 in NA\n",
    "aria_21 = pd.read_csv(f'{path}/data_aria/Dati_sensori_aria_2021.csv', na_values=['-9999'])\n",
    "aria_21.shape"
   ]
  },
  {
   "cell_type": "code",
   "execution_count": 9,
   "id": "caa8b1af",
   "metadata": {
    "ExecuteTime": {
     "end_time": "2022-01-05T07:43:07.634407Z",
     "start_time": "2022-01-05T07:43:06.086376Z"
    }
   },
   "outputs": [
    {
     "data": {
      "text/plain": [
       "(2620280, 5)"
      ]
     },
     "execution_count": 9,
     "metadata": {},
     "output_type": "execute_result"
    }
   ],
   "source": [
    "# Converto in importazione i -9999 in NA\n",
    "aria_20 = pd.read_csv(f'{path}/data_aria/Dati_sensori_aria_2020.csv', na_values=['-9999'])\n",
    "aria_20.shape"
   ]
  },
  {
   "cell_type": "code",
   "execution_count": 10,
   "id": "f379c045",
   "metadata": {
    "ExecuteTime": {
     "end_time": "2022-01-05T07:43:08.046373Z",
     "start_time": "2022-01-05T07:43:07.635376Z"
    }
   },
   "outputs": [
    {
     "data": {
      "text/html": [
       "<div>\n",
       "<style scoped>\n",
       "    .dataframe tbody tr th:only-of-type {\n",
       "        vertical-align: middle;\n",
       "    }\n",
       "\n",
       "    .dataframe tbody tr th {\n",
       "        vertical-align: top;\n",
       "    }\n",
       "\n",
       "    .dataframe thead th {\n",
       "        text-align: right;\n",
       "    }\n",
       "</style>\n",
       "<table border=\"1\" class=\"dataframe\">\n",
       "  <thead>\n",
       "    <tr style=\"text-align: right;\">\n",
       "      <th></th>\n",
       "      <th>IdSensore</th>\n",
       "      <th>Data</th>\n",
       "      <th>Valore</th>\n",
       "      <th>Stato</th>\n",
       "      <th>idOperatore</th>\n",
       "    </tr>\n",
       "  </thead>\n",
       "  <tbody>\n",
       "    <tr>\n",
       "      <th>5246071</th>\n",
       "      <td>10331</td>\n",
       "      <td>19/12/2021 03:00:00 AM</td>\n",
       "      <td>45.7</td>\n",
       "      <td>VA</td>\n",
       "      <td>1</td>\n",
       "    </tr>\n",
       "    <tr>\n",
       "      <th>5246072</th>\n",
       "      <td>10333</td>\n",
       "      <td>24/12/2021 07:00:00 PM</td>\n",
       "      <td>39.8</td>\n",
       "      <td>VA</td>\n",
       "      <td>1</td>\n",
       "    </tr>\n",
       "    <tr>\n",
       "      <th>5246073</th>\n",
       "      <td>10331</td>\n",
       "      <td>20/12/2021 06:00:00 PM</td>\n",
       "      <td>27.6</td>\n",
       "      <td>VA</td>\n",
       "      <td>1</td>\n",
       "    </tr>\n",
       "    <tr>\n",
       "      <th>5246074</th>\n",
       "      <td>10333</td>\n",
       "      <td>25/12/2021 11:00:00 AM</td>\n",
       "      <td>84.7</td>\n",
       "      <td>VA</td>\n",
       "      <td>1</td>\n",
       "    </tr>\n",
       "    <tr>\n",
       "      <th>5246075</th>\n",
       "      <td>10331</td>\n",
       "      <td>21/12/2021 04:00:00 AM</td>\n",
       "      <td>34.3</td>\n",
       "      <td>VA</td>\n",
       "      <td>1</td>\n",
       "    </tr>\n",
       "  </tbody>\n",
       "</table>\n",
       "</div>"
      ],
      "text/plain": [
       "         IdSensore                    Data  Valore Stato  idOperatore\n",
       "5246071      10331  19/12/2021 03:00:00 AM    45.7    VA            1\n",
       "5246072      10333  24/12/2021 07:00:00 PM    39.8    VA            1\n",
       "5246073      10331  20/12/2021 06:00:00 PM    27.6    VA            1\n",
       "5246074      10333  25/12/2021 11:00:00 AM    84.7    VA            1\n",
       "5246075      10331  21/12/2021 04:00:00 AM    34.3    VA            1"
      ]
     },
     "execution_count": 10,
     "metadata": {},
     "output_type": "execute_result"
    }
   ],
   "source": [
    "aria_20_21 = pd.concat([aria_20, aria_21]).reset_index(drop=True)\n",
    "aria_20_21.tail()"
   ]
  },
  {
   "cell_type": "markdown",
   "id": "49cb46a0",
   "metadata": {},
   "source": [
    "Converto la data da stringa a oggetto data"
   ]
  },
  {
   "cell_type": "code",
   "execution_count": 11,
   "id": "25b7e9be",
   "metadata": {
    "ExecuteTime": {
     "end_time": "2022-01-05T07:43:11.146412Z",
     "start_time": "2022-01-05T07:43:08.048373Z"
    }
   },
   "outputs": [
    {
     "data": {
      "text/html": [
       "<div>\n",
       "<style scoped>\n",
       "    .dataframe tbody tr th:only-of-type {\n",
       "        vertical-align: middle;\n",
       "    }\n",
       "\n",
       "    .dataframe tbody tr th {\n",
       "        vertical-align: top;\n",
       "    }\n",
       "\n",
       "    .dataframe thead th {\n",
       "        text-align: right;\n",
       "    }\n",
       "</style>\n",
       "<table border=\"1\" class=\"dataframe\">\n",
       "  <thead>\n",
       "    <tr style=\"text-align: right;\">\n",
       "      <th></th>\n",
       "      <th>IdSensore</th>\n",
       "      <th>Data</th>\n",
       "      <th>Valore</th>\n",
       "      <th>Stato</th>\n",
       "      <th>idOperatore</th>\n",
       "    </tr>\n",
       "  </thead>\n",
       "  <tbody>\n",
       "    <tr>\n",
       "      <th>5246071</th>\n",
       "      <td>10331</td>\n",
       "      <td>2021-12-19 03:00:00</td>\n",
       "      <td>45.7</td>\n",
       "      <td>VA</td>\n",
       "      <td>1</td>\n",
       "    </tr>\n",
       "    <tr>\n",
       "      <th>5246072</th>\n",
       "      <td>10333</td>\n",
       "      <td>2021-12-24 19:00:00</td>\n",
       "      <td>39.8</td>\n",
       "      <td>VA</td>\n",
       "      <td>1</td>\n",
       "    </tr>\n",
       "    <tr>\n",
       "      <th>5246073</th>\n",
       "      <td>10331</td>\n",
       "      <td>2021-12-20 18:00:00</td>\n",
       "      <td>27.6</td>\n",
       "      <td>VA</td>\n",
       "      <td>1</td>\n",
       "    </tr>\n",
       "    <tr>\n",
       "      <th>5246074</th>\n",
       "      <td>10333</td>\n",
       "      <td>2021-12-25 11:00:00</td>\n",
       "      <td>84.7</td>\n",
       "      <td>VA</td>\n",
       "      <td>1</td>\n",
       "    </tr>\n",
       "    <tr>\n",
       "      <th>5246075</th>\n",
       "      <td>10331</td>\n",
       "      <td>2021-12-21 04:00:00</td>\n",
       "      <td>34.3</td>\n",
       "      <td>VA</td>\n",
       "      <td>1</td>\n",
       "    </tr>\n",
       "  </tbody>\n",
       "</table>\n",
       "</div>"
      ],
      "text/plain": [
       "         IdSensore                Data  Valore Stato  idOperatore\n",
       "5246071      10331 2021-12-19 03:00:00    45.7    VA            1\n",
       "5246072      10333 2021-12-24 19:00:00    39.8    VA            1\n",
       "5246073      10331 2021-12-20 18:00:00    27.6    VA            1\n",
       "5246074      10333 2021-12-25 11:00:00    84.7    VA            1\n",
       "5246075      10331 2021-12-21 04:00:00    34.3    VA            1"
      ]
     },
     "execution_count": 11,
     "metadata": {},
     "output_type": "execute_result"
    }
   ],
   "source": [
    "aria_20_21['Data'] = pd.to_datetime(aria_20_21['Data'])\n",
    "aria_20_21.tail()"
   ]
  },
  {
   "cell_type": "markdown",
   "id": "bafeeb6a",
   "metadata": {},
   "source": [
    "### Sensori qualità dell'aria\n",
    "##### Attributi: \n",
    "- IdSensore\n",
    "    - Foreign Key con vincolo di integrità referenziale a `IdSensore` di aria_21\n",
    "    - Testo normale\n",
    "- NomeTipoSensore\t\n",
    "    - Grandezza misurata\n",
    "    - Testo normale\n",
    "- Unità DiMisura\t\n",
    "    - Unità di misura della grandezza\n",
    "    - Testo normale\n",
    "- IdStazione\t\n",
    "    - Numero identificativo della stazione (penso perchè ogni stazione può avere più sensori)\n",
    "    - Testo normale\n",
    "- NomeStazione\t\n",
    "    - Località della stazione (Spesso è 'Comune via' o 'Comune località)'\n",
    "    - Testo normale\n",
    "- Quota\t\n",
    "    - Altitudine\n",
    "    - Numero\n",
    "- Provincia\n",
    "    - Sigla della provincia\n",
    "    - Testo normale\n",
    "- DataStart\t\n",
    "    - Data e ora\n",
    "- DataStop\t\n",
    "    - Data e ora\n",
    "- Storico\t\n",
    "    - Noto che assume valori N e S ma non capisco cosa sia\n",
    "    - Testo normale\n",
    "- UTM_Nord\t\n",
    "    - Coordinata UTM nord (le cordinate utm permettono di individuare univocamente un punto sulla cartina terrestre)\n",
    "    - Testo normale\n",
    "- UTM_Est\t\n",
    "    - Coordinata UTM est\n",
    "    - Testo normale\n",
    "- lng\t\n",
    "    - Longitudine (senza simbolo gradi)\n",
    "    - Numero\n",
    "- lat\t\n",
    "    - Latitudine (senza simbolo gradi)\n",
    "    - Numero\n",
    "- location\t\n",
    "    - (latitudine°, longitudine°)\n",
    "    - Posizione"
   ]
  },
  {
   "cell_type": "code",
   "execution_count": 35,
   "id": "5d433113",
   "metadata": {
    "ExecuteTime": {
     "end_time": "2022-01-05T07:54:27.218283Z",
     "start_time": "2022-01-05T07:54:27.165289Z"
    }
   },
   "outputs": [
    {
     "data": {
      "text/html": [
       "<div>\n",
       "<style scoped>\n",
       "    .dataframe tbody tr th:only-of-type {\n",
       "        vertical-align: middle;\n",
       "    }\n",
       "\n",
       "    .dataframe tbody tr th {\n",
       "        vertical-align: top;\n",
       "    }\n",
       "\n",
       "    .dataframe thead th {\n",
       "        text-align: right;\n",
       "    }\n",
       "</style>\n",
       "<table border=\"1\" class=\"dataframe\">\n",
       "  <thead>\n",
       "    <tr style=\"text-align: right;\">\n",
       "      <th></th>\n",
       "      <th>IdSensore</th>\n",
       "      <th>NomeTipoSensore</th>\n",
       "      <th>UnitaMisura</th>\n",
       "      <th>Idstazione</th>\n",
       "      <th>NomeStazione</th>\n",
       "      <th>Quota</th>\n",
       "      <th>Provincia</th>\n",
       "      <th>Comune</th>\n",
       "      <th>Storico</th>\n",
       "      <th>DataStart</th>\n",
       "      <th>DataStop</th>\n",
       "      <th>Utm_Nord</th>\n",
       "      <th>UTM_Est</th>\n",
       "      <th>lat</th>\n",
       "      <th>lng</th>\n",
       "      <th>location</th>\n",
       "    </tr>\n",
       "  </thead>\n",
       "  <tbody>\n",
       "    <tr>\n",
       "      <th>24</th>\n",
       "      <td>20497</td>\n",
       "      <td>Benzene</td>\n",
       "      <td>µg/m³</td>\n",
       "      <td>1801</td>\n",
       "      <td>Brescia v.Tartaglia</td>\n",
       "      <td>151.0</td>\n",
       "      <td>BS</td>\n",
       "      <td>Brescia</td>\n",
       "      <td>N</td>\n",
       "      <td>NaT</td>\n",
       "      <td>NaT</td>\n",
       "      <td>5043948</td>\n",
       "      <td>594556</td>\n",
       "      <td>45.542648</td>\n",
       "      <td>10.211205</td>\n",
       "      <td>(45.542647891822845, 10.211205215118259)</td>\n",
       "    </tr>\n",
       "    <tr>\n",
       "      <th>78</th>\n",
       "      <td>20495</td>\n",
       "      <td>Biossido di Azoto</td>\n",
       "      <td>µg/m³</td>\n",
       "      <td>1801</td>\n",
       "      <td>Brescia v.Tartaglia</td>\n",
       "      <td>151.0</td>\n",
       "      <td>BS</td>\n",
       "      <td>Brescia</td>\n",
       "      <td>N</td>\n",
       "      <td>NaT</td>\n",
       "      <td>NaT</td>\n",
       "      <td>5043948</td>\n",
       "      <td>594556</td>\n",
       "      <td>45.542648</td>\n",
       "      <td>10.211205</td>\n",
       "      <td>(45.542647891822845, 10.211205215118259)</td>\n",
       "    </tr>\n",
       "    <tr>\n",
       "      <th>122</th>\n",
       "      <td>20489</td>\n",
       "      <td>Ossidi di Azoto</td>\n",
       "      <td>µg/m³</td>\n",
       "      <td>1800</td>\n",
       "      <td>Brescia S.Polo</td>\n",
       "      <td>124.0</td>\n",
       "      <td>BS</td>\n",
       "      <td>Brescia</td>\n",
       "      <td>N</td>\n",
       "      <td>NaT</td>\n",
       "      <td>NaT</td>\n",
       "      <td>5040227</td>\n",
       "      <td>598141</td>\n",
       "      <td>45.508667</td>\n",
       "      <td>10.256370</td>\n",
       "      <td>(45.5086667998462, 10.256370247433845)</td>\n",
       "    </tr>\n",
       "    <tr>\n",
       "      <th>189</th>\n",
       "      <td>20492</td>\n",
       "      <td>Particelle sospese PM2.5</td>\n",
       "      <td>µg/m³</td>\n",
       "      <td>1800</td>\n",
       "      <td>Brescia S.Polo</td>\n",
       "      <td>124.0</td>\n",
       "      <td>BS</td>\n",
       "      <td>Brescia</td>\n",
       "      <td>N</td>\n",
       "      <td>NaT</td>\n",
       "      <td>NaT</td>\n",
       "      <td>5040227</td>\n",
       "      <td>598141</td>\n",
       "      <td>45.508667</td>\n",
       "      <td>10.256370</td>\n",
       "      <td>(45.5086667998462, 10.256370247433845)</td>\n",
       "    </tr>\n",
       "    <tr>\n",
       "      <th>297</th>\n",
       "      <td>20490</td>\n",
       "      <td>Monossido di Azoto</td>\n",
       "      <td>µg/m³</td>\n",
       "      <td>1800</td>\n",
       "      <td>Brescia S.Polo</td>\n",
       "      <td>124.0</td>\n",
       "      <td>BS</td>\n",
       "      <td>Brescia</td>\n",
       "      <td>N</td>\n",
       "      <td>NaT</td>\n",
       "      <td>NaT</td>\n",
       "      <td>5040227</td>\n",
       "      <td>598141</td>\n",
       "      <td>45.508667</td>\n",
       "      <td>10.256370</td>\n",
       "      <td>(45.5086667998462, 10.256370247433845)</td>\n",
       "    </tr>\n",
       "    <tr>\n",
       "      <th>314</th>\n",
       "      <td>20496</td>\n",
       "      <td>PM10 (SM2005)</td>\n",
       "      <td>µg/m³</td>\n",
       "      <td>1801</td>\n",
       "      <td>Brescia v.Tartaglia</td>\n",
       "      <td>151.0</td>\n",
       "      <td>BS</td>\n",
       "      <td>Brescia</td>\n",
       "      <td>N</td>\n",
       "      <td>NaT</td>\n",
       "      <td>NaT</td>\n",
       "      <td>5043948</td>\n",
       "      <td>594556</td>\n",
       "      <td>45.542648</td>\n",
       "      <td>10.211205</td>\n",
       "      <td>(45.542647891822845, 10.211205215118259)</td>\n",
       "    </tr>\n",
       "    <tr>\n",
       "      <th>416</th>\n",
       "      <td>20494</td>\n",
       "      <td>Monossido di Azoto</td>\n",
       "      <td>µg/m³</td>\n",
       "      <td>1801</td>\n",
       "      <td>Brescia v.Tartaglia</td>\n",
       "      <td>151.0</td>\n",
       "      <td>BS</td>\n",
       "      <td>Brescia</td>\n",
       "      <td>N</td>\n",
       "      <td>NaT</td>\n",
       "      <td>NaT</td>\n",
       "      <td>5043948</td>\n",
       "      <td>594556</td>\n",
       "      <td>45.542648</td>\n",
       "      <td>10.211205</td>\n",
       "      <td>(45.542647891822845, 10.211205215118259)</td>\n",
       "    </tr>\n",
       "    <tr>\n",
       "      <th>474</th>\n",
       "      <td>20488</td>\n",
       "      <td>Particelle sospese PM2.5</td>\n",
       "      <td>µg/m³</td>\n",
       "      <td>564</td>\n",
       "      <td>Erba v. Battisti</td>\n",
       "      <td>279.0</td>\n",
       "      <td>CO</td>\n",
       "      <td>Erba</td>\n",
       "      <td>N</td>\n",
       "      <td>NaT</td>\n",
       "      <td>NaT</td>\n",
       "      <td>5072803</td>\n",
       "      <td>517232</td>\n",
       "      <td>45.808574</td>\n",
       "      <td>9.221779</td>\n",
       "      <td>(45.808573806922965, 9.221779204488435)</td>\n",
       "    </tr>\n",
       "    <tr>\n",
       "      <th>583</th>\n",
       "      <td>20491</td>\n",
       "      <td>Biossido di Azoto</td>\n",
       "      <td>µg/m³</td>\n",
       "      <td>1800</td>\n",
       "      <td>Brescia S.Polo</td>\n",
       "      <td>124.0</td>\n",
       "      <td>BS</td>\n",
       "      <td>Brescia</td>\n",
       "      <td>N</td>\n",
       "      <td>NaT</td>\n",
       "      <td>NaT</td>\n",
       "      <td>5040227</td>\n",
       "      <td>598141</td>\n",
       "      <td>45.508667</td>\n",
       "      <td>10.256370</td>\n",
       "      <td>(45.5086667998462, 10.256370247433845)</td>\n",
       "    </tr>\n",
       "    <tr>\n",
       "      <th>659</th>\n",
       "      <td>20493</td>\n",
       "      <td>Ossidi di Azoto</td>\n",
       "      <td>µg/m³</td>\n",
       "      <td>1801</td>\n",
       "      <td>Brescia v.Tartaglia</td>\n",
       "      <td>151.0</td>\n",
       "      <td>BS</td>\n",
       "      <td>Brescia</td>\n",
       "      <td>N</td>\n",
       "      <td>NaT</td>\n",
       "      <td>NaT</td>\n",
       "      <td>5043948</td>\n",
       "      <td>594556</td>\n",
       "      <td>45.542648</td>\n",
       "      <td>10.211205</td>\n",
       "      <td>(45.542647891822845, 10.211205215118259)</td>\n",
       "    </tr>\n",
       "    <tr>\n",
       "      <th>802</th>\n",
       "      <td>29041</td>\n",
       "      <td>Benzene</td>\n",
       "      <td>µg/m³</td>\n",
       "      <td>561</td>\n",
       "      <td>Como v.Cattaneo</td>\n",
       "      <td>202.0</td>\n",
       "      <td>CO</td>\n",
       "      <td>Como</td>\n",
       "      <td>N</td>\n",
       "      <td>NaT</td>\n",
       "      <td>NaT</td>\n",
       "      <td>5073500</td>\n",
       "      <td>505203</td>\n",
       "      <td>45.815043</td>\n",
       "      <td>9.066971</td>\n",
       "      <td>(45.81504286011291, 9.06697137484454)</td>\n",
       "    </tr>\n",
       "    <tr>\n",
       "      <th>964</th>\n",
       "      <td>20523</td>\n",
       "      <td>Ammoniaca</td>\n",
       "      <td>µg/m³</td>\n",
       "      <td>583</td>\n",
       "      <td>Bergamo v.Meucci</td>\n",
       "      <td>249.0</td>\n",
       "      <td>BG</td>\n",
       "      <td>Bergamo</td>\n",
       "      <td>N</td>\n",
       "      <td>NaT</td>\n",
       "      <td>NaT</td>\n",
       "      <td>5059922</td>\n",
       "      <td>550116</td>\n",
       "      <td>45.691037</td>\n",
       "      <td>9.643651</td>\n",
       "      <td>(45.69103740547214, 9.643650579461385)</td>\n",
       "    </tr>\n",
       "  </tbody>\n",
       "</table>\n",
       "</div>"
      ],
      "text/plain": [
       "     IdSensore           NomeTipoSensore UnitaMisura  Idstazione  \\\n",
       "24       20497                   Benzene       µg/m³        1801   \n",
       "78       20495         Biossido di Azoto       µg/m³        1801   \n",
       "122      20489           Ossidi di Azoto       µg/m³        1800   \n",
       "189      20492  Particelle sospese PM2.5       µg/m³        1800   \n",
       "297      20490        Monossido di Azoto       µg/m³        1800   \n",
       "314      20496             PM10 (SM2005)       µg/m³        1801   \n",
       "416      20494        Monossido di Azoto       µg/m³        1801   \n",
       "474      20488  Particelle sospese PM2.5       µg/m³         564   \n",
       "583      20491         Biossido di Azoto       µg/m³        1800   \n",
       "659      20493           Ossidi di Azoto       µg/m³        1801   \n",
       "802      29041                   Benzene       µg/m³         561   \n",
       "964      20523                 Ammoniaca       µg/m³         583   \n",
       "\n",
       "            NomeStazione  Quota Provincia   Comune Storico DataStart DataStop  \\\n",
       "24   Brescia v.Tartaglia  151.0        BS  Brescia       N       NaT      NaT   \n",
       "78   Brescia v.Tartaglia  151.0        BS  Brescia       N       NaT      NaT   \n",
       "122       Brescia S.Polo  124.0        BS  Brescia       N       NaT      NaT   \n",
       "189       Brescia S.Polo  124.0        BS  Brescia       N       NaT      NaT   \n",
       "297       Brescia S.Polo  124.0        BS  Brescia       N       NaT      NaT   \n",
       "314  Brescia v.Tartaglia  151.0        BS  Brescia       N       NaT      NaT   \n",
       "416  Brescia v.Tartaglia  151.0        BS  Brescia       N       NaT      NaT   \n",
       "474     Erba v. Battisti  279.0        CO     Erba       N       NaT      NaT   \n",
       "583       Brescia S.Polo  124.0        BS  Brescia       N       NaT      NaT   \n",
       "659  Brescia v.Tartaglia  151.0        BS  Brescia       N       NaT      NaT   \n",
       "802      Como v.Cattaneo  202.0        CO     Como       N       NaT      NaT   \n",
       "964     Bergamo v.Meucci  249.0        BG  Bergamo       N       NaT      NaT   \n",
       "\n",
       "     Utm_Nord  UTM_Est        lat        lng  \\\n",
       "24    5043948   594556  45.542648  10.211205   \n",
       "78    5043948   594556  45.542648  10.211205   \n",
       "122   5040227   598141  45.508667  10.256370   \n",
       "189   5040227   598141  45.508667  10.256370   \n",
       "297   5040227   598141  45.508667  10.256370   \n",
       "314   5043948   594556  45.542648  10.211205   \n",
       "416   5043948   594556  45.542648  10.211205   \n",
       "474   5072803   517232  45.808574   9.221779   \n",
       "583   5040227   598141  45.508667  10.256370   \n",
       "659   5043948   594556  45.542648  10.211205   \n",
       "802   5073500   505203  45.815043   9.066971   \n",
       "964   5059922   550116  45.691037   9.643651   \n",
       "\n",
       "                                     location  \n",
       "24   (45.542647891822845, 10.211205215118259)  \n",
       "78   (45.542647891822845, 10.211205215118259)  \n",
       "122    (45.5086667998462, 10.256370247433845)  \n",
       "189    (45.5086667998462, 10.256370247433845)  \n",
       "297    (45.5086667998462, 10.256370247433845)  \n",
       "314  (45.542647891822845, 10.211205215118259)  \n",
       "416  (45.542647891822845, 10.211205215118259)  \n",
       "474   (45.808573806922965, 9.221779204488435)  \n",
       "583    (45.5086667998462, 10.256370247433845)  \n",
       "659  (45.542647891822845, 10.211205215118259)  \n",
       "802     (45.81504286011291, 9.06697137484454)  \n",
       "964    (45.69103740547214, 9.643650579461385)  "
      ]
     },
     "execution_count": 35,
     "metadata": {},
     "output_type": "execute_result"
    }
   ],
   "source": [
    "sensori_aria = pd.read_csv(f'{path}Stazioni_qualita_dell_aria.csv', dtype = {'NomeTipoSensore': 'category'}, parse_dates = ['DataStart', 'DataStop'])\n",
    "sensori_aria.tail()\n",
    "#stazioni_aria['NomeTipoSensore'].value_counts()"
   ]
  },
  {
   "cell_type": "code",
   "execution_count": 13,
   "id": "81dfb734",
   "metadata": {
    "ExecuteTime": {
     "end_time": "2022-01-05T07:43:11.208413Z",
     "start_time": "2022-01-05T07:43:11.194378Z"
    }
   },
   "outputs": [
    {
     "data": {
      "text/plain": [
       "IdSensore                   int64\n",
       "NomeTipoSensore          category\n",
       "UnitaMisura                object\n",
       "Idstazione                  int64\n",
       "NomeStazione               object\n",
       "Quota                     float64\n",
       "Provincia                  object\n",
       "Comune                     object\n",
       "Storico                    object\n",
       "DataStart          datetime64[ns]\n",
       "DataStop           datetime64[ns]\n",
       "Utm_Nord                    int64\n",
       "UTM_Est                     int64\n",
       "lat                       float64\n",
       "lng                       float64\n",
       "location                   object\n",
       "dtype: object"
      ]
     },
     "execution_count": 13,
     "metadata": {},
     "output_type": "execute_result"
    }
   ],
   "source": [
    "sensori_aria.dtypes"
   ]
  },
  {
   "cell_type": "markdown",
   "id": "5e7e09a7",
   "metadata": {},
   "source": [
    "#### Zonizzazione"
   ]
  },
  {
   "cell_type": "code",
   "execution_count": 14,
   "id": "e2b3ff11",
   "metadata": {
    "ExecuteTime": {
     "end_time": "2022-01-05T07:43:11.240376Z",
     "start_time": "2022-01-05T07:43:11.210377Z"
    }
   },
   "outputs": [
    {
     "data": {
      "text/html": [
       "<div>\n",
       "<style scoped>\n",
       "    .dataframe tbody tr th:only-of-type {\n",
       "        vertical-align: middle;\n",
       "    }\n",
       "\n",
       "    .dataframe tbody tr th {\n",
       "        vertical-align: top;\n",
       "    }\n",
       "\n",
       "    .dataframe thead th {\n",
       "        text-align: right;\n",
       "    }\n",
       "</style>\n",
       "<table border=\"1\" class=\"dataframe\">\n",
       "  <thead>\n",
       "    <tr style=\"text-align: right;\">\n",
       "      <th></th>\n",
       "      <th>Provincia</th>\n",
       "      <th>Codice Istat</th>\n",
       "      <th>Comune</th>\n",
       "      <th>Zona</th>\n",
       "      <th>Residenti 2008</th>\n",
       "      <th>Superficie (ha)</th>\n",
       "    </tr>\n",
       "  </thead>\n",
       "  <tbody>\n",
       "    <tr>\n",
       "      <th>0</th>\n",
       "      <td>BG</td>\n",
       "      <td>16009</td>\n",
       "      <td>AMBIVERE</td>\n",
       "      <td>A</td>\n",
       "      <td>2341</td>\n",
       "      <td>327</td>\n",
       "    </tr>\n",
       "    <tr>\n",
       "      <th>1</th>\n",
       "      <td>BG</td>\n",
       "      <td>16013</td>\n",
       "      <td>ARZAGO D'ADDA</td>\n",
       "      <td>A</td>\n",
       "      <td>2836</td>\n",
       "      <td>944</td>\n",
       "    </tr>\n",
       "    <tr>\n",
       "      <th>2</th>\n",
       "      <td>BG</td>\n",
       "      <td>16018</td>\n",
       "      <td>BAGNATICA</td>\n",
       "      <td>A</td>\n",
       "      <td>4119</td>\n",
       "      <td>639</td>\n",
       "    </tr>\n",
       "    <tr>\n",
       "      <th>3</th>\n",
       "      <td>BG</td>\n",
       "      <td>16020</td>\n",
       "      <td>BARIANO</td>\n",
       "      <td>A</td>\n",
       "      <td>4396</td>\n",
       "      <td>714</td>\n",
       "    </tr>\n",
       "    <tr>\n",
       "      <th>4</th>\n",
       "      <td>BG</td>\n",
       "      <td>16021</td>\n",
       "      <td>BARZANO'</td>\n",
       "      <td>A</td>\n",
       "      <td>5178</td>\n",
       "      <td>356</td>\n",
       "    </tr>\n",
       "  </tbody>\n",
       "</table>\n",
       "</div>"
      ],
      "text/plain": [
       "  Provincia  Codice Istat         Comune Zona  Residenti 2008  Superficie (ha)\n",
       "0        BG         16009       AMBIVERE    A            2341              327\n",
       "1        BG         16013  ARZAGO D'ADDA    A            2836              944\n",
       "2        BG         16018      BAGNATICA    A            4119              639\n",
       "3        BG         16020        BARIANO    A            4396              714\n",
       "4        BG         16021       BARZANO'    A            5178              356"
      ]
     },
     "execution_count": 14,
     "metadata": {},
     "output_type": "execute_result"
    }
   ],
   "source": [
    "zonizzazione = pd.read_csv(f'{path}zonizzazione/zonizzazione_ABCD.csv', dtype = {'Zona': 'category'})\n",
    "zonizzazione.head()\n",
    "#sum(zonizzazione['Residenti 2008'])"
   ]
  },
  {
   "cell_type": "code",
   "execution_count": 15,
   "id": "ab0e8872",
   "metadata": {
    "ExecuteTime": {
     "end_time": "2022-01-05T07:43:11.256414Z",
     "start_time": "2022-01-05T07:43:11.241377Z"
    }
   },
   "outputs": [
    {
     "data": {
      "text/plain": [
       "B         448\n",
       "C         423\n",
       "A         406\n",
       "AGG MI    107\n",
       "C D       102\n",
       "AGG BG     37\n",
       "AGG BS     20\n",
       "D           2\n",
       "Name: Zona, dtype: int64"
      ]
     },
     "execution_count": 15,
     "metadata": {},
     "output_type": "execute_result"
    }
   ],
   "source": [
    "zonizzazione['Zona'].value_counts()"
   ]
  },
  {
   "cell_type": "markdown",
   "id": "d83924c3",
   "metadata": {},
   "source": [
    "# Analisi esplorativa"
   ]
  },
  {
   "cell_type": "markdown",
   "id": "07b67b84",
   "metadata": {},
   "source": [
    "- verificare quali siano tutte le quantità uniche rilevate dai sensori qualità dell'aria\n",
    "- quali siano i gruppi di inquinanti principali\n",
    "- quali siano i limiti di assunzione umana (gionralieri e annuali)\n",
    "    - Vedi [qui](https://www.arpalombardia.it/Pages/Aria/Inquinanti.aspx) per limiti e piccola descrizione\n",
    "    - Vedi [qui](https://www.regione.lombardia.it/wps/portal/istituzionale/HP/DettaglioRedazionale/servizi-e-informazioni/cittadini/salute-e-prevenzione/Sicurezza-negli-ambienti-di-vita-e-di-lavoro/inquinamento-atmosferico/inquinamento-atmosferico/) per approfondimento"
   ]
  },
  {
   "cell_type": "markdown",
   "id": "94655e3c",
   "metadata": {},
   "source": [
    "Numero di sensori per ogni tipologia"
   ]
  },
  {
   "cell_type": "code",
   "execution_count": 16,
   "id": "cbca3194",
   "metadata": {
    "ExecuteTime": {
     "end_time": "2022-01-05T07:43:11.272375Z",
     "start_time": "2022-01-05T07:43:11.258377Z"
    }
   },
   "outputs": [
    {
     "data": {
      "text/plain": [
       "Biossido di Azoto             166\n",
       "Ossidi di Azoto               166\n",
       "Biossido di Zolfo             125\n",
       "Monossido di Carbonio         101\n",
       "Ozono                          91\n",
       "PM10 (SM2005)                  90\n",
       "Particolato Totale Sospeso     55\n",
       "Particelle sospese PM2.5       40\n",
       "Benzene                        32\n",
       "Nikel                          15\n",
       "Piombo                         15\n",
       "Arsenico                       15\n",
       "Cadmio                         15\n",
       "Benzo(a)pirene                 15\n",
       "Ammoniaca                      14\n",
       "PM10                            4\n",
       "BlackCarbon                     4\n",
       "Monossido di Azoto              3\n",
       "Name: NomeTipoSensore, dtype: int64"
      ]
     },
     "execution_count": 16,
     "metadata": {},
     "output_type": "execute_result"
    }
   ],
   "source": [
    "sensori_aria['NomeTipoSensore'].value_counts()"
   ]
  },
  {
   "cell_type": "markdown",
   "id": "619a353b",
   "metadata": {},
   "source": [
    "- Si potrebbero considerare solo gli inquinanti **più importanti e con più stazioni**\n",
    "- Ovvero **Biossido di Azoto | PM10 (SM2005) e PM2,5 e/o Particolato totale | Ozono troposferico | Bisossido di Zolfo**\n",
    "- Facoltativi perchè non presenti nella valutazione della qualità dell'aria [qui](https://www.arpalombardia.it/Pages/Aria/Modellistica/Indice-qualit%C3%A0-aria.aspx): Monossido di carbonio e benzene"
   ]
  },
  {
   "cell_type": "markdown",
   "id": "8e7c8737",
   "metadata": {},
   "source": [
    "## Missing value e valori non validi"
   ]
  },
  {
   "cell_type": "markdown",
   "id": "b8a8e8a9",
   "metadata": {},
   "source": [
    "Voglio verificare i *dati invalidi* presenti nei due dataset dei dati\n",
    "- Solo validi per il meteo"
   ]
  },
  {
   "cell_type": "code",
   "execution_count": 17,
   "id": "9367db0c",
   "metadata": {
    "ExecuteTime": {
     "end_time": "2022-01-05T07:43:11.304406Z",
     "start_time": "2022-01-05T07:43:11.274377Z"
    }
   },
   "outputs": [
    {
     "data": {
      "text/plain": [
       "108373"
      ]
     },
     "execution_count": 17,
     "metadata": {},
     "output_type": "execute_result"
    }
   ],
   "source": [
    "aria_20_21['Valore'].isna().sum()\n",
    "#meteo_21['Stato'].value_counts(dropna = False)"
   ]
  },
  {
   "cell_type": "markdown",
   "id": "e4f9fc26",
   "metadata": {},
   "source": [
    "- Un discreto numero di NaN nei dati sulla qualità dell'aria (c'è congruenza tra i NaN di stato e di valore)"
   ]
  },
  {
   "cell_type": "code",
   "execution_count": 18,
   "id": "94d9b0f4",
   "metadata": {
    "ExecuteTime": {
     "end_time": "2022-01-05T07:43:11.822377Z",
     "start_time": "2022-01-05T07:43:11.305377Z"
    }
   },
   "outputs": [
    {
     "data": {
      "text/plain": [
       "VA     5137703\n",
       "NaN     108373\n",
       "Name: Stato, dtype: int64"
      ]
     },
     "execution_count": 18,
     "metadata": {},
     "output_type": "execute_result"
    }
   ],
   "source": [
    "aria_20_21['Stato'].value_counts(dropna = False)"
   ]
  },
  {
   "cell_type": "code",
   "execution_count": 19,
   "id": "a2609575",
   "metadata": {
    "ExecuteTime": {
     "end_time": "2022-01-05T07:43:11.854377Z",
     "start_time": "2022-01-05T07:43:11.824378Z"
    }
   },
   "outputs": [
    {
     "data": {
      "text/plain": [
       "108373"
      ]
     },
     "execution_count": 19,
     "metadata": {},
     "output_type": "execute_result"
    }
   ],
   "source": [
    "aria_20_21['Valore'].isna().sum()"
   ]
  },
  {
   "cell_type": "markdown",
   "id": "a26dd232",
   "metadata": {},
   "source": [
    "## Riduzione dimensioni\n",
    "\n",
    "Meteo: 343 stazioni con 1262 sensori\n",
    "\n",
    "Aria: 174 stazioni con 966 sensori\n",
    "\n",
    "Zonizzazione: 9 826 141 abitanti in 1546 comuni divisi in 7 o 8 zone\n",
    "\n",
    "#### Riduzione dimensioni `aria_20_21` (eventuale `meteo_21`)\n",
    "##### Rimozione righe mancanti\n",
    "- L'invalidità del dato è descritta sia dall'attributo `Stato` che dalla presenza di NaN in `Valore`\n",
    "- MA (VA = dato valido NA = dato invalido I dati presenti in questo archivio relativi agli ultimi 3-6 mesi, contengono ancora valori incerti che possono subire modifiche da parte degli operatori delle reti (invalidazione manuale). Il processo di validazione dei dati prevede una fase di valutazione finale che si conclude entro il 30.3 dell’anno successivo a quello di misura)"
   ]
  },
  {
   "cell_type": "code",
   "execution_count": 20,
   "id": "9fddda11",
   "metadata": {
    "ExecuteTime": {
     "end_time": "2022-01-05T07:43:11.870377Z",
     "start_time": "2022-01-05T07:43:11.855375Z"
    }
   },
   "outputs": [
    {
     "data": {
      "text/plain": [
       "(5246076, 5)"
      ]
     },
     "execution_count": 20,
     "metadata": {},
     "output_type": "execute_result"
    }
   ],
   "source": [
    "#aria_20_21.dropna(subset = ['Valore', 'Stato'], inplace = True) #é meglio non farla cosi le avg possono restituire anche NaN\n",
    "aria_20_21.shape"
   ]
  },
  {
   "cell_type": "markdown",
   "id": "874e7003",
   "metadata": {},
   "source": [
    "#### Rimozione sensori di grandezze minori\n",
    "- da `stazioni_aria` e `aria_20_21` trovare solo gli `IdSensore` di tipologia utile\n",
    "- Biossido di Azoto | PM10 (SM2005) e PM2,5 e/o Particolato totale | Ozono troposferico | Bisossido di Zolfo \n",
    "- Come categorie minori decido di tenere momentaneamente *Monossido di carbonio, benzene, Ossidi di Azoto e PM10*"
   ]
  },
  {
   "cell_type": "code",
   "execution_count": 21,
   "id": "a8200540",
   "metadata": {
    "ExecuteTime": {
     "end_time": "2022-01-05T07:43:11.886377Z",
     "start_time": "2022-01-05T07:43:11.872377Z"
    }
   },
   "outputs": [
    {
     "data": {
      "text/plain": [
       "Biossido di Azoto             166\n",
       "Ossidi di Azoto               166\n",
       "Biossido di Zolfo             125\n",
       "Monossido di Carbonio         101\n",
       "Ozono                          91\n",
       "PM10 (SM2005)                  90\n",
       "Particolato Totale Sospeso     55\n",
       "Particelle sospese PM2.5       40\n",
       "Benzene                        32\n",
       "Nikel                          15\n",
       "Piombo                         15\n",
       "Arsenico                       15\n",
       "Cadmio                         15\n",
       "Benzo(a)pirene                 15\n",
       "Ammoniaca                      14\n",
       "PM10                            4\n",
       "BlackCarbon                     4\n",
       "Monossido di Azoto              3\n",
       "Name: NomeTipoSensore, dtype: int64"
      ]
     },
     "execution_count": 21,
     "metadata": {},
     "output_type": "execute_result"
    }
   ],
   "source": [
    "sensori_aria['NomeTipoSensore'].value_counts()"
   ]
  },
  {
   "cell_type": "code",
   "execution_count": 22,
   "id": "205823f0",
   "metadata": {
    "ExecuteTime": {
     "end_time": "2022-01-05T07:43:11.902377Z",
     "start_time": "2022-01-05T07:43:11.888375Z"
    }
   },
   "outputs": [],
   "source": [
    "grandezze_di_interesse = ['Biossido di Azoto',\n",
    " 'PM10 (SM2005)',\n",
    " 'Ossidi di Azoto',\n",
    " 'Ozono',\n",
    " 'Biossido di Zolfo',\n",
    " 'Particolato Totale Sospeso',\n",
    " 'Monossido di Carbonio',\n",
    " 'Particelle sospese PM2.5',\n",
    " 'PM10',\n",
    " 'Benzene']\n",
    "sensori_aria.drop(sensori_aria[~sensori_aria['NomeTipoSensore'].isin(grandezze_di_interesse)].index, inplace = True)"
   ]
  },
  {
   "cell_type": "markdown",
   "id": "532a1406",
   "metadata": {},
   "source": [
    "## JOIN"
   ]
  },
  {
   "cell_type": "markdown",
   "id": "16a77ed9",
   "metadata": {},
   "source": [
    "Inner join tra `aria_20_21` e `sensori_aria` a dare `aria_e_sensori_20_21`"
   ]
  },
  {
   "cell_type": "code",
   "execution_count": 68,
   "id": "c524de53",
   "metadata": {
    "ExecuteTime": {
     "end_time": "2022-01-05T08:05:57.804983Z",
     "start_time": "2022-01-05T08:05:54.033017Z"
    },
    "scrolled": true
   },
   "outputs": [
    {
     "data": {
      "text/html": [
       "<div>\n",
       "<style scoped>\n",
       "    .dataframe tbody tr th:only-of-type {\n",
       "        vertical-align: middle;\n",
       "    }\n",
       "\n",
       "    .dataframe tbody tr th {\n",
       "        vertical-align: top;\n",
       "    }\n",
       "\n",
       "    .dataframe thead th {\n",
       "        text-align: right;\n",
       "    }\n",
       "</style>\n",
       "<table border=\"1\" class=\"dataframe\">\n",
       "  <thead>\n",
       "    <tr style=\"text-align: right;\">\n",
       "      <th></th>\n",
       "      <th>IdSensore</th>\n",
       "      <th>Data</th>\n",
       "      <th>Valore</th>\n",
       "      <th>Stato</th>\n",
       "      <th>idOperatore</th>\n",
       "      <th>NomeTipoSensore</th>\n",
       "      <th>UnitaMisura</th>\n",
       "      <th>Idstazione</th>\n",
       "      <th>NomeStazione</th>\n",
       "      <th>Quota</th>\n",
       "      <th>Provincia</th>\n",
       "      <th>Comune</th>\n",
       "      <th>Storico</th>\n",
       "      <th>DataStart</th>\n",
       "      <th>DataStop</th>\n",
       "      <th>Utm_Nord</th>\n",
       "      <th>UTM_Est</th>\n",
       "      <th>lat</th>\n",
       "      <th>lng</th>\n",
       "      <th>location</th>\n",
       "    </tr>\n",
       "  </thead>\n",
       "  <tbody>\n",
       "    <tr>\n",
       "      <th>5245231</th>\n",
       "      <td>20455</td>\n",
       "      <td>2021-12-23</td>\n",
       "      <td>3.3</td>\n",
       "      <td>VA</td>\n",
       "      <td>1</td>\n",
       "      <td>BlackCarbon</td>\n",
       "      <td>µg/m³</td>\n",
       "      <td>501</td>\n",
       "      <td>Milano v.Marche</td>\n",
       "      <td>129.0</td>\n",
       "      <td>MI</td>\n",
       "      <td>Milano</td>\n",
       "      <td>N</td>\n",
       "      <td>2020-11-25</td>\n",
       "      <td>NaT</td>\n",
       "      <td>5038105</td>\n",
       "      <td>514918</td>\n",
       "      <td>45.496316</td>\n",
       "      <td>9.190934</td>\n",
       "      <td>(45.49631644365102, 9.190933555313624)</td>\n",
       "    </tr>\n",
       "    <tr>\n",
       "      <th>5245232</th>\n",
       "      <td>20455</td>\n",
       "      <td>2021-12-24</td>\n",
       "      <td>4.3</td>\n",
       "      <td>VA</td>\n",
       "      <td>1</td>\n",
       "      <td>BlackCarbon</td>\n",
       "      <td>µg/m³</td>\n",
       "      <td>501</td>\n",
       "      <td>Milano v.Marche</td>\n",
       "      <td>129.0</td>\n",
       "      <td>MI</td>\n",
       "      <td>Milano</td>\n",
       "      <td>N</td>\n",
       "      <td>2020-11-25</td>\n",
       "      <td>NaT</td>\n",
       "      <td>5038105</td>\n",
       "      <td>514918</td>\n",
       "      <td>45.496316</td>\n",
       "      <td>9.190934</td>\n",
       "      <td>(45.49631644365102, 9.190933555313624)</td>\n",
       "    </tr>\n",
       "    <tr>\n",
       "      <th>5245233</th>\n",
       "      <td>20455</td>\n",
       "      <td>2021-12-25</td>\n",
       "      <td>4.3</td>\n",
       "      <td>VA</td>\n",
       "      <td>1</td>\n",
       "      <td>BlackCarbon</td>\n",
       "      <td>µg/m³</td>\n",
       "      <td>501</td>\n",
       "      <td>Milano v.Marche</td>\n",
       "      <td>129.0</td>\n",
       "      <td>MI</td>\n",
       "      <td>Milano</td>\n",
       "      <td>N</td>\n",
       "      <td>2020-11-25</td>\n",
       "      <td>NaT</td>\n",
       "      <td>5038105</td>\n",
       "      <td>514918</td>\n",
       "      <td>45.496316</td>\n",
       "      <td>9.190934</td>\n",
       "      <td>(45.49631644365102, 9.190933555313624)</td>\n",
       "    </tr>\n",
       "    <tr>\n",
       "      <th>5245234</th>\n",
       "      <td>20455</td>\n",
       "      <td>2021-12-26</td>\n",
       "      <td>5.3</td>\n",
       "      <td>VA</td>\n",
       "      <td>1</td>\n",
       "      <td>BlackCarbon</td>\n",
       "      <td>µg/m³</td>\n",
       "      <td>501</td>\n",
       "      <td>Milano v.Marche</td>\n",
       "      <td>129.0</td>\n",
       "      <td>MI</td>\n",
       "      <td>Milano</td>\n",
       "      <td>N</td>\n",
       "      <td>2020-11-25</td>\n",
       "      <td>NaT</td>\n",
       "      <td>5038105</td>\n",
       "      <td>514918</td>\n",
       "      <td>45.496316</td>\n",
       "      <td>9.190934</td>\n",
       "      <td>(45.49631644365102, 9.190933555313624)</td>\n",
       "    </tr>\n",
       "    <tr>\n",
       "      <th>5245235</th>\n",
       "      <td>20455</td>\n",
       "      <td>2021-12-27</td>\n",
       "      <td>6.8</td>\n",
       "      <td>VA</td>\n",
       "      <td>1</td>\n",
       "      <td>BlackCarbon</td>\n",
       "      <td>µg/m³</td>\n",
       "      <td>501</td>\n",
       "      <td>Milano v.Marche</td>\n",
       "      <td>129.0</td>\n",
       "      <td>MI</td>\n",
       "      <td>Milano</td>\n",
       "      <td>N</td>\n",
       "      <td>2020-11-25</td>\n",
       "      <td>NaT</td>\n",
       "      <td>5038105</td>\n",
       "      <td>514918</td>\n",
       "      <td>45.496316</td>\n",
       "      <td>9.190934</td>\n",
       "      <td>(45.49631644365102, 9.190933555313624)</td>\n",
       "    </tr>\n",
       "  </tbody>\n",
       "</table>\n",
       "</div>"
      ],
      "text/plain": [
       "         IdSensore       Data  Valore Stato  idOperatore NomeTipoSensore  \\\n",
       "5245231      20455 2021-12-23     3.3    VA            1     BlackCarbon   \n",
       "5245232      20455 2021-12-24     4.3    VA            1     BlackCarbon   \n",
       "5245233      20455 2021-12-25     4.3    VA            1     BlackCarbon   \n",
       "5245234      20455 2021-12-26     5.3    VA            1     BlackCarbon   \n",
       "5245235      20455 2021-12-27     6.8    VA            1     BlackCarbon   \n",
       "\n",
       "        UnitaMisura  Idstazione     NomeStazione  Quota Provincia  Comune  \\\n",
       "5245231       µg/m³         501  Milano v.Marche  129.0        MI  Milano   \n",
       "5245232       µg/m³         501  Milano v.Marche  129.0        MI  Milano   \n",
       "5245233       µg/m³         501  Milano v.Marche  129.0        MI  Milano   \n",
       "5245234       µg/m³         501  Milano v.Marche  129.0        MI  Milano   \n",
       "5245235       µg/m³         501  Milano v.Marche  129.0        MI  Milano   \n",
       "\n",
       "        Storico  DataStart DataStop  Utm_Nord  UTM_Est        lat       lng  \\\n",
       "5245231       N 2020-11-25      NaT   5038105   514918  45.496316  9.190934   \n",
       "5245232       N 2020-11-25      NaT   5038105   514918  45.496316  9.190934   \n",
       "5245233       N 2020-11-25      NaT   5038105   514918  45.496316  9.190934   \n",
       "5245234       N 2020-11-25      NaT   5038105   514918  45.496316  9.190934   \n",
       "5245235       N 2020-11-25      NaT   5038105   514918  45.496316  9.190934   \n",
       "\n",
       "                                       location  \n",
       "5245231  (45.49631644365102, 9.190933555313624)  \n",
       "5245232  (45.49631644365102, 9.190933555313624)  \n",
       "5245233  (45.49631644365102, 9.190933555313624)  \n",
       "5245234  (45.49631644365102, 9.190933555313624)  \n",
       "5245235  (45.49631644365102, 9.190933555313624)  "
      ]
     },
     "execution_count": 68,
     "metadata": {},
     "output_type": "execute_result"
    }
   ],
   "source": [
    "aria_e_sensori_20_21 = pd.merge(aria_20_21, sensori_aria, how = 'inner', on = 'IdSensore')\n",
    "aria_e_sensori_20_21.tail()"
   ]
  },
  {
   "cell_type": "markdown",
   "id": "085b8937",
   "metadata": {},
   "source": [
    "Verifico il numero sensori con `DataStart` dopo il `2019-12-31` e li rimuovo"
   ]
  },
  {
   "cell_type": "code",
   "execution_count": 69,
   "id": "43271e44",
   "metadata": {
    "ExecuteTime": {
     "end_time": "2022-01-05T08:06:00.823197Z",
     "start_time": "2022-01-05T08:06:00.265190Z"
    }
   },
   "outputs": [
    {
     "data": {
      "text/plain": [
       "14773"
      ]
     },
     "execution_count": 69,
     "metadata": {},
     "output_type": "execute_result"
    }
   ],
   "source": [
    "sum(aria_e_sensori_20_21['DataStart'] > '2019-12-31')"
   ]
  },
  {
   "cell_type": "code",
   "execution_count": 70,
   "id": "26870905",
   "metadata": {
    "ExecuteTime": {
     "end_time": "2022-01-05T08:06:09.150606Z",
     "start_time": "2022-01-05T08:06:07.086612Z"
    }
   },
   "outputs": [],
   "source": [
    "aria_e_sensori_20_21 = aria_e_sensori_20_21.drop(aria_e_sensori_20_21[aria_e_sensori_20_21['DataStart'] > '2019-12-31'].index)"
   ]
  },
  {
   "cell_type": "markdown",
   "id": "3ae08617",
   "metadata": {},
   "source": [
    "Numero sensori con `DataStop` diversa da NA"
   ]
  },
  {
   "cell_type": "code",
   "execution_count": 25,
   "id": "641f6ad4",
   "metadata": {
    "ExecuteTime": {
     "end_time": "2022-01-05T07:43:16.416377Z",
     "start_time": "2022-01-05T07:43:15.891377Z"
    }
   },
   "outputs": [
    {
     "data": {
      "text/plain": [
       "0"
      ]
     },
     "execution_count": 25,
     "metadata": {},
     "output_type": "execute_result"
    }
   ],
   "source": [
    "sum(~aria_e_sensori_20_21['DataStop'].isna())"
   ]
  },
  {
   "cell_type": "markdown",
   "id": "1ae5cecc",
   "metadata": {},
   "source": [
    "- inner joint tra `aria_xx` e `meteo_xx` con stazioni filtrate\n",
    "- left joint (non case sensitive) con dataset `zonizzazione` rispetto a `Comune` tenendo solo la colonna `Zona`\n",
    "- tenere solo stazioni meteo dove ci sono stazioni aria (joint su `lat` e `lng`?)\n",
    "- salvare i nuovi dataset in formato parquet"
   ]
  },
  {
   "cell_type": "markdown",
   "id": "1bc47f41",
   "metadata": {
    "ExecuteTime": {
     "end_time": "2022-01-04T15:50:08.169755Z",
     "start_time": "2022-01-04T15:50:08.157755Z"
    }
   },
   "source": [
    "Inner joint tra `aria_e_sensori_20_21` e `zonizzazione` a dare `aria_e_sensori_e_zone_20_21`"
   ]
  },
  {
   "cell_type": "code",
   "execution_count": 71,
   "id": "07bf353e",
   "metadata": {
    "ExecuteTime": {
     "end_time": "2022-01-05T08:06:39.366245Z",
     "start_time": "2022-01-05T08:06:31.549246Z"
    }
   },
   "outputs": [
    {
     "data": {
      "text/html": [
       "<div>\n",
       "<style scoped>\n",
       "    .dataframe tbody tr th:only-of-type {\n",
       "        vertical-align: middle;\n",
       "    }\n",
       "\n",
       "    .dataframe tbody tr th {\n",
       "        vertical-align: top;\n",
       "    }\n",
       "\n",
       "    .dataframe thead th {\n",
       "        text-align: right;\n",
       "    }\n",
       "</style>\n",
       "<table border=\"1\" class=\"dataframe\">\n",
       "  <thead>\n",
       "    <tr style=\"text-align: right;\">\n",
       "      <th></th>\n",
       "      <th>key_0</th>\n",
       "      <th>IdSensore</th>\n",
       "      <th>Data</th>\n",
       "      <th>Valore</th>\n",
       "      <th>Stato</th>\n",
       "      <th>idOperatore</th>\n",
       "      <th>NomeTipoSensore</th>\n",
       "      <th>UnitaMisura</th>\n",
       "      <th>Idstazione</th>\n",
       "      <th>NomeStazione</th>\n",
       "      <th>...</th>\n",
       "      <th>DataStop</th>\n",
       "      <th>Utm_Nord</th>\n",
       "      <th>UTM_Est</th>\n",
       "      <th>lat</th>\n",
       "      <th>lng</th>\n",
       "      <th>location</th>\n",
       "      <th>Codice Istat</th>\n",
       "      <th>Zona</th>\n",
       "      <th>Residenti 2008</th>\n",
       "      <th>Superficie (ha)</th>\n",
       "    </tr>\n",
       "  </thead>\n",
       "  <tbody>\n",
       "    <tr>\n",
       "      <th>0</th>\n",
       "      <td>busto arsizio</td>\n",
       "      <td>5652</td>\n",
       "      <td>2020-01-01 00:00:00</td>\n",
       "      <td>NaN</td>\n",
       "      <td>NaN</td>\n",
       "      <td>1</td>\n",
       "      <td>Biossido di Zolfo</td>\n",
       "      <td>µg/m³</td>\n",
       "      <td>558</td>\n",
       "      <td>Busto Arsizio  Accam</td>\n",
       "      <td>...</td>\n",
       "      <td>NaT</td>\n",
       "      <td>5047718</td>\n",
       "      <td>487687</td>\n",
       "      <td>45.582894</td>\n",
       "      <td>8.842165</td>\n",
       "      <td>(45.582894292717725, 8.842165456706075)</td>\n",
       "      <td>12026</td>\n",
       "      <td>AGG MI</td>\n",
       "      <td>81716</td>\n",
       "      <td>3055</td>\n",
       "    </tr>\n",
       "    <tr>\n",
       "      <th>1</th>\n",
       "      <td>busto arsizio</td>\n",
       "      <td>5652</td>\n",
       "      <td>2020-01-01 01:00:00</td>\n",
       "      <td>NaN</td>\n",
       "      <td>NaN</td>\n",
       "      <td>1</td>\n",
       "      <td>Biossido di Zolfo</td>\n",
       "      <td>µg/m³</td>\n",
       "      <td>558</td>\n",
       "      <td>Busto Arsizio  Accam</td>\n",
       "      <td>...</td>\n",
       "      <td>NaT</td>\n",
       "      <td>5047718</td>\n",
       "      <td>487687</td>\n",
       "      <td>45.582894</td>\n",
       "      <td>8.842165</td>\n",
       "      <td>(45.582894292717725, 8.842165456706075)</td>\n",
       "      <td>12026</td>\n",
       "      <td>AGG MI</td>\n",
       "      <td>81716</td>\n",
       "      <td>3055</td>\n",
       "    </tr>\n",
       "    <tr>\n",
       "      <th>2</th>\n",
       "      <td>busto arsizio</td>\n",
       "      <td>5652</td>\n",
       "      <td>2020-01-01 02:00:00</td>\n",
       "      <td>NaN</td>\n",
       "      <td>NaN</td>\n",
       "      <td>1</td>\n",
       "      <td>Biossido di Zolfo</td>\n",
       "      <td>µg/m³</td>\n",
       "      <td>558</td>\n",
       "      <td>Busto Arsizio  Accam</td>\n",
       "      <td>...</td>\n",
       "      <td>NaT</td>\n",
       "      <td>5047718</td>\n",
       "      <td>487687</td>\n",
       "      <td>45.582894</td>\n",
       "      <td>8.842165</td>\n",
       "      <td>(45.582894292717725, 8.842165456706075)</td>\n",
       "      <td>12026</td>\n",
       "      <td>AGG MI</td>\n",
       "      <td>81716</td>\n",
       "      <td>3055</td>\n",
       "    </tr>\n",
       "    <tr>\n",
       "      <th>3</th>\n",
       "      <td>busto arsizio</td>\n",
       "      <td>5652</td>\n",
       "      <td>2020-01-01 03:00:00</td>\n",
       "      <td>NaN</td>\n",
       "      <td>NaN</td>\n",
       "      <td>1</td>\n",
       "      <td>Biossido di Zolfo</td>\n",
       "      <td>µg/m³</td>\n",
       "      <td>558</td>\n",
       "      <td>Busto Arsizio  Accam</td>\n",
       "      <td>...</td>\n",
       "      <td>NaT</td>\n",
       "      <td>5047718</td>\n",
       "      <td>487687</td>\n",
       "      <td>45.582894</td>\n",
       "      <td>8.842165</td>\n",
       "      <td>(45.582894292717725, 8.842165456706075)</td>\n",
       "      <td>12026</td>\n",
       "      <td>AGG MI</td>\n",
       "      <td>81716</td>\n",
       "      <td>3055</td>\n",
       "    </tr>\n",
       "    <tr>\n",
       "      <th>4</th>\n",
       "      <td>busto arsizio</td>\n",
       "      <td>5652</td>\n",
       "      <td>2020-01-01 04:00:00</td>\n",
       "      <td>NaN</td>\n",
       "      <td>NaN</td>\n",
       "      <td>1</td>\n",
       "      <td>Biossido di Zolfo</td>\n",
       "      <td>µg/m³</td>\n",
       "      <td>558</td>\n",
       "      <td>Busto Arsizio  Accam</td>\n",
       "      <td>...</td>\n",
       "      <td>NaT</td>\n",
       "      <td>5047718</td>\n",
       "      <td>487687</td>\n",
       "      <td>45.582894</td>\n",
       "      <td>8.842165</td>\n",
       "      <td>(45.582894292717725, 8.842165456706075)</td>\n",
       "      <td>12026</td>\n",
       "      <td>AGG MI</td>\n",
       "      <td>81716</td>\n",
       "      <td>3055</td>\n",
       "    </tr>\n",
       "  </tbody>\n",
       "</table>\n",
       "<p>5 rows × 25 columns</p>\n",
       "</div>"
      ],
      "text/plain": [
       "           key_0  IdSensore                Data  Valore Stato  idOperatore  \\\n",
       "0  busto arsizio       5652 2020-01-01 00:00:00     NaN   NaN            1   \n",
       "1  busto arsizio       5652 2020-01-01 01:00:00     NaN   NaN            1   \n",
       "2  busto arsizio       5652 2020-01-01 02:00:00     NaN   NaN            1   \n",
       "3  busto arsizio       5652 2020-01-01 03:00:00     NaN   NaN            1   \n",
       "4  busto arsizio       5652 2020-01-01 04:00:00     NaN   NaN            1   \n",
       "\n",
       "     NomeTipoSensore UnitaMisura  Idstazione          NomeStazione  ...  \\\n",
       "0  Biossido di Zolfo       µg/m³         558  Busto Arsizio  Accam  ...   \n",
       "1  Biossido di Zolfo       µg/m³         558  Busto Arsizio  Accam  ...   \n",
       "2  Biossido di Zolfo       µg/m³         558  Busto Arsizio  Accam  ...   \n",
       "3  Biossido di Zolfo       µg/m³         558  Busto Arsizio  Accam  ...   \n",
       "4  Biossido di Zolfo       µg/m³         558  Busto Arsizio  Accam  ...   \n",
       "\n",
       "   DataStop Utm_Nord UTM_Est        lat       lng  \\\n",
       "0       NaT  5047718  487687  45.582894  8.842165   \n",
       "1       NaT  5047718  487687  45.582894  8.842165   \n",
       "2       NaT  5047718  487687  45.582894  8.842165   \n",
       "3       NaT  5047718  487687  45.582894  8.842165   \n",
       "4       NaT  5047718  487687  45.582894  8.842165   \n",
       "\n",
       "                                  location  Codice Istat    Zona  \\\n",
       "0  (45.582894292717725, 8.842165456706075)         12026  AGG MI   \n",
       "1  (45.582894292717725, 8.842165456706075)         12026  AGG MI   \n",
       "2  (45.582894292717725, 8.842165456706075)         12026  AGG MI   \n",
       "3  (45.582894292717725, 8.842165456706075)         12026  AGG MI   \n",
       "4  (45.582894292717725, 8.842165456706075)         12026  AGG MI   \n",
       "\n",
       "   Residenti 2008  Superficie (ha)  \n",
       "0           81716             3055  \n",
       "1           81716             3055  \n",
       "2           81716             3055  \n",
       "3           81716             3055  \n",
       "4           81716             3055  \n",
       "\n",
       "[5 rows x 25 columns]"
      ]
     },
     "execution_count": 71,
     "metadata": {},
     "output_type": "execute_result"
    }
   ],
   "source": [
    "aria_e_sensori_e_zone_20_21 = pd.merge(aria_e_sensori_20_21, zonizzazione[['Codice Istat', 'Zona', 'Residenti 2008', 'Superficie (ha)']], left_on = aria_e_sensori_20_21['Comune'].str.lower(), right_on = zonizzazione['Comune'].str.lower())\n",
    "aria_e_sensori_e_zone_20_21.head()"
   ]
  },
  {
   "cell_type": "code",
   "execution_count": 72,
   "id": "470609a4",
   "metadata": {
    "ExecuteTime": {
     "end_time": "2022-01-05T08:06:43.999318Z",
     "start_time": "2022-01-05T08:06:43.952280Z"
    }
   },
   "outputs": [
    {
     "data": {
      "text/plain": [
       "A         1726148\n",
       "AGG MI    1125102\n",
       "B         1069076\n",
       "AGG BG     370147\n",
       "AGG BS     348665\n",
       "C          345480\n",
       "C D        245845\n",
       "D               0\n",
       "Name: Zona, dtype: int64"
      ]
     },
     "execution_count": 72,
     "metadata": {},
     "output_type": "execute_result"
    }
   ],
   "source": [
    "aria_e_sensori_e_zone_20_21['Zona'].value_counts()"
   ]
  },
  {
   "cell_type": "markdown",
   "id": "2e8659e8",
   "metadata": {},
   "source": [
    "## GROUP BY"
   ]
  },
  {
   "cell_type": "code",
   "execution_count": 100,
   "id": "de66c875",
   "metadata": {
    "ExecuteTime": {
     "end_time": "2022-01-05T08:18:37.149010Z",
     "start_time": "2022-01-05T08:18:33.061977Z"
    }
   },
   "outputs": [
    {
     "data": {
      "text/html": [
       "<div>\n",
       "<style scoped>\n",
       "    .dataframe tbody tr th:only-of-type {\n",
       "        vertical-align: middle;\n",
       "    }\n",
       "\n",
       "    .dataframe tbody tr th {\n",
       "        vertical-align: top;\n",
       "    }\n",
       "\n",
       "    .dataframe thead th {\n",
       "        text-align: right;\n",
       "    }\n",
       "</style>\n",
       "<table border=\"1\" class=\"dataframe\">\n",
       "  <thead>\n",
       "    <tr style=\"text-align: right;\">\n",
       "      <th></th>\n",
       "      <th>IdSensore</th>\n",
       "      <th>Data</th>\n",
       "      <th>Valore</th>\n",
       "      <th>idOperatore</th>\n",
       "      <th>Idstazione</th>\n",
       "      <th>Quota</th>\n",
       "      <th>Utm_Nord</th>\n",
       "      <th>UTM_Est</th>\n",
       "      <th>lat</th>\n",
       "      <th>lng</th>\n",
       "      <th>Codice Istat</th>\n",
       "      <th>Residenti 2008</th>\n",
       "      <th>Superficie (ha)</th>\n",
       "    </tr>\n",
       "  </thead>\n",
       "  <tbody>\n",
       "    <tr>\n",
       "      <th>0</th>\n",
       "      <td>5504</td>\n",
       "      <td>2020-01-01</td>\n",
       "      <td>107.595833</td>\n",
       "      <td>1.0</td>\n",
       "      <td>501.0</td>\n",
       "      <td>129.0</td>\n",
       "      <td>5038105.0</td>\n",
       "      <td>514918.0</td>\n",
       "      <td>45.496316</td>\n",
       "      <td>9.190934</td>\n",
       "      <td>15146.0</td>\n",
       "      <td>1307495.0</td>\n",
       "      <td>18175.0</td>\n",
       "    </tr>\n",
       "    <tr>\n",
       "      <th>1</th>\n",
       "      <td>5504</td>\n",
       "      <td>2020-01-02</td>\n",
       "      <td>NaN</td>\n",
       "      <td>1.0</td>\n",
       "      <td>501.0</td>\n",
       "      <td>129.0</td>\n",
       "      <td>5038105.0</td>\n",
       "      <td>514918.0</td>\n",
       "      <td>45.496316</td>\n",
       "      <td>9.190934</td>\n",
       "      <td>15146.0</td>\n",
       "      <td>1307495.0</td>\n",
       "      <td>18175.0</td>\n",
       "    </tr>\n",
       "    <tr>\n",
       "      <th>2</th>\n",
       "      <td>5504</td>\n",
       "      <td>2020-01-03</td>\n",
       "      <td>43.212500</td>\n",
       "      <td>1.0</td>\n",
       "      <td>501.0</td>\n",
       "      <td>129.0</td>\n",
       "      <td>5038105.0</td>\n",
       "      <td>514918.0</td>\n",
       "      <td>45.496316</td>\n",
       "      <td>9.190934</td>\n",
       "      <td>15146.0</td>\n",
       "      <td>1307495.0</td>\n",
       "      <td>18175.0</td>\n",
       "    </tr>\n",
       "    <tr>\n",
       "      <th>3</th>\n",
       "      <td>5504</td>\n",
       "      <td>2020-01-04</td>\n",
       "      <td>34.512500</td>\n",
       "      <td>1.0</td>\n",
       "      <td>501.0</td>\n",
       "      <td>129.0</td>\n",
       "      <td>5038105.0</td>\n",
       "      <td>514918.0</td>\n",
       "      <td>45.496316</td>\n",
       "      <td>9.190934</td>\n",
       "      <td>15146.0</td>\n",
       "      <td>1307495.0</td>\n",
       "      <td>18175.0</td>\n",
       "    </tr>\n",
       "    <tr>\n",
       "      <th>4</th>\n",
       "      <td>5504</td>\n",
       "      <td>2020-01-05</td>\n",
       "      <td>18.654167</td>\n",
       "      <td>1.0</td>\n",
       "      <td>501.0</td>\n",
       "      <td>129.0</td>\n",
       "      <td>5038105.0</td>\n",
       "      <td>514918.0</td>\n",
       "      <td>45.496316</td>\n",
       "      <td>9.190934</td>\n",
       "      <td>15146.0</td>\n",
       "      <td>1307495.0</td>\n",
       "      <td>18175.0</td>\n",
       "    </tr>\n",
       "    <tr>\n",
       "      <th>...</th>\n",
       "      <td>...</td>\n",
       "      <td>...</td>\n",
       "      <td>...</td>\n",
       "      <td>...</td>\n",
       "      <td>...</td>\n",
       "      <td>...</td>\n",
       "      <td>...</td>\n",
       "      <td>...</td>\n",
       "      <td>...</td>\n",
       "      <td>...</td>\n",
       "      <td>...</td>\n",
       "      <td>...</td>\n",
       "      <td>...</td>\n",
       "    </tr>\n",
       "    <tr>\n",
       "      <th>313224</th>\n",
       "      <td>30166</td>\n",
       "      <td>2021-12-23</td>\n",
       "      <td>3.600000</td>\n",
       "      <td>1.0</td>\n",
       "      <td>652.0</td>\n",
       "      <td>154.0</td>\n",
       "      <td>5043626.0</td>\n",
       "      <td>596168.0</td>\n",
       "      <td>45.539529</td>\n",
       "      <td>10.231786</td>\n",
       "      <td>17029.0</td>\n",
       "      <td>191618.0</td>\n",
       "      <td>9052.0</td>\n",
       "    </tr>\n",
       "    <tr>\n",
       "      <th>313225</th>\n",
       "      <td>30166</td>\n",
       "      <td>2021-12-24</td>\n",
       "      <td>3.100000</td>\n",
       "      <td>1.0</td>\n",
       "      <td>652.0</td>\n",
       "      <td>154.0</td>\n",
       "      <td>5043626.0</td>\n",
       "      <td>596168.0</td>\n",
       "      <td>45.539529</td>\n",
       "      <td>10.231786</td>\n",
       "      <td>17029.0</td>\n",
       "      <td>191618.0</td>\n",
       "      <td>9052.0</td>\n",
       "    </tr>\n",
       "    <tr>\n",
       "      <th>313226</th>\n",
       "      <td>30166</td>\n",
       "      <td>2021-12-25</td>\n",
       "      <td>3.300000</td>\n",
       "      <td>1.0</td>\n",
       "      <td>652.0</td>\n",
       "      <td>154.0</td>\n",
       "      <td>5043626.0</td>\n",
       "      <td>596168.0</td>\n",
       "      <td>45.539529</td>\n",
       "      <td>10.231786</td>\n",
       "      <td>17029.0</td>\n",
       "      <td>191618.0</td>\n",
       "      <td>9052.0</td>\n",
       "    </tr>\n",
       "    <tr>\n",
       "      <th>313227</th>\n",
       "      <td>30166</td>\n",
       "      <td>2021-12-26</td>\n",
       "      <td>3.100000</td>\n",
       "      <td>1.0</td>\n",
       "      <td>652.0</td>\n",
       "      <td>154.0</td>\n",
       "      <td>5043626.0</td>\n",
       "      <td>596168.0</td>\n",
       "      <td>45.539529</td>\n",
       "      <td>10.231786</td>\n",
       "      <td>17029.0</td>\n",
       "      <td>191618.0</td>\n",
       "      <td>9052.0</td>\n",
       "    </tr>\n",
       "    <tr>\n",
       "      <th>313228</th>\n",
       "      <td>30166</td>\n",
       "      <td>2021-12-27</td>\n",
       "      <td>2.400000</td>\n",
       "      <td>1.0</td>\n",
       "      <td>652.0</td>\n",
       "      <td>154.0</td>\n",
       "      <td>5043626.0</td>\n",
       "      <td>596168.0</td>\n",
       "      <td>45.539529</td>\n",
       "      <td>10.231786</td>\n",
       "      <td>17029.0</td>\n",
       "      <td>191618.0</td>\n",
       "      <td>9052.0</td>\n",
       "    </tr>\n",
       "  </tbody>\n",
       "</table>\n",
       "<p>313229 rows × 13 columns</p>\n",
       "</div>"
      ],
      "text/plain": [
       "        IdSensore        Data      Valore  idOperatore  Idstazione  Quota  \\\n",
       "0            5504  2020-01-01  107.595833          1.0       501.0  129.0   \n",
       "1            5504  2020-01-02         NaN          1.0       501.0  129.0   \n",
       "2            5504  2020-01-03   43.212500          1.0       501.0  129.0   \n",
       "3            5504  2020-01-04   34.512500          1.0       501.0  129.0   \n",
       "4            5504  2020-01-05   18.654167          1.0       501.0  129.0   \n",
       "...           ...         ...         ...          ...         ...    ...   \n",
       "313224      30166  2021-12-23    3.600000          1.0       652.0  154.0   \n",
       "313225      30166  2021-12-24    3.100000          1.0       652.0  154.0   \n",
       "313226      30166  2021-12-25    3.300000          1.0       652.0  154.0   \n",
       "313227      30166  2021-12-26    3.100000          1.0       652.0  154.0   \n",
       "313228      30166  2021-12-27    2.400000          1.0       652.0  154.0   \n",
       "\n",
       "         Utm_Nord   UTM_Est        lat        lng  Codice Istat  \\\n",
       "0       5038105.0  514918.0  45.496316   9.190934       15146.0   \n",
       "1       5038105.0  514918.0  45.496316   9.190934       15146.0   \n",
       "2       5038105.0  514918.0  45.496316   9.190934       15146.0   \n",
       "3       5038105.0  514918.0  45.496316   9.190934       15146.0   \n",
       "4       5038105.0  514918.0  45.496316   9.190934       15146.0   \n",
       "...           ...       ...        ...        ...           ...   \n",
       "313224  5043626.0  596168.0  45.539529  10.231786       17029.0   \n",
       "313225  5043626.0  596168.0  45.539529  10.231786       17029.0   \n",
       "313226  5043626.0  596168.0  45.539529  10.231786       17029.0   \n",
       "313227  5043626.0  596168.0  45.539529  10.231786       17029.0   \n",
       "313228  5043626.0  596168.0  45.539529  10.231786       17029.0   \n",
       "\n",
       "        Residenti 2008  Superficie (ha)  \n",
       "0            1307495.0          18175.0  \n",
       "1            1307495.0          18175.0  \n",
       "2            1307495.0          18175.0  \n",
       "3            1307495.0          18175.0  \n",
       "4            1307495.0          18175.0  \n",
       "...                ...              ...  \n",
       "313224        191618.0           9052.0  \n",
       "313225        191618.0           9052.0  \n",
       "313226        191618.0           9052.0  \n",
       "313227        191618.0           9052.0  \n",
       "313228        191618.0           9052.0  \n",
       "\n",
       "[313229 rows x 13 columns]"
      ]
     },
     "execution_count": 100,
     "metadata": {},
     "output_type": "execute_result"
    }
   ],
   "source": [
    "grouped_id_day = aria_e_sensori_e_zone_20_21.groupby(['IdSensore', aria_e_sensori_e_zone_20_21['Data'].dt.date]).mean()\n",
    "grouped_id_day.reset_index() #non posso fare as_index = False nel group by altrimenti perdo la data\n",
    "\n",
    "#da sistemare: non perdere gli attributi di tipo stringa\n",
    "#da considerare che diversi sensori hanno dei giorni mancanti"
   ]
  },
  {
   "cell_type": "code",
   "execution_count": null,
   "id": "71ec97f6",
   "metadata": {
    "ExecuteTime": {
     "end_time": "2022-01-05T08:17:47.873942Z",
     "start_time": "2022-01-05T08:17:47.841945Z"
    }
   },
   "outputs": [],
   "source": []
  }
 ],
 "metadata": {
  "kernelspec": {
   "display_name": "Python 3",
   "language": "python",
   "name": "python3"
  },
  "language_info": {
   "codemirror_mode": {
    "name": "ipython",
    "version": 3
   },
   "file_extension": ".py",
   "mimetype": "text/x-python",
   "name": "python",
   "nbconvert_exporter": "python",
   "pygments_lexer": "ipython3",
   "version": "3.8.8"
  }
 },
 "nbformat": 4,
 "nbformat_minor": 5
}
