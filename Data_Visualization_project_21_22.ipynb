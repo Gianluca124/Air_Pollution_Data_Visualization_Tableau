{
 "cells": [
  {
   "cell_type": "markdown",
   "id": "17da6281",
   "metadata": {},
   "source": [
    "# Importazione librerie"
   ]
  },
  {
   "cell_type": "code",
   "execution_count": 1,
   "id": "416c0c91",
   "metadata": {},
   "outputs": [],
   "source": [
    "import pandas as pd"
   ]
  },
  {
   "cell_type": "markdown",
   "id": "a4193c40",
   "metadata": {},
   "source": [
    "# Importazione e conversione datasets"
   ]
  },
  {
   "cell_type": "markdown",
   "id": "f1631d44",
   "metadata": {},
   "source": [
    "Data la grande dimensione di alcuni dei dataset utilizzati, questi verranno convertiti da `.csv` a `.parquet` (Apache Parquet Format)"
   ]
  },
  {
   "cell_type": "code",
   "execution_count": 10,
   "id": "3ee688d7",
   "metadata": {},
   "outputs": [],
   "source": [
    "#df = pd.read_csv('./Datasets/Dati_sensori_meteo_2021_parte_2.csv', low_memory=False)\n",
    "#df.to_parquet('./Datasets/Dati_sensori_meteo_2021_parte_2.parquet')"
   ]
  },
  {
   "cell_type": "markdown",
   "id": "717c4e17",
   "metadata": {},
   "source": [
    "Importazione"
   ]
  },
  {
   "cell_type": "code",
   "execution_count": 11,
   "id": "af572608",
   "metadata": {},
   "outputs": [
    {
     "data": {
      "text/html": [
       "<div>\n",
       "<style scoped>\n",
       "    .dataframe tbody tr th:only-of-type {\n",
       "        vertical-align: middle;\n",
       "    }\n",
       "\n",
       "    .dataframe tbody tr th {\n",
       "        vertical-align: top;\n",
       "    }\n",
       "\n",
       "    .dataframe thead th {\n",
       "        text-align: right;\n",
       "    }\n",
       "</style>\n",
       "<table border=\"1\" class=\"dataframe\">\n",
       "  <thead>\n",
       "    <tr style=\"text-align: right;\">\n",
       "      <th></th>\n",
       "      <th>IdSensore</th>\n",
       "      <th>Data</th>\n",
       "      <th>Valore</th>\n",
       "      <th>idOperatore</th>\n",
       "      <th>Stato</th>\n",
       "    </tr>\n",
       "  </thead>\n",
       "  <tbody>\n",
       "    <tr>\n",
       "      <th>0</th>\n",
       "      <td>19088</td>\n",
       "      <td>01/12/2021 01:40:00 AM</td>\n",
       "      <td>2.7</td>\n",
       "      <td>3</td>\n",
       "      <td>VA</td>\n",
       "    </tr>\n",
       "    <tr>\n",
       "      <th>1</th>\n",
       "      <td>9101</td>\n",
       "      <td>01/12/2021 01:10:00 AM</td>\n",
       "      <td>0.0</td>\n",
       "      <td>4</td>\n",
       "      <td>VA</td>\n",
       "    </tr>\n",
       "    <tr>\n",
       "      <th>2</th>\n",
       "      <td>9123</td>\n",
       "      <td>01/12/2021 01:10:00 AM</td>\n",
       "      <td>0.0</td>\n",
       "      <td>4</td>\n",
       "      <td>VA</td>\n",
       "    </tr>\n",
       "    <tr>\n",
       "      <th>3</th>\n",
       "      <td>14047</td>\n",
       "      <td>01/12/2021 02:30:00 AM</td>\n",
       "      <td>250.0</td>\n",
       "      <td>3</td>\n",
       "      <td>VA</td>\n",
       "    </tr>\n",
       "    <tr>\n",
       "      <th>4</th>\n",
       "      <td>2459</td>\n",
       "      <td>01/12/2021 02:50:00 AM</td>\n",
       "      <td>2.0</td>\n",
       "      <td>1</td>\n",
       "      <td>VA</td>\n",
       "    </tr>\n",
       "  </tbody>\n",
       "</table>\n",
       "</div>"
      ],
      "text/plain": [
       "   IdSensore                    Data  Valore  idOperatore Stato\n",
       "0      19088  01/12/2021 01:40:00 AM     2.7            3    VA\n",
       "1       9101  01/12/2021 01:10:00 AM     0.0            4    VA\n",
       "2       9123  01/12/2021 01:10:00 AM     0.0            4    VA\n",
       "3      14047  01/12/2021 02:30:00 AM   250.0            3    VA\n",
       "4       2459  01/12/2021 02:50:00 AM     2.0            1    VA"
      ]
     },
     "execution_count": 11,
     "metadata": {},
     "output_type": "execute_result"
    }
   ],
   "source": [
    "df_parquet = pd.read_parquet('./Datasets/Dati_sensori_meteo_2021_parte_2.parquet')\n",
    "df_parquet.head()"
   ]
  }
 ],
 "metadata": {
  "kernelspec": {
   "display_name": "Python 3 (ipykernel)",
   "language": "python",
   "name": "python3"
  },
  "language_info": {
   "codemirror_mode": {
    "name": "ipython",
    "version": 3
   },
   "file_extension": ".py",
   "mimetype": "text/x-python",
   "name": "python",
   "nbconvert_exporter": "python",
   "pygments_lexer": "ipython3",
   "version": "3.9.7"
  }
 },
 "nbformat": 4,
 "nbformat_minor": 5
}
