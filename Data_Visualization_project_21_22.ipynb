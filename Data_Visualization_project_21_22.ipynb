{
 "cells": [
  {
   "cell_type": "markdown",
   "id": "17da6281",
   "metadata": {
    "heading_collapsed": true
   },
   "source": [
    "# Importazione librerie"
   ]
  },
  {
   "cell_type": "code",
   "execution_count": 1,
   "id": "9d3725ae",
   "metadata": {
    "ExecuteTime": {
     "end_time": "2022-01-10T17:09:59.999117Z",
     "start_time": "2022-01-10T17:09:59.985117Z"
    },
    "hidden": true
   },
   "outputs": [
    {
     "data": {
      "text/html": [
       "<style>.container { width:90% !important; }</style>"
      ],
      "text/plain": [
       "<IPython.core.display.HTML object>"
      ]
     },
     "metadata": {},
     "output_type": "display_data"
    }
   ],
   "source": [
    "from IPython.core.display import display, HTML\n",
    "\n",
    "display(HTML(\"<style>.container { width:90% !important; }</style>\"))"
   ]
  },
  {
   "cell_type": "code",
   "execution_count": 2,
   "id": "416c0c91",
   "metadata": {
    "ExecuteTime": {
     "end_time": "2022-01-10T17:10:00.543173Z",
     "start_time": "2022-01-10T17:10:00.001120Z"
    },
    "hidden": true
   },
   "outputs": [],
   "source": [
    "import pandas as pd"
   ]
  },
  {
   "cell_type": "markdown",
   "id": "a4193c40",
   "metadata": {},
   "source": [
    "# Conversione files e Importazione datasets"
   ]
  },
  {
   "cell_type": "markdown",
   "id": "e63d95f6",
   "metadata": {
    "heading_collapsed": true
   },
   "source": [
    "## Convesione da `.csv` a `.parquet`"
   ]
  },
  {
   "cell_type": "markdown",
   "id": "f1631d44",
   "metadata": {
    "hidden": true
   },
   "source": [
    "Data la grande dimensione di alcuni dei dataset utilizzati, questi verranno convertiti da `.csv` a `.parquet` (Apache Parquet Format)"
   ]
  },
  {
   "cell_type": "code",
   "execution_count": 3,
   "id": "3ee688d7",
   "metadata": {
    "ExecuteTime": {
     "end_time": "2022-01-10T17:10:00.559159Z",
     "start_time": "2022-01-10T17:10:00.545149Z"
    },
    "hidden": true
   },
   "outputs": [],
   "source": [
    "#df = pd.read_csv('./Datasets/Dati_sensori_meteo_2021.csv', low_memory=False)\n",
    "#df.to_parquet('./Datasets/Dati_sensori_meteo_2021.parquet')"
   ]
  },
  {
   "cell_type": "markdown",
   "id": "86fef283",
   "metadata": {
    "hidden": true
   },
   "source": [
    "Il codice sotto funziona ma riempie la RAM"
   ]
  },
  {
   "cell_type": "code",
   "execution_count": 4,
   "id": "6a813f34",
   "metadata": {
    "ExecuteTime": {
     "end_time": "2022-01-10T17:10:00.575116Z",
     "start_time": "2022-01-10T17:10:00.561119Z"
    },
    "hidden": true
   },
   "outputs": [],
   "source": [
    "#dtypes = {'IdSensore': 'string', 'Valore': 'string'}\n",
    "#parse_dates\n",
    "#meteo = pd.concat(\n",
    "#    map(pd.read_parquet, [\n",
    "#        f'{path}Dati_sensori_meteo_2021_parte_1.parquet',\n",
    "#        f'{path}Dati_sensori_meteo_2021_parte_2.parquet'\n",
    "#    ]))\n",
    "#meteo.head()"
   ]
  },
  {
   "cell_type": "markdown",
   "id": "ebf630b9",
   "metadata": {
    "hidden": true
   },
   "source": [
    "Importazione datasets convertiti"
   ]
  },
  {
   "cell_type": "code",
   "execution_count": 5,
   "id": "0a548d31",
   "metadata": {
    "ExecuteTime": {
     "end_time": "2022-01-10T17:10:00.591116Z",
     "start_time": "2022-01-10T17:10:00.576152Z"
    },
    "hidden": true
   },
   "outputs": [],
   "source": [
    "path = './data/'"
   ]
  },
  {
   "cell_type": "markdown",
   "id": "35f53d80",
   "metadata": {
    "heading_collapsed": true
   },
   "source": [
    "## Rilevazioni sensori metereologici 2020 e 2021"
   ]
  },
  {
   "cell_type": "markdown",
   "id": "2362e611",
   "metadata": {
    "hidden": true
   },
   "source": [
    "#### Attributi: \n",
    "- IdSensore: \n",
    "    - Tipologia: Testo normale\n",
    "- Data: \n",
    "    - Data e ora, Marcatura oraria flessibile\n",
    "- Valore: \n",
    "    - Tipologia: numero\n",
    "    - Legenda: 9999 = dato mancante 888, 8888 = direzione vento variabile 777, 7777 = calma (solo per direzione di vento)\n",
    "- idOperatore\t\n",
    "    - *Molto utile per capire la dimensione del dato*\n",
    "    - LEGENDA: 1: Valore medio 3: Valore massimo 4: Valore cumulato (per la pioggia)\n",
    "    - Testo normale\n",
    "- Stato\t\n",
    "    - LEGENDA: VA, VV = dato valido NA, NV, NC = dato invalido NI = dato incerto ND = dato non disponibile\n",
    "    - Testo normale"
   ]
  },
  {
   "cell_type": "code",
   "execution_count": 6,
   "id": "af572608",
   "metadata": {
    "ExecuteTime": {
     "end_time": "2022-01-10T17:10:00.607116Z",
     "start_time": "2022-01-10T17:10:00.592120Z"
    },
    "hidden": true
   },
   "outputs": [],
   "source": [
    "#meteo_21 = pd.read_parquet(f'{path}/data_meteo/Dati_sensori_meteo_2021.parquet')\n",
    "#meteo_21.head()"
   ]
  },
  {
   "cell_type": "markdown",
   "id": "f8bfa39c",
   "metadata": {
    "heading_collapsed": true
   },
   "source": [
    "## Sensori metereologici"
   ]
  },
  {
   "cell_type": "markdown",
   "id": "f624b390",
   "metadata": {
    "hidden": true
   },
   "source": [
    "#### Attributi: \n",
    "- **IdSensore**\n",
    "    - Foreign Key con vincolo di integrità referenziale a `IdSensore` di meteo_21\n",
    "    - Testo normale\n",
    "- **Tipologia**\n",
    "    - Grandezza misurata\n",
    "    - Testo normale\n",
    "- **Unità DiMisura**\n",
    "    - Unità di misura della grandezza\n",
    "    - Testo normale\n",
    "- IdStazione\t\n",
    "    - Numero identificativo della stazione (penso perchè ogni stazione può avere più sensori)\n",
    "    - Testo normale\n",
    "- NomeStazione\t\n",
    "    - Località della stazione (Spesso è 'Comune via' o 'Comune località)'\n",
    "    - Testo normale\n",
    "- Quota\t\n",
    "    - Altitudine\n",
    "    - Numero\n",
    "- Provincia\n",
    "    - Sigla della provincia\n",
    "    - Testo normale\n",
    "- DataStart\t\n",
    "    - Data e ora\n",
    "- DataStop\t\n",
    "    - Data e ora\n",
    "- Storico\t\n",
    "    - Noto che assume valori N e S ma non capisco cosa sia\n",
    "    - Testo normale\n",
    "- UTM_Nord\t\n",
    "    - Coordinata UTM nord (le cordinate utm permettono di individuare univocamente un punto sulla cartina terrestre)\n",
    "    - Testo normale\n",
    "- UTM_Est\t\n",
    "    - Coordinata UTM est\n",
    "    - Testo normale\n",
    "- lng\t\n",
    "    - Longitudine (senza simbolo gradi)\n",
    "    - Numero\n",
    "- lat\t\n",
    "    - Latitudine (senza simbolo gradi)\n",
    "    - Numero\n",
    "- location\t\n",
    "    - (latitudine°, longitudine°)\n",
    "    - Posizione\n",
    "    \n",
    "##### Grandezze disponibili\n",
    "Sono disponibili i dati delle grandezze:\n",
    "- Livello Idrometrico (cm)\n",
    "- Altezza neve (cm)\n",
    "- Precipitazione (mm)\n",
    "- Temperatura (°C)\n",
    "- Umidità Relativa (%)\n",
    "- Radiazione Globale (W/m2)\n",
    "- Velocità e Direzione Vento (m/s e gradi).\n",
    "- Velocità e direzione del vento (m/s e gradi N) raffica\n",
    "NB: l’orario del dato è \"ora solare\" e si riferisce alle osservazioni ottenute fino all’orario indicato."
   ]
  },
  {
   "cell_type": "code",
   "execution_count": 7,
   "id": "9c1aee03",
   "metadata": {
    "ExecuteTime": {
     "end_time": "2022-01-10T17:10:00.623116Z",
     "start_time": "2022-01-10T17:10:00.608117Z"
    },
    "hidden": true
   },
   "outputs": [],
   "source": [
    "#sensori_meteo = pd.read_csv(f'{path}Stazioni_Meteorologiche.csv', dtype = {'Tipologia': 'category'})\n",
    "#sensori_meteo.head()\n",
    "#stazioni_meteo['Tipologia'].value_counts()"
   ]
  },
  {
   "cell_type": "markdown",
   "id": "bf2fb482",
   "metadata": {
    "heading_collapsed": true
   },
   "source": [
    "## Rilevazioni sensori qualità dell'aria 2020 e 2021"
   ]
  },
  {
   "cell_type": "markdown",
   "id": "b4682e9e",
   "metadata": {
    "hidden": true
   },
   "source": [
    "#### Attributi: \n",
    "- **IdSensore**: \n",
    "    - Identificativo Univoco che distingue il sensore\n",
    "    - Tipologia: Testo normale\n",
    "- **Data**: \n",
    "    - Data e ora, Marcatura oraria flessibile\n",
    "    - I dati forniti hanno frequenza oraria tranne PM10 e PM2.5 per i quali è fornita la media giornaliera.\n",
    "- **Valore**: \n",
    "    - Tipologia: numero\n",
    "    - LEGENDA:-9999 = dato mancante o invalido\n",
    "- **idOperatore**\n",
    "    - *Molto utile per capire la dimensione del dato*\n",
    "    - LEGENDA: 1: Valore medio \n",
    "    - In realtà: I dati forniti hanno frequenza oraria tranne PM10 e PM2.5 per i quali è fornita la media giornaliera.\n",
    "    - Testo normale\n",
    "- **Stato**\t\n",
    "    - VA = dato valido NA = dato invalido I dati presenti in questo archivio relativi agli ultimi 3-6 mesi, contengono ancora valori incerti che possono subire modifiche da parte degli operatori delle reti (invalidazione manuale). Il processo di validazione dei dati prevede una fase di valutazione finale che si conclude entro il 30.3 dell’anno successivo a quello di misura.\n",
    "    - Testo normale"
   ]
  },
  {
   "cell_type": "markdown",
   "id": "52634b34",
   "metadata": {
    "hidden": true
   },
   "source": [
    "#### Caratteristiche\n",
    "\n",
    "- La rete di rilevamento della qualità dell’aria di ARPA Lombardia è costituita da stazioni fisse che, per mezzo di analizzatori automatici, forniscono dati in continuo ad intervalli temporali regolari. \n",
    "- Le specie di inquinanti monitorate in continuo sono NOX, SO2, CO, O3, PM10, PM2.5 e benzene. A seconda del contesto ambientale nel quale è attivo il monitoraggio, diversa è la tipologia di inquinanti che è necessario rilevare. Pertanto, non tutte le stazioni sono dotate della medesima strumentazione analitica. \n",
    "- Le postazioni regionali sono distribuite su tutto il territorio regionale in funzione della densità abitativa e della tipologia di territorio rispettando i criteri definiti dal D.Lgs. 155/2010.\n",
    "- **I dati forniti hanno frequenza oraria tranne PM10 e PM2.5 per i quali è fornita la media giornaliera.**"
   ]
  },
  {
   "cell_type": "code",
   "execution_count": 8,
   "id": "caa8b1af",
   "metadata": {
    "ExecuteTime": {
     "end_time": "2022-01-10T17:10:03.640118Z",
     "start_time": "2022-01-10T17:10:00.626118Z"
    },
    "hidden": true
   },
   "outputs": [
    {
     "data": {
      "text/plain": [
       "IdSensore               int64\n",
       "Data           datetime64[ns]\n",
       "Valore                float64\n",
       "Stato                  object\n",
       "idOperatore             int64\n",
       "dtype: object"
      ]
     },
     "execution_count": 8,
     "metadata": {},
     "output_type": "execute_result"
    }
   ],
   "source": [
    "# Converto in importazione i -9999 in NA\n",
    "aria_20 = pd.read_csv(f'{path}/data_aria/Dati_sensori_aria_2020.csv',\n",
    "                      na_values=['-9999'],\n",
    "                      parse_dates=['Data'])\n",
    "aria_20.dtypes"
   ]
  },
  {
   "cell_type": "code",
   "execution_count": 9,
   "id": "89a4132a",
   "metadata": {
    "ExecuteTime": {
     "end_time": "2022-01-10T17:10:06.965194Z",
     "start_time": "2022-01-10T17:10:03.642119Z"
    },
    "hidden": true,
    "scrolled": true
   },
   "outputs": [],
   "source": [
    "# Converto in importazione i -9999 in NA\n",
    "aria_21 = pd.read_csv(f'{path}/data_aria/Dati_sensori_aria_2021.csv',\n",
    "                      na_values=['-9999'],\n",
    "                      parse_dates=['Data'])\n"
   ]
  },
  {
   "cell_type": "code",
   "execution_count": 10,
   "id": "f379c045",
   "metadata": {
    "ExecuteTime": {
     "end_time": "2022-01-10T17:10:07.205150Z",
     "start_time": "2022-01-10T17:10:06.968121Z"
    },
    "hidden": true
   },
   "outputs": [
    {
     "data": {
      "text/html": [
       "<div>\n",
       "<style scoped>\n",
       "    .dataframe tbody tr th:only-of-type {\n",
       "        vertical-align: middle;\n",
       "    }\n",
       "\n",
       "    .dataframe tbody tr th {\n",
       "        vertical-align: top;\n",
       "    }\n",
       "\n",
       "    .dataframe thead th {\n",
       "        text-align: right;\n",
       "    }\n",
       "</style>\n",
       "<table border=\"1\" class=\"dataframe\">\n",
       "  <thead>\n",
       "    <tr style=\"text-align: right;\">\n",
       "      <th></th>\n",
       "      <th>IdSensore</th>\n",
       "      <th>Data</th>\n",
       "      <th>Valore</th>\n",
       "      <th>Stato</th>\n",
       "      <th>idOperatore</th>\n",
       "    </tr>\n",
       "  </thead>\n",
       "  <tbody>\n",
       "    <tr>\n",
       "      <th>5246071</th>\n",
       "      <td>10331</td>\n",
       "      <td>2021-12-19 03:00:00</td>\n",
       "      <td>45.7</td>\n",
       "      <td>VA</td>\n",
       "      <td>1</td>\n",
       "    </tr>\n",
       "    <tr>\n",
       "      <th>5246072</th>\n",
       "      <td>10333</td>\n",
       "      <td>2021-12-24 19:00:00</td>\n",
       "      <td>39.8</td>\n",
       "      <td>VA</td>\n",
       "      <td>1</td>\n",
       "    </tr>\n",
       "    <tr>\n",
       "      <th>5246073</th>\n",
       "      <td>10331</td>\n",
       "      <td>2021-12-20 18:00:00</td>\n",
       "      <td>27.6</td>\n",
       "      <td>VA</td>\n",
       "      <td>1</td>\n",
       "    </tr>\n",
       "    <tr>\n",
       "      <th>5246074</th>\n",
       "      <td>10333</td>\n",
       "      <td>2021-12-25 11:00:00</td>\n",
       "      <td>84.7</td>\n",
       "      <td>VA</td>\n",
       "      <td>1</td>\n",
       "    </tr>\n",
       "    <tr>\n",
       "      <th>5246075</th>\n",
       "      <td>10331</td>\n",
       "      <td>2021-12-21 04:00:00</td>\n",
       "      <td>34.3</td>\n",
       "      <td>VA</td>\n",
       "      <td>1</td>\n",
       "    </tr>\n",
       "  </tbody>\n",
       "</table>\n",
       "</div>"
      ],
      "text/plain": [
       "         IdSensore                Data  Valore Stato  idOperatore\n",
       "5246071      10331 2021-12-19 03:00:00    45.7    VA            1\n",
       "5246072      10333 2021-12-24 19:00:00    39.8    VA            1\n",
       "5246073      10331 2021-12-20 18:00:00    27.6    VA            1\n",
       "5246074      10333 2021-12-25 11:00:00    84.7    VA            1\n",
       "5246075      10331 2021-12-21 04:00:00    34.3    VA            1"
      ]
     },
     "execution_count": 10,
     "metadata": {},
     "output_type": "execute_result"
    }
   ],
   "source": [
    "aria_20_21 = pd.concat([aria_20, aria_21]).reset_index(drop=True)\n",
    "aria_20_21.tail()"
   ]
  },
  {
   "cell_type": "markdown",
   "id": "282888bc",
   "metadata": {
    "heading_collapsed": true
   },
   "source": [
    "## Sensori qualità dell'aria"
   ]
  },
  {
   "cell_type": "markdown",
   "id": "bafeeb6a",
   "metadata": {
    "hidden": true
   },
   "source": [
    "##### Attributi: \n",
    "- IdSensore\n",
    "    - Foreign Key con vincolo di integrità referenziale a `IdSensore` di aria_21\n",
    "    - Testo normale\n",
    "- NomeTipoSensore\t\n",
    "    - Grandezza misurata\n",
    "    - Testo normale\n",
    "- Unità DiMisura\t\n",
    "    - Unità di misura della grandezza\n",
    "    - Testo normale\n",
    "- IdStazione\t\n",
    "    - Numero identificativo della stazione (penso perchè ogni stazione può avere più sensori)\n",
    "    - Testo normale\n",
    "- NomeStazione\t\n",
    "    - Località della stazione (Spesso è 'Comune via' o 'Comune località)'\n",
    "    - Testo normale\n",
    "- Quota\t\n",
    "    - Altitudine\n",
    "    - Numero\n",
    "- Provincia\n",
    "    - Sigla della provincia\n",
    "    - Testo normale\n",
    "- DataStart\t\n",
    "    - Data e ora\n",
    "- DataStop\t\n",
    "    - Data e ora\n",
    "- Storico\t\n",
    "    - Noto che assume valori N e S ma non capisco cosa sia\n",
    "    - Testo normale\n",
    "- UTM_Nord\t\n",
    "    - Coordinata UTM nord (le cordinate utm permettono di individuare univocamente un punto sulla cartina terrestre)\n",
    "    - Testo normale\n",
    "- UTM_Est\t\n",
    "    - Coordinata UTM est\n",
    "    - Testo normale\n",
    "- lng\t\n",
    "    - Longitudine (senza simbolo gradi)\n",
    "    - Numero\n",
    "- lat\t\n",
    "    - Latitudine (senza simbolo gradi)\n",
    "    - Numero\n",
    "- location\t\n",
    "    - (latitudine°, longitudine°)\n",
    "    - Posizione"
   ]
  },
  {
   "cell_type": "code",
   "execution_count": 11,
   "id": "5d433113",
   "metadata": {
    "ExecuteTime": {
     "end_time": "2022-01-10T17:10:07.253148Z",
     "start_time": "2022-01-10T17:10:07.206151Z"
    },
    "hidden": true
   },
   "outputs": [
    {
     "data": {
      "text/html": [
       "<div>\n",
       "<style scoped>\n",
       "    .dataframe tbody tr th:only-of-type {\n",
       "        vertical-align: middle;\n",
       "    }\n",
       "\n",
       "    .dataframe tbody tr th {\n",
       "        vertical-align: top;\n",
       "    }\n",
       "\n",
       "    .dataframe thead th {\n",
       "        text-align: right;\n",
       "    }\n",
       "</style>\n",
       "<table border=\"1\" class=\"dataframe\">\n",
       "  <thead>\n",
       "    <tr style=\"text-align: right;\">\n",
       "      <th></th>\n",
       "      <th>IdSensore</th>\n",
       "      <th>NomeTipoSensore</th>\n",
       "      <th>UnitaMisura</th>\n",
       "      <th>Idstazione</th>\n",
       "      <th>NomeStazione</th>\n",
       "      <th>Quota</th>\n",
       "      <th>Provincia</th>\n",
       "      <th>Comune</th>\n",
       "      <th>Storico</th>\n",
       "      <th>DataStart</th>\n",
       "      <th>DataStop</th>\n",
       "      <th>Utm_Nord</th>\n",
       "      <th>UTM_Est</th>\n",
       "      <th>lat</th>\n",
       "      <th>lng</th>\n",
       "      <th>location</th>\n",
       "    </tr>\n",
       "  </thead>\n",
       "  <tbody>\n",
       "    <tr>\n",
       "      <th>961</th>\n",
       "      <td>6606</td>\n",
       "      <td>Particolato Totale Sospeso</td>\n",
       "      <td>µg/m³</td>\n",
       "      <td>591</td>\n",
       "      <td>Seriate v. Garibaldi</td>\n",
       "      <td>256.0</td>\n",
       "      <td>BG</td>\n",
       "      <td>Seriate</td>\n",
       "      <td>S</td>\n",
       "      <td>1991-11-20</td>\n",
       "      <td>2000-01-27</td>\n",
       "      <td>5059449</td>\n",
       "      <td>555672</td>\n",
       "      <td>45.686356</td>\n",
       "      <td>9.714948</td>\n",
       "      <td>(45.68635606439914, 9.714947917631529)</td>\n",
       "    </tr>\n",
       "    <tr>\n",
       "      <th>962</th>\n",
       "      <td>6382</td>\n",
       "      <td>Ossidi di Azoto</td>\n",
       "      <td>µg/m³</td>\n",
       "      <td>569</td>\n",
       "      <td>Sondrio v.Mazzini</td>\n",
       "      <td>307.0</td>\n",
       "      <td>SO</td>\n",
       "      <td>Sondrio</td>\n",
       "      <td>N</td>\n",
       "      <td>1993-01-11</td>\n",
       "      <td>NaT</td>\n",
       "      <td>5113078</td>\n",
       "      <td>567173</td>\n",
       "      <td>46.167967</td>\n",
       "      <td>9.870144</td>\n",
       "      <td>(46.16796681227828, 9.87014407497457)</td>\n",
       "    </tr>\n",
       "    <tr>\n",
       "      <th>963</th>\n",
       "      <td>6607</td>\n",
       "      <td>Particolato Totale Sospeso</td>\n",
       "      <td>µg/m³</td>\n",
       "      <td>591</td>\n",
       "      <td>Seriate v. Garibaldi</td>\n",
       "      <td>256.0</td>\n",
       "      <td>BG</td>\n",
       "      <td>Seriate</td>\n",
       "      <td>S</td>\n",
       "      <td>2000-07-09</td>\n",
       "      <td>2002-04-04</td>\n",
       "      <td>5059449</td>\n",
       "      <td>555672</td>\n",
       "      <td>45.686356</td>\n",
       "      <td>9.714948</td>\n",
       "      <td>(45.68635606439914, 9.714947917631529)</td>\n",
       "    </tr>\n",
       "    <tr>\n",
       "      <th>964</th>\n",
       "      <td>20523</td>\n",
       "      <td>Ammoniaca</td>\n",
       "      <td>µg/m³</td>\n",
       "      <td>583</td>\n",
       "      <td>Bergamo v.Meucci</td>\n",
       "      <td>249.0</td>\n",
       "      <td>BG</td>\n",
       "      <td>Bergamo</td>\n",
       "      <td>N</td>\n",
       "      <td>NaT</td>\n",
       "      <td>NaT</td>\n",
       "      <td>5059922</td>\n",
       "      <td>550116</td>\n",
       "      <td>45.691037</td>\n",
       "      <td>9.643651</td>\n",
       "      <td>(45.69103740547214, 9.643650579461385)</td>\n",
       "    </tr>\n",
       "    <tr>\n",
       "      <th>965</th>\n",
       "      <td>12597</td>\n",
       "      <td>Cadmio</td>\n",
       "      <td>ng/m³</td>\n",
       "      <td>609</td>\n",
       "      <td>Casirate d'Adda v. Cimitero</td>\n",
       "      <td>108.0</td>\n",
       "      <td>BG</td>\n",
       "      <td>Casirate d'Adda</td>\n",
       "      <td>N</td>\n",
       "      <td>2008-04-24</td>\n",
       "      <td>NaT</td>\n",
       "      <td>5038450</td>\n",
       "      <td>543458</td>\n",
       "      <td>45.498227</td>\n",
       "      <td>9.556232</td>\n",
       "      <td>(45.49822713394494, 9.556232262351761)</td>\n",
       "    </tr>\n",
       "  </tbody>\n",
       "</table>\n",
       "</div>"
      ],
      "text/plain": [
       "     IdSensore             NomeTipoSensore UnitaMisura  Idstazione  \\\n",
       "961       6606  Particolato Totale Sospeso       µg/m³         591   \n",
       "962       6382             Ossidi di Azoto       µg/m³         569   \n",
       "963       6607  Particolato Totale Sospeso       µg/m³         591   \n",
       "964      20523                   Ammoniaca       µg/m³         583   \n",
       "965      12597                      Cadmio       ng/m³         609   \n",
       "\n",
       "                    NomeStazione  Quota Provincia           Comune Storico  \\\n",
       "961         Seriate v. Garibaldi  256.0        BG          Seriate       S   \n",
       "962            Sondrio v.Mazzini  307.0        SO          Sondrio       N   \n",
       "963         Seriate v. Garibaldi  256.0        BG          Seriate       S   \n",
       "964             Bergamo v.Meucci  249.0        BG          Bergamo       N   \n",
       "965  Casirate d'Adda v. Cimitero  108.0        BG  Casirate d'Adda       N   \n",
       "\n",
       "     DataStart   DataStop  Utm_Nord  UTM_Est        lat       lng  \\\n",
       "961 1991-11-20 2000-01-27   5059449   555672  45.686356  9.714948   \n",
       "962 1993-01-11        NaT   5113078   567173  46.167967  9.870144   \n",
       "963 2000-07-09 2002-04-04   5059449   555672  45.686356  9.714948   \n",
       "964        NaT        NaT   5059922   550116  45.691037  9.643651   \n",
       "965 2008-04-24        NaT   5038450   543458  45.498227  9.556232   \n",
       "\n",
       "                                   location  \n",
       "961  (45.68635606439914, 9.714947917631529)  \n",
       "962   (46.16796681227828, 9.87014407497457)  \n",
       "963  (45.68635606439914, 9.714947917631529)  \n",
       "964  (45.69103740547214, 9.643650579461385)  \n",
       "965  (45.49822713394494, 9.556232262351761)  "
      ]
     },
     "execution_count": 11,
     "metadata": {},
     "output_type": "execute_result"
    }
   ],
   "source": [
    "sensori_aria = pd.read_csv(f'{path}Stazioni_qualita_dell_aria.csv',\n",
    "                           parse_dates=['DataStart', 'DataStop'],\n",
    "                           dtype={'Storico':'category'})\n",
    "sensori_aria.tail()"
   ]
  },
  {
   "cell_type": "code",
   "execution_count": 12,
   "id": "81dfb734",
   "metadata": {
    "ExecuteTime": {
     "end_time": "2022-01-10T17:10:07.269148Z",
     "start_time": "2022-01-10T17:10:07.254150Z"
    },
    "hidden": true,
    "scrolled": true
   },
   "outputs": [
    {
     "data": {
      "text/plain": [
       "IdSensore                   int64\n",
       "NomeTipoSensore            object\n",
       "UnitaMisura                object\n",
       "Idstazione                  int64\n",
       "NomeStazione               object\n",
       "Quota                     float64\n",
       "Provincia                  object\n",
       "Comune                     object\n",
       "Storico                  category\n",
       "DataStart          datetime64[ns]\n",
       "DataStop           datetime64[ns]\n",
       "Utm_Nord                    int64\n",
       "UTM_Est                     int64\n",
       "lat                       float64\n",
       "lng                       float64\n",
       "location                   object\n",
       "dtype: object"
      ]
     },
     "execution_count": 12,
     "metadata": {},
     "output_type": "execute_result"
    }
   ],
   "source": [
    "sensori_aria.dtypes"
   ]
  },
  {
   "cell_type": "markdown",
   "id": "5e7e09a7",
   "metadata": {
    "heading_collapsed": true
   },
   "source": [
    "## Zonizzazione"
   ]
  },
  {
   "cell_type": "code",
   "execution_count": 13,
   "id": "e2b3ff11",
   "metadata": {
    "ExecuteTime": {
     "end_time": "2022-01-10T17:10:07.301155Z",
     "start_time": "2022-01-10T17:10:07.271119Z"
    },
    "hidden": true
   },
   "outputs": [
    {
     "data": {
      "text/html": [
       "<div>\n",
       "<style scoped>\n",
       "    .dataframe tbody tr th:only-of-type {\n",
       "        vertical-align: middle;\n",
       "    }\n",
       "\n",
       "    .dataframe tbody tr th {\n",
       "        vertical-align: top;\n",
       "    }\n",
       "\n",
       "    .dataframe thead th {\n",
       "        text-align: right;\n",
       "    }\n",
       "</style>\n",
       "<table border=\"1\" class=\"dataframe\">\n",
       "  <thead>\n",
       "    <tr style=\"text-align: right;\">\n",
       "      <th></th>\n",
       "      <th>Provincia</th>\n",
       "      <th>Codice Istat</th>\n",
       "      <th>Comune</th>\n",
       "      <th>Zona</th>\n",
       "      <th>Residenti 2008</th>\n",
       "      <th>Superficie (ha)</th>\n",
       "    </tr>\n",
       "  </thead>\n",
       "  <tbody>\n",
       "    <tr>\n",
       "      <th>0</th>\n",
       "      <td>BG</td>\n",
       "      <td>16009</td>\n",
       "      <td>AMBIVERE</td>\n",
       "      <td>A</td>\n",
       "      <td>2341</td>\n",
       "      <td>327</td>\n",
       "    </tr>\n",
       "    <tr>\n",
       "      <th>1</th>\n",
       "      <td>BG</td>\n",
       "      <td>16013</td>\n",
       "      <td>ARZAGO D'ADDA</td>\n",
       "      <td>A</td>\n",
       "      <td>2836</td>\n",
       "      <td>944</td>\n",
       "    </tr>\n",
       "    <tr>\n",
       "      <th>2</th>\n",
       "      <td>BG</td>\n",
       "      <td>16018</td>\n",
       "      <td>BAGNATICA</td>\n",
       "      <td>A</td>\n",
       "      <td>4119</td>\n",
       "      <td>639</td>\n",
       "    </tr>\n",
       "    <tr>\n",
       "      <th>3</th>\n",
       "      <td>BG</td>\n",
       "      <td>16020</td>\n",
       "      <td>BARIANO</td>\n",
       "      <td>A</td>\n",
       "      <td>4396</td>\n",
       "      <td>714</td>\n",
       "    </tr>\n",
       "    <tr>\n",
       "      <th>4</th>\n",
       "      <td>BG</td>\n",
       "      <td>16021</td>\n",
       "      <td>BARZANO'</td>\n",
       "      <td>A</td>\n",
       "      <td>5178</td>\n",
       "      <td>356</td>\n",
       "    </tr>\n",
       "  </tbody>\n",
       "</table>\n",
       "</div>"
      ],
      "text/plain": [
       "  Provincia  Codice Istat         Comune Zona  Residenti 2008  Superficie (ha)\n",
       "0        BG         16009       AMBIVERE    A            2341              327\n",
       "1        BG         16013  ARZAGO D'ADDA    A            2836              944\n",
       "2        BG         16018      BAGNATICA    A            4119              639\n",
       "3        BG         16020        BARIANO    A            4396              714\n",
       "4        BG         16021       BARZANO'    A            5178              356"
      ]
     },
     "execution_count": 13,
     "metadata": {},
     "output_type": "execute_result"
    }
   ],
   "source": [
    "zonizzazione = pd.read_csv(f'{path}zonizzazione/zonizzazione_ABCD.csv')\n",
    "zonizzazione.head()"
   ]
  },
  {
   "cell_type": "code",
   "execution_count": 14,
   "id": "ab0e8872",
   "metadata": {
    "ExecuteTime": {
     "end_time": "2022-01-10T17:10:07.317117Z",
     "start_time": "2022-01-10T17:10:07.302151Z"
    },
    "hidden": true,
    "scrolled": true
   },
   "outputs": [
    {
     "data": {
      "text/plain": [
       "B         448\n",
       "C         423\n",
       "A         406\n",
       "AGG MI    107\n",
       "C D       102\n",
       "AGG BG     37\n",
       "AGG BS     20\n",
       "D           2\n",
       "Name: Zona, dtype: int64"
      ]
     },
     "execution_count": 14,
     "metadata": {},
     "output_type": "execute_result"
    }
   ],
   "source": [
    "zonizzazione['Zona'].value_counts()"
   ]
  },
  {
   "cell_type": "markdown",
   "id": "d83924c3",
   "metadata": {},
   "source": [
    "## Exploratory Data Analysis and Data Cleansing"
   ]
  },
  {
   "cell_type": "markdown",
   "id": "07b67b84",
   "metadata": {},
   "source": [
    "- verificare quali siano tutte le quantità uniche rilevate dai sensori qualità dell'aria\n",
    "- quali siano i gruppi di inquinanti principali\n",
    "- quali siano i limiti di assunzione umana (gionralieri e annuali)\n",
    "    - Vedi [qui](https://www.arpalombardia.it/Pages/Aria/Inquinanti.aspx) per limiti e piccola descrizione\n",
    "    - Vedi [qui](https://www.regione.lombardia.it/wps/portal/istituzionale/HP/DettaglioRedazionale/servizi-e-informazioni/cittadini/salute-e-prevenzione/Sicurezza-negli-ambienti-di-vita-e-di-lavoro/inquinamento-atmosferico/inquinamento-atmosferico/) per approfondimento"
   ]
  },
  {
   "cell_type": "markdown",
   "id": "94655e3c",
   "metadata": {},
   "source": [
    "Determino il numero di sensori per ogni tipologia"
   ]
  },
  {
   "cell_type": "code",
   "execution_count": 15,
   "id": "cbca3194",
   "metadata": {
    "ExecuteTime": {
     "end_time": "2022-01-10T17:10:07.333118Z",
     "start_time": "2022-01-10T17:10:07.319123Z"
    }
   },
   "outputs": [
    {
     "data": {
      "text/plain": [
       "Biossido di Azoto             166\n",
       "Ossidi di Azoto               166\n",
       "Biossido di Zolfo             125\n",
       "Monossido di Carbonio         101\n",
       "Ozono                          91\n",
       "PM10 (SM2005)                  90\n",
       "Particolato Totale Sospeso     55\n",
       "Particelle sospese PM2.5       40\n",
       "Benzene                        32\n",
       "Benzo(a)pirene                 15\n",
       "Arsenico                       15\n",
       "Cadmio                         15\n",
       "Nikel                          15\n",
       "Piombo                         15\n",
       "Ammoniaca                      14\n",
       "PM10                            4\n",
       "BlackCarbon                     4\n",
       "Monossido di Azoto              3\n",
       "Name: NomeTipoSensore, dtype: int64"
      ]
     },
     "execution_count": 15,
     "metadata": {},
     "output_type": "execute_result"
    }
   ],
   "source": [
    "sensori_aria['NomeTipoSensore'].value_counts()"
   ]
  },
  {
   "cell_type": "markdown",
   "id": "619a353b",
   "metadata": {},
   "source": [
    "- Si potrebbero considerare solo gli inquinanti **più importanti e con più stazioni**\n",
    "- Ovvero **Biossido di Azoto | PM10 (SM2005) e PM2,5 e/o Particolato totale | Ozono troposferico | Bisossido di Zolfo**\n",
    "- Facoltativi perchè non presenti nella valutazione della qualità dell'aria [qui](https://www.arpalombardia.it/Pages/Aria/Modellistica/Indice-qualit%C3%A0-aria.aspx): Monossido di carbonio e benzene"
   ]
  },
  {
   "cell_type": "markdown",
   "id": "8e7c8737",
   "metadata": {},
   "source": [
    "## Missing value e valori non validi"
   ]
  },
  {
   "cell_type": "markdown",
   "id": "b8a8e8a9",
   "metadata": {},
   "source": [
    "Voglio verificare i *dati invalidi* presenti nei due dataset dei dati\n",
    "- Solo validi per il meteo"
   ]
  },
  {
   "cell_type": "code",
   "execution_count": 16,
   "id": "9367db0c",
   "metadata": {
    "ExecuteTime": {
     "end_time": "2022-01-10T17:10:07.365193Z",
     "start_time": "2022-01-10T17:10:07.335122Z"
    }
   },
   "outputs": [
    {
     "data": {
      "text/plain": [
       "108373"
      ]
     },
     "execution_count": 16,
     "metadata": {},
     "output_type": "execute_result"
    }
   ],
   "source": [
    "aria_20_21['Valore'].isna().sum()\n",
    "#meteo_21['Stato'].value_counts(dropna = False)"
   ]
  },
  {
   "cell_type": "markdown",
   "id": "e4f9fc26",
   "metadata": {},
   "source": [
    "- Un discreto numero di NaN nei dati sulla qualità dell'aria (c'è congruenza tra i NaN di stato e di valore)"
   ]
  },
  {
   "cell_type": "code",
   "execution_count": 17,
   "id": "94d9b0f4",
   "metadata": {
    "ExecuteTime": {
     "end_time": "2022-01-10T17:10:07.892115Z",
     "start_time": "2022-01-10T17:10:07.369162Z"
    }
   },
   "outputs": [
    {
     "data": {
      "text/plain": [
       "VA     5137703\n",
       "NaN     108373\n",
       "Name: Stato, dtype: int64"
      ]
     },
     "execution_count": 17,
     "metadata": {},
     "output_type": "execute_result"
    }
   ],
   "source": [
    "aria_20_21['Stato'].value_counts(dropna = False)"
   ]
  },
  {
   "cell_type": "markdown",
   "id": "d0367a29",
   "metadata": {},
   "source": [
    "## Riduzione dimensioni\n",
    "\n",
    "Meteo: 343 stazioni con 1262 sensori\n",
    "\n",
    "Aria: 174 stazioni con 966 sensori\n",
    "\n",
    "Zonizzazione: 9 826 141 abitanti in 1546 comuni divisi in 7 o 8 zone"
   ]
  },
  {
   "cell_type": "markdown",
   "id": "1070f28d",
   "metadata": {},
   "source": [
    "### Riduzione dimensioni `aria_20_21` (eventuale `meteo_21`)"
   ]
  },
  {
   "cell_type": "markdown",
   "id": "a26dd232",
   "metadata": {},
   "source": [
    "#### Rimozione righe mancanti\n",
    "- L'invalidità del dato è descritta sia dall'attributo `Stato` che dalla presenza di NaN in `Valore`\n",
    "- MA (VA = dato valido NA = dato invalido I dati presenti in questo archivio relativi agli ultimi 3-6 mesi, contengono ancora valori incerti che possono subire modifiche da parte degli operatori delle reti (invalidazione manuale). Il processo di validazione dei dati prevede una fase di valutazione finale che si conclude entro il 30.3 dell’anno successivo a quello di misura)"
   ]
  },
  {
   "cell_type": "code",
   "execution_count": 18,
   "id": "9fddda11",
   "metadata": {
    "ExecuteTime": {
     "end_time": "2022-01-10T17:10:07.908119Z",
     "start_time": "2022-01-10T17:10:07.894116Z"
    }
   },
   "outputs": [
    {
     "data": {
      "text/plain": [
       "(5246076, 5)"
      ]
     },
     "execution_count": 18,
     "metadata": {},
     "output_type": "execute_result"
    }
   ],
   "source": [
    "#aria_20_21.dropna(subset = ['Valore', 'Stato'], inplace = True) #é meglio non farla cosi le avg possono restituire anche NaN\n",
    "aria_20_21.reset_index(drop=True, inplace=True)\n",
    "aria_20_21.shape"
   ]
  },
  {
   "cell_type": "markdown",
   "id": "874e7003",
   "metadata": {},
   "source": [
    "#### Rimozione sensori di grandezze minori\n",
    "- da `stazioni_aria` e `aria_20_21` trovare solo gli `IdSensore` di tipologia utile\n",
    "- Biossido di Azoto | PM10 (SM2005) e PM2,5 e/o Particolato totale | Ozono troposferico | Bisossido di Zolfo \n",
    "- Come categorie minori decido di tenere momentaneamente *Monossido di carbonio, benzene, Ossidi di Azoto e PM10*"
   ]
  },
  {
   "cell_type": "code",
   "execution_count": 19,
   "id": "a8200540",
   "metadata": {
    "ExecuteTime": {
     "end_time": "2022-01-10T17:10:07.924118Z",
     "start_time": "2022-01-10T17:10:07.909118Z"
    }
   },
   "outputs": [
    {
     "data": {
      "text/plain": [
       "Biossido di Azoto             166\n",
       "Ossidi di Azoto               166\n",
       "Biossido di Zolfo             125\n",
       "Monossido di Carbonio         101\n",
       "Ozono                          91\n",
       "PM10 (SM2005)                  90\n",
       "Particolato Totale Sospeso     55\n",
       "Particelle sospese PM2.5       40\n",
       "Benzene                        32\n",
       "Benzo(a)pirene                 15\n",
       "Arsenico                       15\n",
       "Cadmio                         15\n",
       "Nikel                          15\n",
       "Piombo                         15\n",
       "Ammoniaca                      14\n",
       "PM10                            4\n",
       "BlackCarbon                     4\n",
       "Monossido di Azoto              3\n",
       "Name: NomeTipoSensore, dtype: int64"
      ]
     },
     "execution_count": 19,
     "metadata": {},
     "output_type": "execute_result"
    }
   ],
   "source": [
    "sensori_aria['NomeTipoSensore'].value_counts()"
   ]
  },
  {
   "cell_type": "code",
   "execution_count": 20,
   "id": "205823f0",
   "metadata": {
    "ExecuteTime": {
     "end_time": "2022-01-10T17:10:07.972117Z",
     "start_time": "2022-01-10T17:10:07.926118Z"
    }
   },
   "outputs": [
    {
     "data": {
      "text/html": [
       "<div>\n",
       "<style scoped>\n",
       "    .dataframe tbody tr th:only-of-type {\n",
       "        vertical-align: middle;\n",
       "    }\n",
       "\n",
       "    .dataframe tbody tr th {\n",
       "        vertical-align: top;\n",
       "    }\n",
       "\n",
       "    .dataframe thead th {\n",
       "        text-align: right;\n",
       "    }\n",
       "</style>\n",
       "<table border=\"1\" class=\"dataframe\">\n",
       "  <thead>\n",
       "    <tr style=\"text-align: right;\">\n",
       "      <th></th>\n",
       "      <th>IdSensore</th>\n",
       "      <th>NomeTipoSensore</th>\n",
       "      <th>UnitaMisura</th>\n",
       "      <th>Idstazione</th>\n",
       "      <th>NomeStazione</th>\n",
       "      <th>Quota</th>\n",
       "      <th>Provincia</th>\n",
       "      <th>Comune</th>\n",
       "      <th>Storico</th>\n",
       "      <th>DataStart</th>\n",
       "      <th>DataStop</th>\n",
       "      <th>Utm_Nord</th>\n",
       "      <th>UTM_Est</th>\n",
       "      <th>lat</th>\n",
       "      <th>lng</th>\n",
       "      <th>location</th>\n",
       "    </tr>\n",
       "  </thead>\n",
       "  <tbody>\n",
       "    <tr>\n",
       "      <th>0</th>\n",
       "      <td>17286</td>\n",
       "      <td>Biossido di Azoto</td>\n",
       "      <td>µg/m³</td>\n",
       "      <td>1374</td>\n",
       "      <td>Monza Parco</td>\n",
       "      <td>181.0</td>\n",
       "      <td>MB</td>\n",
       "      <td>Monza</td>\n",
       "      <td>N</td>\n",
       "      <td>2013-01-05</td>\n",
       "      <td>NaT</td>\n",
       "      <td>5049780</td>\n",
       "      <td>521452</td>\n",
       "      <td>45.601232</td>\n",
       "      <td>9.275073</td>\n",
       "      <td>(45.60123219955139, 9.27507265782848)</td>\n",
       "    </tr>\n",
       "    <tr>\n",
       "      <th>1</th>\n",
       "      <td>17290</td>\n",
       "      <td>PM10 (SM2005)</td>\n",
       "      <td>µg/m³</td>\n",
       "      <td>1374</td>\n",
       "      <td>Monza Parco</td>\n",
       "      <td>181.0</td>\n",
       "      <td>MB</td>\n",
       "      <td>Monza</td>\n",
       "      <td>N</td>\n",
       "      <td>2013-02-15</td>\n",
       "      <td>NaT</td>\n",
       "      <td>5049780</td>\n",
       "      <td>521452</td>\n",
       "      <td>45.601232</td>\n",
       "      <td>9.275073</td>\n",
       "      <td>(45.60123219955139, 9.27507265782848)</td>\n",
       "    </tr>\n",
       "    <tr>\n",
       "      <th>2</th>\n",
       "      <td>17285</td>\n",
       "      <td>Ossidi di Azoto</td>\n",
       "      <td>µg/m³</td>\n",
       "      <td>1374</td>\n",
       "      <td>Monza Parco</td>\n",
       "      <td>181.0</td>\n",
       "      <td>MB</td>\n",
       "      <td>Monza</td>\n",
       "      <td>N</td>\n",
       "      <td>2013-01-05</td>\n",
       "      <td>NaT</td>\n",
       "      <td>5049780</td>\n",
       "      <td>521452</td>\n",
       "      <td>45.601232</td>\n",
       "      <td>9.275073</td>\n",
       "      <td>(45.60123219955139, 9.27507265782848)</td>\n",
       "    </tr>\n",
       "    <tr>\n",
       "      <th>3</th>\n",
       "      <td>17288</td>\n",
       "      <td>Ozono</td>\n",
       "      <td>µg/m³</td>\n",
       "      <td>1374</td>\n",
       "      <td>Monza Parco</td>\n",
       "      <td>181.0</td>\n",
       "      <td>MB</td>\n",
       "      <td>Monza</td>\n",
       "      <td>N</td>\n",
       "      <td>2013-09-02</td>\n",
       "      <td>NaT</td>\n",
       "      <td>5049780</td>\n",
       "      <td>521452</td>\n",
       "      <td>45.601232</td>\n",
       "      <td>9.275073</td>\n",
       "      <td>(45.60123219955139, 9.27507265782848)</td>\n",
       "    </tr>\n",
       "    <tr>\n",
       "      <th>4</th>\n",
       "      <td>10112</td>\n",
       "      <td>Ozono</td>\n",
       "      <td>µg/m³</td>\n",
       "      <td>698</td>\n",
       "      <td>Ceneselli v. Moro</td>\n",
       "      <td>13.0</td>\n",
       "      <td>RO</td>\n",
       "      <td>Ceneselli</td>\n",
       "      <td>S</td>\n",
       "      <td>2006-11-28</td>\n",
       "      <td>2017-01-01</td>\n",
       "      <td>4987161</td>\n",
       "      <td>686934</td>\n",
       "      <td>45.013257</td>\n",
       "      <td>11.372345</td>\n",
       "      <td>(45.01325676849334, 11.372344948058235)</td>\n",
       "    </tr>\n",
       "    <tr>\n",
       "      <th>...</th>\n",
       "      <td>...</td>\n",
       "      <td>...</td>\n",
       "      <td>...</td>\n",
       "      <td>...</td>\n",
       "      <td>...</td>\n",
       "      <td>...</td>\n",
       "      <td>...</td>\n",
       "      <td>...</td>\n",
       "      <td>...</td>\n",
       "      <td>...</td>\n",
       "      <td>...</td>\n",
       "      <td>...</td>\n",
       "      <td>...</td>\n",
       "      <td>...</td>\n",
       "      <td>...</td>\n",
       "      <td>...</td>\n",
       "    </tr>\n",
       "    <tr>\n",
       "      <th>861</th>\n",
       "      <td>6288</td>\n",
       "      <td>Ossidi di Azoto</td>\n",
       "      <td>µg/m³</td>\n",
       "      <td>551</td>\n",
       "      <td>Arconate v. De Gasperi</td>\n",
       "      <td>182.0</td>\n",
       "      <td>MI</td>\n",
       "      <td>Arconate</td>\n",
       "      <td>N</td>\n",
       "      <td>1999-01-20</td>\n",
       "      <td>NaT</td>\n",
       "      <td>5043898</td>\n",
       "      <td>488082</td>\n",
       "      <td>45.548517</td>\n",
       "      <td>8.847322</td>\n",
       "      <td>(45.54851735741946, 8.847321929216262)</td>\n",
       "    </tr>\n",
       "    <tr>\n",
       "      <th>862</th>\n",
       "      <td>6614</td>\n",
       "      <td>Particolato Totale Sospeso</td>\n",
       "      <td>µg/m³</td>\n",
       "      <td>584</td>\n",
       "      <td>Bergamo v.Garibaldi</td>\n",
       "      <td>249.0</td>\n",
       "      <td>BG</td>\n",
       "      <td>Bergamo</td>\n",
       "      <td>S</td>\n",
       "      <td>1994-06-15</td>\n",
       "      <td>2005-10-21</td>\n",
       "      <td>5060449</td>\n",
       "      <td>551482</td>\n",
       "      <td>45.695680</td>\n",
       "      <td>9.661249</td>\n",
       "      <td>(45.69568034432694, 9.66124914606551)</td>\n",
       "    </tr>\n",
       "    <tr>\n",
       "      <th>863</th>\n",
       "      <td>6606</td>\n",
       "      <td>Particolato Totale Sospeso</td>\n",
       "      <td>µg/m³</td>\n",
       "      <td>591</td>\n",
       "      <td>Seriate v. Garibaldi</td>\n",
       "      <td>256.0</td>\n",
       "      <td>BG</td>\n",
       "      <td>Seriate</td>\n",
       "      <td>S</td>\n",
       "      <td>1991-11-20</td>\n",
       "      <td>2000-01-27</td>\n",
       "      <td>5059449</td>\n",
       "      <td>555672</td>\n",
       "      <td>45.686356</td>\n",
       "      <td>9.714948</td>\n",
       "      <td>(45.68635606439914, 9.714947917631529)</td>\n",
       "    </tr>\n",
       "    <tr>\n",
       "      <th>864</th>\n",
       "      <td>6382</td>\n",
       "      <td>Ossidi di Azoto</td>\n",
       "      <td>µg/m³</td>\n",
       "      <td>569</td>\n",
       "      <td>Sondrio v.Mazzini</td>\n",
       "      <td>307.0</td>\n",
       "      <td>SO</td>\n",
       "      <td>Sondrio</td>\n",
       "      <td>N</td>\n",
       "      <td>1993-01-11</td>\n",
       "      <td>NaT</td>\n",
       "      <td>5113078</td>\n",
       "      <td>567173</td>\n",
       "      <td>46.167967</td>\n",
       "      <td>9.870144</td>\n",
       "      <td>(46.16796681227828, 9.87014407497457)</td>\n",
       "    </tr>\n",
       "    <tr>\n",
       "      <th>865</th>\n",
       "      <td>6607</td>\n",
       "      <td>Particolato Totale Sospeso</td>\n",
       "      <td>µg/m³</td>\n",
       "      <td>591</td>\n",
       "      <td>Seriate v. Garibaldi</td>\n",
       "      <td>256.0</td>\n",
       "      <td>BG</td>\n",
       "      <td>Seriate</td>\n",
       "      <td>S</td>\n",
       "      <td>2000-07-09</td>\n",
       "      <td>2002-04-04</td>\n",
       "      <td>5059449</td>\n",
       "      <td>555672</td>\n",
       "      <td>45.686356</td>\n",
       "      <td>9.714948</td>\n",
       "      <td>(45.68635606439914, 9.714947917631529)</td>\n",
       "    </tr>\n",
       "  </tbody>\n",
       "</table>\n",
       "<p>866 rows × 16 columns</p>\n",
       "</div>"
      ],
      "text/plain": [
       "     IdSensore             NomeTipoSensore UnitaMisura  Idstazione  \\\n",
       "0        17286           Biossido di Azoto       µg/m³        1374   \n",
       "1        17290               PM10 (SM2005)       µg/m³        1374   \n",
       "2        17285             Ossidi di Azoto       µg/m³        1374   \n",
       "3        17288                       Ozono       µg/m³        1374   \n",
       "4        10112                       Ozono       µg/m³         698   \n",
       "..         ...                         ...         ...         ...   \n",
       "861       6288             Ossidi di Azoto       µg/m³         551   \n",
       "862       6614  Particolato Totale Sospeso       µg/m³         584   \n",
       "863       6606  Particolato Totale Sospeso       µg/m³         591   \n",
       "864       6382             Ossidi di Azoto       µg/m³         569   \n",
       "865       6607  Particolato Totale Sospeso       µg/m³         591   \n",
       "\n",
       "               NomeStazione  Quota Provincia     Comune Storico  DataStart  \\\n",
       "0               Monza Parco  181.0        MB      Monza       N 2013-01-05   \n",
       "1               Monza Parco  181.0        MB      Monza       N 2013-02-15   \n",
       "2               Monza Parco  181.0        MB      Monza       N 2013-01-05   \n",
       "3               Monza Parco  181.0        MB      Monza       N 2013-09-02   \n",
       "4         Ceneselli v. Moro   13.0        RO  Ceneselli       S 2006-11-28   \n",
       "..                      ...    ...       ...        ...     ...        ...   \n",
       "861  Arconate v. De Gasperi  182.0        MI   Arconate       N 1999-01-20   \n",
       "862     Bergamo v.Garibaldi  249.0        BG    Bergamo       S 1994-06-15   \n",
       "863    Seriate v. Garibaldi  256.0        BG    Seriate       S 1991-11-20   \n",
       "864       Sondrio v.Mazzini  307.0        SO    Sondrio       N 1993-01-11   \n",
       "865    Seriate v. Garibaldi  256.0        BG    Seriate       S 2000-07-09   \n",
       "\n",
       "      DataStop  Utm_Nord  UTM_Est        lat        lng  \\\n",
       "0          NaT   5049780   521452  45.601232   9.275073   \n",
       "1          NaT   5049780   521452  45.601232   9.275073   \n",
       "2          NaT   5049780   521452  45.601232   9.275073   \n",
       "3          NaT   5049780   521452  45.601232   9.275073   \n",
       "4   2017-01-01   4987161   686934  45.013257  11.372345   \n",
       "..         ...       ...      ...        ...        ...   \n",
       "861        NaT   5043898   488082  45.548517   8.847322   \n",
       "862 2005-10-21   5060449   551482  45.695680   9.661249   \n",
       "863 2000-01-27   5059449   555672  45.686356   9.714948   \n",
       "864        NaT   5113078   567173  46.167967   9.870144   \n",
       "865 2002-04-04   5059449   555672  45.686356   9.714948   \n",
       "\n",
       "                                    location  \n",
       "0      (45.60123219955139, 9.27507265782848)  \n",
       "1      (45.60123219955139, 9.27507265782848)  \n",
       "2      (45.60123219955139, 9.27507265782848)  \n",
       "3      (45.60123219955139, 9.27507265782848)  \n",
       "4    (45.01325676849334, 11.372344948058235)  \n",
       "..                                       ...  \n",
       "861   (45.54851735741946, 8.847321929216262)  \n",
       "862    (45.69568034432694, 9.66124914606551)  \n",
       "863   (45.68635606439914, 9.714947917631529)  \n",
       "864    (46.16796681227828, 9.87014407497457)  \n",
       "865   (45.68635606439914, 9.714947917631529)  \n",
       "\n",
       "[866 rows x 16 columns]"
      ]
     },
     "execution_count": 20,
     "metadata": {},
     "output_type": "execute_result"
    }
   ],
   "source": [
    "grandezze_di_interesse = ['Biossido di Azoto',\n",
    " 'PM10 (SM2005)',\n",
    " 'Ossidi di Azoto',\n",
    " 'Ozono',\n",
    " 'Biossido di Zolfo',\n",
    " 'Particolato Totale Sospeso',\n",
    " 'Monossido di Carbonio',\n",
    " 'Particelle sospese PM2.5',\n",
    " 'Benzene']\n",
    "sensori_aria.drop(sensori_aria[~sensori_aria['NomeTipoSensore'].isin(grandezze_di_interesse)].index, inplace = True)\n",
    "sensori_aria.reset_index(drop=True, inplace=True)\n",
    "sensori_aria"
   ]
  },
  {
   "cell_type": "markdown",
   "id": "24f4a62c",
   "metadata": {},
   "source": [
    "#### Rimozione righe con idoperatore assurdo"
   ]
  },
  {
   "cell_type": "code",
   "execution_count": 21,
   "id": "ed8870f6",
   "metadata": {
    "ExecuteTime": {
     "end_time": "2022-01-10T17:10:08.116179Z",
     "start_time": "2022-01-10T17:10:07.974115Z"
    }
   },
   "outputs": [
    {
     "data": {
      "text/plain": [
       "idOperatore\n",
       "1        5246075\n",
       "15504          1\n",
       "dtype: int64"
      ]
     },
     "execution_count": 21,
     "metadata": {},
     "output_type": "execute_result"
    }
   ],
   "source": [
    "aria_20_21.value_counts('idOperatore')"
   ]
  },
  {
   "cell_type": "code",
   "execution_count": 22,
   "id": "41e4dde3",
   "metadata": {
    "ExecuteTime": {
     "end_time": "2022-01-10T17:10:08.579180Z",
     "start_time": "2022-01-10T17:10:08.117119Z"
    }
   },
   "outputs": [],
   "source": [
    "aria_20_21.drop(aria_20_21[aria_20_21.idOperatore == 15504].index, inplace=True)\n",
    "aria_20_21.reset_index(drop=True, inplace=True)"
   ]
  },
  {
   "cell_type": "markdown",
   "id": "c367220f",
   "metadata": {},
   "source": [
    "# Data preparation"
   ]
  },
  {
   "cell_type": "markdown",
   "id": "bf3722b4",
   "metadata": {},
   "source": [
    "## Grouping e calcolo grandezze aggegate (GROUP by per id_sensore e giorno)\n",
    "\n",
    "- Raggruppo per `IdSensore` e `Data`(giorno)\n",
    "- Calcolo grandezze aggregate\n",
    "    - Calcolo il valore medio e la deviazione standard del `Valore` registrato dal senbsore\n",
    "    - Importante sottolineare che le funzioni `mean, count e std` di pandas NON tengono conto dei Na, quindi i valori che vediamo sono esatti\n"
   ]
  },
  {
   "cell_type": "code",
   "execution_count": 23,
   "id": "38d40685",
   "metadata": {
    "ExecuteTime": {
     "end_time": "2022-01-10T17:10:11.739154Z",
     "start_time": "2022-01-10T17:10:08.583120Z"
    }
   },
   "outputs": [
    {
     "data": {
      "text/html": [
       "<div>\n",
       "<style scoped>\n",
       "    .dataframe tbody tr th:only-of-type {\n",
       "        vertical-align: middle;\n",
       "    }\n",
       "\n",
       "    .dataframe tbody tr th {\n",
       "        vertical-align: top;\n",
       "    }\n",
       "\n",
       "    .dataframe thead th {\n",
       "        text-align: right;\n",
       "    }\n",
       "</style>\n",
       "<table border=\"1\" class=\"dataframe\">\n",
       "  <thead>\n",
       "    <tr style=\"text-align: right;\">\n",
       "      <th></th>\n",
       "      <th>IdSensore</th>\n",
       "      <th>Data</th>\n",
       "      <th>Valore_MEAN_id_day</th>\n",
       "      <th>Valore_COUNT_id_day</th>\n",
       "      <th>Valore_STD_id_day</th>\n",
       "    </tr>\n",
       "  </thead>\n",
       "  <tbody>\n",
       "    <tr>\n",
       "      <th>0</th>\n",
       "      <td>5504</td>\n",
       "      <td>2020-01-01</td>\n",
       "      <td>107.595833</td>\n",
       "      <td>24</td>\n",
       "      <td>20.571624</td>\n",
       "    </tr>\n",
       "    <tr>\n",
       "      <th>1</th>\n",
       "      <td>5504</td>\n",
       "      <td>2020-01-02</td>\n",
       "      <td>NaN</td>\n",
       "      <td>0</td>\n",
       "      <td>NaN</td>\n",
       "    </tr>\n",
       "    <tr>\n",
       "      <th>2</th>\n",
       "      <td>5504</td>\n",
       "      <td>2020-01-03</td>\n",
       "      <td>43.212500</td>\n",
       "      <td>24</td>\n",
       "      <td>8.894615</td>\n",
       "    </tr>\n",
       "    <tr>\n",
       "      <th>3</th>\n",
       "      <td>5504</td>\n",
       "      <td>2020-01-04</td>\n",
       "      <td>34.512500</td>\n",
       "      <td>24</td>\n",
       "      <td>15.291609</td>\n",
       "    </tr>\n",
       "    <tr>\n",
       "      <th>4</th>\n",
       "      <td>5504</td>\n",
       "      <td>2020-01-05</td>\n",
       "      <td>18.654167</td>\n",
       "      <td>24</td>\n",
       "      <td>7.783873</td>\n",
       "    </tr>\n",
       "    <tr>\n",
       "      <th>...</th>\n",
       "      <td>...</td>\n",
       "      <td>...</td>\n",
       "      <td>...</td>\n",
       "      <td>...</td>\n",
       "      <td>...</td>\n",
       "    </tr>\n",
       "    <tr>\n",
       "      <th>313943</th>\n",
       "      <td>30166</td>\n",
       "      <td>2021-12-23</td>\n",
       "      <td>3.600000</td>\n",
       "      <td>1</td>\n",
       "      <td>NaN</td>\n",
       "    </tr>\n",
       "    <tr>\n",
       "      <th>313944</th>\n",
       "      <td>30166</td>\n",
       "      <td>2021-12-24</td>\n",
       "      <td>3.100000</td>\n",
       "      <td>1</td>\n",
       "      <td>NaN</td>\n",
       "    </tr>\n",
       "    <tr>\n",
       "      <th>313945</th>\n",
       "      <td>30166</td>\n",
       "      <td>2021-12-25</td>\n",
       "      <td>3.300000</td>\n",
       "      <td>1</td>\n",
       "      <td>NaN</td>\n",
       "    </tr>\n",
       "    <tr>\n",
       "      <th>313946</th>\n",
       "      <td>30166</td>\n",
       "      <td>2021-12-26</td>\n",
       "      <td>3.100000</td>\n",
       "      <td>1</td>\n",
       "      <td>NaN</td>\n",
       "    </tr>\n",
       "    <tr>\n",
       "      <th>313947</th>\n",
       "      <td>30166</td>\n",
       "      <td>2021-12-27</td>\n",
       "      <td>2.400000</td>\n",
       "      <td>1</td>\n",
       "      <td>NaN</td>\n",
       "    </tr>\n",
       "  </tbody>\n",
       "</table>\n",
       "<p>313948 rows × 5 columns</p>\n",
       "</div>"
      ],
      "text/plain": [
       "        IdSensore        Data  Valore_MEAN_id_day  Valore_COUNT_id_day  \\\n",
       "0            5504  2020-01-01          107.595833                   24   \n",
       "1            5504  2020-01-02                 NaN                    0   \n",
       "2            5504  2020-01-03           43.212500                   24   \n",
       "3            5504  2020-01-04           34.512500                   24   \n",
       "4            5504  2020-01-05           18.654167                   24   \n",
       "...           ...         ...                 ...                  ...   \n",
       "313943      30166  2021-12-23            3.600000                    1   \n",
       "313944      30166  2021-12-24            3.100000                    1   \n",
       "313945      30166  2021-12-25            3.300000                    1   \n",
       "313946      30166  2021-12-26            3.100000                    1   \n",
       "313947      30166  2021-12-27            2.400000                    1   \n",
       "\n",
       "        Valore_STD_id_day  \n",
       "0               20.571624  \n",
       "1                     NaN  \n",
       "2                8.894615  \n",
       "3               15.291609  \n",
       "4                7.783873  \n",
       "...                   ...  \n",
       "313943                NaN  \n",
       "313944                NaN  \n",
       "313945                NaN  \n",
       "313946                NaN  \n",
       "313947                NaN  \n",
       "\n",
       "[313948 rows x 5 columns]"
      ]
     },
     "metadata": {},
     "output_type": "display_data"
    }
   ],
   "source": [
    "colnames = ['IdSensore', 'Data', 'Valore_MEAN_id_day', 'Valore_COUNT_id_day', 'Valore_STD_id_day']\n",
    "aria__id_day = aria_20_21[['IdSensore', 'Data', 'Valore']].groupby([\n",
    "    'IdSensore',\n",
    "    aria_20_21['Data'].dt.date,\n",
    "]).agg({\n",
    "    'Valore': ['mean', 'count', 'std']\n",
    "}).reset_index()\n",
    "aria__id_day.columns = ['IdSensore', 'Data', 'Valore_MEAN_id_day', 'Valore_COUNT_id_day', 'Valore_STD_id_day']\n",
    "display(aria__id_day)"
   ]
  },
  {
   "cell_type": "markdown",
   "id": "d2e191f7",
   "metadata": {},
   "source": [
    "## Quali  medie sono significative ?"
   ]
  },
  {
   "cell_type": "markdown",
   "id": "4a7f8a6e",
   "metadata": {},
   "source": [
    "Cerco di determinare quali medie sensore/giorno, siano significative, quindi siano ottenute da un numero sufficiente di misurazioni\n",
    "- Per prima cosa verifico il numero di di medie giornaliere per sensore ottenute dal **numero massimo di misurazioni (24**, una misurazione ogni ora)"
   ]
  },
  {
   "cell_type": "code",
   "execution_count": 24,
   "id": "6a9e3243",
   "metadata": {
    "ExecuteTime": {
     "end_time": "2022-01-10T17:10:11.771117Z",
     "start_time": "2022-01-10T17:10:11.741149Z"
    }
   },
   "outputs": [
    {
     "data": {
      "text/plain": [
       "200009"
      ]
     },
     "execution_count": 24,
     "metadata": {},
     "output_type": "execute_result"
    }
   ],
   "source": [
    "aria__id_day[aria__id_day.Valore_COUNT_id_day == 24].shape[0]"
   ]
  },
  {
   "cell_type": "markdown",
   "id": "65ca2aa5",
   "metadata": {},
   "source": [
    "- Ora verifico quante di queste siano ottenute da un **solo valore**\n",
    "    - Queste potrebbero avere senso, perchè alcune misurazioni sono fornite dai sensori già mediate sull'intera giornata (o almeno dovrebbero)\n",
    "    - Come PM2.5 e PM10\n",
    "- Per questo per ora direi di non toglierle, valutiamo bene la casistica una volta effettuato il join con il dataset delle stazioni"
   ]
  },
  {
   "cell_type": "code",
   "execution_count": 25,
   "id": "4d0b760b",
   "metadata": {
    "ExecuteTime": {
     "end_time": "2022-01-10T17:10:11.787117Z",
     "start_time": "2022-01-10T17:10:11.773119Z"
    }
   },
   "outputs": [
    {
     "data": {
      "text/plain": [
       "93813"
      ]
     },
     "execution_count": 25,
     "metadata": {},
     "output_type": "execute_result"
    }
   ],
   "source": [
    "aria__id_day[aria__id_day.Valore_COUNT_id_day == 1].shape[0]"
   ]
  },
  {
   "cell_type": "markdown",
   "id": "b3110630",
   "metadata": {},
   "source": [
    "- Verifico quali medie sono ottenute da **meno di 15 misurazioni**"
   ]
  },
  {
   "cell_type": "code",
   "execution_count": 26,
   "id": "c2b42de9",
   "metadata": {
    "ExecuteTime": {
     "end_time": "2022-01-10T17:10:11.803116Z",
     "start_time": "2022-01-10T17:10:11.789119Z"
    }
   },
   "outputs": [
    {
     "data": {
      "text/plain": [
       "1037"
      ]
     },
     "execution_count": 26,
     "metadata": {},
     "output_type": "execute_result"
    }
   ],
   "source": [
    "aria__id_day[(aria__id_day.Valore_COUNT_id_day < 10) & (aria__id_day.Valore_COUNT_id_day > 1)].shape[0]"
   ]
  },
  {
   "cell_type": "markdown",
   "id": "31867bb5",
   "metadata": {},
   "source": [
    "- Verifico quali medie sono ottenute da **meno di 10 misurazioni** (considero un cutoff significativo)\n",
    "    - Secondo me 10 ore, anche se fossero di fila e non sparse, è un dato ottimo. UNa concentrazione più o meno stabile di inquinante per 10 ore è significativa.\n",
    "    - Inoltre con 10 osservazioni penso che eventuali outliers vengano abbastanza spenti in media, comunque l’effetto non è troppo diverso da averne 15 in termini di effetto degli outliers,"
   ]
  },
  {
   "cell_type": "code",
   "execution_count": 27,
   "id": "325138d0",
   "metadata": {
    "ExecuteTime": {
     "end_time": "2022-01-10T17:10:11.819120Z",
     "start_time": "2022-01-10T17:10:11.805118Z"
    }
   },
   "outputs": [
    {
     "data": {
      "text/plain": [
       "3425"
      ]
     },
     "execution_count": 27,
     "metadata": {},
     "output_type": "execute_result"
    }
   ],
   "source": [
    "aria__id_day[(aria__id_day.Valore_COUNT_id_day < 15) & (aria__id_day.Valore_COUNT_id_day > 1)].shape[0]"
   ]
  },
  {
   "cell_type": "markdown",
   "id": "410bb5dd",
   "metadata": {},
   "source": [
    "- Verifico quali sono ottenute da 0 osservazioni"
   ]
  },
  {
   "cell_type": "code",
   "execution_count": 28,
   "id": "c7756d75",
   "metadata": {
    "ExecuteTime": {
     "end_time": "2022-01-10T17:10:11.835117Z",
     "start_time": "2022-01-10T17:10:11.821124Z"
    }
   },
   "outputs": [
    {
     "data": {
      "text/plain": [
       "7201"
      ]
     },
     "execution_count": 28,
     "metadata": {},
     "output_type": "execute_result"
    }
   ],
   "source": [
    "aria__id_day[aria__id_day.Valore_COUNT_id_day == 0].shape[0]"
   ]
  },
  {
   "cell_type": "markdown",
   "id": "b65aab0f",
   "metadata": {},
   "source": [
    "#### Rimozione medie ottenute da meno di 10 osservazioni"
   ]
  },
  {
   "cell_type": "code",
   "execution_count": 29,
   "id": "93645e4b",
   "metadata": {
    "ExecuteTime": {
     "end_time": "2022-01-10T17:10:11.883178Z",
     "start_time": "2022-01-10T17:10:11.837120Z"
    }
   },
   "outputs": [],
   "source": [
    "aria__id_day.drop(aria__id_day[(aria__id_day.Valore_COUNT_id_day < 10) & (aria__id_day.Valore_COUNT_id_day > 1)].index, inplace=True)\n",
    "aria__id_day.reset_index(drop=True, inplace=True)"
   ]
  },
  {
   "cell_type": "markdown",
   "id": "532a1406",
   "metadata": {},
   "source": [
    "## JOIN (aria, sensori)"
   ]
  },
  {
   "cell_type": "markdown",
   "id": "16a77ed9",
   "metadata": {},
   "source": [
    "Inner join tra `aria__id_day` e `sensori_aria` a dare `aria_sensori__id_day`"
   ]
  },
  {
   "cell_type": "code",
   "execution_count": 30,
   "id": "c524de53",
   "metadata": {
    "ExecuteTime": {
     "end_time": "2022-01-10T17:10:12.091118Z",
     "start_time": "2022-01-10T17:10:11.885119Z"
    },
    "scrolled": false
   },
   "outputs": [
    {
     "data": {
      "text/html": [
       "<div>\n",
       "<style scoped>\n",
       "    .dataframe tbody tr th:only-of-type {\n",
       "        vertical-align: middle;\n",
       "    }\n",
       "\n",
       "    .dataframe tbody tr th {\n",
       "        vertical-align: top;\n",
       "    }\n",
       "\n",
       "    .dataframe thead th {\n",
       "        text-align: right;\n",
       "    }\n",
       "</style>\n",
       "<table border=\"1\" class=\"dataframe\">\n",
       "  <thead>\n",
       "    <tr style=\"text-align: right;\">\n",
       "      <th></th>\n",
       "      <th>IdSensore</th>\n",
       "      <th>Data</th>\n",
       "      <th>Valore_MEAN_id_day</th>\n",
       "      <th>Valore_COUNT_id_day</th>\n",
       "      <th>Valore_STD_id_day</th>\n",
       "      <th>NomeTipoSensore</th>\n",
       "      <th>UnitaMisura</th>\n",
       "      <th>Idstazione</th>\n",
       "      <th>NomeStazione</th>\n",
       "      <th>Quota</th>\n",
       "      <th>Provincia</th>\n",
       "      <th>Comune</th>\n",
       "      <th>Storico</th>\n",
       "      <th>DataStart</th>\n",
       "      <th>DataStop</th>\n",
       "      <th>Utm_Nord</th>\n",
       "      <th>UTM_Est</th>\n",
       "      <th>lat</th>\n",
       "      <th>lng</th>\n",
       "      <th>location</th>\n",
       "    </tr>\n",
       "  </thead>\n",
       "  <tbody>\n",
       "    <tr>\n",
       "      <th>300256</th>\n",
       "      <td>30166</td>\n",
       "      <td>2021-12-23</td>\n",
       "      <td>3.6</td>\n",
       "      <td>1</td>\n",
       "      <td>NaN</td>\n",
       "      <td>Benzene</td>\n",
       "      <td>µg/m³</td>\n",
       "      <td>652</td>\n",
       "      <td>Brescia v.Turati</td>\n",
       "      <td>154.0</td>\n",
       "      <td>BS</td>\n",
       "      <td>Brescia</td>\n",
       "      <td>N</td>\n",
       "      <td>2016-01-01</td>\n",
       "      <td>NaT</td>\n",
       "      <td>5043626</td>\n",
       "      <td>596168</td>\n",
       "      <td>45.539529</td>\n",
       "      <td>10.231786</td>\n",
       "      <td>(45.539529434955995, 10.231785907477223)</td>\n",
       "    </tr>\n",
       "    <tr>\n",
       "      <th>300257</th>\n",
       "      <td>30166</td>\n",
       "      <td>2021-12-24</td>\n",
       "      <td>3.1</td>\n",
       "      <td>1</td>\n",
       "      <td>NaN</td>\n",
       "      <td>Benzene</td>\n",
       "      <td>µg/m³</td>\n",
       "      <td>652</td>\n",
       "      <td>Brescia v.Turati</td>\n",
       "      <td>154.0</td>\n",
       "      <td>BS</td>\n",
       "      <td>Brescia</td>\n",
       "      <td>N</td>\n",
       "      <td>2016-01-01</td>\n",
       "      <td>NaT</td>\n",
       "      <td>5043626</td>\n",
       "      <td>596168</td>\n",
       "      <td>45.539529</td>\n",
       "      <td>10.231786</td>\n",
       "      <td>(45.539529434955995, 10.231785907477223)</td>\n",
       "    </tr>\n",
       "    <tr>\n",
       "      <th>300258</th>\n",
       "      <td>30166</td>\n",
       "      <td>2021-12-25</td>\n",
       "      <td>3.3</td>\n",
       "      <td>1</td>\n",
       "      <td>NaN</td>\n",
       "      <td>Benzene</td>\n",
       "      <td>µg/m³</td>\n",
       "      <td>652</td>\n",
       "      <td>Brescia v.Turati</td>\n",
       "      <td>154.0</td>\n",
       "      <td>BS</td>\n",
       "      <td>Brescia</td>\n",
       "      <td>N</td>\n",
       "      <td>2016-01-01</td>\n",
       "      <td>NaT</td>\n",
       "      <td>5043626</td>\n",
       "      <td>596168</td>\n",
       "      <td>45.539529</td>\n",
       "      <td>10.231786</td>\n",
       "      <td>(45.539529434955995, 10.231785907477223)</td>\n",
       "    </tr>\n",
       "    <tr>\n",
       "      <th>300259</th>\n",
       "      <td>30166</td>\n",
       "      <td>2021-12-26</td>\n",
       "      <td>3.1</td>\n",
       "      <td>1</td>\n",
       "      <td>NaN</td>\n",
       "      <td>Benzene</td>\n",
       "      <td>µg/m³</td>\n",
       "      <td>652</td>\n",
       "      <td>Brescia v.Turati</td>\n",
       "      <td>154.0</td>\n",
       "      <td>BS</td>\n",
       "      <td>Brescia</td>\n",
       "      <td>N</td>\n",
       "      <td>2016-01-01</td>\n",
       "      <td>NaT</td>\n",
       "      <td>5043626</td>\n",
       "      <td>596168</td>\n",
       "      <td>45.539529</td>\n",
       "      <td>10.231786</td>\n",
       "      <td>(45.539529434955995, 10.231785907477223)</td>\n",
       "    </tr>\n",
       "    <tr>\n",
       "      <th>300260</th>\n",
       "      <td>30166</td>\n",
       "      <td>2021-12-27</td>\n",
       "      <td>2.4</td>\n",
       "      <td>1</td>\n",
       "      <td>NaN</td>\n",
       "      <td>Benzene</td>\n",
       "      <td>µg/m³</td>\n",
       "      <td>652</td>\n",
       "      <td>Brescia v.Turati</td>\n",
       "      <td>154.0</td>\n",
       "      <td>BS</td>\n",
       "      <td>Brescia</td>\n",
       "      <td>N</td>\n",
       "      <td>2016-01-01</td>\n",
       "      <td>NaT</td>\n",
       "      <td>5043626</td>\n",
       "      <td>596168</td>\n",
       "      <td>45.539529</td>\n",
       "      <td>10.231786</td>\n",
       "      <td>(45.539529434955995, 10.231785907477223)</td>\n",
       "    </tr>\n",
       "  </tbody>\n",
       "</table>\n",
       "</div>"
      ],
      "text/plain": [
       "        IdSensore        Data  Valore_MEAN_id_day  Valore_COUNT_id_day  \\\n",
       "300256      30166  2021-12-23                 3.6                    1   \n",
       "300257      30166  2021-12-24                 3.1                    1   \n",
       "300258      30166  2021-12-25                 3.3                    1   \n",
       "300259      30166  2021-12-26                 3.1                    1   \n",
       "300260      30166  2021-12-27                 2.4                    1   \n",
       "\n",
       "        Valore_STD_id_day NomeTipoSensore UnitaMisura  Idstazione  \\\n",
       "300256                NaN         Benzene       µg/m³         652   \n",
       "300257                NaN         Benzene       µg/m³         652   \n",
       "300258                NaN         Benzene       µg/m³         652   \n",
       "300259                NaN         Benzene       µg/m³         652   \n",
       "300260                NaN         Benzene       µg/m³         652   \n",
       "\n",
       "            NomeStazione  Quota Provincia   Comune Storico  DataStart  \\\n",
       "300256  Brescia v.Turati  154.0        BS  Brescia       N 2016-01-01   \n",
       "300257  Brescia v.Turati  154.0        BS  Brescia       N 2016-01-01   \n",
       "300258  Brescia v.Turati  154.0        BS  Brescia       N 2016-01-01   \n",
       "300259  Brescia v.Turati  154.0        BS  Brescia       N 2016-01-01   \n",
       "300260  Brescia v.Turati  154.0        BS  Brescia       N 2016-01-01   \n",
       "\n",
       "       DataStop  Utm_Nord  UTM_Est        lat        lng  \\\n",
       "300256      NaT   5043626   596168  45.539529  10.231786   \n",
       "300257      NaT   5043626   596168  45.539529  10.231786   \n",
       "300258      NaT   5043626   596168  45.539529  10.231786   \n",
       "300259      NaT   5043626   596168  45.539529  10.231786   \n",
       "300260      NaT   5043626   596168  45.539529  10.231786   \n",
       "\n",
       "                                        location  \n",
       "300256  (45.539529434955995, 10.231785907477223)  \n",
       "300257  (45.539529434955995, 10.231785907477223)  \n",
       "300258  (45.539529434955995, 10.231785907477223)  \n",
       "300259  (45.539529434955995, 10.231785907477223)  \n",
       "300260  (45.539529434955995, 10.231785907477223)  "
      ]
     },
     "execution_count": 30,
     "metadata": {},
     "output_type": "execute_result"
    }
   ],
   "source": [
    "aria_sensori__id_day = pd.merge(aria__id_day, sensori_aria, how = 'inner', on = 'IdSensore')\n",
    "aria_sensori__id_day.tail()"
   ]
  },
  {
   "cell_type": "markdown",
   "id": "097950f4",
   "metadata": {},
   "source": [
    "#### Perchè si perdono delle medie facendo il JOIN ?\n",
    "Si passa 313000 ca a 30100 circa righe, questo è dovuto al fatto che:\n",
    "- Praticamente ci sono **88 sensori** che compaiono solo in **aria_20_21 ma non sono registrati** in **sensori_aria**\n",
    "- Nel join quindi si perdono **PERDIAMO CIRCA 13000 medie**\n",
    "- Ho conbtrollato proprio ‘manualmente’ e a perdersi nel JOIN sono proprio quei sensori che non compaiono nel dataset sensori"
   ]
  },
  {
   "cell_type": "code",
   "execution_count": 31,
   "id": "df852392",
   "metadata": {
    "ExecuteTime": {
     "end_time": "2022-01-10T17:10:12.251126Z",
     "start_time": "2022-01-10T17:10:12.092119Z"
    }
   },
   "outputs": [
    {
     "name": "stdout",
     "output_type": "stream",
     "text": [
      "88\n",
      "12650\n",
      "12650\n"
     ]
    }
   ],
   "source": [
    "# Numero di sensori che non compaiono in sensori_aria\n",
    "print(len(aria_20_21[~aria_20_21.IdSensore.isin(sensori_aria.IdSensore)]['IdSensore'].unique()))\n",
    "lista = aria_20_21[~aria_20_21.IdSensore.isin(sensori_aria.IdSensore)]['IdSensore'].unique()\n",
    "# Numero di righe di aria__id_day relative a quei sensori\n",
    "print(aria__id_day[aria__id_day.IdSensore.isin(lista)].shape[0])\n",
    "# Numero di righe perse nel join \n",
    "print(aria__id_day.shape[0] - aria_sensori__id_day.shape[0])"
   ]
  },
  {
   "cell_type": "markdown",
   "id": "e0ab4d56",
   "metadata": {},
   "source": [
    "#### Verifica significato MEDIE ottenuti da UNA SOLA MISURAZIONE (93000 su 313948)"
   ]
  },
  {
   "cell_type": "code",
   "execution_count": 32,
   "id": "b42bc3a2",
   "metadata": {
    "ExecuteTime": {
     "end_time": "2022-01-10T17:10:12.299155Z",
     "start_time": "2022-01-10T17:10:12.252119Z"
    },
    "scrolled": true
   },
   "outputs": [
    {
     "data": {
      "text/plain": [
       "NomeTipoSensore\n",
       "Biossido di Azoto           61155\n",
       "Ossidi di Azoto             60423\n",
       "PM10 (SM2005)               45757\n",
       "Ozono                       36737\n",
       "Monossido di Carbonio       32212\n",
       "Biossido di Zolfo           23856\n",
       "Particelle sospese PM2.5    23294\n",
       "Benzene                     16827\n",
       "dtype: int64"
      ]
     },
     "execution_count": 32,
     "metadata": {},
     "output_type": "execute_result"
    }
   ],
   "source": [
    "aria_sensori__id_day.value_counts('NomeTipoSensore')"
   ]
  },
  {
   "cell_type": "code",
   "execution_count": 33,
   "id": "5a3f7a8d",
   "metadata": {
    "ExecuteTime": {
     "end_time": "2022-01-10T17:10:12.379194Z",
     "start_time": "2022-01-10T17:10:12.300151Z"
    }
   },
   "outputs": [
    {
     "data": {
      "text/plain": [
       "NomeTipoSensore\n",
       "PM10 (SM2005)               44765\n",
       "Particelle sospese PM2.5    22414\n",
       "Benzene                     15689\n",
       "Biossido di Azoto             520\n",
       "Ossidi di Azoto               489\n",
       "Ozono                         287\n",
       "Monossido di Carbonio         237\n",
       "Biossido di Zolfo             155\n",
       "dtype: int64"
      ]
     },
     "execution_count": 33,
     "metadata": {},
     "output_type": "execute_result"
    }
   ],
   "source": [
    "aria_sensori__id_day[(aria_sensori__id_day.Valore_COUNT_id_day == 1)].value_counts('NomeTipoSensore')"
   ]
  },
  {
   "cell_type": "markdown",
   "id": "3e0903a2",
   "metadata": {},
   "source": [
    "**67000 di queste sono PM10 e PM2.5**\n",
    "- giustificate dal fatto che sono già fornite in quanto medie (ecco perchè solo una misurazione !)\n",
    "- Non le elimino"
   ]
  },
  {
   "cell_type": "code",
   "execution_count": 34,
   "id": "fea749be",
   "metadata": {
    "ExecuteTime": {
     "end_time": "2022-01-10T17:10:12.553167Z",
     "start_time": "2022-01-10T17:10:12.382121Z"
    }
   },
   "outputs": [
    {
     "name": "stdout",
     "output_type": "stream",
     "text": [
      "NomeTipoSensore\n",
      "PM10 (SM2005)               44765\n",
      "Particelle sospese PM2.5    22414\n",
      "dtype: int64\n",
      "(67179, 20)\n"
     ]
    }
   ],
   "source": [
    "print(aria_sensori__id_day[\n",
    "    ((aria_sensori__id_day.NomeTipoSensore == 'PM10 (SM2005)')\n",
    "    | (aria_sensori__id_day.NomeTipoSensore == 'Particolato Totale Sospeso')\n",
    "    | (aria_sensori__id_day.NomeTipoSensore == 'Particelle sospese PM2.5')) & (aria_sensori__id_day.Valore_COUNT_id_day == 1)].value_counts('NomeTipoSensore'))\n",
    "print(aria_sensori__id_day[\n",
    "    ((aria_sensori__id_day.NomeTipoSensore == 'PM10 (SM2005)')\n",
    "    | (aria_sensori__id_day.NomeTipoSensore == 'Particolato Totale Sospeso')\n",
    "    | (aria_sensori__id_day.NomeTipoSensore == 'Particelle sospese PM2.5')) & (aria_sensori__id_day.Valore_COUNT_id_day == 1)].shape)"
   ]
  },
  {
   "cell_type": "markdown",
   "id": "8c860b96",
   "metadata": {},
   "source": [
    "#### Quali medie non sono relative al particolato ma comunque hanno una sola misurazione ? Perchè ?\n",
    "- Quasi tutte le misurazioni del benzene (15689 su 16828) son oda una misurazione, deduco anche qui allora che sia un valore mediato"
   ]
  },
  {
   "cell_type": "code",
   "execution_count": 35,
   "id": "eaf92178",
   "metadata": {
    "ExecuteTime": {
     "end_time": "2022-01-10T17:10:12.633115Z",
     "start_time": "2022-01-10T17:10:12.556121Z"
    }
   },
   "outputs": [
    {
     "data": {
      "text/plain": [
       "NomeTipoSensore\n",
       "Benzene                  15689\n",
       "Biossido di Azoto          520\n",
       "Ossidi di Azoto            489\n",
       "Ozono                      287\n",
       "Monossido di Carbonio      237\n",
       "Biossido di Zolfo          155\n",
       "dtype: int64"
      ]
     },
     "execution_count": 35,
     "metadata": {},
     "output_type": "execute_result"
    }
   ],
   "source": [
    "aria_sensori__id_day[\n",
    "    ((aria_sensori__id_day.NomeTipoSensore != 'PM10 (SM2005)')\n",
    "    & (aria_sensori__id_day.NomeTipoSensore != 'Particolato Totale Sospeso')\n",
    "    & (aria_sensori__id_day.NomeTipoSensore != 'Particelle sospese PM2.5')) & (aria_sensori__id_day.Valore_COUNT_id_day == 1)].value_counts('NomeTipoSensore')"
   ]
  },
  {
   "cell_type": "code",
   "execution_count": 36,
   "id": "c81791bf",
   "metadata": {
    "ExecuteTime": {
     "end_time": "2022-01-10T17:10:12.776159Z",
     "start_time": "2022-01-10T17:10:12.634115Z"
    }
   },
   "outputs": [
    {
     "data": {
      "text/plain": [
       "NomeTipoSensore\n",
       "Biossido di Azoto        61155\n",
       "Ossidi di Azoto          60423\n",
       "Ozono                    36737\n",
       "Monossido di Carbonio    32212\n",
       "Biossido di Zolfo        23856\n",
       "Benzene                  16827\n",
       "dtype: int64"
      ]
     },
     "execution_count": 36,
     "metadata": {},
     "output_type": "execute_result"
    }
   ],
   "source": [
    "aria_sensori__id_day[\n",
    "    ((aria_sensori__id_day.NomeTipoSensore != 'PM10 (SM2005)')\n",
    "    & (aria_sensori__id_day.NomeTipoSensore != 'Particolato Totale Sospeso')\n",
    "    & (aria_sensori__id_day.NomeTipoSensore != 'Particelle sospese PM2.5'))].value_counts('NomeTipoSensore')"
   ]
  },
  {
   "cell_type": "markdown",
   "id": "e3745812",
   "metadata": {},
   "source": [
    "#### Mentre per le altre grandezze sembrano effettivamente errori, queste le RIMUOVO\n",
    "    - Un totale di 1688 righe"
   ]
  },
  {
   "cell_type": "code",
   "execution_count": 37,
   "id": "ce3a00c2",
   "metadata": {
    "ExecuteTime": {
     "end_time": "2022-01-10T17:10:12.871150Z",
     "start_time": "2022-01-10T17:10:12.779121Z"
    }
   },
   "outputs": [
    {
     "data": {
      "text/plain": [
       "1688"
      ]
     },
     "execution_count": 37,
     "metadata": {},
     "output_type": "execute_result"
    }
   ],
   "source": [
    "aria_sensori__id_day[\n",
    "    ((aria_sensori__id_day.NomeTipoSensore != 'PM10 (SM2005)')\n",
    "    & (aria_sensori__id_day.NomeTipoSensore != 'Particolato Totale Sospeso')\n",
    "    & (aria_sensori__id_day.NomeTipoSensore != 'Particelle sospese PM2.5') \n",
    "    & (aria_sensori__id_day.NomeTipoSensore != 'Benzene') & (aria_sensori__id_day.Valore_COUNT_id_day == 1))].shape[0]"
   ]
  },
  {
   "cell_type": "code",
   "execution_count": 38,
   "id": "69177411",
   "metadata": {
    "ExecuteTime": {
     "end_time": "2022-01-10T17:10:13.062194Z",
     "start_time": "2022-01-10T17:10:12.872119Z"
    }
   },
   "outputs": [
    {
     "data": {
      "text/html": [
       "<div>\n",
       "<style scoped>\n",
       "    .dataframe tbody tr th:only-of-type {\n",
       "        vertical-align: middle;\n",
       "    }\n",
       "\n",
       "    .dataframe tbody tr th {\n",
       "        vertical-align: top;\n",
       "    }\n",
       "\n",
       "    .dataframe thead th {\n",
       "        text-align: right;\n",
       "    }\n",
       "</style>\n",
       "<table border=\"1\" class=\"dataframe\">\n",
       "  <thead>\n",
       "    <tr style=\"text-align: right;\">\n",
       "      <th></th>\n",
       "      <th>IdSensore</th>\n",
       "      <th>Data</th>\n",
       "      <th>Valore_MEAN_id_day</th>\n",
       "      <th>Valore_COUNT_id_day</th>\n",
       "      <th>Valore_STD_id_day</th>\n",
       "      <th>NomeTipoSensore</th>\n",
       "      <th>UnitaMisura</th>\n",
       "      <th>Idstazione</th>\n",
       "      <th>NomeStazione</th>\n",
       "      <th>Quota</th>\n",
       "      <th>Provincia</th>\n",
       "      <th>Comune</th>\n",
       "      <th>Storico</th>\n",
       "      <th>DataStart</th>\n",
       "      <th>DataStop</th>\n",
       "      <th>Utm_Nord</th>\n",
       "      <th>UTM_Est</th>\n",
       "      <th>lat</th>\n",
       "      <th>lng</th>\n",
       "      <th>location</th>\n",
       "    </tr>\n",
       "  </thead>\n",
       "  <tbody>\n",
       "    <tr>\n",
       "      <th>0</th>\n",
       "      <td>5504</td>\n",
       "      <td>2020-01-01</td>\n",
       "      <td>107.595833</td>\n",
       "      <td>24</td>\n",
       "      <td>20.571624</td>\n",
       "      <td>Biossido di Azoto</td>\n",
       "      <td>µg/m³</td>\n",
       "      <td>501</td>\n",
       "      <td>Milano v.Marche</td>\n",
       "      <td>129.0</td>\n",
       "      <td>MI</td>\n",
       "      <td>Milano</td>\n",
       "      <td>N</td>\n",
       "      <td>1980-09-18</td>\n",
       "      <td>NaT</td>\n",
       "      <td>5038105</td>\n",
       "      <td>514918</td>\n",
       "      <td>45.496316</td>\n",
       "      <td>9.190934</td>\n",
       "      <td>(45.49631644365102, 9.190933555313624)</td>\n",
       "    </tr>\n",
       "    <tr>\n",
       "      <th>1</th>\n",
       "      <td>5504</td>\n",
       "      <td>2020-01-02</td>\n",
       "      <td>NaN</td>\n",
       "      <td>0</td>\n",
       "      <td>NaN</td>\n",
       "      <td>Biossido di Azoto</td>\n",
       "      <td>µg/m³</td>\n",
       "      <td>501</td>\n",
       "      <td>Milano v.Marche</td>\n",
       "      <td>129.0</td>\n",
       "      <td>MI</td>\n",
       "      <td>Milano</td>\n",
       "      <td>N</td>\n",
       "      <td>1980-09-18</td>\n",
       "      <td>NaT</td>\n",
       "      <td>5038105</td>\n",
       "      <td>514918</td>\n",
       "      <td>45.496316</td>\n",
       "      <td>9.190934</td>\n",
       "      <td>(45.49631644365102, 9.190933555313624)</td>\n",
       "    </tr>\n",
       "    <tr>\n",
       "      <th>2</th>\n",
       "      <td>5504</td>\n",
       "      <td>2020-01-03</td>\n",
       "      <td>43.212500</td>\n",
       "      <td>24</td>\n",
       "      <td>8.894615</td>\n",
       "      <td>Biossido di Azoto</td>\n",
       "      <td>µg/m³</td>\n",
       "      <td>501</td>\n",
       "      <td>Milano v.Marche</td>\n",
       "      <td>129.0</td>\n",
       "      <td>MI</td>\n",
       "      <td>Milano</td>\n",
       "      <td>N</td>\n",
       "      <td>1980-09-18</td>\n",
       "      <td>NaT</td>\n",
       "      <td>5038105</td>\n",
       "      <td>514918</td>\n",
       "      <td>45.496316</td>\n",
       "      <td>9.190934</td>\n",
       "      <td>(45.49631644365102, 9.190933555313624)</td>\n",
       "    </tr>\n",
       "    <tr>\n",
       "      <th>3</th>\n",
       "      <td>5504</td>\n",
       "      <td>2020-01-04</td>\n",
       "      <td>34.512500</td>\n",
       "      <td>24</td>\n",
       "      <td>15.291609</td>\n",
       "      <td>Biossido di Azoto</td>\n",
       "      <td>µg/m³</td>\n",
       "      <td>501</td>\n",
       "      <td>Milano v.Marche</td>\n",
       "      <td>129.0</td>\n",
       "      <td>MI</td>\n",
       "      <td>Milano</td>\n",
       "      <td>N</td>\n",
       "      <td>1980-09-18</td>\n",
       "      <td>NaT</td>\n",
       "      <td>5038105</td>\n",
       "      <td>514918</td>\n",
       "      <td>45.496316</td>\n",
       "      <td>9.190934</td>\n",
       "      <td>(45.49631644365102, 9.190933555313624)</td>\n",
       "    </tr>\n",
       "    <tr>\n",
       "      <th>4</th>\n",
       "      <td>5504</td>\n",
       "      <td>2020-01-05</td>\n",
       "      <td>18.654167</td>\n",
       "      <td>24</td>\n",
       "      <td>7.783873</td>\n",
       "      <td>Biossido di Azoto</td>\n",
       "      <td>µg/m³</td>\n",
       "      <td>501</td>\n",
       "      <td>Milano v.Marche</td>\n",
       "      <td>129.0</td>\n",
       "      <td>MI</td>\n",
       "      <td>Milano</td>\n",
       "      <td>N</td>\n",
       "      <td>1980-09-18</td>\n",
       "      <td>NaT</td>\n",
       "      <td>5038105</td>\n",
       "      <td>514918</td>\n",
       "      <td>45.496316</td>\n",
       "      <td>9.190934</td>\n",
       "      <td>(45.49631644365102, 9.190933555313624)</td>\n",
       "    </tr>\n",
       "    <tr>\n",
       "      <th>...</th>\n",
       "      <td>...</td>\n",
       "      <td>...</td>\n",
       "      <td>...</td>\n",
       "      <td>...</td>\n",
       "      <td>...</td>\n",
       "      <td>...</td>\n",
       "      <td>...</td>\n",
       "      <td>...</td>\n",
       "      <td>...</td>\n",
       "      <td>...</td>\n",
       "      <td>...</td>\n",
       "      <td>...</td>\n",
       "      <td>...</td>\n",
       "      <td>...</td>\n",
       "      <td>...</td>\n",
       "      <td>...</td>\n",
       "      <td>...</td>\n",
       "      <td>...</td>\n",
       "      <td>...</td>\n",
       "      <td>...</td>\n",
       "    </tr>\n",
       "    <tr>\n",
       "      <th>298568</th>\n",
       "      <td>30166</td>\n",
       "      <td>2021-12-23</td>\n",
       "      <td>3.600000</td>\n",
       "      <td>1</td>\n",
       "      <td>NaN</td>\n",
       "      <td>Benzene</td>\n",
       "      <td>µg/m³</td>\n",
       "      <td>652</td>\n",
       "      <td>Brescia v.Turati</td>\n",
       "      <td>154.0</td>\n",
       "      <td>BS</td>\n",
       "      <td>Brescia</td>\n",
       "      <td>N</td>\n",
       "      <td>2016-01-01</td>\n",
       "      <td>NaT</td>\n",
       "      <td>5043626</td>\n",
       "      <td>596168</td>\n",
       "      <td>45.539529</td>\n",
       "      <td>10.231786</td>\n",
       "      <td>(45.539529434955995, 10.231785907477223)</td>\n",
       "    </tr>\n",
       "    <tr>\n",
       "      <th>298569</th>\n",
       "      <td>30166</td>\n",
       "      <td>2021-12-24</td>\n",
       "      <td>3.100000</td>\n",
       "      <td>1</td>\n",
       "      <td>NaN</td>\n",
       "      <td>Benzene</td>\n",
       "      <td>µg/m³</td>\n",
       "      <td>652</td>\n",
       "      <td>Brescia v.Turati</td>\n",
       "      <td>154.0</td>\n",
       "      <td>BS</td>\n",
       "      <td>Brescia</td>\n",
       "      <td>N</td>\n",
       "      <td>2016-01-01</td>\n",
       "      <td>NaT</td>\n",
       "      <td>5043626</td>\n",
       "      <td>596168</td>\n",
       "      <td>45.539529</td>\n",
       "      <td>10.231786</td>\n",
       "      <td>(45.539529434955995, 10.231785907477223)</td>\n",
       "    </tr>\n",
       "    <tr>\n",
       "      <th>298570</th>\n",
       "      <td>30166</td>\n",
       "      <td>2021-12-25</td>\n",
       "      <td>3.300000</td>\n",
       "      <td>1</td>\n",
       "      <td>NaN</td>\n",
       "      <td>Benzene</td>\n",
       "      <td>µg/m³</td>\n",
       "      <td>652</td>\n",
       "      <td>Brescia v.Turati</td>\n",
       "      <td>154.0</td>\n",
       "      <td>BS</td>\n",
       "      <td>Brescia</td>\n",
       "      <td>N</td>\n",
       "      <td>2016-01-01</td>\n",
       "      <td>NaT</td>\n",
       "      <td>5043626</td>\n",
       "      <td>596168</td>\n",
       "      <td>45.539529</td>\n",
       "      <td>10.231786</td>\n",
       "      <td>(45.539529434955995, 10.231785907477223)</td>\n",
       "    </tr>\n",
       "    <tr>\n",
       "      <th>298571</th>\n",
       "      <td>30166</td>\n",
       "      <td>2021-12-26</td>\n",
       "      <td>3.100000</td>\n",
       "      <td>1</td>\n",
       "      <td>NaN</td>\n",
       "      <td>Benzene</td>\n",
       "      <td>µg/m³</td>\n",
       "      <td>652</td>\n",
       "      <td>Brescia v.Turati</td>\n",
       "      <td>154.0</td>\n",
       "      <td>BS</td>\n",
       "      <td>Brescia</td>\n",
       "      <td>N</td>\n",
       "      <td>2016-01-01</td>\n",
       "      <td>NaT</td>\n",
       "      <td>5043626</td>\n",
       "      <td>596168</td>\n",
       "      <td>45.539529</td>\n",
       "      <td>10.231786</td>\n",
       "      <td>(45.539529434955995, 10.231785907477223)</td>\n",
       "    </tr>\n",
       "    <tr>\n",
       "      <th>298572</th>\n",
       "      <td>30166</td>\n",
       "      <td>2021-12-27</td>\n",
       "      <td>2.400000</td>\n",
       "      <td>1</td>\n",
       "      <td>NaN</td>\n",
       "      <td>Benzene</td>\n",
       "      <td>µg/m³</td>\n",
       "      <td>652</td>\n",
       "      <td>Brescia v.Turati</td>\n",
       "      <td>154.0</td>\n",
       "      <td>BS</td>\n",
       "      <td>Brescia</td>\n",
       "      <td>N</td>\n",
       "      <td>2016-01-01</td>\n",
       "      <td>NaT</td>\n",
       "      <td>5043626</td>\n",
       "      <td>596168</td>\n",
       "      <td>45.539529</td>\n",
       "      <td>10.231786</td>\n",
       "      <td>(45.539529434955995, 10.231785907477223)</td>\n",
       "    </tr>\n",
       "  </tbody>\n",
       "</table>\n",
       "<p>298573 rows × 20 columns</p>\n",
       "</div>"
      ],
      "text/plain": [
       "        IdSensore        Data  Valore_MEAN_id_day  Valore_COUNT_id_day  \\\n",
       "0            5504  2020-01-01          107.595833                   24   \n",
       "1            5504  2020-01-02                 NaN                    0   \n",
       "2            5504  2020-01-03           43.212500                   24   \n",
       "3            5504  2020-01-04           34.512500                   24   \n",
       "4            5504  2020-01-05           18.654167                   24   \n",
       "...           ...         ...                 ...                  ...   \n",
       "298568      30166  2021-12-23            3.600000                    1   \n",
       "298569      30166  2021-12-24            3.100000                    1   \n",
       "298570      30166  2021-12-25            3.300000                    1   \n",
       "298571      30166  2021-12-26            3.100000                    1   \n",
       "298572      30166  2021-12-27            2.400000                    1   \n",
       "\n",
       "        Valore_STD_id_day    NomeTipoSensore UnitaMisura  Idstazione  \\\n",
       "0               20.571624  Biossido di Azoto       µg/m³         501   \n",
       "1                     NaN  Biossido di Azoto       µg/m³         501   \n",
       "2                8.894615  Biossido di Azoto       µg/m³         501   \n",
       "3               15.291609  Biossido di Azoto       µg/m³         501   \n",
       "4                7.783873  Biossido di Azoto       µg/m³         501   \n",
       "...                   ...                ...         ...         ...   \n",
       "298568                NaN            Benzene       µg/m³         652   \n",
       "298569                NaN            Benzene       µg/m³         652   \n",
       "298570                NaN            Benzene       µg/m³         652   \n",
       "298571                NaN            Benzene       µg/m³         652   \n",
       "298572                NaN            Benzene       µg/m³         652   \n",
       "\n",
       "            NomeStazione  Quota Provincia   Comune Storico  DataStart  \\\n",
       "0        Milano v.Marche  129.0        MI   Milano       N 1980-09-18   \n",
       "1        Milano v.Marche  129.0        MI   Milano       N 1980-09-18   \n",
       "2        Milano v.Marche  129.0        MI   Milano       N 1980-09-18   \n",
       "3        Milano v.Marche  129.0        MI   Milano       N 1980-09-18   \n",
       "4        Milano v.Marche  129.0        MI   Milano       N 1980-09-18   \n",
       "...                  ...    ...       ...      ...     ...        ...   \n",
       "298568  Brescia v.Turati  154.0        BS  Brescia       N 2016-01-01   \n",
       "298569  Brescia v.Turati  154.0        BS  Brescia       N 2016-01-01   \n",
       "298570  Brescia v.Turati  154.0        BS  Brescia       N 2016-01-01   \n",
       "298571  Brescia v.Turati  154.0        BS  Brescia       N 2016-01-01   \n",
       "298572  Brescia v.Turati  154.0        BS  Brescia       N 2016-01-01   \n",
       "\n",
       "       DataStop  Utm_Nord  UTM_Est        lat        lng  \\\n",
       "0           NaT   5038105   514918  45.496316   9.190934   \n",
       "1           NaT   5038105   514918  45.496316   9.190934   \n",
       "2           NaT   5038105   514918  45.496316   9.190934   \n",
       "3           NaT   5038105   514918  45.496316   9.190934   \n",
       "4           NaT   5038105   514918  45.496316   9.190934   \n",
       "...         ...       ...      ...        ...        ...   \n",
       "298568      NaT   5043626   596168  45.539529  10.231786   \n",
       "298569      NaT   5043626   596168  45.539529  10.231786   \n",
       "298570      NaT   5043626   596168  45.539529  10.231786   \n",
       "298571      NaT   5043626   596168  45.539529  10.231786   \n",
       "298572      NaT   5043626   596168  45.539529  10.231786   \n",
       "\n",
       "                                        location  \n",
       "0         (45.49631644365102, 9.190933555313624)  \n",
       "1         (45.49631644365102, 9.190933555313624)  \n",
       "2         (45.49631644365102, 9.190933555313624)  \n",
       "3         (45.49631644365102, 9.190933555313624)  \n",
       "4         (45.49631644365102, 9.190933555313624)  \n",
       "...                                          ...  \n",
       "298568  (45.539529434955995, 10.231785907477223)  \n",
       "298569  (45.539529434955995, 10.231785907477223)  \n",
       "298570  (45.539529434955995, 10.231785907477223)  \n",
       "298571  (45.539529434955995, 10.231785907477223)  \n",
       "298572  (45.539529434955995, 10.231785907477223)  \n",
       "\n",
       "[298573 rows x 20 columns]"
      ]
     },
     "execution_count": 38,
     "metadata": {},
     "output_type": "execute_result"
    }
   ],
   "source": [
    "aria_sensori__id_day.drop(aria_sensori__id_day[\n",
    "    ((aria_sensori__id_day.NomeTipoSensore != 'PM10 (SM2005)')\n",
    "    & (aria_sensori__id_day.NomeTipoSensore != 'Particolato Totale Sospeso')\n",
    "    & (aria_sensori__id_day.NomeTipoSensore != 'Particelle sospese PM2.5') \n",
    "    & (aria_sensori__id_day.NomeTipoSensore != 'Benzene') & (aria_sensori__id_day.Valore_COUNT_id_day == 1))].index, inplace=True)\n",
    "aria_sensori__id_day.reset_index(drop=True, inplace=True)\n",
    "aria_sensori__id_day"
   ]
  },
  {
   "cell_type": "markdown",
   "id": "085b8937",
   "metadata": {},
   "source": [
    "#### Verifico il numero sensori con `DataStart` dopo il `2019-12-31` e li rimuovo (edited)"
   ]
  },
  {
   "cell_type": "code",
   "execution_count": 39,
   "id": "43271e44",
   "metadata": {
    "ExecuteTime": {
     "end_time": "2022-01-10T17:10:13.078117Z",
     "start_time": "2022-01-10T17:10:13.066162Z"
    }
   },
   "outputs": [],
   "source": [
    "#sum(aria_sensori__id_day['DataStart'] > '2019-12-31')"
   ]
  },
  {
   "cell_type": "code",
   "execution_count": 40,
   "id": "26870905",
   "metadata": {
    "ExecuteTime": {
     "end_time": "2022-01-10T17:10:13.094118Z",
     "start_time": "2022-01-10T17:10:13.079118Z"
    }
   },
   "outputs": [],
   "source": [
    "#aria_sensori__id_day = aria_sensori__id_day.drop(aria_sensori__id_day[aria_sensori__id_day['DataStart'] > '2019-12-31'].index)\n",
    "#aria_sensori__id_day.reset_index(drop=True, inplace=True)"
   ]
  },
  {
   "cell_type": "markdown",
   "id": "3ae08617",
   "metadata": {},
   "source": [
    "Numero sensori con `DataStop` diversa da NA"
   ]
  },
  {
   "cell_type": "code",
   "execution_count": 41,
   "id": "641f6ad4",
   "metadata": {
    "ExecuteTime": {
     "end_time": "2022-01-10T17:10:13.110116Z",
     "start_time": "2022-01-10T17:10:13.096119Z"
    }
   },
   "outputs": [],
   "source": [
    "#sum(~aria_sensori__id_day['DataStop'].isna())"
   ]
  },
  {
   "cell_type": "markdown",
   "id": "35c20862",
   "metadata": {},
   "source": [
    "## JOIN con zonizzazione\n",
    "\n",
    "Inner joint tra `aria_sensori__id_day` e `zonizzazione` a dare `aria_sensori_zone__id_day`"
   ]
  },
  {
   "cell_type": "code",
   "execution_count": 42,
   "id": "07bf353e",
   "metadata": {
    "ExecuteTime": {
     "end_time": "2022-01-10T17:10:13.843115Z",
     "start_time": "2022-01-10T17:10:13.111118Z"
    }
   },
   "outputs": [
    {
     "data": {
      "text/html": [
       "<div>\n",
       "<style scoped>\n",
       "    .dataframe tbody tr th:only-of-type {\n",
       "        vertical-align: middle;\n",
       "    }\n",
       "\n",
       "    .dataframe tbody tr th {\n",
       "        vertical-align: top;\n",
       "    }\n",
       "\n",
       "    .dataframe thead th {\n",
       "        text-align: right;\n",
       "    }\n",
       "</style>\n",
       "<table border=\"1\" class=\"dataframe\">\n",
       "  <thead>\n",
       "    <tr style=\"text-align: right;\">\n",
       "      <th></th>\n",
       "      <th>key_0</th>\n",
       "      <th>IdSensore</th>\n",
       "      <th>Data</th>\n",
       "      <th>Valore_MEAN_id_day</th>\n",
       "      <th>Valore_COUNT_id_day</th>\n",
       "      <th>Valore_STD_id_day</th>\n",
       "      <th>NomeTipoSensore</th>\n",
       "      <th>UnitaMisura</th>\n",
       "      <th>Idstazione</th>\n",
       "      <th>NomeStazione</th>\n",
       "      <th>...</th>\n",
       "      <th>DataStop</th>\n",
       "      <th>Utm_Nord</th>\n",
       "      <th>UTM_Est</th>\n",
       "      <th>lat</th>\n",
       "      <th>lng</th>\n",
       "      <th>location</th>\n",
       "      <th>Codice Istat</th>\n",
       "      <th>Zona</th>\n",
       "      <th>Residenti 2008</th>\n",
       "      <th>Superficie (ha)</th>\n",
       "    </tr>\n",
       "  </thead>\n",
       "  <tbody>\n",
       "    <tr>\n",
       "      <th>0</th>\n",
       "      <td>milano</td>\n",
       "      <td>5504</td>\n",
       "      <td>2020-01-01</td>\n",
       "      <td>107.595833</td>\n",
       "      <td>24</td>\n",
       "      <td>20.571624</td>\n",
       "      <td>Biossido di Azoto</td>\n",
       "      <td>µg/m³</td>\n",
       "      <td>501</td>\n",
       "      <td>Milano v.Marche</td>\n",
       "      <td>...</td>\n",
       "      <td>NaT</td>\n",
       "      <td>5038105</td>\n",
       "      <td>514918</td>\n",
       "      <td>45.496316</td>\n",
       "      <td>9.190934</td>\n",
       "      <td>(45.49631644365102, 9.190933555313624)</td>\n",
       "      <td>15146</td>\n",
       "      <td>AGG MI</td>\n",
       "      <td>1307495</td>\n",
       "      <td>18175</td>\n",
       "    </tr>\n",
       "    <tr>\n",
       "      <th>1</th>\n",
       "      <td>milano</td>\n",
       "      <td>5504</td>\n",
       "      <td>2020-01-02</td>\n",
       "      <td>NaN</td>\n",
       "      <td>0</td>\n",
       "      <td>NaN</td>\n",
       "      <td>Biossido di Azoto</td>\n",
       "      <td>µg/m³</td>\n",
       "      <td>501</td>\n",
       "      <td>Milano v.Marche</td>\n",
       "      <td>...</td>\n",
       "      <td>NaT</td>\n",
       "      <td>5038105</td>\n",
       "      <td>514918</td>\n",
       "      <td>45.496316</td>\n",
       "      <td>9.190934</td>\n",
       "      <td>(45.49631644365102, 9.190933555313624)</td>\n",
       "      <td>15146</td>\n",
       "      <td>AGG MI</td>\n",
       "      <td>1307495</td>\n",
       "      <td>18175</td>\n",
       "    </tr>\n",
       "    <tr>\n",
       "      <th>2</th>\n",
       "      <td>milano</td>\n",
       "      <td>5504</td>\n",
       "      <td>2020-01-03</td>\n",
       "      <td>43.212500</td>\n",
       "      <td>24</td>\n",
       "      <td>8.894615</td>\n",
       "      <td>Biossido di Azoto</td>\n",
       "      <td>µg/m³</td>\n",
       "      <td>501</td>\n",
       "      <td>Milano v.Marche</td>\n",
       "      <td>...</td>\n",
       "      <td>NaT</td>\n",
       "      <td>5038105</td>\n",
       "      <td>514918</td>\n",
       "      <td>45.496316</td>\n",
       "      <td>9.190934</td>\n",
       "      <td>(45.49631644365102, 9.190933555313624)</td>\n",
       "      <td>15146</td>\n",
       "      <td>AGG MI</td>\n",
       "      <td>1307495</td>\n",
       "      <td>18175</td>\n",
       "    </tr>\n",
       "    <tr>\n",
       "      <th>3</th>\n",
       "      <td>milano</td>\n",
       "      <td>5504</td>\n",
       "      <td>2020-01-04</td>\n",
       "      <td>34.512500</td>\n",
       "      <td>24</td>\n",
       "      <td>15.291609</td>\n",
       "      <td>Biossido di Azoto</td>\n",
       "      <td>µg/m³</td>\n",
       "      <td>501</td>\n",
       "      <td>Milano v.Marche</td>\n",
       "      <td>...</td>\n",
       "      <td>NaT</td>\n",
       "      <td>5038105</td>\n",
       "      <td>514918</td>\n",
       "      <td>45.496316</td>\n",
       "      <td>9.190934</td>\n",
       "      <td>(45.49631644365102, 9.190933555313624)</td>\n",
       "      <td>15146</td>\n",
       "      <td>AGG MI</td>\n",
       "      <td>1307495</td>\n",
       "      <td>18175</td>\n",
       "    </tr>\n",
       "    <tr>\n",
       "      <th>4</th>\n",
       "      <td>milano</td>\n",
       "      <td>5504</td>\n",
       "      <td>2020-01-05</td>\n",
       "      <td>18.654167</td>\n",
       "      <td>24</td>\n",
       "      <td>7.783873</td>\n",
       "      <td>Biossido di Azoto</td>\n",
       "      <td>µg/m³</td>\n",
       "      <td>501</td>\n",
       "      <td>Milano v.Marche</td>\n",
       "      <td>...</td>\n",
       "      <td>NaT</td>\n",
       "      <td>5038105</td>\n",
       "      <td>514918</td>\n",
       "      <td>45.496316</td>\n",
       "      <td>9.190934</td>\n",
       "      <td>(45.49631644365102, 9.190933555313624)</td>\n",
       "      <td>15146</td>\n",
       "      <td>AGG MI</td>\n",
       "      <td>1307495</td>\n",
       "      <td>18175</td>\n",
       "    </tr>\n",
       "    <tr>\n",
       "      <th>...</th>\n",
       "      <td>...</td>\n",
       "      <td>...</td>\n",
       "      <td>...</td>\n",
       "      <td>...</td>\n",
       "      <td>...</td>\n",
       "      <td>...</td>\n",
       "      <td>...</td>\n",
       "      <td>...</td>\n",
       "      <td>...</td>\n",
       "      <td>...</td>\n",
       "      <td>...</td>\n",
       "      <td>...</td>\n",
       "      <td>...</td>\n",
       "      <td>...</td>\n",
       "      <td>...</td>\n",
       "      <td>...</td>\n",
       "      <td>...</td>\n",
       "      <td>...</td>\n",
       "      <td>...</td>\n",
       "      <td>...</td>\n",
       "      <td>...</td>\n",
       "    </tr>\n",
       "    <tr>\n",
       "      <th>298568</th>\n",
       "      <td>mezzana bigli</td>\n",
       "      <td>20216</td>\n",
       "      <td>2021-12-21</td>\n",
       "      <td>2.995833</td>\n",
       "      <td>24</td>\n",
       "      <td>0.760709</td>\n",
       "      <td>Biossido di Zolfo</td>\n",
       "      <td>µg/m³</td>\n",
       "      <td>690</td>\n",
       "      <td>Mezzana Bigli loc. Casoni</td>\n",
       "      <td>...</td>\n",
       "      <td>NaT</td>\n",
       "      <td>4990697</td>\n",
       "      <td>489679</td>\n",
       "      <td>45.069659</td>\n",
       "      <td>8.868889</td>\n",
       "      <td>(45.069658641385914, 8.86888929943922)</td>\n",
       "      <td>18090</td>\n",
       "      <td>B</td>\n",
       "      <td>1144</td>\n",
       "      <td>1872</td>\n",
       "    </tr>\n",
       "    <tr>\n",
       "      <th>298569</th>\n",
       "      <td>mezzana bigli</td>\n",
       "      <td>20216</td>\n",
       "      <td>2021-12-22</td>\n",
       "      <td>1.729167</td>\n",
       "      <td>24</td>\n",
       "      <td>0.393953</td>\n",
       "      <td>Biossido di Zolfo</td>\n",
       "      <td>µg/m³</td>\n",
       "      <td>690</td>\n",
       "      <td>Mezzana Bigli loc. Casoni</td>\n",
       "      <td>...</td>\n",
       "      <td>NaT</td>\n",
       "      <td>4990697</td>\n",
       "      <td>489679</td>\n",
       "      <td>45.069659</td>\n",
       "      <td>8.868889</td>\n",
       "      <td>(45.069658641385914, 8.86888929943922)</td>\n",
       "      <td>18090</td>\n",
       "      <td>B</td>\n",
       "      <td>1144</td>\n",
       "      <td>1872</td>\n",
       "    </tr>\n",
       "    <tr>\n",
       "      <th>298570</th>\n",
       "      <td>mezzana bigli</td>\n",
       "      <td>20216</td>\n",
       "      <td>2021-12-23</td>\n",
       "      <td>2.329167</td>\n",
       "      <td>24</td>\n",
       "      <td>0.591593</td>\n",
       "      <td>Biossido di Zolfo</td>\n",
       "      <td>µg/m³</td>\n",
       "      <td>690</td>\n",
       "      <td>Mezzana Bigli loc. Casoni</td>\n",
       "      <td>...</td>\n",
       "      <td>NaT</td>\n",
       "      <td>4990697</td>\n",
       "      <td>489679</td>\n",
       "      <td>45.069659</td>\n",
       "      <td>8.868889</td>\n",
       "      <td>(45.069658641385914, 8.86888929943922)</td>\n",
       "      <td>18090</td>\n",
       "      <td>B</td>\n",
       "      <td>1144</td>\n",
       "      <td>1872</td>\n",
       "    </tr>\n",
       "    <tr>\n",
       "      <th>298571</th>\n",
       "      <td>mezzana bigli</td>\n",
       "      <td>20216</td>\n",
       "      <td>2021-12-24</td>\n",
       "      <td>0.976923</td>\n",
       "      <td>13</td>\n",
       "      <td>0.527816</td>\n",
       "      <td>Biossido di Zolfo</td>\n",
       "      <td>µg/m³</td>\n",
       "      <td>690</td>\n",
       "      <td>Mezzana Bigli loc. Casoni</td>\n",
       "      <td>...</td>\n",
       "      <td>NaT</td>\n",
       "      <td>4990697</td>\n",
       "      <td>489679</td>\n",
       "      <td>45.069659</td>\n",
       "      <td>8.868889</td>\n",
       "      <td>(45.069658641385914, 8.86888929943922)</td>\n",
       "      <td>18090</td>\n",
       "      <td>B</td>\n",
       "      <td>1144</td>\n",
       "      <td>1872</td>\n",
       "    </tr>\n",
       "    <tr>\n",
       "      <th>298572</th>\n",
       "      <td>mezzana bigli</td>\n",
       "      <td>20216</td>\n",
       "      <td>2021-12-28</td>\n",
       "      <td>NaN</td>\n",
       "      <td>0</td>\n",
       "      <td>NaN</td>\n",
       "      <td>Biossido di Zolfo</td>\n",
       "      <td>µg/m³</td>\n",
       "      <td>690</td>\n",
       "      <td>Mezzana Bigli loc. Casoni</td>\n",
       "      <td>...</td>\n",
       "      <td>NaT</td>\n",
       "      <td>4990697</td>\n",
       "      <td>489679</td>\n",
       "      <td>45.069659</td>\n",
       "      <td>8.868889</td>\n",
       "      <td>(45.069658641385914, 8.86888929943922)</td>\n",
       "      <td>18090</td>\n",
       "      <td>B</td>\n",
       "      <td>1144</td>\n",
       "      <td>1872</td>\n",
       "    </tr>\n",
       "  </tbody>\n",
       "</table>\n",
       "<p>298573 rows × 25 columns</p>\n",
       "</div>"
      ],
      "text/plain": [
       "                key_0  IdSensore        Data  Valore_MEAN_id_day  \\\n",
       "0              milano       5504  2020-01-01          107.595833   \n",
       "1              milano       5504  2020-01-02                 NaN   \n",
       "2              milano       5504  2020-01-03           43.212500   \n",
       "3              milano       5504  2020-01-04           34.512500   \n",
       "4              milano       5504  2020-01-05           18.654167   \n",
       "...               ...        ...         ...                 ...   \n",
       "298568  mezzana bigli      20216  2021-12-21            2.995833   \n",
       "298569  mezzana bigli      20216  2021-12-22            1.729167   \n",
       "298570  mezzana bigli      20216  2021-12-23            2.329167   \n",
       "298571  mezzana bigli      20216  2021-12-24            0.976923   \n",
       "298572  mezzana bigli      20216  2021-12-28                 NaN   \n",
       "\n",
       "        Valore_COUNT_id_day  Valore_STD_id_day    NomeTipoSensore UnitaMisura  \\\n",
       "0                        24          20.571624  Biossido di Azoto       µg/m³   \n",
       "1                         0                NaN  Biossido di Azoto       µg/m³   \n",
       "2                        24           8.894615  Biossido di Azoto       µg/m³   \n",
       "3                        24          15.291609  Biossido di Azoto       µg/m³   \n",
       "4                        24           7.783873  Biossido di Azoto       µg/m³   \n",
       "...                     ...                ...                ...         ...   \n",
       "298568                   24           0.760709  Biossido di Zolfo       µg/m³   \n",
       "298569                   24           0.393953  Biossido di Zolfo       µg/m³   \n",
       "298570                   24           0.591593  Biossido di Zolfo       µg/m³   \n",
       "298571                   13           0.527816  Biossido di Zolfo       µg/m³   \n",
       "298572                    0                NaN  Biossido di Zolfo       µg/m³   \n",
       "\n",
       "        Idstazione               NomeStazione  ...  DataStop Utm_Nord UTM_Est  \\\n",
       "0              501            Milano v.Marche  ...       NaT  5038105  514918   \n",
       "1              501            Milano v.Marche  ...       NaT  5038105  514918   \n",
       "2              501            Milano v.Marche  ...       NaT  5038105  514918   \n",
       "3              501            Milano v.Marche  ...       NaT  5038105  514918   \n",
       "4              501            Milano v.Marche  ...       NaT  5038105  514918   \n",
       "...            ...                        ...  ...       ...      ...     ...   \n",
       "298568         690  Mezzana Bigli loc. Casoni  ...       NaT  4990697  489679   \n",
       "298569         690  Mezzana Bigli loc. Casoni  ...       NaT  4990697  489679   \n",
       "298570         690  Mezzana Bigli loc. Casoni  ...       NaT  4990697  489679   \n",
       "298571         690  Mezzana Bigli loc. Casoni  ...       NaT  4990697  489679   \n",
       "298572         690  Mezzana Bigli loc. Casoni  ...       NaT  4990697  489679   \n",
       "\n",
       "              lat       lng                                location  \\\n",
       "0       45.496316  9.190934  (45.49631644365102, 9.190933555313624)   \n",
       "1       45.496316  9.190934  (45.49631644365102, 9.190933555313624)   \n",
       "2       45.496316  9.190934  (45.49631644365102, 9.190933555313624)   \n",
       "3       45.496316  9.190934  (45.49631644365102, 9.190933555313624)   \n",
       "4       45.496316  9.190934  (45.49631644365102, 9.190933555313624)   \n",
       "...           ...       ...                                     ...   \n",
       "298568  45.069659  8.868889  (45.069658641385914, 8.86888929943922)   \n",
       "298569  45.069659  8.868889  (45.069658641385914, 8.86888929943922)   \n",
       "298570  45.069659  8.868889  (45.069658641385914, 8.86888929943922)   \n",
       "298571  45.069659  8.868889  (45.069658641385914, 8.86888929943922)   \n",
       "298572  45.069659  8.868889  (45.069658641385914, 8.86888929943922)   \n",
       "\n",
       "        Codice Istat    Zona  Residenti 2008  Superficie (ha)  \n",
       "0              15146  AGG MI         1307495            18175  \n",
       "1              15146  AGG MI         1307495            18175  \n",
       "2              15146  AGG MI         1307495            18175  \n",
       "3              15146  AGG MI         1307495            18175  \n",
       "4              15146  AGG MI         1307495            18175  \n",
       "...              ...     ...             ...              ...  \n",
       "298568         18090       B            1144             1872  \n",
       "298569         18090       B            1144             1872  \n",
       "298570         18090       B            1144             1872  \n",
       "298571         18090       B            1144             1872  \n",
       "298572         18090       B            1144             1872  \n",
       "\n",
       "[298573 rows x 25 columns]"
      ]
     },
     "execution_count": 42,
     "metadata": {},
     "output_type": "execute_result"
    }
   ],
   "source": [
    "aria_sensori_zone__id_day = pd.merge(aria_sensori__id_day, zonizzazione[['Codice Istat', 'Zona', 'Residenti 2008', 'Superficie (ha)']], left_on = aria_sensori__id_day['Comune'].str.lower(), right_on = zonizzazione['Comune'].str.lower())\n",
    "aria_sensori_zone__id_day"
   ]
  },
  {
   "cell_type": "code",
   "execution_count": 43,
   "id": "470609a4",
   "metadata": {
    "ExecuteTime": {
     "end_time": "2022-01-10T17:10:13.890116Z",
     "start_time": "2022-01-10T17:10:13.844116Z"
    }
   },
   "outputs": [
    {
     "data": {
      "text/plain": [
       "A         101632\n",
       "AGG MI     62032\n",
       "B          60150\n",
       "AGG BG     22916\n",
       "AGG BS     19187\n",
       "C          17072\n",
       "C D        15584\n",
       "Name: Zona, dtype: int64"
      ]
     },
     "execution_count": 43,
     "metadata": {},
     "output_type": "execute_result"
    }
   ],
   "source": [
    "aria_sensori_zone__id_day['Zona'].value_counts()"
   ]
  },
  {
   "cell_type": "markdown",
   "id": "f7005841",
   "metadata": {},
   "source": [
    "Le quote delle stazioni in 'C D' corrispondono a quelle del fondovalle quindi decido di accorparlo alla zona C"
   ]
  },
  {
   "cell_type": "code",
   "execution_count": 44,
   "id": "d7a46a26",
   "metadata": {
    "ExecuteTime": {
     "end_time": "2022-01-10T17:10:13.906118Z",
     "start_time": "2022-01-10T17:10:13.891116Z"
    }
   },
   "outputs": [],
   "source": [
    "aria_sensori_zone__id_day['Zona'].replace('C D', 'C', inplace = True)"
   ]
  },
  {
   "cell_type": "code",
   "execution_count": 45,
   "id": "cb577375",
   "metadata": {
    "ExecuteTime": {
     "end_time": "2022-01-10T17:10:13.953149Z",
     "start_time": "2022-01-10T17:10:13.908118Z"
    }
   },
   "outputs": [
    {
     "data": {
      "text/plain": [
       "A         101632\n",
       "AGG MI     62032\n",
       "B          60150\n",
       "C          32656\n",
       "AGG BG     22916\n",
       "AGG BS     19187\n",
       "Name: Zona, dtype: int64"
      ]
     },
     "execution_count": 45,
     "metadata": {},
     "output_type": "execute_result"
    }
   ],
   "source": [
    "aria_sensori_zone__id_day['Zona'].value_counts()"
   ]
  },
  {
   "cell_type": "markdown",
   "id": "2e8659e8",
   "metadata": {},
   "source": [
    "## Grouping e calcolo grandezze aggegate (GROUP by per Data, Zona e NomeTipoSensore)\n",
    "\n",
    "- Raggruppo per `Data` (giorno), `Zona`, `NomeTipoSensore`\n",
    "- Calcolo grandezze aggregate\n",
    "    - Calcolo il valore medio e la deviazione standard del `Valore_MEAN_id_day`, cioé il valore mediato di un sensore sull'intera giornata\n",
    "    - Importante sottolineare che le funzioni `mean, count e std` di pandas NON tengono conto dei Na, quindi i valori che vediamo sono esatti"
   ]
  },
  {
   "cell_type": "code",
   "execution_count": 46,
   "id": "f4ba47d0",
   "metadata": {
    "ExecuteTime": {
     "end_time": "2022-01-10T17:10:14.273150Z",
     "start_time": "2022-01-10T17:10:13.954152Z"
    }
   },
   "outputs": [
    {
     "data": {
      "text/html": [
       "<div>\n",
       "<style scoped>\n",
       "    .dataframe tbody tr th:only-of-type {\n",
       "        vertical-align: middle;\n",
       "    }\n",
       "\n",
       "    .dataframe tbody tr th {\n",
       "        vertical-align: top;\n",
       "    }\n",
       "\n",
       "    .dataframe thead th {\n",
       "        text-align: right;\n",
       "    }\n",
       "</style>\n",
       "<table border=\"1\" class=\"dataframe\">\n",
       "  <thead>\n",
       "    <tr style=\"text-align: right;\">\n",
       "      <th></th>\n",
       "      <th>Data</th>\n",
       "      <th>Zona</th>\n",
       "      <th>NomeTipoSensore</th>\n",
       "      <th>UnitaMisura</th>\n",
       "      <th>Valore_MEAN_day_zona_tipo</th>\n",
       "      <th>Valore_COUNT_zona_tipo</th>\n",
       "      <th>Valore_STD_zona_tipo</th>\n",
       "    </tr>\n",
       "  </thead>\n",
       "  <tbody>\n",
       "    <tr>\n",
       "      <th>0</th>\n",
       "      <td>2020-01-01</td>\n",
       "      <td>A</td>\n",
       "      <td>Benzene</td>\n",
       "      <td>µg/m³</td>\n",
       "      <td>1.888889</td>\n",
       "      <td>9</td>\n",
       "      <td>0.964941</td>\n",
       "    </tr>\n",
       "    <tr>\n",
       "      <th>1</th>\n",
       "      <td>2020-01-01</td>\n",
       "      <td>A</td>\n",
       "      <td>Biossido di Azoto</td>\n",
       "      <td>µg/m³</td>\n",
       "      <td>41.363580</td>\n",
       "      <td>27</td>\n",
       "      <td>8.871595</td>\n",
       "    </tr>\n",
       "    <tr>\n",
       "      <th>2</th>\n",
       "      <td>2020-01-01</td>\n",
       "      <td>A</td>\n",
       "      <td>Biossido di Zolfo</td>\n",
       "      <td>µg/m³</td>\n",
       "      <td>2.647024</td>\n",
       "      <td>14</td>\n",
       "      <td>1.138938</td>\n",
       "    </tr>\n",
       "    <tr>\n",
       "      <th>3</th>\n",
       "      <td>2020-01-01</td>\n",
       "      <td>A</td>\n",
       "      <td>Monossido di Carbonio</td>\n",
       "      <td>mg/m³</td>\n",
       "      <td>1.178611</td>\n",
       "      <td>15</td>\n",
       "      <td>0.370830</td>\n",
       "    </tr>\n",
       "    <tr>\n",
       "      <th>4</th>\n",
       "      <td>2020-01-01</td>\n",
       "      <td>A</td>\n",
       "      <td>Ossidi di Azoto</td>\n",
       "      <td>µg/m³</td>\n",
       "      <td>101.363117</td>\n",
       "      <td>27</td>\n",
       "      <td>41.988203</td>\n",
       "    </tr>\n",
       "    <tr>\n",
       "      <th>...</th>\n",
       "      <td>...</td>\n",
       "      <td>...</td>\n",
       "      <td>...</td>\n",
       "      <td>...</td>\n",
       "      <td>...</td>\n",
       "      <td>...</td>\n",
       "      <td>...</td>\n",
       "    </tr>\n",
       "    <tr>\n",
       "      <th>34805</th>\n",
       "      <td>2021-12-27</td>\n",
       "      <td>C</td>\n",
       "      <td>Particelle sospese PM2.5</td>\n",
       "      <td>µg/m³</td>\n",
       "      <td>40.333333</td>\n",
       "      <td>3</td>\n",
       "      <td>32.883633</td>\n",
       "    </tr>\n",
       "    <tr>\n",
       "      <th>34806</th>\n",
       "      <td>2021-12-28</td>\n",
       "      <td>AGG BS</td>\n",
       "      <td>Benzene</td>\n",
       "      <td>µg/m³</td>\n",
       "      <td>1.500000</td>\n",
       "      <td>1</td>\n",
       "      <td>NaN</td>\n",
       "    </tr>\n",
       "    <tr>\n",
       "      <th>34807</th>\n",
       "      <td>2021-12-28</td>\n",
       "      <td>B</td>\n",
       "      <td>Biossido di Zolfo</td>\n",
       "      <td>µg/m³</td>\n",
       "      <td>NaN</td>\n",
       "      <td>0</td>\n",
       "      <td>NaN</td>\n",
       "    </tr>\n",
       "    <tr>\n",
       "      <th>34808</th>\n",
       "      <td>2021-12-28</td>\n",
       "      <td>B</td>\n",
       "      <td>Ozono</td>\n",
       "      <td>µg/m³</td>\n",
       "      <td>NaN</td>\n",
       "      <td>0</td>\n",
       "      <td>NaN</td>\n",
       "    </tr>\n",
       "    <tr>\n",
       "      <th>34809</th>\n",
       "      <td>2021-12-28</td>\n",
       "      <td>B</td>\n",
       "      <td>Particelle sospese PM2.5</td>\n",
       "      <td>µg/m³</td>\n",
       "      <td>58.900000</td>\n",
       "      <td>1</td>\n",
       "      <td>NaN</td>\n",
       "    </tr>\n",
       "  </tbody>\n",
       "</table>\n",
       "<p>34810 rows × 7 columns</p>\n",
       "</div>"
      ],
      "text/plain": [
       "             Data    Zona           NomeTipoSensore UnitaMisura  \\\n",
       "0      2020-01-01       A                   Benzene       µg/m³   \n",
       "1      2020-01-01       A         Biossido di Azoto       µg/m³   \n",
       "2      2020-01-01       A         Biossido di Zolfo       µg/m³   \n",
       "3      2020-01-01       A     Monossido di Carbonio       mg/m³   \n",
       "4      2020-01-01       A           Ossidi di Azoto       µg/m³   \n",
       "...           ...     ...                       ...         ...   \n",
       "34805  2021-12-27       C  Particelle sospese PM2.5       µg/m³   \n",
       "34806  2021-12-28  AGG BS                   Benzene       µg/m³   \n",
       "34807  2021-12-28       B         Biossido di Zolfo       µg/m³   \n",
       "34808  2021-12-28       B                     Ozono       µg/m³   \n",
       "34809  2021-12-28       B  Particelle sospese PM2.5       µg/m³   \n",
       "\n",
       "       Valore_MEAN_day_zona_tipo  Valore_COUNT_zona_tipo  Valore_STD_zona_tipo  \n",
       "0                       1.888889                       9              0.964941  \n",
       "1                      41.363580                      27              8.871595  \n",
       "2                       2.647024                      14              1.138938  \n",
       "3                       1.178611                      15              0.370830  \n",
       "4                     101.363117                      27             41.988203  \n",
       "...                          ...                     ...                   ...  \n",
       "34805                  40.333333                       3             32.883633  \n",
       "34806                   1.500000                       1                   NaN  \n",
       "34807                        NaN                       0                   NaN  \n",
       "34808                        NaN                       0                   NaN  \n",
       "34809                  58.900000                       1                   NaN  \n",
       "\n",
       "[34810 rows x 7 columns]"
      ]
     },
     "execution_count": 46,
     "metadata": {},
     "output_type": "execute_result"
    }
   ],
   "source": [
    "aria_sensori_zone__day_zona_tipo = aria_sensori_zone__id_day[['Data', 'Zona', 'NomeTipoSensore', 'UnitaMisura', 'Valore_MEAN_id_day']].groupby([\n",
    "    'Data',\n",
    "    'Zona',\n",
    "    'NomeTipoSensore',\n",
    "    'UnitaMisura'\n",
    "]).agg({\n",
    "    'Valore_MEAN_id_day': ['mean', 'count', 'std']\n",
    "}).reset_index()\n",
    "\n",
    "aria_sensori_zone__day_zona_tipo.columns = ['Data', 'Zona', 'NomeTipoSensore', 'UnitaMisura', 'Valore_MEAN_day_zona_tipo', 'Valore_COUNT_day_zona_tipo', 'Valore_STD_day_zona_tipo']\n",
    "aria_sensori_zone__day_zona_tipo"
   ]
  },
  {
   "cell_type": "markdown",
   "id": "9db95a0c",
   "metadata": {},
   "source": [
    "### Controllo valori mancanti nelle medie giornaliere per zona\n",
    "\n",
    "Abbiamo un po di valori medi mancanti per le terne `Data`-`Zona`-`NomeTipoSensore` (~160)\n",
    "- ci sono terne `Data`-`Zona`-`NomeTipoSensore` mancanti (~80)\n",
    "- ci sono terne `Data`-`Zona`-`NomeTipoSensore` con valore medio NaN (~80)"
   ]
  },
  {
   "cell_type": "code",
   "execution_count": 53,
   "id": "b7d7db6c",
   "metadata": {
    "ExecuteTime": {
     "end_time": "2022-01-10T17:16:15.271698Z",
     "start_time": "2022-01-10T17:16:15.262730Z"
    }
   },
   "outputs": [
    {
     "data": {
      "text/plain": [
       "(34727, 7)"
      ]
     },
     "execution_count": 53,
     "metadata": {},
     "output_type": "execute_result"
    }
   ],
   "source": [
    "aria_sensori_zone__day_zona_tipo[~aria_sensori_zone__day_zona_tipo['Valore_MEAN_day_zona_tipo'].isna()].shape#[['NomeTipoSensore']].value_counts()"
   ]
  },
  {
   "cell_type": "markdown",
   "id": "e3f86e88",
   "metadata": {},
   "source": [
    "Controllo il numero di righe per osservazioni per ogni coppia `zona` - `NomeTipoSensore` (con il dataset aggiornato dovrebbe risultare per tutte le coppie 365gg x 2 + 1gg(bisestile) = 731gg)"
   ]
  },
  {
   "cell_type": "code",
   "execution_count": 81,
   "id": "714ddbfb",
   "metadata": {
    "ExecuteTime": {
     "end_time": "2022-01-10T17:41:21.346729Z",
     "start_time": "2022-01-10T17:41:21.312760Z"
    },
    "scrolled": false
   },
   "outputs": [
    {
     "data": {
      "text/html": [
       "<div>\n",
       "<style scoped>\n",
       "    .dataframe tbody tr th:only-of-type {\n",
       "        vertical-align: middle;\n",
       "    }\n",
       "\n",
       "    .dataframe tbody tr th {\n",
       "        vertical-align: top;\n",
       "    }\n",
       "\n",
       "    .dataframe thead th {\n",
       "        text-align: right;\n",
       "    }\n",
       "</style>\n",
       "<table border=\"1\" class=\"dataframe\">\n",
       "  <thead>\n",
       "    <tr style=\"text-align: right;\">\n",
       "      <th></th>\n",
       "      <th></th>\n",
       "      <th>Valore_MEAN_day_zona_tipo</th>\n",
       "    </tr>\n",
       "    <tr>\n",
       "      <th>Zona</th>\n",
       "      <th>NomeTipoSensore</th>\n",
       "      <th></th>\n",
       "    </tr>\n",
       "  </thead>\n",
       "  <tbody>\n",
       "    <tr>\n",
       "      <th rowspan=\"8\" valign=\"top\">A</th>\n",
       "      <th>Benzene</th>\n",
       "      <td>726</td>\n",
       "    </tr>\n",
       "    <tr>\n",
       "      <th>Biossido di Azoto</th>\n",
       "      <td>727</td>\n",
       "    </tr>\n",
       "    <tr>\n",
       "      <th>Biossido di Zolfo</th>\n",
       "      <td>727</td>\n",
       "    </tr>\n",
       "    <tr>\n",
       "      <th>Monossido di Carbonio</th>\n",
       "      <td>726</td>\n",
       "    </tr>\n",
       "    <tr>\n",
       "      <th>Ossidi di Azoto</th>\n",
       "      <td>727</td>\n",
       "    </tr>\n",
       "    <tr>\n",
       "      <th>Ozono</th>\n",
       "      <td>727</td>\n",
       "    </tr>\n",
       "    <tr>\n",
       "      <th>PM10 (SM2005)</th>\n",
       "      <td>726</td>\n",
       "    </tr>\n",
       "    <tr>\n",
       "      <th>Particelle sospese PM2.5</th>\n",
       "      <td>727</td>\n",
       "    </tr>\n",
       "    <tr>\n",
       "      <th rowspan=\"8\" valign=\"top\">AGG BG</th>\n",
       "      <th>Benzene</th>\n",
       "      <td>716</td>\n",
       "    </tr>\n",
       "    <tr>\n",
       "      <th>Biossido di Azoto</th>\n",
       "      <td>725</td>\n",
       "    </tr>\n",
       "    <tr>\n",
       "      <th>Biossido di Zolfo</th>\n",
       "      <td>725</td>\n",
       "    </tr>\n",
       "    <tr>\n",
       "      <th>Monossido di Carbonio</th>\n",
       "      <td>725</td>\n",
       "    </tr>\n",
       "    <tr>\n",
       "      <th>Ossidi di Azoto</th>\n",
       "      <td>725</td>\n",
       "    </tr>\n",
       "    <tr>\n",
       "      <th>Ozono</th>\n",
       "      <td>725</td>\n",
       "    </tr>\n",
       "    <tr>\n",
       "      <th>PM10 (SM2005)</th>\n",
       "      <td>725</td>\n",
       "    </tr>\n",
       "    <tr>\n",
       "      <th>Particelle sospese PM2.5</th>\n",
       "      <td>722</td>\n",
       "    </tr>\n",
       "    <tr>\n",
       "      <th rowspan=\"8\" valign=\"top\">AGG BS</th>\n",
       "      <th>Benzene</th>\n",
       "      <td>712</td>\n",
       "    </tr>\n",
       "    <tr>\n",
       "      <th>Biossido di Azoto</th>\n",
       "      <td>723</td>\n",
       "    </tr>\n",
       "    <tr>\n",
       "      <th>Biossido di Zolfo</th>\n",
       "      <td>645</td>\n",
       "    </tr>\n",
       "    <tr>\n",
       "      <th>Monossido di Carbonio</th>\n",
       "      <td>723</td>\n",
       "    </tr>\n",
       "    <tr>\n",
       "      <th>Ossidi di Azoto</th>\n",
       "      <td>723</td>\n",
       "    </tr>\n",
       "    <tr>\n",
       "      <th>Ozono</th>\n",
       "      <td>722</td>\n",
       "    </tr>\n",
       "    <tr>\n",
       "      <th>PM10 (SM2005)</th>\n",
       "      <td>726</td>\n",
       "    </tr>\n",
       "    <tr>\n",
       "      <th>Particelle sospese PM2.5</th>\n",
       "      <td>725</td>\n",
       "    </tr>\n",
       "    <tr>\n",
       "      <th rowspan=\"8\" valign=\"top\">AGG MI</th>\n",
       "      <th>Benzene</th>\n",
       "      <td>724</td>\n",
       "    </tr>\n",
       "    <tr>\n",
       "      <th>Biossido di Azoto</th>\n",
       "      <td>726</td>\n",
       "    </tr>\n",
       "    <tr>\n",
       "      <th>Biossido di Zolfo</th>\n",
       "      <td>725</td>\n",
       "    </tr>\n",
       "    <tr>\n",
       "      <th>Monossido di Carbonio</th>\n",
       "      <td>726</td>\n",
       "    </tr>\n",
       "    <tr>\n",
       "      <th>Ossidi di Azoto</th>\n",
       "      <td>726</td>\n",
       "    </tr>\n",
       "    <tr>\n",
       "      <th>Ozono</th>\n",
       "      <td>726</td>\n",
       "    </tr>\n",
       "    <tr>\n",
       "      <th>PM10 (SM2005)</th>\n",
       "      <td>726</td>\n",
       "    </tr>\n",
       "    <tr>\n",
       "      <th>Particelle sospese PM2.5</th>\n",
       "      <td>724</td>\n",
       "    </tr>\n",
       "    <tr>\n",
       "      <th rowspan=\"8\" valign=\"top\">B</th>\n",
       "      <th>Benzene</th>\n",
       "      <td>725</td>\n",
       "    </tr>\n",
       "    <tr>\n",
       "      <th>Biossido di Azoto</th>\n",
       "      <td>727</td>\n",
       "    </tr>\n",
       "    <tr>\n",
       "      <th>Biossido di Zolfo</th>\n",
       "      <td>727</td>\n",
       "    </tr>\n",
       "    <tr>\n",
       "      <th>Monossido di Carbonio</th>\n",
       "      <td>727</td>\n",
       "    </tr>\n",
       "    <tr>\n",
       "      <th>Ossidi di Azoto</th>\n",
       "      <td>727</td>\n",
       "    </tr>\n",
       "    <tr>\n",
       "      <th>Ozono</th>\n",
       "      <td>727</td>\n",
       "    </tr>\n",
       "    <tr>\n",
       "      <th>PM10 (SM2005)</th>\n",
       "      <td>727</td>\n",
       "    </tr>\n",
       "    <tr>\n",
       "      <th>Particelle sospese PM2.5</th>\n",
       "      <td>727</td>\n",
       "    </tr>\n",
       "    <tr>\n",
       "      <th rowspan=\"8\" valign=\"top\">C</th>\n",
       "      <th>Benzene</th>\n",
       "      <td>724</td>\n",
       "    </tr>\n",
       "    <tr>\n",
       "      <th>Biossido di Azoto</th>\n",
       "      <td>727</td>\n",
       "    </tr>\n",
       "    <tr>\n",
       "      <th>Biossido di Zolfo</th>\n",
       "      <td>726</td>\n",
       "    </tr>\n",
       "    <tr>\n",
       "      <th>Monossido di Carbonio</th>\n",
       "      <td>725</td>\n",
       "    </tr>\n",
       "    <tr>\n",
       "      <th>Ossidi di Azoto</th>\n",
       "      <td>727</td>\n",
       "    </tr>\n",
       "    <tr>\n",
       "      <th>Ozono</th>\n",
       "      <td>727</td>\n",
       "    </tr>\n",
       "    <tr>\n",
       "      <th>PM10 (SM2005)</th>\n",
       "      <td>727</td>\n",
       "    </tr>\n",
       "    <tr>\n",
       "      <th>Particelle sospese PM2.5</th>\n",
       "      <td>727</td>\n",
       "    </tr>\n",
       "  </tbody>\n",
       "</table>\n",
       "</div>"
      ],
      "text/plain": [
       "                                 Valore_MEAN_day_zona_tipo\n",
       "Zona   NomeTipoSensore                                    \n",
       "A      Benzene                                         726\n",
       "       Biossido di Azoto                               727\n",
       "       Biossido di Zolfo                               727\n",
       "       Monossido di Carbonio                           726\n",
       "       Ossidi di Azoto                                 727\n",
       "       Ozono                                           727\n",
       "       PM10 (SM2005)                                   726\n",
       "       Particelle sospese PM2.5                        727\n",
       "AGG BG Benzene                                         716\n",
       "       Biossido di Azoto                               725\n",
       "       Biossido di Zolfo                               725\n",
       "       Monossido di Carbonio                           725\n",
       "       Ossidi di Azoto                                 725\n",
       "       Ozono                                           725\n",
       "       PM10 (SM2005)                                   725\n",
       "       Particelle sospese PM2.5                        722\n",
       "AGG BS Benzene                                         712\n",
       "       Biossido di Azoto                               723\n",
       "       Biossido di Zolfo                               645\n",
       "       Monossido di Carbonio                           723\n",
       "       Ossidi di Azoto                                 723\n",
       "       Ozono                                           722\n",
       "       PM10 (SM2005)                                   726\n",
       "       Particelle sospese PM2.5                        725\n",
       "AGG MI Benzene                                         724\n",
       "       Biossido di Azoto                               726\n",
       "       Biossido di Zolfo                               725\n",
       "       Monossido di Carbonio                           726\n",
       "       Ossidi di Azoto                                 726\n",
       "       Ozono                                           726\n",
       "       PM10 (SM2005)                                   726\n",
       "       Particelle sospese PM2.5                        724\n",
       "B      Benzene                                         725\n",
       "       Biossido di Azoto                               727\n",
       "       Biossido di Zolfo                               727\n",
       "       Monossido di Carbonio                           727\n",
       "       Ossidi di Azoto                                 727\n",
       "       Ozono                                           727\n",
       "       PM10 (SM2005)                                   727\n",
       "       Particelle sospese PM2.5                        727\n",
       "C      Benzene                                         724\n",
       "       Biossido di Azoto                               727\n",
       "       Biossido di Zolfo                               726\n",
       "       Monossido di Carbonio                           725\n",
       "       Ossidi di Azoto                                 727\n",
       "       Ozono                                           727\n",
       "       PM10 (SM2005)                                   727\n",
       "       Particelle sospese PM2.5                        727"
      ]
     },
     "execution_count": 81,
     "metadata": {},
     "output_type": "execute_result"
    }
   ],
   "source": [
    "aa = aria_sensori_zone__day_zona_tipo[~aria_sensori_zone__day_zona_tipo['Valore_MEAN_day_zona_tipo'].isna()].groupby(['Zona', 'NomeTipoSensore'])[['Valore_MEAN_day_zona_tipo']].count()\n",
    "aa"
   ]
  },
  {
   "cell_type": "code",
   "execution_count": 83,
   "id": "1b46a16b",
   "metadata": {
    "ExecuteTime": {
     "end_time": "2022-01-10T17:41:47.487996Z",
     "start_time": "2022-01-10T17:41:47.182965Z"
    }
   },
   "outputs": [
    {
     "data": {
      "text/plain": [
       "<AxesSubplot:xlabel='NomeTipoSensore', ylabel='Zona'>"
      ]
     },
     "execution_count": 83,
     "metadata": {},
     "output_type": "execute_result"
    },
    {
     "data": {
      "image/png": "[encoded data removed]",
      "text/plain": [
       "<Figure size 432x288 with 2 Axes>"
      ]
     },
     "metadata": {
      "needs_background": "light"
     },
     "output_type": "display_data"
    }
   ],
   "source": [
    "import seaborn\n",
    "aa.reset_index(inplace = True)\n",
    "aa = aa.pivot('Zona', 'NomeTipoSensore', 'Valore_MEAN_day_zona_tipo')\n",
    "seaborn.heatmap(aa)"
   ]
  },
  {
   "cell_type": "markdown",
   "id": "ffc4c79c",
   "metadata": {},
   "source": [
    "## Esporto il dataframe"
   ]
  },
  {
   "cell_type": "code",
   "execution_count": 49,
   "id": "8bc9a28e",
   "metadata": {
    "ExecuteTime": {
     "end_time": "2022-01-10T17:10:14.337117Z",
     "start_time": "2022-01-10T17:10:14.323121Z"
    }
   },
   "outputs": [],
   "source": [
    "#aria_sensori_zone__day_zona_tipo.to_csv('aria_sensori_zone__day_zona_tipo.csv')"
   ]
  }
 ],
 "metadata": {
  "kernelspec": {
   "display_name": "Python 3",
   "language": "python",
   "name": "python3"
  },
  "language_info": {
   "codemirror_mode": {
    "name": "ipython",
    "version": 3
   },
   "file_extension": ".py",
   "mimetype": "text/x-python",
   "name": "python",
   "nbconvert_exporter": "python",
   "pygments_lexer": "ipython3",
   "version": "3.8.8"
  }
 },
 "nbformat": 4,
 "nbformat_minor": 5
}
