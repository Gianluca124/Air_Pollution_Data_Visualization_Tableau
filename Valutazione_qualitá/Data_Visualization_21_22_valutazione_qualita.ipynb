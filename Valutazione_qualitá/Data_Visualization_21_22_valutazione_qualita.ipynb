{
 "cells": [
  {
   "cell_type": "code",
   "execution_count": 77,
   "id": "88b854fe",
   "metadata": {},
   "outputs": [],
   "source": [
    "import pandas as pd\n",
    "import seaborn as sns\n",
    "import matplotlib as plm\n",
    "import matplotlib.pyplot as plt\n",
    "import matplotlib.patches as mpatches"
   ]
  },
  {
   "cell_type": "markdown",
   "id": "b7715c97",
   "metadata": {},
   "source": [
    "## Questionario psicometrico"
   ]
  },
  {
   "cell_type": "code",
   "execution_count": 23,
   "id": "ead7631d",
   "metadata": {},
   "outputs": [],
   "source": [
    "ris_questionario_dataviz = pd.read_csv('ris_questionario_dataviz.csv')"
   ]
  },
  {
   "cell_type": "code",
   "execution_count": 24,
   "id": "9c4aa38e",
   "metadata": {},
   "outputs": [
    {
     "data": {
      "text/html": [
       "<div>\n",
       "<style scoped>\n",
       "    .dataframe tbody tr th:only-of-type {\n",
       "        vertical-align: middle;\n",
       "    }\n",
       "\n",
       "    .dataframe tbody tr th {\n",
       "        vertical-align: top;\n",
       "    }\n",
       "\n",
       "    .dataframe thead th {\n",
       "        text-align: right;\n",
       "    }\n",
       "</style>\n",
       "<table border=\"1\" class=\"dataframe\">\n",
       "  <thead>\n",
       "    <tr style=\"text-align: right;\">\n",
       "      <th></th>\n",
       "      <th>Data</th>\n",
       "      <th>Utilita</th>\n",
       "      <th>Chiarezza</th>\n",
       "      <th>Informativita</th>\n",
       "      <th>Bellezza</th>\n",
       "      <th>Qualita_complessiva</th>\n",
       "      <th>Note</th>\n",
       "    </tr>\n",
       "  </thead>\n",
       "  <tbody>\n",
       "    <tr>\n",
       "      <th>0</th>\n",
       "      <td>2022/01/29 5:56:16 PM CET</td>\n",
       "      <td>1</td>\n",
       "      <td>4</td>\n",
       "      <td>3</td>\n",
       "      <td>5</td>\n",
       "      <td>2</td>\n",
       "      <td>scsdc</td>\n",
       "    </tr>\n",
       "    <tr>\n",
       "      <th>1</th>\n",
       "      <td>2022/01/29 5:56:40 PM CET</td>\n",
       "      <td>2</td>\n",
       "      <td>6</td>\n",
       "      <td>4</td>\n",
       "      <td>5</td>\n",
       "      <td>5</td>\n",
       "      <td>cccc</td>\n",
       "    </tr>\n",
       "  </tbody>\n",
       "</table>\n",
       "</div>"
      ],
      "text/plain": [
       "                        Data  Utilita  Chiarezza  Informativita  Bellezza  \\\n",
       "0  2022/01/29 5:56:16 PM CET        1          4              3         5   \n",
       "1  2022/01/29 5:56:40 PM CET        2          6              4         5   \n",
       "\n",
       "   Qualita_complessiva   Note  \n",
       "0                    2  scsdc  \n",
       "1                    5   cccc  "
      ]
     },
     "execution_count": 24,
     "metadata": {},
     "output_type": "execute_result"
    }
   ],
   "source": [
    "ris_questionario_dataviz.columns = ['Data', 'Utilita', 'Chiarezza', 'Informativita', 'Bellezza', 'Qualita_complessiva', 'Note']\n",
    "ris_questionario_dataviz"
   ]
  },
  {
   "cell_type": "code",
   "execution_count": 27,
   "id": "287804af",
   "metadata": {
    "scrolled": true
   },
   "outputs": [
    {
     "data": {
      "text/html": [
       "<div>\n",
       "<style scoped>\n",
       "    .dataframe tbody tr th:only-of-type {\n",
       "        vertical-align: middle;\n",
       "    }\n",
       "\n",
       "    .dataframe tbody tr th {\n",
       "        vertical-align: top;\n",
       "    }\n",
       "\n",
       "    .dataframe thead th {\n",
       "        text-align: right;\n",
       "    }\n",
       "</style>\n",
       "<table border=\"1\" class=\"dataframe\">\n",
       "  <thead>\n",
       "    <tr style=\"text-align: right;\">\n",
       "      <th></th>\n",
       "      <th>Data</th>\n",
       "      <th>Note</th>\n",
       "      <th>Aggettivo</th>\n",
       "      <th>Voto</th>\n",
       "    </tr>\n",
       "  </thead>\n",
       "  <tbody>\n",
       "    <tr>\n",
       "      <th>6</th>\n",
       "      <td>2022/01/29 5:56:16 PM CET</td>\n",
       "      <td>scsdc</td>\n",
       "      <td>Bellezza</td>\n",
       "      <td>5</td>\n",
       "    </tr>\n",
       "    <tr>\n",
       "      <th>7</th>\n",
       "      <td>2022/01/29 5:56:40 PM CET</td>\n",
       "      <td>cccc</td>\n",
       "      <td>Bellezza</td>\n",
       "      <td>5</td>\n",
       "    </tr>\n",
       "    <tr>\n",
       "      <th>2</th>\n",
       "      <td>2022/01/29 5:56:16 PM CET</td>\n",
       "      <td>scsdc</td>\n",
       "      <td>Chiarezza</td>\n",
       "      <td>4</td>\n",
       "    </tr>\n",
       "    <tr>\n",
       "      <th>3</th>\n",
       "      <td>2022/01/29 5:56:40 PM CET</td>\n",
       "      <td>cccc</td>\n",
       "      <td>Chiarezza</td>\n",
       "      <td>6</td>\n",
       "    </tr>\n",
       "    <tr>\n",
       "      <th>4</th>\n",
       "      <td>2022/01/29 5:56:16 PM CET</td>\n",
       "      <td>scsdc</td>\n",
       "      <td>Informativita</td>\n",
       "      <td>3</td>\n",
       "    </tr>\n",
       "    <tr>\n",
       "      <th>5</th>\n",
       "      <td>2022/01/29 5:56:40 PM CET</td>\n",
       "      <td>cccc</td>\n",
       "      <td>Informativita</td>\n",
       "      <td>4</td>\n",
       "    </tr>\n",
       "    <tr>\n",
       "      <th>8</th>\n",
       "      <td>2022/01/29 5:56:16 PM CET</td>\n",
       "      <td>scsdc</td>\n",
       "      <td>Qualita_complessiva</td>\n",
       "      <td>2</td>\n",
       "    </tr>\n",
       "    <tr>\n",
       "      <th>9</th>\n",
       "      <td>2022/01/29 5:56:40 PM CET</td>\n",
       "      <td>cccc</td>\n",
       "      <td>Qualita_complessiva</td>\n",
       "      <td>5</td>\n",
       "    </tr>\n",
       "    <tr>\n",
       "      <th>0</th>\n",
       "      <td>2022/01/29 5:56:16 PM CET</td>\n",
       "      <td>scsdc</td>\n",
       "      <td>Utilita</td>\n",
       "      <td>1</td>\n",
       "    </tr>\n",
       "    <tr>\n",
       "      <th>1</th>\n",
       "      <td>2022/01/29 5:56:40 PM CET</td>\n",
       "      <td>cccc</td>\n",
       "      <td>Utilita</td>\n",
       "      <td>2</td>\n",
       "    </tr>\n",
       "  </tbody>\n",
       "</table>\n",
       "</div>"
      ],
      "text/plain": [
       "                        Data   Note            Aggettivo  Voto\n",
       "6  2022/01/29 5:56:16 PM CET  scsdc             Bellezza     5\n",
       "7  2022/01/29 5:56:40 PM CET   cccc             Bellezza     5\n",
       "2  2022/01/29 5:56:16 PM CET  scsdc            Chiarezza     4\n",
       "3  2022/01/29 5:56:40 PM CET   cccc            Chiarezza     6\n",
       "4  2022/01/29 5:56:16 PM CET  scsdc        Informativita     3\n",
       "5  2022/01/29 5:56:40 PM CET   cccc        Informativita     4\n",
       "8  2022/01/29 5:56:16 PM CET  scsdc  Qualita_complessiva     2\n",
       "9  2022/01/29 5:56:40 PM CET   cccc  Qualita_complessiva     5\n",
       "0  2022/01/29 5:56:16 PM CET  scsdc              Utilita     1\n",
       "1  2022/01/29 5:56:40 PM CET   cccc              Utilita     2"
      ]
     },
     "execution_count": 27,
     "metadata": {},
     "output_type": "execute_result"
    }
   ],
   "source": [
    "ris_melt = ris_questionario_dataviz.melt(id_vars=['Data', 'Note'], var_name=\"Aggettivo\", value_name=\"Voto\").sort_values('Aggettivo')\n",
    "ris_melt"
   ]
  },
  {
   "cell_type": "markdown",
   "id": "6763f1da",
   "metadata": {},
   "source": [
    "### Stacked bar chart"
   ]
  },
  {
   "cell_type": "code",
   "execution_count": 129,
   "id": "0a4cabca",
   "metadata": {},
   "outputs": [
    {
     "data": {
      "text/html": [
       "<div>\n",
       "<style scoped>\n",
       "    .dataframe tbody tr th:only-of-type {\n",
       "        vertical-align: middle;\n",
       "    }\n",
       "\n",
       "    .dataframe tbody tr th {\n",
       "        vertical-align: top;\n",
       "    }\n",
       "\n",
       "    .dataframe thead th {\n",
       "        text-align: right;\n",
       "    }\n",
       "</style>\n",
       "<table border=\"1\" class=\"dataframe\">\n",
       "  <thead>\n",
       "    <tr style=\"text-align: right;\">\n",
       "      <th></th>\n",
       "      <th>Aggettivo</th>\n",
       "      <th>Voti 0-3</th>\n",
       "      <th>Voti 4-6</th>\n",
       "      <th>Max</th>\n",
       "    </tr>\n",
       "  </thead>\n",
       "  <tbody>\n",
       "    <tr>\n",
       "      <th>0</th>\n",
       "      <td>Bellezza</td>\n",
       "      <td>0</td>\n",
       "      <td>100</td>\n",
       "      <td>100</td>\n",
       "    </tr>\n",
       "    <tr>\n",
       "      <th>1</th>\n",
       "      <td>Chiarezza</td>\n",
       "      <td>0</td>\n",
       "      <td>100</td>\n",
       "      <td>100</td>\n",
       "    </tr>\n",
       "    <tr>\n",
       "      <th>2</th>\n",
       "      <td>Informativita</td>\n",
       "      <td>50</td>\n",
       "      <td>50</td>\n",
       "      <td>100</td>\n",
       "    </tr>\n",
       "    <tr>\n",
       "      <th>3</th>\n",
       "      <td>Qualita_complessiva</td>\n",
       "      <td>50</td>\n",
       "      <td>50</td>\n",
       "      <td>100</td>\n",
       "    </tr>\n",
       "    <tr>\n",
       "      <th>4</th>\n",
       "      <td>Utilita</td>\n",
       "      <td>100</td>\n",
       "      <td>0</td>\n",
       "      <td>100</td>\n",
       "    </tr>\n",
       "  </tbody>\n",
       "</table>\n",
       "</div>"
      ],
      "text/plain": [
       "             Aggettivo  Voti 0-3  Voti 4-6  Max\n",
       "0             Bellezza         0       100  100\n",
       "1            Chiarezza         0       100  100\n",
       "2        Informativita        50        50  100\n",
       "3  Qualita_complessiva        50        50  100\n",
       "4              Utilita       100         0  100"
      ]
     },
     "execution_count": 129,
     "metadata": {},
     "output_type": "execute_result"
    }
   ],
   "source": [
    "percent_2_gruppi = ris_melt.groupby('Aggettivo')['Voto'].agg([lambda x: int(sum(x<=3)/len(x)*100), lambda x: int(sum(x>3)/len(x)*100), lambda x: 100]).reset_index()\n",
    "percent_2_gruppi.columns = ['Aggettivo', 'Voti 0-3', 'Voti 4-6', 'Max']\n",
    "#percent_2_gruppi.drop('Count', axis = 1, inplace = True)\n",
    "percent_2_gruppi"
   ]
  },
  {
   "cell_type": "code",
   "execution_count": 134,
   "id": "1166bb37",
   "metadata": {},
   "outputs": [
    {
     "data": {
      "text/plain": [
       "<AxesSubplot:xlabel='Aggettivo'>"
      ]
     },
     "execution_count": 134,
     "metadata": {},
     "output_type": "execute_result"
    },
    {
     "data": {
      "image/png": "[encoded data removed]",
      "text/plain": [
       "<Figure size 432x288 with 1 Axes>"
      ]
     },
     "metadata": {},
     "output_type": "display_data"
    }
   ],
   "source": [
    "percent_2_gruppi[['Aggettivo', 'Voti 0-3', 'Voti 4-6']].plot(kind='bar', stacked=True, x = 'Aggettivo', color=['red', 'skyblue'])"
   ]
  },
  {
   "cell_type": "code",
   "execution_count": 144,
   "id": "7e517005",
   "metadata": {},
   "outputs": [
    {
     "data": {
      "image/png": "[encoded data removed]",
      "text/plain": [
       "<Figure size 432x288 with 1 Axes>"
      ]
     },
     "metadata": {},
     "output_type": "display_data"
    }
   ],
   "source": [
    "bar1 = sns.barplot(x=\"Max\", y=\"Aggettivo\", data=percent_2_gruppi, color='red')\n",
    "bar2 = sns.barplot(x=\"Voti 4-6\",  y=\"Aggettivo\", data=percent_2_gruppi, color='skyblue', ci = 90)"
   ]
  },
  {
   "cell_type": "code",
   "execution_count": 147,
   "id": "9a79e449",
   "metadata": {},
   "outputs": [
    {
     "data": {
      "image/png": "[encoded data removed]",
      "text/plain": [
       "<Figure size 432x288 with 1 Axes>"
      ]
     },
     "metadata": {},
     "output_type": "display_data"
    }
   ],
   "source": [
    "ax = sns.barplot(x=\"Voto\", y=\"Aggettivo\", data=ris_melt, ci=95, capsize=.2, color='lightblue')"
   ]
  },
  {
   "cell_type": "markdown",
   "id": "881c7c5f",
   "metadata": {},
   "source": [
    "### Grafico correlazioni"
   ]
  },
  {
   "cell_type": "code",
   "execution_count": null,
   "id": "f7d0c441",
   "metadata": {},
   "outputs": [],
   "source": []
  },
  {
   "cell_type": "markdown",
   "id": "a4ca913e",
   "metadata": {},
   "source": [
    "### Violin plot o Farfalla"
   ]
  },
  {
   "cell_type": "code",
   "execution_count": 31,
   "id": "9cd1f9cc",
   "metadata": {},
   "outputs": [
    {
     "data": {
      "text/plain": [
       "<AxesSubplot:xlabel='Aggettivo', ylabel='Voto'>"
      ]
     },
     "execution_count": 31,
     "metadata": {},
     "output_type": "execute_result"
    },
    {
     "data": {
      "image/png": "[encoded data removed]",
      "text/plain": [
       "<Figure size 432x288 with 1 Axes>"
      ]
     },
     "metadata": {
      "needs_background": "light"
     },
     "output_type": "display_data"
    }
   ],
   "source": [
    "sns.violinplot(data=ris_melt, x='Aggettivo', y='Voto')"
   ]
  },
  {
   "cell_type": "code",
   "execution_count": 63,
   "id": "02159a79",
   "metadata": {},
   "outputs": [
    {
     "data": {
      "text/plain": [
       "[Text(0, 0, 'Utile'),\n",
       " Text(1, 0, 'Chiara'),\n",
       " Text(2, 0, 'Informativa'),\n",
       " Text(3, 0, 'Bella'),\n",
       " Text(4, 0, 'Qualitá complessiva')]"
      ]
     },
     "execution_count": 63,
     "metadata": {},
     "output_type": "execute_result"
    },
    {
     "data": {
      "image/png": "[encoded data removed]",
      "text/plain": [
       "<Figure size 408x360 with 1 Axes>"
      ]
     },
     "metadata": {},
     "output_type": "display_data"
    }
   ],
   "source": [
    "sns.set_style('white')\n",
    "\n",
    "#Setting parametri utili\n",
    "my_dpi = 300\n",
    "fig, ax = plt.subplots(figsize= (1700/my_dpi, 1500/my_dpi))\n",
    "fig.patch.set_facecolor('#fbf9f4')\n",
    "ax.set_facecolor('#fbf9f4')\n",
    "color_scale = [\"#7570B3\", \"#7570B3\", \"#7570B3\", \"#7570B3\", \"#7570B3\", \"#7570B3\", \"#7570B3\"]\n",
    "linee_orizzontali = list(range(0, 7, 1))\n",
    "    \n",
    "BOX_PROPS = {\n",
    "    'boxprops':{'facecolor':'none', 'edgecolor':'#747473', 'zorder': 2, 'linewidth': 1.5},\n",
    "    'whiskerprops':{'color':'#747473', 'linewidth':1.5, 'zorder':1},\n",
    "    'medianprops':{'linewidth':'3', 'color':'#747473', 'solid_capstyle':'butt'},\n",
    "    'meanprops':{\"marker\":\"o\",\"markerfacecolor\":\"#850e00\", \"markeredgecolor\":\"#850e00\", 'zorder':3}\n",
    "}\n",
    "\n",
    "#Creazione violin plots\n",
    "sns.violinplot(data=ris_melt, x='Aggettivo', y='Voto',\n",
    "                    order=['Utilita', 'Chiarezza', 'Informativita', 'Bellezza', 'Qualita_complessiva'], \\\n",
    "                    linewidth=1, \\\n",
    "                    inner = None, \\\n",
    "                    color = '#fbf9f4', \\\n",
    "                    scale = 'area', \\\n",
    "                    cut = 0, \\\n",
    "                    alpha = 1, \\\n",
    "                    zorder = 0,\\\n",
    "                    ax = ax)\n",
    " \n",
    "#Sovrapposizione box plots\n",
    "sns.boxplot(data=ris_melt, x='Aggettivo', y='Voto', \\\n",
    "            order=['Utilita', 'Chiarezza', 'Informativita', 'Bellezza', 'Qualita_complessiva'], \\\n",
    "            width = 0.1, \\\n",
    "            showcaps = False,\\\n",
    "            ax = ax,\\\n",
    "            #showmeans = True, \\\n",
    "            **BOX_PROPS\\\n",
    "           )\n",
    "\n",
    "#Sovrapposizione strip plots, con colore dei punti dipendente dal valore di umidità media\n",
    "stripplot = sns.stripplot(data=ris_melt, x='Aggettivo', y='Voto',\n",
    "                      order=['Utilita', 'Chiarezza', 'Informativita', 'Bellezza', 'Qualita_complessiva'], \\\n",
    "                      palette = \"viridis_r\", \\\n",
    "                      edgecolor = \"k\", \\\n",
    "                      jitter = 0.16, \\\n",
    "                      alpha = 0.25, \\\n",
    "                      linewidth = 0.4, \\\n",
    "                      s = 4,\n",
    "                      zorder = 1,\n",
    "                      ax = ax)\n",
    "\n",
    "#Disegno delle linee in background \n",
    "for h in linee_orizzontali:\n",
    "    if h == 50:\n",
    "        ax.axhline(50, color='k', ls=(0, (5, 5)), alpha=0.5, zorder=6, lw = 1)\n",
    "    else:\n",
    "        ax.axhline(h, color='#7F7F7F', ls=(0, (5, 5)), alpha=0.2, zorder=5, lw = 1)\n",
    "        \n",
    "#Contorno grafico\n",
    "ax.spines[\"right\"].set_color(\"none\")\n",
    "ax.spines[\"top\"].set_color(\"none\")\n",
    "ax.spines[\"left\"].set_color('#b4aea9')\n",
    "ax.spines[\"left\"].set_linewidth(2)\n",
    "ax.spines[\"bottom\"].set_color('#b4aea9')\n",
    "ax.spines[\"bottom\"].set_linewidth(2)\n",
    "\n",
    "#Personalizzazione degli assi (nomi e ticks)\n",
    "ax.tick_params(length=0)\n",
    "ax.set_ylim(0,6)\n",
    "ax.set_yticks(linee_orizzontali)\n",
    "ax.set_yticklabels(linee_orizzontali, size=8)\n",
    "y_label = \"Voto\"\n",
    "ax.set_ylabel(y_label, size=10, weight=\"bold\")\n",
    "ax.set_xlabel(\"Aggettivi\", size=10, weight=\"bold\", labelpad = 5)\n",
    "xlabels = ['Utile', 'Chiara', 'Informativa', 'Bella','Qualitá complessiva']\n",
    "ax.set_xticklabels(xlabels, size=8, ha=\"center\", ma=\"center\")"
   ]
  },
  {
   "cell_type": "code",
   "execution_count": null,
   "id": "90a32aa2",
   "metadata": {},
   "outputs": [],
   "source": []
  }
 ],
 "metadata": {
  "kernelspec": {
   "display_name": "Python 3 (ipykernel)",
   "language": "python",
   "name": "python3"
  },
  "language_info": {
   "codemirror_mode": {
    "name": "ipython",
    "version": 3
   },
   "file_extension": ".py",
   "mimetype": "text/x-python",
   "name": "python",
   "nbconvert_exporter": "python",
   "pygments_lexer": "ipython3",
   "version": "3.9.7"
  }
 },
 "nbformat": 4,
 "nbformat_minor": 5
}
