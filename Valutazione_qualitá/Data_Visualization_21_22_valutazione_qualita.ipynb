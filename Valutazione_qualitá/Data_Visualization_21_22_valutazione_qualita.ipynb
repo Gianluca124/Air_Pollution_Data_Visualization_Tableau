{
 "cells": [
  {
   "cell_type": "code",
   "execution_count": 7,
   "id": "88b854fe",
   "metadata": {},
   "outputs": [],
   "source": [
    "import pandas as pd\n",
    "import numpy as np\n",
    "import seaborn as sns\n",
    "import matplotlib as plm\n",
    "import matplotlib.pyplot as plt"
   ]
  },
  {
   "cell_type": "markdown",
   "id": "b30ae064",
   "metadata": {},
   "source": [
    "# User Test"
   ]
  },
  {
   "cell_type": "markdown",
   "id": "4b211954",
   "metadata": {},
   "source": [
    "## Violin plot tempi esecuzione"
   ]
  },
  {
   "cell_type": "code",
   "execution_count": 8,
   "id": "b229ce3d",
   "metadata": {},
   "outputs": [
    {
     "data": {
      "text/html": [
       "<div>\n",
       "<style scoped>\n",
       "    .dataframe tbody tr th:only-of-type {\n",
       "        vertical-align: middle;\n",
       "    }\n",
       "\n",
       "    .dataframe tbody tr th {\n",
       "        vertical-align: top;\n",
       "    }\n",
       "\n",
       "    .dataframe thead th {\n",
       "        text-align: right;\n",
       "    }\n",
       "</style>\n",
       "<table border=\"1\" class=\"dataframe\">\n",
       "  <thead>\n",
       "    <tr style=\"text-align: right;\">\n",
       "      <th></th>\n",
       "      <th>Domanda</th>\n",
       "      <th>Tempo_esecuzione(s)</th>\n",
       "      <th>Esito</th>\n",
       "      <th>Note</th>\n",
       "    </tr>\n",
       "  </thead>\n",
       "  <tbody>\n",
       "    <tr>\n",
       "      <th>0</th>\n",
       "      <td>1</td>\n",
       "      <td>177</td>\n",
       "      <td>1</td>\n",
       "      <td>NaN</td>\n",
       "    </tr>\n",
       "    <tr>\n",
       "      <th>1</th>\n",
       "      <td>2</td>\n",
       "      <td>60</td>\n",
       "      <td>1</td>\n",
       "      <td>NaN</td>\n",
       "    </tr>\n",
       "    <tr>\n",
       "      <th>2</th>\n",
       "      <td>1</td>\n",
       "      <td>190</td>\n",
       "      <td>1</td>\n",
       "      <td>NaN</td>\n",
       "    </tr>\n",
       "    <tr>\n",
       "      <th>3</th>\n",
       "      <td>2</td>\n",
       "      <td>26</td>\n",
       "      <td>1</td>\n",
       "      <td>NaN</td>\n",
       "    </tr>\n",
       "    <tr>\n",
       "      <th>4</th>\n",
       "      <td>1</td>\n",
       "      <td>166</td>\n",
       "      <td>1</td>\n",
       "      <td>NaN</td>\n",
       "    </tr>\n",
       "  </tbody>\n",
       "</table>\n",
       "</div>"
      ],
      "text/plain": [
       "   Domanda  Tempo_esecuzione(s)  Esito  Note\n",
       "0        1                  177      1   NaN\n",
       "1        2                   60      1   NaN\n",
       "2        1                  190      1   NaN\n",
       "3        2                   26      1   NaN\n",
       "4        1                  166      1   NaN"
      ]
     },
     "execution_count": 8,
     "metadata": {},
     "output_type": "execute_result"
    }
   ],
   "source": [
    "ris_user_test = pd.read_csv('ris_user_test.csv')\n",
    "ris_user_test.head()"
   ]
  },
  {
   "cell_type": "code",
   "execution_count": 9,
   "id": "016e8a5c",
   "metadata": {},
   "outputs": [],
   "source": [
    "domanda_1 = ris_user_test[ris_user_test['Domanda'] == 1]\n",
    "domanda_2 = ris_user_test[ris_user_test['Domanda'] == 2]"
   ]
  },
  {
   "cell_type": "markdown",
   "id": "f0d5d976",
   "metadata": {},
   "source": [
    "### Primo task"
   ]
  },
  {
   "cell_type": "code",
   "execution_count": 10,
   "id": "346fb902",
   "metadata": {},
   "outputs": [],
   "source": [
    "nostri_tempi_1 = [177,140,201,195,170,178, 140,151,170,145,165,180]"
   ]
  },
  {
   "cell_type": "code",
   "execution_count": 11,
   "id": "4e30a576",
   "metadata": {},
   "outputs": [
    {
     "name": "stdout",
     "output_type": "stream",
     "text": [
      "167.66666666666666\n",
      "19.46078678322699\n",
      "188.23076923076923\n",
      "18.03587451200622\n"
     ]
    },
    {
     "data": {
      "image/png": "[encoded data removed]",
      "text/plain": [
       "<Figure size 252x288 with 1 Axes>"
      ]
     },
     "metadata": {},
     "output_type": "display_data"
    }
   ],
   "source": [
    "sns.set_style('ticks')\n",
    "\n",
    "fig, ax = plt.subplots()\n",
    "fig.set_figheight(4)\n",
    "fig.set_figwidth(3.5)\n",
    "\n",
    "sns.violinplot(data=domanda_1, y='Tempo_esecuzione(s)',\\\n",
    "                   #width = 1, \\\n",
    "                    linewidth=1.5, \\\n",
    "                    color = '#c3e7cf', \\\n",
    "                    #cut = 0, \\\n",
    "                    alpha = 0.4, \\\n",
    "                    ax = ax)\n",
    "\n",
    "\n",
    "#Sovrapposizione strip plots, con colore dei punti dipendente dal valore di umidità media\n",
    "stripplot = sns.stripplot(data=domanda_1, y='Tempo_esecuzione(s)',\\\n",
    "                      color = \"#275379\", \\\n",
    "                      alpha = 0.4, \\\n",
    "                      linewidth = 0.4, \\\n",
    "                      s = 6,\n",
    "                      zorder = 1,\n",
    "                      ax = ax)\n",
    "\n",
    "#Personalizzazione degli assi (nomi e ticks)\n",
    "ax.tick_params(length=0)\n",
    "ax.set_ylim(0,300)\n",
    "y_label = \"Tempo di esecuzione (s)\"\n",
    "ax.set_ylabel(y_label, size=11, weight=\"bold\")\n",
    "\n",
    "#Inserimento del titolo\n",
    "titolo = \"Distribuzione dei tempi di risposta rispetto\\nal \\\"valore ottimale\\\" del primo task\\n(13 utenti)\"\n",
    "fig.suptitle(\n",
    "    titolo,\n",
    "    x = 0,\n",
    "    y = 1,\n",
    "    ha=\"left\",\n",
    "    fontsize=12,\n",
    "    weight=\"bold\",\n",
    "    wrap = True\n",
    ")\n",
    "\n",
    "# linea e banda riferimento (tempi giusti)\n",
    "media = np.mean(nostri_tempi_1)\n",
    "std = np.std(nostri_tempi_1)\n",
    "ax.axhline(media, lw = 2, color='#275379', ls = '--')\n",
    "ax.axhline(media, lw = std*2, alpha = 0.2, color = '#fffb96')\n",
    "\n",
    "fig.savefig(\"ut_violin_primo.png\", dpi=150, bbox_inches='tight')\n",
    "\n",
    "print(media)\n",
    "print(std)\n",
    "\n",
    "z=1.96\n",
    "print(np.mean(domanda_1['Tempo_esecuzione(s)']))\n",
    "print(z*np.std(domanda_1['Tempo_esecuzione(s)'])/(len(domanda_1))**(1/2))"
   ]
  },
  {
   "cell_type": "markdown",
   "id": "33638d47",
   "metadata": {},
   "source": [
    "### Secondo task"
   ]
  },
  {
   "cell_type": "code",
   "execution_count": 12,
   "id": "25f58a88",
   "metadata": {},
   "outputs": [],
   "source": [
    "nostri_tempi_2 = [18,20,50,23,29,13,22,30,42,23,19,70]"
   ]
  },
  {
   "cell_type": "code",
   "execution_count": 13,
   "id": "987722a8",
   "metadata": {},
   "outputs": [
    {
     "name": "stdout",
     "output_type": "stream",
     "text": [
      "29.916666666666668\n",
      "15.708057026747628\n",
      "59.0\n",
      "27.107452369496055\n"
     ]
    },
    {
     "data": {
      "image/png": "[encoded data removed]",
      "text/plain": [
       "<Figure size 252x288 with 1 Axes>"
      ]
     },
     "metadata": {},
     "output_type": "display_data"
    }
   ],
   "source": [
    "sns.set_style('ticks')\n",
    "\n",
    "fig, ax = plt.subplots()\n",
    "fig.set_figheight(4)\n",
    "fig.set_figwidth(3.5)\n",
    "\n",
    "sns.violinplot(data=domanda_2, y='Tempo_esecuzione(s)',\\\n",
    "                   #width = 1, \\\n",
    "                    linewidth=1.5, \\\n",
    "                    color = '#c3e7cf', \\\n",
    "                    #cut = 0, \\\n",
    "                    alpha = 0.4, \\\n",
    "                    ax = ax)\n",
    "\n",
    "\n",
    "#Sovrapposizione strip plots, con colore dei punti dipendente dal valore di umidità media\n",
    "stripplot = sns.stripplot(data=domanda_2, y='Tempo_esecuzione(s)',\\\n",
    "                      color = \"#275379\", \\\n",
    "                      alpha = 0.4, \\\n",
    "                      linewidth = 0.4, \\\n",
    "                      s = 6,\n",
    "                      zorder = 1,\n",
    "                      ax = ax)\n",
    "\n",
    "#Personalizzazione degli assi (nomi e ticks)\n",
    "ax.tick_params(length=0)\n",
    "ax.set_ylim(0,200)\n",
    "y_label = \"Tempo di esecuzione (s)\"\n",
    "ax.set_ylabel(y_label, size=11, weight=\"bold\")\n",
    "\n",
    "#Inserimento del titolo\n",
    "titolo = \"Distribuzione dei tempi di risposta rispetto\\nal \\\"valore ottimale\\\" del secondo task\\n(13 utenti)\"\n",
    "fig.suptitle(\n",
    "    titolo,\n",
    "    x = 0,\n",
    "    y = 1,\n",
    "    ha=\"left\",\n",
    "    fontsize=12,\n",
    "    weight=\"bold\",\n",
    "    wrap = True\n",
    ")\n",
    "\n",
    "# linea e banda riferimento (tempi giusti)\n",
    "media = np.mean(nostri_tempi_2)\n",
    "std = np.std(nostri_tempi_2)\n",
    "ax.axhline(media, lw = 2, color='#275379', ls = '--')\n",
    "ax.axhline(media, lw = std*2, alpha = 0.2, color = '#fffb96')\n",
    "\n",
    "fig.savefig(\"ut_violin_secondo.png\", dpi=150, bbox_inches='tight')\n",
    "\n",
    "print(media)\n",
    "print(std)\n",
    "\n",
    "z=1.96\n",
    "print(np.mean(domanda_2['Tempo_esecuzione(s)']))\n",
    "print(z*np.std(domanda_2['Tempo_esecuzione(s)'])/(len(domanda_1))**(1/2))"
   ]
  },
  {
   "cell_type": "markdown",
   "id": "feac6eb1",
   "metadata": {},
   "source": [
    "## Stacked bar chart esito"
   ]
  },
  {
   "cell_type": "code",
   "execution_count": 14,
   "id": "709fc000",
   "metadata": {},
   "outputs": [
    {
     "data": {
      "text/html": [
       "<div>\n",
       "<style scoped>\n",
       "    .dataframe tbody tr th:only-of-type {\n",
       "        vertical-align: middle;\n",
       "    }\n",
       "\n",
       "    .dataframe tbody tr th {\n",
       "        vertical-align: top;\n",
       "    }\n",
       "\n",
       "    .dataframe thead th {\n",
       "        text-align: right;\n",
       "    }\n",
       "</style>\n",
       "<table border=\"1\" class=\"dataframe\">\n",
       "  <thead>\n",
       "    <tr style=\"text-align: right;\">\n",
       "      <th></th>\n",
       "      <th>Domanda</th>\n",
       "      <th>Esito positivo</th>\n",
       "      <th>Esito negativo</th>\n",
       "      <th>IC</th>\n",
       "    </tr>\n",
       "  </thead>\n",
       "  <tbody>\n",
       "    <tr>\n",
       "      <th>0</th>\n",
       "      <td>1</td>\n",
       "      <td>100</td>\n",
       "      <td>0</td>\n",
       "      <td>0.0</td>\n",
       "    </tr>\n",
       "    <tr>\n",
       "      <th>1</th>\n",
       "      <td>2</td>\n",
       "      <td>100</td>\n",
       "      <td>0</td>\n",
       "      <td>0.0</td>\n",
       "    </tr>\n",
       "  </tbody>\n",
       "</table>\n",
       "</div>"
      ],
      "text/plain": [
       "   Domanda  Esito positivo  Esito negativo   IC\n",
       "0        1             100               0  0.0\n",
       "1        2             100               0  0.0"
      ]
     },
     "execution_count": 14,
     "metadata": {},
     "output_type": "execute_result"
    }
   ],
   "source": [
    "percent_domande = ris_user_test.groupby('Domanda')['Esito'].agg([lambda x: int(sum(x == 1)/len(x)*100), lambda x: int(sum(x==0)/len(x)*100), lambda x: z*(int(sum(x<=3)/len(x)*100) * int(sum(x>3)/len(x)*100) / len(x))**(1/2)]).reset_index()\n",
    "percent_domande.columns = ['Domanda', 'Esito positivo', 'Esito negativo', 'IC']\n",
    "percent_domande"
   ]
  },
  {
   "cell_type": "code",
   "execution_count": 15,
   "id": "540e014d",
   "metadata": {},
   "outputs": [],
   "source": [
    "percent_dom_1 = [percent_domande['Esito positivo'][0], percent_domande['Esito negativo'][0]]\n",
    "percent_dom_2 = [percent_domande['Esito positivo'][1], percent_domande['Esito negativo'][1]]"
   ]
  },
  {
   "cell_type": "markdown",
   "id": "9a09d5e0",
   "metadata": {},
   "source": [
    "### Primo task"
   ]
  },
  {
   "cell_type": "code",
   "execution_count": 16,
   "id": "c195e28e",
   "metadata": {},
   "outputs": [
    {
     "data": {
      "image/png": "[encoded data removed]",
      "text/plain": [
       "<Figure size 79.2x288 with 1 Axes>"
      ]
     },
     "metadata": {},
     "output_type": "display_data"
    }
   ],
   "source": [
    "sns.set_style('ticks')\n",
    "\n",
    "fig, ax = plt.subplots()\n",
    "fig.set_figheight(4)\n",
    "fig.set_figwidth(1.1)\n",
    "plt.ylim(0, 100)\n",
    "\n",
    "\n",
    "#Primo task\n",
    "ax.bar('Primo task',\\\n",
    "       percent_dom_1[0],\\\n",
    "       #width,\\\n",
    "       yerr=percent_domande['IC'][0],\\\n",
    "       color = '#005b96',\\\n",
    "       label='Positivo',\\\n",
    "      )\n",
    "ax.bar('Primo task',\\\n",
    "       percent_dom_1[1],\\\n",
    "       color = '#ff6f69',\\\n",
    "       bottom=percent_dom_1[0],\\\n",
    "       label='Negativo',\\\n",
    "      )\n",
    "\n",
    "#legenda e label\n",
    "ax.set_ylabel('Percentuale', size=12, weight=\"bold\")\n",
    "ax.legend(bbox_to_anchor=(1.02, 1), loc='upper left', borderaxespad=0)\n",
    "\n",
    "#sistemo assi\n",
    "ax.set(xticklabels=[])\n",
    "sns.despine()\n",
    "\n",
    "\n",
    "#Inserimento del titolo\n",
    "titolo = \"Esiti primo task\"\n",
    "fig.suptitle(\n",
    "    titolo,\n",
    "    x = -0.4,\n",
    "    y = 1,\n",
    "    ha=\"left\",\n",
    "    fontsize=12,\n",
    "    weight=\"bold\",\n",
    "    wrap = True\n",
    ")\n",
    "\n",
    "fig.savefig(\"ut_bar_primo.png\", dpi=150, bbox_inches='tight')"
   ]
  },
  {
   "cell_type": "markdown",
   "id": "3f313929",
   "metadata": {},
   "source": [
    "### Secondo task"
   ]
  },
  {
   "cell_type": "code",
   "execution_count": 17,
   "id": "6b8259aa",
   "metadata": {},
   "outputs": [
    {
     "data": {
      "image/png": "[encoded data removed]",
      "text/plain": [
       "<Figure size 79.2x288 with 1 Axes>"
      ]
     },
     "metadata": {},
     "output_type": "display_data"
    }
   ],
   "source": [
    "sns.set_style('ticks')\n",
    "\n",
    "fig, ax = plt.subplots()\n",
    "fig.set_figheight(4)\n",
    "fig.set_figwidth(1.1)\n",
    "plt.ylim(0, 100)\n",
    "\n",
    "\n",
    "#Primo task\n",
    "ax.bar('Primo task',\\\n",
    "       percent_dom_2[0],\\\n",
    "       #width,\\\n",
    "       yerr=percent_domande['IC'][1],\\\n",
    "       color = '#005b96',\\\n",
    "       label='Positivo',\\\n",
    "      )\n",
    "ax.bar('Primo task',\\\n",
    "       percent_dom_2[1],\\\n",
    "       color = '#ff6f69',\\\n",
    "       bottom=percent_dom_2[0],\\\n",
    "       label='Negativo',\\\n",
    "      )\n",
    "\n",
    "#legenda e label\n",
    "ax.set_ylabel('Percentuale', size=12, weight=\"bold\")\n",
    "ax.legend(bbox_to_anchor=(1.02, 1), loc='upper left', borderaxespad=0)\n",
    "\n",
    "#sistemo assi\n",
    "ax.set(xticklabels=[])\n",
    "sns.despine()\n",
    "\n",
    "\n",
    "#Inserimento del titolo\n",
    "titolo = \"Esiti Secondo task\"\n",
    "fig.suptitle(\n",
    "    titolo,\n",
    "    x = -0.4,\n",
    "    y = 1,\n",
    "    ha=\"left\",\n",
    "    fontsize=12,\n",
    "    weight=\"bold\",\n",
    "    wrap = True\n",
    ")\n",
    "\n",
    "fig.savefig(\"ut_bar_secondo.png\", dpi=150, bbox_inches='tight')"
   ]
  },
  {
   "cell_type": "markdown",
   "id": "b7715c97",
   "metadata": {},
   "source": [
    "## Questionario psicometrico"
   ]
  },
  {
   "cell_type": "code",
   "execution_count": 18,
   "id": "ead7631d",
   "metadata": {},
   "outputs": [],
   "source": [
    "ris_questionario_dataviz = pd.read_csv('ris_questionario_dataviz.csv')"
   ]
  },
  {
   "cell_type": "code",
   "execution_count": 19,
   "id": "9c4aa38e",
   "metadata": {},
   "outputs": [
    {
     "name": "stdout",
     "output_type": "stream",
     "text": [
      "(28, 7)\n"
     ]
    },
    {
     "data": {
      "text/html": [
       "<div>\n",
       "<style scoped>\n",
       "    .dataframe tbody tr th:only-of-type {\n",
       "        vertical-align: middle;\n",
       "    }\n",
       "\n",
       "    .dataframe tbody tr th {\n",
       "        vertical-align: top;\n",
       "    }\n",
       "\n",
       "    .dataframe thead th {\n",
       "        text-align: right;\n",
       "    }\n",
       "</style>\n",
       "<table border=\"1\" class=\"dataframe\">\n",
       "  <thead>\n",
       "    <tr style=\"text-align: right;\">\n",
       "      <th></th>\n",
       "      <th>Data</th>\n",
       "      <th>Utile</th>\n",
       "      <th>Chiara</th>\n",
       "      <th>Informativa</th>\n",
       "      <th>Bella</th>\n",
       "      <th>Valore complessivo</th>\n",
       "      <th>Note</th>\n",
       "    </tr>\n",
       "  </thead>\n",
       "  <tbody>\n",
       "    <tr>\n",
       "      <th>0</th>\n",
       "      <td>2022/01/30 2:14:06 PM CET</td>\n",
       "      <td>6</td>\n",
       "      <td>5</td>\n",
       "      <td>6</td>\n",
       "      <td>6</td>\n",
       "      <td>6</td>\n",
       "      <td>NaN</td>\n",
       "    </tr>\n",
       "    <tr>\n",
       "      <th>1</th>\n",
       "      <td>2022/01/30 3:36:58 PM CET</td>\n",
       "      <td>5</td>\n",
       "      <td>6</td>\n",
       "      <td>6</td>\n",
       "      <td>6</td>\n",
       "      <td>6</td>\n",
       "      <td>NaN</td>\n",
       "    </tr>\n",
       "    <tr>\n",
       "      <th>2</th>\n",
       "      <td>2022/01/30 4:48:08 PM CET</td>\n",
       "      <td>4</td>\n",
       "      <td>5</td>\n",
       "      <td>6</td>\n",
       "      <td>5</td>\n",
       "      <td>5</td>\n",
       "      <td>NaN</td>\n",
       "    </tr>\n",
       "    <tr>\n",
       "      <th>3</th>\n",
       "      <td>2022/01/30 5:00:49 PM CET</td>\n",
       "      <td>5</td>\n",
       "      <td>5</td>\n",
       "      <td>6</td>\n",
       "      <td>5</td>\n",
       "      <td>5</td>\n",
       "      <td>NaN</td>\n",
       "    </tr>\n",
       "    <tr>\n",
       "      <th>4</th>\n",
       "      <td>2022/01/30 6:05:22 PM CET</td>\n",
       "      <td>5</td>\n",
       "      <td>3</td>\n",
       "      <td>6</td>\n",
       "      <td>6</td>\n",
       "      <td>6</td>\n",
       "      <td>NaN</td>\n",
       "    </tr>\n",
       "  </tbody>\n",
       "</table>\n",
       "</div>"
      ],
      "text/plain": [
       "                        Data  Utile  Chiara  Informativa  Bella  \\\n",
       "0  2022/01/30 2:14:06 PM CET      6       5            6      6   \n",
       "1  2022/01/30 3:36:58 PM CET      5       6            6      6   \n",
       "2  2022/01/30 4:48:08 PM CET      4       5            6      5   \n",
       "3  2022/01/30 5:00:49 PM CET      5       5            6      5   \n",
       "4  2022/01/30 6:05:22 PM CET      5       3            6      6   \n",
       "\n",
       "   Valore complessivo Note  \n",
       "0                   6  NaN  \n",
       "1                   6  NaN  \n",
       "2                   5  NaN  \n",
       "3                   5  NaN  \n",
       "4                   6  NaN  "
      ]
     },
     "execution_count": 19,
     "metadata": {},
     "output_type": "execute_result"
    }
   ],
   "source": [
    "ris_questionario_dataviz.columns = ['Data', 'Utile', 'Chiara', 'Informativa', 'Bella', 'Valore complessivo', 'Note']\n",
    "print(ris_questionario_dataviz.shape)\n",
    "ris_questionario_dataviz.head()"
   ]
  },
  {
   "cell_type": "code",
   "execution_count": 20,
   "id": "287804af",
   "metadata": {
    "scrolled": false
   },
   "outputs": [
    {
     "data": {
      "text/html": [
       "<div>\n",
       "<style scoped>\n",
       "    .dataframe tbody tr th:only-of-type {\n",
       "        vertical-align: middle;\n",
       "    }\n",
       "\n",
       "    .dataframe tbody tr th {\n",
       "        vertical-align: top;\n",
       "    }\n",
       "\n",
       "    .dataframe thead th {\n",
       "        text-align: right;\n",
       "    }\n",
       "</style>\n",
       "<table border=\"1\" class=\"dataframe\">\n",
       "  <thead>\n",
       "    <tr style=\"text-align: right;\">\n",
       "      <th></th>\n",
       "      <th>Data</th>\n",
       "      <th>Note</th>\n",
       "      <th>Aggettivo</th>\n",
       "      <th>Voto</th>\n",
       "    </tr>\n",
       "  </thead>\n",
       "  <tbody>\n",
       "    <tr>\n",
       "      <th>84</th>\n",
       "      <td>2022/01/30 2:14:06 PM CET</td>\n",
       "      <td>NaN</td>\n",
       "      <td>Bella</td>\n",
       "      <td>6</td>\n",
       "    </tr>\n",
       "    <tr>\n",
       "      <th>85</th>\n",
       "      <td>2022/01/30 3:36:58 PM CET</td>\n",
       "      <td>NaN</td>\n",
       "      <td>Bella</td>\n",
       "      <td>6</td>\n",
       "    </tr>\n",
       "    <tr>\n",
       "      <th>86</th>\n",
       "      <td>2022/01/30 4:48:08 PM CET</td>\n",
       "      <td>NaN</td>\n",
       "      <td>Bella</td>\n",
       "      <td>5</td>\n",
       "    </tr>\n",
       "    <tr>\n",
       "      <th>87</th>\n",
       "      <td>2022/01/30 5:00:49 PM CET</td>\n",
       "      <td>NaN</td>\n",
       "      <td>Bella</td>\n",
       "      <td>5</td>\n",
       "    </tr>\n",
       "    <tr>\n",
       "      <th>88</th>\n",
       "      <td>2022/01/30 6:05:22 PM CET</td>\n",
       "      <td>NaN</td>\n",
       "      <td>Bella</td>\n",
       "      <td>6</td>\n",
       "    </tr>\n",
       "  </tbody>\n",
       "</table>\n",
       "</div>"
      ],
      "text/plain": [
       "                         Data Note Aggettivo  Voto\n",
       "84  2022/01/30 2:14:06 PM CET  NaN     Bella     6\n",
       "85  2022/01/30 3:36:58 PM CET  NaN     Bella     6\n",
       "86  2022/01/30 4:48:08 PM CET  NaN     Bella     5\n",
       "87  2022/01/30 5:00:49 PM CET  NaN     Bella     5\n",
       "88  2022/01/30 6:05:22 PM CET  NaN     Bella     6"
      ]
     },
     "execution_count": 20,
     "metadata": {},
     "output_type": "execute_result"
    }
   ],
   "source": [
    "ris_melt = ris_questionario_dataviz.melt(id_vars=['Data', 'Note'], var_name=\"Aggettivo\", value_name=\"Voto\").sort_values('Aggettivo')\n",
    "ris_melt.head()"
   ]
  },
  {
   "cell_type": "code",
   "execution_count": 21,
   "id": "8c74f3f8",
   "metadata": {},
   "outputs": [
    {
     "data": {
      "text/html": [
       "<div>\n",
       "<style scoped>\n",
       "    .dataframe tbody tr th:only-of-type {\n",
       "        vertical-align: middle;\n",
       "    }\n",
       "\n",
       "    .dataframe tbody tr th {\n",
       "        vertical-align: top;\n",
       "    }\n",
       "\n",
       "    .dataframe thead th {\n",
       "        text-align: right;\n",
       "    }\n",
       "</style>\n",
       "<table border=\"1\" class=\"dataframe\">\n",
       "  <thead>\n",
       "    <tr style=\"text-align: right;\">\n",
       "      <th></th>\n",
       "      <th>Aggettivo</th>\n",
       "      <th>Voti 1-3</th>\n",
       "      <th>Voti 4-6</th>\n",
       "      <th>IC</th>\n",
       "    </tr>\n",
       "  </thead>\n",
       "  <tbody>\n",
       "    <tr>\n",
       "      <th>0</th>\n",
       "      <td>Bella</td>\n",
       "      <td>0.000000</td>\n",
       "      <td>100.000000</td>\n",
       "      <td>0.00000</td>\n",
       "    </tr>\n",
       "    <tr>\n",
       "      <th>1</th>\n",
       "      <td>Chiara</td>\n",
       "      <td>7.142857</td>\n",
       "      <td>92.857143</td>\n",
       "      <td>9.39983</td>\n",
       "    </tr>\n",
       "    <tr>\n",
       "      <th>2</th>\n",
       "      <td>Informativa</td>\n",
       "      <td>0.000000</td>\n",
       "      <td>100.000000</td>\n",
       "      <td>0.00000</td>\n",
       "    </tr>\n",
       "    <tr>\n",
       "      <th>3</th>\n",
       "      <td>Utile</td>\n",
       "      <td>0.000000</td>\n",
       "      <td>100.000000</td>\n",
       "      <td>0.00000</td>\n",
       "    </tr>\n",
       "    <tr>\n",
       "      <th>4</th>\n",
       "      <td>Valore complessivo</td>\n",
       "      <td>0.000000</td>\n",
       "      <td>100.000000</td>\n",
       "      <td>0.00000</td>\n",
       "    </tr>\n",
       "  </tbody>\n",
       "</table>\n",
       "</div>"
      ],
      "text/plain": [
       "            Aggettivo  Voti 1-3    Voti 4-6       IC\n",
       "0               Bella  0.000000  100.000000  0.00000\n",
       "1              Chiara  7.142857   92.857143  9.39983\n",
       "2         Informativa  0.000000  100.000000  0.00000\n",
       "3               Utile  0.000000  100.000000  0.00000\n",
       "4  Valore complessivo  0.000000  100.000000  0.00000"
      ]
     },
     "execution_count": 21,
     "metadata": {},
     "output_type": "execute_result"
    }
   ],
   "source": [
    "#parmametro ic\n",
    "z = 1.96\n",
    "\n",
    "percent_2_gruppi = ris_melt.groupby('Aggettivo')['Voto'].agg([lambda x: sum(x<=3)/len(x)*100, lambda x: sum(x>3)/len(x)*100, lambda x: z*(int(sum(x<=3)/len(x)*100) * int(sum(x>3)/len(x)*100) / len(x))**(1/2)]).reset_index()\n",
    "percent_2_gruppi.columns = ['Aggettivo', 'Voti 1-3', 'Voti 4-6', 'IC']\n",
    "percent_2_gruppi"
   ]
  },
  {
   "cell_type": "markdown",
   "id": "6763f1da",
   "metadata": {},
   "source": [
    "### Stacked bar chart"
   ]
  },
  {
   "cell_type": "code",
   "execution_count": 22,
   "id": "12622b08",
   "metadata": {
    "scrolled": false
   },
   "outputs": [
    {
     "data": {
      "image/png": "[encoded data removed]",
      "text/plain": [
       "<Figure size 504x216 with 2 Axes>"
      ]
     },
     "metadata": {},
     "output_type": "display_data"
    }
   ],
   "source": [
    "sns.set_style('white')\n",
    "\n",
    "fig, ax = plt.subplots()\n",
    "fig.set_figheight(3)\n",
    "fig.set_figwidth(7)\n",
    "plt.ylim(0, 100)\n",
    "ax2 = ax.twinx()\n",
    "ax2.set_ylim(100, 0)\n",
    "\n",
    "ax.tick_params(axis='y', colors='#03396c')\n",
    "ax2.tick_params(axis='y', colors='#e5635e')\n",
    "\n",
    "\n",
    "#Bar plot\n",
    "ax.bar(percent_2_gruppi['Aggettivo'],\\\n",
    "       percent_2_gruppi['Voti 4-6'],\\\n",
    "       yerr=percent_2_gruppi['IC'],\\\n",
    "       width = 0.7,\\\n",
    "       color = '#005b96',\\\n",
    "       label='Voti 4-6',\\\n",
    "      )\n",
    "\n",
    "ax.bar(percent_2_gruppi['Aggettivo'],\\\n",
    "       percent_2_gruppi['Voti 1-3'],\\\n",
    "       width = 0.7,\\\n",
    "       color = '#ff6f69',\\\n",
    "       bottom=percent_2_gruppi['Voti 4-6'],\\\n",
    "       label='Voti 1-3',\\\n",
    "      )\n",
    "\n",
    "#legenda e label\n",
    "ax.set_ylabel('Percentuale', size=12, weight=\"bold\")\n",
    "ax.legend(bbox_to_anchor=(1.05, 1), loc='upper left', borderaxespad=0)\n",
    "\n",
    "#sistemo assi\n",
    "#sns.despine()\n",
    "\n",
    "\n",
    "#Inserimento del titolo\n",
    "titolo = \"Voti positivi vs voti negativi del sondaggio (28 questionari)\"\n",
    "fig.suptitle(\n",
    "    titolo,\n",
    "    x = 0.02,\n",
    "    y = 1,\n",
    "    ha=\"left\",\n",
    "    fontsize=12,\n",
    "    weight=\"bold\",\n",
    "    wrap = True\n",
    ")\n",
    "ax.axhline(50, lw = 1.3, color='k', ls = '--')\n",
    "\n",
    "fig.savefig(\"qp_barchart.png\", dpi=150, bbox_inches='tight')"
   ]
  },
  {
   "cell_type": "markdown",
   "id": "881c7c5f",
   "metadata": {},
   "source": [
    "### Grafico correlazioni"
   ]
  },
  {
   "cell_type": "code",
   "execution_count": 23,
   "id": "f671a2cb",
   "metadata": {},
   "outputs": [],
   "source": [
    "corr = ris_questionario_dataviz[['Utile', 'Chiara', 'Informativa', 'Bella', 'Valore complessivo']].corr()\n",
    "corr.columns = ['Utile', 'Chiara', 'Informativa', 'Bella', 'Valore\\ncomplessivo']\n",
    "corr.index = ['Utile', 'Chiara', 'Informativa', 'Bella', 'Valore\\ncomplessivo']"
   ]
  },
  {
   "cell_type": "code",
   "execution_count": 33,
   "id": "25a8c7f2",
   "metadata": {},
   "outputs": [
    {
     "data": {
      "image/png": "[encoded data removed]",
      "text/plain": [
       "<Figure size 432x324 with 2 Axes>"
      ]
     },
     "metadata": {},
     "output_type": "display_data"
    }
   ],
   "source": [
    "import numpy as np\n",
    "import textwrap\n",
    "\n",
    "fig, ax = plt.subplots()\n",
    "\n",
    "fig.set_figheight(4.5)\n",
    "sns.heatmap(corr,\\\n",
    "            square = True,\\\n",
    "            annot=True,\\\n",
    "            fmt='.1f',\\\n",
    "            #mask = np.triu(np.ones_like(corr, dtype=bool)),\\\n",
    "            cmap = sns.diverging_palette(230, 20, as_cmap=True),\\\n",
    "            ax = ax,\\\n",
    "            vmin = -1,\\\n",
    "            vmax = 1,\\\n",
    "           )\n",
    "\n",
    "plt.tick_params(axis='both', which='major', labelsize=10, labelbottom = False, bottom=False, top = False, labeltop=True)\n",
    "\n",
    "#Inserimento del titolo\n",
    "titolo = \"Correlazione tra i voti del questionario\\n(28 questionari complessivi)\"\n",
    "fig.suptitle(\n",
    "    titolo,\n",
    "    x = 0.04,\n",
    "    y = 1.05,\n",
    "    ha=\"left\",\n",
    "    fontsize=12,\n",
    "    weight=\"bold\",\n",
    "    wrap = True)\n",
    "\n",
    "plt.yticks(rotation=0)\n",
    "\n",
    "fig.savefig(\"qp_correlazioni.png\", dpi=150, bbox_inches='tight')"
   ]
  },
  {
   "cell_type": "markdown",
   "id": "a4ca913e",
   "metadata": {},
   "source": [
    "### Violin plot o Farfalla"
   ]
  },
  {
   "cell_type": "code",
   "execution_count": 38,
   "id": "9a79e449",
   "metadata": {
    "scrolled": true
   },
   "outputs": [
    {
     "data": {
      "image/png": "[encoded data removed]",
      "text/plain": [
       "<Figure size 504x216 with 1 Axes>"
      ]
     },
     "metadata": {},
     "output_type": "display_data"
    }
   ],
   "source": [
    "sns.set_style('whitegrid')\n",
    "\n",
    "fig, ax = plt.subplots()\n",
    "fig.set_figheight(3)\n",
    "fig.set_figwidth(7)\n",
    "\n",
    "sns.violinplot(data=ris_melt,\\\n",
    "                    y='Voto',\\\n",
    "                    x='Aggettivo',\\\n",
    "                    width = 1.2, \\\n",
    "                    #linewidth=1, \\\n",
    "                    color = '#c3e7cf', \\\n",
    "                    #cut = 0, \\\n",
    "                    alpha = 0.4,\\\n",
    "                    #order = ['Utile', 'Chiara', 'Informativa', 'Bella', 'Valore\\ncomplessivo'],\\\n",
    "                    ax = ax,\\\n",
    "             )\n",
    "\n",
    "\n",
    "#Sovrapposizione strip plots, con colore dei punti dipendente dal valore di umidità media\n",
    "stripplot = sns.stripplot(data=ris_melt,\\\n",
    "                      y='Voto',\\\n",
    "                      x='Aggettivo',\\\n",
    "                      color = \"#275379\", \\\n",
    "                      alpha = 0.3, \\\n",
    "                      linewidth = 0.4, \\\n",
    "                      s = 6,\n",
    "                      #order = ['Utile', 'Chiara', 'Informativa', 'Bella', 'Valore\\ncomplessivo'],\\\n",
    "                      ax = ax)\n",
    "\n",
    "#Personalizzazione degli assi (nomi e ticks)\n",
    "#ax.tick_params(length=0)\n",
    "ax.set_ylim(0.1,6.9)\n",
    "y_label = \"Valutazione [1-6]\"\n",
    "ax.set_ylabel(y_label, size=11, weight=\"bold\")\n",
    "ax.set(xlabel=None)\n",
    "#\n",
    "#Inserimento del titolo\n",
    "titolo = \"Distribuzione dei voti del questionario per ogni aggettivo (28 questionari)\"\n",
    "fig.suptitle(\n",
    "    titolo,\n",
    "    x = 0.07,\n",
    "    y = 1,\n",
    "    ha=\"left\",\n",
    "    fontsize=12,\n",
    "    weight=\"bold\",\n",
    "    wrap = True\n",
    ")\n",
    "\n",
    "fig.savefig(\"qp_violin.png\", dpi=150, bbox_inches='tight')"
   ]
  }
 ],
 "metadata": {
  "kernelspec": {
   "display_name": "Python 3 (ipykernel)",
   "language": "python",
   "name": "python3"
  },
  "language_info": {
   "codemirror_mode": {
    "name": "ipython",
    "version": 3
   },
   "file_extension": ".py",
   "mimetype": "text/x-python",
   "name": "python",
   "nbconvert_exporter": "python",
   "pygments_lexer": "ipython3",
   "version": "3.9.7"
  }
 },
 "nbformat": 4,
 "nbformat_minor": 5
}
